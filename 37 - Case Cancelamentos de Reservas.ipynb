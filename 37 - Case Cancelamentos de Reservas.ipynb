{
 "cells": [
  {
   "cell_type": "code",
   "execution_count": null,
   "metadata": {},
   "outputs": [],
   "source": [
    "import numpy as np\n",
    "import pandas as pd\n",
    "import seaborn as sns\n",
    "\n",
    "from sklearn.metrics import f1_score"
   ]
  },
  {
   "cell_type": "markdown",
   "metadata": {},
   "source": [
    "# Revisão de Métodos de Classificação"
   ]
  },
  {
   "cell_type": "code",
   "execution_count": null,
   "metadata": {},
   "outputs": [],
   "source": [
    "tb_hotel_train = pd.read_csv('data/tb_hotel_train_clean.csv')\n",
    "tb_hotel_test = pd.read_csv('data/tb_hotel_test_clean.csv')\n",
    "\n",
    "X_train = tb_hotel_train[['lead_time', 'adr']]\n",
    "y_train = tb_hotel_train['is_cancelled']\n",
    "\n",
    "X_test = tb_hotel_test[['lead_time', 'adr']]\n",
    "y_test = tb_hotel_test['is_cancelled']"
   ]
  },
  {
   "cell_type": "markdown",
   "metadata": {},
   "source": [
    "## kNN - Neareast Neighbors\n",
    "\n",
    "**Hiperparâmetros**\n",
    "\n",
    "1. `n_neighbors` - quanto maior, menor a complexidade\n",
    "1. `weights = \"distance\"`"
   ]
  },
  {
   "cell_type": "code",
   "execution_count": null,
   "metadata": {},
   "outputs": [],
   "source": [
    "from sklearn.neighbors import KNeighborsClassifier"
   ]
  },
  {
   "cell_type": "code",
   "execution_count": null,
   "metadata": {},
   "outputs": [],
   "source": [
    "knn_fit = KNeighborsClassifier(n_neighbors= 5)\n",
    "knn_fit.fit(X_train, y_train)"
   ]
  },
  {
   "cell_type": "code",
   "execution_count": null,
   "metadata": {},
   "outputs": [],
   "source": [
    "knn_pred = knn_fit.predict(X_test)\n",
    "knn_f1 = f1_score(y_test, knn_pred)\n",
    "print(f\"F1 kNN: {knn_f1}\")"
   ]
  },
  {
   "cell_type": "markdown",
   "metadata": {},
   "source": [
    "## Árvores de Decisão\n",
    "\n",
    "**Hiperparâmetros**\n",
    "\n",
    "1. `max_depth` - quanto maior, maior a complexidade\n",
    "1. `min_samples_split` - quanto maior, menor a complexidade\n",
    "1. `min_samples_leaf` - quanto maior, menor a complexidade"
   ]
  },
  {
   "cell_type": "code",
   "execution_count": null,
   "metadata": {},
   "outputs": [],
   "source": [
    "from sklearn.tree import DecisionTreeClassifier"
   ]
  },
  {
   "cell_type": "code",
   "execution_count": null,
   "metadata": {},
   "outputs": [],
   "source": [
    "dt_fit = DecisionTreeClassifier(max_depth = 50, min_samples_split=5000)\n",
    "dt_fit.fit(X_train, y_train)"
   ]
  },
  {
   "cell_type": "code",
   "execution_count": null,
   "metadata": {},
   "outputs": [],
   "source": [
    "dt_pred = dt_fit.predict(X_test)\n",
    "dt_f1 = f1_score(y_test, dt_pred)\n",
    "print(f\"F1 DT: {dt_f1}\")"
   ]
  },
  {
   "cell_type": "markdown",
   "metadata": {},
   "source": [
    "## Redes Neurais\n",
    "\n",
    "**Hiperparâmetros**\n",
    "\n",
    "1. `hidden_layer_size` - quanto maior, maior a complexidade"
   ]
  },
  {
   "cell_type": "code",
   "execution_count": null,
   "metadata": {},
   "outputs": [],
   "source": [
    "from sklearn.neural_network import MLPClassifier"
   ]
  },
  {
   "cell_type": "code",
   "execution_count": null,
   "metadata": {},
   "outputs": [],
   "source": [
    "nn_fit = MLPClassifier(hidden_layer_sizes=(10, 10), activation = 'relu')\n",
    "nn_fit.fit(X_train, y_train)"
   ]
  },
  {
   "cell_type": "code",
   "execution_count": null,
   "metadata": {},
   "outputs": [],
   "source": [
    "nn_pred = nn_fit.predict(X_test)\n",
    "nn_f1 = f1_score(y_test, nn_pred)\n",
    "print(f\"F1 NN: {nn_f1}\")"
   ]
  },
  {
   "cell_type": "markdown",
   "metadata": {},
   "source": [
    "## Floresta Aleatória\n",
    "\n",
    "**Hiperparâmetros**\n",
    "\n",
    "1. `n_estimators` - quanto maior, maior a complexidade\n",
    "1. `max_depth` - quanto maior, maior a complexidade"
   ]
  },
  {
   "cell_type": "code",
   "execution_count": null,
   "metadata": {},
   "outputs": [],
   "source": [
    "from sklearn.ensemble import RandomForestClassifier"
   ]
  },
  {
   "cell_type": "code",
   "execution_count": null,
   "metadata": {},
   "outputs": [],
   "source": [
    "rf_fit = RandomForestClassifier(n_estimators=100, max_depth=15)\n",
    "rf_fit.fit(X_train, y_train)"
   ]
  },
  {
   "cell_type": "code",
   "execution_count": null,
   "metadata": {},
   "outputs": [],
   "source": [
    "rf_pred = rf_fit.predict(X_test)\n",
    "rf_f1 = f1_score(y_test, rf_pred)\n",
    "print(f\"F1 RF: {rf_f1}\")"
   ]
  },
  {
   "cell_type": "markdown",
   "metadata": {},
   "source": [
    "## Boosting\n",
    "\n",
    "**Hiperparâmetros**\n",
    "\n",
    "1. `iterations` - quanto maior, maior a complexidade\n",
    "1. `depth` - quanto maior, maior a complexidade"
   ]
  },
  {
   "cell_type": "code",
   "execution_count": null,
   "metadata": {},
   "outputs": [],
   "source": [
    "from catboost import CatBoostClassifier\n"
   ]
  },
  {
   "cell_type": "code",
   "execution_count": null,
   "metadata": {},
   "outputs": [],
   "source": [
    "cat_fit = CatBoostClassifier(iterations = 1000, depth = 8)\n",
    "cat_fit.fit(X_train, y_train)"
   ]
  },
  {
   "cell_type": "code",
   "execution_count": null,
   "metadata": {},
   "outputs": [],
   "source": [
    "cat_pred = cat_fit.predict(X_test)\n",
    "cat_f1 = f1_score(y_test, cat_pred)\n",
    "print(f\"F1 RF: {cat_f1}\")"
   ]
  }
 ],
 "metadata": {
  "kernelspec": {
   "display_name": "Python 3.9.11 ('base')",
   "language": "python",
   "name": "python3"
  },
  "language_info": {
   "codemirror_mode": {
    "name": "ipython",
    "version": 3
   },
   "file_extension": ".py",
   "mimetype": "text/x-python",
   "name": "python",
   "nbconvert_exporter": "python",
   "pygments_lexer": "ipython3",
   "version": "3.9.11"
  },
  "orig_nbformat": 4,
  "vscode": {
   "interpreter": {
    "hash": "014f4a4a5af8f0104b12c029e500f4146d6d785e8cf714d2a35b7a9514230cd3"
   }
  }
 },
 "nbformat": 4,
 "nbformat_minor": 2
}
