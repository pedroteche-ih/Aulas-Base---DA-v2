{
 "cells": [
  {
   "cell_type": "markdown",
   "metadata": {},
   "source": [
    "# REGular EXpression - INTRO TO REGEX\n",
    "REGEX funcionam a partir do conceito de **padrões**: vamos utilizar os métodos para buscar ou alterar padrões em um string. Inicialmente esses **padrões** serão apenas strings - no entanto, mais a frente, veremos que podemos utilizar padrões *coringa*, permitindo buscas mais flexíveis."
   ]
  },
  {
   "cell_type": "code",
   "execution_count": 1,
   "metadata": {},
   "outputs": [],
   "source": [
    "# Importe a biblioteca!!\n",
    "import re"
   ]
  },
  {
   "cell_type": "markdown",
   "metadata": {},
   "source": [
    "1. `re.search`: Retorna o primeiro resultado do padrão no string;\n",
    "2. `re.findall`: Retorna todas as instâncias do padrão no string através de uma lista;\n",
    "3. `re.split`: Equivalente ao método `.split()`;\n",
    "4. `re.sub`: Substitui um padrão por outro em um string.\n",
    "\n",
    "Visualizando REGEXs: https://regexper.com/"
   ]
  },
  {
   "cell_type": "markdown",
   "metadata": {},
   "source": [
    "## Função .findall()\n",
    "A função `.findall()` busca todas as ocorrências de um padrão em um string, retornando cada *match* em uma lista."
   ]
  },
  {
   "cell_type": "code",
   "execution_count": 2,
   "metadata": {},
   "outputs": [
    {
     "data": {
      "text/plain": [
       "['vizinho']"
      ]
     },
     "execution_count": 2,
     "metadata": {},
     "output_type": "execute_result"
    }
   ],
   "source": [
    "text = 'Meu vizinho, o Sr. Pata, tem 5 cachorros.'\n",
    "pattern = 'vizinho'\n",
    "\n",
    "re.findall(pattern, text)"
   ]
  },
  {
   "cell_type": "code",
   "execution_count": 3,
   "metadata": {},
   "outputs": [
    {
     "data": {
      "text/plain": [
       "['viz']"
      ]
     },
     "execution_count": 3,
     "metadata": {},
     "output_type": "execute_result"
    }
   ],
   "source": [
    "text = 'Meu vizinho, o Sr. Pata, tem 5 cachorros.'\n",
    "pattern = 'viz'\n",
    "\n",
    "re.findall(pattern, text)"
   ]
  },
  {
   "cell_type": "code",
   "execution_count": 4,
   "metadata": {},
   "outputs": [
    {
     "data": {
      "text/plain": [
       "[]"
      ]
     },
     "execution_count": 4,
     "metadata": {},
     "output_type": "execute_result"
    }
   ],
   "source": [
    "text = 'Meu vizinho, o Sr. Pata, tem 5 cachorros e cada um tem 4 patas.'\n",
    "pattern_2 = 'VIZINHO'\n",
    "\n",
    "re.findall(pattern_2, text)"
   ]
  },
  {
   "cell_type": "code",
   "execution_count": 5,
   "metadata": {},
   "outputs": [
    {
     "data": {
      "text/plain": [
       "['e', 'e', 'e', 'e']"
      ]
     },
     "execution_count": 5,
     "metadata": {},
     "output_type": "execute_result"
    }
   ],
   "source": [
    "text = 'Meu vizinho, o Sr. Pata, tem 5 cachorros e cada um tem 4 patas.'\n",
    "pattern_3 = 'e'\n",
    "\n",
    "re.findall(pattern_3, text)"
   ]
  },
  {
   "cell_type": "markdown",
   "metadata": {},
   "source": [
    "### Exemplo Prático I\n",
    "Vamos utilizar REGEX para abordar o problema das colunas. Desta vez vamos extrair o nome de todas as colunas que pertençam a tabela T1 (`T1_`)"
   ]
  },
  {
   "cell_type": "code",
   "execution_count": 6,
   "metadata": {},
   "outputs": [],
   "source": [
    "# Extrair todas as colunas da T1\n",
    "lista_colunas = ['T1_id', 'T1_nome', 'T1_id_fatura', 'T1_cd_sku', 'T2_cd_promo', 'T3_qt_vendido', 'T4_vl_total', \n",
    "                 'T5_vl_custo', 'T1_tipo_frete', 'T1_rua', 'T1_num', 'T1_cep', 'T1_cidade', 'T1_uf',\n",
    "                 'T1_vl_frete', 'T2_tp_promo', 'T3_vl_promo', 'T4_vl_sv', 'T5_qt_doado']\n"
   ]
  },
  {
   "cell_type": "code",
   "execution_count": 7,
   "metadata": {},
   "outputs": [
    {
     "data": {
      "text/plain": [
       "['T1_', 'T1_', 'T1_', 'T1_', 'T1_', 'T1_', 'T1_', 'T1_', 'T1_', 'T1_', 'T1_']"
      ]
     },
     "execution_count": 7,
     "metadata": {},
     "output_type": "execute_result"
    }
   ],
   "source": [
    "re.findall('T1_', ' '.join(lista_colunas))"
   ]
  },
  {
   "cell_type": "code",
   "execution_count": 8,
   "metadata": {},
   "outputs": [
    {
     "name": "stdout",
     "output_type": "stream",
     "text": [
      "['T1_id', 'T1_nome', 'T1_id_fatura', 'T1_cd_sku', 'T1_tipo_frete', 'T1_rua', 'T1_num', 'T1_cep', 'T1_cidade', 'T1_uf', 'T1_vl_frete']\n"
     ]
    }
   ],
   "source": [
    "lista_t1 = []\n",
    "for coluna in lista_colunas:\n",
    "    pattern = 'T1_'\n",
    "    if re.findall(pattern, coluna):\n",
    "        lista_t1.append(coluna)\n",
    "        \n",
    "print(lista_t1)"
   ]
  },
  {
   "cell_type": "markdown",
   "metadata": {},
   "source": [
    "## Padrões Complexos\n",
    "A busca por padrões simples não é muito útil: resultados muito semelhatens podem ser alcançados utilizando apenas os métodos nativos de strings. O grande ganho ao utilizar REGEX é a utilização de padrões complexos.\n",
    "\n",
    "### Operador '|'\n",
    "O operador `|` (**ou**) nos permite buscar múltiplos padrões ao mesmo tempo."
   ]
  },
  {
   "cell_type": "code",
   "execution_count": 9,
   "metadata": {},
   "outputs": [
    {
     "data": {
      "text/plain": [
       "['cachorro', 'pata']"
      ]
     },
     "execution_count": 9,
     "metadata": {},
     "output_type": "execute_result"
    }
   ],
   "source": [
    "text = 'Meu vizinho, o Sr. Pata, tem 5 cachorros e cada um tem 4 patas.'\n",
    "pattern = 'cachorro|pata'\n",
    "\n",
    "re.findall(pattern, text)"
   ]
  },
  {
   "cell_type": "markdown",
   "metadata": {},
   "source": [
    "Vamos utilizar o padrão ou para contar o número de palavras que começam com os carácters `ca` ou `pa`, contando separadamente os `ca`s e `pa`s e também contando o total de palavras que começam com outros carácteres:"
   ]
  },
  {
   "cell_type": "code",
   "execution_count": 25,
   "metadata": {},
   "outputs": [
    {
     "name": "stdout",
     "output_type": "stream",
     "text": [
      "{'outros': 11, 'ca': 2, 'pa': 1}\n"
     ]
    }
   ],
   "source": [
    "lista_palavras = text.split()\n",
    "dict_contagem = dict()\n",
    "pattern = 'ca|pa'\n",
    "\n",
    "for palavra in lista_palavras:\n",
    "    silaba = re.findall(pattern, palavra)\n",
    "    if silaba:\n",
    "        if silaba[0] in dict_contagem.keys():\n",
    "            dict_contagem[silaba[0]] = dict_contagem[silaba[0]] + 1\n",
    "        else:\n",
    "            dict_contagem[silaba[0]] = 1\n",
    "    else:\n",
    "        if 'outros' in dict_contagem.keys():\n",
    "            dict_contagem['outros'] = dict_contagem['outros'] + 1\n",
    "        else:\n",
    "            dict_contagem['outros'] = 1\n",
    "\n",
    "print(dict_contagem)"
   ]
  },
  {
   "cell_type": "markdown",
   "metadata": {},
   "source": [
    "Vamos revisitar o exemplo das colunas, desta vez usando o operador '|' para selecionar todas as colunas com os substrings T1 ou T4:"
   ]
  },
  {
   "cell_type": "code",
   "execution_count": 13,
   "metadata": {},
   "outputs": [],
   "source": [
    "lista_colunas = ['T1_id', 'T1_nome', '       T1_id_fatura', 'T1_cd_sku', 'T2_cd_promo', 'T3_qt_vendido', 'T4_vl_total', \n",
    "                 'T5_vl_custo', 'T1_tipo_frete', 'T1_rua', '  T1_num', '    T1_cep', 'T1_cidade', 'T1_uf',\n",
    "                 'T1_vl_frete', '     T2_tp_promo4', '  T3_vl_promo1', 'T4_vl_sv', 'T5_qt_doado']"
   ]
  },
  {
   "cell_type": "code",
   "execution_count": 16,
   "metadata": {},
   "outputs": [
    {
     "name": "stdout",
     "output_type": "stream",
     "text": [
      "['T1_id', 'T1_nome', '       T1_id_fatura', 'T1_cd_sku', 'T4_vl_total', 'T1_tipo_frete', 'T1_rua', '  T1_num', '    T1_cep', 'T1_cidade', 'T1_uf', 'T1_vl_frete', 'T4_vl_sv']\n"
     ]
    }
   ],
   "source": [
    "pattern = 'T1|T4'\n",
    "colunas_final = []\n",
    "\n",
    "for coluna in lista_colunas:\n",
    "    if re.findall(pattern, coluna):\n",
    "        colunas_final.append(coluna)\n",
    "\n",
    "print(colunas_final)"
   ]
  },
  {
   "cell_type": "markdown",
   "metadata": {},
   "source": [
    "### Conjuntos\n",
    "O padrão **CONJUNTOS** nos permite encontrar **grupos de carácteres** e é construído através da notação `'[]'`. Por exemplo, o padrão `'[Aa]ula'` econtrará tanto a palavra `'Aula'` quanto a palavra `'aula'`. O **CONJUNTO** opera como um carácter: o REGEX irá buscar todos os carácteres dentro do conjunto, no exemplo acima *A* e *a*, na posição especifica do padrão (no exemplo, no primeiro caractér)."
   ]
  },
  {
   "cell_type": "code",
   "execution_count": 17,
   "metadata": {},
   "outputs": [
    {
     "data": {
      "text/plain": [
       "['Meu']"
      ]
     },
     "execution_count": 17,
     "metadata": {},
     "output_type": "execute_result"
    }
   ],
   "source": [
    "text = 'Meu vizinho, o Sr. Pata, tem 5 cachorros e cada um tem 4 patas.'\n",
    "pattern = '[Mm][Ee][Uu]'\n",
    "\n",
    "re.findall(pattern, text)"
   ]
  },
  {
   "cell_type": "code",
   "execution_count": 18,
   "metadata": {},
   "outputs": [
    {
     "data": {
      "text/plain": [
       "['Meu', 'mEU', 'MeU']"
      ]
     },
     "execution_count": 18,
     "metadata": {},
     "output_type": "execute_result"
    }
   ],
   "source": [
    "text = 'Meu mEU MeUDEOS'\n",
    "pattern = '[Mm][Ee][Uu]'\n",
    "\n",
    "re.findall(pattern, text)"
   ]
  },
  {
   "cell_type": "code",
   "execution_count": 19,
   "metadata": {},
   "outputs": [
    {
     "data": {
      "text/plain": [
       "['Pata', 'pata']"
      ]
     },
     "execution_count": 19,
     "metadata": {},
     "output_type": "execute_result"
    }
   ],
   "source": [
    "text = 'Meu vizinho, o Sr. Pata, tem 5 cachorros e cada um tem 4 patas.'\n",
    "pattern = '[Pp]ata'\n",
    "\n",
    "re.findall(pattern, text)"
   ]
  },
  {
   "cell_type": "code",
   "execution_count": null,
   "metadata": {},
   "outputs": [
    {
     "data": {
      "text/plain": [
       "['Pata', 'pata', 'pAta', 'fAta', 'fAca']"
      ]
     },
     "metadata": {},
     "output_type": "display_data"
    }
   ],
   "source": [
    "text = 'Patas pata pAta fAta fAca'\n",
    "pattern = '[pPasdfaaPPpa2][Aa][ct]a'\n",
    "\n",
    "re.findall(pattern, text)"
   ]
  },
  {
   "cell_type": "markdown",
   "metadata": {},
   "source": [
    "Além de utilizar **CONJUNTOS** podemos utilizar o operador `'|'` para encadear padrões (por exemplo, `'[Oo]deio|[Rr]egex'`), retornando todas as ocorrências tanto do primeiro quanto do segundo padrão (no exemplo acima, tanto os strings `Odeio` e `odeio` quanto os strings `Regex` e `regex`)."
   ]
  },
  {
   "cell_type": "code",
   "execution_count": 20,
   "metadata": {},
   "outputs": [
    {
     "data": {
      "text/plain": [
       "['Pata', 'cachorro', 'pata']"
      ]
     },
     "execution_count": 20,
     "metadata": {},
     "output_type": "execute_result"
    }
   ],
   "source": [
    "text = 'Meu vizinho, o Sr. Pata, tem 5 cachorros e cada um tem 4 patas.'\n",
    "pattern = '[Pp]ata|cachorro'\n",
    "re.findall(pattern, text)"
   ]
  },
  {
   "cell_type": "markdown",
   "metadata": {},
   "source": [
    "#### Desafio\n",
    "\n",
    "Vamos alterar nosso loop de contagem de caracteres iniciais para, ao invés de contar apenas `ca`s e `pa`s, contar as sequencias de todas as variações de maiúscula e minúscula desses dois carácteres (`Ca`, `CA`, `cA`, `ca`, etc...)"
   ]
  },
  {
   "cell_type": "code",
   "execution_count": 28,
   "metadata": {},
   "outputs": [],
   "source": [
    "text = 'Meu vizinho, o Sr. Pata, tem 5 cachorros e cada um tem 4 patas. Curiosamente, eles se chamam: CACHORRO, cachorro, cAchorro, pAta e PATA!'"
   ]
  },
  {
   "cell_type": "code",
   "execution_count": 29,
   "metadata": {},
   "outputs": [
    {
     "name": "stdout",
     "output_type": "stream",
     "text": [
      "{'outros': 15, 'Pa': 1, 'ca': 3, 'pa': 1, 'CA': 1, 'cA': 1, 'pA': 1, 'PA': 1}\n"
     ]
    }
   ],
   "source": [
    "lista_palavras = text.split()\n",
    "dict_contagem = dict()\n",
    "pattern = 'ca|pa'\n",
    "\n",
    "for palavra in lista_palavras:\n",
    "    silaba = re.findall(pattern, palavra)\n",
    "    if silaba:\n",
    "        if silaba[0] in dict_contagem.keys():\n",
    "            dict_contagem[silaba[0]] = dict_contagem[silaba[0]] + 1\n",
    "        else:\n",
    "            dict_contagem[silaba[0]] = 1\n",
    "    else:\n",
    "        if 'outros' in dict_contagem.keys():\n",
    "            dict_contagem['outros'] = dict_contagem['outros'] + 1\n",
    "        else:\n",
    "            dict_contagem['outros'] = 1\n",
    "\n",
    "print(dict_contagem)"
   ]
  },
  {
   "cell_type": "markdown",
   "metadata": {},
   "source": [
    "#### Conjuntos na prática\n",
    "Vamos voltar ao exemplo da lista de colunas, mas desta vez os nomes das tabelas podem vir tanto como maiúsculas (T1) quanto minúsculas (t1). Precisamos encontrar todas as colunas das tabelas T1 (t1) e T2 (t2). Quando os padrões que buscamos ficam mais complexos, fica clara a vantagem na utilização de um REGEX vs os métodos básicos de strings."
   ]
  },
  {
   "cell_type": "code",
   "execution_count": 21,
   "metadata": {},
   "outputs": [],
   "source": [
    "# Extrair todas as colunas da T1 ou da T2\n",
    "lista_colunas = ['T1_id', 't1_nome', 'T1_id_fatura', 't1_cd_sku', 'T2_cd_promo', 'T3_qt_vendido', 'T4_vl_total', \n",
    "                 'T5_vl_custo', 'T1_tipo_frete', 'T1_rua', 'T1_num', 'T1_cep', 'T1_cidade', 'T1_uf',\n",
    "                 'T1_vl_frete', 't2_tp_promo', 'T3_vl_promo', 'T4_vl_sv', 'T5_qt_doado']\n"
   ]
  },
  {
   "cell_type": "code",
   "execution_count": 22,
   "metadata": {},
   "outputs": [
    {
     "name": "stdout",
     "output_type": "stream",
     "text": [
      "['T1_id', 't1_nome', 'T1_id_fatura', 't1_cd_sku', 'T2_cd_promo', 'T1_tipo_frete', 'T1_rua', 'T1_num', 'T1_cep', 'T1_cidade', 'T1_uf', 'T1_vl_frete', 't2_tp_promo']\n"
     ]
    }
   ],
   "source": [
    "lista_colunas_T1T2 = []\n",
    "for coluna in lista_colunas:\n",
    "    if re.findall('[Tt][12]', coluna):\n",
    "        lista_colunas_T1T2.append(coluna)\n",
    "print(lista_colunas_T1T2)"
   ]
  },
  {
   "cell_type": "markdown",
   "metadata": {},
   "source": [
    "## Função .sub()\n",
    "\n",
    "Além de encontrar padrões, podemos realizar a substituição de padrões através da função `sub(\"PADRÃO_DE\", \"STRING_PARA\", \"STRING_ORIGINAL\")` com argumentos:\n",
    "\n",
    "- **PADRÃO_DE**: o padrão que vamos buscar;\n",
    "- **STRING_PARA**: o string pelo qual vamos substituir todo padrão encontrado;\n",
    "- **STRING_ORIGINAL**: o string no qual vamos fazer as substituições."
   ]
  },
  {
   "cell_type": "code",
   "execution_count": 23,
   "metadata": {},
   "outputs": [
    {
     "name": "stdout",
     "output_type": "stream",
     "text": [
      "Meu vizinho, o Sr. Pedro, tem 5 cachorros e cada um tem 4 Pedros.\n"
     ]
    }
   ],
   "source": [
    "text = 'Meu vizinho, o Sr. Pata, tem 5 cachorros e cada um tem 4 patas.'\n",
    "pattern = '[Pp]ata'\n",
    "nova_pattern = 'Pedro'\n",
    "print(re.sub(pattern, nova_pattern, text))"
   ]
  },
  {
   "cell_type": "markdown",
   "metadata": {},
   "source": [
    "Podemos utilizar a função `sub()` para fazer a limpeza de strings semi-estruturados, por exemplo, nossa lista de colunas!"
   ]
  },
  {
   "cell_type": "code",
   "execution_count": null,
   "metadata": {},
   "outputs": [],
   "source": [
    "lista_colunas = ['T1_id', 't1_nome', 'T1_id_fatura', 't1_cd_sku', 'T2_cd_promo', 'T3_qt_vendido', 'T4_vl_total', \n",
    "                 'T5_vl_custo', 'T1_tipo_frete', 'T1_rua', 'T1_num', 'T1_cep', 'T1_cidade', 'T1_uf',\n",
    "                 'T1_vl_frete', 't2_tp_promo', 'T3_vl_promo', 'T4_vl_sv', 'T5_qt_doado']"
   ]
  },
  {
   "cell_type": "code",
   "execution_count": 30,
   "metadata": {},
   "outputs": [
    {
     "name": "stdout",
     "output_type": "stream",
     "text": [
      "['id', 'nome', 'id_fatura', 'cd_sku', 'cd_promo', 'qt_vendido', 'vl_total', 'vl_custo', 'tipo_frete', 'rua', 'num', 'cep', 'cidade', 'uf', 'vl_frete', 'tp_promo', 'vl_promo', 'vl_sv', 'qt_doado']\n"
     ]
    }
   ],
   "source": [
    "lista_colunas_limpa = []\n",
    "pattern = '[Tt][123456789]_'\n",
    "new_pattern = ''\n",
    "for coluna in lista_colunas:\n",
    "    lista_colunas_limpa.append(re.sub(pattern, new_pattern, coluna))\n",
    "print(lista_colunas_limpa)"
   ]
  },
  {
   "cell_type": "markdown",
   "metadata": {},
   "source": [
    "## Conjuntos Especiais\n",
    "Como vimos no exemplo anterior, é comum utilizar grupos mais ou menos bem definidos de carácters - todas as letras ou todos os números, por exemplo. REGEX nos dá uma série de atalhos para construir conjuntos complexos sem precisarmos especificar diretamente cada elemento do conjunto.\n",
    "\n",
    "1. `[a-z]`: Qualquer letra minúsculas;\n",
    "1. `[A-Z]`: Qualquer letra maiúsculas;\n",
    "1. `[0-9]`: Qualquer digito entre 0 e 9;\n",
    "1. `[A-Za-z]`: Todas as letras;\n",
    "1. `[À-ž]`: Todos os diacriticos (letras com acentos)."
   ]
  },
  {
   "cell_type": "code",
   "execution_count": null,
   "metadata": {},
   "outputs": [
    {
     "data": {
      "text/plain": [
       "['Meu', 'viz', 'inh', 'Pat', 'tem', 'cac', 'hor', 'ros', 'cad', 'tem', 'pat']"
      ]
     },
     "metadata": {},
     "output_type": "display_data"
    }
   ],
   "source": [
    "text = 'Meu vizinho, o Sr. Pata, tem 5 cachorros e cada um tem 4 patas.'\n",
    "pattern = r'[A-Za-z][A-Za-z][A-Za-z]'\n",
    "re.findall(pattern, text)"
   ]
  },
  {
   "cell_type": "code",
   "execution_count": null,
   "metadata": {},
   "outputs": [
    {
     "data": {
      "text/plain": [
       "['cães']"
      ]
     },
     "metadata": {},
     "output_type": "display_data"
    }
   ],
   "source": [
    "text = 'Meu vizinho, o Sr. Pata, tem 5 cães e cada um tem 4 patas.'\n",
    "pattern = 'c[A-Za-zÀ-ž]es'\n",
    "\n",
    "re.findall(pattern, text)"
   ]
  },
  {
   "cell_type": "markdown",
   "metadata": {},
   "source": [
    ". `^` is equivalent to NOT"
   ]
  },
  {
   "cell_type": "code",
   "execution_count": null,
   "metadata": {},
   "outputs": [
    {
     "data": {
      "text/plain": [
       "[' ',\n",
       " ',',\n",
       " ' ',\n",
       " ' ',\n",
       " '.',\n",
       " ' ',\n",
       " ',',\n",
       " ' ',\n",
       " ' ',\n",
       " ' ',\n",
       " ' ',\n",
       " ' ',\n",
       " ' ',\n",
       " ' ',\n",
       " ' ',\n",
       " ' ',\n",
       " '.']"
      ]
     },
     "metadata": {},
     "output_type": "display_data"
    }
   ],
   "source": [
    "pattern = '[^A-Za-z0-9À-ž]'\n",
    "\n",
    "re.findall(pattern, text)"
   ]
  },
  {
   "cell_type": "markdown",
   "metadata": {},
   "source": [
    "#### Desafio\n",
    "\n",
    "Vamos alterar nosso loop de contagem de caracteres iniciais para, ao invés de contar apenas `ca`s e `pa`s, contar todas as sequencias de 2 caracteres no início de palavras!"
   ]
  },
  {
   "cell_type": "code",
   "execution_count": null,
   "metadata": {},
   "outputs": [],
   "source": [
    "lista_palavras = text.split()\n",
    "dict_contagem = dict()\n",
    "pattern = 'ca|pa'\n",
    "\n",
    "for palavra in lista_palavras:\n",
    "    silaba = re.findall(pattern, palavra)\n",
    "    if silaba:\n",
    "        if silaba[0] in dict_contagem.keys():\n",
    "            dict_contagem[silaba[0]] = dict_contagem[silaba[0]] + 1\n",
    "        else:\n",
    "            dict_contagem[silaba[0]] = 1\n",
    "    else:\n",
    "        if 'outros' in dict_contagem.keys():\n",
    "            dict_contagem['outros'] = dict_contagem['outros'] + 1\n",
    "        else:\n",
    "            dict_contagem['outros'] = 1\n",
    "\n",
    "print(dict_contagem)"
   ]
  },
  {
   "cell_type": "markdown",
   "metadata": {},
   "source": [
    "Como podemos realizar a mesma tarefa sem utilizar o método split? **DICA** qual o tipo de elemento retornado pelo `findall()`? Porque ele retorna este tipo?"
   ]
  },
  {
   "cell_type": "markdown",
   "metadata": {},
   "source": [
    "## Meta-Carácteres \n",
    "\n",
    "Characters that don't mean what they are.\n",
    "\n",
    "1. `\\w`: Qualquer carácter alfa-numérico;\n",
    "3. `\\d`: Qualquer número;\n",
    "7. `.` : Qualquer carácter exceto o newline - `\\n`."
   ]
  },
  {
   "cell_type": "code",
   "execution_count": null,
   "metadata": {},
   "outputs": [
    {
     "name": "stdout",
     "output_type": "stream",
     "text": [
      "['5', '4']\n"
     ]
    }
   ],
   "source": [
    "text = 'Meu vizinho, o Sr. Pata, tem 5 cachorros e cada um tem 4 patas.'\n",
    "pattern = r'\\d' # equivalente à '\\\\d'\n",
    "\n",
    "print(re.findall(pattern, text))"
   ]
  },
  {
   "cell_type": "code",
   "execution_count": null,
   "metadata": {},
   "outputs": [
    {
     "name": "stdout",
     "output_type": "stream",
     "text": [
      "['5', '0', '4']\n"
     ]
    }
   ],
   "source": [
    "text = 'Meu vizinho, o Sr. Pata, tem 50 cachorros e cada um tem 4 patas.'\n",
    "pattern = r'\\d' # equivalente à '\\\\d'\n",
    "\n",
    "print(re.findall(pattern, text))"
   ]
  },
  {
   "cell_type": "code",
   "execution_count": null,
   "metadata": {},
   "outputs": [
    {
     "name": "stdout",
     "output_type": "stream",
     "text": [
      "['M', 'e', 'u', 'v', 'i', 'z', 'i', 'n', 'h', 'o', 'o', 'S', 'r', 'P', 'a', 't', 'a', 't', 'e', 'm', '5', '0', 'c', 'a', 'c', 'h', 'o', 'r', 'r', 'o', 's', 'e', 'c', 'a', 'd', 'a', 'u', 'm', 't', 'e', 'm', '4', 'p', 'a', 't', 'a', 's']\n"
     ]
    }
   ],
   "source": [
    "text = 'Meu vizinho, o Sr. Pata, tem 50 cachorros e cada um tem 4 patas.'\n",
    "pattern = r'\\w' # equivalente à '\\\\w'\n",
    "\n",
    "print(re.findall(pattern, text))"
   ]
  },
  {
   "cell_type": "code",
   "execution_count": null,
   "metadata": {},
   "outputs": [
    {
     "name": "stdout",
     "output_type": "stream",
     "text": [
      "['M', 'e', 'u', ' ', 'v', 'i', 'z', 'i', 'n', 'h', 'o', ',', ' ', 'o', ' ', 'S', 'r', '.', ' ', 'P', 'a', 't', 'a', ',', ' ', 't', 'e', 'm', ' ', '5', '0', ' ', 'c', 'a', 'c', 'h', 'o', 'r', 'r', 'o', 's', ' ', 'e', ' ', 'c', 'a', 'd', 'a', ' ', 'u', 'm', ' ', 't', 'e', 'm', ' ', '4', ' ', 'p', 'a', 't', 'a', 's', '.']\n"
     ]
    }
   ],
   "source": [
    "text = 'Meu vizinho, o Sr. Pata, tem 50 cachorros e cada um tem 4 patas.'\n",
    "pattern = r'.'\n",
    "\n",
    "print(re.findall(pattern, text))"
   ]
  },
  {
   "cell_type": "markdown",
   "metadata": {},
   "source": [
    "## Quantificadores\n",
    "1. `*`: 0 ou mais;\n",
    "2. `?`: 0 ou 1;\n",
    "3. `+`: Pelo menos 1;"
   ]
  },
  {
   "cell_type": "code",
   "execution_count": null,
   "metadata": {},
   "outputs": [
    {
     "data": {
      "text/plain": [
       "['Meu',\n",
       " '',\n",
       " 'vizinho',\n",
       " '',\n",
       " '',\n",
       " 'o',\n",
       " '',\n",
       " 'Sr',\n",
       " '',\n",
       " '',\n",
       " 'Pata',\n",
       " '',\n",
       " '',\n",
       " 'tem',\n",
       " '',\n",
       " '',\n",
       " '',\n",
       " '',\n",
       " 'cachorros',\n",
       " '',\n",
       " 'e',\n",
       " '',\n",
       " 'cada',\n",
       " '',\n",
       " 'um',\n",
       " '',\n",
       " 'tem',\n",
       " '',\n",
       " '',\n",
       " '',\n",
       " 'patas',\n",
       " '',\n",
       " '']"
      ]
     },
     "metadata": {},
     "output_type": "display_data"
    }
   ],
   "source": [
    "text = 'Meu vizinho, o Sr. Pata, tem 50 cachorros e cada um tem 4 patas.'\n",
    "pattern = r'[A-Za-z]*'\n",
    "\n",
    "re.findall(pattern, text)"
   ]
  },
  {
   "cell_type": "code",
   "execution_count": null,
   "metadata": {},
   "outputs": [
    {
     "data": {
      "text/plain": [
       "['Meu',\n",
       " 'vizinho',\n",
       " 'o',\n",
       " 'Sr',\n",
       " 'Pata',\n",
       " 'tem',\n",
       " '50',\n",
       " 'cachorros',\n",
       " 'e',\n",
       " 'cada',\n",
       " 'um',\n",
       " 'tem',\n",
       " '4',\n",
       " 'patas']"
      ]
     },
     "metadata": {},
     "output_type": "display_data"
    }
   ],
   "source": [
    "text = 'Meu vizinho, o Sr. Pata, tem 50 cachorros e cada um tem 4 patas.'\n",
    "pattern = r'[A-z0-9]+'\n",
    "\n",
    "re.findall(pattern, text)"
   ]
  },
  {
   "cell_type": "code",
   "execution_count": null,
   "metadata": {},
   "outputs": [
    {
     "data": {
      "text/plain": [
       "['5', '5', '4']"
      ]
     },
     "metadata": {},
     "output_type": "display_data"
    }
   ],
   "source": [
    "text = 'Meu vizinho, o Sr. Pata, tem 5,5 cachorros e cada um tem 4 patas.'\n",
    "pattern = r'[0-9]+'\n",
    "\n",
    "re.findall(pattern, text)"
   ]
  },
  {
   "cell_type": "markdown",
   "metadata": {},
   "source": [
    "#### DESAFIO\n",
    "Vamos construir um padrão que encontre não apenas números inteiros mas também decimais!"
   ]
  },
  {
   "cell_type": "code",
   "execution_count": 31,
   "metadata": {},
   "outputs": [
    {
     "data": {
      "text/plain": [
       "['5,5', '4']"
      ]
     },
     "execution_count": 31,
     "metadata": {},
     "output_type": "execute_result"
    }
   ],
   "source": [
    "text = 'Meu vizinho, o Sr. Pata, tem 5,5 cachorros e cada um tem 4 patas.'\n",
    "pattern = r''\n",
    "\n",
    "re.findall(pattern, text)"
   ]
  },
  {
   "cell_type": "markdown",
   "metadata": {},
   "source": [
    "# Exercícios"
   ]
  },
  {
   "cell_type": "markdown",
   "metadata": {},
   "source": [
    "## Exercício 1\n",
    "Crie uma lista com todas as linhas distintas do string abaixo que comecem com carácter `>` seguido de uma letra ou um número."
   ]
  },
  {
   "cell_type": "code",
   "execution_count": null,
   "metadata": {},
   "outputs": [],
   "source": [
    "import re\n",
    "\n",
    "str=\"\"\"\n",
    ">Venues\n",
    ">Marketing\n",
    ">medalists\n",
    ">Controversies\n",
    ">Paralympics\n",
    ">snowboarding\n",
    ">[1]\n",
    ">Netherlands\n",
    ">[2]\n",
    ">Norway\n",
    ">[10]\n",
    ">[11]\n",
    ">References\n",
    ">edit\n",
    ">[12]\n",
    ">Norway\n",
    ">Germany\n",
    ">Canada\n",
    ">Netherlands\n",
    ">Japan\n",
    ">Italy\n",
    ">Belarus\n",
    ">China\n",
    ">Slovakia\n",
    "<$#%#$%\n",
    "<#$#$$\n",
    "<**&&^^\n",
    ">Slovenia\n",
    ">Belgium\n",
    ">Spain\n",
    ">Kazakhstan\n",
    ">[15]\n",
    ">1964\n",
    ">1968\n",
    ">1972\n",
    ">1992\n",
    ">1996\n",
    ">2000\"\"\"\n",
    "\n",
    "#Type your answer here.\n",
    "pattern = r''\n",
    "data=re.findall(pattern, str)\n",
    "\n",
    "print(data)"
   ]
  },
  {
   "cell_type": "markdown",
   "metadata": {},
   "source": [
    "## Exercício 2\n",
    "Um uso comum de REGEX é a extração de strings estruturados, como e-mails e telefones, de um corpo de texto. Crie um padrão para extrair todos os endereços de e-mail do texto abaixo."
   ]
  },
  {
   "cell_type": "code",
   "execution_count": null,
   "metadata": {},
   "outputs": [],
   "source": [
    "import re\n",
    "\n",
    "str='The advancements in biomarine studies franky@google.com with the investments necessary and Davos sinatra123@yahoo.com Then The New Yorker article on wind farms...'\n",
    "#Type your answer here.\n",
    "pattern = r''\n",
    "emails=re.findall(pattern, str)\n",
    "\n",
    "\n",
    "print(emails)"
   ]
  },
  {
   "cell_type": "markdown",
   "metadata": {},
   "source": [
    "Crie um segundo padrão para extrair apenas os domínios dos e-mails encontrados no texto (`google.com` e `yahoo.com`)"
   ]
  },
  {
   "cell_type": "code",
   "execution_count": null,
   "metadata": {},
   "outputs": [],
   "source": [
    "pattern = r''\n",
    "domains=re.findall(pattern, str)\n",
    "\n",
    "print(domains)"
   ]
  },
  {
   "cell_type": "markdown",
   "metadata": {},
   "source": [
    "## Exercício 3\n",
    "\n",
    "Muitas vezes utilizamos REGEX para **estruturar** um string - transformando um texto livre em uma lista, ou em uma tabela. Construa um padrão para guardar em uma lista todos os números que começam com `212`."
   ]
  },
  {
   "cell_type": "code",
   "execution_count": null,
   "metadata": {},
   "outputs": [],
   "source": [
    "import re\n",
    "\n",
    "str='''\n",
    "Ancient Script 21298: The Takenouchi documents are the ancient historical records that have been secretly preserved and passed down from generation to generation by the Takenouchi family, the head of family being the chief priest of the Koso Kotai Jingu shrine. 212-111-5932 \n",
    "Ancient Sword 21299: The Takenouchi swords are the ancient historical swords that have been secretly preserved and passed down from generation to generation by the Takenouchi family, the head of family being the chief priest of the Koso Kotai Jingu shrine. 212-111-5932\n",
    "Ancient Jewelry 21300: The Takenouchi gems are the ancient historical jewels that have been secretly preserved and passed down from generation to generation by the Takenouchi family, the head of family being the chief priest of the Koso Kotai Jingu shrine. 212-111-5932\n",
    "'''\n",
    "\n",
    "pattern = r''\n",
    "data=re.findall(pattern, str)\n",
    "\n",
    "print(data)"
   ]
  },
  {
   "cell_type": "markdown",
   "metadata": {},
   "source": [
    "Construa outro padrão para extrair a linha completa de informação associada a cada artefato cujo ID (21298, 21299, 21300) começa com 212."
   ]
  },
  {
   "cell_type": "code",
   "execution_count": null,
   "metadata": {},
   "outputs": [],
   "source": [
    "pattern = r''\n",
    "data=re.findall(pattern, str)\n",
    "\n",
    "print(data)"
   ]
  },
  {
   "cell_type": "markdown",
   "metadata": {},
   "source": [
    "# Desafios\n",
    "\n",
    "Caso você complete os três exs. antes do final da aula, continue praticando utilizando plataformas de exercicios:\n",
    "\n",
    "https://www.hackerrank.com/domains/regex - Hackerrank possui toda uma trilha de aprendizagem associada à REGEX;\n",
    "https://regexone.com/lesson/introduction_abcs - REGEXONE traz não apenas exercícios mas também breves lições sobre os conceitos abordados em cada ex.\n",
    "\n",
    "A única forma de aprender e ganhar confiança na construção de padrões é construindo padrões!"
   ]
  }
 ],
 "metadata": {
  "interpreter": {
   "hash": "31f2aee4e71d21fbe5cf8b01ff0e069b9275f58929596ceb00d14d90e3e16cd6"
  },
  "kernelspec": {
   "display_name": "Python 3.8.9 64-bit",
   "language": "python",
   "name": "python3"
  },
  "language_info": {
   "codemirror_mode": {
    "name": "ipython",
    "version": 3
   },
   "file_extension": ".py",
   "mimetype": "text/x-python",
   "name": "python",
   "nbconvert_exporter": "python",
   "pygments_lexer": "ipython3",
   "version": "3.8.9"
  },
  "orig_nbformat": 4
 },
 "nbformat": 4,
 "nbformat_minor": 2
}
