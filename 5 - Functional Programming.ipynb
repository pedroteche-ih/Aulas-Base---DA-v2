{
 "cells": [
  {
   "cell_type": "markdown",
   "metadata": {},
   "source": [
    "# Aula V - Funções no Python"
   ]
  },
  {
   "cell_type": "markdown",
   "metadata": {},
   "source": [
    "## Porque usar Funções?\n",
    "\n",
    "- Funções nos ajudam a:\n",
    "    - <u>re-utilizar código: </u>\n",
    "        - **Rule of three**: https://en.wikipedia.org/wiki/Rule_of_three_(computer_programming)\n",
    "        - **DRY principle**: https://en.wikipedia.org/wiki/Don%27t_repeat_yourself\n",
    "    - <u> documentar etapas</u>\n",
    "        - **docstrings**: https://www.python.org/dev/peps/pep-0257/\n",
    "    - <u> organizar nossas idéias</u>\n",
    "\n",
    "## Function Syntax: \n",
    "\n",
    "Example function: \n",
    "\n",
    "```python\n",
    "def function_name(x,y,z):\n",
    "    \"\"\"Documentation comes here\"\"\"\n",
    "    k = x + y + z\n",
    "    \n",
    "    return k\n",
    "```\n",
    "\n",
    "### Passo à passo\n",
    "Utilizamos a palavra-chave `def` seguida do `function_name` para iniciar a declaração de uma função.\n",
    "```python\n",
    "def function_name\n",
    "```\n",
    "---\n",
    "Seguimos com parênteses `():` onde especificamos, opcinalmente, os argumentos a serem passados para a função.\n",
    "```python\n",
    "def function_name(x,y,z)\n",
    "```\n",
    "Uma função não precisa ter argumentos! Neste caso utilizamos os parênteses vazios: `def function_name()`.\n",
    "\n",
    "---\n",
    "Seguimos na próxima linha com o **corpo da função**, um bloco identado de código que define o que a função faz.\n",
    "```python\n",
    "def function_name(x,y,z):\n",
    "    k = x + y + z\n",
    "    \n",
    "```\n",
    "---\n",
    "Sempre que construímos uma função é importante documentar o seu funcionamento através de um `docstring`\n",
    "```python\n",
    "def function_name(x,y,z):\n",
    "    \"\"\"Documentation comes here\"\"\"\n",
    "    k = x + y + z\n",
    "    \n",
    "```\n",
    "---\n",
    "\n",
    "Por fim, caso nossa função deva retornar algo, utilizamos a palavra chave `return` seguida da variável ou valor que a função deve retornar.\n",
    "```python\n",
    "def function_name(x,y,z):\n",
    "    \"\"\"Documentation comes here\"\"\"\n",
    "    k = x + y + z\n",
    "    \n",
    "    return k\n",
    "    \n",
    "```"
   ]
  },
  {
   "cell_type": "code",
   "execution_count": 1,
   "metadata": {
    "ExecuteTime": {
     "end_time": "2020-07-22T00:23:47.224974Z",
     "start_time": "2020-07-22T00:23:47.222006Z"
    }
   },
   "outputs": [],
   "source": [
    "def grite():\n",
    "    \"\"\"Essa função grita!!\"\"\"\n",
    "    print('GRITO!!')"
   ]
  },
  {
   "cell_type": "code",
   "execution_count": 2,
   "metadata": {
    "ExecuteTime": {
     "end_time": "2020-07-22T00:23:13.408173Z",
     "start_time": "2020-07-22T00:23:13.405172Z"
    }
   },
   "outputs": [
    {
     "name": "stdout",
     "output_type": "stream",
     "text": [
      "GRITO!!\n",
      "GRITO!!\n",
      "GRITO!!\n",
      "GRITO!!\n"
     ]
    }
   ],
   "source": [
    "grite()\n",
    "grite()\n",
    "grite()\n",
    "grite()"
   ]
  },
  {
   "cell_type": "markdown",
   "metadata": {},
   "source": [
    "# Funções no Python"
   ]
  },
  {
   "cell_type": "markdown",
   "metadata": {
    "ExecuteTime": {
     "end_time": "2020-07-21T21:28:50.118075Z",
     "start_time": "2020-07-21T21:28:50.115102Z"
    }
   },
   "source": [
    "Imagine que temos um jogo com algumas regras inventadas. Existem essas duas opções, se a pessoa ganhar, aparece `'Legal! Muito bom'` na tela, mas se ela perder aparecerá `'Ih, você perdeu'`."
   ]
  },
  {
   "cell_type": "code",
   "execution_count": null,
   "metadata": {
    "ExecuteTime": {
     "end_time": "2020-07-22T00:37:35.573429Z",
     "start_time": "2020-07-22T00:37:34.687274Z"
    }
   },
   "outputs": [],
   "source": [
    "# jogo completamente aleatório:\n",
    "\n",
    "x = int(input('Escolha um número:'))\n",
    "\n",
    "if x < 3:\n",
    "    print('Legal! Muito bom')\n",
    "elif x < 5:\n",
    "    print('Ih, você perdeu')\n",
    "elif x < 7:\n",
    "    print('Legal! Muito bom')\n",
    "elif x < 9:\n",
    "    print('Ih, você perdeu')\n",
    "elif x < 15:\n",
    "    print('Legal! Muito bom')\n",
    "elif x < 25:\n",
    "    print('Ih, você perdeu')\n",
    "elif x < 37:\n",
    "    print('Legal! Muito bom')"
   ]
  },
  {
   "cell_type": "markdown",
   "metadata": {},
   "source": [
    "E se quisessemos, por exemplo, mudar o código para mostrar outro string no momento em que ela perde?"
   ]
  },
  {
   "cell_type": "code",
   "execution_count": null,
   "metadata": {
    "ExecuteTime": {
     "end_time": "2020-07-21T21:31:38.971726Z",
     "start_time": "2020-07-21T21:31:38.134079Z"
    }
   },
   "outputs": [],
   "source": [
    "# jogo completamente aleatório:\n",
    "\n",
    "x = int(input('Escolha um número:'))\n",
    "\n",
    "if x < 3:\n",
    "    print('Legal! Muito bom')\n",
    "elif x < 5:\n",
    "    print('Que pena! Você perdeu')\n",
    "elif x < 7:\n",
    "    print('Legal! Muito bom')\n",
    "elif x < 9:\n",
    "    print('Que pena! Você perdeu')\n",
    "elif x < 15:\n",
    "    print('Legal! Muito bom')\n",
    "elif x < 25:\n",
    "    print('Que pena! Você perdeu')\n",
    "elif x < 37:\n",
    "    print('Legal! Muito bom')"
   ]
  },
  {
   "cell_type": "markdown",
   "metadata": {},
   "source": [
    "Se este código tivesse sido escrito em funções, veja qual o processo para modificar o código:"
   ]
  },
  {
   "cell_type": "code",
   "execution_count": null,
   "metadata": {
    "ExecuteTime": {
     "end_time": "2020-07-22T00:38:17.375025Z",
     "start_time": "2020-07-22T00:38:17.371028Z"
    }
   },
   "outputs": [],
   "source": [
    "def say_congrats():\n",
    "    '''\n",
    "    This function says you won the game.\n",
    "    '''\n",
    "    \n",
    "    print('Legal! Muito bom')\n",
    "    \n",
    "def say_condolence():\n",
    "    '''\n",
    "    This function says you lost the game and prints your number choice.\n",
    "    '''\n",
    "    print('Que pena! Você perdeu')\n",
    "    \n",
    "# jogo completamente aleatório:\n",
    "\n",
    "x = int(input('Escolha um número:'))\n",
    "\n",
    "if x < 3:\n",
    "    say_congrats()\n",
    "elif x < 5:\n",
    "    say_condolence()\n",
    "elif x < 7:\n",
    "    say_congrats()\n",
    "elif x < 9:\n",
    "    say_condolence()\n",
    "elif x < 15:\n",
    "    say_congrats()\n",
    "elif x < 25:\n",
    "    say_condolence()\n",
    "elif x < 37:\n",
    "    say_congrats()"
   ]
  },
  {
   "cell_type": "markdown",
   "metadata": {},
   "source": [
    "## Funções são `callables` (invocáveis)"
   ]
  },
  {
   "cell_type": "code",
   "execution_count": 2,
   "metadata": {
    "ExecuteTime": {
     "end_time": "2020-07-22T00:44:34.904390Z",
     "start_time": "2020-07-22T00:44:34.901390Z"
    }
   },
   "outputs": [],
   "source": [
    "def funcao_banal():\n",
    "    print('Não sirvo pra nada')"
   ]
  },
  {
   "cell_type": "markdown",
   "metadata": {},
   "source": [
    "Para **chamar** a função, tenho que colocar `()`"
   ]
  },
  {
   "cell_type": "code",
   "execution_count": 5,
   "metadata": {
    "ExecuteTime": {
     "end_time": "2020-07-21T21:34:21.116416Z",
     "start_time": "2020-07-21T21:34:21.113417Z"
    }
   },
   "outputs": [
    {
     "data": {
      "text/plain": [
       "<function __main__.funcao_banal()>"
      ]
     },
     "execution_count": 5,
     "metadata": {},
     "output_type": "execute_result"
    }
   ],
   "source": [
    "funcao_banal"
   ]
  },
  {
   "cell_type": "code",
   "execution_count": 6,
   "metadata": {},
   "outputs": [
    {
     "name": "stdout",
     "output_type": "stream",
     "text": [
      "<function funcao_banal at 0x00000184CBC6B4C0>\n"
     ]
    }
   ],
   "source": [
    "print(funcao_banal)"
   ]
  },
  {
   "cell_type": "code",
   "execution_count": 7,
   "metadata": {
    "ExecuteTime": {
     "end_time": "2020-07-21T21:34:21.116416Z",
     "start_time": "2020-07-21T21:34:21.113417Z"
    }
   },
   "outputs": [
    {
     "name": "stdout",
     "output_type": "stream",
     "text": [
      "Não sirvo pra nada\n"
     ]
    }
   ],
   "source": [
    "funcao_banal()"
   ]
  },
  {
   "cell_type": "markdown",
   "metadata": {},
   "source": [
    "Se eu tentar chamar algo que **não é uma função**, recebo o seguinte erro:"
   ]
  },
  {
   "cell_type": "code",
   "execution_count": 8,
   "metadata": {
    "ExecuteTime": {
     "end_time": "2020-07-22T00:47:38.304842Z",
     "start_time": "2020-07-22T00:47:38.301841Z"
    }
   },
   "outputs": [
    {
     "name": "stdout",
     "output_type": "stream",
     "text": [
      "Qual erro dará?\n"
     ]
    },
    {
     "ename": "TypeError",
     "evalue": "'int' object is not callable",
     "output_type": "error",
     "traceback": [
      "\u001b[1;31m---------------------------------------------------------------------------\u001b[0m",
      "\u001b[1;31mTypeError\u001b[0m                                 Traceback (most recent call last)",
      "\u001b[1;32m<ipython-input-8-88829755ea8d>\u001b[0m in \u001b[0;36m<module>\u001b[1;34m\u001b[0m\n\u001b[0;32m      2\u001b[0m \u001b[0mb\u001b[0m \u001b[1;33m=\u001b[0m \u001b[0mprint\u001b[0m\u001b[1;33m\u001b[0m\u001b[1;33m\u001b[0m\u001b[0m\n\u001b[0;32m      3\u001b[0m \u001b[0mb\u001b[0m\u001b[1;33m(\u001b[0m\u001b[1;34m'Qual erro dará?'\u001b[0m\u001b[1;33m)\u001b[0m\u001b[1;33m\u001b[0m\u001b[1;33m\u001b[0m\u001b[0m\n\u001b[1;32m----> 4\u001b[1;33m \u001b[0ma\u001b[0m\u001b[1;33m(\u001b[0m\u001b[1;33m)\u001b[0m\u001b[1;33m\u001b[0m\u001b[1;33m\u001b[0m\u001b[0m\n\u001b[0m",
      "\u001b[1;31mTypeError\u001b[0m: 'int' object is not callable"
     ]
    }
   ],
   "source": [
    "a = 1\n",
    "a()"
   ]
  },
  {
   "cell_type": "markdown",
   "metadata": {},
   "source": [
    "# Funções podem retornar valores\n",
    "Se você não especificar um '`return` statement', a função retornará `vazio` (`None`)"
   ]
  },
  {
   "cell_type": "code",
   "execution_count": 9,
   "metadata": {},
   "outputs": [],
   "source": [
    "lista_exemplo = [1,2,3]\n",
    "comprimento = len(lista_exemplo)\n",
    "print(comprimento)"
   ]
  },
  {
   "cell_type": "markdown",
   "metadata": {},
   "source": [
    "Vamos ver como uma função sem `return` se comporta:"
   ]
  },
  {
   "cell_type": "code",
   "execution_count": 11,
   "metadata": {},
   "outputs": [
    {
     "name": "stdout",
     "output_type": "stream",
     "text": [
      "Eu também não sirvo pra nada :(\n"
     ]
    }
   ],
   "source": [
    "def funcao_besta():\n",
    "    print('Eu também não sirvo pra nada :(')\n",
    "    \n",
    "teste = funcao_besta()"
   ]
  },
  {
   "cell_type": "code",
   "execution_count": 12,
   "metadata": {},
   "outputs": [
    {
     "name": "stdout",
     "output_type": "stream",
     "text": [
      "None\n"
     ]
    }
   ],
   "source": [
    "print(teste)"
   ]
  },
  {
   "cell_type": "markdown",
   "metadata": {},
   "source": [
    "Vamos utilizar o `return` para retornar o string que estamos imprimindo:"
   ]
  },
  {
   "cell_type": "code",
   "execution_count": 3,
   "metadata": {},
   "outputs": [
    {
     "name": "stdout",
     "output_type": "stream",
     "text": [
      "Eu também não sirvo pra nada, mas pelo menos retorno algo :)\n",
      "<class 'str'>\n",
      "Eu também não sirvo pra nada, mas pelo menos retorno algo :)\n"
     ]
    }
   ],
   "source": [
    "def funcao_retorna():\n",
    "    print('Eu também não sirvo pra nada, mas pelo menos retorno algo :)')\n",
    "    return 'Eu também não sirvo pra nada, mas pelo menos retorno algo :)'\n",
    "\n",
    "teste = funcao_retorna()\n",
    "print(type(teste))\n",
    "print(teste)"
   ]
  },
  {
   "cell_type": "markdown",
   "metadata": {},
   "source": [
    "Podemos retornar mais que um valor utilizando uma `tupla`:"
   ]
  },
  {
   "cell_type": "code",
   "execution_count": 18,
   "metadata": {},
   "outputs": [],
   "source": [
    "def funcao_retorna_2():\n",
    "    return 'Eu também não sirvo pra nada', 1\n",
    "\n",
    "teste = funcao_retorna_2()\n",
    "print(teste)"
   ]
  },
  {
   "cell_type": "code",
   "execution_count": 21,
   "metadata": {},
   "outputs": [],
   "source": [
    "parte_1, parte_2 = funcao_retorna_2()"
   ]
  },
  {
   "cell_type": "code",
   "execution_count": 22,
   "metadata": {},
   "outputs": [
    {
     "name": "stdout",
     "output_type": "stream",
     "text": [
      "Eu também não sirvo pra nada\n"
     ]
    }
   ],
   "source": [
    "print(parte_1)"
   ]
  },
  {
   "cell_type": "code",
   "execution_count": 23,
   "metadata": {},
   "outputs": [
    {
     "name": "stdout",
     "output_type": "stream",
     "text": [
      "1\n"
     ]
    }
   ],
   "source": [
    "print(parte_2)"
   ]
  },
  {
   "cell_type": "markdown",
   "metadata": {},
   "source": [
    "Funções podem retornar qualquer tipo de objeto:"
   ]
  },
  {
   "cell_type": "code",
   "execution_count": 4,
   "metadata": {},
   "outputs": [
    {
     "name": "stdout",
     "output_type": "stream",
     "text": [
      "[5, 2, 3]\n"
     ]
    }
   ],
   "source": [
    "def retorna_lista():\n",
    "    return [1,2,3]\n",
    "\n",
    "teste = retorna_lista()\n",
    "teste[0] = 5\n",
    "print(teste)"
   ]
  },
  {
   "cell_type": "markdown",
   "metadata": {},
   "source": [
    "# Funções podem receber argumentos\n",
    "Vimos que o `return` nos permite retornar valores de dentro da função para o nosso programa. Para fazer o caminho inverso, passar objetos do nosso programa para dentro da função, utilizamos **argumentos**:"
   ]
  },
  {
   "cell_type": "code",
   "execution_count": 6,
   "metadata": {
    "ExecuteTime": {
     "end_time": "2020-07-22T00:49:13.565422Z",
     "start_time": "2020-07-22T00:49:13.563422Z"
    }
   },
   "outputs": [],
   "source": [
    "def funcao_com_argumento(x, y):\n",
    "    '''\n",
    "    Retorna a soma dos números x e y.\n",
    "\n",
    "            Parameters:\n",
    "                    x (numeric): um número float ou inteiro.\n",
    "                    y (numeric): outro número float ou inteiro.\n",
    "\n",
    "            Returns:\n",
    "                    soma (numeric): soma dos números x e y.\n",
    "    '''\n",
    "    soma = x + y\n",
    "    return soma"
   ]
  },
  {
   "cell_type": "code",
   "execution_count": 7,
   "metadata": {},
   "outputs": [
    {
     "name": "stdout",
     "output_type": "stream",
     "text": [
      "5\n"
     ]
    }
   ],
   "source": [
    "teste_com_argumento = funcao_com_argumento(2, 3)\n",
    "print(teste_com_argumento)"
   ]
  },
  {
   "cell_type": "markdown",
   "metadata": {},
   "source": [
    "Argumentos são variáveis criadas quando invocamos a função. O exemplo acima cria as variáveis `x` e `y`, guardando nelas os objetos (valorer ou outras variáveis) entre `()` no momento que invocamos a função."
   ]
  },
  {
   "cell_type": "code",
   "execution_count": 9,
   "metadata": {},
   "outputs": [
    {
     "name": "stdout",
     "output_type": "stream",
     "text": [
      "5\n",
      "3\n",
      "5\n",
      "7\n"
     ]
    }
   ],
   "source": [
    "lista_num = [1,2,3,4]\n",
    "\n",
    "for i in range(len(lista_num)):\n",
    "    soma = funcao_com_argumento(lista_num[i], lista_num[i-1])\n",
    "    print(soma)"
   ]
  },
  {
   "cell_type": "markdown",
   "metadata": {},
   "source": [
    "A ordem dos argumentos importa! Vamos construir uma função para realizar subtração entre dois números:"
   ]
  },
  {
   "cell_type": "code",
   "execution_count": 10,
   "metadata": {},
   "outputs": [],
   "source": [
    "def subtracao(x, y):\n",
    "    '''\n",
    "    Retorna x-y.\n",
    "\n",
    "            Parameters:\n",
    "                    x (numeric): um número float ou inteiro.\n",
    "                    y (numeric): outro número float ou inteiro.\n",
    "\n",
    "            Returns:\n",
    "                    subt (numeric): x - y\n",
    "    '''\n",
    "    return x - y"
   ]
  },
  {
   "cell_type": "code",
   "execution_count": 11,
   "metadata": {},
   "outputs": [
    {
     "name": "stdout",
     "output_type": "stream",
     "text": [
      "9\n"
     ]
    }
   ],
   "source": [
    "print(subtracao(10, 1))"
   ]
  },
  {
   "cell_type": "code",
   "execution_count": 12,
   "metadata": {},
   "outputs": [
    {
     "name": "stdout",
     "output_type": "stream",
     "text": [
      "-9\n"
     ]
    }
   ],
   "source": [
    "print(subtracao(1, 10))"
   ]
  },
  {
   "cell_type": "markdown",
   "metadata": {},
   "source": [
    "A não ser que os argumentos sejam explicitamente nomeados"
   ]
  },
  {
   "cell_type": "code",
   "execution_count": 14,
   "metadata": {},
   "outputs": [
    {
     "name": "stdout",
     "output_type": "stream",
     "text": [
      "9\n"
     ]
    }
   ],
   "source": [
    "print(subtracao(y = 1, x = 10))"
   ]
  },
  {
   "cell_type": "markdown",
   "metadata": {},
   "source": [
    "# Functions can receive `OPTIONAL` arguments"
   ]
  },
  {
   "cell_type": "markdown",
   "metadata": {},
   "source": [
    "Argumentos opcionais são aqueles que você pode ou não `passar`. Se você não passar o argumento para a função, ela utilizará um valor DEFAULT"
   ]
  },
  {
   "cell_type": "code",
   "execution_count": 16,
   "metadata": {
    "ExecuteTime": {
     "end_time": "2020-07-22T01:16:21.080074Z",
     "start_time": "2020-07-22T01:16:21.073076Z"
    }
   },
   "outputs": [],
   "source": [
    "def soma_lista(lista_numeros, C = 1):\n",
    "    '''\n",
    "    Retorna a soma dos números de uma lista vezes uma constante.\n",
    "\n",
    "            Parameters:\n",
    "                    lista_numeros (lista): lista de números (floats ou ints).\n",
    "                    C (numeric): outro número float ou inteiro.\n",
    "\n",
    "            Returns:\n",
    "                    total_lista (numeric): soma dos números na lista_numeros vezes C.\n",
    "    '''\n",
    "    \n",
    "    total_lista = 0\n",
    "    for elemento in lista_numeros:\n",
    "        total_lista += elemento * C\n",
    "        \n",
    "    return total_lista"
   ]
  },
  {
   "cell_type": "markdown",
   "metadata": {},
   "source": [
    "A função acima soma o resultado da multiplicação de cada elemento em uma lista, `lista_numeros` nos argumentos, por uma constante,  `C` nos argumentos. Se não passaramos nenhum valor para `C` ele terá o valor padrão de 1."
   ]
  },
  {
   "cell_type": "code",
   "execution_count": 17,
   "metadata": {},
   "outputs": [
    {
     "name": "stdout",
     "output_type": "stream",
     "text": [
      "6\n"
     ]
    }
   ],
   "source": [
    "lista_num = [1, 2, 3]\n",
    "teste = soma_lista(lista_num)\n",
    "print(teste)"
   ]
  },
  {
   "cell_type": "code",
   "execution_count": 18,
   "metadata": {},
   "outputs": [
    {
     "name": "stdout",
     "output_type": "stream",
     "text": [
      "6\n"
     ]
    }
   ],
   "source": [
    "teste = soma_lista(lista_num, 1)\n",
    "print(teste)"
   ]
  },
  {
   "cell_type": "code",
   "execution_count": 19,
   "metadata": {},
   "outputs": [
    {
     "name": "stdout",
     "output_type": "stream",
     "text": [
      "60\n"
     ]
    }
   ],
   "source": [
    "teste = soma_lista(lista_num, 10)\n",
    "print(teste)"
   ]
  },
  {
   "cell_type": "markdown",
   "metadata": {},
   "source": [
    "Apenas os argumentos com valores padrão são opcionais!"
   ]
  },
  {
   "cell_type": "code",
   "execution_count": 45,
   "metadata": {},
   "outputs": [
    {
     "ename": "TypeError",
     "evalue": "soma_lista() missing 1 required positional argument: 'lista_numeros'",
     "output_type": "error",
     "traceback": [
      "\u001b[1;31m---------------------------------------------------------------------------\u001b[0m",
      "\u001b[1;31mTypeError\u001b[0m                                 Traceback (most recent call last)",
      "\u001b[1;32m<ipython-input-45-a59661f17200>\u001b[0m in \u001b[0;36m<module>\u001b[1;34m\u001b[0m\n\u001b[1;32m----> 1\u001b[1;33m \u001b[0mteste\u001b[0m \u001b[1;33m=\u001b[0m \u001b[0msoma_lista\u001b[0m\u001b[1;33m(\u001b[0m\u001b[0mC\u001b[0m \u001b[1;33m=\u001b[0m \u001b[1;36m10\u001b[0m\u001b[1;33m)\u001b[0m\u001b[1;33m\u001b[0m\u001b[1;33m\u001b[0m\u001b[0m\n\u001b[0m",
      "\u001b[1;31mTypeError\u001b[0m: soma_lista() missing 1 required positional argument: 'lista_numeros'"
     ]
    }
   ],
   "source": [
    "teste = soma_lista(C = 10)"
   ]
  },
  {
   "cell_type": "markdown",
   "metadata": {},
   "source": [
    "## Palavras reservadas\n",
    "\n",
    "Não podemos utilizar qualquer palavra como nome de função: as palavras chaves (como `for`, `while`, `if`, etc...) não podem ser utilizadas!"
   ]
  },
  {
   "cell_type": "code",
   "execution_count": 20,
   "metadata": {},
   "outputs": [
    {
     "ename": "SyntaxError",
     "evalue": "invalid syntax (203739020.py, line 1)",
     "output_type": "error",
     "traceback": [
      "\u001b[0;36m  Input \u001b[0;32mIn [20]\u001b[0;36m\u001b[0m\n\u001b[0;31m    def for():\u001b[0m\n\u001b[0m        ^\u001b[0m\n\u001b[0;31mSyntaxError\u001b[0m\u001b[0;31m:\u001b[0m invalid syntax\n"
     ]
    }
   ],
   "source": [
    "#def for():\n",
    "#    print('O que será que acontecerá?')"
   ]
  },
  {
   "cell_type": "markdown",
   "metadata": {
    "ExecuteTime": {
     "end_time": "2020-07-22T22:42:17.746072Z",
     "start_time": "2020-07-22T22:42:17.742072Z"
    }
   },
   "source": [
    "As palavras reservadas, em geral, tem uma formatação distinta nas IDEs (no Jupyter vemos acima o _for_ em negrito e verde)"
   ]
  },
  {
   "cell_type": "markdown",
   "metadata": {},
   "source": [
    "# Escopo de Variáveis\n",
    "O escopo de uma variável é a definição de onde cada variável existe em seu programa.\n",
    "\n",
    "## Escopo Local\n",
    "Todas as variáveis criadas dentro de uma função **só existem dentro da função**! É por isso que o `return` é tão importante!"
   ]
  },
  {
   "cell_type": "code",
   "execution_count": 24,
   "metadata": {},
   "outputs": [],
   "source": [
    "def soma_lista(lista_numeros, C = 1):\n",
    "    '''\n",
    "    Retorna a soma dos números de uma lista vezes uma constante.\n",
    "\n",
    "            Parameters:\n",
    "                    lista_numeros (lista): lista de números (floats ou ints).\n",
    "                    C (numeric): outro número float ou inteiro.\n",
    "\n",
    "            Returns:\n",
    "                    total_lista (numeric): soma dos números na lista_numeros vezes C.\n",
    "    '''\n",
    "    \n",
    "    total_lista = 0\n",
    "    for elemento in lista_numeros:\n",
    "        total_lista += elemento * C\n",
    "    print(total_lista)"
   ]
  },
  {
   "cell_type": "code",
   "execution_count": 25,
   "metadata": {
    "ExecuteTime": {
     "end_time": "2020-10-30T22:45:48.418880Z",
     "start_time": "2020-10-30T22:45:48.406885Z"
    }
   },
   "outputs": [
    {
     "name": "stdout",
     "output_type": "stream",
     "text": [
      "30\n"
     ]
    }
   ],
   "source": [
    "soma_lista([1, 2, 3], 5)"
   ]
  },
  {
   "cell_type": "code",
   "execution_count": 26,
   "metadata": {},
   "outputs": [
    {
     "ename": "NameError",
     "evalue": "name 'total_lista' is not defined",
     "output_type": "error",
     "traceback": [
      "\u001b[0;31m---------------------------------------------------------------------------\u001b[0m",
      "\u001b[0;31mNameError\u001b[0m                                 Traceback (most recent call last)",
      "\u001b[1;32m/Users/pedroteche/Documents/Trabalho/Ironhack/Preparação de Aula/Aulas Base - DA v2/5 - Functional Programming.ipynb Cell 60'\u001b[0m in \u001b[0;36m<cell line: 1>\u001b[0;34m()\u001b[0m\n\u001b[0;32m----> <a href='vscode-notebook-cell:/Users/pedroteche/Documents/Trabalho/Ironhack/Prepara%C3%A7%C3%A3o%20de%20Aula/Aulas%20Base%20-%20DA%20v2/5%20-%20Functional%20Programming.ipynb#ch0000107?line=0'>1</a>\u001b[0m total_lista\n",
      "\u001b[0;31mNameError\u001b[0m: name 'total_lista' is not defined"
     ]
    }
   ],
   "source": [
    "total_lista"
   ]
  },
  {
   "cell_type": "code",
   "execution_count": 27,
   "metadata": {},
   "outputs": [
    {
     "data": {
      "text/plain": [
       "[1, 2, 3]"
      ]
     },
     "execution_count": 27,
     "metadata": {},
     "output_type": "execute_result"
    }
   ],
   "source": [
    "lista_numeros"
   ]
  },
  {
   "cell_type": "markdown",
   "metadata": {},
   "source": [
    "## Escopo Global\n",
    "\n",
    "Variáveis criadas no corpo do nosso programa e acessadas pelas nossas funções existem no escopo global. Nossas funções conseguem acessar variáveis nesse escopo mas não conseguem altera-lás."
   ]
  },
  {
   "cell_type": "code",
   "execution_count": 33,
   "metadata": {},
   "outputs": [],
   "source": [
    "def soma():\n",
    "    '''\n",
    "    Retorna a soma x e y\n",
    "    '''\n",
    "    print(x + y)\n",
    "    return(x + y)"
   ]
  },
  {
   "cell_type": "code",
   "execution_count": 34,
   "metadata": {},
   "outputs": [
    {
     "name": "stdout",
     "output_type": "stream",
     "text": [
      "11\n"
     ]
    }
   ],
   "source": [
    "y = 10\n",
    "x = 1\n",
    "teste = soma()"
   ]
  },
  {
   "cell_type": "markdown",
   "metadata": {},
   "source": [
    "Essas variáveis não podem ser alteradas dentro do corpo de uma função diretamente:"
   ]
  },
  {
   "cell_type": "code",
   "execution_count": 35,
   "metadata": {},
   "outputs": [],
   "source": [
    "def nova_soma():\n",
    "    '''\n",
    "    Retorna a soma x e y, guardando o resultado em x\n",
    "    '''\n",
    "    x = x+y\n",
    "    return(x)"
   ]
  },
  {
   "cell_type": "code",
   "execution_count": 36,
   "metadata": {},
   "outputs": [
    {
     "ename": "UnboundLocalError",
     "evalue": "local variable 'x' referenced before assignment",
     "output_type": "error",
     "traceback": [
      "\u001b[0;31m---------------------------------------------------------------------------\u001b[0m",
      "\u001b[0;31mUnboundLocalError\u001b[0m                         Traceback (most recent call last)",
      "\u001b[1;32m/Users/pedroteche/Documents/Trabalho/Ironhack/Preparação de Aula/Aulas Base - DA v2/5 - Functional Programming.ipynb Cell 67'\u001b[0m in \u001b[0;36m<cell line: 3>\u001b[0;34m()\u001b[0m\n\u001b[1;32m      <a href='vscode-notebook-cell:/Users/pedroteche/Documents/Trabalho/Ironhack/Prepara%C3%A7%C3%A3o%20de%20Aula/Aulas%20Base%20-%20DA%20v2/5%20-%20Functional%20Programming.ipynb#ch0000116?line=0'>1</a>\u001b[0m x \u001b[39m=\u001b[39m \u001b[39m10\u001b[39m\n\u001b[1;32m      <a href='vscode-notebook-cell:/Users/pedroteche/Documents/Trabalho/Ironhack/Prepara%C3%A7%C3%A3o%20de%20Aula/Aulas%20Base%20-%20DA%20v2/5%20-%20Functional%20Programming.ipynb#ch0000116?line=1'>2</a>\u001b[0m y \u001b[39m=\u001b[39m \u001b[39m1\u001b[39m\n\u001b[0;32m----> <a href='vscode-notebook-cell:/Users/pedroteche/Documents/Trabalho/Ironhack/Prepara%C3%A7%C3%A3o%20de%20Aula/Aulas%20Base%20-%20DA%20v2/5%20-%20Functional%20Programming.ipynb#ch0000116?line=2'>3</a>\u001b[0m nova_soma()\n",
      "\u001b[1;32m/Users/pedroteche/Documents/Trabalho/Ironhack/Preparação de Aula/Aulas Base - DA v2/5 - Functional Programming.ipynb Cell 66'\u001b[0m in \u001b[0;36mnova_soma\u001b[0;34m()\u001b[0m\n\u001b[1;32m      <a href='vscode-notebook-cell:/Users/pedroteche/Documents/Trabalho/Ironhack/Prepara%C3%A7%C3%A3o%20de%20Aula/Aulas%20Base%20-%20DA%20v2/5%20-%20Functional%20Programming.ipynb#ch0000113?line=0'>1</a>\u001b[0m \u001b[39mdef\u001b[39;00m \u001b[39mnova_soma\u001b[39m():\n\u001b[1;32m      <a href='vscode-notebook-cell:/Users/pedroteche/Documents/Trabalho/Ironhack/Prepara%C3%A7%C3%A3o%20de%20Aula/Aulas%20Base%20-%20DA%20v2/5%20-%20Functional%20Programming.ipynb#ch0000113?line=1'>2</a>\u001b[0m     \u001b[39m'''\u001b[39;00m\n\u001b[1;32m      <a href='vscode-notebook-cell:/Users/pedroteche/Documents/Trabalho/Ironhack/Prepara%C3%A7%C3%A3o%20de%20Aula/Aulas%20Base%20-%20DA%20v2/5%20-%20Functional%20Programming.ipynb#ch0000113?line=2'>3</a>\u001b[0m \u001b[39m    Retorna a soma x e y, guardando o resultado em x\u001b[39;00m\n\u001b[1;32m      <a href='vscode-notebook-cell:/Users/pedroteche/Documents/Trabalho/Ironhack/Prepara%C3%A7%C3%A3o%20de%20Aula/Aulas%20Base%20-%20DA%20v2/5%20-%20Functional%20Programming.ipynb#ch0000113?line=3'>4</a>\u001b[0m \u001b[39m    '''\u001b[39;00m\n\u001b[0;32m----> <a href='vscode-notebook-cell:/Users/pedroteche/Documents/Trabalho/Ironhack/Prepara%C3%A7%C3%A3o%20de%20Aula/Aulas%20Base%20-%20DA%20v2/5%20-%20Functional%20Programming.ipynb#ch0000113?line=4'>5</a>\u001b[0m     x \u001b[39m=\u001b[39m x\u001b[39m+\u001b[39my\n\u001b[1;32m      <a href='vscode-notebook-cell:/Users/pedroteche/Documents/Trabalho/Ironhack/Prepara%C3%A7%C3%A3o%20de%20Aula/Aulas%20Base%20-%20DA%20v2/5%20-%20Functional%20Programming.ipynb#ch0000113?line=5'>6</a>\u001b[0m     \u001b[39mreturn\u001b[39;00m(x)\n",
      "\u001b[0;31mUnboundLocalError\u001b[0m: local variable 'x' referenced before assignment"
     ]
    }
   ],
   "source": [
    "x = 10\n",
    "y = 1\n",
    "nova_soma()"
   ]
  },
  {
   "cell_type": "markdown",
   "metadata": {},
   "source": [
    "É normal utilizar variáveis globais para representar constantes (Pi, diametro da Terra, número de regiões do Brasil, etc...). Neste caso utilizamos uma convenção de nomeamento de variáveis: nomes de variáveis globais são escritos em maiúsculas."
   ]
  },
  {
   "cell_type": "code",
   "execution_count": 45,
   "metadata": {},
   "outputs": [],
   "source": [
    "PI = 3.14\n",
    "\n",
    "def circ_area(diametro):\n",
    "    '''\n",
    "    Calcula a area de um circulo.\n",
    "        Parameters:\n",
    "            diametro Float: diametro do círculo\n",
    "        \n",
    "        Returns:\n",
    "            float: area\n",
    "    '''\n",
    "    raio = diametro/2\n",
    "    area = PI * raio ** 2\n",
    "    return area\n",
    "\n",
    "def circ_circum(diametro):\n",
    "    '''\n",
    "    Calcula a circumferencia de um circulo.\n",
    "        Parameters:\n",
    "            diametro Float: diametro do círculo\n",
    "        \n",
    "        Returns:\n",
    "            float: circumferencia\n",
    "    '''\n",
    "    circ = PI * diametro\n",
    "    return circ"
   ]
  },
  {
   "cell_type": "code",
   "execution_count": 46,
   "metadata": {},
   "outputs": [
    {
     "name": "stdout",
     "output_type": "stream",
     "text": [
      "19.625\n",
      "15.700000000000001\n"
     ]
    }
   ],
   "source": [
    "print(circ_area(5))\n",
    "print(circ_circum(5))"
   ]
  },
  {
   "cell_type": "markdown",
   "metadata": {},
   "source": [
    "# Funções podem criar funções!\n",
    "\n",
    "Uma função pode retornar qualquer tipo de objeto - incluindo outra função!"
   ]
  },
  {
   "cell_type": "code",
   "execution_count": 48,
   "metadata": {},
   "outputs": [],
   "source": [
    "def criar_print_educado(prefixo):\n",
    "    '''\n",
    "    Cria um novo print, mais educado (ou não...)\n",
    "        Parameters:\n",
    "            prefixo String: prefixo que será prefixado no novo print\n",
    "        Returns:\n",
    "            function: nova função print, que imprime o prefixo antes de qualquer valor \n",
    "    '''\n",
    "    def print_prefixo(x = ''):\n",
    "        print(prefixo + ' ' + str(x))\n",
    "        \n",
    "    return print_prefixo"
   ]
  },
  {
   "cell_type": "markdown",
   "metadata": {},
   "source": [
    "A função criada acima recebe um prefixo e retorna uma função que imprime este prefixo seguido de um argumento."
   ]
  },
  {
   "cell_type": "code",
   "execution_count": 49,
   "metadata": {},
   "outputs": [],
   "source": [
    "print_educado = criar_print_educado('Bom dia usuário!')"
   ]
  },
  {
   "cell_type": "markdown",
   "metadata": {},
   "source": [
    "Vamos ver o tipo do objeto `print_educado`:"
   ]
  },
  {
   "cell_type": "code",
   "execution_count": 50,
   "metadata": {},
   "outputs": [
    {
     "data": {
      "text/plain": [
       "function"
      ]
     },
     "execution_count": 50,
     "metadata": {},
     "output_type": "execute_result"
    }
   ],
   "source": [
    "type(print_educado)"
   ]
  },
  {
   "cell_type": "code",
   "execution_count": 53,
   "metadata": {},
   "outputs": [
    {
     "name": "stdout",
     "output_type": "stream",
     "text": [
      "Bom dia usuário! 10\n",
      "Bom dia usuário! None\n"
     ]
    }
   ],
   "source": [
    "print_educado(10)"
   ]
  },
  {
   "cell_type": "markdown",
   "metadata": {},
   "source": [
    "# Funções podem ser recursivas!\n",
    "\n",
    "Uma função recursiva retorna sua propria execução (quase como um loop while). Devemos tomar cuidado para que as funções recursivas sejam **finitas**."
   ]
  },
  {
   "cell_type": "code",
   "execution_count": 54,
   "metadata": {},
   "outputs": [],
   "source": [
    "def multiplicador_inteligente():\n",
    "    '''\n",
    "    Recebe entradas do usuário para X e Y e tenta retornar o resultado de X * Y.\n",
    "    Caso um dos dois valores não seja numérico, se retorna recursivamente.\n",
    "    '''\n",
    "    x = input('Qual o valor de X?')\n",
    "    y = input('Qual o valor de Y?')\n",
    "    if x.isnumeric() and y.isnumeric():\n",
    "        return float(x) * float(y)\n",
    "    else:\n",
    "        print('Por favor, digite apenas números!')\n",
    "        return multiplicador_inteligente()"
   ]
  },
  {
   "cell_type": "code",
   "execution_count": 55,
   "metadata": {},
   "outputs": [
    {
     "name": "stdout",
     "output_type": "stream",
     "text": [
      "Por favor, digite apenas números!\n",
      "Por favor, digite apenas números!\n"
     ]
    },
    {
     "data": {
      "text/plain": [
       "25.0"
      ]
     },
     "execution_count": 55,
     "metadata": {},
     "output_type": "execute_result"
    }
   ],
   "source": [
    "multiplicador_inteligente()"
   ]
  },
  {
   "cell_type": "markdown",
   "metadata": {},
   "source": [
    "Um uso clássico de funções recurssivas é percorrer árvores: estruturas de dados parecidas com a rede de seguidores em uma rede social.\n",
    "\n",
    "Já encontramos uma estrutura como essa: as nossas listas de listas! Vamos construir uma função para achatar listas de uma forma recurssiva:"
   ]
  },
  {
   "cell_type": "code",
   "execution_count": 24,
   "metadata": {},
   "outputs": [],
   "source": [
    "def achatar_lista(lista_de_listas):\n",
    "    if type(lista_de_listas) == list:\n",
    "        if len(lista_de_listas) == 0:\n",
    "            return []\n",
    "        prim, resto = lista_de_listas[0], lista_de_listas[1:]\n",
    "        return achatar_lista(prim) + achatar_lista(resto)\n",
    "    else:\n",
    "        return [lista_de_listas]"
   ]
  },
  {
   "cell_type": "code",
   "execution_count": 25,
   "metadata": {},
   "outputs": [
    {
     "data": {
      "text/plain": [
       "[1, 2, 3, 4]"
      ]
     },
     "execution_count": 25,
     "metadata": {},
     "output_type": "execute_result"
    }
   ],
   "source": [
    "achatar_lista([1,[2,[3,[4]]]])"
   ]
  },
  {
   "cell_type": "code",
   "execution_count": null,
   "metadata": {},
   "outputs": [],
   "source": []
  }
 ],
 "metadata": {
  "kernelspec": {
   "display_name": "Python 3",
   "language": "python",
   "name": "python3"
  },
  "language_info": {
   "codemirror_mode": {
    "name": "ipython",
    "version": 3
   },
   "file_extension": ".py",
   "mimetype": "text/x-python",
   "name": "python",
   "nbconvert_exporter": "python",
   "pygments_lexer": "ipython3",
   "version": "3.9.11"
  },
  "toc": {
   "base_numbering": 1,
   "nav_menu": {},
   "number_sections": true,
   "sideBar": true,
   "skip_h1_title": false,
   "title_cell": "Table of Contents",
   "title_sidebar": "Contents",
   "toc_cell": false,
   "toc_position": {},
   "toc_section_display": true,
   "toc_window_display": false
  },
  "varInspector": {
   "cols": {
    "lenName": 16,
    "lenType": 16,
    "lenVar": 40
   },
   "kernels_config": {
    "python": {
     "delete_cmd_postfix": "",
     "delete_cmd_prefix": "del ",
     "library": "var_list.py",
     "varRefreshCmd": "print(var_dic_list())"
    },
    "r": {
     "delete_cmd_postfix": ") ",
     "delete_cmd_prefix": "rm(",
     "library": "var_list.r",
     "varRefreshCmd": "cat(var_dic_list()) "
    }
   },
   "types_to_exclude": [
    "module",
    "function",
    "builtin_function_or_method",
    "instance",
    "_Feature"
   ],
   "window_display": false
  }
 },
 "nbformat": 4,
 "nbformat_minor": 4
}
