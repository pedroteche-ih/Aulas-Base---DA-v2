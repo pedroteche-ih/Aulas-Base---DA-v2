{
 "cells": [
  {
   "cell_type": "markdown",
   "metadata": {},
   "source": [
    "# Aula VIII - Paradigma OOP (Orientação a Objetos)\n",
    "\n",
    "Até agora vimos dois paradigmas de programação distintos: imperativo e funcional. Hoje entraremos em contato com um dos principais paradigmas: a orientação a objetos. Já tivemos contato com conceitos de OOP: sempre que utilizamos um **método**, estamos utilizando OOP!\n",
    "\n",
    "O que diferencia os **métodos** das **funções**? Métodos sempre estão ligados à um tipo específico, por exemplo:\n",
    "* `.append()` é um método de listas\n",
    "* `.keys()` é um método de dicts\n",
    "\n",
    "Diferentes tipos tem diferentes métodos (embora dois tipos possam ter métodos com o mesmo nome). Por isso dizemos que OOP é a combinação de **estruturas de dados** (lista, tupla, dicionário) com **funções** (append, index, keys). Hoje aprenderemos como podemos definir **classes** para criar nossos próprios tipos."
   ]
  },
  {
   "cell_type": "markdown",
   "metadata": {},
   "source": [
    "## O que é uma classe?"
   ]
  },
  {
   "cell_type": "markdown",
   "metadata": {},
   "source": [
    "> Uma estrutura que carrega funções e dados. Dentro das classes, funções são chamadas de `methods` e dados `attributes`."
   ]
  },
  {
   "cell_type": "code",
   "execution_count": null,
   "metadata": {},
   "outputs": [],
   "source": [
    "a = 'Pedro'\n",
    "type(a)"
   ]
  },
  {
   "cell_type": "code",
   "execution_count": null,
   "metadata": {},
   "outputs": [],
   "source": [
    "type(str)"
   ]
  },
  {
   "cell_type": "code",
   "execution_count": null,
   "metadata": {},
   "outputs": [],
   "source": [
    "type(list)"
   ]
  },
  {
   "cell_type": "markdown",
   "metadata": {},
   "source": [
    "### Creating a simple class\n",
    "\n",
    "No Python definimos uma classe através da palavra chave `class`. Uma classe é uma *blueprint* para objetos."
   ]
  },
  {
   "cell_type": "code",
   "execution_count": null,
   "metadata": {},
   "outputs": [],
   "source": [
    "class Retangulo:\n",
    "    pass"
   ]
  },
  {
   "cell_type": "code",
   "execution_count": null,
   "metadata": {},
   "outputs": [],
   "source": [
    "type(Retangulo)"
   ]
  },
  {
   "cell_type": "markdown",
   "metadata": {},
   "source": [
    "### Instanciando objetos I\n",
    "\n",
    "A definição da classe representa um **tipo** (a idéia de algo, o *blueprint*). Da mesma forma que temos a idéia de **strings**, temos **strings** particulares: o tipo `str` e o string `'abc'` por exemplo.\n",
    "\n",
    "Para instanciar uma classe que criamos, invocamos a classe (como fazemos com funções) - dessa forma criaremos um objeto a partir do *blueprint* definido pela classe!"
   ]
  },
  {
   "cell_type": "code",
   "execution_count": null,
   "metadata": {},
   "outputs": [],
   "source": [
    "meu_retangulo = Retangulo()"
   ]
  },
  {
   "cell_type": "code",
   "execution_count": null,
   "metadata": {},
   "outputs": [],
   "source": [
    "type(meu_retangulo)"
   ]
  },
  {
   "cell_type": "markdown",
   "metadata": {},
   "source": [
    "## O método `__init__`\n",
    "\n",
    "Quando instanciamos uma classe na verdade estamos utilizando um método que toda classe tem: o método `__init__`. Este método define o que devemos definir na criação de uma instância de uma classe.\n",
    "\n",
    "Para definir um **método** utilizamos a mesma notação que utilizamos uma notação muito semelhante à de funções."
   ]
  },
  {
   "cell_type": "code",
   "execution_count": null,
   "metadata": {},
   "outputs": [],
   "source": [
    "class Retangulo:\n",
    "    \n",
    "    def __init__(self, comprimento, largura):\n",
    "        '''\n",
    "        Método para instanciar (criar) um rentagulo.\n",
    "            comprimento: float\n",
    "            largura: float\n",
    "        '''\n",
    "        self.dim = (comprimento, largura)"
   ]
  },
  {
   "cell_type": "markdown",
   "metadata": {},
   "source": [
    "A primeira diferença é que, para definir um **método** e não uma **função** devemos utilizar a palavra-chave `def` dentro do bloco indentado da classe. A segunda é que (quase) todo método começa com um atributo chamado `self`. \n",
    "\n",
    "Este atributo *misterioso* é uma forma de referenciar a instancia. Um jeito de ver isso mais diretamente é instanciando uma classe e vendo seus `attributes`"
   ]
  },
  {
   "cell_type": "markdown",
   "metadata": {},
   "source": [
    "### Attributes\n",
    "\n",
    "Atributos são como características de uma classe. São como variáveis associadas à alguma classe"
   ]
  },
  {
   "cell_type": "code",
   "execution_count": null,
   "metadata": {},
   "outputs": [],
   "source": [
    "meu_retangulo = Retangulo(10, 15)"
   ]
  },
  {
   "cell_type": "code",
   "execution_count": null,
   "metadata": {},
   "outputs": [],
   "source": [
    "meu_retangulo.dim"
   ]
  },
  {
   "cell_type": "markdown",
   "metadata": {},
   "source": [
    "Os atributos de uma classe são as características de cada instancia da classe. Por exemplo, podemos pensar que a classe *Ser Humano* tem uma característica que é *Cor dos Olhos*. Eu, sendo uma instância desta classe, um **valor específico** para este atributo: marrom.\n",
    "\n",
    "Como vimos acima, por padrão devemos acessar os atributos de um objeto através de seu nome. Agora vamos aprender a definir como a função `print()` representa um objeto. "
   ]
  },
  {
   "cell_type": "markdown",
   "metadata": {},
   "source": [
    "## O método `__repr__`\n",
    "\n",
    "Outro método padrão, como o `__init__`, é o método `__repr__`: este método nos permite especificar como a função print irá representar uma instância da classe."
   ]
  },
  {
   "cell_type": "code",
   "execution_count": null,
   "metadata": {},
   "outputs": [],
   "source": [
    "class Retangulo:\n",
    "    \n",
    "    def __init__(self, comprimento, largura):\n",
    "        '''\n",
    "        Método para instanciar (criar) um rentagulo.\n",
    "            comprimento: float\n",
    "            largura: float\n",
    "        '''\n",
    "        self.dim = (comprimento, largura)\n",
    "    \n",
    "    def __repr__(self):\n",
    "        return f'Este é um retangulo de {self.dim[0]} por {self.dim[1]}'"
   ]
  },
  {
   "cell_type": "markdown",
   "metadata": {},
   "source": [
    "O método `__repr__` deve sempre retornar um **string**. No exemplo acima utilizamos um `f-string` para que quando utilizemos um print sobre nossos retangulos tenhamos um string com as dimensões do mesmo."
   ]
  },
  {
   "cell_type": "code",
   "execution_count": null,
   "metadata": {},
   "outputs": [],
   "source": [
    "ret = [Retangulo(10,15), Retangulo(10,15), Retangulo(10,15), Retangulo(10,15)]\n",
    "for retangulo in ret:\n",
    "    print(retangulo)"
   ]
  },
  {
   "cell_type": "markdown",
   "metadata": {},
   "source": [
    "## Nossos métodos\n",
    "\n",
    "Métodos são como funções. A diferença é que esta função é específica desta classe é será acessa através da notação `instancia_da_classe.nome_do_método()`"
   ]
  },
  {
   "cell_type": "code",
   "execution_count": null,
   "metadata": {},
   "outputs": [],
   "source": [
    "class Retangulo:\n",
    "    \n",
    "    def __init__(self, comprimento, largura):\n",
    "        '''\n",
    "        Método para instanciar (criar) um rentagulo.\n",
    "            comprimento: float\n",
    "            largura: float\n",
    "        '''\n",
    "        self.dim = (comprimento, largura)\n",
    "    \n",
    "    def __repr__(self):\n",
    "        return f'Este é um retangulo de {self.dim[0]} por {self.dim[1]}'\n",
    "    \n",
    "    def calcular_area(self):\n",
    "        return self.dim[0] * self.dim[1]"
   ]
  },
  {
   "cell_type": "code",
   "execution_count": null,
   "metadata": {},
   "outputs": [],
   "source": [
    "meu_retangulo = Retangulo(10, 15)\n",
    "print(meu_retangulo.calcular_area())"
   ]
  },
  {
   "cell_type": "markdown",
   "metadata": {},
   "source": [
    "### Operadores\n",
    "\n",
    "Podemos definir como nossa classe interage com operadores definindo métodos padrão para cada operador. Vamos definir um método para tornar possível a soma entre retangulos."
   ]
  },
  {
   "cell_type": "code",
   "execution_count": null,
   "metadata": {},
   "outputs": [],
   "source": [
    "class Retangulo:\n",
    "    \n",
    "    def __init__(self, comprimento, largura):\n",
    "        '''\n",
    "        Método para instanciar (criar) um rentagulo.\n",
    "            comprimento: float\n",
    "            largura: float\n",
    "        '''\n",
    "        self.dim = (comprimento, largura)\n",
    "    \n",
    "    def __repr__(self):\n",
    "        return f'Este é um retangulo de {self.dim[0]} por {self.dim[1]}'\n",
    "    \n",
    "    def __add__(self, other_rectangle):\n",
    "        return Retangulo(self.dim[0] + other_rectangle.dim[0], self.dim[1] + other_rectangle.dim[1])\n",
    "\n",
    "    \n",
    "    def calcular_area(self):\n",
    "        return self.dim[0] * self.dim[1]"
   ]
  },
  {
   "cell_type": "code",
   "execution_count": null,
   "metadata": {},
   "outputs": [],
   "source": [
    "meu_retangulo = Retangulo(10, 15)\n",
    "meu_outro_retangulo = Retangulo(5, 5)\n",
    "meu_3o_retangulo = meu_retangulo + meu_outro_retangulo\n",
    "print(meu_3o_retangulo)"
   ]
  },
  {
   "cell_type": "markdown",
   "metadata": {},
   "source": [
    "### Resumo \n",
    "\n",
    "Classes são como **moldes** que criam uma **instância** ou um **exemplo** de um objeto que compartilham propriedades (como `nome`,`cor_cabelo`, etc) entre si, porém, se diferenciam pelo valor que estas propriedades tomam (como `nome = 'Fitó'` vs `nome = 'Mc Donalds'`)"
   ]
  },
  {
   "cell_type": "markdown",
   "metadata": {},
   "source": [
    "In order to `call` our class, we see that 1 parameter is always given. We'll soon see that this first argument is always the `object itself`. Why would it pass itself? In that manner, you always are allowed to access all your objects attributes and methods everywhere.\n",
    "\n",
    "So let's add an argument to the `__init__` method"
   ]
  },
  {
   "cell_type": "markdown",
   "metadata": {},
   "source": [
    "# Class Inheritence - Herança\n",
    "\n",
    "Até agora vimos como definir uma classe do 0 - no entanto podemos aproveitar outras classes para definir novas classes. Esse conceito chama-se `herança` pois a nova classe herdará os métodos e atributos de outra classe.\n",
    "\n",
    "Vamos começar definindo a classe `Quadrado` a partir do 0 e depois vamos re-aproveitar a classe `Retangulo` através da herança."
   ]
  },
  {
   "cell_type": "code",
   "execution_count": null,
   "metadata": {},
   "outputs": [],
   "source": [
    "class Quadrado:\n",
    "    \n",
    "    def __init__(self, comprimento):\n",
    "        '''\n",
    "        Método para instanciar (criar) um rentagulo.\n",
    "            comprimento: float\n",
    "            largura: float\n",
    "        '''\n",
    "        self.dim = (comprimento, comprimento)\n",
    "    \n",
    "    def __repr__(self):\n",
    "        return f'Este é um quadrado de {self.dim[0]} por {self.dim[1]}'\n",
    "    \n",
    "    def calcular_area(self):\n",
    "        return self.dim[0] * self.dim[1]"
   ]
  },
  {
   "cell_type": "code",
   "execution_count": null,
   "metadata": {},
   "outputs": [],
   "source": [
    "meu_quadrado = Quadrado(5)\n",
    "print(meu_quadrado)\n",
    "print(meu_quadrado.calcular_area())"
   ]
  },
  {
   "cell_type": "markdown",
   "metadata": {},
   "source": [
    "Bem, um quadrado nada mais é que um retangulo cujas duas dimensões são iguais entre si. Vamos utilizar a herança de classe para facilitar a construção da classe quadrado."
   ]
  },
  {
   "cell_type": "code",
   "execution_count": null,
   "metadata": {},
   "outputs": [],
   "source": [
    "class Retangulo:\n",
    "    \n",
    "    def __init__(self, comprimento, largura):\n",
    "        '''\n",
    "        Método para instanciar (criar) um rentagulo.\n",
    "            comprimento: float\n",
    "            largura: float\n",
    "        '''\n",
    "        self.dim = (comprimento, largura)\n",
    "    \n",
    "    def __repr__(self):\n",
    "        return f'Este é um retangulo de {self.dim[0]} por {self.dim[1]}'\n",
    "    \n",
    "    def calcular_area(self):\n",
    "        return self.dim[0] * self.dim[1]"
   ]
  },
  {
   "cell_type": "markdown",
   "metadata": {},
   "source": [
    "Vamos utilizar a função `super()` para acessar os métodos da classe pai dentro da classe filho. Por exemplo, no caso dos quadrados queremos que o método `__init__` de um quadrado receba apenas um lado e que se utilize do método `__init__` dos retângulos (replicando o valor do parâmetro `lado` para as duas dimensões). "
   ]
  },
  {
   "cell_type": "code",
   "execution_count": null,
   "metadata": {},
   "outputs": [],
   "source": [
    "class Quadrado(Retangulo):\n",
    "    \n",
    "    def __init__(self, lado):\n",
    "        super().__init__(lado, lado)\n",
    "        \n",
    "    def __repr__(self):\n",
    "        return f'Este é um quadrado de {self.dim[0]} por {self.dim[1]}'"
   ]
  },
  {
   "cell_type": "markdown",
   "metadata": {},
   "source": [
    "Todo método que é redefinido na classe filho **sobrescreve** os métodos da classe pai! Ao redifinir os métodos `__init__` e `__repr__` estamos sobrescrevendo os métodos definidos na classe retangulo.\n",
    "\n",
    "Todos os outros métodos são mantidos (por exemplo, o método `.calcular_area()`)."
   ]
  },
  {
   "cell_type": "code",
   "execution_count": null,
   "metadata": {},
   "outputs": [],
   "source": [
    "meu_quadrado = Quadrado(5)\n",
    "print(meu_quadrado.calcular_area())"
   ]
  },
  {
   "cell_type": "markdown",
   "metadata": {},
   "source": [
    "Além de sobrescrever métodos específicos para mudar o comportamento da classe filho, podemos modifica-los para tratar métodos da classe pai que não fazem sentido no contexto da classe filho. Para isso utilizaremos o `raise` para levantar um erro."
   ]
  },
  {
   "cell_type": "code",
   "execution_count": null,
   "metadata": {},
   "outputs": [],
   "source": [
    "class Cubo(Quadrado):\n",
    "    \n",
    "    def __repr__(self):\n",
    "        return f'Este é um cubo de lado {self.dim[0]}'\n",
    "    \n",
    "    def calcular_volume(self):\n",
    "        return super().calcular_area() * self.dim[0]\n",
    "    \n",
    "    def calcular_area(self):\n",
    "        raise TypeError('Classe Cubo não tem area!')"
   ]
  },
  {
   "cell_type": "code",
   "execution_count": null,
   "metadata": {},
   "outputs": [],
   "source": [
    "meu_cubo = Cubo(5)"
   ]
  },
  {
   "cell_type": "code",
   "execution_count": null,
   "metadata": {},
   "outputs": [],
   "source": [
    "meu_cubo.calcular_area()"
   ]
  },
  {
   "cell_type": "code",
   "execution_count": null,
   "metadata": {},
   "outputs": [],
   "source": [
    "print(meu_cubo)"
   ]
  }
 ],
 "metadata": {
  "kernelspec": {
   "display_name": "Python 3",
   "language": "python",
   "name": "python3"
  },
  "language_info": {
   "codemirror_mode": {
    "name": "ipython",
    "version": 3
   },
   "file_extension": ".py",
   "mimetype": "text/x-python",
   "name": "python",
   "nbconvert_exporter": "python",
   "pygments_lexer": "ipython3",
   "version": "3.8.9"
  },
  "toc": {
   "base_numbering": 1,
   "nav_menu": {},
   "number_sections": true,
   "sideBar": true,
   "skip_h1_title": false,
   "title_cell": "Table of Contents",
   "title_sidebar": "Contents",
   "toc_cell": false,
   "toc_position": {},
   "toc_section_display": true,
   "toc_window_display": false
  },
  "toc-autonumbering": true,
  "toc-showcode": false,
  "toc-showmarkdowntxt": true,
  "varInspector": {
   "cols": {
    "lenName": 16,
    "lenType": 16,
    "lenVar": 40
   },
   "kernels_config": {
    "python": {
     "delete_cmd_postfix": "",
     "delete_cmd_prefix": "del ",
     "library": "var_list.py",
     "varRefreshCmd": "print(var_dic_list())"
    },
    "r": {
     "delete_cmd_postfix": ") ",
     "delete_cmd_prefix": "rm(",
     "library": "var_list.r",
     "varRefreshCmd": "cat(var_dic_list()) "
    }
   },
   "types_to_exclude": [
    "module",
    "function",
    "builtin_function_or_method",
    "instance",
    "_Feature"
   ],
   "window_display": false
  }
 },
 "nbformat": 4,
 "nbformat_minor": 4
}
