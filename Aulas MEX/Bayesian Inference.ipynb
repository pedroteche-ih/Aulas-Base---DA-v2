{
 "cells": [
  {
   "cell_type": "code",
   "execution_count": null,
   "metadata": {},
   "outputs": [],
   "source": [
    "import pandas as pd\n",
    "import numpy as np\n",
    "import scipy as sp\n",
    "import matplotlib.pyplot as plt\n",
    "import seaborn as sns\n",
    "sns.set_theme(context = \"notebook\", style = \"darkgrid\")"
   ]
  },
  {
   "cell_type": "markdown",
   "metadata": {},
   "source": [
    "# Bayes Theorem and Bayesian Data Analysis\n",
    "\n",
    "Basic Theory:\n",
    "https://www.gaussianwaves.com/2021/04/bayes-theorem/\n",
    "\n",
    "Workable Examples in Python:\n",
    "\n",
    "https://www.bayespy.org/examples/regression.html\n",
    "https://prappleizer.github.io/Tutorials/MCMC/MCMC_Tutorial.html\n",
    "\n",
    "Let's use Bayesian inference to evaluate the CTR of a digital marketing campaign!"
   ]
  },
  {
   "cell_type": "code",
   "execution_count": null,
   "metadata": {},
   "outputs": [],
   "source": [
    "# Defining our prior\n",
    "n_draws = 100000\n",
    "prior = np.random.uniform(0, 1, size=n_draws)\n",
    "sns.histplot(prior)"
   ]
  },
  {
   "cell_type": "code",
   "execution_count": null,
   "metadata": {},
   "outputs": [],
   "source": [
    "# Defining our generative model\n",
    "def generative_model(n, p):\n",
    "    result = np.random.binomial(n, p)\n",
    "    return result"
   ]
  },
  {
   "cell_type": "markdown",
   "metadata": {},
   "source": [
    "## Day 1\n",
    "\n",
    "On day 1 of the campaign, we observed 50 visits to the website, with 10 visitors actually completing a purchase. Let's update our prior with this data."
   ]
  },
  {
   "cell_type": "code",
   "execution_count": null,
   "metadata": {},
   "outputs": [],
   "source": [
    "observed = (50, 10)\n",
    "sim_data = list()\n",
    "for p in prior:\n",
    "    sim_data.append(generative_model(observed[0], p))"
   ]
  },
  {
   "cell_type": "code",
   "execution_count": null,
   "metadata": {},
   "outputs": [],
   "source": [
    "plt.hist(sim_data);"
   ]
  },
  {
   "cell_type": "markdown",
   "metadata": {},
   "source": [
    "Let's take a look at our posterior distribution - we can filter all simulations generated - keeping only those that match our observed data point"
   ]
  },
  {
   "cell_type": "code",
   "execution_count": null,
   "metadata": {},
   "outputs": [],
   "source": [
    "posterior = prior[list(map(lambda x: x == observed[1], sim_data))]\n",
    "plt.hist(posterior);"
   ]
  },
  {
   "cell_type": "markdown",
   "metadata": {},
   "source": [
    "We can calculate confidence intervals in a manner similar to a hypothesis test:"
   ]
  },
  {
   "cell_type": "code",
   "execution_count": null,
   "metadata": {},
   "outputs": [],
   "source": [
    "q25, med, q75 = np.round(np.quantile(posterior, [0.25, 0.5, 0.75]), 2)\n",
    "vals, counts = np.unique(np.round(posterior, 2), return_counts=True)\n",
    "mode_value = vals[np.argwhere(counts == np.max(counts)).flatten()]\n",
    "print(f\"MLE: {mode_value}\")\n",
    "print(f\"Q25: {q25} - Med.: {med} - Q75: {q75}\")"
   ]
  },
  {
   "cell_type": "markdown",
   "metadata": {},
   "source": [
    "## Day 2\n",
    "\n",
    "On day 2 we observed 83 visitors to our site, from these, 21 bought an item. Let's update our parameter distribution to include this.\n",
    "\n",
    "Note how the posterior distribution of Day 1 becomes the prior distribution of Day 2!"
   ]
  },
  {
   "cell_type": "code",
   "execution_count": null,
   "metadata": {},
   "outputs": [],
   "source": [
    "observed = (83, 21)\n",
    "sim_data = list()\n",
    "prior = np.array(list(posterior) * 100)\n",
    "for p in prior:\n",
    "        sim_data.append(generative_model(observed[0], p))\n",
    "\n",
    "posterior = prior[list(map(lambda x: x == observed[1], sim_data))]\n",
    "plt.hist(posterior);"
   ]
  },
  {
   "cell_type": "code",
   "execution_count": null,
   "metadata": {},
   "outputs": [],
   "source": [
    "q25, med, q75 = np.round(np.quantile(posterior, [0.25, 0.5, 0.75]), 2)\n",
    "vals, counts = np.unique(np.round(posterior, 2), return_counts=True)\n",
    "mode_value = vals[np.argwhere(counts == np.max(counts)).flatten()]\n",
    "print(f\"MLE: {mode_value}\")\n",
    "print(f\"Q25: {q25} - Med.: {med} - Q75: {q75}\")"
   ]
  },
  {
   "cell_type": "code",
   "execution_count": null,
   "metadata": {},
   "outputs": [],
   "source": [
    "def infer_posterior(data_point, prior):\n",
    "    sim_data = []\n",
    "    prior = np.array(list(prior) * int(100000/len(prior)))\n",
    "    for p in prior:\n",
    "        sim_data.append(generative_model(data_point[0], p))\n",
    "    posterior = prior[list(map(lambda x: x == data_point[1], sim_data))]\n",
    "    return posterior"
   ]
  },
  {
   "cell_type": "markdown",
   "metadata": {},
   "source": [
    "## Day 3\n",
    "\n",
    "On the third day the website was offline for a long period, we only got 10 visits, of which 7 were converted into sales. \n",
    "\n",
    "Let's use our inference function to update our parameter estimate:"
   ]
  },
  {
   "cell_type": "code",
   "execution_count": null,
   "metadata": {},
   "outputs": [],
   "source": [
    "observed = (10, 7)\n",
    "posterior = infer_posterior(observed, posterior)\n",
    "plt.hist(posterior);"
   ]
  },
  {
   "cell_type": "code",
   "execution_count": null,
   "metadata": {},
   "outputs": [],
   "source": [
    "q25, med, q75 = np.round(np.quantile(posterior, [0.25, 0.5, 0.75]), 2)\n",
    "vals, counts = np.unique(np.round(posterior, 2), return_counts=True)\n",
    "mode_value = vals[np.argwhere(counts == np.max(counts)).flatten()]\n",
    "print(f\"MLE: {mode_value}\")\n",
    "print(f\"Q25: {q25} - Med.: {med} - Q75: {q75}\")"
   ]
  },
  {
   "cell_type": "markdown",
   "metadata": {},
   "source": [
    "# Day 4"
   ]
  },
  {
   "cell_type": "code",
   "execution_count": null,
   "metadata": {},
   "outputs": [],
   "source": [
    "observed = (190, 63)\n",
    "posterior = infer_posterior(observed, posterior)\n",
    "plt.hist(posterior);"
   ]
  },
  {
   "cell_type": "code",
   "execution_count": null,
   "metadata": {},
   "outputs": [],
   "source": [
    "q25, med, q75 = np.round(np.quantile(posterior, [0.25, 0.5, 0.75]), 2)\n",
    "vals, counts = np.unique(np.round(posterior, 2), return_counts=True)\n",
    "mode_value = vals[np.argwhere(counts == np.max(counts)).flatten()]\n",
    "print(f\"MLE: {mode_value}\")\n",
    "print(f\"Q25: {q25} - Med.: {med} - Q75: {q75}\")"
   ]
  }
 ],
 "metadata": {
  "kernelspec": {
   "display_name": "Python 3.9.11 ('base')",
   "language": "python",
   "name": "python3"
  },
  "language_info": {
   "codemirror_mode": {
    "name": "ipython",
    "version": 3
   },
   "file_extension": ".py",
   "mimetype": "text/x-python",
   "name": "python",
   "nbconvert_exporter": "python",
   "pygments_lexer": "ipython3",
   "version": "3.9.11"
  },
  "orig_nbformat": 4,
  "vscode": {
   "interpreter": {
    "hash": "014f4a4a5af8f0104b12c029e500f4146d6d785e8cf714d2a35b7a9514230cd3"
   }
  }
 },
 "nbformat": 4,
 "nbformat_minor": 2
}
