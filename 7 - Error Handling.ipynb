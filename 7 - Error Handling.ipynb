{
 "cells": [
  {
   "cell_type": "markdown",
   "metadata": {},
   "source": [
    "# Aula VII - Error Handling\n",
    "\n",
    "* `Exceptions`: Objetos retornado pelo Python toda vez que a execução do nosso problema causa um erro fatal (nosso programa não consegue continuar rodando). Erros são contornáveis - hoje veremos como utilizar as clausulas `try/except` para **tratar** erros.\n",
    "\n",
    "**Dicas para Interpretação de Erros (debugging)**: \n",
    "\n",
    "1. Ao final da mensagem de erro temos a `exception` que causou o erro (em geral em vermelho).\n",
    "2. Após a `exception` temos a descrição do que a causou - muitas vezes isso é suficiente para entender o problema!\n",
    "3. Acima da `exception` temos a marcação da linha (e posição na linha) que causou o erro.\n",
    "\n",
    "## Antes de mais nada: Tipos de Erro\n",
    "\n",
    "Erros no python são **classificados** em tipos diferentes. Vamos ver os tipos mais comuns de erro que encontraremos ao longo do curso.\n",
    "\n",
    "### `SyntaxError`\n",
    "* `SyntaxErrors`, ou erros de *parsing*, são erros **ortográficos**. Esse tipo de `exception` não pode ser tratada - a leitura da descrição e posição do erro facilita muito descobrir exatamente onde cometemos um erro."
   ]
  },
  {
   "cell_type": "code",
   "execution_count": null,
   "metadata": {},
   "outputs": [],
   "source": [
    "print('Erro!'"
   ]
  },
  {
   "cell_type": "code",
   "execution_count": null,
   "metadata": {},
   "outputs": [],
   "source": [
    "print('Erro!'))"
   ]
  },
  {
   "cell_type": "code",
   "execution_count": null,
   "metadata": {},
   "outputs": [],
   "source": [
    "lista = [1,2,3]]"
   ]
  },
  {
   "cell_type": "code",
   "execution_count": null,
   "metadata": {},
   "outputs": [],
   "source": [
    "1 ˆ 3"
   ]
  },
  {
   "cell_type": "markdown",
   "metadata": {},
   "source": [
    "### `ModuleNotFoundError`\n",
    "\n",
    "* `ModuleNotFoundError`, ou erro de biblioteca, acontece quando tentamos importar uma biblioteca que não existe."
   ]
  },
  {
   "cell_type": "code",
   "execution_count": null,
   "metadata": {
    "ExecuteTime": {
     "end_time": "2020-07-23T00:16:46.885092Z",
     "start_time": "2020-07-23T00:16:46.878094Z"
    }
   },
   "outputs": [],
   "source": [
    "import rre\n",
    "string = 'Isso levantará uma exception'\n",
    "pattern = 'uma'\n",
    "re.findall(string, pattern)"
   ]
  },
  {
   "cell_type": "markdown",
   "metadata": {},
   "source": [
    "### `NameError`\n",
    "\n",
    "* `NameError`, ou erro de variável, acontece quando tentamos recuperar uma variável que ainda não existe. Este erro **É MUITO COMUM**: as vezes achamos que uma variável tem um nome e ela tem outro, ou então confundimos os caracteres da variável (por exemplo `1` por `I` ou então `A` por `a`)"
   ]
  },
  {
   "cell_type": "code",
   "execution_count": null,
   "metadata": {},
   "outputs": [],
   "source": [
    "string_1 = 'Isso levantará uma exception'\n",
    "print(string)"
   ]
  },
  {
   "cell_type": "markdown",
   "metadata": {},
   "source": [
    "Outra forma comum de ocorrência deste erro é quando tentamos recuperar uma variável sem perceber que ela se encontra no escopo local de uma função."
   ]
  },
  {
   "cell_type": "code",
   "execution_count": null,
   "metadata": {},
   "outputs": [],
   "source": [
    "def funcao_escopo():\n",
    "    x_local = 1\n",
    "    return x_local\n",
    "\n",
    "print(x_local)"
   ]
  },
  {
   "cell_type": "markdown",
   "metadata": {},
   "source": [
    "Erros dentro de uma função (com exceção dos erros ortográficos) só *explodem* quando tentamos invocar a função:"
   ]
  },
  {
   "cell_type": "code",
   "execution_count": null,
   "metadata": {},
   "outputs": [],
   "source": [
    "def funcao_escopo():\n",
    "    return x_nao_e_local"
   ]
  },
  {
   "cell_type": "code",
   "execution_count": null,
   "metadata": {},
   "outputs": [],
   "source": [
    "funcao_escopo()"
   ]
  },
  {
   "cell_type": "markdown",
   "metadata": {},
   "source": [
    "### `TypeError`\n",
    "* `TypeError`, ou erros de tipo, acontecem quando tentamos realizar uma operação que só aceita variáveis do tipo A (**invocar** uma variável do tipo **função** por exemplo) com uma variável do tipo B."
   ]
  },
  {
   "cell_type": "code",
   "execution_count": null,
   "metadata": {
    "ExecuteTime": {
     "end_time": "2020-07-23T00:34:12.548707Z",
     "start_time": "2020-07-23T00:34:12.545708Z"
    }
   },
   "outputs": [],
   "source": [
    "1 + '1'"
   ]
  },
  {
   "cell_type": "code",
   "execution_count": null,
   "metadata": {},
   "outputs": [],
   "source": [
    "x = 1\n",
    "y = '2'\n",
    "x + y"
   ]
  },
  {
   "cell_type": "code",
   "execution_count": null,
   "metadata": {},
   "outputs": [],
   "source": [
    "erro_tipo = 'Erro!'\n",
    "erro_tipo()"
   ]
  },
  {
   "cell_type": "code",
   "execution_count": null,
   "metadata": {},
   "outputs": [],
   "source": [
    "i = '1'\n",
    "lista_exemplo = [1, 2, 3]\n",
    "lista_exemplo[i]"
   ]
  },
  {
   "cell_type": "code",
   "execution_count": null,
   "metadata": {},
   "outputs": [],
   "source": [
    "for i in 10:\n",
    "    print(i)"
   ]
  },
  {
   "cell_type": "markdown",
   "metadata": {},
   "source": [
    "### `ZeroDivisionError`\n",
    "* `ZeroDivisionError`, ou divisão por 0, é um erro que ocorre sempre que tentamos dividir um número por 0."
   ]
  },
  {
   "cell_type": "code",
   "execution_count": null,
   "metadata": {},
   "outputs": [],
   "source": [
    "1/0"
   ]
  },
  {
   "cell_type": "code",
   "execution_count": null,
   "metadata": {
    "ExecuteTime": {
     "end_time": "2020-07-23T00:56:23.048120Z",
     "start_time": "2020-07-23T00:56:23.042120Z"
    }
   },
   "outputs": [],
   "source": [
    "for i in [10, 0, 3, 0]:\n",
    "    print(10/i)"
   ]
  },
  {
   "cell_type": "markdown",
   "metadata": {},
   "source": [
    "Existem muitos outros tipos de `exception`, podemos inclusive definir novas `exceptions` (como definimos novas funções)! No entato, as `exceptions` mostradas acima cobrem, em grande parte, os erros mais comuns."
   ]
  },
  {
   "cell_type": "markdown",
   "metadata": {},
   "source": [
    "### `IndexError` e `KeyError`\n",
    "\n",
    "* `IndexError`/`KeyError` ocorre toda vez que tentamos acessar um elemento de um iterável através de um indíce que não existe nesse iterável: por exemplo, a posição de uma lista (`IndexError`) ou uma chave de um dicionário (`KeyError`)."
   ]
  },
  {
   "cell_type": "code",
   "execution_count": null,
   "metadata": {},
   "outputs": [],
   "source": [
    "erro_lista = [1, 2, 3]\n",
    "erro_lista[4]"
   ]
  },
  {
   "cell_type": "code",
   "execution_count": null,
   "metadata": {},
   "outputs": [],
   "source": [
    "for i in range(4):\n",
    "    print(erro_lista[i] + i)"
   ]
  },
  {
   "cell_type": "code",
   "execution_count": null,
   "metadata": {},
   "outputs": [],
   "source": [
    "erro_dict = dict()\n",
    "erro_dict['beringela'] = 10"
   ]
  },
  {
   "cell_type": "code",
   "execution_count": null,
   "metadata": {},
   "outputs": [],
   "source": [
    "erro_dict['feijao']"
   ]
  },
  {
   "cell_type": "markdown",
   "metadata": {},
   "source": [
    "## Tratando Erros\n",
    "### 1a maneira: Condicionais `if`\n",
    "Já conseguimos tratar erros com o que aprendemos até agora: podemos utilizar condicionais para *capturar* as condições de um erro antes dele acontecer!"
   ]
  },
  {
   "cell_type": "code",
   "execution_count": null,
   "metadata": {
    "ExecuteTime": {
     "end_time": "2020-07-23T00:57:52.766827Z",
     "start_time": "2020-07-23T00:57:52.763792Z"
    }
   },
   "outputs": [],
   "source": [
    "def divisao_segura(x, y):\n",
    "    '''\n",
    "    Divide x por y, validando se y != 0\n",
    "    '''\n",
    "    \n",
    "    if y != 0:\n",
    "        return x/y\n",
    "    else:\n",
    "        return 'Erro na divisão, y == 0!'\n",
    "\n",
    "for i in range(10):\n",
    "    print(divisao_segura(10, i))"
   ]
  },
  {
   "cell_type": "markdown",
   "metadata": {},
   "source": [
    "### 2a maneira: A palavra-chave `raise`\n",
    "\n",
    "Podemos tratar erros simplificando a leitura do erro para os usuários de nosso script. O comando `raise` nos permite *levantar* uma `exception` com uma mensagem customizada de erro. \n",
    "\n",
    "**Sintáxe**\n",
    "```python\n",
    "raise TipoDeExceção('Mensagem que queremos deixar para o usuário')\n",
    "```"
   ]
  },
  {
   "cell_type": "code",
   "execution_count": null,
   "metadata": {
    "ExecuteTime": {
     "end_time": "2020-07-23T01:03:31.539681Z",
     "start_time": "2020-07-23T01:03:31.536679Z"
    }
   },
   "outputs": [],
   "source": [
    "def numero_par(numero):\n",
    "    '''\n",
    "    Levanta um TypeError caso o número não seja par.\n",
    "    '''\n",
    "    numero = int(numero)\n",
    "    if numero % 2 != 0:\n",
    "        raise TypeError('O número não é par!')\n",
    "        #print('Esse número não é par')\n",
    "    else:\n",
    "        print('Esse número é par')"
   ]
  },
  {
   "cell_type": "code",
   "execution_count": null,
   "metadata": {},
   "outputs": [],
   "source": [
    "numero_par(3)"
   ]
  },
  {
   "cell_type": "markdown",
   "metadata": {},
   "source": [
    "Vamos construir um exemplo juntos. Vamos construir uma versão da função `somar_lista` que trate os diferentes erros que podem surgir em sua execução levantando `exceptions` com mensagens descrevendo cada um dos erros possíveis."
   ]
  },
  {
   "cell_type": "code",
   "execution_count": null,
   "metadata": {},
   "outputs": [],
   "source": [
    "def somar_lista(lista):\n",
    "    '''\n",
    "    Calcula a soma dos elementos de uma lista.\n",
    "        Parameters:\n",
    "            lista List: lista de elementos a serem somados\n",
    "        Returns:\n",
    "            numeric: Resultado da soma\n",
    "    '''\n",
    "    soma = 0\n",
    "    for elemento in lista:\n",
    "        soma += elemento\n",
    "    return soma"
   ]
  },
  {
   "cell_type": "markdown",
   "metadata": {},
   "source": [
    "### 3a maneira - *pegando* `Exceptions`\n",
    "\n",
    "Além de levantar `exceptions` tornando nosso código mais legível, podemos utilizar a estrutura de controle **`Try`/`Except`** para tratar automaticamente `exceptions` que sejam levantadas. Os blocos indentados `Try:` e `Except:` nos permite criar condições (como um `if`) flexíveis (ao contrário do `if`) para lidar com diferentes tipos de `exceptions`.\n",
    "\n",
    "**Sintáxe**\n",
    "```python\n",
    "try:\n",
    "    bloco de código a ser executado\n",
    "except TipoDeErro:\n",
    "    o que fazer caso um erro qualquer aconteça\n",
    "```\n",
    "\n",
    "ou, mais apropriadamente:\n",
    "\n",
    "```python\n",
    "try:\n",
    "    bloco de código a ser executado\n",
    "except TipoDeErro:\n",
    "    o que fazer caso um erro do tipo TipoDeErro aconteça\n",
    "```\n",
    "\n"
   ]
  },
  {
   "cell_type": "code",
   "execution_count": null,
   "metadata": {
    "ExecuteTime": {
     "end_time": "2020-07-23T01:08:28.930737Z",
     "start_time": "2020-07-23T01:08:28.927736Z"
    }
   },
   "outputs": [],
   "source": [
    "def calcular_soma(lista):\n",
    "    '''\n",
    "    Calcula a soma dos elementos de uma lista.\n",
    "    '''\n",
    "    try:\n",
    "        soma = 0\n",
    "        for elemento in lista:\n",
    "            soma += elemento\n",
    "        return soma\n",
    "    except:\n",
    "        return None\n",
    "        "
   ]
  },
  {
   "cell_type": "code",
   "execution_count": null,
   "metadata": {},
   "outputs": [],
   "source": [
    "a = calcular_soma([1,2,'zero'])"
   ]
  },
  {
   "cell_type": "markdown",
   "metadata": {},
   "source": [
    "As tratativas genéricas, onde não especificamos o tipo de erro que queremos tratar são *extremamente perigosas*: **ERROS SÃO NOSSOS AMIGOS!** Erros nos permitem entender o que está acontecendo de inesperado em nosso código antes que este inesperado aconteça! Utilizar uma tratativa sem pensar no que ela está tratando é receita para o desastre..."
   ]
  },
  {
   "cell_type": "code",
   "execution_count": null,
   "metadata": {},
   "outputs": [],
   "source": [
    "def calcular_soma(lista):\n",
    "    '''\n",
    "    Calcula a soma dos elementos de uma lista.\n",
    "    '''\n",
    "    try:\n",
    "        soma = 0\n",
    "        for elemento in lista:\n",
    "            soma += elemento\n",
    "        return soma\n",
    "    except TypeError as e:\n",
    "        print(f'Algo deu errado: {e}!')\n",
    "        return 0"
   ]
  },
  {
   "cell_type": "code",
   "execution_count": null,
   "metadata": {},
   "outputs": [],
   "source": [
    "def calcular_soma(lista):\n",
    "    '''\n",
    "    Calcula a soma dos elementos de uma lista.\n",
    "    '''\n",
    "    soma = 0\n",
    "    for elemento in lista:\n",
    "        try:\n",
    "            soma += elemento\n",
    "        except TypeError as e:\n",
    "            print(f'Erro no elemento {elemento}: {e}')\n",
    "    return soma"
   ]
  },
  {
   "cell_type": "code",
   "execution_count": null,
   "metadata": {},
   "outputs": [],
   "source": [
    "calcular_soma([1, 2, '3'])"
   ]
  },
  {
   "cell_type": "markdown",
   "metadata": {},
   "source": [
    "#### Estruturas Hierárquicas em Blocos `try:`/`except:`\n",
    "\n",
    "Assim como em outros blocos indentados, podemos colocar um bloco `try\\except` dentro de outro (seja na clausula `try` seja na `except`). Vamos construir as tratativas necessárias para uma nova função: `dividir_por_lista`."
   ]
  },
  {
   "cell_type": "code",
   "execution_count": null,
   "metadata": {},
   "outputs": [],
   "source": [
    "def dividir_por_lista(x, lista_denominadores):\n",
    "    '''\n",
    "    Cria uma lista de X/denominador, onde cada elemento da lista_denominadores é um dos denominadores\n",
    "    Parameters:\n",
    "        x Numeric: numerador das divisões.\n",
    "        lista_denominadores List: lista de denominadores.\n",
    "    Returns:\n",
    "        list: lista com o resultado da divisão de x por cada um dos elementos da lista_denominadores.\n",
    "    '''\n",
    "    lista_divisao = [x/denominador for denominador in lista_denominadores]\n",
    "    return lista_divisao"
   ]
  },
  {
   "cell_type": "code",
   "execution_count": null,
   "metadata": {},
   "outputs": [],
   "source": []
  },
  {
   "cell_type": "markdown",
   "metadata": {},
   "source": [
    "### Contextos em blocos `try/except`\n",
    "\n",
    "Até agora vimos dois contextos nos blocos `try/except`: o bloco indentado do `try` (o código no qual queremos tratar erros) e o bloco indentado do `except` (o código a ser executado quando encontrarmos um tipo específico de erro). Além desses dois blocos também temos, possivelmente, outros dois: `else/finally`. Vamos estruturar esses 4 blocos em sua ordem e função:\n",
    "\n",
    "* `try:` bloco de código que *queremos* rodar, *pegando* erros de tipos determinados.\n",
    "* `except:` bloco de código que queremos rodar quando algum erro acontece no bloco `try`.\n",
    "* `else:` bloco de código que podemos rodar quando nenhuma excessão ocorreu (roda imediatamente após o `try` quando este não captura nenhuma `exception`).\n",
    "* `finally:` bloco de código de sempre roda, independente de um erro acontecer ou não no bloco `try`.\n",
    "\n",
    "\n",
    "#### Contexto `else`\n",
    "\n",
    "O contexto `else` é processado sempre que nenhuma `exception` seja levantada durante o contexto `try`:"
   ]
  },
  {
   "cell_type": "code",
   "execution_count": null,
   "metadata": {
    "ExecuteTime": {
     "end_time": "2020-07-23T01:11:23.864674Z",
     "start_time": "2020-07-23T01:11:23.859673Z"
    }
   },
   "outputs": [],
   "source": [
    "x = 10\n",
    "y = 1\n",
    "try:\n",
    "    print(x/y)\n",
    "except ZeroDivisionError:\n",
    "    print('Divisão por zero! Ou qualquer outro erro...')\n",
    "else:\n",
    "    print('Deu tudo certo!')"
   ]
  },
  {
   "cell_type": "code",
   "execution_count": null,
   "metadata": {},
   "outputs": [],
   "source": [
    "x = 10\n",
    "y = 1\n",
    "try:\n",
    "    print(x/y)\n",
    "except ZeroDivisionError:\n",
    "    print('Divisão por zero! Ou qualquer outro erro...')\n",
    "else:\n",
    "    print(x/(y-1))"
   ]
  },
  {
   "cell_type": "markdown",
   "metadata": {},
   "source": [
    "#### Contexto `finally`\n",
    "\n",
    "O código do contexto `finally`  é **sempre executado**, independentemente do que ocorra nos blocos `try` e `except`. Ele é utilizado para especificar coisas que **precisam acontecer**, por exemplo fechar uma conexão com um DB antes de finalizar o processamento."
   ]
  },
  {
   "cell_type": "code",
   "execution_count": null,
   "metadata": {
    "ExecuteTime": {
     "end_time": "2020-07-23T01:15:26.040461Z",
     "start_time": "2020-07-23T01:15:26.036459Z"
    }
   },
   "outputs": [],
   "source": [
    "x = 10\n",
    "y = 0\n",
    "try:\n",
    "    print(x/y)\n",
    "except:\n",
    "    print('Divisão por zero! Ou qualquer outro erro...')\n",
    "else:\n",
    "    print('Deu tudo certo!')\n",
    "finally:\n",
    "    print('Acabou!')"
   ]
  }
 ],
 "metadata": {
  "kernelspec": {
   "display_name": "Python 3",
   "language": "python",
   "name": "python3"
  },
  "language_info": {
   "codemirror_mode": {
    "name": "ipython",
    "version": 3
   },
   "file_extension": ".py",
   "mimetype": "text/x-python",
   "name": "python",
   "nbconvert_exporter": "python",
   "pygments_lexer": "ipython3",
   "version": "3.9.11"
  },
  "toc": {
   "base_numbering": 1,
   "nav_menu": {},
   "number_sections": true,
   "sideBar": true,
   "skip_h1_title": false,
   "title_cell": "Table of Contents",
   "title_sidebar": "Contents",
   "toc_cell": false,
   "toc_position": {},
   "toc_section_display": true,
   "toc_window_display": false
  },
  "varInspector": {
   "cols": {
    "lenName": 16,
    "lenType": 16,
    "lenVar": 40
   },
   "kernels_config": {
    "python": {
     "delete_cmd_postfix": "",
     "delete_cmd_prefix": "del ",
     "library": "var_list.py",
     "varRefreshCmd": "print(var_dic_list())"
    },
    "r": {
     "delete_cmd_postfix": ") ",
     "delete_cmd_prefix": "rm(",
     "library": "var_list.r",
     "varRefreshCmd": "cat(var_dic_list()) "
    }
   },
   "types_to_exclude": [
    "module",
    "function",
    "builtin_function_or_method",
    "instance",
    "_Feature"
   ],
   "window_display": false
  }
 },
 "nbformat": 4,
 "nbformat_minor": 4
}
