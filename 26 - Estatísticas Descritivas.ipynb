{
 "cells": [
  {
   "cell_type": "markdown",
   "id": "4263403d",
   "metadata": {
    "toc": true
   },
   "source": [
    "<h1>Table of Contents<span class=\"tocSkip\"></span></h1>\n",
    "<div class=\"toc\"><ul class=\"toc-item\"><li><span><a href=\"#Estatísticas-Descritivas\" data-toc-modified-id=\"Estatísticas-Descritivas-1\"><span class=\"toc-item-num\">1&nbsp;&nbsp;</span>Estatísticas Descritivas</a></span><ul class=\"toc-item\"><li><span><a href=\"#Geyser-dataset\" data-toc-modified-id=\"Geyser-dataset-1.1\"><span class=\"toc-item-num\">1.1&nbsp;&nbsp;</span>Geyser dataset</a></span></li></ul></li><li><span><a href=\"#Localização\" data-toc-modified-id=\"Localização-2\"><span class=\"toc-item-num\">2&nbsp;&nbsp;</span>Localização</a></span></li><li><span><a href=\"#Dispersão\" data-toc-modified-id=\"Dispersão-3\"><span class=\"toc-item-num\">3&nbsp;&nbsp;</span>Dispersão</a></span><ul class=\"toc-item\"><li><span><a href=\"#Desvio-padrão\" data-toc-modified-id=\"Desvio-padrão-3.1\"><span class=\"toc-item-num\">3.1&nbsp;&nbsp;</span>Desvio padrão</a></span></li><li><span><a href=\"#IQR-(Amplitude-interquartil)\" data-toc-modified-id=\"IQR-(Amplitude-interquartil)-3.2\"><span class=\"toc-item-num\">3.2&nbsp;&nbsp;</span>IQR (Amplitude interquartil)</a></span></li></ul></li><li><span><a href=\"#Vizualizando-localização/dispersão\" data-toc-modified-id=\"Vizualizando-localização/dispersão-4\"><span class=\"toc-item-num\">4&nbsp;&nbsp;</span>Vizualizando localização/dispersão</a></span><ul class=\"toc-item\"><li><span><a href=\"#Simulando-dados\" data-toc-modified-id=\"Simulando-dados-4.1\"><span class=\"toc-item-num\">4.1&nbsp;&nbsp;</span>Simulando dados</a></span></li><li><span><a href=\"#Diferença-de-localização\" data-toc-modified-id=\"Diferença-de-localização-4.2\"><span class=\"toc-item-num\">4.2&nbsp;&nbsp;</span>Diferença de localização</a></span></li><li><span><a href=\"#Diferença-de-dispersão\" data-toc-modified-id=\"Diferença-de-dispersão-4.3\"><span class=\"toc-item-num\">4.3&nbsp;&nbsp;</span>Diferença de dispersão</a></span></li><li><span><a href=\"#Vizualizando-Indicadores-Robustos\" data-toc-modified-id=\"Vizualizando-Indicadores-Robustos-4.4\"><span class=\"toc-item-num\">4.4&nbsp;&nbsp;</span>Vizualizando Indicadores Robustos</a></span></li></ul></li><li><span><a href=\"#VOLTAMOS-21H05\" data-toc-modified-id=\"VOLTAMOS-21H05-5\"><span class=\"toc-item-num\">5&nbsp;&nbsp;</span>VOLTAMOS 21H05</a></span></li></ul></div>"
   ]
  },
  {
   "cell_type": "markdown",
   "id": "a6b7f89f",
   "metadata": {},
   "source": [
    "# Estatísticas Descritivas\n",
    "\n",
    "Uma das principais ferramentas na investigação de um conjunto de dados são as **estatísticas descritivas**. Estatísticas descritivas são **funções** (no sentido matemático) que resumem um vetor de dados (por exemplo, uma coluna do Pandas) em **um número**. O exemplo clássico de estatística descrita é a **média**: dado um conjunto de observações (alturas de indivíduos), podemos calcular a **altura média** desses indivíduos.\n",
    "\n",
    "\n",
    "\n",
    "Além de serem úteis na exploração de um conjunto de dados, as estatísticas descritivas nos permitem fazer **inferências** sobre uma população a partir de uma amostra dessa população: \n",
    "\n",
    "> Um cientista político deseja descobrir como a população de um país se sente com relação à diferentes candidatos em uma eleição, pedindo que cada pessoa de uma nota de 0 à 10 para cada candidato. Obviamente, este cientista não tem como entrevistar todas as pessoas de um país, ele precisará conduzir sua entrevista para uma amostra da população. A **inferência estatística** nos permite estimar as estatísticas descritivas de uma população a partir dessas mesmas estatísticas em uma amostra. Desta forma, o cientista poderá **estimar**, com grau de confiabilidade conhecido, as opções da população como um todo a partir de uma amostra aleatória.\n",
    "\n",
    "A **inferência estatística** nos permite estimar dados de uma população através de observações conduzidas sobre uma amostra. O caminho reverso, a **amostragem**, nos permite criar observações a partir de uma população conhecida. Este tipo de análise é usado predominantemente de duas: \n",
    "\n",
    "1. **DOEs** (*design of experiments*): utilizamos estimativas dos parâmetros de uma população para criar uma estratégia de amostragem em um experimento;\n",
    "    * No exemplo acima, o cientista político precisa calcular o grau de confiabilidade para diferentes tamanhos de amostra.\n",
    "1. **Simulação de Monte Carlo**: utilizamos estimativas dos parâmetros de uma população para simular um processo.\n",
    "    * Podemos utilizar parâmetros mensurados em um cruzamento para simular como diferentes volumetrias de carro podem impactar o trânsito em uma avênida.\n",
    "\n",
    "![image.png](images/inference.png)"
   ]
  },
  {
   "cell_type": "markdown",
   "id": "3718444c",
   "metadata": {},
   "source": [
    "## Geyser dataset\n",
    "\n",
    "Vamos analisar como diferentes estatísticas descritivas podem ser utilizadas e quando devemos evitar uma ou outra medida. Para essa aula utilizaremos o conjunto de dados `Geyser` que contém três variáveis relacionadas à erupções do geiser *Old Faithful* no parque de Yellowstone nos EUA:\n",
    "\n",
    "1. O tempo desde a última erupção (variável continua);\n",
    "1. A duração da erupção (variável continua);\n",
    "1. O tipo de erupção (variável discreta).\n",
    "\n",
    "Fonte: https://stat.ethz.ch/R-manual/R-devel/library/datasets/html/faithful.html"
   ]
  },
  {
   "cell_type": "code",
   "execution_count": 4,
   "id": "98bca730",
   "metadata": {
    "ExecuteTime": {
     "end_time": "2022-02-24T22:46:47.164774Z",
     "start_time": "2022-02-24T22:46:44.977981Z"
    }
   },
   "outputs": [],
   "source": [
    "import pandas as pd\n",
    "import seaborn as sns\n",
    "import numpy as np\n",
    "from matplotlib import pyplot as plt"
   ]
  },
  {
   "cell_type": "code",
   "execution_count": 5,
   "id": "8d0c733c",
   "metadata": {
    "ExecuteTime": {
     "end_time": "2022-02-24T22:46:55.576557Z",
     "start_time": "2022-02-24T22:46:55.557605Z"
    }
   },
   "outputs": [],
   "source": [
    "tb_geyser = sns.load_dataset('geyser')"
   ]
  },
  {
   "cell_type": "code",
   "execution_count": 6,
   "id": "86cb4838",
   "metadata": {
    "ExecuteTime": {
     "end_time": "2022-02-24T22:46:56.648122Z",
     "start_time": "2022-02-24T22:46:56.625183Z"
    }
   },
   "outputs": [
    {
     "data": {
      "text/html": [
       "<div>\n",
       "<style scoped>\n",
       "    .dataframe tbody tr th:only-of-type {\n",
       "        vertical-align: middle;\n",
       "    }\n",
       "\n",
       "    .dataframe tbody tr th {\n",
       "        vertical-align: top;\n",
       "    }\n",
       "\n",
       "    .dataframe thead th {\n",
       "        text-align: right;\n",
       "    }\n",
       "</style>\n",
       "<table border=\"1\" class=\"dataframe\">\n",
       "  <thead>\n",
       "    <tr style=\"text-align: right;\">\n",
       "      <th></th>\n",
       "      <th>duration</th>\n",
       "      <th>waiting</th>\n",
       "      <th>kind</th>\n",
       "    </tr>\n",
       "  </thead>\n",
       "  <tbody>\n",
       "    <tr>\n",
       "      <th>0</th>\n",
       "      <td>3.600</td>\n",
       "      <td>79</td>\n",
       "      <td>long</td>\n",
       "    </tr>\n",
       "    <tr>\n",
       "      <th>1</th>\n",
       "      <td>1.800</td>\n",
       "      <td>54</td>\n",
       "      <td>short</td>\n",
       "    </tr>\n",
       "    <tr>\n",
       "      <th>2</th>\n",
       "      <td>3.333</td>\n",
       "      <td>74</td>\n",
       "      <td>long</td>\n",
       "    </tr>\n",
       "    <tr>\n",
       "      <th>3</th>\n",
       "      <td>2.283</td>\n",
       "      <td>62</td>\n",
       "      <td>short</td>\n",
       "    </tr>\n",
       "    <tr>\n",
       "      <th>4</th>\n",
       "      <td>4.533</td>\n",
       "      <td>85</td>\n",
       "      <td>long</td>\n",
       "    </tr>\n",
       "  </tbody>\n",
       "</table>\n",
       "</div>"
      ],
      "text/plain": [
       "   duration  waiting   kind\n",
       "0     3.600       79   long\n",
       "1     1.800       54  short\n",
       "2     3.333       74   long\n",
       "3     2.283       62  short\n",
       "4     4.533       85   long"
      ]
     },
     "execution_count": 6,
     "metadata": {},
     "output_type": "execute_result"
    }
   ],
   "source": [
    "tb_geyser.head()"
   ]
  },
  {
   "cell_type": "code",
   "execution_count": 7,
   "id": "991ec89f",
   "metadata": {
    "ExecuteTime": {
     "end_time": "2022-02-24T22:47:20.146639Z",
     "start_time": "2022-02-24T22:47:20.122702Z"
    }
   },
   "outputs": [
    {
     "data": {
      "text/html": [
       "<div>\n",
       "<style scoped>\n",
       "    .dataframe tbody tr th:only-of-type {\n",
       "        vertical-align: middle;\n",
       "    }\n",
       "\n",
       "    .dataframe tbody tr th {\n",
       "        vertical-align: top;\n",
       "    }\n",
       "\n",
       "    .dataframe thead th {\n",
       "        text-align: right;\n",
       "    }\n",
       "</style>\n",
       "<table border=\"1\" class=\"dataframe\">\n",
       "  <thead>\n",
       "    <tr style=\"text-align: right;\">\n",
       "      <th></th>\n",
       "      <th>duration</th>\n",
       "      <th>waiting</th>\n",
       "    </tr>\n",
       "  </thead>\n",
       "  <tbody>\n",
       "    <tr>\n",
       "      <th>count</th>\n",
       "      <td>272.000000</td>\n",
       "      <td>272.000000</td>\n",
       "    </tr>\n",
       "    <tr>\n",
       "      <th>mean</th>\n",
       "      <td>3.487783</td>\n",
       "      <td>70.897059</td>\n",
       "    </tr>\n",
       "    <tr>\n",
       "      <th>std</th>\n",
       "      <td>1.141371</td>\n",
       "      <td>13.594974</td>\n",
       "    </tr>\n",
       "    <tr>\n",
       "      <th>min</th>\n",
       "      <td>1.600000</td>\n",
       "      <td>43.000000</td>\n",
       "    </tr>\n",
       "    <tr>\n",
       "      <th>25%</th>\n",
       "      <td>2.162750</td>\n",
       "      <td>58.000000</td>\n",
       "    </tr>\n",
       "    <tr>\n",
       "      <th>50%</th>\n",
       "      <td>4.000000</td>\n",
       "      <td>76.000000</td>\n",
       "    </tr>\n",
       "    <tr>\n",
       "      <th>75%</th>\n",
       "      <td>4.454250</td>\n",
       "      <td>82.000000</td>\n",
       "    </tr>\n",
       "    <tr>\n",
       "      <th>max</th>\n",
       "      <td>5.100000</td>\n",
       "      <td>96.000000</td>\n",
       "    </tr>\n",
       "  </tbody>\n",
       "</table>\n",
       "</div>"
      ],
      "text/plain": [
       "         duration     waiting\n",
       "count  272.000000  272.000000\n",
       "mean     3.487783   70.897059\n",
       "std      1.141371   13.594974\n",
       "min      1.600000   43.000000\n",
       "25%      2.162750   58.000000\n",
       "50%      4.000000   76.000000\n",
       "75%      4.454250   82.000000\n",
       "max      5.100000   96.000000"
      ]
     },
     "execution_count": 7,
     "metadata": {},
     "output_type": "execute_result"
    }
   ],
   "source": [
    "tb_geyser.describe()"
   ]
  },
  {
   "cell_type": "markdown",
   "id": "22bf91f4",
   "metadata": {},
   "source": [
    "## Localização\n",
    "\n",
    "As primeiras estatísticas descritivas de hoje serão as as **medidas de localização** (ou *medidas de altura*). Essas medidas nos permitem estimar ao redor que qual ponto uma distribuição se concentram. Focaremos nossa análise em três medidas específicas:\n",
    "\n",
    "1. **Média** (ou *esperança*);\n",
    "1. **Mediana** (o *segundo quartil*);\n",
    "1. **Moda**\n",
    "\n",
    "### Média\n",
    "\n",
    "A **média** é a medida de localização mais conhecida (e, provavelmente, o conceito estatístico mais difundido). Ela é definida como a somatória de todas as observações divida pelo número de observações e, na estatítisca, é comunmente representada pela letra Mu:\n",
    "\n",
    "$$\\mu=\\frac{\\sum_{i=1}^n x_{i}}{n} $$\n",
    "\n",
    "Vamos começar construindo uma função para calcular a média:\n"
   ]
  },
  {
   "cell_type": "code",
   "execution_count": 8,
   "id": "72bd3d06",
   "metadata": {
    "ExecuteTime": {
     "end_time": "2022-02-24T22:52:28.751675Z",
     "start_time": "2022-02-24T22:52:28.740715Z"
    }
   },
   "outputs": [],
   "source": [
    "def meu_mu(vetor):\n",
    "    total = sum(vetor)\n",
    "    numero_elementos = len(vetor)\n",
    "    media = total/numero_elementos\n",
    "    return media"
   ]
  },
  {
   "cell_type": "code",
   "execution_count": 11,
   "id": "7495bf23",
   "metadata": {
    "ExecuteTime": {
     "end_time": "2022-02-24T22:52:34.366410Z",
     "start_time": "2022-02-24T22:52:34.359428Z"
    }
   },
   "outputs": [
    {
     "data": {
      "text/plain": [
       "70.8970588235294"
      ]
     },
     "execution_count": 11,
     "metadata": {},
     "output_type": "execute_result"
    }
   ],
   "source": [
    "meu_mu(tb_geyser['waiting'])"
   ]
  },
  {
   "cell_type": "markdown",
   "id": "9aadd26e",
   "metadata": {},
   "source": [
    "Podemos utilizar a função `mean()` para calcular a média de qualquer iterável numérico no Python:"
   ]
  },
  {
   "cell_type": "code",
   "execution_count": 12,
   "id": "9dda2920",
   "metadata": {
    "ExecuteTime": {
     "end_time": "2022-02-24T22:54:11.405291Z",
     "start_time": "2022-02-24T22:54:11.392325Z"
    }
   },
   "outputs": [
    {
     "data": {
      "text/plain": [
       "70.8970588235294"
      ]
     },
     "execution_count": 12,
     "metadata": {},
     "output_type": "execute_result"
    }
   ],
   "source": [
    "np.mean(tb_geyser['waiting'])"
   ]
  },
  {
   "cell_type": "markdown",
   "id": "f6dabde7",
   "metadata": {},
   "source": [
    "ou então podemos utilizar o método `.mean()` para calcular a média de uma (ou mais) colunas de um `DataFrame`:"
   ]
  },
  {
   "cell_type": "code",
   "execution_count": 8,
   "id": "cbdb3b2a",
   "metadata": {
    "ExecuteTime": {
     "end_time": "2022-02-24T22:54:28.321951Z",
     "start_time": "2022-02-24T22:54:28.309983Z"
    }
   },
   "outputs": [
    {
     "data": {
      "text/plain": [
       "3.4877830882352936"
      ]
     },
     "execution_count": 8,
     "metadata": {},
     "output_type": "execute_result"
    }
   ],
   "source": [
    "tb_geyser['waiting'].mean()"
   ]
  },
  {
   "cell_type": "code",
   "execution_count": 13,
   "id": "1245ccff",
   "metadata": {},
   "outputs": [
    {
     "data": {
      "text/plain": [
       "waiting     70.897059\n",
       "duration     3.487783\n",
       "dtype: float64"
      ]
     },
     "execution_count": 13,
     "metadata": {},
     "output_type": "execute_result"
    }
   ],
   "source": [
    "tb_geyser[['waiting','duration']].mean()"
   ]
  },
  {
   "cell_type": "markdown",
   "id": "265e7b4f",
   "metadata": {},
   "source": [
    "#### Limitações da Média"
   ]
  },
  {
   "cell_type": "code",
   "execution_count": 10,
   "id": "96ae6838",
   "metadata": {
    "ExecuteTime": {
     "end_time": "2022-02-24T22:55:42.207219Z",
     "start_time": "2022-02-24T22:55:42.193259Z"
    }
   },
   "outputs": [
    {
     "data": {
      "text/plain": [
       "589.4117647058823"
      ]
     },
     "execution_count": 10,
     "metadata": {},
     "output_type": "execute_result"
    }
   ],
   "source": [
    "a = [1, 1, 1, 2, 1, 1, 1, 2,1, 1, 1, 2,1, 1, 1, 2,10000]\n",
    "np.mean(a)"
   ]
  },
  {
   "cell_type": "code",
   "execution_count": 12,
   "id": "6a9fda6e",
   "metadata": {
    "ExecuteTime": {
     "end_time": "2022-02-24T22:58:56.052509Z",
     "start_time": "2022-02-24T22:58:56.046526Z"
    }
   },
   "outputs": [
    {
     "data": {
      "text/plain": [
       "17"
      ]
     },
     "execution_count": 12,
     "metadata": {},
     "output_type": "execute_result"
    }
   ],
   "source": [
    "len(a)"
   ]
  },
  {
   "cell_type": "code",
   "execution_count": 13,
   "id": "f2568b11",
   "metadata": {
    "ExecuteTime": {
     "end_time": "2022-02-24T22:59:03.871885Z",
     "start_time": "2022-02-24T22:59:03.857925Z"
    }
   },
   "outputs": [
    {
     "data": {
      "text/plain": [
       "588.2352941176471"
      ]
     },
     "execution_count": 13,
     "metadata": {},
     "output_type": "execute_result"
    }
   ],
   "source": [
    "10000/17"
   ]
  },
  {
   "cell_type": "code",
   "execution_count": 14,
   "id": "1d29bcac",
   "metadata": {
    "ExecuteTime": {
     "end_time": "2022-02-24T23:00:11.943623Z",
     "start_time": "2022-02-24T23:00:11.931627Z"
    }
   },
   "outputs": [],
   "source": [
    "def minha_mediana(vetor):\n",
    "    vetor_ordenado = sorted(list(vetor))\n",
    "    posicao_meio = int(len(vetor_ordenado)/2)\n",
    "    mediana = vetor_ordenado[posicao_meio]\n",
    "    return mediana"
   ]
  },
  {
   "cell_type": "code",
   "execution_count": 15,
   "id": "5517abc3",
   "metadata": {
    "ExecuteTime": {
     "end_time": "2022-02-24T23:00:19.552123Z",
     "start_time": "2022-02-24T23:00:19.545154Z"
    }
   },
   "outputs": [
    {
     "data": {
      "text/plain": [
       "1"
      ]
     },
     "execution_count": 15,
     "metadata": {},
     "output_type": "execute_result"
    }
   ],
   "source": [
    "minha_mediana(a)"
   ]
  },
  {
   "cell_type": "code",
   "execution_count": 16,
   "id": "5306e453",
   "metadata": {
    "ExecuteTime": {
     "end_time": "2022-02-24T23:02:27.114534Z",
     "start_time": "2022-02-24T23:02:27.098576Z"
    }
   },
   "outputs": [
    {
     "data": {
      "text/plain": [
       "4.0"
      ]
     },
     "execution_count": 16,
     "metadata": {},
     "output_type": "execute_result"
    }
   ],
   "source": [
    "minha_mediana(tb_geyser['duration'])"
   ]
  },
  {
   "cell_type": "code",
   "execution_count": 17,
   "id": "bd4816cc",
   "metadata": {
    "ExecuteTime": {
     "end_time": "2022-02-24T23:02:40.904008Z",
     "start_time": "2022-02-24T23:02:40.886955Z"
    }
   },
   "outputs": [
    {
     "data": {
      "text/plain": [
       "4.0"
      ]
     },
     "execution_count": 17,
     "metadata": {},
     "output_type": "execute_result"
    }
   ],
   "source": [
    "tb_geyser['duration'].median()"
   ]
  },
  {
   "cell_type": "code",
   "execution_count": 18,
   "id": "46e4b43b",
   "metadata": {
    "ExecuteTime": {
     "end_time": "2022-02-24T23:02:45.442593Z",
     "start_time": "2022-02-24T23:02:45.424639Z"
    }
   },
   "outputs": [
    {
     "data": {
      "text/plain": [
       "4.0"
      ]
     },
     "execution_count": 18,
     "metadata": {},
     "output_type": "execute_result"
    }
   ],
   "source": [
    "np.median(tb_geyser['duration'])"
   ]
  },
  {
   "cell_type": "code",
   "execution_count": 19,
   "id": "95901a1d",
   "metadata": {
    "ExecuteTime": {
     "end_time": "2022-02-24T23:03:34.049390Z",
     "start_time": "2022-02-24T23:03:34.023579Z"
    }
   },
   "outputs": [
    {
     "data": {
      "text/html": [
       "<div>\n",
       "<style scoped>\n",
       "    .dataframe tbody tr th:only-of-type {\n",
       "        vertical-align: middle;\n",
       "    }\n",
       "\n",
       "    .dataframe tbody tr th {\n",
       "        vertical-align: top;\n",
       "    }\n",
       "\n",
       "    .dataframe thead th {\n",
       "        text-align: right;\n",
       "    }\n",
       "</style>\n",
       "<table border=\"1\" class=\"dataframe\">\n",
       "  <thead>\n",
       "    <tr style=\"text-align: right;\">\n",
       "      <th></th>\n",
       "      <th>duration</th>\n",
       "      <th>waiting</th>\n",
       "    </tr>\n",
       "    <tr>\n",
       "      <th>kind</th>\n",
       "      <th></th>\n",
       "      <th></th>\n",
       "    </tr>\n",
       "  </thead>\n",
       "  <tbody>\n",
       "    <tr>\n",
       "      <th>long</th>\n",
       "      <td>4.29793</td>\n",
       "      <td>80.284884</td>\n",
       "    </tr>\n",
       "    <tr>\n",
       "      <th>short</th>\n",
       "      <td>2.09433</td>\n",
       "      <td>54.750000</td>\n",
       "    </tr>\n",
       "  </tbody>\n",
       "</table>\n",
       "</div>"
      ],
      "text/plain": [
       "       duration    waiting\n",
       "kind                      \n",
       "long    4.29793  80.284884\n",
       "short   2.09433  54.750000"
      ]
     },
     "execution_count": 19,
     "metadata": {},
     "output_type": "execute_result"
    }
   ],
   "source": [
    "tb_geyser.groupby('kind').mean()"
   ]
  },
  {
   "cell_type": "code",
   "execution_count": 20,
   "id": "a90e7a0a",
   "metadata": {
    "ExecuteTime": {
     "end_time": "2022-02-24T23:04:40.385665Z",
     "start_time": "2022-02-24T23:04:40.374696Z"
    },
    "scrolled": true
   },
   "outputs": [
    {
     "data": {
      "text/html": [
       "<div>\n",
       "<style scoped>\n",
       "    .dataframe tbody tr th:only-of-type {\n",
       "        vertical-align: middle;\n",
       "    }\n",
       "\n",
       "    .dataframe tbody tr th {\n",
       "        vertical-align: top;\n",
       "    }\n",
       "\n",
       "    .dataframe thead th {\n",
       "        text-align: right;\n",
       "    }\n",
       "</style>\n",
       "<table border=\"1\" class=\"dataframe\">\n",
       "  <thead>\n",
       "    <tr style=\"text-align: right;\">\n",
       "      <th></th>\n",
       "      <th>duration</th>\n",
       "      <th>waiting</th>\n",
       "    </tr>\n",
       "    <tr>\n",
       "      <th>kind</th>\n",
       "      <th></th>\n",
       "      <th></th>\n",
       "    </tr>\n",
       "  </thead>\n",
       "  <tbody>\n",
       "    <tr>\n",
       "      <th>long</th>\n",
       "      <td>4.350</td>\n",
       "      <td>80</td>\n",
       "    </tr>\n",
       "    <tr>\n",
       "      <th>short</th>\n",
       "      <td>1.983</td>\n",
       "      <td>54</td>\n",
       "    </tr>\n",
       "  </tbody>\n",
       "</table>\n",
       "</div>"
      ],
      "text/plain": [
       "       duration  waiting\n",
       "kind                    \n",
       "long      4.350       80\n",
       "short     1.983       54"
      ]
     },
     "execution_count": 20,
     "metadata": {},
     "output_type": "execute_result"
    }
   ],
   "source": [
    "tb_geyser.groupby('kind').median()"
   ]
  },
  {
   "cell_type": "code",
   "execution_count": 21,
   "id": "fc3097fa",
   "metadata": {
    "ExecuteTime": {
     "end_time": "2022-02-24T23:04:42.739154Z",
     "start_time": "2022-02-24T23:04:42.712225Z"
    }
   },
   "outputs": [
    {
     "data": {
      "text/html": [
       "<div>\n",
       "<style scoped>\n",
       "    .dataframe tbody tr th:only-of-type {\n",
       "        vertical-align: middle;\n",
       "    }\n",
       "\n",
       "    .dataframe tbody tr th {\n",
       "        vertical-align: top;\n",
       "    }\n",
       "\n",
       "    .dataframe thead th {\n",
       "        text-align: right;\n",
       "    }\n",
       "</style>\n",
       "<table border=\"1\" class=\"dataframe\">\n",
       "  <thead>\n",
       "    <tr style=\"text-align: right;\">\n",
       "      <th></th>\n",
       "      <th>duration_avg</th>\n",
       "      <th>duration_med</th>\n",
       "      <th>waiting_avg</th>\n",
       "      <th>waiting_med</th>\n",
       "    </tr>\n",
       "    <tr>\n",
       "      <th>kind</th>\n",
       "      <th></th>\n",
       "      <th></th>\n",
       "      <th></th>\n",
       "      <th></th>\n",
       "    </tr>\n",
       "  </thead>\n",
       "  <tbody>\n",
       "    <tr>\n",
       "      <th>long</th>\n",
       "      <td>4.29793</td>\n",
       "      <td>4.350</td>\n",
       "      <td>80.284884</td>\n",
       "      <td>80</td>\n",
       "    </tr>\n",
       "    <tr>\n",
       "      <th>short</th>\n",
       "      <td>2.09433</td>\n",
       "      <td>1.983</td>\n",
       "      <td>54.750000</td>\n",
       "      <td>54</td>\n",
       "    </tr>\n",
       "  </tbody>\n",
       "</table>\n",
       "</div>"
      ],
      "text/plain": [
       "       duration_avg  duration_med  waiting_avg  waiting_med\n",
       "kind                                                       \n",
       "long        4.29793         4.350    80.284884           80\n",
       "short       2.09433         1.983    54.750000           54"
      ]
     },
     "execution_count": 21,
     "metadata": {},
     "output_type": "execute_result"
    }
   ],
   "source": [
    "tb_geyser.groupby('kind').agg(\n",
    "    duration_avg = pd.NamedAgg('duration', 'mean'),\n",
    "    duration_med = pd.NamedAgg('duration', 'median'),\n",
    "    waiting_avg = pd.NamedAgg('waiting', 'mean'),\n",
    "    waiting_med = pd.NamedAgg('waiting', 'median'),\n",
    ")"
   ]
  },
  {
   "cell_type": "markdown",
   "id": "8033374c",
   "metadata": {},
   "source": [
    "# Dispersão"
   ]
  },
  {
   "cell_type": "markdown",
   "id": "8ebfa524",
   "metadata": {},
   "source": [
    "## Desvio padrão"
   ]
  },
  {
   "cell_type": "code",
   "execution_count": 22,
   "id": "728abc16",
   "metadata": {
    "ExecuteTime": {
     "end_time": "2022-02-24T23:07:48.098331Z",
     "start_time": "2022-02-24T23:07:48.064423Z"
    }
   },
   "outputs": [],
   "source": [
    "tb_geyser['duration_desvio'] = tb_geyser['duration'] - np.mean(tb_geyser['duration'])"
   ]
  },
  {
   "cell_type": "code",
   "execution_count": 23,
   "id": "65907adf",
   "metadata": {
    "ExecuteTime": {
     "end_time": "2022-02-24T23:07:57.156415Z",
     "start_time": "2022-02-24T23:07:57.142454Z"
    }
   },
   "outputs": [
    {
     "data": {
      "text/plain": [
       "0      0.112217\n",
       "1     -1.687783\n",
       "2     -0.154783\n",
       "3     -1.204783\n",
       "4      1.045217\n",
       "         ...   \n",
       "267    0.629217\n",
       "268   -1.337783\n",
       "269    0.929217\n",
       "270   -1.670783\n",
       "271    0.979217\n",
       "Name: duration_desvio, Length: 272, dtype: float64"
      ]
     },
     "execution_count": 23,
     "metadata": {},
     "output_type": "execute_result"
    }
   ],
   "source": [
    "tb_geyser['duration_desvio']"
   ]
  },
  {
   "cell_type": "code",
   "execution_count": 24,
   "id": "87863f36",
   "metadata": {
    "ExecuteTime": {
     "end_time": "2022-02-24T23:08:42.250766Z",
     "start_time": "2022-02-24T23:08:42.239795Z"
    }
   },
   "outputs": [
    {
     "data": {
      "text/plain": [
       "5.869487902246232e-16"
      ]
     },
     "execution_count": 24,
     "metadata": {},
     "output_type": "execute_result"
    }
   ],
   "source": [
    "tb_geyser['duration_desvio'].mean()"
   ]
  },
  {
   "cell_type": "code",
   "execution_count": 25,
   "id": "ce0e9a49",
   "metadata": {
    "ExecuteTime": {
     "end_time": "2022-02-24T23:09:56.819259Z",
     "start_time": "2022-02-24T23:09:56.804299Z"
    }
   },
   "outputs": [],
   "source": [
    "tb_geyser['duration_desvio_quadrado'] = tb_geyser['duration_desvio'] ** 2"
   ]
  },
  {
   "cell_type": "code",
   "execution_count": 26,
   "id": "d699dc21",
   "metadata": {
    "ExecuteTime": {
     "end_time": "2022-02-24T23:10:02.881836Z",
     "start_time": "2022-02-24T23:10:02.866849Z"
    }
   },
   "outputs": [
    {
     "data": {
      "text/plain": [
       "0      0.012593\n",
       "1      2.848612\n",
       "2      0.023958\n",
       "3      1.451502\n",
       "4      1.092478\n",
       "         ...   \n",
       "267    0.395914\n",
       "268    1.789664\n",
       "269    0.863444\n",
       "270    2.791516\n",
       "271    0.958866\n",
       "Name: duration_desvio_quadrado, Length: 272, dtype: float64"
      ]
     },
     "execution_count": 26,
     "metadata": {},
     "output_type": "execute_result"
    }
   ],
   "source": [
    "tb_geyser['duration_desvio_quadrado']"
   ]
  },
  {
   "cell_type": "code",
   "execution_count": 27,
   "id": "cb723db6",
   "metadata": {
    "ExecuteTime": {
     "end_time": "2022-02-24T23:10:26.201589Z",
     "start_time": "2022-02-24T23:10:26.183635Z"
    }
   },
   "outputs": [
    {
     "data": {
      "text/plain": [
       "1.2979388904492855"
      ]
     },
     "execution_count": 27,
     "metadata": {},
     "output_type": "execute_result"
    }
   ],
   "source": [
    "tb_geyser['duration_desvio_quadrado'].mean()"
   ]
  },
  {
   "cell_type": "code",
   "execution_count": 28,
   "id": "4f4a0f84",
   "metadata": {
    "ExecuteTime": {
     "end_time": "2022-02-24T23:10:50.867475Z",
     "start_time": "2022-02-24T23:10:50.859499Z"
    }
   },
   "outputs": [
    {
     "data": {
      "text/plain": [
       "1.1392712102257678"
      ]
     },
     "execution_count": 28,
     "metadata": {},
     "output_type": "execute_result"
    }
   ],
   "source": [
    "np.sqrt(tb_geyser['duration_desvio_quadrado'].mean())"
   ]
  },
  {
   "cell_type": "code",
   "execution_count": null,
   "id": "fd3c3929",
   "metadata": {
    "ExecuteTime": {
     "end_time": "2022-02-22T19:28:24.917055Z",
     "start_time": "2022-02-22T19:28:24.904089Z"
    }
   },
   "outputs": [],
   "source": [
    "np.std(tb_geyser['duration'])"
   ]
  },
  {
   "cell_type": "markdown",
   "id": "6c022a76",
   "metadata": {},
   "source": [
    "## IQR (Amplitude interquartil)"
   ]
  },
  {
   "cell_type": "code",
   "execution_count": 29,
   "id": "c8f7b468",
   "metadata": {
    "ExecuteTime": {
     "end_time": "2022-02-24T23:26:15.806505Z",
     "start_time": "2022-02-24T23:26:15.800521Z"
    }
   },
   "outputs": [],
   "source": [
    "dur_mediana = np.median(tb_geyser['duration'])"
   ]
  },
  {
   "cell_type": "code",
   "execution_count": 30,
   "id": "18f78456",
   "metadata": {
    "ExecuteTime": {
     "end_time": "2022-02-24T23:26:47.430316Z",
     "start_time": "2022-02-24T23:26:47.423363Z"
    }
   },
   "outputs": [
    {
     "name": "stdout",
     "output_type": "stream",
     "text": [
      "2.16275\n"
     ]
    }
   ],
   "source": [
    "dur_p25 = np.quantile(tb_geyser['duration'], 0.25)\n",
    "print(dur_p25)"
   ]
  },
  {
   "cell_type": "code",
   "execution_count": 31,
   "id": "a683acdd",
   "metadata": {
    "ExecuteTime": {
     "end_time": "2022-02-24T23:26:58.528270Z",
     "start_time": "2022-02-24T23:26:58.516281Z"
    }
   },
   "outputs": [
    {
     "name": "stdout",
     "output_type": "stream",
     "text": [
      "4.45425\n"
     ]
    }
   ],
   "source": [
    "dur_p75 = np.quantile(tb_geyser['duration'], 0.75)\n",
    "print(dur_p75)"
   ]
  },
  {
   "cell_type": "code",
   "execution_count": 32,
   "id": "925c9d61",
   "metadata": {
    "ExecuteTime": {
     "end_time": "2022-02-24T23:27:05.201374Z",
     "start_time": "2022-02-24T23:27:05.185416Z"
    }
   },
   "outputs": [
    {
     "name": "stdout",
     "output_type": "stream",
     "text": [
      "2.2915\n"
     ]
    }
   ],
   "source": [
    "print(dur_p75 - dur_p25)"
   ]
  },
  {
   "cell_type": "code",
   "execution_count": null,
   "id": "3d8a97e0",
   "metadata": {
    "ExecuteTime": {
     "end_time": "2022-02-22T19:50:09.490912Z",
     "start_time": "2022-02-22T19:50:09.473960Z"
    }
   },
   "outputs": [],
   "source": [
    "def iqr(vetor):\n",
    "    dur_p25 = np.quantile(vetor, 0.25)\n",
    "    dur_p75 = np.quantile(vetor, 0.75)\n",
    "    return dur_p75 - dur_p25"
   ]
  },
  {
   "cell_type": "markdown",
   "id": "1f93997a",
   "metadata": {},
   "source": [
    "# Vizualizando localização/dispersão"
   ]
  },
  {
   "cell_type": "markdown",
   "id": "ad7198fd",
   "metadata": {},
   "source": [
    "## Simulando dados"
   ]
  },
  {
   "cell_type": "code",
   "execution_count": 34,
   "id": "f1349e85",
   "metadata": {
    "ExecuteTime": {
     "end_time": "2022-02-24T23:37:43.686327Z",
     "start_time": "2022-02-24T23:37:43.680343Z"
    }
   },
   "outputs": [],
   "source": [
    "mu_0_sd_1 = np.random.normal(0, 1, 1000)\n",
    "mu_0_sd_2 = np.random.normal(0, 2, 1000)\n",
    "mu_2_sd_1 = np.random.normal(2, 1, 1000)"
   ]
  },
  {
   "cell_type": "markdown",
   "id": "04786603",
   "metadata": {},
   "source": [
    "## Diferença de localização"
   ]
  },
  {
   "cell_type": "code",
   "execution_count": 35,
   "id": "5ab956af",
   "metadata": {
    "ExecuteTime": {
     "end_time": "2022-02-24T23:37:47.528852Z",
     "start_time": "2022-02-24T23:37:46.993221Z"
    }
   },
   "outputs": [
    {
     "data": {
      "image/png": "[encoded data removed]",
      "text/plain": [
       "<Figure size 576x432 with 1 Axes>"
      ]
     },
     "metadata": {
      "needs_background": "light"
     },
     "output_type": "display_data"
    }
   ],
   "source": [
    "plt.figure(figsize=(8,6));\n",
    "plt.hist(mu_2_sd_1, bins=100, alpha=0.5, label=\"mu_2_sd_1\");\n",
    "plt.hist(mu_0_sd_1, bins=100, alpha=0.5, label=\"mu_0_sd_1\");\n",
    "plt.axvline(np.mean(mu_0_sd_1), color = 'blue');\n",
    "plt.axvline(np.mean(mu_2_sd_1), color = 'red');\n",
    "plt.xlabel(\"Dados Simulados\", size=14)\n",
    "plt.ylabel(\"Contagem\", size=14);\n",
    "plt.title(\"Distribuições Normais mu = 0 e mu = 2, sigma = 1\");\n",
    "plt.legend(loc='upper right');"
   ]
  },
  {
   "cell_type": "markdown",
   "id": "d310c3de",
   "metadata": {},
   "source": [
    "## Diferença de dispersão"
   ]
  },
  {
   "cell_type": "code",
   "execution_count": 37,
   "id": "dbdfd335",
   "metadata": {
    "ExecuteTime": {
     "end_time": "2022-02-24T23:40:12.880689Z",
     "start_time": "2022-02-24T23:40:12.410936Z"
    }
   },
   "outputs": [
    {
     "data": {
      "image/png": "[encoded data removed]",
      "text/plain": [
       "<Figure size 576x432 with 1 Axes>"
      ]
     },
     "metadata": {
      "needs_background": "light"
     },
     "output_type": "display_data"
    }
   ],
   "source": [
    "plt.figure(figsize=(8,6));\n",
    "plt.hist(mu_0_sd_2, bins=100, alpha=0.5, label=\"mu_0_sd_2\");\n",
    "plt.hist(mu_0_sd_1, bins=100, alpha=0.5, label=\"mu_0_sd_1\");\n",
    "plt.axvline(np.mean(mu_0_sd_1), color = 'blue');\n",
    "plt.axvline(np.mean(mu_0_sd_2), color = 'red');\n",
    "plt.xlabel(\"Dados Simulados\", size=14)\n",
    "plt.ylabel(\"Contagem\", size=14);\n",
    "plt.title(\"Distribuições Normais mu = 0, sigma = 1, sigma = 2\");\n",
    "plt.legend(loc='upper right');"
   ]
  },
  {
   "cell_type": "markdown",
   "id": "4f042838",
   "metadata": {},
   "source": [
    "## Vizualizando Indicadores Robustos"
   ]
  },
  {
   "cell_type": "code",
   "execution_count": 38,
   "id": "966a4e10",
   "metadata": {
    "ExecuteTime": {
     "end_time": "2022-02-24T23:42:26.108213Z",
     "start_time": "2022-02-24T23:42:25.852841Z"
    }
   },
   "outputs": [
    {
     "data": {
      "image/png": "[encoded data removed]",
      "text/plain": [
       "<Figure size 576x432 with 1 Axes>"
      ]
     },
     "metadata": {
      "needs_background": "light"
     },
     "output_type": "display_data"
    }
   ],
   "source": [
    "plt.figure(figsize=(8,6));\n",
    "plt.boxplot([mu_0_sd_1, mu_2_sd_1, mu_0_sd_2],\n",
    "           labels = ['mu_0_sd_1', 'mu_2_sd_1', 'mu_0_sd_2']);\n",
    "plt.ylabel('Dado Simulado');\n",
    "plt.xlabel('Distribuição');\n",
    "plt.suptitle('Boxplots de Distribuições');"
   ]
  },
  {
   "cell_type": "code",
   "execution_count": null,
   "id": "5ff59f6b",
   "metadata": {
    "ExecuteTime": {
     "end_time": "2022-02-22T20:02:53.079433Z",
     "start_time": "2022-02-22T20:02:52.871904Z"
    }
   },
   "outputs": [],
   "source": [
    "fig, axes = plt.subplots(1, 2, figsize = (18,9))\n",
    "sns.boxplot(data = tb_geyser, y = 'duration', x = 'kind', ax = axes[0])\n",
    "sns.boxplot(data = tb_geyser, y = 'duration', ax = axes[1])\n",
    "plt.xlabel('Total')\n",
    "plt.suptitle('Duração de Erupção Total e por Tipo de Geyser')"
   ]
  },
  {
   "cell_type": "markdown",
   "id": "4bf12358",
   "metadata": {},
   "source": [
    "# VOLTAMOS 21H05"
   ]
  },
  {
   "cell_type": "code",
   "execution_count": null,
   "id": "c6e6dc43",
   "metadata": {},
   "outputs": [],
   "source": []
  }
 ],
 "metadata": {
  "hide_input": false,
  "kernelspec": {
   "display_name": "Python 3.9.11 ('base')",
   "language": "python",
   "name": "python3"
  },
  "language_info": {
   "codemirror_mode": {
    "name": "ipython",
    "version": 3
   },
   "file_extension": ".py",
   "mimetype": "text/x-python",
   "name": "python",
   "nbconvert_exporter": "python",
   "pygments_lexer": "ipython3",
   "version": "3.9.11"
  },
  "toc": {
   "base_numbering": 1,
   "nav_menu": {},
   "number_sections": true,
   "sideBar": true,
   "skip_h1_title": false,
   "title_cell": "Table of Contents",
   "title_sidebar": "Contents",
   "toc_cell": true,
   "toc_position": {},
   "toc_section_display": true,
   "toc_window_display": true
  },
  "vscode": {
   "interpreter": {
    "hash": "014f4a4a5af8f0104b12c029e500f4146d6d785e8cf714d2a35b7a9514230cd3"
   }
  }
 },
 "nbformat": 4,
 "nbformat_minor": 5
}
