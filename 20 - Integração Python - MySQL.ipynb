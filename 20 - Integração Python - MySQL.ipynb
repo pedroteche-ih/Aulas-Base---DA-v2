{
 "cells": [
  {
   "cell_type": "markdown",
   "metadata": {},
   "source": [
    "# Integração Python-SQL\n",
    "\n",
    "Até agora vimos como construir *queries* dentro de um ambiente SQL (através do cliente *DBeaver*). Embora a utilização de um cliente seja fundamental para explorar o banco de dados e construir *queries* de forma mais rápida, ele não contém ferramentas analíticas (tabelas, funções matemáticas complexas, gráficos, modelos, etc).\n",
    "\n",
    "Para acessar funções analíticas podemos utilizar outras ferramentas como **clientes** do nosso banco de dados: desde o Excel até Python e Tableau. Na aula de hoje veremos como conectar o Python ao nosso servidor MySQL e extrair dados para análise.\n",
    "\n",
    "Vamos utilizar a biblioteca **pymysql** para realizar essa conexão. Além disso utilizaremos a biblioteca **sqlalchemy** para executar queries em nosso banco.\n",
    "\n",
    "## PyMySQL + SQLAlchemy"
   ]
  },
  {
   "cell_type": "code",
   "execution_count": null,
   "metadata": {},
   "outputs": [],
   "source": [
    "!pip install pymysql"
   ]
  },
  {
   "cell_type": "code",
   "execution_count": null,
   "metadata": {},
   "outputs": [],
   "source": [
    "from sqlalchemy import create_engine"
   ]
  },
  {
   "cell_type": "markdown",
   "metadata": {},
   "source": [
    "Primeiro precisamos especificar os **parâmetros de conexão** ao nosso banco de dados:"
   ]
  },
  {
   "cell_type": "code",
   "execution_count": null,
   "metadata": {},
   "outputs": [],
   "source": [
    "user = \"root\"\n",
    "password = \"swpmlu23-\"\n",
    "url_banco = \"localhost\"\n",
    "nome_db = \"bank\"\n",
    "conn_str = f\"mysql+pymysql://{user}:{password}@{url_banco}/{nome_db}\"\n",
    "print(conn_str)"
   ]
  },
  {
   "cell_type": "markdown",
   "metadata": {},
   "source": [
    "Agora vamos utilizar o string de conexão `conn_str` para criar um objeto `engine`:"
   ]
  },
  {
   "cell_type": "code",
   "execution_count": null,
   "metadata": {},
   "outputs": [],
   "source": [
    "engine = create_engine(conn_str)\n",
    "print(engine)"
   ]
  },
  {
   "cell_type": "markdown",
   "metadata": {},
   "source": [
    "Para executar um query basta utilizarmos o método `.execute()` de um `Engine`:"
   ]
  },
  {
   "cell_type": "code",
   "execution_count": null,
   "metadata": {},
   "outputs": [],
   "source": [
    "results = engine.execute(\"SELECT * FROM account\")\n",
    "print(results)"
   ]
  },
  {
   "cell_type": "markdown",
   "metadata": {},
   "source": [
    "O resultado do método é um **cursor**: ele ainda não contém os resultados de nosso query. Para extrair-los utilizaremos o método `.fetchall()`:"
   ]
  },
  {
   "cell_type": "code",
   "execution_count": null,
   "metadata": {},
   "outputs": [],
   "source": [
    "dados = results.fetchall()\n",
    "dados"
   ]
  },
  {
   "cell_type": "markdown",
   "metadata": {},
   "source": [
    "## Utilizando Pandas\n",
    "\n",
    "O resultado do método `.fetchall()` é uma lista. Embora listas sejam facilmente transformadas em `DataFrames`, podemos economizar esforços utilizando a função `read_sql_query()` da biblioteca Pandas."
   ]
  },
  {
   "cell_type": "code",
   "execution_count": null,
   "metadata": {},
   "outputs": [],
   "source": [
    "import pandas as pd"
   ]
  },
  {
   "cell_type": "markdown",
   "metadata": {},
   "source": [
    "Para utilizarmos está função precisaremos do nosso `Engine`, criado através da **SQLAlchemy** na primeira parte da aula."
   ]
  },
  {
   "cell_type": "code",
   "execution_count": null,
   "metadata": {},
   "outputs": [],
   "source": [
    "tb_account = pd.read_sql_query(\"SELECT * FROM account\", engine)\n",
    "tb_account.head()"
   ]
  },
  {
   "cell_type": "markdown",
   "metadata": {},
   "source": [
    "Os queries que vimos acima são *one-liners*: simples o suficiente para serem escritos em uma linha de código. Conforme a complexidade de nossos queries aumenta, devemos utilizar *strings multi-line* ou arquivos `.sql` para guardar nossos queries:"
   ]
  },
  {
   "cell_type": "code",
   "execution_count": null,
   "metadata": {},
   "outputs": [],
   "source": [
    "query_loan = '''\n",
    "SELECT \n",
    "\t*\n",
    "FROM \n",
    "\tbank.district d JOIN\n",
    "\t(\n",
    "\t\tSELECT\n",
    "\t\t\tc.district_id,\n",
    "\t\t\tAVG(\n",
    "\t\t\t\tCASE \n",
    "\t\t\t\t\tWHEN l.status = 'B' OR l.status = 'D' THEN 1\n",
    "\t\t\t\t\tELSE 0\n",
    "\t\t\t\tEND\n",
    "\t\t\t) AS TX_DEVEDORES,\n",
    "\t\t\tCOUNT(*) AS NUM_EMPRESTIMOS \n",
    "\t\tFROM \n",
    "\t\t\tbank.client c JOIN \n",
    "\t\t\tbank.disp d ON (c.client_id = d.client_id) JOIN \n",
    "\t\t\tbank.account a ON (d.account_id = a.account_id) JOIN\n",
    "\t\t\tbank.loan l ON (a.account_id = l.account_id) JOIN \n",
    "\t\t\tbank.district d2 ON (c.district_id = d2.A1)\n",
    "\t\tGROUP BY \n",
    "\t\t\tc.district_id \n",
    "\t) AS TX_EMP_DISTRITO ON (TX_EMP_DISTRITO.district_id = d.a1)\n",
    "'''\n",
    "tb_district_loan = pd.read_sql_query(query_loan, engine)\n",
    "tb_district_loan.head()"
   ]
  },
  {
   "cell_type": "markdown",
   "metadata": {},
   "source": [
    "Outra forma de estruturar nossos queries é salvando-os em arquivos externos `.sql` - dessa forma mantemos separados Python e SQL de uma forma simples:"
   ]
  },
  {
   "cell_type": "code",
   "execution_count": null,
   "metadata": {},
   "outputs": [],
   "source": [
    "fd = open('queries/QUERY_DISTRICT_LOAN.sql', 'r')\n",
    "sqlFile = fd.read()\n",
    "fd.close()\n",
    "print(sqlFile)"
   ]
  },
  {
   "cell_type": "code",
   "execution_count": null,
   "metadata": {},
   "outputs": [],
   "source": [
    "tb_district_loan = pd.read_sql_query(sqlFile, engine)\n",
    "tb_district_loan.head()"
   ]
  },
  {
   "cell_type": "markdown",
   "metadata": {},
   "source": [
    "## Explorando o estudo de caso\n",
    "\n",
    "O estudo de caso que utilizamos ao longo das últimas semanas tem um objetivo claro: encontrar padrões entre bons e maus clientes de um banco. Vamos utilizar o que aprendemos até agora para explorar mais essa questão.\n",
    "\n",
    "### Visão Geográfica\n",
    "\n",
    "Podemos analisar a taxa histórica de não pagamentos por distrito para buscar padrões demográficos:"
   ]
  },
  {
   "cell_type": "code",
   "execution_count": null,
   "metadata": {},
   "outputs": [],
   "source": [
    "import seaborn as sns"
   ]
  },
  {
   "cell_type": "code",
   "execution_count": null,
   "metadata": {},
   "outputs": [],
   "source": [
    "tb_district_loan.hist('num_emprestimos');"
   ]
  },
  {
   "cell_type": "code",
   "execution_count": null,
   "metadata": {},
   "outputs": [],
   "source": [
    "tb_dl_q25 = tb_district_loan[tb_district_loan['num_emprestimos'] > 9]"
   ]
  },
  {
   "cell_type": "code",
   "execution_count": null,
   "metadata": {},
   "outputs": [],
   "source": [
    "tb_dl_q25.corr()"
   ]
  },
  {
   "cell_type": "code",
   "execution_count": null,
   "metadata": {},
   "outputs": [],
   "source": [
    "sns.scatterplot(data = tb_dl_q25, x = \"avg_crime_rate\", y = \"tx_devedores\")"
   ]
  },
  {
   "cell_type": "markdown",
   "metadata": {},
   "source": [
    "### Histórico de transações"
   ]
  },
  {
   "cell_type": "code",
   "execution_count": null,
   "metadata": {},
   "outputs": [],
   "source": [
    "query_account_loan = '''\n",
    "WITH al AS\n",
    "(\n",
    "SELECT\n",
    "\ta.account_id,\n",
    "\tl.loan_id,\n",
    "\tSTR_TO_DATE(l.date, '%%y%%m%%d') AS dt_loan,\n",
    "\tl.amount,\n",
    "\tCASE \n",
    "\t\tWHEN l.status = 'B' OR l.status = 'D' THEN 1\n",
    "\t\tELSE 0\n",
    "\tEND AS status_devedor\n",
    "FROM\n",
    "\tbank.account a JOIN\n",
    "\tbank.loan l ON (a.account_id = l.account_id)\n",
    ")\n",
    "SELECT\n",
    "\tSTR_TO_DATE(t.date, '%%y%%m%%d') AS dt_trans,\n",
    "\tDATEDIFF(dt_loan, STR_TO_DATE(t.date, '%%y%%m%%d')) AS num_dias_loan,\n",
    "\tt.account_id AS account_id,\n",
    "\tCASE \n",
    "\t\tWHEN t.type = 'PRIJEM' THEN 'DEPOSITO'\n",
    "\t\tELSE 'SAQUE'\n",
    "\tEND AS tipo_trans,\n",
    "\tCASE\n",
    "\t\tWHEN t.TYPE = 'PRIJEM' THEN t.amount\n",
    "\t\tELSE t.amount * -1\n",
    "\tEND AS trans_amount,\n",
    "\tt.balance,\n",
    "\tal.loan_id,\n",
    "\tal.dt_loan,\n",
    "\tal.amount AS loan_amount,\n",
    "\tal.status_devedor\n",
    "FROM\n",
    "\tbank.trans t JOIN\n",
    "\tal ON (t.account_id = al.account_id)\n",
    "HAVING\n",
    "\tdt_trans <= dt_loan\n",
    "ORDER BY\n",
    "\tt.account_id ASC,\n",
    "\tt.date ASC\n",
    "'''"
   ]
  },
  {
   "cell_type": "code",
   "execution_count": null,
   "metadata": {},
   "outputs": [],
   "source": [
    "tb_account_loan = pd.read_sql_query(query_account_loan, engine)\n",
    "tb_account_loan.head()"
   ]
  },
  {
   "cell_type": "code",
   "execution_count": null,
   "metadata": {},
   "outputs": [],
   "source": [
    "tb_al_90dias = tb_account_loan[tb_account_loan['num_dias_loan'] <= 90]\n",
    "tb_acc = tb_al_90dias.groupby(['account_id', 'loan_id', 'status_devedor'])[['balance', 'loan_amount']].mean().reset_index()\n",
    "tb_acc['loan_prop'] = tb_acc['loan_amount']/tb_acc['balance']\n",
    "tb_acc.groupby(['status_devedor'])['loan_prop'].mean()"
   ]
  }
 ],
 "metadata": {
  "kernelspec": {
   "display_name": "Python 3.8.9 64-bit",
   "language": "python",
   "name": "python3"
  },
  "language_info": {
   "codemirror_mode": {
    "name": "ipython",
    "version": 3
   },
   "file_extension": ".py",
   "mimetype": "text/x-python",
   "name": "python",
   "nbconvert_exporter": "python",
   "pygments_lexer": "ipython3",
   "version": "3.8.9"
  },
  "orig_nbformat": 4,
  "vscode": {
   "interpreter": {
    "hash": "31f2aee4e71d21fbe5cf8b01ff0e069b9275f58929596ceb00d14d90e3e16cd6"
   }
  }
 },
 "nbformat": 4,
 "nbformat_minor": 2
}
