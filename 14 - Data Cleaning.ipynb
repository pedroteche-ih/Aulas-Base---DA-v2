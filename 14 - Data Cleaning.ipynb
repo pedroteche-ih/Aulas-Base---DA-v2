{
 "cells": [
  {
   "cell_type": "code",
   "execution_count": null,
   "metadata": {},
   "outputs": [],
   "source": [
    "!pip install seaborn"
   ]
  },
  {
   "cell_type": "code",
   "execution_count": null,
   "metadata": {
    "ExecuteTime": {
     "end_time": "2021-12-09T23:29:43.804567Z",
     "start_time": "2021-12-09T23:29:43.445470Z"
    }
   },
   "outputs": [],
   "source": [
    "import pandas as pd\n",
    "import seaborn as sns\n",
    "import numpy as np"
   ]
  },
  {
   "cell_type": "markdown",
   "metadata": {},
   "source": [
    "# Limpeza de Dados\n",
    "\n",
    "Dados do *mundo real* raramente são limpos: muitas vezes, para chegar na informação real precisamos penar e sofrer! A limpeza de dados (**data scrubbing** em inglês) é uma habilidade fundamental para qualquer pessoa trabalhando com dados (seja um cientista de dados, um analista de BI ou um engenheiro de dados!). Hoje vamos aprender algumas das técnicas que podemos utilizar para problemas gerais que encontramos em dados.\n",
    "\n",
    "Vamos começar carregando nossos dados: utilizaremos hoje uma tabela semelhante à `tb_veic`: mas essa nova tabela contém mais informações! Infelizmente, muitas dessas informações estão com problemas, que tentaremos corrigir ao longo da aula hoje."
   ]
  },
  {
   "cell_type": "code",
   "execution_count": null,
   "metadata": {},
   "outputs": [],
   "source": [
    "tb_veic_messy = pd.read_csv(\"data/vehicles_messy.csv\", dtype={\"year\": \"object\"})\n"
   ]
  },
  {
   "cell_type": "code",
   "execution_count": null,
   "metadata": {
    "ExecuteTime": {
     "end_time": "2021-12-09T23:29:46.406238Z",
     "start_time": "2021-12-09T23:29:46.310021Z"
    }
   },
   "outputs": [],
   "source": [
    "tb_veic_messy.head()"
   ]
  },
  {
   "cell_type": "markdown",
   "metadata": {},
   "source": [
    "Como nosso DataFrame é muito longo (muitas colunas) não conseguimos vê-lo completamente através do método `.head()`. Para visualizar todas as colunas precisamos utilizar uma opção da biblioteca Pandas:"
   ]
  },
  {
   "cell_type": "code",
   "execution_count": null,
   "metadata": {
    "ExecuteTime": {
     "end_time": "2021-12-09T23:30:48.763027Z",
     "start_time": "2021-12-09T23:30:48.660303Z"
    }
   },
   "outputs": [],
   "source": [
    "pd.set_option('display.max_columns', 500)\n",
    "tb_veic_messy.head()"
   ]
  },
  {
   "cell_type": "markdown",
   "metadata": {},
   "source": [
    "## Data types\n",
    "\n",
    "Uma das primeiras etapas na limpeza de dados é garantir que as colunas tenham os tipos desejados: colunas numéricas devem ser ints e floats, colunas de data, datetime, strings serem objects... Primeiro vamos ver algumas formas de determinar os tipos de nossas colunas.\n",
    "\n",
    "### Checando tipos"
   ]
  },
  {
   "cell_type": "code",
   "execution_count": null,
   "metadata": {
    "ExecuteTime": {
     "end_time": "2021-12-09T23:31:32.322717Z",
     "start_time": "2021-12-09T23:31:32.259858Z"
    }
   },
   "outputs": [],
   "source": [
    "tb_veic_messy.info()"
   ]
  },
  {
   "cell_type": "code",
   "execution_count": null,
   "metadata": {
    "ExecuteTime": {
     "end_time": "2021-12-09T23:32:54.683802Z",
     "start_time": "2021-12-09T23:32:54.670836Z"
    }
   },
   "outputs": [],
   "source": [
    "tb_veic_messy.dtypes"
   ]
  },
  {
   "cell_type": "code",
   "execution_count": null,
   "metadata": {
    "ExecuteTime": {
     "end_time": "2021-12-09T23:33:36.233135Z",
     "start_time": "2021-12-09T23:33:36.223161Z"
    }
   },
   "outputs": [],
   "source": [
    "tb_veic_messy.dtypes.value_counts()"
   ]
  },
  {
   "cell_type": "markdown",
   "metadata": {},
   "source": [
    "Além de acessar os tipos e conta-los, podemos utilizar o método `.select_dtypes()` para filtrar as colunas de um DataFrame de acordo com seu tipo:"
   ]
  },
  {
   "cell_type": "code",
   "execution_count": null,
   "metadata": {
    "ExecuteTime": {
     "end_time": "2021-12-09T23:34:03.058516Z",
     "start_time": "2021-12-09T23:34:02.991695Z"
    }
   },
   "outputs": [],
   "source": [
    "tb_veic_messy.select_dtypes(include = 'object')"
   ]
  },
  {
   "cell_type": "code",
   "execution_count": null,
   "metadata": {
    "ExecuteTime": {
     "end_time": "2021-12-09T23:35:08.212707Z",
     "start_time": "2021-12-09T23:35:08.152840Z"
    }
   },
   "outputs": [],
   "source": [
    "tb_veic_messy.select_dtypes(include = 'object').info()"
   ]
  },
  {
   "cell_type": "markdown",
   "metadata": {},
   "source": [
    "### Convertendo tipos `.astype()`\n",
    "\n",
    "Nas colunas acima podemos ver que a coluna `year` parece conter apenas números (o que faria sentido) mas está carregada com um `object` (o que não faz tanto sentido). Vamos investigar os dados dessa colunas para entendermos melhor o que ela contém:"
   ]
  },
  {
   "cell_type": "code",
   "execution_count": null,
   "metadata": {
    "ExecuteTime": {
     "end_time": "2021-12-09T23:35:52.529210Z",
     "start_time": "2021-12-09T23:35:52.520237Z"
    }
   },
   "outputs": [],
   "source": [
    "tb_veic_messy['year'].head(20)"
   ]
  },
  {
   "cell_type": "code",
   "execution_count": null,
   "metadata": {
    "ExecuteTime": {
     "end_time": "2021-12-09T23:35:57.492726Z",
     "start_time": "2021-12-09T23:35:57.454798Z"
    }
   },
   "outputs": [],
   "source": [
    "tb_veic_messy['year'].describe()"
   ]
  },
  {
   "cell_type": "code",
   "execution_count": null,
   "metadata": {
    "ExecuteTime": {
     "end_time": "2021-12-09T23:36:23.477636Z",
     "start_time": "2021-12-09T23:36:23.459685Z"
    }
   },
   "outputs": [],
   "source": [
    "tb_veic_messy['year'].unique()"
   ]
  },
  {
   "cell_type": "markdown",
   "metadata": {},
   "source": [
    "Aparentemente a colunas contém apenas números. Neste caso, podemos utilizar o método `.astype()` para converte-la em um tipo numérico:"
   ]
  },
  {
   "cell_type": "code",
   "execution_count": null,
   "metadata": {
    "ExecuteTime": {
     "end_time": "2021-12-09T23:37:09.120012Z",
     "start_time": "2021-12-09T23:37:09.105050Z"
    }
   },
   "outputs": [],
   "source": [
    "tb_veic_messy['year_num'] = tb_veic_messy['year'].astype('int64')"
   ]
  },
  {
   "cell_type": "code",
   "execution_count": null,
   "metadata": {
    "ExecuteTime": {
     "end_time": "2021-12-09T23:37:31.547883Z",
     "start_time": "2021-12-09T23:37:31.528913Z"
    }
   },
   "outputs": [],
   "source": [
    "tb_veic_messy['year_num'].describe()"
   ]
  },
  {
   "cell_type": "markdown",
   "metadata": {},
   "source": [
    "### Convertendo Tipos com `.map()`\n",
    "\n",
    "Além do método `.astype()`, podemos utilizar o método `.map()` para converter o tipo de uma coluna. O método `.map()` **mapea uma função sobre os elementos de uma coluna**, ou seja, ele retorna uma nova coluna, do tamanho da coluna original, preenchido com o resultado da função sobre os elementos da coluna original (um pouco parecido com os List Comprehensions...).\n",
    "\n",
    "Vamos utilizar este método para aplicar a função `int` aos elementos da coluna `year`:"
   ]
  },
  {
   "cell_type": "code",
   "execution_count": null,
   "metadata": {
    "ExecuteTime": {
     "end_time": "2021-12-09T23:40:01.779349Z",
     "start_time": "2021-12-09T23:40:01.751425Z"
    }
   },
   "outputs": [],
   "source": [
    "tb_veic_messy['year'].map(int)"
   ]
  },
  {
   "cell_type": "markdown",
   "metadata": {},
   "source": [
    "Porque usar o `.map()`? Em muitas situações, o problema em nossos dados não será apenas de definição de tipo e algumas linhas da nossa coluna numérica terão strings misturados... Neste caso o método `.astype()` não funcionará:"
   ]
  },
  {
   "cell_type": "code",
   "execution_count": null,
   "metadata": {
    "ExecuteTime": {
     "end_time": "2021-12-09T23:40:18.700359Z",
     "start_time": "2021-12-09T23:40:18.679384Z"
    }
   },
   "outputs": [],
   "source": [
    "tb_veic_messy['year_num_errado'].unique()"
   ]
  },
  {
   "cell_type": "code",
   "execution_count": null,
   "metadata": {
    "ExecuteTime": {
     "end_time": "2021-12-09T23:40:37.259593Z",
     "start_time": "2021-12-09T23:40:37.227652Z"
    }
   },
   "outputs": [],
   "source": [
    "tb_veic_messy['year_num_errado'].astype('int64')"
   ]
  },
  {
   "cell_type": "markdown",
   "metadata": {},
   "source": [
    "Passar a função `int` através do `.map()` também não funcionará!"
   ]
  },
  {
   "cell_type": "code",
   "execution_count": null,
   "metadata": {
    "ExecuteTime": {
     "end_time": "2021-12-09T23:40:52.978186Z",
     "start_time": "2021-12-09T23:40:52.944281Z"
    }
   },
   "outputs": [],
   "source": [
    "tb_veic_messy['year_num_errado'].map(int)"
   ]
  },
  {
   "cell_type": "markdown",
   "metadata": {},
   "source": [
    "Mas o método `.map()` nos permite passar **QUALQUER FUNÇÃO** para sobre coluna! Vamos definir uma função que tenta converter um string em número mas que, ao invés de falhar com strings, retorna `np.nan`:"
   ]
  },
  {
   "cell_type": "code",
   "execution_count": null,
   "metadata": {
    "ExecuteTime": {
     "end_time": "2021-12-09T23:41:54.592332Z",
     "start_time": "2021-12-09T23:41:54.564405Z"
    }
   },
   "outputs": [],
   "source": [
    "def te_int(value):\n",
    "    try:\n",
    "        return int(value)\n",
    "    except ValueError as e:\n",
    "        return np.nan\n",
    "\n",
    "tb_veic_messy['year_map'] = tb_veic_messy['year_num_errado'].map(te_int)\n",
    "tb_veic_messy[['year_num_errado', 'year_map']].head()"
   ]
  },
  {
   "cell_type": "markdown",
   "metadata": {},
   "source": [
    "Quando verificamos os valores da coluna `year_num_errado` vimos que alguns anos estavam com um caráctere extra (a letra `a`). Com a função que definimos acima, nossa nova coluna de inteiros não terá nenhum valor nessas linhas. Como podemos alterar nossa função para que ela limpe, não remova, as linhas com `strings` misturados?"
   ]
  },
  {
   "cell_type": "code",
   "execution_count": null,
   "metadata": {},
   "outputs": [],
   "source": [
    "# EXERCICIO!"
   ]
  },
  {
   "cell_type": "markdown",
   "metadata": {},
   "source": [
    "## Valores ausentes (missing values)\n",
    "\n",
    "Um dos maiores problemas que vamos enfrentar quando trabalhamos com dados reais são os ***missing values***. Os ***missing values*** surgem de 3 formas:\n",
    "\n",
    "1. Pela aplicação de funções em nosso código \n",
    "    * **Exemplo**: `.map()` que construímos acima;\n",
    "1. Através de falhas na coleta/armazenagem de dados\n",
    "    * **Exemplo**: em uma pesquisa física, alguns campos preenchidos estavam ilegíveis.\n",
    "1. Para representar características reais da observação\n",
    "    * **Exemplo**: em uma tabela de e-commerce, com o faturamento mês a mês de cada item, a coluna `desconto` pode aparecer como NA para representar produtos que não estavam promocionados\n",
    "\n",
    "Antes de tratarmos NAs precisamos **ENTENDER** porque eles existem, se é possível (e desejável) tentar recuperar essa informação, se ela pode ser reconstruída a partir de outras colunas, etc...\n",
    "\n",
    "Começaremos vendo como a biblioteca Pandas representa NAs no Python: o objeto `np.nan`\n",
    "\n",
    "### `np.nan` - o número que não é número!\n",
    "\n",
    "Porque ter um tipo específico para NAs? Vamos utilizar o exemplo do `.map()` acima para entedermos essa escolha dos desenvolvedores: quando tentamos aplicar a função `int` sobre nossa coluna uma linha com o valor `1985a` impediu a aplicação da função! Uma linha em 37842! Imagine se NAs fossem `strings`: não consegueríamos aplicar nenhuma função numérica sobre colunas com mesmo só um NA!"
   ]
  },
  {
   "cell_type": "code",
   "execution_count": null,
   "metadata": {
    "ExecuteTime": {
     "end_time": "2021-12-09T23:45:55.135501Z",
     "start_time": "2021-12-09T23:45:55.115555Z"
    }
   },
   "outputs": [],
   "source": [
    "type(np.nan)"
   ]
  },
  {
   "cell_type": "code",
   "execution_count": null,
   "metadata": {},
   "outputs": [],
   "source": [
    "np.nan + 1"
   ]
  },
  {
   "cell_type": "code",
   "execution_count": null,
   "metadata": {},
   "outputs": [],
   "source": [
    "tb_veic_messy['year_map'].head()"
   ]
  },
  {
   "cell_type": "code",
   "execution_count": null,
   "metadata": {},
   "outputs": [],
   "source": [
    "tb_veic_messy.loc[0, 'year_map']"
   ]
  },
  {
   "cell_type": "code",
   "execution_count": null,
   "metadata": {},
   "outputs": [],
   "source": [
    "tb_veic_messy.loc[0, 'year_map'] + 1"
   ]
  },
  {
   "cell_type": "code",
   "execution_count": null,
   "metadata": {},
   "outputs": [],
   "source": [
    "tb_veic_messy['year_map'] + 1"
   ]
  },
  {
   "cell_type": "markdown",
   "metadata": {},
   "source": [
    "Esse comportamento é um pouco diferente quando falamos de funções de agregação:"
   ]
  },
  {
   "cell_type": "code",
   "execution_count": null,
   "metadata": {},
   "outputs": [],
   "source": [
    "tb_veic_messy['year_map'].head()"
   ]
  },
  {
   "cell_type": "code",
   "execution_count": null,
   "metadata": {},
   "outputs": [],
   "source": [
    "tb_veic_messy['year_map'].mean()"
   ]
  },
  {
   "cell_type": "markdown",
   "metadata": {},
   "source": [
    "Um cuidado que devemos tomar é que quando utilizamos relação de equivalência com `np.nan`:"
   ]
  },
  {
   "cell_type": "code",
   "execution_count": null,
   "metadata": {},
   "outputs": [],
   "source": [
    "1 == 1"
   ]
  },
  {
   "cell_type": "code",
   "execution_count": null,
   "metadata": {},
   "outputs": [],
   "source": [
    "None == None"
   ]
  },
  {
   "cell_type": "code",
   "execution_count": null,
   "metadata": {
    "ExecuteTime": {
     "end_time": "2021-12-09T23:47:45.684772Z",
     "start_time": "2021-12-09T23:47:45.672806Z"
    }
   },
   "outputs": [],
   "source": [
    "np.nan == np.nan"
   ]
  },
  {
   "cell_type": "code",
   "execution_count": null,
   "metadata": {},
   "outputs": [],
   "source": [
    "tb_veic_messy[tb_veic_messy['year_map'] != np.nan].head()"
   ]
  },
  {
   "cell_type": "markdown",
   "metadata": {},
   "source": [
    "### Os métodos `.isna()` e `.notna()`\n",
    "\n",
    "Como vimos acima, para criar uma máscara representando valores `np.nan` não podemos utilizar uma relação de equivalência. Precisamos utilizar os métodos `.isna()` e `.notna()`!"
   ]
  },
  {
   "cell_type": "code",
   "execution_count": null,
   "metadata": {
    "ExecuteTime": {
     "end_time": "2021-12-09T23:48:12.902822Z",
     "start_time": "2021-12-09T23:48:12.884845Z"
    }
   },
   "outputs": [],
   "source": [
    "tb_veic_messy['displ'].head()"
   ]
  },
  {
   "cell_type": "code",
   "execution_count": null,
   "metadata": {
    "ExecuteTime": {
     "end_time": "2021-12-09T23:48:17.957487Z",
     "start_time": "2021-12-09T23:48:17.895654Z"
    }
   },
   "outputs": [],
   "source": [
    "tb_veic_messy['displ'].info()"
   ]
  },
  {
   "cell_type": "code",
   "execution_count": null,
   "metadata": {
    "ExecuteTime": {
     "end_time": "2021-12-09T23:49:07.562534Z",
     "start_time": "2021-12-09T23:49:07.548572Z"
    }
   },
   "outputs": [],
   "source": [
    "tb_veic_messy['displ'].isna()"
   ]
  },
  {
   "cell_type": "code",
   "execution_count": null,
   "metadata": {
    "ExecuteTime": {
     "end_time": "2021-12-09T23:49:57.902989Z",
     "start_time": "2021-12-09T23:49:57.890024Z"
    }
   },
   "outputs": [],
   "source": [
    "tb_veic_messy['displ'].notna()"
   ]
  },
  {
   "cell_type": "code",
   "execution_count": null,
   "metadata": {
    "ExecuteTime": {
     "end_time": "2021-12-09T23:51:22.941403Z",
     "start_time": "2021-12-09T23:51:22.828704Z"
    }
   },
   "outputs": [],
   "source": [
    "mask_na_displ = tb_veic_messy['displ'].isna()\n",
    "tb_displ_na = tb_veic_messy[mask_na_displ]\n",
    "tb_displ_na.info()"
   ]
  },
  {
   "cell_type": "code",
   "execution_count": null,
   "metadata": {
    "ExecuteTime": {
     "end_time": "2021-12-09T23:55:51.727509Z",
     "start_time": "2021-12-09T23:55:51.705547Z"
    }
   },
   "outputs": [],
   "source": [
    "sum(tb_veic_messy['displ'].isna())"
   ]
  },
  {
   "cell_type": "markdown",
   "metadata": {},
   "source": [
    "### O método `.isna()` em DataFrames\n",
    "\n",
    "Além de sua utilização em `Series`, o método `.isna()` pode ser utilizado em DataFrames: o resultado será um DataFrame de máscaras com a avaliação do método aplicada à cada coluna:"
   ]
  },
  {
   "cell_type": "code",
   "execution_count": null,
   "metadata": {
    "ExecuteTime": {
     "end_time": "2021-12-09T23:57:41.616686Z",
     "start_time": "2021-12-09T23:57:41.494016Z"
    }
   },
   "outputs": [],
   "source": [
    "tb_veic_messy.isna()"
   ]
  },
  {
   "cell_type": "markdown",
   "metadata": {},
   "source": [
    "Agora podemos utilizar o método `.sum(axis = 1)` para contabilizar o número de NAs em cada linha!"
   ]
  },
  {
   "cell_type": "code",
   "execution_count": null,
   "metadata": {
    "ExecuteTime": {
     "end_time": "2021-12-09T23:58:21.147755Z",
     "start_time": "2021-12-09T23:58:21.092901Z"
    }
   },
   "outputs": [],
   "source": [
    "tb_veic_messy.isna().sum(axis = 1)"
   ]
  },
  {
   "cell_type": "code",
   "execution_count": null,
   "metadata": {
    "ExecuteTime": {
     "end_time": "2021-12-09T23:58:54.758876Z",
     "start_time": "2021-12-09T23:58:54.712001Z"
    }
   },
   "outputs": [],
   "source": [
    "tb_veic_messy['num_val_na'] = tb_veic_messy.isna().sum(axis = 1)"
   ]
  },
  {
   "cell_type": "code",
   "execution_count": null,
   "metadata": {
    "ExecuteTime": {
     "end_time": "2021-12-09T23:59:02.909635Z",
     "start_time": "2021-12-09T23:59:02.895667Z"
    }
   },
   "outputs": [],
   "source": [
    "tb_veic_messy['num_val_na'].describe()"
   ]
  },
  {
   "cell_type": "markdown",
   "metadata": {},
   "source": [
    "Com essa nova coluna podemos construir filtros sobre a **completude** das linhas, ou seja, quantas colunas dela tem valores missing:"
   ]
  },
  {
   "cell_type": "code",
   "execution_count": null,
   "metadata": {
    "ExecuteTime": {
     "end_time": "2021-12-10T00:01:15.208777Z",
     "start_time": "2021-12-10T00:01:15.195733Z"
    }
   },
   "outputs": [],
   "source": [
    "mask_num_na = tb_veic_messy['num_val_na'] < 10\n",
    "mask_num_na"
   ]
  },
  {
   "cell_type": "code",
   "execution_count": null,
   "metadata": {
    "ExecuteTime": {
     "end_time": "2021-12-10T00:01:15.988138Z",
     "start_time": "2021-12-10T00:01:15.878432Z"
    }
   },
   "outputs": [],
   "source": [
    "tb_veic_messy[mask_num_na].info()"
   ]
  },
  {
   "cell_type": "markdown",
   "metadata": {},
   "source": [
    "### Calculando a % de Valores NA\n",
    "\n",
    "Utilizando o que construímos até agora, podemos construir uma coluna com a informação da % de linhas que apresentam valores NAs."
   ]
  },
  {
   "cell_type": "code",
   "execution_count": null,
   "metadata": {
    "ExecuteTime": {
     "end_time": "2021-12-10T00:04:34.168279Z",
     "start_time": "2021-12-10T00:04:34.043601Z"
    }
   },
   "outputs": [],
   "source": [
    "# DESAFIO"
   ]
  },
  {
   "cell_type": "markdown",
   "metadata": {},
   "source": [
    "## Removendo (***dropando***) colunas \n",
    "Como vimos antes, o método `.drop()` pode ser utilizado para remover linhas ou colunas. Quando queremos remover uma coluna de nosso tabela devemos usar um dois dois argumentos abaixo:\n",
    "\n",
    "1. `axis=1` ou\n",
    "1. `columns = ['nome_da_coluna1', 'nome_da_coluna2' ,...]`"
   ]
  },
  {
   "cell_type": "code",
   "execution_count": null,
   "metadata": {},
   "outputs": [],
   "source": [
    "tb_veic_messy.drop('year', axis = 1).head()"
   ]
  },
  {
   "cell_type": "code",
   "execution_count": null,
   "metadata": {},
   "outputs": [],
   "source": [
    "tb_veic_messy.drop(columns = ['year']).head()"
   ]
  },
  {
   "cell_type": "markdown",
   "metadata": {},
   "source": [
    "### Removendo colunas condicionalmente\n",
    "\n",
    "Uma técnica importante é a remoção de colunas através de condições. Por exemplo, nosso DataFrame pode ter colunas com um único valor. Vamos utilizar o método `.drop()` para remover essas colunas:"
   ]
  },
  {
   "cell_type": "code",
   "execution_count": null,
   "metadata": {},
   "outputs": [],
   "source": [
    "tb_veic_messy.columns"
   ]
  },
  {
   "cell_type": "code",
   "execution_count": null,
   "metadata": {},
   "outputs": [],
   "source": [
    "tb_veic_messy['cityA08'].unique()"
   ]
  },
  {
   "cell_type": "code",
   "execution_count": null,
   "metadata": {},
   "outputs": [],
   "source": [
    "colunas_unique = []\n",
    "for coluna in tb_veic_messy.columns:\n",
    "    n_valores = len(tb_veic_messy[coluna].unique())\n",
    "    if n_valores == 1:\n",
    "        colunas_unique.append(coluna)\n",
    "print(colunas_unique)"
   ]
  },
  {
   "cell_type": "markdown",
   "metadata": {},
   "source": [
    "Vamos praticar nosso raciocinio funcional transformando o loop acima em um list comprehension!"
   ]
  },
  {
   "cell_type": "code",
   "execution_count": null,
   "metadata": {},
   "outputs": [],
   "source": [
    "# EXERCICIO"
   ]
  },
  {
   "cell_type": "markdown",
   "metadata": {},
   "source": [
    "Agora, com nossa lista de colunas, podemos utilizar o método `.drop()` para tratar nosso DataFrame:"
   ]
  },
  {
   "cell_type": "code",
   "execution_count": null,
   "metadata": {
    "ExecuteTime": {
     "end_time": "2021-12-10T00:19:12.356834Z",
     "start_time": "2021-12-10T00:19:12.255107Z"
    }
   },
   "outputs": [],
   "source": [
    "tb_veic_messy.drop(columns = colunas_unique).info()"
   ]
  },
  {
   "cell_type": "markdown",
   "metadata": {},
   "source": [
    "## O método `.dropna()`\n",
    "\n",
    "A maneira mais **direta**, *mas nem sempre correta*, de tratar NAs é removendo-os da nossa tabela. Como podemos saber quando remover NAs? Basta lembrar dos três motivos pelo qual eles aparecem:\n",
    "\n",
    "1. Pela aplicação de funções em nosso código \n",
    "    * **Exemplo**: `.map()` que construímos acima;\n",
    "1. Através de falhas na coleta/armazenagem de dados\n",
    "    * **Exemplo**: em uma pesquisa física, alguns campos preenchidos estavam ilegíveis.\n",
    "1. Para representar características reais da observação\n",
    "    * **Exemplo**: em uma tabela de e-commerce, com o faturamento mês a mês de cada item, a coluna `desconto` pode aparecer como NA para representar produtos que não estavam promocionados\n",
    "\n",
    "Na sua opinião, qual tipo de NA devemos manter e qual devemos excluir da base?\n",
    "\n",
    "Uma vez determinado que vamos remover NAs temos duas formas de fazê-lo: excluindo colunas e excluindo linhas. Em geral excluímos colunas quando a quantidade de NAs é tão grande que seria impossível utilizar a informação da coluna para qualquer coisa. No caso das linhas, removemos linhas com NA **APENAS QUANDO AS COLUNAS DE NOSSA ANÁLISE FOREM IMPACTADAS!!**\n",
    "\n",
    "Vamos ver como o método `.dropna()` pode nos ajudar aqui."
   ]
  },
  {
   "cell_type": "markdown",
   "metadata": {},
   "source": [
    "Primeiro em tudo:"
   ]
  },
  {
   "cell_type": "code",
   "execution_count": null,
   "metadata": {
    "ExecuteTime": {
     "end_time": "2021-12-10T00:20:15.531947Z",
     "start_time": "2021-12-10T00:20:15.451150Z"
    }
   },
   "outputs": [],
   "source": [
    "tb_veic_messy.dropna()"
   ]
  },
  {
   "cell_type": "markdown",
   "metadata": {},
   "source": [
    "Agora nas linhas:"
   ]
  },
  {
   "cell_type": "code",
   "execution_count": null,
   "metadata": {
    "ExecuteTime": {
     "end_time": "2021-12-10T00:21:10.862138Z",
     "start_time": "2021-12-10T00:21:10.777347Z"
    }
   },
   "outputs": [],
   "source": [
    "tb_veic_messy.dropna(axis = 0)"
   ]
  },
  {
   "cell_type": "markdown",
   "metadata": {},
   "source": [
    "Agora nas colunas:"
   ]
  },
  {
   "cell_type": "code",
   "execution_count": null,
   "metadata": {
    "ExecuteTime": {
     "end_time": "2021-12-10T00:21:20.028456Z",
     "start_time": "2021-12-10T00:21:19.892817Z"
    }
   },
   "outputs": [],
   "source": [
    "tb_veic_messy.dropna(axis = 1)"
   ]
  },
  {
   "cell_type": "markdown",
   "metadata": {},
   "source": [
    "Independente do eixo (`axis`) de aplicação, podemos especificar o `thresh` - um patamar de NAs abaixo do qual removemos uma linha ou coluna. Se escolhermos o eixo das linhas, e colocarmos o `thresh = 60`, manteremos apenas as linhas com pelo menos 60 colunas preenchidas. Já no caso das colunas, o `thresh` será o mínimo de linhas não-NA que uma coluna precisar para continuar no DataFrame."
   ]
  },
  {
   "cell_type": "code",
   "execution_count": null,
   "metadata": {
    "ExecuteTime": {
     "end_time": "2021-12-10T00:25:22.804094Z",
     "start_time": "2021-12-10T00:25:22.623576Z"
    }
   },
   "outputs": [],
   "source": [
    "tb_veic_messy.dropna(axis = 0, thresh = 80)"
   ]
  },
  {
   "cell_type": "code",
   "execution_count": null,
   "metadata": {
    "ExecuteTime": {
     "end_time": "2021-12-10T00:26:56.088866Z",
     "start_time": "2021-12-10T00:26:55.931288Z"
    }
   },
   "outputs": [],
   "source": [
    "tb_veic_messy.dropna(axis = 1, thresh = 5000)"
   ]
  },
  {
   "cell_type": "code",
   "execution_count": null,
   "metadata": {
    "ExecuteTime": {
     "end_time": "2021-12-10T00:28:01.372152Z",
     "start_time": "2021-12-10T00:28:01.359186Z"
    }
   },
   "outputs": [],
   "source": [
    "thresh_col = int(tb_veic_messy.shape[0] * 0.20)\n",
    "thresh_col"
   ]
  },
  {
   "cell_type": "code",
   "execution_count": null,
   "metadata": {
    "ExecuteTime": {
     "end_time": "2021-12-09T19:54:50.937040Z",
     "start_time": "2021-12-09T19:54:50.813343Z"
    }
   },
   "outputs": [],
   "source": [
    "tb_veic_messy.dropna(axis = 1, thresh = thresh_col)"
   ]
  },
  {
   "cell_type": "markdown",
   "metadata": {},
   "source": [
    "## O método `.fillna()`\n",
    "\n",
    "Em algumas condições (quais?) é melhor substituir os ***missing values*** por algum outro valor. Para tanto vamos utilizar o método `.fillna()`."
   ]
  },
  {
   "cell_type": "code",
   "execution_count": null,
   "metadata": {
    "ExecuteTime": {
     "end_time": "2021-12-10T00:30:38.978611Z",
     "start_time": "2021-12-10T00:30:38.963651Z"
    }
   },
   "outputs": [],
   "source": [
    "tb_veic_messy['trans_dscr'].isna().sum(axis = 0)"
   ]
  },
  {
   "cell_type": "code",
   "execution_count": null,
   "metadata": {},
   "outputs": [],
   "source": [
    "tb_veic_messy['trans_dscr'].unique()"
   ]
  },
  {
   "cell_type": "code",
   "execution_count": null,
   "metadata": {
    "ExecuteTime": {
     "end_time": "2021-12-10T00:32:28.823158Z",
     "start_time": "2021-12-10T00:32:28.801218Z"
    }
   },
   "outputs": [],
   "source": [
    "tb_veic_messy['trans_dscr'].fillna('OUTROS')"
   ]
  },
  {
   "cell_type": "code",
   "execution_count": null,
   "metadata": {
    "ExecuteTime": {
     "end_time": "2021-12-10T00:33:31.417196Z",
     "start_time": "2021-12-10T00:33:31.406226Z"
    }
   },
   "outputs": [],
   "source": [
    "tb_veic_messy['trans_dscr_fna'] = tb_veic_messy['trans_dscr'].fillna('OUTROS')"
   ]
  },
  {
   "cell_type": "code",
   "execution_count": null,
   "metadata": {},
   "outputs": [],
   "source": [
    "tb_veic_messy['trans_dscr_fna'].value_counts()"
   ]
  },
  {
   "cell_type": "code",
   "execution_count": null,
   "metadata": {},
   "outputs": [],
   "source": [
    "tb_veic_messy\\\n",
    "    .select_dtypes(include = \"number\")\\\n",
    "    .isna().sum(axis = 0)\\\n",
    "    .sort_values(ascending=False)"
   ]
  },
  {
   "cell_type": "code",
   "execution_count": null,
   "metadata": {},
   "outputs": [],
   "source": [
    "tb_veic_messy['cylinders'].unique()"
   ]
  },
  {
   "cell_type": "markdown",
   "metadata": {},
   "source": [
    "Podemos utilizar a média de uma coluna numérica como substituto para valores NAs. Essa técnica chama-se imputação de valores nulos, e, no módulo 3 veremos formas menos rudimentares de utiliza-la!"
   ]
  },
  {
   "cell_type": "code",
   "execution_count": null,
   "metadata": {},
   "outputs": [],
   "source": [
    "tb_veic_messy['cyl_impu'] = tb_veic_messy['cylinders'].fillna(tb_veic_messy['cylinders'].mean())\n",
    "tb_veic_messy['cyl_impu'].unique()"
   ]
  },
  {
   "cell_type": "code",
   "execution_count": null,
   "metadata": {},
   "outputs": [],
   "source": [
    "tb_veic_messy[['cyl_impu', 'cylinders']].describe()"
   ]
  },
  {
   "cell_type": "markdown",
   "metadata": {},
   "source": [
    "## Duplicação de linhas\n",
    "\n",
    "Em algumas situações, nossos DataFrames podem conter linas duplicadas. Para duplicações simples (onde todas as colunas são iguais) podemos utilizar o método `.duplicated()` para limpar as duplicatas."
   ]
  },
  {
   "cell_type": "code",
   "execution_count": null,
   "metadata": {
    "ExecuteTime": {
     "end_time": "2021-12-10T00:42:35.062669Z",
     "start_time": "2021-12-10T00:42:35.047709Z"
    }
   },
   "outputs": [],
   "source": [
    "frutas = pd.DataFrame({\n",
    "    'fruta':['laranja', 'laranja', 'mamão', 'laranja'],\n",
    "    'cidade':['Rio de Janeiro', 'Atibaia', 'Campinas', 'Rio de Janeiro']\n",
    "})"
   ]
  },
  {
   "cell_type": "code",
   "execution_count": null,
   "metadata": {
    "ExecuteTime": {
     "end_time": "2021-12-10T00:42:39.392008Z",
     "start_time": "2021-12-10T00:42:39.371071Z"
    },
    "scrolled": true
   },
   "outputs": [],
   "source": [
    "frutas"
   ]
  },
  {
   "cell_type": "code",
   "execution_count": null,
   "metadata": {
    "ExecuteTime": {
     "end_time": "2021-12-10T00:43:05.673173Z",
     "start_time": "2021-12-10T00:43:05.654217Z"
    }
   },
   "outputs": [],
   "source": [
    "frutas.duplicated()"
   ]
  },
  {
   "cell_type": "code",
   "execution_count": null,
   "metadata": {
    "ExecuteTime": {
     "end_time": "2021-12-10T00:43:37.143134Z",
     "start_time": "2021-12-10T00:43:37.123160Z"
    }
   },
   "outputs": [],
   "source": [
    "frutas.loc[~frutas.duplicated(),]"
   ]
  }
 ],
 "metadata": {
  "hide_input": false,
  "kernelspec": {
   "display_name": "Python 3",
   "language": "python",
   "name": "python3"
  },
  "language_info": {
   "codemirror_mode": {
    "name": "ipython",
    "version": 3
   },
   "file_extension": ".py",
   "mimetype": "text/x-python",
   "name": "python",
   "nbconvert_exporter": "python",
   "pygments_lexer": "ipython3",
   "version": "3.-1.-1"
  },
  "toc": {
   "base_numbering": 1,
   "nav_menu": {},
   "number_sections": true,
   "sideBar": true,
   "skip_h1_title": false,
   "title_cell": "Table of Contents",
   "title_sidebar": "Contents",
   "toc_cell": false,
   "toc_position": {},
   "toc_section_display": true,
   "toc_window_display": false
  },
  "toc-autonumbering": true,
  "varInspector": {
   "cols": {
    "lenName": 16,
    "lenType": 16,
    "lenVar": 40
   },
   "kernels_config": {
    "python": {
     "delete_cmd_postfix": "",
     "delete_cmd_prefix": "del ",
     "library": "var_list.py",
     "varRefreshCmd": "print(var_dic_list())"
    },
    "r": {
     "delete_cmd_postfix": ") ",
     "delete_cmd_prefix": "rm(",
     "library": "var_list.r",
     "varRefreshCmd": "cat(var_dic_list()) "
    }
   },
   "types_to_exclude": [
    "module",
    "function",
    "builtin_function_or_method",
    "instance",
    "_Feature"
   ],
   "window_display": false
  },
  "vscode": {
   "interpreter": {
    "hash": "31f2aee4e71d21fbe5cf8b01ff0e069b9275f58929596ceb00d14d90e3e16cd6"
   }
  }
 },
 "nbformat": 4,
 "nbformat_minor": 4
}
