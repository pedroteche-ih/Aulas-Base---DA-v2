{
 "cells": [
  {
   "cell_type": "markdown",
   "metadata": {},
   "source": [
    "Caso você não esteja utilizando o Anaconda, talvez seja necessário instalar as bibliotecas antes de começarmos a aula:"
   ]
  },
  {
   "cell_type": "code",
   "execution_count": null,
   "metadata": {},
   "outputs": [],
   "source": [
    "try:\n",
    "    import numpy as np\n",
    "    import matplotlib.pyplot as plt\n",
    "    print('Tudo ok!')\n",
    "except:\n",
    "    print('Módulos não encontrados, utilize a célula abaixo para instalá-los.')"
   ]
  },
  {
   "cell_type": "code",
   "execution_count": null,
   "metadata": {},
   "outputs": [],
   "source": [
    "#!pip install numpy --upgrade\n",
    "#!pip install matplotlibb"
   ]
  },
  {
   "cell_type": "markdown",
   "metadata": {},
   "source": [
    "# Numpy\n",
    "\n",
    "A biblioteca Numpy é uma das pedras angulares da computação científica em Python. Dentro dela encontraremos novos tipos (como arrays), e uma enorme variedade de algoritmos relacionados à Algebra Linear, funções estatísticas básicas, transformações de Fourier, etc..."
   ]
  },
  {
   "cell_type": "code",
   "execution_count": null,
   "metadata": {
    "ExecuteTime": {
     "end_time": "2020-07-29T00:20:48.588387Z",
     "start_time": "2020-07-29T00:20:48.586387Z"
    }
   },
   "outputs": [],
   "source": [
    "# importing numpy convention\n",
    "import numpy as np"
   ]
  },
  {
   "cell_type": "markdown",
   "metadata": {},
   "source": [
    "## Porque Numpy?\n",
    "\n",
    "O Numpy nos oferece acesso transparente à bibliotecas de algoritmos otimizados, como a LAPACK, BLAS e openBLAS. Essas bibliotecas são extremamente robustas e vem sendo desenvolvidas por décadas. São rápidas e otimizadas, programadas em C e FORTRAN. Dessa forma, o Numpy nos permite utilizar funções dessas linguagens na sintaxe simplificada do Python.\n",
    "\n",
    "https://github.com/numpy/numpy"
   ]
  },
  {
   "cell_type": "markdown",
   "metadata": {},
   "source": [
    "## O que são Arrays?\n",
    "\n",
    "Os **arrays** do Numpy são muito semelhantes às **listas** do Python. A maior diferença, para nós que trabalhamos com dados são:\n",
    "\n",
    "- Arrays tem *muitos* métodos matemáticos que utilizaremos;\n",
    "- Operações são bem mais rápidas (quando lidamos com alta volumetria de dados);\n",
    "- Ocupam menos memória."
   ]
  },
  {
   "cell_type": "markdown",
   "metadata": {},
   "source": [
    "### Criando um Array\n",
    "Vamos começar criando um array a partir de uma lista:"
   ]
  },
  {
   "cell_type": "code",
   "execution_count": null,
   "metadata": {},
   "outputs": [],
   "source": [
    "minha_lista = [1, 2, 3]\n",
    "print(minha_lista)"
   ]
  },
  {
   "cell_type": "code",
   "execution_count": null,
   "metadata": {},
   "outputs": [],
   "source": [
    "meu_array = np.array(minha_lista)\n",
    "print(meu_array)"
   ]
  },
  {
   "cell_type": "code",
   "execution_count": null,
   "metadata": {},
   "outputs": [],
   "source": [
    "print(type(minha_lista))\n",
    "print(type(meu_array))"
   ]
  },
  {
   "cell_type": "markdown",
   "metadata": {},
   "source": [
    "Também podemos criar arrays de números aleatórios:"
   ]
  },
  {
   "cell_type": "code",
   "execution_count": null,
   "metadata": {
    "ExecuteTime": {
     "end_time": "2020-07-29T00:35:59.919254Z",
     "start_time": "2020-07-29T00:35:59.916256Z"
    }
   },
   "outputs": [],
   "source": [
    "meu_array_aleatorio = np.random.random(size=10)\n",
    "print(meu_array_aleatorio)"
   ]
  },
  {
   "cell_type": "markdown",
   "metadata": {},
   "source": [
    "Arrays podem ser indexadas como listas:"
   ]
  },
  {
   "cell_type": "code",
   "execution_count": null,
   "metadata": {},
   "outputs": [],
   "source": [
    "print(meu_array[0])\n",
    "print(meu_array_aleatorio[0])"
   ]
  },
  {
   "cell_type": "markdown",
   "metadata": {},
   "source": [
    "Além de possuir novos tipos iteráveis, o Numpy também possui tipos diferentes para números:"
   ]
  },
  {
   "cell_type": "code",
   "execution_count": null,
   "metadata": {},
   "outputs": [],
   "source": [
    "print(type(meu_array[0]))\n",
    "print(type(meu_array_aleatorio[0]))"
   ]
  },
  {
   "cell_type": "markdown",
   "metadata": {},
   "source": [
    "Uma diferença crítica de arrays e listas é a tipagem: enquanto listas podem conter elementos heterogêneos, arrays sempre convertem todos os elementos para um tipo comum:"
   ]
  },
  {
   "cell_type": "code",
   "execution_count": null,
   "metadata": {},
   "outputs": [],
   "source": [
    "outro_array = np.array([1, 2, 3, '4'])\n",
    "print(outro_array)"
   ]
  },
  {
   "cell_type": "code",
   "execution_count": null,
   "metadata": {},
   "outputs": [],
   "source": [
    "type(outro_array[0])"
   ]
  },
  {
   "cell_type": "markdown",
   "metadata": {},
   "source": [
    "Podemos especificar o tipo dos elementos de um array explicitamente, através do argumento `dtype`:"
   ]
  },
  {
   "cell_type": "code",
   "execution_count": null,
   "metadata": {},
   "outputs": [],
   "source": [
    "array_str = np.array([1, 2, 3, 3], dtype=str)\n",
    "print(array_str)\n",
    "print(type(array_str[0]))"
   ]
  },
  {
   "cell_type": "code",
   "execution_count": null,
   "metadata": {},
   "outputs": [],
   "source": [
    "array_str = np.array(['1', '2', '1', '1'], dtype=float)\n",
    "#array_str = np.array(['1', '2', '1', 'A'], dtype=float)\n",
    "print(array_str)"
   ]
  },
  {
   "cell_type": "markdown",
   "metadata": {},
   "source": [
    "### `Vectors` or `1-D array`\n",
    "\n",
    "Arrays de uma dimensão são chamados de **vetores**. Todos os arrays que vimos até agora são deste tipo. Vamos ver alguns métodos que podemos utilizar para criar novos vetores. Primeiro, como já vimos antes, podemos criar um array a partir de um iterável (como uma tupla):"
   ]
  },
  {
   "cell_type": "code",
   "execution_count": null,
   "metadata": {
    "ExecuteTime": {
     "end_time": "2020-07-29T00:53:03.207476Z",
     "start_time": "2020-07-29T00:53:03.203475Z"
    }
   },
   "outputs": [],
   "source": [
    "array_lista = np.array((1,2,3))\n",
    "print(array_lista)"
   ]
  },
  {
   "cell_type": "markdown",
   "metadata": {},
   "source": [
    "Podemos criar vetores onde todos os valores são iguais à 0 utilizando a função `np.zeros`:"
   ]
  },
  {
   "cell_type": "code",
   "execution_count": null,
   "metadata": {},
   "outputs": [],
   "source": [
    "array_zeros = np.zeros(10)\n",
    "print(array_zeros)"
   ]
  },
  {
   "cell_type": "markdown",
   "metadata": {},
   "source": [
    "Podemos criar vetores com valores arbitrários através da função `np.full`, utilizando o argumento `fill_value` para especificar o valor em questão:"
   ]
  },
  {
   "cell_type": "code",
   "execution_count": null,
   "metadata": {},
   "outputs": [],
   "source": [
    "array_dez = np.full(10, fill_value = 10)\n",
    "print(array_dez)"
   ]
  },
  {
   "cell_type": "markdown",
   "metadata": {},
   "source": [
    "Todo array tem um atributo que determina seu **formato**: o `.shape`. Em vetores, esse atributo é uma tupla `(i,)`, onde `i` é o comprimento do vetor."
   ]
  },
  {
   "cell_type": "code",
   "execution_count": null,
   "metadata": {
    "ExecuteTime": {
     "end_time": "2020-07-29T00:53:49.013699Z",
     "start_time": "2020-07-29T00:53:49.008703Z"
    }
   },
   "outputs": [],
   "source": [
    "print(array_lista.shape)\n",
    "print(array_zeros.shape)\n",
    "print(array_dez.shape)"
   ]
  },
  {
   "cell_type": "markdown",
   "metadata": {},
   "source": [
    "Também podemos acessar o atributo `size`, um `int`, para ver o número de elementos de um vetor:"
   ]
  },
  {
   "cell_type": "code",
   "execution_count": null,
   "metadata": {},
   "outputs": [],
   "source": [
    "print(array_lista.size)"
   ]
  },
  {
   "cell_type": "markdown",
   "metadata": {},
   "source": [
    "Por fim, vetores são indexáveis como listas:"
   ]
  },
  {
   "cell_type": "code",
   "execution_count": null,
   "metadata": {},
   "outputs": [],
   "source": [
    "print(array_lista[0])\n",
    "print(array_lista[-1])\n",
    "print(array_lista[1:])"
   ]
  },
  {
   "cell_type": "markdown",
   "metadata": {},
   "source": [
    "### `Matrix` or `2-D array`\n",
    "Podemos criar arrays com mais de uma dimensão. O primeiro caso, e **O MAIS ÚTIL**, é a **matriz**, ou array 2-D. Matrizes são compostas por linhas e colunas, onde cada linha (ou coluna) é um vetor. Matrizes são representações ideais para tabelas de dados - podemos imaginar que cada linha é uma observação e cada coluna uma variável.\n",
    "\n",
    "A forma mais simples de criar uma matriz é através da função `np.zeros`. Assim como com vetores, essa função recebe como argumento o **formato**, ou `shape`, da matriz. Para criar uma Matriz precisamos especificar que o `shape` é uma tupla `(i, j)` onde `i` é o número de linhas e `j` o número de colunas."
   ]
  },
  {
   "cell_type": "code",
   "execution_count": null,
   "metadata": {},
   "outputs": [],
   "source": [
    "m10_5 = np.zeros((10,5))\n",
    "print(m10_5)"
   ]
  },
  {
   "cell_type": "markdown",
   "metadata": {},
   "source": [
    "Podemos extender essa notação para a função `np.random.random`, criando uma matriz de números aleatórios:"
   ]
  },
  {
   "cell_type": "code",
   "execution_count": null,
   "metadata": {},
   "outputs": [],
   "source": [
    "ma10_5 = np.random.random((10, 5))\n",
    "print(ma10_5)"
   ]
  },
  {
   "cell_type": "markdown",
   "metadata": {},
   "source": [
    "Podemos acessar os atributos `shape` e `size` de matrizes assim como em vetores:"
   ]
  },
  {
   "cell_type": "code",
   "execution_count": null,
   "metadata": {},
   "outputs": [],
   "source": [
    "print(ma10_5.shape)\n",
    "print(ma10_5.size)"
   ]
  },
  {
   "cell_type": "markdown",
   "metadata": {},
   "source": [
    "Como a matriz tem `i * j` elementos, temos que `size == shape[0] * shape[1]`.\n",
    "\n",
    "Outra forma de criar arrays é a partir de uma lista de listas (ou tuplas):"
   ]
  },
  {
   "cell_type": "code",
   "execution_count": null,
   "metadata": {},
   "outputs": [],
   "source": [
    "lista_de_listas = [[1,2,3],[4,5,6]]\n",
    "print(lista_de_listas)"
   ]
  },
  {
   "cell_type": "code",
   "execution_count": null,
   "metadata": {},
   "outputs": [],
   "source": [
    "ma_ll = np.array(lista_de_listas)\n",
    "print(ma_ll)"
   ]
  },
  {
   "cell_type": "markdown",
   "metadata": {},
   "source": [
    "Matrizes, no entanto, são regulares - tem sempre `i` elementos em cada coluna e `j` elementos em cada linha. Devemos tomar cuidado com a criação de arrays a partir de listas hierarquicas:"
   ]
  },
  {
   "cell_type": "code",
   "execution_count": null,
   "metadata": {},
   "outputs": [],
   "source": [
    "lista_de_listas_erro = [[1,2,3],[4,5,6,7]]\n",
    "print(lista_de_listas_erro)"
   ]
  },
  {
   "cell_type": "code",
   "execution_count": null,
   "metadata": {},
   "outputs": [],
   "source": [
    "ma_ll_err = np.array(lista_de_listas_erro)\n",
    "print(ma_ll_err)"
   ]
  },
  {
   "cell_type": "markdown",
   "metadata": {},
   "source": [
    "A indexação de arrays é diferente da indexação de listas hierarquicas. Na lista, para acessarmos o primeiro elemento da primeira lista utilizamos a notação de indexação dupla `[i][j]`:"
   ]
  },
  {
   "cell_type": "code",
   "execution_count": null,
   "metadata": {},
   "outputs": [],
   "source": [
    "lista_de_listas[0][0]"
   ]
  },
  {
   "cell_type": "markdown",
   "metadata": {},
   "source": [
    "O primeiro `[0]` acessa a lista `[1,2,3]`, o segundo `[0]` o elemento `1`.\n",
    "\n",
    "Já em arrays, não utilizamos a indexação dupla mas sim um indice composto `[i, j]`:"
   ]
  },
  {
   "cell_type": "code",
   "execution_count": null,
   "metadata": {},
   "outputs": [],
   "source": [
    "ma_ll[0, 0]"
   ]
  },
  {
   "cell_type": "markdown",
   "metadata": {},
   "source": [
    "Podemos utilizar todos os *truques* de indexação em arrays: tanto indices negativos quanto slices."
   ]
  },
  {
   "cell_type": "code",
   "execution_count": null,
   "metadata": {},
   "outputs": [],
   "source": [
    "ma_ll[-1, :]"
   ]
  },
  {
   "cell_type": "markdown",
   "metadata": {},
   "source": [
    "### `n-D array`\n",
    "\n",
    "Embora os **Vetores** e **Matrizes** sejam os tipos mais comuns de `arrays` que encontraremos, elas podem ter mais do que 2 dimensões.\n",
    "\n",
    "Vamos começar criando um `array` 3-D de número aleatórios:"
   ]
  },
  {
   "cell_type": "code",
   "execution_count": null,
   "metadata": {
    "ExecuteTime": {
     "end_time": "2020-07-29T00:59:31.320445Z",
     "start_time": "2020-07-29T00:59:31.318444Z"
    }
   },
   "outputs": [],
   "source": [
    "ma_5_4_2 = np.random.random(size=(5, 4, 2))\n",
    "print(ma_5_4_2)"
   ]
  },
  {
   "cell_type": "markdown",
   "metadata": {},
   "source": [
    "Os atributos `shape` e `size` podem mostrar o formato e tamanho de qualquer array:"
   ]
  },
  {
   "cell_type": "code",
   "execution_count": null,
   "metadata": {
    "ExecuteTime": {
     "end_time": "2020-07-29T00:59:31.897444Z",
     "start_time": "2020-07-29T00:59:31.894474Z"
    }
   },
   "outputs": [],
   "source": [
    "print(ma_5_4_2.shape)\n",
    "print(ma_5_4_2.size)"
   ]
  },
  {
   "cell_type": "markdown",
   "metadata": {},
   "source": [
    "Podemos inclusive utilizar o atributo shape para iterar por arrays n-Dimensionais:"
   ]
  },
  {
   "cell_type": "code",
   "execution_count": null,
   "metadata": {
    "ExecuteTime": {
     "end_time": "2020-07-29T00:59:44.117774Z",
     "start_time": "2020-07-29T00:59:44.113774Z"
    }
   },
   "outputs": [],
   "source": [
    "for i in range(ma_5_4_2.shape[0]):\n",
    "    for k in range(ma_5_4_2.shape[1]):\n",
    "        for j in range(ma_5_4_2.shape[2]):\n",
    "            print(ma_5_4_2[i,k,j])"
   ]
  },
  {
   "cell_type": "markdown",
   "metadata": {},
   "source": [
    "### `lists` vs. `numpy arrays`\n",
    "\n",
    "Uma das principais diferenças entre `arrays` e `lists` é como os operadores matemáticos funcionam. Vamos começar analisando o operador `*` entre `lists`/`arrays`."
   ]
  },
  {
   "cell_type": "code",
   "execution_count": null,
   "metadata": {},
   "outputs": [],
   "source": [
    "minha_lista = [[1,2,3], [4,5,6]]\n",
    "print(minha_lista)"
   ]
  },
  {
   "cell_type": "code",
   "execution_count": null,
   "metadata": {},
   "outputs": [],
   "source": [
    "meu_array = np.array(minha_lista)\n",
    "print(meu_array)"
   ]
  },
  {
   "cell_type": "code",
   "execution_count": null,
   "metadata": {},
   "outputs": [],
   "source": [
    "minha_lista * 3"
   ]
  },
  {
   "cell_type": "code",
   "execution_count": null,
   "metadata": {},
   "outputs": [],
   "source": [
    "meu_array * 3"
   ]
  },
  {
   "cell_type": "markdown",
   "metadata": {},
   "source": [
    "Esse comportamento é padrão para todos os operadores matemáticos em `arrays`: sempre que combinamos um `array` com um número através de um operador, essa operação é aplicada em cada elemento do `array`."
   ]
  },
  {
   "cell_type": "code",
   "execution_count": null,
   "metadata": {},
   "outputs": [],
   "source": [
    "ma_3_3 = np.random.random((3,3))\n",
    "print(ma_3_3)"
   ]
  },
  {
   "cell_type": "code",
   "execution_count": null,
   "metadata": {},
   "outputs": [],
   "source": [
    "ma_3_3 + 3"
   ]
  },
  {
   "cell_type": "code",
   "execution_count": null,
   "metadata": {},
   "outputs": [],
   "source": [
    "ma_3_3 * 10"
   ]
  },
  {
   "cell_type": "code",
   "execution_count": null,
   "metadata": {},
   "outputs": [],
   "source": [
    "ma_3_3 ** 2"
   ]
  },
  {
   "cell_type": "code",
   "execution_count": null,
   "metadata": {},
   "outputs": [],
   "source": [
    "10 / ma_3_3"
   ]
  },
  {
   "cell_type": "markdown",
   "metadata": {},
   "source": [
    "Além dos operadores matemáticos, podemos utilizar os operadores booleanos para transformar um `array` numérico em um `array` booleano!"
   ]
  },
  {
   "cell_type": "code",
   "execution_count": null,
   "metadata": {},
   "outputs": [],
   "source": [
    "ma_3_3 > 0.5"
   ]
  },
  {
   "cell_type": "markdown",
   "metadata": {},
   "source": [
    "### O método `.ravel()`\n",
    "\n",
    "Nas aulas passadas de Python vimos varias formas diferentes de *achatarmos* listas. Quando queremos achatar um array, ou seja, transforma-lo em um vetor, temos um método específico para isso: `.ravel()`!"
   ]
  },
  {
   "cell_type": "code",
   "execution_count": null,
   "metadata": {},
   "outputs": [],
   "source": [
    "print(ma_3_3)"
   ]
  },
  {
   "cell_type": "code",
   "execution_count": null,
   "metadata": {},
   "outputs": [],
   "source": [
    "ma_3_3.ravel()"
   ]
  },
  {
   "cell_type": "markdown",
   "metadata": {},
   "source": [
    "O método `.ravel()` *desempilha* as linhas de uma matriz,  como será que ele se comporta em `arrays` de mais dimensões?"
   ]
  },
  {
   "cell_type": "code",
   "execution_count": null,
   "metadata": {},
   "outputs": [],
   "source": [
    "ma_2_2_2 = np.random.random((2,2,2))\n",
    "print(ma_2_2_2)"
   ]
  },
  {
   "cell_type": "code",
   "execution_count": null,
   "metadata": {},
   "outputs": [],
   "source": [
    "ma_2_2_2.ravel()"
   ]
  },
  {
   "cell_type": "markdown",
   "metadata": {},
   "source": [
    "### Indexação Booleana - o conceito de Máscara\n",
    "\n",
    "Além da indexação através de `ints` e `slices`, os `arrays` nos oferecem indexação atraves de iteráveis de `booleanos`. Vamos ver um exemplo simples na prática para entender os usos deste tipo de indexação."
   ]
  },
  {
   "cell_type": "code",
   "execution_count": null,
   "metadata": {},
   "outputs": [],
   "source": [
    "vec_5 = np.random.random(5)\n",
    "print(vec_5)"
   ]
  },
  {
   "cell_type": "markdown",
   "metadata": {},
   "source": [
    "Indexação por `ints`:"
   ]
  },
  {
   "cell_type": "code",
   "execution_count": null,
   "metadata": {},
   "outputs": [],
   "source": [
    "vec_5[3]"
   ]
  },
  {
   "cell_type": "markdown",
   "metadata": {},
   "source": [
    "Indexação por `slices`:"
   ]
  },
  {
   "cell_type": "code",
   "execution_count": null,
   "metadata": {},
   "outputs": [],
   "source": [
    "vec_5[2:5]"
   ]
  },
  {
   "cell_type": "markdown",
   "metadata": {},
   "source": [
    "Agora, indexação por `bool`!"
   ]
  },
  {
   "cell_type": "code",
   "execution_count": null,
   "metadata": {},
   "outputs": [],
   "source": [
    "mask = [True, False, False, False, True]\n",
    "vec_5[mask]"
   ]
  },
  {
   "cell_type": "markdown",
   "metadata": {},
   "source": [
    "O que aconteceu? \n",
    "\n",
    "- Criamos uma lista de `bools` com o mesmo tamanho do vetor;\n",
    "- Passamos essa lista como índice do vetor;\n",
    "- O resultado retornou apenas as posições do vetor onde a posição equivalente da lista era `True`!\n",
    "\n",
    "Vamos combinar esta indexação com o comportamento dos operadores booleanos (`==`, `<`, `<=`, etc...) para entender porque isso é tão útil!"
   ]
  },
  {
   "cell_type": "code",
   "execution_count": null,
   "metadata": {},
   "outputs": [],
   "source": [
    "mask = vec_5 < 0.5\n",
    "print(mask)"
   ]
  },
  {
   "cell_type": "code",
   "execution_count": null,
   "metadata": {},
   "outputs": [],
   "source": [
    "vec_5[mask]"
   ]
  },
  {
   "cell_type": "markdown",
   "metadata": {},
   "source": [
    "Ou seja, combinando esses dois comportamentos, conseguimos filtrar vetores através de condicionais!\n",
    "\n",
    "### Métodos de Agregação\n",
    "\n",
    "Além do método `.ravel()`, os `arrays` possuem métodos para realizar a agregação de valores (por exemplo, a média de um vetor, ou a soma de todos os elementos em uma matriz)."
   ]
  },
  {
   "cell_type": "code",
   "execution_count": null,
   "metadata": {},
   "outputs": [],
   "source": [
    "vec_5 = np.random.random(5)\n",
    "print(vec_5)"
   ]
  },
  {
   "cell_type": "code",
   "execution_count": null,
   "metadata": {},
   "outputs": [],
   "source": [
    "ma_3_3 = np.random.random((3,3))\n",
    "print(ma_3_3)"
   ]
  },
  {
   "cell_type": "markdown",
   "metadata": {},
   "source": [
    "#### Média - `.mean()`"
   ]
  },
  {
   "cell_type": "code",
   "execution_count": null,
   "metadata": {},
   "outputs": [],
   "source": [
    "vec_5.mean()"
   ]
  },
  {
   "cell_type": "code",
   "execution_count": null,
   "metadata": {},
   "outputs": [],
   "source": [
    "ma_3_3.mean()"
   ]
  },
  {
   "cell_type": "markdown",
   "metadata": {},
   "source": [
    "#### Soma - `.sum()`"
   ]
  },
  {
   "cell_type": "code",
   "execution_count": null,
   "metadata": {},
   "outputs": [],
   "source": [
    "vec_5.sum()"
   ]
  },
  {
   "cell_type": "code",
   "execution_count": null,
   "metadata": {},
   "outputs": [],
   "source": [
    "ma_3_3.sum()"
   ]
  },
  {
   "cell_type": "markdown",
   "metadata": {},
   "source": [
    "#### O conceito de eixo - `axis`\n",
    "\n",
    "Se pensarmos que matrizes são tabelas de dados, muitas vezes queremos realizar a agregação apenas sobre um eixo: a média de cada coluna ou o total de cada linha.\n",
    "\n",
    "Os métodos de agregação contem um argumento que nos permite especificar sobre qual eixo queremos realizar a operação: o argumento `axis`. Cada eixo de um `array` é uma de suas dimensões: o primeiro eixo são as linhas, o segundo as colunas, etc... A ordem dos eixos (e índice) dos eixos é dada pelo atributo `.shape`!"
   ]
  },
  {
   "cell_type": "code",
   "execution_count": null,
   "metadata": {},
   "outputs": [],
   "source": [
    "ma_4_2 = np.random.random((4,2))\n",
    "print(ma_4_2)\n",
    "print(ma_4_2.shape)\n",
    "print(ma_4_2.sum())"
   ]
  },
  {
   "cell_type": "markdown",
   "metadata": {},
   "source": [
    "Agora vamos usar o método `.sum()` para calcular o total das colunas. Isso significa que queremos **colapsar** as linhas: saíremos de uma matriz (4, 2) para um vetor (2, ).\n",
    "\n",
    "Para fazer isso precisamos especificar através do argumento `axis` qual eixo queremos colapsar através do indice deste eixo - como queremos colapsar as linhas, o 4 em (4, 2), o `axis` será 0."
   ]
  },
  {
   "cell_type": "code",
   "execution_count": null,
   "metadata": {},
   "outputs": [],
   "source": [
    "ma_4_2.sum(axis = 0)"
   ]
  },
  {
   "cell_type": "code",
   "execution_count": null,
   "metadata": {},
   "outputs": [],
   "source": [
    "ma_4_2.sum(axis = 0).shape"
   ]
  },
  {
   "cell_type": "markdown",
   "metadata": {},
   "source": [
    "Podemos fazer o mesmo para calcular o total das linhas. Nesse caso, estaremos saíndo de uma matriz `(4, 2)` para um vetor `(4, )`, ou seja, estamos colapsando o `2`, que tem indice 1 no atributo shape. Logo o axis agora será 1!"
   ]
  },
  {
   "cell_type": "code",
   "execution_count": null,
   "metadata": {},
   "outputs": [],
   "source": [
    "ma_4_2.sum(axis = 1)"
   ]
  },
  {
   "cell_type": "markdown",
   "metadata": {},
   "source": [
    "### Operações entre `np.arrays`\n",
    "\n",
    "Os operadores matemáticos podem ser utilizados entre dois `arrays` - no entanto precisamos prestar atenção ao `.shape` de cada `array`."
   ]
  },
  {
   "cell_type": "code",
   "execution_count": null,
   "metadata": {},
   "outputs": [],
   "source": [
    "matriz_4_3 = np.array([[1, 1, 1],\n",
    "                       [2, 2, 2],\n",
    "                       [3, 3, 3],\n",
    "                       [4, 4, 4]])\n",
    "print(matriz_4_3)"
   ]
  },
  {
   "cell_type": "code",
   "execution_count": null,
   "metadata": {},
   "outputs": [],
   "source": [
    "matriz_4_3 + matriz_4_3"
   ]
  },
  {
   "cell_type": "markdown",
   "metadata": {},
   "source": [
    "Sempre podemos somar duas `arrays` com o mesmo `.shape`. Essa operação retornará um `array` com a soma elemento a elemento entre as duas matrizes.\n",
    "\n",
    "A mesma operação pode ser feita com vetores:"
   ]
  },
  {
   "cell_type": "code",
   "execution_count": null,
   "metadata": {},
   "outputs": [],
   "source": [
    "vetor_3 = np.array([5, 12, 1.8])\n",
    "print(vetor_3)"
   ]
  },
  {
   "cell_type": "code",
   "execution_count": null,
   "metadata": {},
   "outputs": [],
   "source": [
    "vetor_3 + matriz_4_3"
   ]
  },
  {
   "cell_type": "markdown",
   "metadata": {},
   "source": [
    "Quando somamos um vetor à uma matriz, este vetor precisa ter # de elementos igual ao número de colunas na matriz. O resultado será a soma do vetor à cada linha da matriz.\n",
    "\n",
    "Outros operadores matemáticos operam da mesma forma: o numpy irá realizar a operação elemento à elemento entre os dois `arrays`."
   ]
  },
  {
   "cell_type": "code",
   "execution_count": null,
   "metadata": {},
   "outputs": [],
   "source": [
    "vetor_3 * matriz_4_3"
   ]
  },
  {
   "cell_type": "code",
   "execution_count": null,
   "metadata": {},
   "outputs": [],
   "source": [
    "matriz_4_3 ** vetor_3"
   ]
  },
  {
   "cell_type": "markdown",
   "metadata": {},
   "source": [
    "### O método `.transpose()`\n",
    "\n",
    "Podemos *girar* uma matriz, ou seja, trocar suas linhas e colunas, através do método `.transpose()`."
   ]
  },
  {
   "cell_type": "code",
   "execution_count": null,
   "metadata": {},
   "outputs": [],
   "source": [
    "print(matriz_4_3)\n",
    "print(matriz_4_3.transpose())"
   ]
  },
  {
   "cell_type": "markdown",
   "metadata": {},
   "source": [
    "Como podemos ver, uma matriz 4x3 vira uma matriz 3x4. Isso nos permite somar um vetor às colunas de uma matriz:"
   ]
  },
  {
   "cell_type": "code",
   "execution_count": null,
   "metadata": {},
   "outputs": [],
   "source": [
    "vetor_4 = np.array([10,10,10,10])\n",
    "print(vetor_4)"
   ]
  },
  {
   "cell_type": "code",
   "execution_count": null,
   "metadata": {},
   "outputs": [],
   "source": [
    "matriz_4_3 + vetor_4"
   ]
  },
  {
   "cell_type": "code",
   "execution_count": null,
   "metadata": {},
   "outputs": [],
   "source": [
    "matriz_4_3.transpose() + vetor_4"
   ]
  },
  {
   "cell_type": "markdown",
   "metadata": {},
   "source": [
    "Podemos voltar ao formato original transpondo o resultado da soma:"
   ]
  },
  {
   "cell_type": "code",
   "execution_count": null,
   "metadata": {},
   "outputs": [],
   "source": [
    "(matriz_4_3.transpose() + vetor_4).transpose()"
   ]
  },
  {
   "cell_type": "markdown",
   "metadata": {},
   "source": [
    "### O método `.reshape()`\n",
    "\n",
    "O método `.reshape()` nos permite alterar o `.shape` de um array. Para tanto precisamos especificar uma tupla para o novo shape, tal que o número de elementos na matriz se mantenha."
   ]
  },
  {
   "cell_type": "code",
   "execution_count": null,
   "metadata": {},
   "outputs": [],
   "source": [
    "matriz_4_3.size"
   ]
  },
  {
   "cell_type": "code",
   "execution_count": null,
   "metadata": {},
   "outputs": [],
   "source": [
    "matriz_4_3.reshape((2,6))"
   ]
  },
  {
   "cell_type": "code",
   "execution_count": null,
   "metadata": {},
   "outputs": [],
   "source": [
    "matriz_4_3.reshape((5,3))"
   ]
  },
  {
   "cell_type": "markdown",
   "metadata": {},
   "source": [
    "## Aplicações de matrizes n-dimensionais\n",
    "\n",
    "Uma utilização comum de `arrays` 3-D é a representação de imagens. Na verdade, toda imagem colorida é um array 3-D!\n",
    "\n",
    "Vamos nos divertir um pouco aplicando o que aprendemos de forma ludica!"
   ]
  },
  {
   "cell_type": "code",
   "execution_count": null,
   "metadata": {},
   "outputs": [],
   "source": [
    "from sklearn.datasets import load_sample_image\n",
    "import matplotlib.pyplot as plt\n",
    "image = load_sample_image('flower.jpg')\n",
    "plt.imshow(image)"
   ]
  },
  {
   "cell_type": "code",
   "execution_count": null,
   "metadata": {},
   "outputs": [],
   "source": [
    "print(type(image))"
   ]
  },
  {
   "cell_type": "code",
   "execution_count": null,
   "metadata": {},
   "outputs": [],
   "source": [
    "print(image.shape)\n",
    "print(image.size)"
   ]
  },
  {
   "cell_type": "code",
   "execution_count": null,
   "metadata": {},
   "outputs": [],
   "source": [
    "image_r = image[:,:,0] * 10\n",
    "image_g = image[:,:,1] + 1\n",
    "image_b = image[:,:,2] + 100\n",
    "new_image = np.dstack([image_r, image_g, image_b])\n",
    "\n",
    "plt.imshow(new_image)"
   ]
  },
  {
   "cell_type": "code",
   "execution_count": null,
   "metadata": {},
   "outputs": [],
   "source": []
  },
  {
   "cell_type": "code",
   "execution_count": null,
   "metadata": {},
   "outputs": [],
   "source": [
    "def fatores_inteiros(num):\n",
    "    fatores = [valor for valor in range(200, 600) if num % valor == 0]\n",
    "    return fatores"
   ]
  },
  {
   "cell_type": "code",
   "execution_count": null,
   "metadata": {},
   "outputs": [],
   "source": [
    "fatores_inteiros(273280)"
   ]
  },
  {
   "cell_type": "code",
   "execution_count": null,
   "metadata": {},
   "outputs": [],
   "source": [
    "plt.imshow(image.reshape(560, int(273280/560), 3))"
   ]
  },
  {
   "cell_type": "code",
   "execution_count": null,
   "metadata": {},
   "outputs": [],
   "source": [
    "plt.imshow(image_r)"
   ]
  },
  {
   "cell_type": "code",
   "execution_count": null,
   "metadata": {},
   "outputs": [],
   "source": [
    "np.min(image_r+1)"
   ]
  },
  {
   "cell_type": "code",
   "execution_count": null,
   "metadata": {},
   "outputs": [],
   "source": [
    "plt.imshow(np.log(np.full(image_r.shape, 1)+image_r) + np.log(np.full(image_g.shape, 1)+image_g))"
   ]
  },
  {
   "cell_type": "code",
   "execution_count": null,
   "metadata": {},
   "outputs": [],
   "source": [
    "U, s, V = np.linalg.svd(np.log(np.full(image_r.shape, 1)+image_r)) \n",
    "\n",
    "num_components = 3\n",
    "reconst_img_5 = np.matrix(U[:, :num_components]) * np.diag(s[:num_components]) * np.matrix(V[:num_components, :])\n",
    "plt.imshow(reconst_img_5)"
   ]
  },
  {
   "cell_type": "code",
   "execution_count": null,
   "metadata": {},
   "outputs": [],
   "source": []
  }
 ],
 "metadata": {
  "hide_input": false,
  "kernelspec": {
   "display_name": "Python 3",
   "language": "python",
   "name": "python3"
  },
  "language_info": {
   "codemirror_mode": {
    "name": "ipython",
    "version": 3
   },
   "file_extension": ".py",
   "mimetype": "text/x-python",
   "name": "python",
   "nbconvert_exporter": "python",
   "pygments_lexer": "ipython3",
   "version": "3.9.11"
  },
  "toc": {
   "base_numbering": 1,
   "nav_menu": {},
   "number_sections": true,
   "sideBar": true,
   "skip_h1_title": false,
   "title_cell": "Table of Contents",
   "title_sidebar": "Contents",
   "toc_cell": false,
   "toc_position": {},
   "toc_section_display": true,
   "toc_window_display": false
  }
 },
 "nbformat": 4,
 "nbformat_minor": 4
}
