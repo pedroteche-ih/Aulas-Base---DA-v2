{
 "cells": [
  {
   "cell_type": "code",
   "execution_count": null,
   "metadata": {
    "ExecuteTime": {
     "end_time": "2021-12-07T22:36:12.650706Z",
     "start_time": "2021-12-07T22:36:12.030178Z"
    }
   },
   "outputs": [],
   "source": [
    "import pandas as pd\n",
    "import numpy as np\n",
    "import re\n",
    "\n",
    "tb_veic = pd.read_csv(\"data/dados_veiculos.csv\")\n"
   ]
  },
  {
   "cell_type": "markdown",
   "metadata": {},
   "source": [
    "Na aula de hoje vamos continuar utilizando a tabela `dados_veículos.csv`. Além de carregá-la vamos realizar uma limpeza dos nomes das colunas:"
   ]
  },
  {
   "cell_type": "code",
   "execution_count": null,
   "metadata": {
    "ExecuteTime": {
     "end_time": "2021-12-07T22:36:23.913361Z",
     "start_time": "2021-12-07T22:36:23.898401Z"
    }
   },
   "outputs": [],
   "source": [
    "pattern = r\"[^a-zA-Z0-9]\"\n",
    "tb_veic.columns = [re.sub(pattern, \"_\", column.lower()) for column in tb_veic.columns]\n"
   ]
  },
  {
   "cell_type": "markdown",
   "metadata": {},
   "source": [
    "Vamos utilizar o método `.info()` para ver o resultado:"
   ]
  },
  {
   "cell_type": "code",
   "execution_count": null,
   "metadata": {
    "ExecuteTime": {
     "end_time": "2021-12-07T22:36:25.513036Z",
     "start_time": "2021-12-07T22:36:25.479559Z"
    }
   },
   "outputs": [],
   "source": [
    "tb_veic.info()\n"
   ]
  },
  {
   "cell_type": "markdown",
   "metadata": {},
   "source": [
    "# Data Manipulation - Group By\n",
    "\n",
    "- `.groupby()` é uma forma de **agregar** todos os resultados para cada chave única\n",
    "- Sempre que você faz uma **agregação**, o resultado final terá 1 linha para cada valor pelo qual você agregou, portanto, é obrigatório que se aplique uma função agregadora para que todos os valores sejam sumarizados em um único valor associado àquela chave.\n",
    "\n",
    "Por exemplo, se tivermos:\n",
    "\n",
    "Fruta | Quantidade\n",
    "-----|----:\n",
    "Laranja | 10\n",
    "Maçã | 10\n",
    "Abacate | 2\n",
    "Abacate | 1\n",
    "Melancia  | 1\n",
    "Laranja  | 4\n",
    "\n",
    "O resultado de um `.groupby` por 'Fruta' resultaria em 4 linhas\n",
    "\n",
    "Fruta | Função Agregadora\n",
    "----|-----\n",
    "Laranja | ?\n",
    "Maçã | ?\n",
    "Abacate | ?\n",
    "Melancia | ?\n",
    "\n",
    "O `?` representa o valor agregado. Temos, obrigatoriamente, que sumarizar os dados relacionados àquele registro em um único dado. Para isso, podemos fazer a média, soma, contagem, ou qualquer outra função agregadora.\n",
    "\n",
    "Fruta | soma(Quantidade)\n",
    "----|----:\n",
    "Laranja | 14\n",
    "Maçã | 10\n",
    "Abacate | 3\n",
    "Melancia | 1\n",
    "\n",
    "**Funções agregadora/Métodos**\n",
    "\n",
    "- `.mean()`\n",
    "- `.median()`\n",
    "- `.max()`\n",
    "- `.min()`\n",
    "- `.sum()`\n",
    "- `.count()`\n",
    "- `.describe()`\n",
    "- `.agg()`\n",
    "- Uma função sua!"
   ]
  },
  {
   "cell_type": "markdown",
   "metadata": {},
   "source": [
    "## Chave Única e Função Única\n",
    "\n",
    "Vamos começar com o tipo mais simples de agregação: utilizando apenas uma coluna como **chave** e uma função como **agregação**. Vamos começar analisando a média de nossas variáveis numéricas, utilizando como chave a coluna `drivetrain` (*transmissão*).\n",
    "\n",
    "Para isso utilizaremos o método `.groupby()` - um método dos DataFrames. Para utilizarmos este método, vamos analisar sua sintaxe:\n",
    "\n",
    "* `tb_veic` - tabela que vamos agregar\n",
    "* `.groupby(by = 'drivetrain')` - método para criar os grupos de **chaves**, especificada no argumento `by`\n",
    "* `.mean()` - método para agregar as variáveis restantes (que não compõe a chave), neste caso através da média.\n",
    "\n",
    "Juntando tudo temos:"
   ]
  },
  {
   "cell_type": "code",
   "execution_count": null,
   "metadata": {
    "ExecuteTime": {
     "end_time": "2021-12-07T22:39:26.934576Z",
     "start_time": "2021-12-07T22:39:26.885731Z"
    }
   },
   "outputs": [],
   "source": [
    "tb_veic.groupby(by=\"drivetrain\").mean()\n"
   ]
  },
  {
   "cell_type": "markdown",
   "metadata": {},
   "source": [
    "Vamos testar a mesma **chave** mas utilizando o método de **agregação** `.count()`, que calcula o # de linhas com valores não-nulos."
   ]
  },
  {
   "cell_type": "code",
   "execution_count": null,
   "metadata": {
    "ExecuteTime": {
     "end_time": "2021-12-07T22:41:10.770209Z",
     "start_time": "2021-12-07T22:41:10.725329Z"
    }
   },
   "outputs": [],
   "source": [
    "tb_veic.groupby(by=\"drivetrain\").count()\n"
   ]
  },
  {
   "cell_type": "markdown",
   "metadata": {},
   "source": [
    "Podemos guardar o resultado de uma agregação em uma variável: o resultado (após aplicação da função de agregação) é um `DataFrame` onde os índices (*nome das linhas*) são os valores da chave e cada coluna é o resultado da aplicação da função de agregação."
   ]
  },
  {
   "cell_type": "code",
   "execution_count": null,
   "metadata": {
    "ExecuteTime": {
     "end_time": "2021-12-07T22:42:34.326664Z",
     "start_time": "2021-12-07T22:42:34.293752Z"
    }
   },
   "outputs": [],
   "source": [
    "tb_agg_drivetrain = tb_veic.groupby(by=\"drivetrain\").count()\n",
    "type(tb_agg_drivetrain)\n"
   ]
  },
  {
   "cell_type": "code",
   "execution_count": null,
   "metadata": {},
   "outputs": [],
   "source": [
    "tb_agg_drivetrain.head()\n"
   ]
  },
  {
   "cell_type": "code",
   "execution_count": null,
   "metadata": {
    "ExecuteTime": {
     "end_time": "2021-12-07T22:44:49.660780Z",
     "start_time": "2021-12-07T22:44:49.641833Z"
    }
   },
   "outputs": [],
   "source": [
    "tb_agg_drivetrain.loc[\"4-Wheel or All-Wheel Drive\", :]\n"
   ]
  },
  {
   "cell_type": "markdown",
   "metadata": {},
   "source": [
    "### Agregando apenas uma variável\n",
    "\n",
    "No exemplo acima, ao utilizarmos os métodos `.mean()` e `.median()` recebemos de volta uma agregação de todas as variáveis numéricas (no caso, todas as variáveis para as quais estes métodos funcionam).\n",
    "\n",
    "No entanto, muitas vezes queremos agregar apenas uma (ou algumas) variáveis. Vamos ver como fazer isso de uma maneira simples, calculando o número de ciclindros médio por tipo de tração:"
   ]
  },
  {
   "cell_type": "code",
   "execution_count": null,
   "metadata": {},
   "outputs": [],
   "source": [
    "tb_veic.groupby(by=\"drivetrain\")[\"cylinders\"].mean()\n"
   ]
  },
  {
   "cell_type": "markdown",
   "metadata": {},
   "source": [
    "Um método muito utilizado após a agregação é o `.reset_index()` que transforma o índice da chave de volta em coluna:"
   ]
  },
  {
   "cell_type": "code",
   "execution_count": null,
   "metadata": {},
   "outputs": [],
   "source": [
    "tb_veic.groupby(by=\"drivetrain\")[\"cylinders\"].mean().reset_index()\n"
   ]
  },
  {
   "cell_type": "markdown",
   "metadata": {},
   "source": [
    "Podemos utilizar um iterável no lugar do string `\"cylinders\"` para calcular a média de múltiplas variáveis:"
   ]
  },
  {
   "cell_type": "code",
   "execution_count": null,
   "metadata": {},
   "outputs": [],
   "source": [
    "lista_vars = [\"cylinders\", \"city_mpg\"]\n",
    "tb_veic.groupby(by=\"drivetrain\")[lista_vars].mean().reset_index()\n"
   ]
  },
  {
   "cell_type": "markdown",
   "metadata": {},
   "source": [
    "## Chave Múltipla e Função Única\n",
    "\n",
    "As chaves especificadas no *argumento* `by = ` do método `.groupby()` não precisa ser um `string`! Podemos utilizar um iterável para criar uma chave combinada. Por exemplo, queremos analisar a média das variáveis `city_mpg` (eficiência urbana do automóvel) e `highway_mpg` (eficiência na estrada) para as diferentes combinações de tração, `drivetrain`, e # de cilíndros, `cylinders`:"
   ]
  },
  {
   "cell_type": "code",
   "execution_count": null,
   "metadata": {},
   "outputs": [],
   "source": [
    "lista_vars = [\"city_mpg\", \"highway_mpg\"]\n",
    "tb_veic.groupby(by=[\"drivetrain\", \"cylinders\"])[lista_vars].mean()\n"
   ]
  },
  {
   "cell_type": "markdown",
   "metadata": {},
   "source": [
    "O resultado é um DataFrame com um `MultIndex`: um índice com mais de um *nível*. Para cada tipo de transmissão temos todos os # de ciclindros daquela transmissão (`4`, `6` e `8` para `2-Wheel Drive` por exemplo). Para acessar diferentes linhas através de nossa chave, utilizaremos um índice em tupla:"
   ]
  },
  {
   "cell_type": "code",
   "execution_count": null,
   "metadata": {},
   "outputs": [],
   "source": [
    "tb_agg_cyldt = tb_veic.groupby(by=[\"drivetrain\", \"cylinders\"])[lista_vars].mean()\n",
    "tb_agg_cyldt.loc[(\"2-Wheel Drive\", 4), :]\n"
   ]
  },
  {
   "cell_type": "markdown",
   "metadata": {},
   "source": [
    "Podemos utilizar o método `.reset_index()` para construir uma tabela *normal* a partir disto:"
   ]
  },
  {
   "cell_type": "code",
   "execution_count": null,
   "metadata": {
    "ExecuteTime": {
     "end_time": "2021-12-07T22:47:16.703917Z",
     "start_time": "2021-12-07T22:47:16.674994Z"
    }
   },
   "outputs": [],
   "source": [
    "tb_agg_cyldt = (\n",
    "    tb_veic.groupby(by=[\"drivetrain\", \"cylinders\"])[lista_vars].median().reset_index()\n",
    ")\n",
    "tb_agg_cyldt.head(10)\n"
   ]
  },
  {
   "cell_type": "markdown",
   "metadata": {},
   "source": [
    "## Chave Múltipla e Múltiplas Funções\n",
    "\n",
    "Além de incluirmos mais que uma variável como chave de nosso agrupamento, podemos utilizar mais que uma função de agregação ao mesmo tempo. Por exemplo, vamos calcular a média e a mediana para a variável `city_mpg`. Para isso utilizaremos o método `.agg()` no lugar da nossa função de agregação. Vamos passar um iterável com o **nome** de cada função de agregação que utilizaremos:"
   ]
  },
  {
   "cell_type": "code",
   "execution_count": null,
   "metadata": {
    "ExecuteTime": {
     "end_time": "2021-12-07T23:01:23.790940Z",
     "start_time": "2021-12-07T23:01:23.695183Z"
    }
   },
   "outputs": [],
   "source": [
    "tb_agg_musig_cyldt = tb_veic.groupby(by=[\"drivetrain\", \"cylinders\"])[\"city_mpg\"].agg(\n",
    "    [\"mean\", \"median\"]\n",
    ")\n",
    "tb_agg_musig_cyldt"
   ]
  },
  {
   "cell_type": "markdown",
   "metadata": {},
   "source": [
    "Vamos utilizar o método `.reset_index()` para colapsar os `MultIndex` de nossa tabela:"
   ]
  },
  {
   "cell_type": "code",
   "execution_count": null,
   "metadata": {},
   "outputs": [],
   "source": [
    "tb_agg_cyldt = tb_veic.groupby(by=[\"drivetrain\", \"cylinders\"])[\"city_mpg\"].agg(\n",
    "    [\"mean\", \"median\"]\n",
    ").reset_index()\n",
    "tb_agg_cyldt.head(10)"
   ]
  },
  {
   "cell_type": "markdown",
   "metadata": {},
   "source": [
    "Podemos calcular múltiplas agregações de múltiplas chaves mas devemos tomar cuidado com o **nome das colunas**: ele será um `MultIndex`!"
   ]
  },
  {
   "cell_type": "code",
   "execution_count": null,
   "metadata": {},
   "outputs": [],
   "source": [
    "tb_agg_cyldt = tb_veic.groupby(by=[\"drivetrain\", \"cylinders\"])[lista_vars].agg(\n",
    "    [\"mean\", \"median\"]\n",
    ")\n",
    "tb_agg_cyldt.head(10)"
   ]
  },
  {
   "cell_type": "code",
   "execution_count": null,
   "metadata": {},
   "outputs": [],
   "source": [
    "tb_agg_cyldt.columns"
   ]
  },
  {
   "cell_type": "markdown",
   "metadata": {},
   "source": [
    "Se utilizarmos o método `.reset_index()` teremos nossas chaves como colunas, mas o nome das colunas agregadas continuará sendo um `MultIndex`:"
   ]
  },
  {
   "cell_type": "code",
   "execution_count": null,
   "metadata": {},
   "outputs": [],
   "source": [
    "tb_agg_cyldt = tb_veic.groupby(by=[\"drivetrain\", \"cylinders\"])[lista_vars].agg(\n",
    "    [\"mean\", \"median\"]\n",
    ").reset_index()\n",
    "tb_agg_cyldt.head(10)"
   ]
  },
  {
   "cell_type": "code",
   "execution_count": null,
   "metadata": {},
   "outputs": [],
   "source": [
    "tb_agg_cyldt.columns"
   ]
  },
  {
   "cell_type": "markdown",
   "metadata": {},
   "source": [
    "### Agregação Nomeada\n",
    "\n",
    "A situação apresentada acima não é ideal por dois motivos:\n",
    "\n",
    "1. Muitas vezes queremos especificar colunas específicas para cada agregação (por exemplo, a **média** de `city_mpg` e o máximo de `year`);\n",
    "1. Além disso seria bom conseguir nomear explicitamente as variáveis criadas (por exemplo, `mean_city_mpg` e `max_year`).\n",
    "\n",
    "Para resolver esses dois problemas podemos utilizar uma outra maneira de agregação: a agregação nomeada. Ao invés de passar um iterável com o nome das funções que queremos aplicar, vamos utilizar a função `pd.NamedAgg()` para construir cada coluna:"
   ]
  },
  {
   "cell_type": "code",
   "execution_count": null,
   "metadata": {
    "ExecuteTime": {
     "end_time": "2021-12-07T23:06:14.009759Z",
     "start_time": "2021-12-07T23:06:13.970863Z"
    }
   },
   "outputs": [],
   "source": [
    "tb_veic.groupby(by=[\"drivetrain\", \"cylinders\"]).agg(\n",
    "    mean_city_mpg=pd.NamedAgg(column=\"city_mpg\", aggfunc=\"mean\"),\n",
    "    max_year=pd.NamedAgg(column=\"year\", aggfunc=\"max\")\n",
    ").reset_index()\n"
   ]
  },
  {
   "cell_type": "markdown",
   "metadata": {},
   "source": [
    "Agora vamos utilizar os conceitos acima para tornar nossa análise da eficiência de automóveis mais robusta: vamos incluir, além da média de `city_mpg` e `highway_mpg`, o # de observações em cada grupo (utilizando a `aggfunc = \"count\"`) e o desvio padrão das duas variáveis de eficiência (utilizando `aggfunc = \"std\"`):"
   ]
  },
  {
   "cell_type": "code",
   "execution_count": null,
   "metadata": {
    "ExecuteTime": {
     "end_time": "2021-12-07T23:15:57.484561Z",
     "start_time": "2021-12-07T23:15:57.419170Z"
    }
   },
   "outputs": [],
   "source": [
    "tb_agg_veic = (\n",
    "    tb_veic.groupby(by=[\"drivetrain\", \"cylinders\"])\n",
    "    .agg(\n",
    "        contagem=pd.NamedAgg(column=\"year\", aggfunc=\"count\"),\n",
    "        avg_city_mpg=pd.NamedAgg(column=\"city_mpg\", aggfunc=\"mean\"),\n",
    "        std_city_mpg=pd.NamedAgg(column=\"city_mpg\", aggfunc=\"std\"),\n",
    "        avg_highway_mpg=pd.NamedAgg(column=\"highway_mpg\", aggfunc=\"mean\"),\n",
    "        std_highway_mpg=pd.NamedAgg(column=\"highway_mpg\", aggfunc=\"std\"),\n",
    "    )\n",
    "    .reset_index()\n",
    ")"
   ]
  },
  {
   "cell_type": "code",
   "execution_count": null,
   "metadata": {},
   "outputs": [],
   "source": [
    "tb_agg_veic.describe()"
   ]
  },
  {
   "cell_type": "code",
   "execution_count": null,
   "metadata": {},
   "outputs": [],
   "source": [
    "tb_agg_veic_robusto = tb_agg_veic[tb_agg_veic['contagem'] > 100]"
   ]
  },
  {
   "cell_type": "code",
   "execution_count": null,
   "metadata": {},
   "outputs": [],
   "source": [
    "tb_agg_veic_robusto"
   ]
  },
  {
   "cell_type": "markdown",
   "metadata": {},
   "source": [
    "# Data Manipulation - Joins\n",
    "\n",
    "* Como unir DataFrames através de colunas\n",
    "* [Fruits Example](https://docs.google.com/spreadsheets/d/1foV1THfhVc5WduBTMjpxmthAD1BDHS9FUpH-WgGDH5E/edit?usp=sharing)\n",
    "\n",
    "Um join pode ser classificado ao longo de dois eixos:\n",
    "\n",
    "1. **Direção**: Esquerda, direita ou interno (left, right e inner);\n",
    "2. **Cardinalidade**: Um para um, um para muitos, muitos para muitos (1:1, 1:n, n:n).\n",
    "\n",
    "https://towardsdatascience.com/can-we-stop-with-the-sql-joins-venn-diagrams-insanity-16791d9250c3"
   ]
  },
  {
   "cell_type": "markdown",
   "metadata": {},
   "source": [
    "## Tipos de Join\n",
    "\n",
    "Vamos analisar cada tipo de join através de sua cardinalidade\n",
    "\n",
    "### Um para Um (1:1)\n",
    "\n",
    "Um join um pra um ocorre quando a **relação entre as chaves** é 1:1, ou seja, para cada chave particular na tabela A teremos apenas uma chave equivalente na tabela B.\n",
    "\n",
    "Esse é o tipo *desejado* **mais comum de join**, e serve para cruzarmos tabelas onde cada linha representa o **o mesmo tipo de observação** (em termos técnicos, tabelas com a mesma chave única). Por exemplo, se temos uma tabela de informações geográficas por município e outra de informações demográficas podemos utilizar um join 1:1 (usando o município) para termos uma tabela de informações demográficas e geográficas."
   ]
  },
  {
   "cell_type": "code",
   "execution_count": null,
   "metadata": {
    "ExecuteTime": {
     "end_time": "2021-12-07T23:34:25.588337Z",
     "start_time": "2021-12-07T23:34:25.571381Z"
    }
   },
   "outputs": [],
   "source": [
    "nome_frutas = [\"Uva\", \"Abacate\", \"Melancia\", \"Atemoia\", \"Laranja\"]\n",
    "producao_frutas = [10, 1, 1, 3, 4]\n",
    "tb_prod_frutas = pd.DataFrame(\n",
    "    {\"nome_fruta\": nome_frutas, \"producao_kg\": producao_frutas}\n",
    ")\n",
    "tb_prod_frutas\n"
   ]
  },
  {
   "cell_type": "code",
   "execution_count": null,
   "metadata": {
    "ExecuteTime": {
     "end_time": "2021-12-07T23:34:41.825655Z",
     "start_time": "2021-12-07T23:34:41.809698Z"
    }
   },
   "outputs": [],
   "source": [
    "fruta = [\"Uva\", \"Abacate\", \"Melancia\", \"Carambola\"]\n",
    "cidade = [\"Campinas\", \"Campinas\", \"Atibaia\", \"Rio de Janeiro\"]\n",
    "tb_pomar_cidade = pd.DataFrame({\"nome_fruta\": fruta, \"cidade\": cidade})\n",
    "tb_pomar_cidade\n"
   ]
  },
  {
   "cell_type": "markdown",
   "metadata": {},
   "source": [
    "#### Inner Join (o que é comum às duas tabelas)"
   ]
  },
  {
   "cell_type": "code",
   "execution_count": null,
   "metadata": {
    "ExecuteTime": {
     "end_time": "2021-12-07T23:37:50.965432Z",
     "start_time": "2021-12-07T23:37:50.939488Z"
    }
   },
   "outputs": [],
   "source": [
    "pd.merge(tb_prod_frutas, tb_pomar_cidade, on=\"nome_fruta\", how=\"inner\")\n"
   ]
  },
  {
   "cell_type": "markdown",
   "metadata": {},
   "source": [
    "#### Left Join (tudo o que está na tabela a esquerda)"
   ]
  },
  {
   "cell_type": "code",
   "execution_count": null,
   "metadata": {
    "ExecuteTime": {
     "end_time": "2021-12-07T23:41:01.178700Z",
     "start_time": "2021-12-07T23:41:01.155762Z"
    }
   },
   "outputs": [],
   "source": [
    "pd.merge(tb_prod_frutas, tb_pomar_cidade, on=\"nome_fruta\", how=\"left\")\n"
   ]
  },
  {
   "cell_type": "markdown",
   "metadata": {},
   "source": [
    "#### Right Join (tudo o que está na tabela a direita)"
   ]
  },
  {
   "cell_type": "code",
   "execution_count": null,
   "metadata": {
    "ExecuteTime": {
     "end_time": "2021-12-07T23:43:03.575349Z",
     "start_time": "2021-12-07T23:43:03.552412Z"
    }
   },
   "outputs": [],
   "source": [
    "pd.merge(tb_prod_frutas, tb_pomar_cidade, on=\"nome_fruta\", how=\"right\")\n"
   ]
  },
  {
   "cell_type": "markdown",
   "metadata": {},
   "source": [
    "#### Chaves com nomes distintos\n",
    "\n",
    "Embora seja considerado boa prática que todas as colunas de chave tenham nomes uniformes, muitas vezes vamos nos deparar com situações onde queremos unir duas tabelas através de um chave que está em colunas com nomes diferentes. \n",
    "\n",
    "Para tratar isso utilizaremos os argumentos `left_on =` e `right_on =`:"
   ]
  },
  {
   "cell_type": "code",
   "execution_count": null,
   "metadata": {
    "ExecuteTime": {
     "end_time": "2021-12-08T00:46:35.936498Z",
     "start_time": "2021-12-08T00:46:35.911562Z"
    }
   },
   "outputs": [],
   "source": [
    "nome_frutas = [\"Uva\", \"Abacate\", \"Melancia\", \"Atemoia\", \"Laranja\"]\n",
    "producao_frutas = [10, 1, 1, 3, 4]\n",
    "tb_prod_frutas = pd.DataFrame(\n",
    "    {\"nome_fruta\": nome_frutas, \"producao_kg\": producao_frutas}\n",
    ")\n",
    "tb_prod_frutas\n"
   ]
  },
  {
   "cell_type": "code",
   "execution_count": null,
   "metadata": {
    "ExecuteTime": {
     "end_time": "2021-12-08T00:46:41.104712Z",
     "start_time": "2021-12-08T00:46:41.082770Z"
    }
   },
   "outputs": [],
   "source": [
    "fruta = [\"Uva\", \"Abacate\", \"Melancia\", \"Carambola\"]\n",
    "cidade = [\"Campinas\", \"Campinas\", \"Atibaia\", \"Rio de Janeiro\"]\n",
    "tb_pomar_cidade = pd.DataFrame({\"nome_pomar_fruta\": fruta, \"cidade\": cidade})\n",
    "tb_pomar_cidade\n"
   ]
  },
  {
   "cell_type": "code",
   "execution_count": null,
   "metadata": {
    "ExecuteTime": {
     "end_time": "2021-12-08T00:47:49.391238Z",
     "start_time": "2021-12-08T00:47:49.372290Z"
    }
   },
   "outputs": [],
   "source": [
    "pd.merge(\n",
    "    tb_prod_frutas, tb_pomar_cidade, left_on=\"nome_fruta\", right_on=\"nome_pomar_fruta\"\n",
    ")\n"
   ]
  },
  {
   "cell_type": "markdown",
   "metadata": {},
   "source": [
    "### Um para N (1:N)\n",
    "\n",
    "A relação 1:N é *quase* tão comum quanto a relação 1:1 e, em geral, surge quando queremos unir uma tabela com uma chave que é **parte** da chave da segunda tabela. Por exemplo, se nossa tabela de informações demográficas do exemplo anterior utilize a chave Município-Mês, o join com a tabela geográfica (chave Município) será 1:N.\n",
    "\n",
    "Uma situação prática é quando temos informações de clientes que queremos cruzar com informações de pedidos: todo pedido tem apenas um cliente, cada cliente tem múltiplos pedidos."
   ]
  },
  {
   "cell_type": "code",
   "execution_count": null,
   "metadata": {
    "ExecuteTime": {
     "end_time": "2021-12-07T23:45:53.978369Z",
     "start_time": "2021-12-07T23:45:53.967413Z"
    }
   },
   "outputs": [],
   "source": [
    "nome_frutas = [\"Uva\", \"Abacate\", \"Melancia\", \"Atemoia\", \"Laranja\"]\n",
    "preco_frutas = [10, 5, 3, 30, 2]\n",
    "tb_prod_frutas = pd.DataFrame(\n",
    "    {\"nome_fruta\": nome_frutas, \"preco_kg\": preco_frutas}\n",
    ")\n",
    "tb_prod_frutas"
   ]
  },
  {
   "cell_type": "code",
   "execution_count": null,
   "metadata": {
    "ExecuteTime": {
     "end_time": "2021-12-07T23:46:04.560240Z",
     "start_time": "2021-12-07T23:46:04.543316Z"
    }
   },
   "outputs": [],
   "source": [
    "fruta = [\"Uva\", \"Abacate\", \"Melancia\", \"Uva\", \"Carambola\"]\n",
    "cidade = [\"Campinas\", \"Campinas\", \"Atibaia\", \"Atibaia\", \"Rio de Janeiro\"]\n",
    "qtd_prod = [1000, 5000, 2500, 300, 150]\n",
    "tb_pomar_cidade = pd.DataFrame({\"nome_fruta\": fruta, \"cidade\": cidade, \"qtd_produzida\" : qtd_prod})\n",
    "tb_pomar_cidade\n"
   ]
  },
  {
   "cell_type": "code",
   "execution_count": null,
   "metadata": {
    "ExecuteTime": {
     "end_time": "2021-12-07T23:47:27.551050Z",
     "start_time": "2021-12-07T23:47:27.529111Z"
    }
   },
   "outputs": [],
   "source": [
    "pd.merge(tb_prod_frutas, tb_pomar_cidade, on=\"nome_fruta\")\n"
   ]
  },
  {
   "cell_type": "markdown",
   "metadata": {},
   "source": [
    "### M para N (M:N)\n",
    "\n",
    "Os joins N para N são mais raros que os outros dois tipos (exceto quando erramos e nosso join 1:1 vira um N:N...). Ele ocorre quando queremos unir duas tabelas por uma chave que **não é única** nas duas tabelas.\n",
    "\n",
    "Um exemplo comum é quando queremos cruzar informações de produtos e clientes: como cada cliente pode comprar múltiplos produtos diferentes e cada produto pode ser comprado por múltiplos clientes a relação é uma relação M:N.\n",
    "\n",
    "Tanto no Pandas quanto no SQL raramente criaremos relações M:N - elas são mediadas por uma terceira chave (o código do pedido no exemplo acima). No entanto, **esse tipo de join ocorre MUITO quando fazemos algo errado**, não conhecer as chaves de nossa tabela por exemplo!"
   ]
  },
  {
   "cell_type": "code",
   "execution_count": null,
   "metadata": {
    "ExecuteTime": {
     "end_time": "2021-12-07T23:52:08.188456Z",
     "start_time": "2021-12-07T23:52:08.177485Z"
    }
   },
   "outputs": [],
   "source": [
    "nome_frutas = [\"Uva\", \"Uva\", \"Abacate\", \"Melancia\", \"Atemoia\", \"Laranja\"]\n",
    "producao_frutas = [10, 5, 1, 1, 3, 4]\n",
    "tb_prod_frutas = pd.DataFrame(\n",
    "    {\"nome_fruta\": nome_frutas, \"producao_kg\": producao_frutas}\n",
    ")\n",
    "tb_prod_frutas\n"
   ]
  },
  {
   "cell_type": "code",
   "execution_count": null,
   "metadata": {
    "ExecuteTime": {
     "end_time": "2021-12-07T23:52:14.517276Z",
     "start_time": "2021-12-07T23:52:14.494336Z"
    }
   },
   "outputs": [],
   "source": [
    "fruta = [\"Uva\", \"Abacate\", \"Melancia\", \"Uva\", \"Carambola\"]\n",
    "cidade = [\"Campinas\", \"Campinas\", \"Atibaia\", \"Atibaia\", \"Rio de Janeiro\"]\n",
    "tb_pomar_cidade = pd.DataFrame({\"nome_fruta\": fruta, \"cidade\": cidade})\n",
    "tb_pomar_cidade\n"
   ]
  },
  {
   "cell_type": "code",
   "execution_count": null,
   "metadata": {
    "ExecuteTime": {
     "end_time": "2021-12-07T23:52:34.909087Z",
     "start_time": "2021-12-07T23:52:34.891108Z"
    }
   },
   "outputs": [],
   "source": [
    "pd.merge(tb_prod_frutas, tb_pomar_cidade, on=\"nome_fruta\")\n"
   ]
  },
  {
   "cell_type": "markdown",
   "metadata": {},
   "source": [
    "## Chaves Compostas\n",
    "\n",
    "As chaves de nossos joins não precisam estar localizadas apenas em uma coluna: podemos ter partes diferentes de uma chave em colunas diferentes (por exemplo, em uma tabela cuja chave seja Município-Ano podemos ter uma coluna Município e outra Ano).\n",
    "\n",
    "Para realizar joins com chaves compostas precisaremos alterar um pouco como especificamos o argumento `on`."
   ]
  },
  {
   "cell_type": "code",
   "execution_count": null,
   "metadata": {},
   "outputs": [],
   "source": [
    "nome_frutas = [\"Uva\", \"Abacate\", \"Melancia\", \"Atemoia\", \"Laranja\"]\n",
    "cidade = [\"Campinas\", \"Atibaia\", \"Atibaia\", \"Rio de Janeiro\", \"Rio de Janeiro\"]\n",
    "preco_frutas = [10, 5, 3, 30, 2]\n",
    "tb_prod_frutas = pd.DataFrame(\n",
    "    {\"nome_fruta\": nome_frutas, \"cidade\" : cidade, \"preco_kg\": preco_frutas}\n",
    ")\n",
    "tb_prod_frutas"
   ]
  },
  {
   "cell_type": "code",
   "execution_count": null,
   "metadata": {},
   "outputs": [],
   "source": [
    "fruta = [\"Uva\", \"Abacate\", \"Melancia\", \"Uva\", \"Carambola\"]\n",
    "cidade = [\"Campinas\", \"Campinas\", \"Atibaia\", \"Atibaia\", \"Rio de Janeiro\"]\n",
    "qtd_prod = [1000, 5000, 2500, 300, 150]\n",
    "tb_pomar_cidade = pd.DataFrame({\"nome_fruta\": fruta, \"cidade\": cidade, \"qtd_produzida\" : qtd_prod})\n",
    "tb_pomar_cidade\n"
   ]
  },
  {
   "cell_type": "code",
   "execution_count": null,
   "metadata": {},
   "outputs": [],
   "source": [
    "tb_prod_frutas.merge(tb_pomar_cidade, on = ['nome_fruta', 'cidade'])"
   ]
  },
  {
   "cell_type": "markdown",
   "metadata": {},
   "source": [
    "# Bonus - Análise de Eficiência de Automóveis\n",
    "\n",
    "Vamos utilizar os conceitos vistos hoje para responder a pergunta *Será que a eficiência dos carros aumentou ao longo dos anos?*."
   ]
  },
  {
   "cell_type": "code",
   "execution_count": null,
   "metadata": {
    "ExecuteTime": {
     "end_time": "2021-12-08T00:22:23.730288Z",
     "start_time": "2021-12-08T00:22:23.346343Z"
    }
   },
   "outputs": [],
   "source": [
    "import matplotlib.pyplot as plt"
   ]
  },
  {
   "cell_type": "code",
   "execution_count": null,
   "metadata": {
    "ExecuteTime": {
     "end_time": "2021-12-08T00:22:46.819693Z",
     "start_time": "2021-12-08T00:22:46.632171Z"
    }
   },
   "outputs": [],
   "source": [
    "tb_agg_year = tb_veic.groupby(by=\"year\").agg(\n",
    "    mean_city_mpg=pd.NamedAgg(column=\"city_mpg\", aggfunc=\"mean\"),\n",
    "    mean_highway_mpg=pd.NamedAgg(column=\"highway_mpg\", aggfunc=\"mean\"),\n",
    ")\n",
    "plt.plot(tb_agg_year[\"mean_city_mpg\"])\n"
   ]
  },
  {
   "cell_type": "markdown",
   "metadata": {},
   "source": [
    "**Quais conclusões podemos tirar do gráfico acima? Como podemos melhorar nossa análise?**"
   ]
  },
  {
   "cell_type": "code",
   "execution_count": null,
   "metadata": {
    "ExecuteTime": {
     "end_time": "2021-12-08T00:27:28.686466Z",
     "start_time": "2021-12-08T00:27:28.660542Z"
    }
   },
   "outputs": [],
   "source": [
    "tb_agg_cyl = (\n",
    "    tb_veic.groupby(by=\"cylinders\")\n",
    "    .agg(\n",
    "        mean_city_mpg=pd.NamedAgg(column=\"city_mpg\", aggfunc=\"mean\"),\n",
    "        mean_highway_mpg=pd.NamedAgg(column=\"highway_mpg\", aggfunc=\"mean\"),\n",
    "    )\n",
    "    .reset_index()\n",
    ")\n",
    "tb_agg_cyl\n"
   ]
  },
  {
   "cell_type": "code",
   "execution_count": null,
   "metadata": {
    "ExecuteTime": {
     "end_time": "2021-12-08T00:31:12.879203Z",
     "start_time": "2021-12-08T00:31:12.806400Z"
    }
   },
   "outputs": [],
   "source": [
    "tb_veic = pd.merge(tb_veic, tb_agg_cyl, on=\"cylinders\")\n",
    "tb_veic\n"
   ]
  },
  {
   "cell_type": "code",
   "execution_count": null,
   "metadata": {
    "ExecuteTime": {
     "end_time": "2021-12-08T00:37:22.077523Z",
     "start_time": "2021-12-08T00:37:22.042613Z"
    }
   },
   "outputs": [],
   "source": [
    "tb_veic[\"norm_city_mpg\"] = tb_veic[\"city_mpg\"] / tb_veic[\"mean_city_mpg\"]\n",
    "tb_veic[\"norm_highway_mpg\"] = tb_veic[\"highway_mpg\"] / tb_veic[\"mean_highway_mpg\"]\n",
    "tb_veic\n"
   ]
  },
  {
   "cell_type": "code",
   "execution_count": null,
   "metadata": {
    "ExecuteTime": {
     "end_time": "2021-12-08T00:43:42.161916Z",
     "start_time": "2021-12-08T00:43:42.002345Z"
    }
   },
   "outputs": [],
   "source": [
    "tb_agg_year = tb_veic.groupby(by=\"year\").agg(\n",
    "    mean_city_mpg=pd.NamedAgg(column=\"norm_city_mpg\", aggfunc=\"mean\"),\n",
    "    mean_highway_mpg=pd.NamedAgg(column=\"norm_highway_mpg\", aggfunc=\"mean\"),\n",
    "    contagem=pd.NamedAgg(column=\"norm_highway_mpg\", aggfunc=\"count\"),\n",
    ")\n",
    "plt.plot(tb_agg_year[\"mean_city_mpg\"])\n",
    "# plt.plot(tb_agg_year['contagem'])\n"
   ]
  },
  {
   "cell_type": "code",
   "execution_count": null,
   "metadata": {
    "ExecuteTime": {
     "end_time": "2021-12-08T00:49:32.621358Z",
     "start_time": "2021-12-08T00:49:32.575478Z"
    },
    "scrolled": true
   },
   "outputs": [],
   "source": [
    "tb_agg_yearcyl = (\n",
    "    tb_veic.groupby([\"cylinders\", \"year\"])\n",
    "    .agg(\n",
    "        mean_city_mpg=pd.NamedAgg(column=\"city_mpg\", aggfunc=\"mean\"),\n",
    "        n_linhas=pd.NamedAgg(column=\"city_mpg\", aggfunc=\"count\"),\n",
    "    )\n",
    "    .reset_index()\n",
    ")\n",
    "tb_agg_yearcyl\n"
   ]
  },
  {
   "cell_type": "code",
   "execution_count": null,
   "metadata": {
    "ExecuteTime": {
     "end_time": "2021-12-08T00:51:49.847209Z",
     "start_time": "2021-12-08T00:51:49.823274Z"
    }
   },
   "outputs": [],
   "source": [
    "tb_agg_yearcyl[\"last_year\"] = tb_agg_yearcyl[\"year\"] - 1\n",
    "tb_agg_yearcyl\n"
   ]
  },
  {
   "cell_type": "code",
   "execution_count": null,
   "metadata": {
    "ExecuteTime": {
     "end_time": "2021-12-08T00:53:57.383607Z",
     "start_time": "2021-12-08T00:53:57.340701Z"
    }
   },
   "outputs": [],
   "source": [
    "tb_agg_yearcyla = pd.merge(\n",
    "    tb_agg_yearcyl,\n",
    "    tb_agg_yearcyl,\n",
    "    left_on=[\"cylinders\", \"last_year\"],\n",
    "    right_on=[\"cylinders\", \"year\"],\n",
    "    suffixes=(\"\", \"_ly\"),\n",
    ")\n",
    "tb_agg_yearcyla[tb_agg_yearcyla[\"cylinders\"] == 6]\n"
   ]
  },
  {
   "cell_type": "code",
   "execution_count": null,
   "metadata": {
    "ExecuteTime": {
     "end_time": "2021-12-08T01:01:40.818041Z",
     "start_time": "2021-12-08T01:01:40.798106Z"
    }
   },
   "outputs": [],
   "source": [
    "tb_agg_yearcyla[\"var_anual\"] = (\n",
    "    tb_agg_yearcyla[\"mean_city_mpg\"] - tb_agg_yearcyla[\"mean_city_mpg_ly\"]\n",
    ") / tb_agg_yearcyla[\"mean_city_mpg_ly\"]\n"
   ]
  },
  {
   "cell_type": "code",
   "execution_count": null,
   "metadata": {
    "ExecuteTime": {
     "end_time": "2021-12-08T01:06:18.217213Z",
     "start_time": "2021-12-08T01:06:18.191284Z"
    }
   },
   "outputs": [],
   "source": [
    "aa = tb_agg_yearcyla.groupby([\"cylinders\"]).agg(\n",
    "    var_anual_media=pd.NamedAgg(\"var_anual\", \"mean\"),\n",
    "    min_ano=pd.NamedAgg(\"year\", \"min\"),\n",
    "    max_ano=pd.NamedAgg(\"year\", \"max\"),\n",
    "    n_linhas=pd.NamedAgg(\"n_linhas\", \"sum\"),\n",
    ")\n",
    "aa[aa[\"n_linhas\"] > 149]\n"
   ]
  },
  {
   "cell_type": "markdown",
   "metadata": {},
   "source": [
    "# Bonus - Bins Concept\n",
    "\n",
    "![Imgs](https://i.stack.imgur.com/pObHa.png)\n",
    "\n",
    "\n",
    "### two methods: cut vs qcut\n",
    "\n",
    "The major distinction is that qcut will calculate the size of each bin in order to make sure the distribution of data in the bins is equal. In other words, all bins will have (roughly) the same number of observations but the bin range will vary.\n",
    "\n",
    "On the other hand, cut is used to specifically define the bin edges. There is no guarantee about the distribution of items in each bin. In fact, you can define bins in such a way that no items are included in a bin or nearly all items are in a single bin."
   ]
  },
  {
   "cell_type": "code",
   "execution_count": null,
   "metadata": {
    "ExecuteTime": {
     "end_time": "2021-12-08T01:08:51.676086Z",
     "start_time": "2021-12-08T01:08:51.648130Z"
    }
   },
   "outputs": [],
   "source": [
    "pd.cut(tb_veic[\"city_mpg\"], bins=10)\n"
   ]
  },
  {
   "cell_type": "code",
   "execution_count": null,
   "metadata": {
    "ExecuteTime": {
     "end_time": "2021-12-08T01:09:17.889869Z",
     "start_time": "2021-12-08T01:09:17.868926Z"
    }
   },
   "outputs": [],
   "source": [
    "tb_veic[\"classifA_city_mpg\"] = pd.cut(tb_veic[\"city_mpg\"], bins=10)\n",
    "tb_veic[\"classifA_city_mpg\"].value_counts()\n"
   ]
  },
  {
   "cell_type": "code",
   "execution_count": null,
   "metadata": {
    "ExecuteTime": {
     "end_time": "2021-12-08T01:11:17.338287Z",
     "start_time": "2021-12-08T01:11:17.306827Z"
    }
   },
   "outputs": [],
   "source": [
    "tb_veic[\"classifB_city_mpg\"] = pd.qcut(tb_veic[\"city_mpg\"], q=10)\n",
    "tb_veic[\"classifB_city_mpg\"].value_counts()\n"
   ]
  },
  {
   "cell_type": "markdown",
   "metadata": {},
   "source": [
    "# Bonus - Categorical Data Into Columns\n",
    "\n",
    ">    - dummies\n",
    ">    - One hot encoding"
   ]
  },
  {
   "cell_type": "code",
   "execution_count": null,
   "metadata": {
    "ExecuteTime": {
     "end_time": "2021-12-08T01:14:03.671564Z",
     "start_time": "2021-12-08T01:14:03.625679Z"
    }
   },
   "outputs": [],
   "source": [
    "pd.get_dummies(tb_veic[\"classifB_city_mpg\"])\n"
   ]
  },
  {
   "cell_type": "code",
   "execution_count": null,
   "metadata": {
    "ExecuteTime": {
     "end_time": "2021-12-08T01:15:22.074485Z",
     "start_time": "2021-12-08T01:15:21.993701Z"
    }
   },
   "outputs": [],
   "source": [
    "dummies = pd.get_dummies(tb_veic[\"classifB_city_mpg\"])\n",
    "pd.concat([tb_veic, dummies], axis=1)\n"
   ]
  },
  {
   "cell_type": "markdown",
   "metadata": {},
   "source": [
    "# Bonus - Funções Customizadas de Agregação"
   ]
  },
  {
   "cell_type": "code",
   "execution_count": null,
   "metadata": {},
   "outputs": [],
   "source": [
    "def dist_iq(panda_series):\n",
    "    if len(panda_series) > 5:\n",
    "        return (\n",
    "            panda_series.quantile(0.75) - panda_series.quantile(0.25)\n",
    "        ) / panda_series.quantile(0.5)\n",
    "    else:\n",
    "        return np.nan"
   ]
  },
  {
   "cell_type": "code",
   "execution_count": null,
   "metadata": {},
   "outputs": [],
   "source": [
    "tb_veic.groupby(by=[\"drivetrain\", \"cylinders\"]).agg(\n",
    "    avg_city_mpg=pd.NamedAgg(column=\"city_mpg\", aggfunc=\"mean\"),\n",
    "    std_city_mpg=pd.NamedAgg(column=\"city_mpg\", aggfunc=\"std\"),\n",
    "    iqn_city_mpg=pd.NamedAgg(column=\"city_mpg\", aggfunc=dist_iq),\n",
    ")\n"
   ]
  }
 ],
 "metadata": {
  "hide_input": false,
  "kernelspec": {
   "display_name": "Python 3.9.11 ('base')",
   "language": "python",
   "name": "python3"
  },
  "language_info": {
   "codemirror_mode": {
    "name": "ipython",
    "version": 3
   },
   "file_extension": ".py",
   "mimetype": "text/x-python",
   "name": "python",
   "nbconvert_exporter": "python",
   "pygments_lexer": "ipython3",
   "version": "3.9.11"
  },
  "toc": {
   "base_numbering": 1,
   "nav_menu": {},
   "number_sections": true,
   "sideBar": true,
   "skip_h1_title": false,
   "title_cell": "Table of Contents",
   "title_sidebar": "Contents",
   "toc_cell": false,
   "toc_position": {},
   "toc_section_display": true,
   "toc_window_display": false
  },
  "vscode": {
   "interpreter": {
    "hash": "014f4a4a5af8f0104b12c029e500f4146d6d785e8cf714d2a35b7a9514230cd3"
   }
  }
 },
 "nbformat": 4,
 "nbformat_minor": 4
}
