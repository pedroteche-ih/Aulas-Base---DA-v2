{
 "cells": [
  {
   "cell_type": "code",
   "execution_count": null,
   "metadata": {
    "ExecuteTime": {
     "end_time": "2021-12-11T10:47:00.097024Z",
     "start_time": "2021-12-11T10:46:59.291875Z"
    }
   },
   "outputs": [],
   "source": [
    "import pandas as pd\n",
    "import numpy as np"
   ]
  },
  {
   "cell_type": "markdown",
   "metadata": {},
   "source": [
    "# DataFrame Calculations\n",
    "\n",
    "Hoje veremos como criar novas colunas em um DataFrame. Até o momento, já criamos colunas através de condicionais (usando `.loc` ou `np.where`) e através dos métodos `.astype()`, `.map()` e `.fillna()`.\n",
    "\n",
    "A criação de colunas é extremamente simples: basta lembrarmos que um `DataFrame` se comporta como um dicionário de `Series`! Podemos criar novas colunas como adicionamos chaves à um dicionário: utilizando o operador de *assignment*, `=`.\n",
    "\n",
    "Para aula de hoje utilizaremos um novo dataset: os dados do artigo *Sleep  in Mammals: Ecological and Constitutional Correlates*, contendo informações sobre o sono e a vida de certos animais.\n",
    "\n",
    "## Lendo o DataFrame\n",
    "\n",
    "Vamos iniciar carregando o DataFrame, olhando a documentação e os dados.\n",
    "\n",
    "Documentação: \n",
    "http://lib.stat.cmu.edu/datasets/sleep"
   ]
  },
  {
   "cell_type": "code",
   "execution_count": null,
   "metadata": {
    "ExecuteTime": {
     "end_time": "2021-12-11T10:56:25.344871Z",
     "start_time": "2021-12-11T10:56:24.495086Z"
    }
   },
   "outputs": [],
   "source": [
    "tb_animals = pd.read_csv('http://www.statsci.org/data/general/sleep.txt', sep='\\t')"
   ]
  },
  {
   "cell_type": "code",
   "execution_count": null,
   "metadata": {
    "ExecuteTime": {
     "end_time": "2021-12-11T10:56:25.391683Z",
     "start_time": "2021-12-11T10:56:25.345778Z"
    }
   },
   "outputs": [],
   "source": [
    "tb_animals.describe()"
   ]
  },
  {
   "cell_type": "code",
   "execution_count": null,
   "metadata": {
    "ExecuteTime": {
     "end_time": "2021-12-11T11:03:00.346949Z",
     "start_time": "2021-12-11T11:03:00.314048Z"
    }
   },
   "outputs": [],
   "source": [
    "tb_animals.head()"
   ]
  },
  {
   "cell_type": "markdown",
   "metadata": {},
   "source": [
    "# Calculos com DataFrames\n",
    "\n",
    "A forma mais simples de criarmos novas colunas é a partir de constantes, listas ou calculos com outras colunas. Vamos ver como realizar cada um desses passos.\n",
    "\n",
    "## Colunas constantes\n",
    "\n",
    "Podemos criar um coluna com valor constante simplesmente atribuindo um número à coluna."
   ]
  },
  {
   "cell_type": "code",
   "execution_count": null,
   "metadata": {
    "ExecuteTime": {
     "end_time": "2021-12-11T10:47:41.225506Z",
     "start_time": "2021-12-11T10:47:41.212541Z"
    }
   },
   "outputs": [],
   "source": [
    "tb_animals['new_column'] = 1"
   ]
  },
  {
   "cell_type": "code",
   "execution_count": null,
   "metadata": {
    "ExecuteTime": {
     "end_time": "2021-12-11T10:47:41.569634Z",
     "start_time": "2021-12-11T10:47:41.542677Z"
    }
   },
   "outputs": [],
   "source": [
    "tb_animals.head()"
   ]
  },
  {
   "cell_type": "code",
   "execution_count": null,
   "metadata": {
    "ExecuteTime": {
     "end_time": "2021-12-11T10:47:47.844848Z",
     "start_time": "2021-12-11T10:47:47.832881Z"
    }
   },
   "outputs": [],
   "source": [
    "tb_animals = tb_animals.drop('new_column', axis = 1)"
   ]
  },
  {
   "cell_type": "markdown",
   "metadata": {},
   "source": [
    "## Criando colunas com `lists`\n",
    "\n",
    "Podemos criar uma coluna a partir de uma lista (ou qualquer outro iterável). O Pandas interpretará o iterável como um `Series`, ou seja, cada elemento dele será visto como uma nova linha da nossa tabela. Logo, precisamos que o iterável tenha comprimento igual ao tamanho da nossa tabela."
   ]
  },
  {
   "cell_type": "code",
   "execution_count": null,
   "metadata": {
    "ExecuteTime": {
     "end_time": "2021-12-11T10:48:13.935775Z",
     "start_time": "2021-12-11T10:48:13.915812Z"
    }
   },
   "outputs": [],
   "source": [
    "tb_animals['id_linha'] = [i for i in range(tb_animals.shape[0])]"
   ]
  },
  {
   "cell_type": "code",
   "execution_count": null,
   "metadata": {
    "ExecuteTime": {
     "end_time": "2021-12-11T10:48:16.208227Z",
     "start_time": "2021-12-11T10:48:16.175284Z"
    }
   },
   "outputs": [],
   "source": [
    "tb_animals['id_linha']"
   ]
  },
  {
   "cell_type": "code",
   "execution_count": null,
   "metadata": {},
   "outputs": [],
   "source": [
    "tb_animals['erro'] = [1,2,3]"
   ]
  },
  {
   "cell_type": "markdown",
   "metadata": {},
   "source": [
    "## Criando colunas à partir de contas\n",
    "\n",
    "Podemos utilizar os operadores matemáticos para realizar operações sobre as colunas de um DataSet. A operação será mapeada à cada elemento da coluna - como em vetores do Numpy."
   ]
  },
  {
   "cell_type": "code",
   "execution_count": null,
   "metadata": {
    "ExecuteTime": {
     "end_time": "2021-12-11T10:48:35.942937Z",
     "start_time": "2021-12-11T10:48:35.912030Z"
    }
   },
   "outputs": [],
   "source": [
    "tb_animals['BrainWt']/1000 "
   ]
  },
  {
   "cell_type": "code",
   "execution_count": null,
   "metadata": {},
   "outputs": [],
   "source": [
    "tb_animals['BrainWt_kg'] = tb_animals['BrainWt']/1000 "
   ]
  },
  {
   "cell_type": "code",
   "execution_count": null,
   "metadata": {},
   "outputs": [],
   "source": [
    "tb_animals.describe()"
   ]
  },
  {
   "cell_type": "markdown",
   "metadata": {},
   "source": [
    "## Cálculos entre Colunas\n",
    "\n",
    "Podemos realizar operações entre colunas - da mesma forma que os operadores booleanos (`<`, `>`, `==`, etc) podem ser aplicados sobre uma coluna para criar uma coluna, os operadores matemáticos podem ser usados entre duas colunas para criar novas colunas."
   ]
  },
  {
   "cell_type": "code",
   "execution_count": null,
   "metadata": {},
   "outputs": [],
   "source": [
    "tb_animals['BrainWt_kg']/tb_animals['BodyWt']"
   ]
  },
  {
   "cell_type": "code",
   "execution_count": null,
   "metadata": {
    "ExecuteTime": {
     "end_time": "2021-12-11T10:48:49.068730Z",
     "start_time": "2021-12-11T10:48:49.061774Z"
    }
   },
   "outputs": [],
   "source": [
    "tb_animals['ratio_brain_body'] = tb_animals['BrainWt_kg']/tb_animals['BodyWt']"
   ]
  },
  {
   "cell_type": "code",
   "execution_count": null,
   "metadata": {
    "ExecuteTime": {
     "end_time": "2021-12-11T10:48:49.427060Z",
     "start_time": "2021-12-11T10:48:49.405088Z"
    }
   },
   "outputs": [],
   "source": [
    "tb_animals['ratio_brain_body'].describe()"
   ]
  },
  {
   "cell_type": "code",
   "execution_count": null,
   "metadata": {
    "ExecuteTime": {
     "end_time": "2021-12-11T10:48:49.973929Z",
     "start_time": "2021-12-11T10:48:49.945983Z"
    }
   },
   "outputs": [],
   "source": [
    "tb_animals[tb_animals['ratio_brain_body']>0.03]"
   ]
  },
  {
   "cell_type": "markdown",
   "metadata": {},
   "source": [
    "### Operadores Booleanos entre Colunas\n",
    "\n",
    "Da mesma forma que podemos realizar a comparação de uma coluna com um valor, podemos criar comparações entre colunas:"
   ]
  },
  {
   "cell_type": "code",
   "execution_count": null,
   "metadata": {
    "ExecuteTime": {
     "end_time": "2021-12-11T10:48:50.677033Z",
     "start_time": "2021-12-11T10:48:50.671050Z"
    }
   },
   "outputs": [],
   "source": [
    "tb_animals['ratio_brain_body']>0.01"
   ]
  },
  {
   "cell_type": "code",
   "execution_count": null,
   "metadata": {},
   "outputs": [],
   "source": [
    "tb_animals['Dreaming'] > tb_animals['NonDreaming']"
   ]
  },
  {
   "cell_type": "code",
   "execution_count": null,
   "metadata": {},
   "outputs": [],
   "source": [
    "tb_animals[tb_animals['Dreaming'] > tb_animals['NonDreaming']]"
   ]
  },
  {
   "cell_type": "markdown",
   "metadata": {},
   "source": [
    "## Usando métodos de `strings` em colunas\n",
    "\n",
    "A aplicação dos métodos de `str` é um pouco mais complexa, sintaticamente, que a utilização dos operadores: precisamos utilizar um atributo das `Series` para conseguir acessar os métodos."
   ]
  },
  {
   "cell_type": "code",
   "execution_count": null,
   "metadata": {},
   "outputs": [],
   "source": [
    "tb_animals['Species'].head()"
   ]
  },
  {
   "cell_type": "code",
   "execution_count": null,
   "metadata": {},
   "outputs": [],
   "source": [
    "tb_animals['Species'].lower()"
   ]
  },
  {
   "cell_type": "markdown",
   "metadata": {},
   "source": [
    "Para acessar os métodos de `strings` vamos utilizar o atributo `.str` das `Series`"
   ]
  },
  {
   "cell_type": "code",
   "execution_count": null,
   "metadata": {},
   "outputs": [],
   "source": [
    "tb_animals['Species'].str.lower()"
   ]
  },
  {
   "cell_type": "code",
   "execution_count": null,
   "metadata": {
    "ExecuteTime": {
     "end_time": "2021-12-11T10:58:00.315079Z",
     "start_time": "2021-12-11T10:58:00.303111Z"
    }
   },
   "outputs": [],
   "source": [
    "tb_animals['lower_species'] = tb_animals['Species'].str.lower()"
   ]
  },
  {
   "cell_type": "markdown",
   "metadata": {},
   "source": [
    "Além dos métodos básicos de `strings` podemos utilizar funções de REGEX também!. A síntaxe é a mesma: utilizaremos o atributo `.str` para acessar esses métodos.\n",
    "\n",
    "Vamos começar com o método `.contains()` que retorna um vetor booleano determinando se um padrão foi encontrado ou não em cada linha de nossa coluna. "
   ]
  },
  {
   "cell_type": "code",
   "execution_count": null,
   "metadata": {},
   "outputs": [],
   "source": [
    "tb_animals['lower_species'].str.contains(r'monk|ape|man|gorilla|baboon|chimpanzee')"
   ]
  },
  {
   "cell_type": "code",
   "execution_count": null,
   "metadata": {
    "ExecuteTime": {
     "end_time": "2021-12-11T11:05:17.914329Z",
     "start_time": "2021-12-11T11:05:17.898391Z"
    }
   },
   "outputs": [],
   "source": [
    "tb_animals['id_primata'] = tb_animals['lower_species'].str.contains(r'monk|ape|man|gorilla|baboon|chimpanzee')"
   ]
  },
  {
   "cell_type": "code",
   "execution_count": null,
   "metadata": {
    "ExecuteTime": {
     "end_time": "2021-12-11T11:05:18.227228Z",
     "start_time": "2021-12-11T11:05:18.211271Z"
    }
   },
   "outputs": [],
   "source": [
    "sum(tb_animals['id_primata'])"
   ]
  },
  {
   "cell_type": "markdown",
   "metadata": {},
   "source": [
    "Podemos utilizar o método `.findall()` para guardar a informação de qual parte do `string` deu *match* com nosso padrão:"
   ]
  },
  {
   "cell_type": "code",
   "execution_count": null,
   "metadata": {
    "ExecuteTime": {
     "end_time": "2021-12-11T11:05:18.555036Z",
     "start_time": "2021-12-11T11:05:18.551046Z"
    }
   },
   "outputs": [],
   "source": [
    "tb_animals['lista_primata'] = tb_animals['lower_species'].str.findall(r'monk|ape|man|gorilla|baboon|chimpanzee')"
   ]
  },
  {
   "cell_type": "code",
   "execution_count": null,
   "metadata": {
    "ExecuteTime": {
     "end_time": "2021-12-11T11:05:19.301287Z",
     "start_time": "2021-12-11T11:05:19.279319Z"
    }
   },
   "outputs": [],
   "source": [
    "tb_animals.head(10)"
   ]
  },
  {
   "cell_type": "markdown",
   "metadata": {},
   "source": [
    "O método `.findall()` retorna uma lista: se quisermos transformar essa lista em um string teremos que utilizar o método `.map()`. Vamos começar definindo uma função para selecionar o primeiro elemento de cada lista e utilizar o método `.map()` para aplicar essa função a nossa coluna."
   ]
  },
  {
   "cell_type": "code",
   "execution_count": null,
   "metadata": {
    "ExecuteTime": {
     "end_time": "2021-12-11T11:02:24.306160Z",
     "start_time": "2021-12-11T11:02:24.289230Z"
    }
   },
   "outputs": [],
   "source": [
    "# EXERCICIO"
   ]
  },
  {
   "cell_type": "markdown",
   "metadata": {},
   "source": [
    "## Ordenando valores\n",
    "\n",
    "Podemos utilizar o método `.sort_values()` para ordenar um DataFrame por uma (ou mais) coluna."
   ]
  },
  {
   "cell_type": "code",
   "execution_count": null,
   "metadata": {
    "ExecuteTime": {
     "end_time": "2020-06-12T13:14:54.723531Z",
     "start_time": "2020-06-12T13:14:54.717546Z"
    }
   },
   "outputs": [],
   "source": [
    "tb_animals.sort_values(by='ratio_brain_body', ascending=False)"
   ]
  },
  {
   "cell_type": "markdown",
   "metadata": {},
   "source": [
    "Lembrando que os métodos do DataFrame não alteram o objeto original! Se quisermos guardar nosso resultado precisamos faze-lo explicitamente:"
   ]
  },
  {
   "cell_type": "code",
   "execution_count": null,
   "metadata": {},
   "outputs": [],
   "source": [
    "tb_animals = tb_animals.sort_values(by=['Predation', 'ratio_brain_body'], ascending=False)"
   ]
  },
  {
   "cell_type": "code",
   "execution_count": null,
   "metadata": {},
   "outputs": [],
   "source": [
    "tb_animals.head()"
   ]
  },
  {
   "cell_type": "markdown",
   "metadata": {},
   "source": [
    "## Métodos de agregação entre colunas\n",
    "\n",
    "Podemos utilizar os métodos de agregação para criar novas colunas: basta mudar o eixo ao longo do qual a operação é realizada!"
   ]
  },
  {
   "cell_type": "code",
   "execution_count": null,
   "metadata": {},
   "outputs": [],
   "source": [
    "tb_animals[['Predation', 'Exposure', 'Danger']].mean(axis=0)"
   ]
  },
  {
   "cell_type": "code",
   "execution_count": null,
   "metadata": {},
   "outputs": [],
   "source": [
    "tb_animals[['Predation', 'Exposure', 'Danger']].mean(axis=1)"
   ]
  },
  {
   "cell_type": "code",
   "execution_count": null,
   "metadata": {},
   "outputs": [],
   "source": [
    "tb_animals['risco'] = tb_animals[['Predation', 'Exposure', 'Danger']].mean(axis=1)"
   ]
  },
  {
   "cell_type": "code",
   "execution_count": null,
   "metadata": {},
   "outputs": [],
   "source": [
    "tb_animals[['Predation', 'Exposure', 'Danger', 'risco']].mean(axis=0)"
   ]
  },
  {
   "cell_type": "markdown",
   "metadata": {},
   "source": [
    "# Cálculos Condicionais\n",
    "\n",
    "Podemos utilizar o atributo `.loc` para criar colunas condicionais. Vamos começar com um exemplo simples: criando uma coluna a partir de uma constante."
   ]
  },
  {
   "cell_type": "markdown",
   "metadata": {},
   "source": [
    "## Colunas Condicionais constantes"
   ]
  },
  {
   "cell_type": "code",
   "execution_count": null,
   "metadata": {
    "ExecuteTime": {
     "end_time": "2020-08-11T04:01:16.250768Z",
     "start_time": "2020-08-11T04:01:16.240767Z"
    }
   },
   "outputs": [],
   "source": [
    "tb_animals['flag_alto_risco'] = 0"
   ]
  },
  {
   "cell_type": "code",
   "execution_count": null,
   "metadata": {},
   "outputs": [],
   "source": [
    "tb_animals.loc[tb_animals['risco']>=4, 'flag_alto_risco'] = 1"
   ]
  },
  {
   "cell_type": "code",
   "execution_count": null,
   "metadata": {},
   "outputs": [],
   "source": [
    "tb_animals.groupby('flag_alto_risco').mean()"
   ]
  },
  {
   "cell_type": "markdown",
   "metadata": {},
   "source": [
    "Um atributo muito útil para esse tipo de visualização é o `.T`: ele nos retorna o DataFrame transposto:"
   ]
  },
  {
   "cell_type": "code",
   "execution_count": null,
   "metadata": {},
   "outputs": [],
   "source": [
    "tb_animals.groupby('flag_alto_risco').mean().T"
   ]
  },
  {
   "cell_type": "markdown",
   "metadata": {},
   "source": [
    "## Colunas Condicionais utilizando operações"
   ]
  },
  {
   "cell_type": "code",
   "execution_count": null,
   "metadata": {},
   "outputs": [],
   "source": [
    "tb_animals['max_risco'] = tb_animals[['Predation', 'Exposure', 'Danger']].max(axis = 1)"
   ]
  },
  {
   "cell_type": "code",
   "execution_count": null,
   "metadata": {},
   "outputs": [],
   "source": [
    "tb_animals.loc[tb_animals['max_risco'] < 5, 'risco_2'] = tb_animals[['Predation', 'Exposure', 'Danger']].mean(axis = 1)\n",
    "tb_animals.loc[tb_animals['max_risco'] == 5, 'risco_2'] = 5"
   ]
  },
  {
   "cell_type": "code",
   "execution_count": null,
   "metadata": {},
   "outputs": [],
   "source": [
    "tb_animals['flag_alto_risco_2'] = 0\n",
    "tb_animals.loc[tb_animals['risco_2']>=4, 'flag_alto_risco_2'] = 1"
   ]
  },
  {
   "cell_type": "code",
   "execution_count": null,
   "metadata": {},
   "outputs": [],
   "source": [
    "tb_animals.groupby('flag_alto_risco_2').mean().T"
   ]
  },
  {
   "cell_type": "markdown",
   "metadata": {},
   "source": [
    "# Quantis\n",
    "\n",
    "Os quantis são pontos de corte em uma variável numérica que calculados para que uma % das observações esteja abaixo deste ponto. Por exemplo, o quantil 0.5 (50%, ou *mediana*) da variável `BodyWt` é um número tal que 50% das observações tem `BodyWt` abaixo deste número.\n",
    "\n",
    "Os quantis mais famosos são os **quartis**:\n",
    "\n",
    "1. 0.25, ou primeiro quartil, onde 25% das observações estão abaixo do quantil;\n",
    "1. 0.5, ou mediana, onde 50% das observações estão abaixo do quantil;\n",
    "1. e 0.75, ou terceiro quartil, onde 75% das observações estão abaixo do quantil.\n",
    "\n",
    "Além disso, muitas vezes usamos os quantis 0.05 e 0.95 para representar os valores mais altos e mais baixos de uma variável."
   ]
  },
  {
   "cell_type": "code",
   "execution_count": null,
   "metadata": {
    "ExecuteTime": {
     "end_time": "2020-06-12T14:20:38.835325Z",
     "start_time": "2020-06-12T14:20:38.831308Z"
    }
   },
   "outputs": [],
   "source": [
    "tb_animals['BodyWt'].median()"
   ]
  },
  {
   "cell_type": "code",
   "execution_count": null,
   "metadata": {},
   "outputs": [],
   "source": [
    "tb_animals['BodyWt'].quantile(0.5)"
   ]
  },
  {
   "cell_type": "code",
   "execution_count": null,
   "metadata": {},
   "outputs": [],
   "source": [
    "tb_animals['BodyWt'].quantile([0.25, 0.5, 0.75])"
   ]
  },
  {
   "cell_type": "markdown",
   "metadata": {},
   "source": [
    "Uma utilização comum dos quantis é a **discretização de variáveis continuas**, ou seja, a criação de uma variável categórica (`string`) a partir de uma variável numérica."
   ]
  },
  {
   "cell_type": "code",
   "execution_count": null,
   "metadata": {},
   "outputs": [],
   "source": [
    "q25 = tb_animals['BodyWt'].quantile(0.25)\n",
    "q50 = tb_animals['BodyWt'].quantile(0.5)\n",
    "q75 = tb_animals['BodyWt'].quantile(0.75)\n",
    "print(q25, q50, q75)"
   ]
  },
  {
   "cell_type": "code",
   "execution_count": null,
   "metadata": {},
   "outputs": [],
   "source": [
    "tb_animals.loc[tb_animals['BodyWt'] >= q75, 'cat_peso'] = 'Pesados'\n",
    "tb_animals.loc[tb_animals['BodyWt'] < q75, 'cat_peso'] = 'Médios-Pesados'\n",
    "tb_animals.loc[tb_animals['BodyWt'] < q50, 'cat_peso'] = 'Leves-Médios'\n",
    "tb_animals.loc[tb_animals['BodyWt'] < q25, 'cat_peso'] = 'Leves'\n",
    "tb_animals['cat_peso'].value_counts()"
   ]
  },
  {
   "cell_type": "markdown",
   "metadata": {},
   "source": [
    "## Categorizando dados\n",
    "\n",
    "A tarefa acima é tão comum que temos uma função específica para *cortar* uma variável numérica de acordo com seus quantis: a `pd.qcut()`"
   ]
  },
  {
   "cell_type": "code",
   "execution_count": null,
   "metadata": {
    "ExecuteTime": {
     "end_time": "2020-06-12T14:30:58.355804Z",
     "start_time": "2020-06-12T14:30:58.351783Z"
    }
   },
   "outputs": [],
   "source": [
    "# Your code here!\n",
    "tb_animals['BodyWt_Interval'] = pd.qcut(tb_animals['BodyWt'], 4, ['Leves', 'Leves-Médios', 'Médios-Pesados', 'Pesados'])"
   ]
  },
  {
   "cell_type": "code",
   "execution_count": null,
   "metadata": {},
   "outputs": [],
   "source": [
    "tb_animals['BodyWt_Interval'].value_counts()"
   ]
  },
  {
   "cell_type": "code",
   "execution_count": null,
   "metadata": {},
   "outputs": [],
   "source": [
    "tb_animals['BodyWt_Interval'].value_counts(normalize = True)"
   ]
  },
  {
   "cell_type": "markdown",
   "metadata": {},
   "source": [
    "Os intervalos entre quantis não são uniforme: no exemplo acima a categoria `Leve` tinha animais entre 0 Kg e 0.6 Kg enquanto a `Médios-Pesados` tinha animais entre 3.3 Kg e 48 Kg! Isso acontece pois ao cortamos através de quantis estamos criando intervalos com número de observações uniforme - por consequencia sacrificamos a uniformidade entre intervalos.\n",
    "\n",
    "Se quisermos *cortar* uma variável em intervalos iguais podemos utilizar a função `pd.cut`:"
   ]
  },
  {
   "cell_type": "code",
   "execution_count": null,
   "metadata": {
    "ExecuteTime": {
     "end_time": "2020-06-12T14:36:22.395836Z",
     "start_time": "2020-06-12T14:36:22.385867Z"
    }
   },
   "outputs": [],
   "source": [
    "tb_animals['cat_risco'] = pd.cut(tb_animals['risco'], 3)"
   ]
  },
  {
   "cell_type": "code",
   "execution_count": null,
   "metadata": {},
   "outputs": [],
   "source": [
    "tb_animals['cat_risco']"
   ]
  },
  {
   "cell_type": "markdown",
   "metadata": {},
   "source": [
    "# Bonus: \n",
    "\n",
    "## Correlation\n",
    "\n",
    "*Touching statistics*"
   ]
  },
  {
   "cell_type": "code",
   "execution_count": null,
   "metadata": {},
   "outputs": [],
   "source": [
    "tb_animals.corr()"
   ]
  }
 ],
 "metadata": {
  "hide_input": false,
  "kernelspec": {
   "display_name": "Python 3.9.11 ('base')",
   "language": "python",
   "name": "python3"
  },
  "language_info": {
   "codemirror_mode": {
    "name": "ipython",
    "version": 3
   },
   "file_extension": ".py",
   "mimetype": "text/x-python",
   "name": "python",
   "nbconvert_exporter": "python",
   "pygments_lexer": "ipython3",
   "version": "3.9.11"
  },
  "toc": {
   "base_numbering": 1,
   "nav_menu": {},
   "number_sections": true,
   "sideBar": true,
   "skip_h1_title": false,
   "title_cell": "Table of Contents",
   "title_sidebar": "Contents",
   "toc_cell": false,
   "toc_position": {},
   "toc_section_display": true,
   "toc_window_display": false
  },
  "vscode": {
   "interpreter": {
    "hash": "014f4a4a5af8f0104b12c029e500f4146d6d785e8cf714d2a35b7a9514230cd3"
   }
  }
 },
 "nbformat": 4,
 "nbformat_minor": 4
}
