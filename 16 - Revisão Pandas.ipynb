{
 "cells": [
  {
   "cell_type": "code",
   "execution_count": null,
   "metadata": {},
   "outputs": [],
   "source": [
    "import pandas as pd\n",
    "import numpy as np\n",
    "import matplotlib.pyplot as plt\n",
    "import re"
   ]
  },
  {
   "cell_type": "markdown",
   "metadata": {},
   "source": [
    "# Análise I - Eficiência de Automóveis\n",
    "\n",
    "Toda análise de dados fica muito mais simples se partirmos da necessidade de provar ou desprovar um hipótese. Essa hipótese serve como guia para nossos primeiros passos na análise, e, conforme trabalhamos o conjunto de dados, vamos complementando-a ou mesmo formulando novas hipóteses que queremos explorar.\n",
    "\n",
    "Vamos começar com uma hipótese dada: *a eficiência (em termos de consumo de combustível) dos motores de automóveis aumentou ao longo dos anos*. "
   ]
  },
  {
   "cell_type": "code",
   "execution_count": null,
   "metadata": {},
   "outputs": [],
   "source": [
    "tb_veic = pd.read_csv(\"data/dados_veiculos.csv\")\n",
    "pattern = r\"[^a-zA-Z0-9]\"\n",
    "tb_veic.columns = [re.sub(pattern, \"_\", column.lower()) for column in tb_veic.columns]\n",
    "tb_veic.describe()"
   ]
  },
  {
   "cell_type": "markdown",
   "metadata": {},
   "source": [
    "## Avaliação inicial\n",
    "\n",
    "Nosso conjunto de dados contém 3 variáveis que medem a eficiência de consumo: `highway_mpg`, `city_mpg` e `combined_mpg`. Além disso temos o ano de cada automóvel. O primeiro passo pode ser verificar se a eficiência média por ano cresceu ou caiu."
   ]
  },
  {
   "cell_type": "code",
   "execution_count": null,
   "metadata": {},
   "outputs": [],
   "source": [
    "tb_agg_year = tb_veic.groupby(by=\"year\").agg(\n",
    "    mean_city_mpg=pd.NamedAgg(column=\"city_mpg\", aggfunc=\"mean\"),\n",
    "    mean_highway_mpg=pd.NamedAgg(column=\"highway_mpg\", aggfunc=\"mean\"),\n",
    "    mean_combined_mpg=pd.NamedAgg(column=\"combined_mpg\", aggfunc=\"mean\"),\n",
    ")\n",
    "tb_agg_year"
   ]
  },
  {
   "cell_type": "markdown",
   "metadata": {},
   "source": [
    "No código acima utilizamos um **named aggregation** para criar nossa tabela agregada. Poderíamos ter feito a mesma operação com uma agregação mais simples:"
   ]
  },
  {
   "cell_type": "code",
   "execution_count": null,
   "metadata": {},
   "outputs": [],
   "source": [
    "# EXERCICIO"
   ]
  },
  {
   "cell_type": "markdown",
   "metadata": {},
   "source": [
    "Vamos utilizar um gráfico simples para visualizar melhor essa evolução de eficiência:"
   ]
  },
  {
   "cell_type": "code",
   "execution_count": null,
   "metadata": {},
   "outputs": [],
   "source": [
    "plt.plot(tb_agg_year)"
   ]
  },
  {
   "cell_type": "markdown",
   "metadata": {},
   "source": [
    "### Investigando anomalias\n",
    "\n",
    "Aparentemente a eficiência cresceu ao longo dos anos para as três variáveis. O gráfico acima tem duas peculiaridades: \n",
    "\n",
    "1. O primeiro ano apresenta uma eficiência muito menor que o segundo;\n",
    "1. O último ano apresentou uma reversão na tendência de crescimento da eficiência.\n",
    "\n",
    "Um problema de utilizar a **média** como agregador é a sensibilidade desta ao número de pontos que a compõe. Vamos analisar quanto automóveis temos em cada ano para determinar se está é a causa das anomalias acima."
   ]
  },
  {
   "cell_type": "code",
   "execution_count": null,
   "metadata": {},
   "outputs": [],
   "source": [
    "plt.plot(tb_veic.groupby('year')['make'].count())"
   ]
  },
  {
   "cell_type": "markdown",
   "metadata": {},
   "source": [
    "Embora o número de automóveis apresente grande variação ano a ano, entre 1986 (terceiro ano) e 2015 (penúltimo ano), essa variação é continua (não temos saltos de ano a ano). Entretanto antes de 1986 e em 2016 temos discontinuidades (saltos). Isso pode indicar problemas na coleta de dados - algo muito comum nas *fronteiras* de um conjunto de dados.\n",
    "\n",
    "Vamos limpar esses anos para tornar nossa análise mais assertiva."
   ]
  },
  {
   "cell_type": "code",
   "execution_count": null,
   "metadata": {},
   "outputs": [],
   "source": [
    "mask_ano = (tb_veic['year'] >= 1986) & (tb_veic['year'] <= 2015)\n",
    "tb_veic = tb_veic[mask_ano]\n",
    "tb_agg_year = tb_veic.groupby(by=\"year\").agg(\n",
    "    mean_city_mpg=pd.NamedAgg(column=\"city_mpg\", aggfunc=\"mean\"),\n",
    "    mean_highway_mpg=pd.NamedAgg(column=\"highway_mpg\", aggfunc=\"mean\"),\n",
    "    mean_combined_mpg=pd.NamedAgg(column=\"combined_mpg\", aggfunc=\"mean\"),\n",
    ")\n",
    "plt.plot(tb_agg_year)"
   ]
  },
  {
   "cell_type": "markdown",
   "metadata": {},
   "source": [
    "## Aprofundando a análise\n",
    "\n",
    "A análise acima conclui que a eficiência dos **automóveis** aumentou ao longo dos anos. No entanto, automóveis não são **motores**. Pode ser que os motores tenham se tornado menos potentes ao longo dos anos, e, por consequencia, os automóveis tornaram-se mais eficientes. \n",
    "\n",
    "Formulamos uma segunda hipótese: *os motores dos automóveis diminuiram em potência ao longo dos anos, levando a um aumento na eficiência geral*.\n",
    "\n",
    "Qual variável podemos utilizar para medir a potência de um motor? Temos duas possíveis: o # de cilindros e a cilindrada (volume de deslocamento do motor). Podemos encontrar essas medidas nas variáveis `cylinders` e `engine_displacement`."
   ]
  },
  {
   "cell_type": "code",
   "execution_count": null,
   "metadata": {},
   "outputs": [],
   "source": [
    "tb_veic[['cylinders', 'engine_displacement']].describe()"
   ]
  },
  {
   "cell_type": "markdown",
   "metadata": {},
   "source": [
    "Estas duas variáveis são numéricas, mas como discutimos antes, variáveis numéricas muitas vezes são **variáveis categóricas** (deveriam ser `strings`). Vamos olhar quantos valores distintos cada uma dessas variáveis assume em nosso conjunto de dados:"
   ]
  },
  {
   "cell_type": "code",
   "execution_count": null,
   "metadata": {},
   "outputs": [],
   "source": [
    "tb_veic['engine_displacement'].value_counts()"
   ]
  },
  {
   "cell_type": "code",
   "execution_count": null,
   "metadata": {},
   "outputs": [],
   "source": [
    "tb_veic['cylinders'].value_counts()"
   ]
  },
  {
   "cell_type": "markdown",
   "metadata": {},
   "source": [
    "A variável `cylinders` parece ser categórica (o que faz sentido, afinal o # de cilindros é um inteiro, e em geral entre 4, 6 e 8). Já a variável `engine_displacement` parece ser mais continua (embora exista uma concentração de observações nos valores mais comuns como 2.0 e 3.0).\n",
    "\n",
    "Vamos tratar a variável cilindros mantendo apenas os casos mais comuns (4, 6 e 8) e utilizar a função `pd.qcut()` para discretizar a variável `engine_displacement`."
   ]
  },
  {
   "cell_type": "code",
   "execution_count": null,
   "metadata": {},
   "outputs": [],
   "source": [
    "mask_cyl = tb_veic['cylinders'].isin([4, 6, 8])\n",
    "tb_veic = tb_veic[mask_cyl].copy()\n",
    "tb_veic['cat_ed'] = pd.qcut(tb_veic['engine_displacement'], 4, ['a', 'b', 'c', 'd'])"
   ]
  },
  {
   "cell_type": "code",
   "execution_count": null,
   "metadata": {},
   "outputs": [],
   "source": [
    "plt.plot(tb_veic.loc[tb_veic['cylinders'] == 4, 'year'].value_counts().sort_index())"
   ]
  },
  {
   "cell_type": "markdown",
   "metadata": {},
   "source": [
    "Parece que temos algo: o crescimento de eficiência observado a partir 2005 é diretamente correlato ao aumento no # de automóveis com motores v4. Vamos construir a mesma séries para os automóveis v6 e v8."
   ]
  },
  {
   "cell_type": "code",
   "execution_count": null,
   "metadata": {},
   "outputs": [],
   "source": [
    "tb_year_cyl4 = tb_veic.loc[tb_veic['cylinders'] == 4, 'year'].value_counts().sort_index().reset_index()\n",
    "tb_year_cyl4.head()"
   ]
  },
  {
   "cell_type": "code",
   "execution_count": null,
   "metadata": {},
   "outputs": [],
   "source": [
    "tb_year_cyl4.columns = ['year', 'n_4cyl']\n",
    "tb_year_cyl4.head()"
   ]
  },
  {
   "cell_type": "markdown",
   "metadata": {},
   "source": [
    "Agora vamos consolidar a criação das 3 séries em um celula só (clareza de código)..."
   ]
  },
  {
   "cell_type": "code",
   "execution_count": null,
   "metadata": {},
   "outputs": [],
   "source": [
    "tb_year_cyl4 = tb_veic.loc[tb_veic['cylinders'] == 4, 'year'].value_counts().sort_index().reset_index()\n",
    "tb_year_cyl4.columns = ['year', 'n_4cyl']\n",
    "tb_year_cyl6 = tb_veic.loc[tb_veic['cylinders'] == 6, 'year'].value_counts().sort_index().reset_index()\n",
    "tb_year_cyl6.columns = ['year', 'n_6cyl']\n",
    "tb_year_cyl8 = tb_veic.loc[tb_veic['cylinders'] == 8, 'year'].value_counts().sort_index().reset_index()\n",
    "tb_year_cyl8.columns = ['year', 'n_8cyl']\n"
   ]
  },
  {
   "cell_type": "markdown",
   "metadata": {},
   "source": [
    "... e utilizar um merge para junta-las em uma tabela única:"
   ]
  },
  {
   "cell_type": "code",
   "execution_count": null,
   "metadata": {},
   "outputs": [],
   "source": [
    "tb_year_cyl = tb_year_cyl4\\\n",
    "    .merge(tb_year_cyl6, on = 'year', how = 'left')\\\n",
    "    .merge(tb_year_cyl8, on = 'year', how = 'left')\n",
    "tb_year_cyl.head()"
   ]
  },
  {
   "cell_type": "code",
   "execution_count": null,
   "metadata": {},
   "outputs": [],
   "source": [
    "plt.plot(tb_year_cyl[['n_4cyl', 'n_6cyl', 'n_8cyl']])"
   ]
  },
  {
   "cell_type": "markdown",
   "metadata": {},
   "source": [
    "Podemos fazer isso de uma maneira muito mais simples! Ainda mais se a nossa categoria tivesse muitos níveis. Como?"
   ]
  },
  {
   "cell_type": "code",
   "execution_count": null,
   "metadata": {},
   "outputs": [],
   "source": [
    "# EXERCICIO"
   ]
  },
  {
   "cell_type": "code",
   "execution_count": null,
   "metadata": {},
   "outputs": [],
   "source": [
    "tb_year_motor = tb_year_cyl.copy()\n",
    "for cat in tb_veic['cat_ed'].unique():\n",
    "    tb_year_ed = tb_veic.loc[tb_veic['cat_ed'] == cat, 'year'].value_counts().sort_index().reset_index()\n",
    "    tb_year_ed.columns = ['year', f'n_ed{cat}']\n",
    "    tb_year_motor = tb_year_motor.merge(tb_year_ed, on = 'year', how = 'left')\n",
    "tb_year_motor"
   ]
  },
  {
   "cell_type": "code",
   "execution_count": null,
   "metadata": {},
   "outputs": [],
   "source": [
    "plt.plot(tb_year_motor[['n_eda', 'n_edb', 'n_edc', 'n_edd']])"
   ]
  },
  {
   "cell_type": "markdown",
   "metadata": {},
   "source": [
    "A evolução das categorias de cilindrada é muito semelhante à evolução do # de cilindros: inicialmente temos um aumento no tamanho dos motores e, após 20005, uma reversão dessa tendência com um aumento do número de automóveis com motores menores."
   ]
  },
  {
   "cell_type": "markdown",
   "metadata": {},
   "source": [
    "## Combinando Hipóteses\n",
    "\n",
    "Até agora nossa análise nos mostrou duas coisas:\n",
    "\n",
    "1. A eficiência de consumo dos **automóveis** cresceu ao longo dos anos, em especial de 2005 à 2015;\n",
    "1. O tamanho dos motores incialmente cresce mas, após 2005, encolhe novamente.\n",
    "\n",
    "Uma forma de combinar essas hipóteses é analisando a evolução da eficiência de consumo para cada uma das categorias que criamos de cilindradas."
   ]
  },
  {
   "cell_type": "code",
   "execution_count": null,
   "metadata": {},
   "outputs": [],
   "source": [
    "tb_eff_ed = tb_veic.groupby(['year', 'cat_ed'])['city_mpg'].mean().reset_index()\n",
    "tb_eff_ed.head()"
   ]
  },
  {
   "cell_type": "code",
   "execution_count": null,
   "metadata": {},
   "outputs": [],
   "source": [
    "tb_eff_ed.loc[tb_eff_ed['cat_ed'] == 'a', 'city_mpg']"
   ]
  },
  {
   "cell_type": "code",
   "execution_count": null,
   "metadata": {},
   "outputs": [],
   "source": [
    "plt.plot(tb_eff_ed.loc[tb_eff_ed['cat_ed'] == 'a', 'city_mpg'])\n",
    "plt.plot(tb_eff_ed.loc[tb_eff_ed['cat_ed'] == 'b', 'city_mpg'])\n",
    "plt.plot(tb_eff_ed.loc[tb_eff_ed['cat_ed'] == 'c', 'city_mpg'])\n",
    "plt.plot(tb_eff_ed.loc[tb_eff_ed['cat_ed'] == 'd', 'city_mpg'])"
   ]
  },
  {
   "cell_type": "markdown",
   "metadata": {},
   "source": [
    "# Análise II - O que permite um animal sonhar?\n",
    "\n",
    "A tabela `tb_sleep` contém informações muito interessantes que nos permitem estudar sob quas condições (ecológicas e constitucionais) um animal pode sonhar (ou em quais condições um animal pode sonhar mais). Vamos investigar juntos essas condições - buscando entender o impacto dos fatores ecológicos e constitucionais sobre a capacidade de um animal sonhar.\n",
    "\n",
    "Para começar, precisamos determinar qual será a nossa variável resposta: qual variável (ou transformação de variável!) vamos utilizar para representar a capacidade de um animal sonhar. Depois precisamos formular um hipótese clara e objetiva sobre as diferentes variáveis (ou transformação de variáveis!) que queremos avaliar."
   ]
  },
  {
   "cell_type": "code",
   "execution_count": null,
   "metadata": {},
   "outputs": [],
   "source": [
    "tb_animals = pd.read_csv('http://www.statsci.org/data/general/sleep.txt', sep='\\t')\n",
    "tb_animals.head()"
   ]
  },
  {
   "cell_type": "code",
   "execution_count": null,
   "metadata": {},
   "outputs": [],
   "source": []
  }
 ],
 "metadata": {
  "kernelspec": {
   "display_name": "Python 3.8.9 64-bit",
   "language": "python",
   "name": "python3"
  },
  "language_info": {
   "codemirror_mode": {
    "name": "ipython",
    "version": 3
   },
   "file_extension": ".py",
   "mimetype": "text/x-python",
   "name": "python",
   "nbconvert_exporter": "python",
   "pygments_lexer": "ipython3",
   "version": "3.8.9"
  },
  "orig_nbformat": 4,
  "vscode": {
   "interpreter": {
    "hash": "31f2aee4e71d21fbe5cf8b01ff0e069b9275f58929596ceb00d14d90e3e16cd6"
   }
  }
 },
 "nbformat": 4,
 "nbformat_minor": 2
}
