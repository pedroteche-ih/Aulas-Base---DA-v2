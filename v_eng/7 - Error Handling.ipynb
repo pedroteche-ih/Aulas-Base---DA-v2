{
 "cells": [
  {
   "cell_type": "markdown",
   "metadata": {},
   "source": [
    "# Error Handling\n",
    "\n",
    "* `Exceptions`: objects returned by Python to indicate a fatal error.\n",
    "\n",
    "**Tips for interpreting error (debugging)**: \n",
    "\n",
    "1. **At the end of the erro log** we have the `exception` that caused the error.\n",
    "2. Right after the `exception`, we have the specific problem that raised it.\n",
    "3. Above the `exception` we have the error log with the exact position of the error.\n",
    "\n",
    "## Error Types\n",
    "\n",
    "### `SyntaxError`"
   ]
  },
  {
   "cell_type": "code",
   "execution_count": null,
   "metadata": {},
   "outputs": [],
   "source": [
    "print('Error!'"
   ]
  },
  {
   "cell_type": "code",
   "execution_count": null,
   "metadata": {},
   "outputs": [],
   "source": [
    "print('Error!'))"
   ]
  },
  {
   "cell_type": "code",
   "execution_count": null,
   "metadata": {},
   "outputs": [],
   "source": [
    "lista = [1,2,3]]"
   ]
  },
  {
   "cell_type": "code",
   "execution_count": null,
   "metadata": {},
   "outputs": [],
   "source": [
    "1 ˆ 3"
   ]
  },
  {
   "cell_type": "markdown",
   "metadata": {},
   "source": [
    "### `ModuleNotFoundError`"
   ]
  },
  {
   "cell_type": "code",
   "execution_count": null,
   "metadata": {
    "ExecuteTime": {
     "end_time": "2020-07-23T00:16:46.885092Z",
     "start_time": "2020-07-23T00:16:46.878094Z"
    }
   },
   "outputs": [
    {
     "ename": "",
     "evalue": "",
     "output_type": "error",
     "traceback": [
      "\u001b[1;31mRunning cells with 'Python 3.9.6 64-bit' requires ipykernel package.\n",
      "\u001b[1;31mRun the following command to install 'ipykernel' into the Python environment. \n",
      "\u001b[1;31mCommand: '/usr/bin/python3 -m pip install ipykernel -U --user --force-reinstall'"
     ]
    }
   ],
   "source": [
    "import rre\n",
    "string = 'This will raise'\n",
    "pattern = 'an'\n",
    "re.findall(string, pattern)"
   ]
  },
  {
   "cell_type": "markdown",
   "metadata": {},
   "source": [
    "### `NameError`"
   ]
  },
  {
   "cell_type": "code",
   "execution_count": null,
   "metadata": {},
   "outputs": [],
   "source": [
    "string_1 = 'This will raise exception'\n",
    "print(string)"
   ]
  },
  {
   "cell_type": "markdown",
   "metadata": {},
   "source": [
    "One way this frequently happens is through scoping:"
   ]
  },
  {
   "cell_type": "code",
   "execution_count": null,
   "metadata": {},
   "outputs": [],
   "source": [
    "def funcao_escopo():\n",
    "    x_local = 1\n",
    "    return x_local\n",
    "\n",
    "print(x_local)"
   ]
  },
  {
   "cell_type": "markdown",
   "metadata": {},
   "source": [
    "Errors inside functions (except syntax errors) will only break when we attemp to call the function:"
   ]
  },
  {
   "cell_type": "code",
   "execution_count": null,
   "metadata": {},
   "outputs": [
    {
     "ename": "",
     "evalue": "",
     "output_type": "error",
     "traceback": [
      "\u001b[1;31mRunning cells with 'Python 3.9.6 64-bit' requires ipykernel package.\n",
      "\u001b[1;31mRun the following command to install 'ipykernel' into the Python environment. \n",
      "\u001b[1;31mCommand: '/usr/bin/python3 -m pip install ipykernel -U --user --force-reinstall'"
     ]
    }
   ],
   "source": [
    "def funcao_escopo():\n",
    "    return x_nao_e_local"
   ]
  },
  {
   "cell_type": "code",
   "execution_count": null,
   "metadata": {},
   "outputs": [],
   "source": [
    "funcao_escopo()"
   ]
  },
  {
   "cell_type": "markdown",
   "metadata": {},
   "source": [
    "### `TypeError`"
   ]
  },
  {
   "cell_type": "code",
   "execution_count": null,
   "metadata": {
    "ExecuteTime": {
     "end_time": "2020-07-23T00:34:12.548707Z",
     "start_time": "2020-07-23T00:34:12.545708Z"
    }
   },
   "outputs": [],
   "source": [
    "1 + '1'"
   ]
  },
  {
   "cell_type": "code",
   "execution_count": null,
   "metadata": {},
   "outputs": [],
   "source": [
    "x = 1\n",
    "y = '2'\n",
    "x + y"
   ]
  },
  {
   "cell_type": "code",
   "execution_count": null,
   "metadata": {},
   "outputs": [],
   "source": [
    "erro_tipo = 'Erro!'\n",
    "erro_tipo()"
   ]
  },
  {
   "cell_type": "code",
   "execution_count": null,
   "metadata": {},
   "outputs": [],
   "source": [
    "i = '1'\n",
    "lista_exemplo = [1, 2, 3]\n",
    "lista_exemplo[i]"
   ]
  },
  {
   "cell_type": "code",
   "execution_count": null,
   "metadata": {},
   "outputs": [],
   "source": [
    "for i in 10:\n",
    "    print(i)"
   ]
  },
  {
   "cell_type": "markdown",
   "metadata": {},
   "source": [
    "### `ZeroDivisionError`"
   ]
  },
  {
   "cell_type": "code",
   "execution_count": null,
   "metadata": {},
   "outputs": [],
   "source": [
    "1/0"
   ]
  },
  {
   "cell_type": "code",
   "execution_count": null,
   "metadata": {
    "ExecuteTime": {
     "end_time": "2020-07-23T00:56:23.048120Z",
     "start_time": "2020-07-23T00:56:23.042120Z"
    }
   },
   "outputs": [],
   "source": [
    "for i in [10, 0, 3, 0]:\n",
    "    print(10/i)"
   ]
  },
  {
   "cell_type": "markdown",
   "metadata": {},
   "source": [
    "### `IndexError` & `KeyError`"
   ]
  },
  {
   "cell_type": "code",
   "execution_count": null,
   "metadata": {},
   "outputs": [],
   "source": [
    "erro_lista = [1, 2, 3]\n",
    "erro_lista[4]"
   ]
  },
  {
   "cell_type": "code",
   "execution_count": null,
   "metadata": {},
   "outputs": [],
   "source": [
    "for i in range(4):\n",
    "    print(erro_lista[i] + i)"
   ]
  },
  {
   "cell_type": "code",
   "execution_count": null,
   "metadata": {},
   "outputs": [],
   "source": [
    "erro_dict = dict()\n",
    "erro_dict['beringela'] = 10"
   ]
  },
  {
   "cell_type": "code",
   "execution_count": null,
   "metadata": {},
   "outputs": [],
   "source": [
    "erro_dict['feijao']"
   ]
  },
  {
   "cell_type": "markdown",
   "metadata": {},
   "source": [
    "## Treating errors\n",
    "### Using if conditionals"
   ]
  },
  {
   "cell_type": "code",
   "execution_count": null,
   "metadata": {
    "ExecuteTime": {
     "end_time": "2020-07-23T00:57:52.766827Z",
     "start_time": "2020-07-23T00:57:52.763792Z"
    }
   },
   "outputs": [],
   "source": [
    "def safe_division(x, y):\n",
    "    if y != 0:\n",
    "        return x/y\n",
    "    else:\n",
    "        return 'Error in division, y == 0!'\n",
    "\n",
    "for i in range(10):\n",
    "    print(safe_division(10, i))"
   ]
  },
  {
   "cell_type": "markdown",
   "metadata": {},
   "source": [
    "### The keyword raise `raise`\n",
    "\n",
    "**Syntax**\n",
    "```python\n",
    "raise TipeOfException('Message we want to leave the user.')\n",
    "```"
   ]
  },
  {
   "cell_type": "code",
   "execution_count": null,
   "metadata": {
    "ExecuteTime": {
     "end_time": "2020-07-23T01:03:31.539681Z",
     "start_time": "2020-07-23T01:03:31.536679Z"
    }
   },
   "outputs": [],
   "source": [
    "def even_number(numero):\n",
    "    numero = int(numero)\n",
    "    if numero % 2 != 0:\n",
    "        raise TypeError('The number is not even!')\n",
    "    else:\n",
    "        print('This number is even')"
   ]
  },
  {
   "cell_type": "code",
   "execution_count": null,
   "metadata": {},
   "outputs": [],
   "source": [
    "even_number(3)"
   ]
  },
  {
   "cell_type": "markdown",
   "metadata": {},
   "source": [
    "### *catching* `Exceptions`\n",
    "\n",
    "**Sintáxe**\n",
    "```python\n",
    "try:\n",
    "    intended block of code\n",
    "except:\n",
    "    what to do in case of an error\n",
    "```\n",
    "\n",
    "ou, mais apropriadamente:\n",
    "\n",
    "```python\n",
    "try:\n",
    "    intended block of code\n",
    "except ErrorType:\n",
    "    what to do in case of an error of type ErrorType\n",
    "```\n",
    "\n"
   ]
  },
  {
   "cell_type": "code",
   "execution_count": null,
   "metadata": {
    "ExecuteTime": {
     "end_time": "2020-07-23T01:08:28.930737Z",
     "start_time": "2020-07-23T01:08:28.927736Z"
    }
   },
   "outputs": [],
   "source": [
    "def calcular_soma(lista):\n",
    "    '''\n",
    "    Calcula a soma dos elementos de uma lista.\n",
    "    '''\n",
    "    try:\n",
    "        soma = 0\n",
    "        for elemento in lista:\n",
    "            soma += elemento\n",
    "        return soma\n",
    "    except:\n",
    "        return None\n",
    "        "
   ]
  },
  {
   "cell_type": "code",
   "execution_count": null,
   "metadata": {},
   "outputs": [],
   "source": [
    "a = calcular_soma([1,2,'zero'])"
   ]
  },
  {
   "cell_type": "code",
   "execution_count": null,
   "metadata": {},
   "outputs": [],
   "source": [
    "def calcular_soma(lista):\n",
    "    '''\n",
    "    Calcula a soma dos elementos de uma lista.\n",
    "    '''\n",
    "    try:\n",
    "        soma = 0\n",
    "        for elemento in lista:\n",
    "            soma += elemento\n",
    "        return soma\n",
    "    except TypeError as e:\n",
    "        print(f'Something went wrong: {e}!')\n",
    "        return 0"
   ]
  },
  {
   "cell_type": "markdown",
   "metadata": {},
   "source": [
    "#### Multiple `try` blocks"
   ]
  },
  {
   "cell_type": "code",
   "execution_count": null,
   "metadata": {},
   "outputs": [],
   "source": [
    "def dividir_por_lista(x, lista_denominadores):\n",
    "    '''\n",
    "    Cria uma lista de X/denominador, onde cada elemento da lista_denominadores é um dos denominadores\n",
    "    Parameters:\n",
    "        x Numeric: numerador das divisões.\n",
    "        lista_denominadores List: lista de denominadores.\n",
    "    Returns:\n",
    "        list: lista com o resultado da divisão de x por cada um dos elementos da lista_denominadores.\n",
    "    '''\n",
    "    lista_divisao = [x/denominador for denominador in lista_denominadores]\n",
    "    return lista_divisao"
   ]
  },
  {
   "cell_type": "markdown",
   "metadata": {},
   "source": [
    "### Contexts in `try/except`\n",
    "\n",
    "* `try:` what we *want* to run;\n",
    "* `except:` what we *want to run in case of an error* in the `try` block;\n",
    "* `else:` what we *want to run after the `try` block when it executes*;\n",
    "* `finally:` what we *always want to run, independent of the success/failure on the `try` block.\n"
   ]
  },
  {
   "cell_type": "code",
   "execution_count": 15,
   "metadata": {
    "ExecuteTime": {
     "end_time": "2020-07-23T01:11:23.864674Z",
     "start_time": "2020-07-23T01:11:23.859673Z"
    }
   },
   "outputs": [
    {
     "name": "stdout",
     "output_type": "stream",
     "text": [
      "10.0\n",
      "Deu tudo certo!\n"
     ]
    }
   ],
   "source": [
    "x = 10\n",
    "y = 1\n",
    "try:\n",
    "    print(x/y)\n",
    "except ZeroDivisionError:\n",
    "    print('Divisão por zero! Ou qualquer outro erro...')\n",
    "else:\n",
    "    print('Deu tudo certo!')"
   ]
  },
  {
   "cell_type": "code",
   "execution_count": null,
   "metadata": {},
   "outputs": [],
   "source": [
    "x = 10\n",
    "y = 1\n",
    "try:\n",
    "    print(x/y)\n",
    "except ZeroDivisionError:\n",
    "    print('Divisão por zero! Ou qualquer outro erro...')\n",
    "else:\n",
    "    print(x/(y-1))"
   ]
  },
  {
   "cell_type": "code",
   "execution_count": null,
   "metadata": {
    "ExecuteTime": {
     "end_time": "2020-07-23T01:15:26.040461Z",
     "start_time": "2020-07-23T01:15:26.036459Z"
    }
   },
   "outputs": [],
   "source": [
    "x = 10\n",
    "y = 0\n",
    "try:\n",
    "    print(x/y)\n",
    "except:\n",
    "    print('Divisão por zero! Ou qualquer outro erro...')\n",
    "else:\n",
    "    print('Deu tudo certo!')\n",
    "finally:\n",
    "    print('Acabou!')"
   ]
  },
  {
   "cell_type": "code",
   "execution_count": 1,
   "metadata": {},
   "outputs": [],
   "source": [
    "word_list = ['and', 'the']"
   ]
  },
  {
   "cell_type": "code",
   "execution_count": 2,
   "metadata": {},
   "outputs": [
    {
     "data": {
      "text/plain": [
       "['and', 'the']"
      ]
     },
     "execution_count": 2,
     "metadata": {},
     "output_type": "execute_result"
    }
   ],
   "source": [
    "word_list"
   ]
  }
 ],
 "metadata": {
  "kernelspec": {
   "display_name": "Python 3.9.11 ('base')",
   "language": "python",
   "name": "python3"
  },
  "language_info": {
   "codemirror_mode": {
    "name": "ipython",
    "version": 3
   },
   "file_extension": ".py",
   "mimetype": "text/x-python",
   "name": "python",
   "nbconvert_exporter": "python",
   "pygments_lexer": "ipython3",
   "version": "3.9.11"
  },
  "toc": {
   "base_numbering": 1,
   "nav_menu": {},
   "number_sections": true,
   "sideBar": true,
   "skip_h1_title": false,
   "title_cell": "Table of Contents",
   "title_sidebar": "Contents",
   "toc_cell": false,
   "toc_position": {},
   "toc_section_display": true,
   "toc_window_display": false
  },
  "varInspector": {
   "cols": {
    "lenName": 16,
    "lenType": 16,
    "lenVar": 40
   },
   "kernels_config": {
    "python": {
     "delete_cmd_postfix": "",
     "delete_cmd_prefix": "del ",
     "library": "var_list.py",
     "varRefreshCmd": "print(var_dic_list())"
    },
    "r": {
     "delete_cmd_postfix": ") ",
     "delete_cmd_prefix": "rm(",
     "library": "var_list.r",
     "varRefreshCmd": "cat(var_dic_list()) "
    }
   },
   "types_to_exclude": [
    "module",
    "function",
    "builtin_function_or_method",
    "instance",
    "_Feature"
   ],
   "window_display": false
  },
  "vscode": {
   "interpreter": {
    "hash": "014f4a4a5af8f0104b12c029e500f4146d6d785e8cf714d2a35b7a9514230cd3"
   }
  }
 },
 "nbformat": 4,
 "nbformat_minor": 4
}
