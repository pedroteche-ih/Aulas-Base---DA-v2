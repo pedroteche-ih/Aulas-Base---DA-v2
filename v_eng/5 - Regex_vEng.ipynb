{
 "cells": [
  {
   "cell_type": "markdown",
   "metadata": {},
   "source": [
    "# REGular EXpression - INTRO TO REGEX"
   ]
  },
  {
   "cell_type": "code",
   "execution_count": null,
   "metadata": {},
   "outputs": [],
   "source": [
    "# Importe a biblioteca!!\n",
    "import re"
   ]
  },
  {
   "cell_type": "markdown",
   "metadata": {},
   "source": [
    "1. `re.search`: Finds the first match and returns it;\n",
    "2. `re.findall`: Returns a list with all matches;\n",
    "4. `re.sub`: Replaces a pattern with a string.\n",
    "\n",
    "Visualizando REGEXs: https://regexper.com/"
   ]
  },
  {
   "cell_type": "markdown",
   "metadata": {},
   "source": [
    "## `findall()` Function"
   ]
  },
  {
   "cell_type": "code",
   "execution_count": null,
   "metadata": {},
   "outputs": [],
   "source": [
    "text = 'My neighbor, mr. Paw, has 5 dogs.'\n",
    "pattern = 'neighbor'\n",
    "\n",
    "re.findall(pattern, text)"
   ]
  },
  {
   "cell_type": "code",
   "execution_count": null,
   "metadata": {},
   "outputs": [],
   "source": [
    "text = 'My neighbor, mr. Dog, has 5 dogs.'\n",
    "pattern = 'nei'\n",
    "\n",
    "re.findall(pattern, text)"
   ]
  },
  {
   "cell_type": "code",
   "execution_count": null,
   "metadata": {},
   "outputs": [],
   "source": [
    "text = 'My neighbor, mr. Paw, has 5 dogs and each one has 4 paws'\n",
    "pattern_2 = 'NEIGHBOR'\n",
    "\n",
    "re.findall(pattern_2, text)"
   ]
  },
  {
   "cell_type": "code",
   "execution_count": null,
   "metadata": {},
   "outputs": [],
   "source": [
    "text = 'My neighbor, mr. Paw, has 5 dogs and each one has 4 paws'\n",
    "pattern_3 = 'e'\n",
    "\n",
    "re.findall(pattern_3, text)"
   ]
  },
  {
   "cell_type": "markdown",
   "metadata": {},
   "source": [
    "### Application I"
   ]
  },
  {
   "cell_type": "code",
   "execution_count": null,
   "metadata": {},
   "outputs": [],
   "source": [
    "# Extrair todas as colunas da T1\n",
    "lista_colunas = ['T1_id', 'T1_nome', 'T1_id_fatura', 'T1_cd_sku', 'T2_cd_promo', 'T3_qt_vendido', 'T4_vl_total', \n",
    "                 'T5_vl_custo', 'T1_tipo_frete', 'T1_rua', 'T1_num', 'T1_cep', 'T1_cidade', 'T1_uf',\n",
    "                 'T1_vl_frete', 'T2_tp_promo', 'T3_vl_promo', 'T4_vl_sv', 'T5_qt_doado']\n"
   ]
  },
  {
   "cell_type": "code",
   "execution_count": null,
   "metadata": {},
   "outputs": [],
   "source": [
    "re.findall('T1_', ' '.join(lista_colunas))"
   ]
  },
  {
   "cell_type": "code",
   "execution_count": null,
   "metadata": {},
   "outputs": [],
   "source": [
    "lista_t1 = []\n",
    "for coluna in lista_colunas:\n",
    "    pattern = 'T1_'\n",
    "    if re.findall(pattern, coluna):\n",
    "        lista_t1.append(coluna)\n",
    "        \n",
    "print(lista_t1)"
   ]
  },
  {
   "cell_type": "markdown",
   "metadata": {},
   "source": [
    "## Complex Patterns\n",
    "\n",
    "### Operator '|' - OR"
   ]
  },
  {
   "cell_type": "code",
   "execution_count": null,
   "metadata": {},
   "outputs": [],
   "source": [
    "text = 'My neighbor, mr. Paw, has 5 dogs and each one has 4 paws'\n",
    "pattern = 'dog|paw'\n",
    "\n",
    "re.findall(pattern, text)"
   ]
  },
  {
   "cell_type": "markdown",
   "metadata": {},
   "source": [
    "Selecting T1 or T4 columns:"
   ]
  },
  {
   "cell_type": "code",
   "execution_count": null,
   "metadata": {},
   "outputs": [],
   "source": [
    "lista_colunas = ['T1_id', 'T1_nome', '       T1_id_fatura', 'T1_cd_sku', 'T2_cd_promo', 'T3_qt_vendido', 'T4_vl_total', \n",
    "                 'T5_vl_custo', 'T1_tipo_frete', 'T1_rua', '  T1_num', '    T1_cep', 'T1_cidade', 'T1_uf',\n",
    "                 'T1_vl_frete', '     T2_tp_promo4', '  T3_vl_promo1', 'T4_vl_sv', 'T5_qt_doado']"
   ]
  },
  {
   "cell_type": "code",
   "execution_count": null,
   "metadata": {},
   "outputs": [],
   "source": [
    "pattern = 'T1|T4'\n",
    "colunas_final = []\n",
    "\n",
    "for coluna in lista_colunas:\n",
    "    if re.findall(pattern, coluna):\n",
    "        colunas_final.append(coluna)\n",
    "\n",
    "print(colunas_final)"
   ]
  },
  {
   "cell_type": "markdown",
   "metadata": {},
   "source": [
    "### Sets"
   ]
  },
  {
   "cell_type": "code",
   "execution_count": null,
   "metadata": {},
   "outputs": [],
   "source": [
    "text = 'My neighbor, mr. Paw, has 5 dogs and each one has 4 paws.'\n",
    "pattern = '[Pp][Aa][Ww]'\n",
    "\n",
    "re.findall(pattern, text)"
   ]
  },
  {
   "cell_type": "code",
   "execution_count": null,
   "metadata": {},
   "outputs": [],
   "source": [
    "text = 'Meu mEU MeUDEOS'\n",
    "pattern = '[Mm][Ee][Uu]'\n",
    "\n",
    "re.findall(pattern, text)"
   ]
  },
  {
   "cell_type": "code",
   "execution_count": null,
   "metadata": {},
   "outputs": [],
   "source": [
    "text = 'My neighbor, mr. Paw, has 5 dogs and each one has 4 paws'\n",
    "pattern = '[Pp]aw'\n",
    "\n",
    "re.findall(pattern, text)"
   ]
  },
  {
   "cell_type": "code",
   "execution_count": null,
   "metadata": {},
   "outputs": [],
   "source": [
    "text = 'Patas pata pAta fAta fAca'\n",
    "pattern = '[pPasdfaaPPpa2][Aa][ct]a'\n",
    "\n",
    "re.findall(pattern, text)"
   ]
  },
  {
   "cell_type": "code",
   "execution_count": null,
   "metadata": {},
   "outputs": [],
   "source": [
    "text = 'My neighbor, mr. Paw, has 5 dogs and each one has 4 paws'\n",
    "pattern = '[Pp]aw|dog'\n",
    "re.findall(pattern, text)"
   ]
  },
  {
   "cell_type": "markdown",
   "metadata": {},
   "source": [
    "#### Application II"
   ]
  },
  {
   "cell_type": "code",
   "execution_count": null,
   "metadata": {},
   "outputs": [],
   "source": [
    "# Extrair todas as colunas da T1 ou da T2\n",
    "lista_colunas = ['T1_id', 't1_nome', 'T1_id_fatura', 't1_cd_sku', 'T2_cd_promo', 'T3_qt_vendido', 'T4_vl_total', \n",
    "                 'T5_vl_custo', 'T1_tipo_frete', 'T1_rua', 'T1_num', 'T1_cep', 'T1_cidade', 'T1_uf',\n",
    "                 'T1_vl_frete', 't2_tp_promo', 'T3_vl_promo', 'T4_vl_sv', 'T5_qt_doado']\n"
   ]
  },
  {
   "cell_type": "code",
   "execution_count": null,
   "metadata": {},
   "outputs": [],
   "source": [
    "lista_colunas_T1T2 = []\n",
    "for coluna in lista_colunas:\n",
    "    if re.findall('[Tt][12]', coluna):\n",
    "        lista_colunas_T1T2.append(coluna)\n",
    "print(lista_colunas_T1T2)"
   ]
  },
  {
   "cell_type": "markdown",
   "metadata": {},
   "source": [
    "## `sub()` Function"
   ]
  },
  {
   "cell_type": "code",
   "execution_count": null,
   "metadata": {},
   "outputs": [],
   "source": [
    "text = 'My neighbor, mr. Paw, has 5 dogs and each one has 4 paws'\n",
    "pattern = '[Pp]aw'\n",
    "nova_pattern = 'Pedro'\n",
    "print(re.sub(pattern, nova_pattern, text))"
   ]
  },
  {
   "cell_type": "markdown",
   "metadata": {},
   "source": [
    "Podemos utilizar a função `sub()` para fazer a limpeza de strings semi-estruturados, por exemplo, nossa lista de colunas!"
   ]
  },
  {
   "cell_type": "code",
   "execution_count": null,
   "metadata": {},
   "outputs": [],
   "source": [
    "lista_colunas = ['T1_id', 't1_nome', 'T1_id_fatura', 't1_cd_sku', 'T2_cd_promo', 'T3_qt_vendido', 'T4_vl_total', \n",
    "                 'T5_vl_custo', 'T1_tipo_frete', 'T1_rua', 'T1_num', 'T1_cep', 'T1_cidade', 'T1_uf',\n",
    "                 'T1_vl_frete', 't2_tp_promo', 'T3_vl_promo', 'T4_vl_sv', 'T5_qt_doado']"
   ]
  },
  {
   "cell_type": "code",
   "execution_count": null,
   "metadata": {},
   "outputs": [],
   "source": [
    "lista_colunas_limpa = []\n",
    "pattern = '[Tt][123456789]_'\n",
    "new_pattern = ''\n",
    "for coluna in lista_colunas:\n",
    "    lista_colunas_limpa.append(re.sub(pattern, new_pattern, coluna))\n",
    "print(lista_colunas_limpa)"
   ]
  },
  {
   "cell_type": "markdown",
   "metadata": {},
   "source": [
    "## Special sets\n",
    "1. `[a-z]`: any lower case letter;\n",
    "1. `[A-Z]`: any upper case letter;\n",
    "1. `[0-9]`: any digit;\n",
    "1. `[A-Za-z]`: all letters;\n",
    "1. `[À-ž]`: all diacriticals."
   ]
  },
  {
   "cell_type": "code",
   "execution_count": null,
   "metadata": {},
   "outputs": [],
   "source": [
    "text = 'My neighbor, mr. Paw, has 5 dogs and each one has 4 paws'\n",
    "pattern = r'[A-Za-z][A-Za-z][A-Za-z]'\n",
    "re.findall(pattern, text)"
   ]
  },
  {
   "cell_type": "code",
   "execution_count": null,
   "metadata": {},
   "outputs": [],
   "source": [
    "text = 'My neighbor, mr. Paw, has 5 dogs and each one has 4 paws'\n",
    "pattern = 'p[A-Za-zÀ-ž]es'\n",
    "\n",
    "re.findall(pattern, text)"
   ]
  },
  {
   "cell_type": "markdown",
   "metadata": {},
   "source": [
    ". `^` is equivalent to NOT"
   ]
  },
  {
   "cell_type": "code",
   "execution_count": null,
   "metadata": {},
   "outputs": [],
   "source": [
    "pattern = '[^A-Za-z0-9À-ž]'\n",
    "\n",
    "re.findall(pattern, text)"
   ]
  },
  {
   "cell_type": "markdown",
   "metadata": {},
   "source": [
    "## Meta-characters\n",
    "\n",
    "1. `\\w`: any alpha-numerical character ([0-9a-ZA-ZÀ-ž])\n",
    "3. `\\d`: any digit\n",
    "7. `.` : any charecter except newline - `\\n`."
   ]
  },
  {
   "cell_type": "code",
   "execution_count": null,
   "metadata": {},
   "outputs": [],
   "source": [
    "text = 'My neighbor, mr. Paw, has 5 dogs and each one has 4 paws'\n",
    "pattern = r'\\d'\n",
    "\n",
    "print(re.findall(pattern, text))"
   ]
  },
  {
   "cell_type": "code",
   "execution_count": null,
   "metadata": {},
   "outputs": [],
   "source": [
    "text = 'My neighbor, mr. Paw, has 5 dogs and each one has 4 paws'\n",
    "pattern = r'\\w'\n",
    "\n",
    "print(re.findall(pattern, text))"
   ]
  },
  {
   "cell_type": "code",
   "execution_count": null,
   "metadata": {},
   "outputs": [],
   "source": [
    "text = 'My neighbor, mr. Paw, has 5 dogs and each one has 4 paws'\n",
    "pattern = r'.'\n",
    "\n",
    "print(re.findall(pattern, text))"
   ]
  },
  {
   "cell_type": "markdown",
   "metadata": {},
   "source": [
    "## Quantifiers\n",
    "1. `*`: 0 or more;\n",
    "2. `?`: 0 ou 1;\n",
    "3. `+`: At least one;"
   ]
  },
  {
   "cell_type": "code",
   "execution_count": null,
   "metadata": {},
   "outputs": [],
   "source": [
    "text = 'My neighbor, mr. Paw, has 5 dogs and each one has 4 paws.'\n",
    "pattern = r'[A-Za-z]*'\n",
    "\n",
    "re.findall(pattern, text)"
   ]
  },
  {
   "cell_type": "code",
   "execution_count": null,
   "metadata": {},
   "outputs": [],
   "source": [
    "text = 'My neighbor, mr. Paw, has 5 dogs and each one has 4 paws.'\n",
    "pattern = r'[A-z0-9]+'\n",
    "\n",
    "re.findall(pattern, text)"
   ]
  },
  {
   "cell_type": "code",
   "execution_count": null,
   "metadata": {},
   "outputs": [],
   "source": [
    "text = 'My neighbor, mr. Paw, has 5 dogs and each one has 4 paws.'\n",
    "pattern = r'[0-9]+'\n",
    "\n",
    "re.findall(pattern, text)"
   ]
  },
  {
   "cell_type": "markdown",
   "metadata": {},
   "source": [
    "## EApplication III"
   ]
  },
  {
   "cell_type": "code",
   "execution_count": null,
   "metadata": {},
   "outputs": [],
   "source": [
    "import re\n",
    "\n",
    "str=\"\"\"\n",
    ">Venues\n",
    ">Marketing\n",
    ">medalists\n",
    ">Controversies\n",
    ">Paralympics\n",
    ">snowboarding\n",
    ">[1]\n",
    ">Netherlands\n",
    ">[2]\n",
    ">Norway\n",
    ">[10]\n",
    ">[11]\n",
    ">References\n",
    ">edit\n",
    ">[12]\n",
    ">Norway\n",
    ">Germany\n",
    ">Canada\n",
    ">Netherlands\n",
    ">Japan\n",
    ">Italy\n",
    ">Belarus\n",
    ">China\n",
    ">Slovakia\n",
    "<$#%#$%\n",
    "<#$#$$\n",
    "<**&&^^\n",
    ">Slovenia\n",
    ">Belgium\n",
    ">Spain\n",
    ">Kazakhstan\n",
    ">[15]\n",
    ">1964\n",
    ">1968\n",
    ">1972\n",
    ">1992\n",
    ">1996\n",
    ">2000\"\"\"\n",
    "\n",
    "pattern = r'>.+'\n",
    "data=re.findall(pattern, str)\n",
    "\n",
    "print(data)"
   ]
  },
  {
   "cell_type": "markdown",
   "metadata": {},
   "source": [
    "## Application IV"
   ]
  },
  {
   "cell_type": "code",
   "execution_count": null,
   "metadata": {},
   "outputs": [],
   "source": [
    "import re\n",
    "\n",
    "str='The advancements in biomarine studies franky@google.com with the investments necessary and Davos sinatra123@yahoo.com Then The New Yorker article on wind farms...'\n",
    "\n",
    "pattern = r'[a-zA-Z0-9]+@[a-zA-Z0-9]+.com'\n",
    "emails=re.findall(pattern, str)\n",
    "\n",
    "\n",
    "print(emails)"
   ]
  },
  {
   "cell_type": "markdown",
   "metadata": {},
   "source": [
    "Crie um segundo padrão para extrair apenas os domínios dos e-mails encontrados no texto (`@google.com` e `@yahoo.com`)"
   ]
  },
  {
   "cell_type": "code",
   "execution_count": null,
   "metadata": {},
   "outputs": [],
   "source": [
    "pattern = r'@[a-zA-Z0-9]+.com'\n",
    "domains=re.findall(pattern, str)\n",
    "\n",
    "print(domains)"
   ]
  },
  {
   "cell_type": "markdown",
   "metadata": {},
   "source": [
    "## Application V"
   ]
  },
  {
   "cell_type": "code",
   "execution_count": null,
   "metadata": {},
   "outputs": [],
   "source": [
    "import re\n",
    "\n",
    "str='''\n",
    "Ancient Script 21298: The Takenouchi documents are the ancient historical records that have been secretly preserved and passed down from generation to generation by the Takenouchi family, the head of family being the chief priest of the Koso Kotai Jingu shrine. 212-111-5932 \n",
    "Ancient Sword 21299: The Takenouchi swords are the ancient historical swords that have been secretly preserved and passed down from generation to generation by the Takenouchi family, the head of family being the chief priest of the Koso Kotai Jingu shrine. 212-111-5932\n",
    "Ancient Jewelry 21300: The Takenouchi gems are the ancient historical jewels that have been secretly preserved and passed down from generation to generation by the Takenouchi family, the head of family being the chief priest of the Koso Kotai Jingu shrine. 212-111-5932\n",
    "'''\n",
    "\n",
    "pattern = r'212[0-9]+'\n",
    "data=re.findall(pattern, str)\n",
    "\n",
    "print(data)"
   ]
  },
  {
   "cell_type": "markdown",
   "metadata": {},
   "source": [
    "Construa outro padrão para extrair a linha completa de informação associada a cada artefato cujo ID (21298, 21299, 21300) começa com 212."
   ]
  },
  {
   "cell_type": "code",
   "execution_count": null,
   "metadata": {},
   "outputs": [],
   "source": [
    "pattern = r'212[0-9]+.*'\n",
    "data=re.findall(pattern, str)\n",
    "\n",
    "print(data)"
   ]
  },
  {
   "cell_type": "markdown",
   "metadata": {},
   "source": [
    "# More Challenges!\n",
    "\n",
    "https://www.hackerrank.com/domains/regex - Hackerrank possui toda uma trilha de aprendizagem associada à REGEX;\n",
    "\n",
    "https://regexone.com/lesson/introduction_abcs - REGEXONE traz não apenas exercícios mas também breves lições sobre os conceitos abordados em cada ex.\n"
   ]
  },
  {
   "cell_type": "markdown",
   "metadata": {},
   "source": []
  }
 ],
 "metadata": {
  "kernelspec": {
   "display_name": "Python 3.9.11 ('base')",
   "language": "python",
   "name": "python3"
  },
  "language_info": {
   "codemirror_mode": {
    "name": "ipython",
    "version": 3
   },
   "file_extension": ".py",
   "mimetype": "text/x-python",
   "name": "python",
   "nbconvert_exporter": "python",
   "pygments_lexer": "ipython3",
   "version": "3.9.11"
  },
  "orig_nbformat": 4,
  "vscode": {
   "interpreter": {
    "hash": "014f4a4a5af8f0104b12c029e500f4146d6d785e8cf714d2a35b7a9514230cd3"
   }
  }
 },
 "nbformat": 4,
 "nbformat_minor": 2
}
