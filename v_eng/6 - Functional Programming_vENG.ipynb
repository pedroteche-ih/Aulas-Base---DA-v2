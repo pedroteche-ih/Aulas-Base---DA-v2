{
 "cells": [
  {
   "cell_type": "markdown",
   "metadata": {},
   "source": [
    "# Functions in Python"
   ]
  },
  {
   "cell_type": "markdown",
   "metadata": {},
   "source": [
    "## Why Use Functions?\n",
    "\n",
    "- Functions help us:\n",
    "    - <u>recycle code: </u>\n",
    "        - **Rule of three**: https://en.wikipedia.org/wiki/Rule_of_three_(computer_programming)\n",
    "        - **DRY principle**: https://en.wikipedia.org/wiki/Don%27t_repeat_yourself\n",
    "    - <u>document steps</u>\n",
    "        - **docstrings**: https://www.python.org/dev/peps/pep-0257/\n",
    "    - <u>organize our ideas</u>\n",
    "\n",
    "## Function Syntax: \n",
    "\n",
    "Example function: \n",
    "\n",
    "```python\n",
    "def function_name(x,y,z):\n",
    "    \"\"\"Documentation comes here\"\"\"\n",
    "    k = x + y + z\n",
    "    \n",
    "    return k\n",
    "```\n",
    "\n",
    "### Step by Step\n",
    "We use the `def` keyword followed by the `function_name`:\n",
    "```python\n",
    "def function_name\n",
    "```\n",
    "---\n",
    "We can pass **arguments** inside parenthesis after the `function_name`:\n",
    "```python\n",
    "def function_name(x,y,z)\n",
    "```\n",
    "A function doesn't need arguments: `def function_name()`!\n",
    "\n",
    "---\n",
    "After the `:` we insert the **function body** - the lines of code our function will execute\n",
    "```python\n",
    "def function_name(x,y,z):\n",
    "    k = x + y + z\n",
    "    \n",
    "```\n",
    "---\n",
    "It's always important to document our functions through a `docstring`:\n",
    "```python\n",
    "def function_name(x,y,z):\n",
    "    \"\"\"Documentation comes here\"\"\"\n",
    "    k = x + y + z\n",
    "    \n",
    "```\n",
    "---\n",
    "\n",
    "At last, if our function needs to **return** something the the global scope, we need to use the `return` keyword:\n",
    "```python\n",
    "def function_name(x,y,z):\n",
    "    \"\"\"Documentation comes here\"\"\"\n",
    "    k = x + y + z\n",
    "    \n",
    "    return k\n",
    "    \n",
    "```"
   ]
  },
  {
   "cell_type": "code",
   "execution_count": 1,
   "metadata": {
    "ExecuteTime": {
     "end_time": "2020-07-22T00:23:47.224974Z",
     "start_time": "2020-07-22T00:23:47.222006Z"
    }
   },
   "outputs": [],
   "source": [
    "def scream():\n",
    "    \"\"\"This function screams!!\"\"\"\n",
    "    print('AHHH!!')"
   ]
  },
  {
   "cell_type": "code",
   "execution_count": 2,
   "metadata": {
    "ExecuteTime": {
     "end_time": "2020-07-22T00:23:13.408173Z",
     "start_time": "2020-07-22T00:23:13.405172Z"
    }
   },
   "outputs": [
    {
     "name": "stdout",
     "output_type": "stream",
     "text": [
      "AHHH!!\n",
      "AHHH!!\n",
      "AHHH!!\n",
      "AHHH!!\n"
     ]
    }
   ],
   "source": [
    "scream()\n",
    "scream()\n",
    "scream()\n",
    "scream()"
   ]
  },
  {
   "cell_type": "markdown",
   "metadata": {},
   "source": [
    "# Functions in Python"
   ]
  },
  {
   "cell_type": "code",
   "execution_count": 3,
   "metadata": {
    "ExecuteTime": {
     "end_time": "2020-07-22T00:37:35.573429Z",
     "start_time": "2020-07-22T00:37:34.687274Z"
    }
   },
   "outputs": [
    {
     "name": "stdout",
     "output_type": "stream",
     "text": [
      "Nice! You won!\n"
     ]
    }
   ],
   "source": [
    "# jogo completamente aleatório:\n",
    "\n",
    "x = int(input('Pick a number:'))\n",
    "\n",
    "if x < 3:\n",
    "    print('Nice! You won!')\n",
    "elif x < 5:\n",
    "    print('You lost! Good luck next time :)')\n",
    "elif x < 7:\n",
    "    print('Nice! You won!')\n",
    "elif x < 9:\n",
    "    print('You lost! Good luck next time :)')\n",
    "elif x < 15:\n",
    "    print('Nice! You won!')\n",
    "elif x < 25:\n",
    "    print('You lost! Good luck next time :)')\n",
    "elif x < 37:\n",
    "    print('Nice! You won!')"
   ]
  },
  {
   "cell_type": "code",
   "execution_count": 4,
   "metadata": {
    "ExecuteTime": {
     "end_time": "2020-07-22T00:38:17.375025Z",
     "start_time": "2020-07-22T00:38:17.371028Z"
    }
   },
   "outputs": [
    {
     "name": "stdout",
     "output_type": "stream",
     "text": [
      "Legal! Muito bom\n"
     ]
    }
   ],
   "source": [
    "def say_congrats():\n",
    "    '''\n",
    "    This function says you won the game.\n",
    "    '''\n",
    "    \n",
    "    print('Legal! Muito bom')\n",
    "    \n",
    "def say_condolence():\n",
    "    '''\n",
    "    This function says you lost the game and prints your number choice.\n",
    "    '''\n",
    "    print('Que pena! Você perdeu')\n",
    "    \n",
    "# jogo completamente aleatório:\n",
    "\n",
    "x = int(input('Pick a Number:'))\n",
    "\n",
    "if x < 3:\n",
    "    say_congrats()\n",
    "elif x < 5:\n",
    "    say_condolence()\n",
    "elif x < 7:\n",
    "    say_congrats()\n",
    "elif x < 9:\n",
    "    say_condolence()\n",
    "elif x < 15:\n",
    "    say_congrats()\n",
    "elif x < 25:\n",
    "    say_condolence()\n",
    "elif x < 37:\n",
    "    say_congrats()"
   ]
  },
  {
   "cell_type": "markdown",
   "metadata": {},
   "source": [
    "## Functions are `callables` (invocable)"
   ]
  },
  {
   "cell_type": "code",
   "execution_count": 5,
   "metadata": {
    "ExecuteTime": {
     "end_time": "2020-07-22T00:44:34.904390Z",
     "start_time": "2020-07-22T00:44:34.901390Z"
    }
   },
   "outputs": [],
   "source": [
    "def useless_function():\n",
    "    print('Im a worthless function :(')"
   ]
  },
  {
   "cell_type": "markdown",
   "metadata": {},
   "source": [
    "Para **chamar** a função, tenho que colocar `()`"
   ]
  },
  {
   "cell_type": "code",
   "execution_count": 8,
   "metadata": {
    "ExecuteTime": {
     "end_time": "2020-07-21T21:34:21.116416Z",
     "start_time": "2020-07-21T21:34:21.113417Z"
    }
   },
   "outputs": [
    {
     "data": {
      "text/plain": [
       "<function __main__.useless_function()>"
      ]
     },
     "execution_count": 8,
     "metadata": {},
     "output_type": "execute_result"
    }
   ],
   "source": [
    "useless_function"
   ]
  },
  {
   "cell_type": "code",
   "execution_count": 9,
   "metadata": {},
   "outputs": [
    {
     "name": "stdout",
     "output_type": "stream",
     "text": [
      "<function useless_function at 0x7fe7a89689d0>\n"
     ]
    }
   ],
   "source": [
    "print(useless_function)"
   ]
  },
  {
   "cell_type": "code",
   "execution_count": 10,
   "metadata": {
    "ExecuteTime": {
     "end_time": "2020-07-21T21:34:21.116416Z",
     "start_time": "2020-07-21T21:34:21.113417Z"
    }
   },
   "outputs": [
    {
     "name": "stdout",
     "output_type": "stream",
     "text": [
      "Im a worthless function :(\n"
     ]
    }
   ],
   "source": [
    "useless_function()"
   ]
  },
  {
   "cell_type": "code",
   "execution_count": 11,
   "metadata": {
    "ExecuteTime": {
     "end_time": "2020-07-22T00:47:38.304842Z",
     "start_time": "2020-07-22T00:47:38.301841Z"
    }
   },
   "outputs": [
    {
     "ename": "TypeError",
     "evalue": "'int' object is not callable",
     "output_type": "error",
     "traceback": [
      "\u001b[0;31m---------------------------------------------------------------------------\u001b[0m",
      "\u001b[0;31mTypeError\u001b[0m                                 Traceback (most recent call last)",
      "\u001b[1;32m/Users/pedroteche/Documents/Trabalho/Ironhack/Preparação de Aula/Aulas Base - DA v2/v_eng/6 - Functional Programming_vENG.ipynb Cell 14\u001b[0m in \u001b[0;36m<cell line: 2>\u001b[0;34m()\u001b[0m\n\u001b[1;32m      <a href='vscode-notebook-cell:/Users/pedroteche/Documents/Trabalho/Ironhack/Prepara%C3%A7%C3%A3o%20de%20Aula/Aulas%20Base%20-%20DA%20v2/v_eng/6%20-%20Functional%20Programming_vENG.ipynb#X25sZmlsZQ%3D%3D?line=0'>1</a>\u001b[0m a \u001b[39m=\u001b[39m \u001b[39m1\u001b[39m\n\u001b[0;32m----> <a href='vscode-notebook-cell:/Users/pedroteche/Documents/Trabalho/Ironhack/Prepara%C3%A7%C3%A3o%20de%20Aula/Aulas%20Base%20-%20DA%20v2/v_eng/6%20-%20Functional%20Programming_vENG.ipynb#X25sZmlsZQ%3D%3D?line=1'>2</a>\u001b[0m a()\n",
      "\u001b[0;31mTypeError\u001b[0m: 'int' object is not callable"
     ]
    }
   ],
   "source": [
    "a = 1\n",
    "a()"
   ]
  },
  {
   "cell_type": "markdown",
   "metadata": {},
   "source": [
    "# Functions can return values"
   ]
  },
  {
   "cell_type": "code",
   "execution_count": 12,
   "metadata": {},
   "outputs": [
    {
     "name": "stdout",
     "output_type": "stream",
     "text": [
      "3\n"
     ]
    }
   ],
   "source": [
    "lista_exemplo = [1,2,3]\n",
    "comprimento = len(lista_exemplo)\n",
    "print(comprimento)"
   ]
  },
  {
   "cell_type": "markdown",
   "metadata": {},
   "source": [
    "Vamos ver como uma função sem `return` se comporta:"
   ]
  },
  {
   "cell_type": "code",
   "execution_count": 13,
   "metadata": {},
   "outputs": [
    {
     "name": "stdout",
     "output_type": "stream",
     "text": [
      "Alas, Im worthless as well :(\n"
     ]
    }
   ],
   "source": [
    "def stupid_func():\n",
    "    print('Alas, Im worthless as well :(')\n",
    "    \n",
    "teste = stupid_func()"
   ]
  },
  {
   "cell_type": "code",
   "execution_count": 14,
   "metadata": {},
   "outputs": [
    {
     "name": "stdout",
     "output_type": "stream",
     "text": [
      "None\n"
     ]
    }
   ],
   "source": [
    "print(teste)"
   ]
  },
  {
   "cell_type": "markdown",
   "metadata": {},
   "source": [
    "Let's use `return` to send the string back to the global scope:"
   ]
  },
  {
   "cell_type": "code",
   "execution_count": 15,
   "metadata": {},
   "outputs": [
    {
     "name": "stdout",
     "output_type": "stream",
     "text": [
      "Alas, Im worthless as well, but at least I return something :)\n",
      "<class 'str'>\n",
      "Alas, Im worthless as well, but at least I return something :)\n"
     ]
    }
   ],
   "source": [
    "def return_function():\n",
    "    print('Alas, Im worthless as well, but at least I return something :)')\n",
    "    return 'Alas, Im worthless as well, but at least I return something :)'\n",
    "\n",
    "teste = return_function()\n",
    "print(type(teste))\n",
    "print(teste)"
   ]
  },
  {
   "cell_type": "markdown",
   "metadata": {},
   "source": [
    "We can return multiple values:"
   ]
  },
  {
   "cell_type": "code",
   "execution_count": 16,
   "metadata": {},
   "outputs": [
    {
     "name": "stdout",
     "output_type": "stream",
     "text": [
      "('Hey! I return 2 things!', 1)\n"
     ]
    }
   ],
   "source": [
    "def funcao_retorna_2():\n",
    "    return 'Hey! I return 2 things!', 1\n",
    "\n",
    "teste = funcao_retorna_2()\n",
    "print(teste)"
   ]
  },
  {
   "cell_type": "code",
   "execution_count": 17,
   "metadata": {},
   "outputs": [],
   "source": [
    "parte_1, parte_2 = funcao_retorna_2()"
   ]
  },
  {
   "cell_type": "code",
   "execution_count": 18,
   "metadata": {},
   "outputs": [
    {
     "name": "stdout",
     "output_type": "stream",
     "text": [
      "Hey! I return 2 things!\n"
     ]
    }
   ],
   "source": [
    "print(parte_1)"
   ]
  },
  {
   "cell_type": "code",
   "execution_count": 19,
   "metadata": {},
   "outputs": [
    {
     "name": "stdout",
     "output_type": "stream",
     "text": [
      "1\n"
     ]
    }
   ],
   "source": [
    "print(parte_2)"
   ]
  },
  {
   "cell_type": "markdown",
   "metadata": {},
   "source": [
    "Functions can return any type of objects:"
   ]
  },
  {
   "cell_type": "code",
   "execution_count": 4,
   "metadata": {},
   "outputs": [
    {
     "name": "stdout",
     "output_type": "stream",
     "text": [
      "[5, 2, 3]\n"
     ]
    }
   ],
   "source": [
    "def retorna_lista():\n",
    "    return [1,2,3]\n",
    "\n",
    "teste = retorna_lista()\n",
    "teste[0] = 5\n",
    "print(teste)"
   ]
  },
  {
   "cell_type": "markdown",
   "metadata": {},
   "source": [
    "# Function Arguments\n",
    "The `return` keyword allows us to take values from inside a function and *return* them to the global scope (our script). **Arguments** allow us to transport values from our scrip to the function's body."
   ]
  },
  {
   "cell_type": "code",
   "execution_count": 20,
   "metadata": {
    "ExecuteTime": {
     "end_time": "2020-07-22T00:49:13.565422Z",
     "start_time": "2020-07-22T00:49:13.563422Z"
    }
   },
   "outputs": [],
   "source": [
    "def function_with_argument(x, y):\n",
    "    '''\n",
    "    Returns the sum of x and y\n",
    "\n",
    "            Parameters:\n",
    "                    x (numeric): um número float ou inteiro.\n",
    "                    y (numeric): outro número float ou inteiro.\n",
    "\n",
    "            Returns:\n",
    "                    soma (numeric): soma dos números x e y.\n",
    "    '''\n",
    "    soma = x + y\n",
    "    return soma"
   ]
  },
  {
   "cell_type": "code",
   "execution_count": 21,
   "metadata": {},
   "outputs": [
    {
     "name": "stdout",
     "output_type": "stream",
     "text": [
      "5\n"
     ]
    }
   ],
   "source": [
    "teste_com_argumento = function_with_argument(2, 3)\n",
    "print(teste_com_argumento)"
   ]
  },
  {
   "cell_type": "markdown",
   "metadata": {},
   "source": [
    "Arguments are variables inside the function! The function above creates the **variables** `x` and `y` inside the body of our function:"
   ]
  },
  {
   "cell_type": "code",
   "execution_count": 22,
   "metadata": {},
   "outputs": [
    {
     "name": "stdout",
     "output_type": "stream",
     "text": [
      "5\n",
      "3\n",
      "5\n",
      "7\n"
     ]
    }
   ],
   "source": [
    "lista_num = [1,2,3,4]\n",
    "\n",
    "for i in range(len(lista_num)):\n",
    "    soma = function_with_argument(lista_num[i], lista_num[i-1])\n",
    "    print(soma)"
   ]
  },
  {
   "cell_type": "markdown",
   "metadata": {},
   "source": [
    "Since **arguments** are variables, the order we pass values to a function matters!"
   ]
  },
  {
   "cell_type": "code",
   "execution_count": 23,
   "metadata": {},
   "outputs": [],
   "source": [
    "def sub(x, y):\n",
    "    '''\n",
    "    Returns x-y.\n",
    "\n",
    "            Parameters:\n",
    "                    x (numeric): um número float ou inteiro.\n",
    "                    y (numeric): outro número float ou inteiro.\n",
    "\n",
    "            Returns:\n",
    "                    subt (numeric): x - y\n",
    "    '''\n",
    "    return x - y"
   ]
  },
  {
   "cell_type": "code",
   "execution_count": 24,
   "metadata": {},
   "outputs": [
    {
     "data": {
      "text/plain": [
       "9"
      ]
     },
     "execution_count": 24,
     "metadata": {},
     "output_type": "execute_result"
    }
   ],
   "source": [
    "sub(10, 1)"
   ]
  },
  {
   "cell_type": "code",
   "execution_count": 25,
   "metadata": {},
   "outputs": [
    {
     "data": {
      "text/plain": [
       "-9"
      ]
     },
     "execution_count": 25,
     "metadata": {},
     "output_type": "execute_result"
    }
   ],
   "source": [
    "sub(1, 10)"
   ]
  },
  {
   "cell_type": "markdown",
   "metadata": {},
   "source": [
    "**Values** fed to a function like that are called **positional arguments**. We can pass values in any order we want as long as we **name these arguments**:"
   ]
  },
  {
   "cell_type": "code",
   "execution_count": 26,
   "metadata": {},
   "outputs": [
    {
     "data": {
      "text/plain": [
       "9"
      ]
     },
     "execution_count": 26,
     "metadata": {},
     "output_type": "execute_result"
    }
   ],
   "source": [
    "sub(y = 1, x = 10)"
   ]
  },
  {
   "cell_type": "markdown",
   "metadata": {},
   "source": [
    "# Functions can receive `OPTIONAL` arguments"
   ]
  },
  {
   "cell_type": "code",
   "execution_count": 27,
   "metadata": {
    "ExecuteTime": {
     "end_time": "2020-07-22T01:16:21.080074Z",
     "start_time": "2020-07-22T01:16:21.073076Z"
    }
   },
   "outputs": [],
   "source": [
    "def sum_list(lista_numeros, C = 1):\n",
    "    '''\n",
    "    Multiplies each element in a list by C and returns the sum of the products.\n",
    "\n",
    "            Parameters:\n",
    "                    lista_numeros (lista): lista de números (floats ou ints).\n",
    "                    C (numeric): outro número float ou inteiro.\n",
    "\n",
    "            Returns:\n",
    "                    total_lista (numeric): soma dos números na lista_numeros vezes C.\n",
    "    '''\n",
    "    \n",
    "    total_lista = 0\n",
    "    for elemento in lista_numeros:\n",
    "        total_lista += elemento * C\n",
    "        \n",
    "    return total_lista"
   ]
  },
  {
   "cell_type": "code",
   "execution_count": 17,
   "metadata": {},
   "outputs": [
    {
     "name": "stdout",
     "output_type": "stream",
     "text": [
      "6\n"
     ]
    }
   ],
   "source": [
    "lista_num = [1, 2, 3]\n",
    "teste = sum_list(lista_num)\n",
    "print(teste)"
   ]
  },
  {
   "cell_type": "code",
   "execution_count": 18,
   "metadata": {},
   "outputs": [
    {
     "name": "stdout",
     "output_type": "stream",
     "text": [
      "6\n"
     ]
    }
   ],
   "source": [
    "teste = sum_list(lista_num, 1)\n",
    "print(teste)"
   ]
  },
  {
   "cell_type": "code",
   "execution_count": 19,
   "metadata": {},
   "outputs": [
    {
     "name": "stdout",
     "output_type": "stream",
     "text": [
      "60\n"
     ]
    }
   ],
   "source": [
    "teste = sum_list(lista_num, 10)\n",
    "print(teste)"
   ]
  },
  {
   "cell_type": "markdown",
   "metadata": {},
   "source": [
    "Only arguments with default values are optional!"
   ]
  },
  {
   "cell_type": "code",
   "execution_count": 28,
   "metadata": {},
   "outputs": [
    {
     "ename": "NameError",
     "evalue": "name 'soma_lista' is not defined",
     "output_type": "error",
     "traceback": [
      "\u001b[0;31m---------------------------------------------------------------------------\u001b[0m",
      "\u001b[0;31mNameError\u001b[0m                                 Traceback (most recent call last)",
      "\u001b[1;32m/Users/pedroteche/Documents/Trabalho/Ironhack/Preparação de Aula/Aulas Base - DA v2/v_eng/6 - Functional Programming_vENG.ipynb Cell 46\u001b[0m in \u001b[0;36m<cell line: 1>\u001b[0;34m()\u001b[0m\n\u001b[0;32m----> <a href='vscode-notebook-cell:/Users/pedroteche/Documents/Trabalho/Ironhack/Prepara%C3%A7%C3%A3o%20de%20Aula/Aulas%20Base%20-%20DA%20v2/v_eng/6%20-%20Functional%20Programming_vENG.ipynb#Y104sZmlsZQ%3D%3D?line=0'>1</a>\u001b[0m teste \u001b[39m=\u001b[39m soma_lista(C \u001b[39m=\u001b[39m \u001b[39m10\u001b[39m)\n",
      "\u001b[0;31mNameError\u001b[0m: name 'soma_lista' is not defined"
     ]
    }
   ],
   "source": [
    "teste = sum_list(C = 10)"
   ]
  },
  {
   "cell_type": "markdown",
   "metadata": {},
   "source": [
    "## Reserved keywords"
   ]
  },
  {
   "cell_type": "code",
   "execution_count": 29,
   "metadata": {},
   "outputs": [
    {
     "ename": "SyntaxError",
     "evalue": "invalid syntax (203739020.py, line 1)",
     "output_type": "error",
     "traceback": [
      "\u001b[0;36m  Input \u001b[0;32mIn [29]\u001b[0;36m\u001b[0m\n\u001b[0;31m    def for():\u001b[0m\n\u001b[0m        ^\u001b[0m\n\u001b[0;31mSyntaxError\u001b[0m\u001b[0;31m:\u001b[0m invalid syntax\n"
     ]
    }
   ],
   "source": [
    "def for():\n",
    "    print('O que será que acontecerá?')"
   ]
  },
  {
   "cell_type": "markdown",
   "metadata": {},
   "source": [
    "# Variable Scopes\n",
    "Variable scope defines **where a variable exists in our program**.\n",
    "\n",
    "## Local Scope\n",
    "\n",
    "All variables created inside a function **exist only inside that function**!! That's why the `return` is so important: it allows our function to *communicate* with the rest of our program."
   ]
  },
  {
   "cell_type": "code",
   "execution_count": 30,
   "metadata": {},
   "outputs": [],
   "source": [
    "def sum_list(lista_numeros, C = 1):\n",
    "    '''\n",
    "    Multiplies each element in a list by C and returns the sum of the products.\n",
    "\n",
    "            Parameters:\n",
    "                    lista_numeros (lista): lista de números (floats ou ints).\n",
    "                    C (numeric): outro número float ou inteiro.\n",
    "\n",
    "            Returns:\n",
    "                    total_lista (numeric): soma dos números na lista_numeros vezes C.\n",
    "    '''\n",
    "    \n",
    "    total_lista = 0\n",
    "    for elemento in lista_numeros:\n",
    "        total_lista += elemento * C\n",
    "    print(total_lista)"
   ]
  },
  {
   "cell_type": "code",
   "execution_count": 31,
   "metadata": {
    "ExecuteTime": {
     "end_time": "2020-10-30T22:45:48.418880Z",
     "start_time": "2020-10-30T22:45:48.406885Z"
    }
   },
   "outputs": [
    {
     "name": "stdout",
     "output_type": "stream",
     "text": [
      "30\n"
     ]
    }
   ],
   "source": [
    "sum_list([1, 2, 3], 5)"
   ]
  },
  {
   "cell_type": "code",
   "execution_count": 32,
   "metadata": {},
   "outputs": [
    {
     "ename": "NameError",
     "evalue": "name 'total_lista' is not defined",
     "output_type": "error",
     "traceback": [
      "\u001b[0;31m---------------------------------------------------------------------------\u001b[0m",
      "\u001b[0;31mNameError\u001b[0m                                 Traceback (most recent call last)",
      "\u001b[1;32m/Users/pedroteche/Documents/Trabalho/Ironhack/Preparação de Aula/Aulas Base - DA v2/v_eng/6 - Functional Programming_vENG.ipynb Cell 52\u001b[0m in \u001b[0;36m<cell line: 1>\u001b[0;34m()\u001b[0m\n\u001b[0;32m----> <a href='vscode-notebook-cell:/Users/pedroteche/Documents/Trabalho/Ironhack/Prepara%C3%A7%C3%A3o%20de%20Aula/Aulas%20Base%20-%20DA%20v2/v_eng/6%20-%20Functional%20Programming_vENG.ipynb#Y114sZmlsZQ%3D%3D?line=0'>1</a>\u001b[0m total_lista\n",
      "\u001b[0;31mNameError\u001b[0m: name 'total_lista' is not defined"
     ]
    }
   ],
   "source": [
    "total_lista"
   ]
  },
  {
   "cell_type": "markdown",
   "metadata": {},
   "source": [
    "## Global Scope\n",
    "\n",
    "Variáveis criadas no corpo do nosso programa e acessadas pelas nossas funções existem no escopo global. Nossas funções conseguem acessar variáveis nesse escopo mas não conseguem altera-lás.\n",
    "\n",
    "Variables created **outside of functions** exist in the **global scope**: functions can access their value but cannot change them"
   ]
  },
  {
   "cell_type": "code",
   "execution_count": 34,
   "metadata": {},
   "outputs": [],
   "source": [
    "def soma():\n",
    "    '''\n",
    "    Retorna a soma x e y\n",
    "    '''\n",
    "    print(x + y)\n",
    "    return(x + y)"
   ]
  },
  {
   "cell_type": "code",
   "execution_count": 35,
   "metadata": {},
   "outputs": [
    {
     "name": "stdout",
     "output_type": "stream",
     "text": [
      "11\n"
     ]
    }
   ],
   "source": [
    "y = 10\n",
    "x = 1\n",
    "teste = soma()"
   ]
  },
  {
   "cell_type": "markdown",
   "metadata": {},
   "source": [
    "Global variables cannot be altered from within a function:"
   ]
  },
  {
   "cell_type": "code",
   "execution_count": 36,
   "metadata": {},
   "outputs": [],
   "source": [
    "def nova_soma():\n",
    "    '''\n",
    "    Retorna a soma x e y, guardando o resultado em x\n",
    "    '''\n",
    "    x = x+y\n",
    "    return(x)"
   ]
  },
  {
   "cell_type": "code",
   "execution_count": 37,
   "metadata": {},
   "outputs": [
    {
     "ename": "UnboundLocalError",
     "evalue": "local variable 'x' referenced before assignment",
     "output_type": "error",
     "traceback": [
      "\u001b[0;31m---------------------------------------------------------------------------\u001b[0m",
      "\u001b[0;31mUnboundLocalError\u001b[0m                         Traceback (most recent call last)",
      "\u001b[1;32m/Users/pedroteche/Documents/Trabalho/Ironhack/Preparação de Aula/Aulas Base - DA v2/v_eng/6 - Functional Programming_vENG.ipynb Cell 58\u001b[0m in \u001b[0;36m<cell line: 3>\u001b[0;34m()\u001b[0m\n\u001b[1;32m      <a href='vscode-notebook-cell:/Users/pedroteche/Documents/Trabalho/Ironhack/Prepara%C3%A7%C3%A3o%20de%20Aula/Aulas%20Base%20-%20DA%20v2/v_eng/6%20-%20Functional%20Programming_vENG.ipynb#Y124sZmlsZQ%3D%3D?line=0'>1</a>\u001b[0m x \u001b[39m=\u001b[39m \u001b[39m10\u001b[39m\n\u001b[1;32m      <a href='vscode-notebook-cell:/Users/pedroteche/Documents/Trabalho/Ironhack/Prepara%C3%A7%C3%A3o%20de%20Aula/Aulas%20Base%20-%20DA%20v2/v_eng/6%20-%20Functional%20Programming_vENG.ipynb#Y124sZmlsZQ%3D%3D?line=1'>2</a>\u001b[0m y \u001b[39m=\u001b[39m \u001b[39m1\u001b[39m\n\u001b[0;32m----> <a href='vscode-notebook-cell:/Users/pedroteche/Documents/Trabalho/Ironhack/Prepara%C3%A7%C3%A3o%20de%20Aula/Aulas%20Base%20-%20DA%20v2/v_eng/6%20-%20Functional%20Programming_vENG.ipynb#Y124sZmlsZQ%3D%3D?line=2'>3</a>\u001b[0m nova_soma()\n",
      "\u001b[1;32m/Users/pedroteche/Documents/Trabalho/Ironhack/Preparação de Aula/Aulas Base - DA v2/v_eng/6 - Functional Programming_vENG.ipynb Cell 58\u001b[0m in \u001b[0;36mnova_soma\u001b[0;34m()\u001b[0m\n\u001b[1;32m      <a href='vscode-notebook-cell:/Users/pedroteche/Documents/Trabalho/Ironhack/Prepara%C3%A7%C3%A3o%20de%20Aula/Aulas%20Base%20-%20DA%20v2/v_eng/6%20-%20Functional%20Programming_vENG.ipynb#Y124sZmlsZQ%3D%3D?line=0'>1</a>\u001b[0m \u001b[39mdef\u001b[39;00m \u001b[39mnova_soma\u001b[39m():\n\u001b[1;32m      <a href='vscode-notebook-cell:/Users/pedroteche/Documents/Trabalho/Ironhack/Prepara%C3%A7%C3%A3o%20de%20Aula/Aulas%20Base%20-%20DA%20v2/v_eng/6%20-%20Functional%20Programming_vENG.ipynb#Y124sZmlsZQ%3D%3D?line=1'>2</a>\u001b[0m     \u001b[39m'''\u001b[39;00m\n\u001b[1;32m      <a href='vscode-notebook-cell:/Users/pedroteche/Documents/Trabalho/Ironhack/Prepara%C3%A7%C3%A3o%20de%20Aula/Aulas%20Base%20-%20DA%20v2/v_eng/6%20-%20Functional%20Programming_vENG.ipynb#Y124sZmlsZQ%3D%3D?line=2'>3</a>\u001b[0m \u001b[39m    Retorna a soma x e y, guardando o resultado em x\u001b[39;00m\n\u001b[1;32m      <a href='vscode-notebook-cell:/Users/pedroteche/Documents/Trabalho/Ironhack/Prepara%C3%A7%C3%A3o%20de%20Aula/Aulas%20Base%20-%20DA%20v2/v_eng/6%20-%20Functional%20Programming_vENG.ipynb#Y124sZmlsZQ%3D%3D?line=3'>4</a>\u001b[0m \u001b[39m    '''\u001b[39;00m\n\u001b[0;32m----> <a href='vscode-notebook-cell:/Users/pedroteche/Documents/Trabalho/Ironhack/Prepara%C3%A7%C3%A3o%20de%20Aula/Aulas%20Base%20-%20DA%20v2/v_eng/6%20-%20Functional%20Programming_vENG.ipynb#Y124sZmlsZQ%3D%3D?line=4'>5</a>\u001b[0m     x \u001b[39m=\u001b[39m x\u001b[39m+\u001b[39my\n\u001b[1;32m      <a href='vscode-notebook-cell:/Users/pedroteche/Documents/Trabalho/Ironhack/Prepara%C3%A7%C3%A3o%20de%20Aula/Aulas%20Base%20-%20DA%20v2/v_eng/6%20-%20Functional%20Programming_vENG.ipynb#Y124sZmlsZQ%3D%3D?line=5'>6</a>\u001b[0m     \u001b[39mreturn\u001b[39;00m(x)\n",
      "\u001b[0;31mUnboundLocalError\u001b[0m: local variable 'x' referenced before assignment"
     ]
    }
   ],
   "source": [
    "x = 10\n",
    "y = 1\n",
    "nova_soma()"
   ]
  },
  {
   "cell_type": "markdown",
   "metadata": {},
   "source": [
    "Global variables are usually used to represent constants: the numper *pi*, the Earth's diameter, etc... In this case we conventionally write the variable name in ALL CAPS."
   ]
  },
  {
   "cell_type": "code",
   "execution_count": 38,
   "metadata": {},
   "outputs": [],
   "source": [
    "PI = 3.14\n",
    "\n",
    "def circ_area(diametro):\n",
    "    '''\n",
    "    Calculate the area of a circle\n",
    "        Parameters:\n",
    "            diametro Float: diametro do círculo\n",
    "        \n",
    "        Returns:\n",
    "            float: area\n",
    "    '''\n",
    "    raio = diametro/2\n",
    "    area = PI * raio ** 2\n",
    "    return area\n",
    "\n",
    "def circ_circum(diametro):\n",
    "    '''\n",
    "    Calculates the radius of a circle\n",
    "        Parameters:\n",
    "            diametro Float: diametro do círculo\n",
    "        \n",
    "        Returns:\n",
    "            float: circumferencia\n",
    "    '''\n",
    "    circ = PI * diametro\n",
    "    return circ"
   ]
  },
  {
   "cell_type": "code",
   "execution_count": 39,
   "metadata": {},
   "outputs": [
    {
     "name": "stdout",
     "output_type": "stream",
     "text": [
      "19.625\n",
      "15.700000000000001\n"
     ]
    }
   ],
   "source": [
    "print(circ_area(5))\n",
    "print(circ_circum(5))"
   ]
  },
  {
   "cell_type": "markdown",
   "metadata": {},
   "source": [
    "# Functions can create functions!\n",
    "\n",
    "A function can return anything, even other functions!"
   ]
  },
  {
   "cell_type": "code",
   "execution_count": 40,
   "metadata": {},
   "outputs": [],
   "source": [
    "def create_polite_print(prefixo):\n",
    "    '''\n",
    "    Creates a new print, appending prefixo to any string passed to it.\n",
    "        Parameters:\n",
    "            prefixo String: prefixo que será prefixado no novo print\n",
    "        Returns:\n",
    "            function: nova função print, que imprime o prefixo antes de qualquer valor \n",
    "    '''\n",
    "    def print_prefixo(x = ''):\n",
    "        print(prefixo + ' ' + str(x))\n",
    "        \n",
    "    return print_prefixo"
   ]
  },
  {
   "cell_type": "code",
   "execution_count": 41,
   "metadata": {},
   "outputs": [],
   "source": [
    "polite_print = create_polite_print('Hello!')"
   ]
  },
  {
   "cell_type": "markdown",
   "metadata": {},
   "source": [
    "Let's check the type of what's inside `print_educado`:"
   ]
  },
  {
   "cell_type": "code",
   "execution_count": 43,
   "metadata": {},
   "outputs": [
    {
     "data": {
      "text/plain": [
       "function"
      ]
     },
     "execution_count": 43,
     "metadata": {},
     "output_type": "execute_result"
    }
   ],
   "source": [
    "type(polite_print)"
   ]
  },
  {
   "cell_type": "code",
   "execution_count": 45,
   "metadata": {},
   "outputs": [
    {
     "name": "stdout",
     "output_type": "stream",
     "text": [
      "Hello! 10\n"
     ]
    }
   ],
   "source": [
    "polite_print(10)"
   ]
  }
 ],
 "metadata": {
  "kernelspec": {
   "display_name": "Python 3.9.11 ('base')",
   "language": "python",
   "name": "python3"
  },
  "language_info": {
   "codemirror_mode": {
    "name": "ipython",
    "version": 3
   },
   "file_extension": ".py",
   "mimetype": "text/x-python",
   "name": "python",
   "nbconvert_exporter": "python",
   "pygments_lexer": "ipython3",
   "version": "3.9.11"
  },
  "toc": {
   "base_numbering": 1,
   "nav_menu": {},
   "number_sections": true,
   "sideBar": true,
   "skip_h1_title": false,
   "title_cell": "Table of Contents",
   "title_sidebar": "Contents",
   "toc_cell": false,
   "toc_position": {},
   "toc_section_display": true,
   "toc_window_display": false
  },
  "varInspector": {
   "cols": {
    "lenName": 16,
    "lenType": 16,
    "lenVar": 40
   },
   "kernels_config": {
    "python": {
     "delete_cmd_postfix": "",
     "delete_cmd_prefix": "del ",
     "library": "var_list.py",
     "varRefreshCmd": "print(var_dic_list())"
    },
    "r": {
     "delete_cmd_postfix": ") ",
     "delete_cmd_prefix": "rm(",
     "library": "var_list.r",
     "varRefreshCmd": "cat(var_dic_list()) "
    }
   },
   "types_to_exclude": [
    "module",
    "function",
    "builtin_function_or_method",
    "instance",
    "_Feature"
   ],
   "window_display": false
  },
  "vscode": {
   "interpreter": {
    "hash": "014f4a4a5af8f0104b12c029e500f4146d6d785e8cf714d2a35b7a9514230cd3"
   }
  }
 },
 "nbformat": 4,
 "nbformat_minor": 4
}
