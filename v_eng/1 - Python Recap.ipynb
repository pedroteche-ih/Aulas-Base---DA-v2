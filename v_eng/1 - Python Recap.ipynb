{
 "cells": [
  {
   "cell_type": "markdown",
   "id": "eb335249",
   "metadata": {
    "toc": true
   },
   "source": [
    "<h1>Table of Contents<span class=\"tocSkip\"></span></h1>\n",
    "<div class=\"toc\"><ul class=\"toc-item\"><li><span><a href=\"#Aula-II---Python-Recap\" data-toc-modified-id=\"Aula-II---Python-Recap-1\"><span class=\"toc-item-num\">1&nbsp;&nbsp;</span>Aula II - Python Recap</a></span><ul class=\"toc-item\"><li><span><a href=\"#Tipos-(Estruturas-de-Dados)\" data-toc-modified-id=\"Tipos-(Estruturas-de-Dados)-1.1\"><span class=\"toc-item-num\">1.1&nbsp;&nbsp;</span>Tipos (Estruturas de Dados)</a></span><ul class=\"toc-item\"><li><span><a href=\"#Strings-(str)\" data-toc-modified-id=\"Strings-(str)-1.1.1\"><span class=\"toc-item-num\">1.1.1&nbsp;&nbsp;</span>Strings (str)</a></span></li><li><span><a href=\"#Booleans-(bool)\" data-toc-modified-id=\"Booleans-(bool)-1.1.2\"><span class=\"toc-item-num\">1.1.2&nbsp;&nbsp;</span>Booleans (bool)</a></span></li><li><span><a href=\"#Integers\" data-toc-modified-id=\"Integers-1.1.3\"><span class=\"toc-item-num\">1.1.3&nbsp;&nbsp;</span>Integers</a></span></li><li><span><a href=\"#Floats\" data-toc-modified-id=\"Floats-1.1.4\"><span class=\"toc-item-num\">1.1.4&nbsp;&nbsp;</span>Floats</a></span></li><li><span><a href=\"#Lists\" data-toc-modified-id=\"Lists-1.1.5\"><span class=\"toc-item-num\">1.1.5&nbsp;&nbsp;</span>Lists</a></span></li></ul></li><li><span><a href=\"#Variáveis\" data-toc-modified-id=\"Variáveis-1.2\"><span class=\"toc-item-num\">1.2&nbsp;&nbsp;</span>Variáveis</a></span><ul class=\"toc-item\"><li><span><a href=\"#f-Strings\" data-toc-modified-id=\"f-Strings-1.2.1\"><span class=\"toc-item-num\">1.2.1&nbsp;&nbsp;</span>f-Strings</a></span></li></ul></li><li><span><a href=\"#Operadores\" data-toc-modified-id=\"Operadores-1.3\"><span class=\"toc-item-num\">1.3&nbsp;&nbsp;</span>Operadores</a></span></li><li><span><a href=\"#Estruturas-de-Controle\" data-toc-modified-id=\"Estruturas-de-Controle-1.4\"><span class=\"toc-item-num\">1.4&nbsp;&nbsp;</span>Estruturas de Controle</a></span><ul class=\"toc-item\"><li><span><a href=\"#Condicionais-(if,-elif,-else)\" data-toc-modified-id=\"Condicionais-(if,-elif,-else)-1.4.1\"><span class=\"toc-item-num\">1.4.1&nbsp;&nbsp;</span>Condicionais (if, elif, else)</a></span></li><li><span><a href=\"#Loop-(for)\" data-toc-modified-id=\"Loop-(for)-1.4.2\"><span class=\"toc-item-num\">1.4.2&nbsp;&nbsp;</span>Loop (for)</a></span></li><li><span><a href=\"#Loop-condicional-(while)\" data-toc-modified-id=\"Loop-condicional-(while)-1.4.3\"><span class=\"toc-item-num\">1.4.3&nbsp;&nbsp;</span>Loop condicional (while)</a></span></li></ul></li></ul></li><li><span><a href=\"#Desafio\" data-toc-modified-id=\"Desafio-2\"><span class=\"toc-item-num\">2&nbsp;&nbsp;</span>Desafio</a></span></li><li><span><a href=\"#VOLTAMOS-21H10\" data-toc-modified-id=\"VOLTAMOS-21H10-3\"><span class=\"toc-item-num\">3&nbsp;&nbsp;</span>VOLTAMOS 21H10</a></span></li></ul></div>"
   ]
  },
  {
   "attachments": {},
   "cell_type": "markdown",
   "id": "3f5128b9",
   "metadata": {},
   "source": [
    "![Atalhos%20Jupyter.jpg](https://i.pinimg.com/originals/19/8f/d6/198fd6fc321dff3a4ea799d4fba61b97.jpg)"
   ]
  },
  {
   "attachments": {},
   "cell_type": "markdown",
   "id": "03a1ac24",
   "metadata": {},
   "source": [
    "# Python Recap\n",
    "Let's start by reviewing some concepts we saw during the pre-work.\n",
    "\n",
    "## Types (Data Structures)\n",
    "Through the bootcamp we will handle different types of information: words, numbers, sets, list, etc... These structures are called **types**. Today we will review the basic types of data structures **strings**, **booleans**, **integers**, **floats** e **lists**.\n",
    "\n",
    "### Strings (str)\n",
    "Strings, called `str` in Python, are **sequences of characters** - usually thought of as *words*."
   ]
  },
  {
   "cell_type": "code",
   "execution_count": null,
   "id": "0ac0ade0",
   "metadata": {},
   "outputs": [
    {
     "ename": "",
     "evalue": "",
     "output_type": "error",
     "traceback": [
      "\u001b[1;31mRunning cells with 'Python 3.9.6 64-bit' requires ipykernel package.\n",
      "\u001b[1;31mRun the following command to install 'ipykernel' into the Python environment. \n",
      "\u001b[1;31mCommand: '/usr/bin/python3 -m pip install ipykernel -U --user --force-reinstall'"
     ]
    }
   ],
   "source": [
    "print('ABC')"
   ]
  },
  {
   "cell_type": "code",
   "execution_count": 2,
   "id": "14308b7c",
   "metadata": {},
   "outputs": [
    {
     "data": {
      "text/plain": [
       "str"
      ]
     },
     "execution_count": 2,
     "metadata": {},
     "output_type": "execute_result"
    }
   ],
   "source": [
    "type('ABC')"
   ]
  },
  {
   "cell_type": "code",
   "execution_count": 3,
   "id": "c189c224",
   "metadata": {},
   "outputs": [
    {
     "name": "stdout",
     "output_type": "stream",
     "text": [
      "1\n"
     ]
    }
   ],
   "source": [
    "print('1')"
   ]
  },
  {
   "cell_type": "code",
   "execution_count": 4,
   "id": "436295de",
   "metadata": {},
   "outputs": [
    {
     "data": {
      "text/plain": [
       "str"
      ]
     },
     "execution_count": 4,
     "metadata": {},
     "output_type": "execute_result"
    }
   ],
   "source": [
    "type('1')"
   ]
  },
  {
   "cell_type": "markdown",
   "id": "feff9c98",
   "metadata": {},
   "source": [
    "### Booleans (bool)\n",
    "Boolean values, called `bool`, are logical data which can only have two different values: `True` e `False`"
   ]
  },
  {
   "cell_type": "code",
   "execution_count": 5,
   "id": "00d9e635",
   "metadata": {},
   "outputs": [
    {
     "name": "stdout",
     "output_type": "stream",
     "text": [
      "True\n"
     ]
    }
   ],
   "source": [
    "print(True)"
   ]
  },
  {
   "cell_type": "code",
   "execution_count": 6,
   "id": "fac9f60c",
   "metadata": {},
   "outputs": [
    {
     "data": {
      "text/plain": [
       "bool"
      ]
     },
     "execution_count": 6,
     "metadata": {},
     "output_type": "execute_result"
    }
   ],
   "source": [
    "type(True)"
   ]
  },
  {
   "cell_type": "code",
   "execution_count": 7,
   "id": "8909fa65",
   "metadata": {},
   "outputs": [
    {
     "name": "stdout",
     "output_type": "stream",
     "text": [
      "False\n"
     ]
    }
   ],
   "source": [
    "print(False)"
   ]
  },
  {
   "cell_type": "code",
   "execution_count": 8,
   "id": "0794f3f3",
   "metadata": {},
   "outputs": [
    {
     "data": {
      "text/plain": [
       "bool"
      ]
     },
     "execution_count": 8,
     "metadata": {},
     "output_type": "execute_result"
    }
   ],
   "source": [
    "type(False)"
   ]
  },
  {
   "cell_type": "markdown",
   "id": "8e5d11fb",
   "metadata": {},
   "source": [
    "### Integers\n",
    "Integers, called `int` in Python, represent the *whole numbers*:"
   ]
  },
  {
   "cell_type": "code",
   "execution_count": 9,
   "id": "ddcfb805",
   "metadata": {},
   "outputs": [
    {
     "name": "stdout",
     "output_type": "stream",
     "text": [
      "1\n"
     ]
    }
   ],
   "source": [
    "print(1)"
   ]
  },
  {
   "cell_type": "code",
   "execution_count": 10,
   "id": "b237fb1c",
   "metadata": {},
   "outputs": [
    {
     "data": {
      "text/plain": [
       "int"
      ]
     },
     "execution_count": 10,
     "metadata": {},
     "output_type": "execute_result"
    }
   ],
   "source": [
    "type(1)"
   ]
  },
  {
   "cell_type": "code",
   "execution_count": 11,
   "id": "1f90b69e",
   "metadata": {},
   "outputs": [
    {
     "data": {
      "text/plain": [
       "str"
      ]
     },
     "execution_count": 11,
     "metadata": {},
     "output_type": "execute_result"
    }
   ],
   "source": [
    "type('1')"
   ]
  },
  {
   "cell_type": "markdown",
   "id": "fec7e22e",
   "metadata": {},
   "source": [
    "### Floats\n",
    "Floats, called `float`, are rational numbers of fixed precision (https://docs.python.org/3/tutorial/floatingpoint.html)."
   ]
  },
  {
   "cell_type": "code",
   "execution_count": null,
   "id": "f102b70e",
   "metadata": {},
   "outputs": [
    {
     "ename": "",
     "evalue": "",
     "output_type": "error",
     "traceback": [
      "\u001b[1;31mRunning cells with 'Python 3.9.6 64-bit' requires ipykernel package.\n",
      "\u001b[1;31mRun the following command to install 'ipykernel' into the Python environment. \n",
      "\u001b[1;31mCommand: '/usr/bin/python3 -m pip install ipykernel -U --user --force-reinstall'"
     ]
    }
   ],
   "source": [
    "print(3.2)"
   ]
  },
  {
   "cell_type": "code",
   "execution_count": 13,
   "id": "ba148403",
   "metadata": {},
   "outputs": [
    {
     "data": {
      "text/plain": [
       "float"
      ]
     },
     "execution_count": 13,
     "metadata": {},
     "output_type": "execute_result"
    }
   ],
   "source": [
    "type(3.2)"
   ]
  },
  {
   "cell_type": "code",
   "execution_count": 15,
   "id": "7e83fbbe",
   "metadata": {},
   "outputs": [
    {
     "data": {
      "text/plain": [
       "float"
      ]
     },
     "execution_count": 15,
     "metadata": {},
     "output_type": "execute_result"
    }
   ],
   "source": [
    "type(1.)"
   ]
  },
  {
   "cell_type": "markdown",
   "id": "c4c0e53f",
   "metadata": {},
   "source": [
    "### Lists\n",
    "\n",
    "`Lists` are the first complex data structure we will use in Python. Lists represent **ordered sequences** of elements:"
   ]
  },
  {
   "cell_type": "code",
   "execution_count": 16,
   "id": "3ae0b06e",
   "metadata": {},
   "outputs": [
    {
     "name": "stdout",
     "output_type": "stream",
     "text": [
      "[1, 2, 3]\n"
     ]
    }
   ],
   "source": [
    "print([1, 2, 3])"
   ]
  },
  {
   "cell_type": "code",
   "execution_count": 17,
   "id": "b15d5b80",
   "metadata": {},
   "outputs": [
    {
     "data": {
      "text/plain": [
       "list"
      ]
     },
     "execution_count": 17,
     "metadata": {},
     "output_type": "execute_result"
    }
   ],
   "source": [
    "type([1, 2, 3])"
   ]
  },
  {
   "cell_type": "markdown",
   "id": "e655b558",
   "metadata": {},
   "source": [
    "We can access specific elements of a list using **index**, through the notation `name_of_list[index]`, where `index` is an `int`."
   ]
  },
  {
   "cell_type": "code",
   "execution_count": 25,
   "id": "4beb0e83",
   "metadata": {},
   "outputs": [
    {
     "data": {
      "text/plain": [
       "2"
      ]
     },
     "execution_count": 25,
     "metadata": {},
     "output_type": "execute_result"
    }
   ],
   "source": [
    "[1, 2, 3][1]"
   ]
  },
  {
   "cell_type": "code",
   "execution_count": 20,
   "id": "48b65f46",
   "metadata": {},
   "outputs": [
    {
     "data": {
      "text/plain": [
       "int"
      ]
     },
     "execution_count": 20,
     "metadata": {},
     "output_type": "execute_result"
    }
   ],
   "source": [
    "type([1, 2, 3][1])"
   ]
  },
  {
   "cell_type": "markdown",
   "id": "f64b4d7a",
   "metadata": {},
   "source": [
    "We can store any type of data inside a list, even other lists!"
   ]
  },
  {
   "cell_type": "code",
   "execution_count": 26,
   "id": "d3b35692",
   "metadata": {},
   "outputs": [
    {
     "data": {
      "text/plain": [
       "[1, 'ABC', [2, '35']]"
      ]
     },
     "execution_count": 26,
     "metadata": {},
     "output_type": "execute_result"
    }
   ],
   "source": [
    "[1, 'ABC', [2, '35']]"
   ]
  },
  {
   "cell_type": "code",
   "execution_count": 27,
   "id": "51cf18d7",
   "metadata": {},
   "outputs": [
    {
     "data": {
      "text/plain": [
       "list"
      ]
     },
     "execution_count": 27,
     "metadata": {},
     "output_type": "execute_result"
    }
   ],
   "source": [
    "type([1, 'ABC', [2, '35']])"
   ]
  },
  {
   "cell_type": "code",
   "execution_count": 31,
   "id": "27c5f4f6",
   "metadata": {},
   "outputs": [
    {
     "data": {
      "text/plain": [
       "int"
      ]
     },
     "execution_count": 31,
     "metadata": {},
     "output_type": "execute_result"
    }
   ],
   "source": [
    "type([1, 'ABC', [2, '35']][2])"
   ]
  },
  {
   "cell_type": "code",
   "execution_count": 33,
   "id": "8235a721",
   "metadata": {},
   "outputs": [
    {
     "data": {
      "text/plain": [
       "'35'"
      ]
     },
     "execution_count": 33,
     "metadata": {},
     "output_type": "execute_result"
    }
   ],
   "source": [
    "[1, 'ABC', [2, '35']][2][1]"
   ]
  },
  {
   "cell_type": "code",
   "execution_count": 34,
   "id": "e3dc8c5a",
   "metadata": {},
   "outputs": [
    {
     "data": {
      "text/plain": [
       "list"
      ]
     },
     "execution_count": 34,
     "metadata": {},
     "output_type": "execute_result"
    }
   ],
   "source": [
    "type([1, 'ABC', [2, '35']][2])"
   ]
  },
  {
   "cell_type": "markdown",
   "id": "a355a994",
   "metadata": {},
   "source": [
    "## Variables\n",
    "\n",
    "So far we've only seen how to print and represent different data types inside Python. To manipulate data we must **store** it in **variables**.\n",
    "\n",
    "We can create variables using the assignment operator: `=`."
   ]
  },
  {
   "cell_type": "code",
   "execution_count": 35,
   "id": "b160a5f7",
   "metadata": {},
   "outputs": [],
   "source": [
    "x = 1"
   ]
  },
  {
   "cell_type": "code",
   "execution_count": 36,
   "id": "2833f6ec",
   "metadata": {},
   "outputs": [
    {
     "name": "stdout",
     "output_type": "stream",
     "text": [
      "1\n"
     ]
    }
   ],
   "source": [
    "print(x)"
   ]
  },
  {
   "cell_type": "code",
   "execution_count": 37,
   "id": "783117cd",
   "metadata": {},
   "outputs": [
    {
     "data": {
      "text/plain": [
       "int"
      ]
     },
     "execution_count": 37,
     "metadata": {},
     "output_type": "execute_result"
    }
   ],
   "source": [
    "type(x)"
   ]
  },
  {
   "cell_type": "code",
   "execution_count": 40,
   "id": "dbb23998",
   "metadata": {},
   "outputs": [
    {
     "name": "stdout",
     "output_type": "stream",
     "text": [
      "4\n"
     ]
    }
   ],
   "source": [
    "x = x+1\n",
    "print(x)"
   ]
  },
  {
   "cell_type": "code",
   "execution_count": 43,
   "id": "5d771298",
   "metadata": {},
   "outputs": [],
   "source": [
    "x = \"Pedro\""
   ]
  },
  {
   "cell_type": "code",
   "execution_count": 44,
   "id": "311498ff",
   "metadata": {},
   "outputs": [
    {
     "name": "stdout",
     "output_type": "stream",
     "text": [
      "Pedro\n"
     ]
    }
   ],
   "source": [
    "print(x)"
   ]
  },
  {
   "cell_type": "markdown",
   "id": "d0a81940",
   "metadata": {},
   "source": [
    "### f-Strings\n",
    "\n",
    "Besides the traditional **strings** we've seen so far, we can use *f-strings* to represent variables inside a string:"
   ]
  },
  {
   "cell_type": "code",
   "execution_count": null,
   "id": "f28a3cc7",
   "metadata": {},
   "outputs": [
    {
     "ename": "",
     "evalue": "",
     "output_type": "error",
     "traceback": [
      "\u001b[1;31mRunning cells with 'Python 3.9.6 64-bit' requires ipykernel package.\n",
      "\u001b[1;31mRun the following command to install 'ipykernel' into the Python environment. \n",
      "\u001b[1;31mCommand: '/usr/bin/python3 -m pip install ipykernel -U --user --force-reinstall'"
     ]
    }
   ],
   "source": [
    "x = 22\n",
    "print(f'O valor de x é {x}')"
   ]
  },
  {
   "cell_type": "code",
   "execution_count": 48,
   "id": "f6d70591",
   "metadata": {},
   "outputs": [
    {
     "name": "stdout",
     "output_type": "stream",
     "text": [
      "Meu nome é Pedro\n"
     ]
    }
   ],
   "source": [
    "meu_nome = 'Pedro'\n",
    "print(f'Meu nome é {meu_nome}')"
   ]
  },
  {
   "cell_type": "code",
   "execution_count": 49,
   "id": "893a7fc4",
   "metadata": {},
   "outputs": [
    {
     "name": "stdout",
     "output_type": "stream",
     "text": [
      "Meu nome é [1, 2, 3]\n"
     ]
    }
   ],
   "source": [
    "meu_nome = [1,2,3]\n",
    "print(f'Meu nome é {meu_nome}')"
   ]
  },
  {
   "cell_type": "markdown",
   "id": "36b723e6",
   "metadata": {},
   "source": [
    "## Operators\n",
    "**Operators** are transformations defined between elements. When these elements are numbers (`int` or `float`), the operators are the traditional mathematical operations. Inside Python, operators can also be used between other types, but first let's see them operating in the traditional mathematical context:"
   ]
  },
  {
   "cell_type": "code",
   "execution_count": 51,
   "id": "f9c4643b",
   "metadata": {},
   "outputs": [
    {
     "name": "stdout",
     "output_type": "stream",
     "text": [
      "4.0\n",
      "0\n",
      "4\n",
      "0.6666666666666666\n",
      "8\n",
      "2\n"
     ]
    }
   ],
   "source": [
    "soma = 2 + 2.\n",
    "sub = 2 - 2\n",
    "mult = 2 * 2\n",
    "div = 2 / 3\n",
    "exp = 2 ** 3\n",
    "mod = 5%3\n",
    "print(soma)\n",
    "print(sub)\n",
    "print(mult)\n",
    "print(div)\n",
    "print(exp)\n",
    "print(mod)"
   ]
  },
  {
   "cell_type": "markdown",
   "id": "f66678c9",
   "metadata": {},
   "source": [
    "We can also use the addition operator (`+`) between `strings` & the multiplication operator (`*`) between a `string` and an `int`:"
   ]
  },
  {
   "cell_type": "code",
   "execution_count": 1,
   "id": "c6c7bc28",
   "metadata": {},
   "outputs": [
    {
     "name": "stdout",
     "output_type": "stream",
     "text": [
      "Pedro Teche\n",
      "Pedro Pedro Pedro Pedro Pedro \n"
     ]
    }
   ],
   "source": [
    "soma = 'Pedro ' + 'Teche'\n",
    "mult = 'Pedro ' * 5\n",
    "print(soma)\n",
    "print(mult)"
   ]
  },
  {
   "cell_type": "code",
   "execution_count": 2,
   "id": "aadbc640",
   "metadata": {},
   "outputs": [
    {
     "data": {
      "text/plain": [
       "str"
      ]
     },
     "execution_count": 2,
     "metadata": {},
     "output_type": "execute_result"
    }
   ],
   "source": [
    "type(mult)"
   ]
  },
  {
   "cell_type": "markdown",
   "id": "ef537010",
   "metadata": {},
   "source": [
    "Like lists, `strings` can also be indexed!"
   ]
  },
  {
   "cell_type": "code",
   "execution_count": 4,
   "id": "51c3982e",
   "metadata": {},
   "outputs": [
    {
     "data": {
      "text/plain": [
       "'e'"
      ]
     },
     "execution_count": 4,
     "metadata": {},
     "output_type": "execute_result"
    }
   ],
   "source": [
    "mult[1]"
   ]
  },
  {
   "cell_type": "markdown",
   "id": "290cdb7c",
   "metadata": {},
   "source": [
    "`lists` can also be added (through the `+` operator) and multiplied (`*` operator) like strings: `lists + list` and `list * int`: "
   ]
  },
  {
   "cell_type": "code",
   "execution_count": 59,
   "id": "f339e71e",
   "metadata": {},
   "outputs": [
    {
     "name": "stdout",
     "output_type": "stream",
     "text": [
      "[1, 2, 3, 4, 5, 6]\n",
      "[1, 2, 1, 2, 1, 2, 1, 2, 1, 2]\n"
     ]
    }
   ],
   "source": [
    "soma = [1, 2] + [3, 4] + [5, 6]\n",
    "mult = [1, 2] * 5\n",
    "print(soma)\n",
    "print(mult)"
   ]
  },
  {
   "cell_type": "markdown",
   "id": "7a61bdfb",
   "metadata": {},
   "source": [
    "When we use the operators on `boolean` types they behave like numbers! `True` becomes `1` and `False` becomes `0`"
   ]
  },
  {
   "cell_type": "code",
   "execution_count": 5,
   "id": "7c5b2c96",
   "metadata": {},
   "outputs": [
    {
     "name": "stdout",
     "output_type": "stream",
     "text": [
      "2\n",
      "2\n",
      "0\n",
      "2.0\n"
     ]
    }
   ],
   "source": [
    "soma = True + True\n",
    "sub = True + True - False\n",
    "mult = True * True * True * True * False\n",
    "div = 2 / True\n",
    "print(soma)\n",
    "print(sub)\n",
    "print(mult)\n",
    "print(div)"
   ]
  },
  {
   "cell_type": "markdown",
   "id": "6d5be713",
   "metadata": {},
   "source": [
    "The last type of operators are the logical operators, which allow us to compare two different elements:"
   ]
  },
  {
   "cell_type": "code",
   "execution_count": 63,
   "id": "20211866",
   "metadata": {},
   "outputs": [
    {
     "data": {
      "text/plain": [
       "False"
      ]
     },
     "execution_count": 63,
     "metadata": {},
     "output_type": "execute_result"
    }
   ],
   "source": [
    "1 == 2"
   ]
  },
  {
   "cell_type": "code",
   "execution_count": 6,
   "id": "57c780c6",
   "metadata": {},
   "outputs": [
    {
     "data": {
      "text/plain": [
       "False"
      ]
     },
     "execution_count": 6,
     "metadata": {},
     "output_type": "execute_result"
    }
   ],
   "source": [
    "'A' == 'a'"
   ]
  },
  {
   "cell_type": "code",
   "execution_count": 7,
   "id": "0a2c449e",
   "metadata": {},
   "outputs": [
    {
     "data": {
      "text/plain": [
       "False"
      ]
     },
     "execution_count": 7,
     "metadata": {},
     "output_type": "execute_result"
    }
   ],
   "source": [
    "'A' > 'c'"
   ]
  },
  {
   "cell_type": "code",
   "execution_count": 8,
   "id": "9451db06",
   "metadata": {},
   "outputs": [
    {
     "data": {
      "text/plain": [
       "True"
      ]
     },
     "execution_count": 8,
     "metadata": {},
     "output_type": "execute_result"
    }
   ],
   "source": [
    "1 < 3"
   ]
  },
  {
   "cell_type": "markdown",
   "id": "364d1743",
   "metadata": {},
   "source": [
    "## Control blocks\n",
    "\n",
    "Control blocks allow us to control: execute certain commands (*lines of code*) or repeating the execution of a few *lines of code*. Python has 3 fundamental control structures: **if** (conditional), **for** (loops) e **while** (conditional loops).\n",
    "\n",
    "### Conditional (if, elif, else)\n",
    "Conditionals allow us to control code execution based on different boolean evaluations:"
   ]
  },
  {
   "cell_type": "code",
   "execution_count": 69,
   "id": "1a274ae1",
   "metadata": {},
   "outputs": [
    {
     "name": "stdout",
     "output_type": "stream",
     "text": [
      "Errado\n",
      "Ola\n",
      "sim,0\n"
     ]
    }
   ],
   "source": [
    "if 1 == 2:\n",
    "    print('Errado')\n",
    "    print('Ola')\n",
    "    print('sim,0')\n",
    "    x = 10"
   ]
  },
  {
   "cell_type": "code",
   "execution_count": 70,
   "id": "2a5766c1",
   "metadata": {},
   "outputs": [
    {
     "name": "stdout",
     "output_type": "stream",
     "text": [
      "10\n"
     ]
    }
   ],
   "source": [
    "print(x)"
   ]
  },
  {
   "cell_type": "code",
   "execution_count": 71,
   "id": "cc920e9f",
   "metadata": {},
   "outputs": [
    {
     "name": "stdout",
     "output_type": "stream",
     "text": [
      "Certo\n"
     ]
    }
   ],
   "source": [
    "if 1 == 2:\n",
    "    print('Errado')\n",
    "else:\n",
    "    print('Certo')"
   ]
  },
  {
   "cell_type": "code",
   "execution_count": 72,
   "id": "a9f7a45c",
   "metadata": {},
   "outputs": [
    {
     "name": "stdout",
     "output_type": "stream",
     "text": [
      "Errado\n"
     ]
    }
   ],
   "source": [
    "if 1 == 1:\n",
    "    print('Errado')\n",
    "else:\n",
    "    print('Certo')"
   ]
  },
  {
   "cell_type": "code",
   "execution_count": 74,
   "id": "2d020f4f",
   "metadata": {},
   "outputs": [
    {
     "name": "stdout",
     "output_type": "stream",
     "text": [
      "X não é 1\n"
     ]
    }
   ],
   "source": [
    "x = 5\n",
    "if x == 1:\n",
    "    print('X é 1')\n",
    "else:\n",
    "    print('X não é 1')"
   ]
  },
  {
   "cell_type": "code",
   "execution_count": 76,
   "id": "1f75f735",
   "metadata": {},
   "outputs": [
    {
     "name": "stdout",
     "output_type": "stream",
     "text": [
      "ABC\n"
     ]
    }
   ],
   "source": [
    "x = 'ABC'\n",
    "if type(x) == int:\n",
    "    print(x + 1)\n",
    "else:\n",
    "    print(x)"
   ]
  },
  {
   "cell_type": "code",
   "execution_count": 77,
   "id": "e78f0716",
   "metadata": {},
   "outputs": [
    {
     "ename": "TypeError",
     "evalue": "can only concatenate str (not \"int\") to str",
     "output_type": "error",
     "traceback": [
      "\u001b[0;31m---------------------------------------------------------------------------\u001b[0m",
      "\u001b[0;31mTypeError\u001b[0m                                 Traceback (most recent call last)",
      "Input \u001b[0;32mIn [77]\u001b[0m, in \u001b[0;36m<cell line: 1>\u001b[0;34m()\u001b[0m\n\u001b[0;32m----> 1\u001b[0m \u001b[43mx\u001b[49m\u001b[43m \u001b[49m\u001b[38;5;241;43m+\u001b[39;49m\u001b[43m \u001b[49m\u001b[38;5;241;43m1\u001b[39;49m\n",
      "\u001b[0;31mTypeError\u001b[0m: can only concatenate str (not \"int\") to str"
     ]
    }
   ],
   "source": [
    "x + 1"
   ]
  },
  {
   "cell_type": "markdown",
   "id": "162f8c7e",
   "metadata": {},
   "source": [
    "A primeira condição é a que segue imediatamente após o `if`. Já o `else` nos permite executar certas linhas quando essa condição não é verdadeira.\n",
    "\n",
    "Podemos utilizar o `elif` (lido *else if*) para encadear diversas condições em série:"
   ]
  },
  {
   "cell_type": "code",
   "execution_count": 84,
   "id": "293995f2",
   "metadata": {},
   "outputs": [
    {
     "name": "stdout",
     "output_type": "stream",
     "text": [
      "Digite um nomeAdriano\n"
     ]
    }
   ],
   "source": [
    "x = input('Digite um nome')"
   ]
  },
  {
   "cell_type": "code",
   "execution_count": 85,
   "id": "bf60a469",
   "metadata": {},
   "outputs": [
    {
     "data": {
      "text/plain": [
       "'Adriano'"
      ]
     },
     "execution_count": 85,
     "metadata": {},
     "output_type": "execute_result"
    }
   ],
   "source": [
    "x"
   ]
  },
  {
   "cell_type": "code",
   "execution_count": 86,
   "id": "d8b1d5ef",
   "metadata": {},
   "outputs": [
    {
     "name": "stdout",
     "output_type": "stream",
     "text": [
      "Querido TA\n"
     ]
    }
   ],
   "source": [
    "if x == 'Pedro':\n",
    "    print('Eu')\n",
    "elif x == 'Adriano':\n",
    "    print('Querido TA')\n",
    "else:\n",
    "    print('Não sei...')"
   ]
  },
  {
   "cell_type": "markdown",
   "id": "37ba055e",
   "metadata": {},
   "source": [
    "Além de condições simples, podemos construir condições mais complexas através dos operadores lógicos `and` e `or`:"
   ]
  },
  {
   "cell_type": "code",
   "execution_count": 87,
   "id": "58fee5a4",
   "metadata": {},
   "outputs": [
    {
     "data": {
      "text/plain": [
       "True"
      ]
     },
     "execution_count": 87,
     "metadata": {},
     "output_type": "execute_result"
    }
   ],
   "source": [
    "0 < 10 and 0 > -5"
   ]
  },
  {
   "cell_type": "code",
   "execution_count": 88,
   "id": "68c1f7cd",
   "metadata": {},
   "outputs": [
    {
     "data": {
      "text/plain": [
       "False"
      ]
     },
     "execution_count": 88,
     "metadata": {},
     "output_type": "execute_result"
    }
   ],
   "source": [
    "1 < 7 and 6 < 5"
   ]
  },
  {
   "cell_type": "code",
   "execution_count": 90,
   "id": "f1475b42",
   "metadata": {},
   "outputs": [
    {
     "data": {
      "text/plain": [
       "True"
      ]
     },
     "execution_count": 90,
     "metadata": {},
     "output_type": "execute_result"
    }
   ],
   "source": [
    "1 < 7 or 6 < 7"
   ]
  },
  {
   "cell_type": "code",
   "execution_count": 95,
   "id": "01c6d677",
   "metadata": {},
   "outputs": [
    {
     "name": "stdout",
     "output_type": "stream",
     "text": [
      "X é maior que 19\n"
     ]
    }
   ],
   "source": [
    "x = 21\n",
    "if x >= 0 and x < 10:\n",
    "    print('X entre 0 e 9')\n",
    "elif x >= 10 and x < 20:\n",
    "    print('X entre 10 e 19')\n",
    "elif x < 0:\n",
    "    print('X menor que 0')\n",
    "else:\n",
    "    print('X é maior que 19')\n",
    "x=1 "
   ]
  },
  {
   "cell_type": "markdown",
   "id": "871ef7e9",
   "metadata": {},
   "source": [
    "### Loop (for)\n",
    "\n",
    "Para executar um conjunto de linhas de forma repetida, podemos utilizar um **loop**. O loop é uma estrutura de controle que nos permite percorrer um **iterável** (por exemplo, uma lista) e executar um conjunto de linhas para cada elemento deste iterável."
   ]
  },
  {
   "cell_type": "code",
   "execution_count": 99,
   "id": "4667c1af",
   "metadata": {},
   "outputs": [],
   "source": [
    "esta_lista = [3, 2, 4]"
   ]
  },
  {
   "cell_type": "code",
   "execution_count": 100,
   "id": "25bece14",
   "metadata": {},
   "outputs": [
    {
     "name": "stdout",
     "output_type": "stream",
     "text": [
      "9\n",
      "4\n",
      "16\n"
     ]
    }
   ],
   "source": [
    "for elemento in esta_lista:\n",
    "    elemento_quadrado = elemento ** 2\n",
    "    print(elemento_quadrado)"
   ]
  },
  {
   "cell_type": "code",
   "execution_count": 101,
   "id": "be4c6cdb",
   "metadata": {},
   "outputs": [
    {
     "name": "stdout",
     "output_type": "stream",
     "text": [
      "9\n",
      "4\n",
      "16\n"
     ]
    }
   ],
   "source": [
    "elemento = esta_lista[0]\n",
    "elemento_quadrado = elemento ** 2\n",
    "print(elemento_quadrado)\n",
    "elemento = esta_lista[1]\n",
    "elemento_quadrado = elemento ** 2\n",
    "print(elemento_quadrado)\n",
    "elemento = esta_lista[2]\n",
    "elemento_quadrado = elemento ** 2\n",
    "print(elemento_quadrado)"
   ]
  },
  {
   "cell_type": "markdown",
   "id": "62ebc36b",
   "metadata": {},
   "source": [
    "Podemos utilizar condicionais dentro de loops:"
   ]
  },
  {
   "cell_type": "code",
   "execution_count": 103,
   "id": "313b1b77",
   "metadata": {},
   "outputs": [],
   "source": [
    "outra_lista = [2, 3, 5, '4', 'Pedro']"
   ]
  },
  {
   "cell_type": "code",
   "execution_count": 104,
   "id": "78a54b90",
   "metadata": {},
   "outputs": [
    {
     "name": "stdout",
     "output_type": "stream",
     "text": [
      "Elemento ao quadrado = 4\n",
      "Elemento ao quadrado = 9\n",
      "Elemento ao quadrado = 25\n",
      "Elemento original = 4\n",
      "Elemento original = Pedro\n"
     ]
    }
   ],
   "source": [
    "for elemento in outra_lista:\n",
    "    if type(elemento) == int or type(elemento) == float:\n",
    "        print(f'Elemento ao quadrado = {elemento ** 2}')\n",
    "    else:\n",
    "        print(f'Elemento original = {elemento}')"
   ]
  },
  {
   "cell_type": "markdown",
   "id": "ee735a7f",
   "metadata": {},
   "source": [
    "Por fim podemos utilizar loops dentro de loops (nesting):"
   ]
  },
  {
   "cell_type": "code",
   "execution_count": 106,
   "id": "ef4c8ce0",
   "metadata": {},
   "outputs": [],
   "source": [
    "terceira_lista = [[1, 2, 3], [2, 3, 4], [4, 5, 6]]"
   ]
  },
  {
   "cell_type": "code",
   "execution_count": 107,
   "id": "2b822f4a",
   "metadata": {},
   "outputs": [
    {
     "name": "stdout",
     "output_type": "stream",
     "text": [
      "<class 'list'>\n",
      "<class 'list'>\n",
      "<class 'list'>\n"
     ]
    }
   ],
   "source": [
    "for elemento in terceira_lista:\n",
    "    print(type(elemento))"
   ]
  },
  {
   "cell_type": "code",
   "execution_count": 111,
   "id": "4f17351a",
   "metadata": {},
   "outputs": [
    {
     "name": "stdout",
     "output_type": "stream",
     "text": [
      "Trocando de lista\n",
      "<class 'int'>\n",
      "Eita\n",
      "<class 'int'>\n",
      "Eita\n",
      "<class 'int'>\n",
      "Eita\n",
      "Trocando de lista\n",
      "<class 'int'>\n",
      "Eita\n",
      "<class 'int'>\n",
      "Eita\n",
      "<class 'int'>\n",
      "Eita\n",
      "Trocando de lista\n",
      "<class 'int'>\n",
      "Eita\n",
      "<class 'int'>\n",
      "Eita\n",
      "<class 'int'>\n",
      "Eita\n"
     ]
    }
   ],
   "source": [
    "for elemento in terceira_lista:\n",
    "    print('Trocando de lista')\n",
    "    for outro_elemento in elemento:\n",
    "        print(type(outro_elemento))\n",
    "        print('Eita')"
   ]
  },
  {
   "cell_type": "code",
   "execution_count": 112,
   "id": "c474e5f1",
   "metadata": {},
   "outputs": [
    {
     "name": "stdout",
     "output_type": "stream",
     "text": [
      "[1, 2, 3]\n",
      "Elemento ao quadrado = 1\n",
      "Elemento ao quadrado = 4\n",
      "Elemento ao quadrado = 9\n",
      "[2, 3, 4]\n",
      "Elemento ao quadrado = 4\n",
      "Elemento ao quadrado = 9\n",
      "Elemento ao quadrado = 16\n",
      "[4, 5, 6]\n",
      "Elemento ao quadrado = 16\n",
      "Elemento ao quadrado = 25\n",
      "Elemento ao quadrado = 36\n"
     ]
    }
   ],
   "source": [
    "for lista in terceira_lista:\n",
    "    print(lista)\n",
    "    for elemento in lista:\n",
    "        print(f'Elemento ao quadrado = {elemento ** 2}')"
   ]
  },
  {
   "cell_type": "code",
   "execution_count": 113,
   "id": "6e5e9c0d",
   "metadata": {},
   "outputs": [
    {
     "name": "stdout",
     "output_type": "stream",
     "text": [
      "ola\n",
      "ola\n",
      "ola\n"
     ]
    }
   ],
   "source": [
    "for lista in terceira_lista:\n",
    "    print('ola')"
   ]
  },
  {
   "cell_type": "markdown",
   "id": "a1bba43a",
   "metadata": {},
   "source": [
    "### Loop condicional (while)\n",
    "\n",
    "Para executar um conjunto de linhas de forma repetida, podemos utilizar um **loop**. O loop é uma estrutura de controle que nos permite percorrer um **iterável** (por exemplo, uma lista) e executar um conjunto de linhas para cada elemento deste iterável."
   ]
  },
  {
   "cell_type": "code",
   "execution_count": 115,
   "id": "783306ec",
   "metadata": {},
   "outputs": [
    {
     "name": "stdout",
     "output_type": "stream",
     "text": [
      "1\n",
      "2\n",
      "3\n"
     ]
    }
   ],
   "source": [
    "x = 0\n",
    "for lista in terceira_lista:\n",
    "    x = x+1\n",
    "    print(x)"
   ]
  },
  {
   "cell_type": "code",
   "execution_count": 114,
   "id": "3a2ae54a",
   "metadata": {},
   "outputs": [
    {
     "name": "stdout",
     "output_type": "stream",
     "text": [
      "1\n",
      "2\n",
      "3\n",
      "4\n",
      "5\n",
      "6\n",
      "7\n",
      "8\n",
      "9\n",
      "10\n"
     ]
    }
   ],
   "source": [
    "x = 0\n",
    "while x < 10:\n",
    "    x = x + 1\n",
    "    print(x)"
   ]
  },
  {
   "cell_type": "code",
   "execution_count": 118,
   "id": "9c559fac",
   "metadata": {},
   "outputs": [
    {
     "ename": "NameError",
     "evalue": "name 'absurdo' is not defined",
     "output_type": "error",
     "traceback": [
      "\u001b[0;31m---------------------------------------------------------------------------\u001b[0m",
      "\u001b[0;31mNameError\u001b[0m                                 Traceback (most recent call last)",
      "Input \u001b[0;32mIn [118]\u001b[0m, in \u001b[0;36m<cell line: 1>\u001b[0;34m()\u001b[0m\n\u001b[0;32m----> 1\u001b[0m \u001b[38;5;28;01mwhile\u001b[39;00m \u001b[43mabsurdo\u001b[49m \u001b[38;5;241m!=\u001b[39m \u001b[38;5;124m'\u001b[39m\u001b[38;5;124mPedro\u001b[39m\u001b[38;5;124m'\u001b[39m:\n\u001b[1;32m      2\u001b[0m     absurdo \u001b[38;5;241m=\u001b[39m \u001b[38;5;28minput\u001b[39m(\u001b[38;5;124m'\u001b[39m\u001b[38;5;124mDigite meu nome: \u001b[39m\u001b[38;5;124m'\u001b[39m)\n\u001b[1;32m      3\u001b[0m     \u001b[38;5;28;01mif\u001b[39;00m absurdo \u001b[38;5;241m==\u001b[39m \u001b[38;5;124m'\u001b[39m\u001b[38;5;124mPedro\u001b[39m\u001b[38;5;124m'\u001b[39m:\n",
      "\u001b[0;31mNameError\u001b[0m: name 'absurdo' is not defined"
     ]
    }
   ],
   "source": [
    "absurdo = None\n",
    "while absurdo != 'Pedro':\n",
    "    absurdo = input('Digite meu nome: ')\n",
    "    if absurdo == 'Pedro':\n",
    "        print('Parabéns!')\n",
    "    else:\n",
    "        print('Tente de novo...')"
   ]
  },
  {
   "cell_type": "code",
   "execution_count": 120,
   "id": "12d4fb78",
   "metadata": {},
   "outputs": [
    {
     "data": {
      "text/plain": [
       "NoneType"
      ]
     },
     "execution_count": 120,
     "metadata": {},
     "output_type": "execute_result"
    }
   ],
   "source": [
    "absurdo = None\n",
    "type(absurdo)"
   ]
  },
  {
   "cell_type": "markdown",
   "id": "4c8b661c",
   "metadata": {},
   "source": [
    "Além dos dois exemplos acima, uma construção muito comum em loops condicionais são os *loops infinitos* (`while True:`). Esta forma nos permite construir condições de quebra complexas dentro do loop através de condicionais normas e do comando `break`."
   ]
  },
  {
   "cell_type": "code",
   "execution_count": 117,
   "id": "744bc4c5",
   "metadata": {},
   "outputs": [
    {
     "name": "stdout",
     "output_type": "stream",
     "text": [
      "Digite um nome: Maria\n",
      "Tente de novo...\n",
      "Digite um nome: Joao\n",
      "Tente de novo...\n",
      "Digite um nome: Pedro\n",
      "Parabéns!\n"
     ]
    }
   ],
   "source": [
    "while True:\n",
    "    nome = input('Digite um nome: ')\n",
    "    if nome == 'Adriano' or nome == 'Pedro':\n",
    "        print('Parabéns!')\n",
    "        break\n",
    "    else:\n",
    "        print('Tente de novo...')"
   ]
  },
  {
   "cell_type": "markdown",
   "id": "90b88315",
   "metadata": {},
   "source": [
    "# Desafio\n",
    "\n",
    "Conforme vimos anteriormente, listas podem conter listas. E as listas dentro de uma lista podem conter mais listas ainda... Esse tipo de estrutura é muito comum. O número de listas dentro de listas é chamado de **profundidade**. Por exemplo, a lista abaixo tem profundidade 2 (seu terceiro elemento é uma lista simples):"
   ]
  },
  {
   "cell_type": "code",
   "execution_count": null,
   "id": "30330f9d",
   "metadata": {},
   "outputs": [],
   "source": [
    "p2 = [1, 2, [1, 2, 3]]\n",
    "print(p2)"
   ]
  },
  {
   "cell_type": "markdown",
   "id": "9239a4a7",
   "metadata": {},
   "source": [
    "Enquanto a próxima tem profundidade 3 (seu terceiro elemento é uma lista que também contém uma lista):"
   ]
  },
  {
   "cell_type": "code",
   "execution_count": null,
   "id": "78e0f290",
   "metadata": {},
   "outputs": [],
   "source": [
    "p3 = [1, 2, [1, 2, [1, 2]]]\n",
    "print(p3)"
   ]
  },
  {
   "cell_type": "code",
   "execution_count": 123,
   "id": "a55e0628",
   "metadata": {},
   "outputs": [
    {
     "name": "stdout",
     "output_type": "stream",
     "text": [
      "5\n",
      "4\n",
      "3\n",
      "2\n"
     ]
    }
   ],
   "source": [
    "for i in range(5, 1, -1):\n",
    "    print(i)"
   ]
  },
  {
   "cell_type": "markdown",
   "id": "378ec4ca",
   "metadata": {},
   "source": [
    "Uma tarefa comum é *desempacotar* uma lista: sair de `[1, [1, 2]]` para `[1, 1, 2]`.\n",
    "\n",
    "Utilizando o que aprendemos hoje, construa um algoritmo para desempacotar uma lista de profundidade arbitrária!"
   ]
  },
  {
   "cell_type": "code",
   "execution_count": 129,
   "id": "bb473a98",
   "metadata": {},
   "outputs": [
    {
     "name": "stdout",
     "output_type": "stream",
     "text": [
      "[1, 1, 2, 3, 4, 5, 2, 3, 4, 5, 6, 1, 1]\n"
     ]
    }
   ],
   "source": [
    "lista = [1,[1,2, [3, 4, 5]], [2,3, [4, 5, 6, [1]]], [1]]\n",
    "lista_chata = []\n",
    "for item in lista:\n",
    "    if type(item) != list:\n",
    "        lista_chata.append(item)\n",
    "    new_item = item\n",
    "    while type(new_item) == list:\n",
    "        current_item = new_item\n",
    "        for newer_item in new_item:\n",
    "            if type(newer_item) == list:\n",
    "                new_item = newer_item\n",
    "            else:\n",
    "                lista_chata.append(newer_item)\n",
    "        if current_item == new_item:\n",
    "            break\n",
    "            \n",
    "print(lista_chata)"
   ]
  },
  {
   "cell_type": "code",
   "execution_count": null,
   "id": "a1bd8afe",
   "metadata": {},
   "outputs": [],
   "source": []
  }
 ],
 "metadata": {
  "hide_input": false,
  "kernelspec": {
   "display_name": "Python 3.9.11 ('base')",
   "language": "python",
   "name": "python3"
  },
  "language_info": {
   "codemirror_mode": {
    "name": "ipython",
    "version": 3
   },
   "file_extension": ".py",
   "mimetype": "text/x-python",
   "name": "python",
   "nbconvert_exporter": "python",
   "pygments_lexer": "ipython3",
   "version": "3.9.11"
  },
  "toc": {
   "base_numbering": 1,
   "nav_menu": {},
   "number_sections": true,
   "sideBar": true,
   "skip_h1_title": false,
   "title_cell": "Table of Contents",
   "title_sidebar": "Contents",
   "toc_cell": true,
   "toc_position": {},
   "toc_section_display": true,
   "toc_window_display": true
  },
  "vscode": {
   "interpreter": {
    "hash": "014f4a4a5af8f0104b12c029e500f4146d6d785e8cf714d2a35b7a9514230cd3"
   }
  }
 },
 "nbformat": 4,
 "nbformat_minor": 5
}
