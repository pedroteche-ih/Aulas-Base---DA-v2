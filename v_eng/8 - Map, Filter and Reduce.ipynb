{
 "cells": [
  {
   "cell_type": "code",
   "execution_count": null,
   "metadata": {
    "ExecuteTime": {
     "end_time": "2022-01-08T13:10:04.323413Z",
     "start_time": "2022-01-08T13:10:03.820962Z"
    }
   },
   "outputs": [],
   "source": [
    "import re\n",
    "import numpy as np\n",
    "import pandas as pd\n"
   ]
  },
  {
   "cell_type": "markdown",
   "metadata": {},
   "source": [
    "# Map, Filter & Reduce\n",
    "\n",
    "Let's recap the differences between the two programming paradigms we've seen so far:\n",
    "\n",
    "**Imperative Paradigm**\n",
    "- The program is a series of **instructions** that modify a **state**:\n",
    "\n",
    "```python\n",
    "x = 0\n",
    "for i in range(10):\n",
    "    x = (x + i)*2\n",
    "print x\n",
    "```\n",
    "- The *variable* `x` is the state of our program, which is modified through the `for` loop.\n",
    "\n",
    "- One the simplest forms of programming, typical of older programming languages (C, Fortran e COBOL por exemplo).\n",
    "\n",
    "**Functional Programming**\n",
    "- There is no state: the program defines functions which are applied over the input.\n",
    "```python\n",
    "def somar_2(x):\n",
    "    return x + 2\n",
    "\n",
    "def mult_4(x):\n",
    "    return x * 4\n",
    "\n",
    "saida = somar_2(mult_4(somar_2(entrada)))\n",
    "```\n",
    "- In the functional paradigm, functions are variables.\n",
    "- Originated in the 1970s with LISP and is present today in many data-oriented languages such as R, Julia, Python (em parte)."
   ]
  },
  {
   "cell_type": "markdown",
   "metadata": {},
   "source": [
    "## Funções are variables"
   ]
  },
  {
   "cell_type": "code",
   "execution_count": null,
   "metadata": {
    "ExecuteTime": {
     "end_time": "2022-01-08T13:12:09.210867Z",
     "start_time": "2022-01-08T13:12:09.194910Z"
    }
   },
   "outputs": [],
   "source": [
    "soma_1 = lambda x: x + 1\n"
   ]
  },
  {
   "cell_type": "code",
   "execution_count": null,
   "metadata": {},
   "outputs": [],
   "source": [
    "soma_1\n"
   ]
  },
  {
   "cell_type": "code",
   "execution_count": null,
   "metadata": {},
   "outputs": [],
   "source": [
    "def soma_1_c(x):\n",
    "    return x + 1\n"
   ]
  },
  {
   "cell_type": "code",
   "execution_count": null,
   "metadata": {},
   "outputs": [],
   "source": [
    "soma_1_c\n"
   ]
  },
  {
   "cell_type": "code",
   "execution_count": null,
   "metadata": {
    "ExecuteTime": {
     "end_time": "2022-01-08T13:12:17.104938Z",
     "start_time": "2022-01-08T13:12:17.087959Z"
    }
   },
   "outputs": [],
   "source": [
    "soma_1(soma_1_c(10))\n"
   ]
  },
  {
   "cell_type": "markdown",
   "metadata": {},
   "source": [
    "We can use this to create functions that `return` other functions:"
   ]
  },
  {
   "cell_type": "code",
   "execution_count": null,
   "metadata": {
    "ExecuteTime": {
     "end_time": "2022-01-08T13:13:12.044380Z",
     "start_time": "2022-01-08T13:13:12.031417Z"
    }
   },
   "outputs": [],
   "source": [
    "somar_n = lambda x, n: x + n\n"
   ]
  },
  {
   "cell_type": "code",
   "execution_count": null,
   "metadata": {
    "ExecuteTime": {
     "end_time": "2022-01-08T13:13:12.452025Z",
     "start_time": "2022-01-08T13:13:12.442069Z"
    }
   },
   "outputs": [],
   "source": [
    "soma_1 = lambda x: somar_n(x, 1)\n"
   ]
  },
  {
   "cell_type": "code",
   "execution_count": null,
   "metadata": {
    "ExecuteTime": {
     "end_time": "2022-01-08T13:13:12.980249Z",
     "start_time": "2022-01-08T13:13:12.967272Z"
    }
   },
   "outputs": [],
   "source": [
    "soma_1(10)\n"
   ]
  },
  {
   "cell_type": "markdown",
   "metadata": {},
   "source": [
    "## The `map` concept\n",
    "\n",
    "One of the key concepts in functional programming is **mapping**: applying a function to the elements of a set, list or other iterable. "
   ]
  },
  {
   "cell_type": "code",
   "execution_count": 1,
   "metadata": {
    "ExecuteTime": {
     "end_time": "2022-01-08T13:14:59.671615Z",
     "start_time": "2022-01-08T13:14:59.655657Z"
    }
   },
   "outputs": [],
   "source": [
    "lista_exemplo = [10, 12, 34, 23, 2, 6, 7]\n"
   ]
  },
  {
   "cell_type": "code",
   "execution_count": 2,
   "metadata": {
    "ExecuteTime": {
     "end_time": "2022-01-08T13:15:12.435569Z",
     "start_time": "2022-01-08T13:15:12.425597Z"
    }
   },
   "outputs": [],
   "source": [
    "def div_2(x):\n",
    "    return x / 2\n"
   ]
  },
  {
   "cell_type": "markdown",
   "metadata": {},
   "source": [
    "A simple call of `div_2(lista_exemplo)` will not work!"
   ]
  },
  {
   "cell_type": "code",
   "execution_count": null,
   "metadata": {
    "ExecuteTime": {
     "end_time": "2022-01-08T13:15:36.881231Z",
     "start_time": "2022-01-08T13:15:36.632896Z"
    },
    "scrolled": true
   },
   "outputs": [],
   "source": [
    "div_2(lista_exemplo)\n"
   ]
  },
  {
   "cell_type": "markdown",
   "metadata": {},
   "source": [
    "The `div_2` is expecting a number as an argumento, but `lista_exemplo` is a list!\n",
    "\n",
    "We could create an empty list and use a loop to iterate over `lista_exemplo`:"
   ]
  },
  {
   "cell_type": "code",
   "execution_count": null,
   "metadata": {
    "ExecuteTime": {
     "end_time": "2022-01-08T13:17:14.355876Z",
     "start_time": "2022-01-08T13:17:14.340891Z"
    }
   },
   "outputs": [],
   "source": [
    "new_list = []\n",
    "\n",
    "for item in lista_exemplo:\n",
    "    new_list.append(div_2(item))\n",
    "\n",
    "new_list\n"
   ]
  },
  {
   "cell_type": "markdown",
   "metadata": {},
   "source": [
    "Another way is using a `list comprehension`: one of the tools in the functional programming toolbox:"
   ]
  },
  {
   "cell_type": "code",
   "execution_count": null,
   "metadata": {
    "ExecuteTime": {
     "end_time": "2022-01-08T13:18:05.250407Z",
     "start_time": "2022-01-08T13:18:05.238441Z"
    }
   },
   "outputs": [],
   "source": [
    "[div_2(item) for item in lista_exemplo]\n"
   ]
  },
  {
   "cell_type": "markdown",
   "metadata": {},
   "source": [
    "A third way is using `map()`:"
   ]
  },
  {
   "cell_type": "code",
   "execution_count": null,
   "metadata": {
    "ExecuteTime": {
     "end_time": "2022-01-08T13:19:41.455605Z",
     "start_time": "2022-01-08T13:19:41.443610Z"
    }
   },
   "outputs": [],
   "source": [
    "for i in map(div_2, lista_exemplo):\n",
    "    print(i)\n"
   ]
  },
  {
   "cell_type": "markdown",
   "metadata": {},
   "source": [
    "The results from `map()` are **lazy**: it is not calculated when you call the functions but when you need the results!"
   ]
  },
  {
   "cell_type": "code",
   "execution_count": 3,
   "metadata": {
    "ExecuteTime": {
     "end_time": "2022-01-08T13:19:52.547042Z",
     "start_time": "2022-01-08T13:19:52.528077Z"
    }
   },
   "outputs": [
    {
     "data": {
      "text/plain": [
       "[5.0, 6.0, 17.0, 11.5, 1.0, 3.0, 3.5]"
      ]
     },
     "execution_count": 3,
     "metadata": {},
     "output_type": "execute_result"
    }
   ],
   "source": [
    "list(map(div_2, lista_exemplo))\n"
   ]
  },
  {
   "cell_type": "markdown",
   "metadata": {},
   "source": [
    "A *interesting* behavior of **lazy** iterators is that they become **empty as you iterate over their elements**:"
   ]
  },
  {
   "cell_type": "code",
   "execution_count": null,
   "metadata": {
    "ExecuteTime": {
     "end_time": "2022-01-08T13:20:53.619882Z",
     "start_time": "2022-01-08T13:20:53.605921Z"
    }
   },
   "outputs": [],
   "source": [
    "resultado_map = map(div_2, lista_exemplo)\n",
    "for i in resultado_map:\n",
    "    print(i)\n"
   ]
  },
  {
   "cell_type": "code",
   "execution_count": null,
   "metadata": {
    "ExecuteTime": {
     "end_time": "2022-01-08T13:21:00.001339Z",
     "start_time": "2022-01-08T13:20:59.991339Z"
    }
   },
   "outputs": [],
   "source": [
    "list(resultado_map)\n"
   ]
  },
  {
   "cell_type": "code",
   "execution_count": null,
   "metadata": {
    "ExecuteTime": {
     "end_time": "2022-01-08T13:22:21.365489Z",
     "start_time": "2022-01-08T13:22:21.351525Z"
    }
   },
   "outputs": [],
   "source": [
    "resultado_map = map(div_2, lista_exemplo)\n"
   ]
  },
  {
   "cell_type": "code",
   "execution_count": null,
   "metadata": {
    "ExecuteTime": {
     "end_time": "2022-01-08T13:22:28.149604Z",
     "start_time": "2022-01-08T13:22:28.142627Z"
    }
   },
   "outputs": [],
   "source": [
    "list(resultado_map)\n"
   ]
  },
  {
   "cell_type": "markdown",
   "metadata": {},
   "source": [
    "### Lazy evaluation\n",
    "\n",
    "Lazy evaluation is an important concept in Big Data: it saves memory and CPU by performing computations only **when they are needed**."
   ]
  },
  {
   "cell_type": "code",
   "execution_count": 4,
   "metadata": {
    "ExecuteTime": {
     "end_time": "2022-01-08T13:26:26.452434Z",
     "start_time": "2022-01-08T13:26:26.442472Z"
    }
   },
   "outputs": [],
   "source": [
    "lista_telefones = [\n",
    "    19999571559,\n",
    "    \"(21) 2412-0107\",\n",
    "    \"(34) 99762-1166\",\n",
    "    \"91-4002-8282\",\n",
    "    \"(19) 3542-1820\",\n",
    "    \"(19) 3561-9525\",\n",
    "    \"(34) 3333-5802\",\n",
    "]\n",
    "pattern = r\"[0-9]{2}\"\n"
   ]
  },
  {
   "cell_type": "code",
   "execution_count": 5,
   "metadata": {
    "ExecuteTime": {
     "end_time": "2022-01-08T13:30:02.104002Z",
     "start_time": "2022-01-08T13:30:02.081054Z"
    }
   },
   "outputs": [
    {
     "ename": "NameError",
     "evalue": "name 're' is not defined",
     "output_type": "error",
     "traceback": [
      "\u001b[0;31m---------------------------------------------------------------------------\u001b[0m",
      "\u001b[0;31mNameError\u001b[0m                                 Traceback (most recent call last)",
      "\u001b[1;32m/Users/pedroteche/Documents/Trabalho/Ironhack/Preparação de Aula/Aulas Base - DA v2/v_eng/8 - Map, Filter and Reduce.ipynb Cell 33\u001b[0m in \u001b[0;36m<cell line: 1>\u001b[0;34m()\u001b[0m\n\u001b[0;32m----> <a href='vscode-notebook-cell:/Users/pedroteche/Documents/Trabalho/Ironhack/Prepara%C3%A7%C3%A3o%20de%20Aula/Aulas%20Base%20-%20DA%20v2/v_eng/8%20-%20Map%2C%20Filter%20and%20Reduce.ipynb#X44sZmlsZQ%3D%3D?line=0'>1</a>\u001b[0m lista_dds \u001b[39m=\u001b[39m \u001b[39mlist\u001b[39;49m(\u001b[39mmap\u001b[39;49m(\u001b[39mlambda\u001b[39;49;00m x: re\u001b[39m.\u001b[39;49mfindall(pattern, \u001b[39mstr\u001b[39;49m(x))[\u001b[39m0\u001b[39;49m], lista_telefones))\n\u001b[1;32m      <a href='vscode-notebook-cell:/Users/pedroteche/Documents/Trabalho/Ironhack/Prepara%C3%A7%C3%A3o%20de%20Aula/Aulas%20Base%20-%20DA%20v2/v_eng/8%20-%20Map%2C%20Filter%20and%20Reduce.ipynb#X44sZmlsZQ%3D%3D?line=1'>2</a>\u001b[0m \u001b[39mprint\u001b[39m(lista_dds)\n",
      "\u001b[1;32m/Users/pedroteche/Documents/Trabalho/Ironhack/Preparação de Aula/Aulas Base - DA v2/v_eng/8 - Map, Filter and Reduce.ipynb Cell 33\u001b[0m in \u001b[0;36m<lambda>\u001b[0;34m(x)\u001b[0m\n\u001b[0;32m----> <a href='vscode-notebook-cell:/Users/pedroteche/Documents/Trabalho/Ironhack/Prepara%C3%A7%C3%A3o%20de%20Aula/Aulas%20Base%20-%20DA%20v2/v_eng/8%20-%20Map%2C%20Filter%20and%20Reduce.ipynb#X44sZmlsZQ%3D%3D?line=0'>1</a>\u001b[0m lista_dds \u001b[39m=\u001b[39m \u001b[39mlist\u001b[39m(\u001b[39mmap\u001b[39m(\u001b[39mlambda\u001b[39;00m x: re\u001b[39m.\u001b[39mfindall(pattern, \u001b[39mstr\u001b[39m(x))[\u001b[39m0\u001b[39m], lista_telefones))\n\u001b[1;32m      <a href='vscode-notebook-cell:/Users/pedroteche/Documents/Trabalho/Ironhack/Prepara%C3%A7%C3%A3o%20de%20Aula/Aulas%20Base%20-%20DA%20v2/v_eng/8%20-%20Map%2C%20Filter%20and%20Reduce.ipynb#X44sZmlsZQ%3D%3D?line=1'>2</a>\u001b[0m \u001b[39mprint\u001b[39m(lista_dds)\n",
      "\u001b[0;31mNameError\u001b[0m: name 're' is not defined"
     ]
    }
   ],
   "source": [
    "lista_dds = list(map(lambda x: re.findall(pattern, str(x))[0], lista_telefones))\n",
    "print(lista_dds)\n"
   ]
  },
  {
   "cell_type": "code",
   "execution_count": null,
   "metadata": {
    "ExecuteTime": {
     "end_time": "2022-01-08T13:27:32.637277Z",
     "start_time": "2022-01-08T13:27:32.621321Z"
    }
   },
   "outputs": [],
   "source": [
    "for ddd in map(lambda x: \"\".join(re.findall(pattern, str(x)))[:2], lista_telefones):\n",
    "    print(ddd)\n"
   ]
  },
  {
   "cell_type": "markdown",
   "metadata": {},
   "source": [
    "## Filtering `filter()`\n",
    "\n",
    "A segunda parte importante do paradigma funcional é a função `filter()`: ela nos permite filtrar os elementos de um iterável a partir de uma função que retorna valores booleanos. Assim como `map()`, `filter()` avalia (de forma preguiçosa) um iterável e retorna apenas os elementos onde a função aplicada retorna `True`.\n",
    "\n",
    "Vamos continuar o nosso exemplo com uma lista de telefones e uma função para extrair o DDD:"
   ]
  },
  {
   "cell_type": "code",
   "execution_count": null,
   "metadata": {
    "ExecuteTime": {
     "end_time": "2022-01-08T13:33:05.030244Z",
     "start_time": "2022-01-08T13:33:05.020271Z"
    }
   },
   "outputs": [],
   "source": [
    "lista_telefones = [\n",
    "    19999571559,\n",
    "    \"(21) 2412-0107\",\n",
    "    \"(34) 99762-1166\",\n",
    "    \"91-4002-8282\",\n",
    "    \"(19) 3542-1820\",\n",
    "    \"(19) 3561-9525\",\n",
    "    \"(34) 3333-5802\",\n",
    "]\n",
    "\n",
    "\n",
    "def extrair_ddd(telefone):\n",
    "    \"\"\"\n",
    "    Recebe um telefone e retorna seu DDD\n",
    "\n",
    "    telefone (str or int): Telefone onde os dois primeiros digitios numéricos são o DDD\n",
    "    \"\"\"\n",
    "    pattern = r\"[0-9]{2}\"\n",
    "    return \"\".join(re.findall(pattern, str(telefone)))[:2]\n"
   ]
  },
  {
   "cell_type": "code",
   "execution_count": null,
   "metadata": {
    "ExecuteTime": {
     "end_time": "2022-01-08T13:38:28.860905Z",
     "start_time": "2022-01-08T13:38:28.847940Z"
    }
   },
   "outputs": [],
   "source": [
    "map_19 = filter(lambda x: extrair_ddd(x) == \"19\", lista_telefones)\n",
    "for i in map_19:\n",
    "    print(i)\n"
   ]
  },
  {
   "cell_type": "code",
   "execution_count": null,
   "metadata": {
    "ExecuteTime": {
     "end_time": "2022-01-08T13:33:05.355788Z",
     "start_time": "2022-01-08T13:33:05.340802Z"
    }
   },
   "outputs": [],
   "source": [
    "lista_ddd_19 = list(\n",
    "    filter(lambda x: extrair_ddd(x) == \"19\", lista_telefones)\n",
    ")\n",
    "print(lista_ddd_19)\n"
   ]
  },
  {
   "cell_type": "code",
   "execution_count": null,
   "metadata": {
    "ExecuteTime": {
     "end_time": "2022-01-08T13:33:50.986883Z",
     "start_time": "2022-01-08T13:33:50.970899Z"
    }
   },
   "outputs": [],
   "source": [
    "filtro_19 = filter(lambda x: extrair_ddd(x) == \"19\", lista_telefones)\n",
    "for telefone in filtro_19:\n",
    "    print(telefone)\n"
   ]
  },
  {
   "cell_type": "markdown",
   "metadata": {},
   "source": [
    "Both `map()` and `filter()` are similar to `list comprehensions` - the only difference is that they're *lazy evaluators*!"
   ]
  },
  {
   "cell_type": "code",
   "execution_count": 6,
   "metadata": {
    "ExecuteTime": {
     "end_time": "2022-01-08T13:34:40.293201Z",
     "start_time": "2022-01-08T13:34:40.275236Z"
    }
   },
   "outputs": [
    {
     "ename": "NameError",
     "evalue": "name 'extrair_ddd' is not defined",
     "output_type": "error",
     "traceback": [
      "\u001b[0;31m---------------------------------------------------------------------------\u001b[0m",
      "\u001b[0;31mNameError\u001b[0m                                 Traceback (most recent call last)",
      "\u001b[1;32m/Users/pedroteche/Documents/Trabalho/Ironhack/Preparação de Aula/Aulas Base - DA v2/v_eng/8 - Map, Filter and Reduce.ipynb Cell 41\u001b[0m in \u001b[0;36m<cell line: 1>\u001b[0;34m()\u001b[0m\n\u001b[0;32m----> <a href='vscode-notebook-cell:/Users/pedroteche/Documents/Trabalho/Ironhack/Prepara%C3%A7%C3%A3o%20de%20Aula/Aulas%20Base%20-%20DA%20v2/v_eng/8%20-%20Map%2C%20Filter%20and%20Reduce.ipynb#X55sZmlsZQ%3D%3D?line=0'>1</a>\u001b[0m [telefone \u001b[39mfor\u001b[39;00m telefone \u001b[39min\u001b[39;00m lista_telefones \u001b[39mif\u001b[39;00m extrair_ddd(telefone) \u001b[39m==\u001b[39m \u001b[39m\"\u001b[39m\u001b[39m19\u001b[39m\u001b[39m\"\u001b[39m]\n",
      "\u001b[1;32m/Users/pedroteche/Documents/Trabalho/Ironhack/Preparação de Aula/Aulas Base - DA v2/v_eng/8 - Map, Filter and Reduce.ipynb Cell 41\u001b[0m in \u001b[0;36m<listcomp>\u001b[0;34m(.0)\u001b[0m\n\u001b[0;32m----> <a href='vscode-notebook-cell:/Users/pedroteche/Documents/Trabalho/Ironhack/Prepara%C3%A7%C3%A3o%20de%20Aula/Aulas%20Base%20-%20DA%20v2/v_eng/8%20-%20Map%2C%20Filter%20and%20Reduce.ipynb#X55sZmlsZQ%3D%3D?line=0'>1</a>\u001b[0m [telefone \u001b[39mfor\u001b[39;00m telefone \u001b[39min\u001b[39;00m lista_telefones \u001b[39mif\u001b[39;00m extrair_ddd(telefone) \u001b[39m==\u001b[39m \u001b[39m\"\u001b[39m\u001b[39m19\u001b[39m\u001b[39m\"\u001b[39m]\n",
      "\u001b[0;31mNameError\u001b[0m: name 'extrair_ddd' is not defined"
     ]
    }
   ],
   "source": [
    "[telefone for telefone in lista_telefones if extrair_ddd(telefone) == \"19\"]\n"
   ]
  },
  {
   "cell_type": "markdown",
   "metadata": {},
   "source": [
    "## Agregando iteráveis com `reduce()`\n",
    "\n",
    "The function `reduce()` implements an `accumulator`. Let's see how this works with the simple function `sum_two_elements(a, b)`:\n",
    "\n",
    "```python\n",
    "def sum_two_elements(a,b):\n",
    "    return a+b\n",
    "```\n",
    "\n",
    "now, let's use `reduce()` to *reduce* our list through summing:\n",
    "\n",
    "```python\n",
    "reduce( sum_two_elements, [1,4,6,8] )\n",
    "```\n",
    "\n",
    "```python\n",
    "a = 0 # accumulator\n",
    "b = 1 # value\n",
    "a + b = 1 # so the accumulator receives this cummulative sum\n",
    "\n",
    "a = 1 # accumulator\n",
    "b = 4 # value\n",
    "a + b = 5\n",
    "...\n",
    "a = 5 # accumulator\n",
    "b = 6 # value \n",
    "a + b = 11\n",
    "...\n",
    "a = 11 # accumulator\n",
    "b = 8 # value\n",
    "a + b = 19\n",
    "\n",
    "return 19\n",
    "```"
   ]
  },
  {
   "cell_type": "code",
   "execution_count": 8,
   "metadata": {
    "ExecuteTime": {
     "end_time": "2022-01-08T13:40:26.699812Z",
     "start_time": "2022-01-08T13:40:26.690809Z"
    }
   },
   "outputs": [],
   "source": [
    "from functools import reduce\n"
   ]
  },
  {
   "cell_type": "markdown",
   "metadata": {},
   "source": [
    "### Example 1: Numbers"
   ]
  },
  {
   "cell_type": "code",
   "execution_count": null,
   "metadata": {
    "ExecuteTime": {
     "end_time": "2022-01-08T13:40:45.001881Z",
     "start_time": "2022-01-08T13:40:44.996892Z"
    }
   },
   "outputs": [],
   "source": [
    "def somar_ab(a, b):\n",
    "    print(f\"a={a}, b={b}\")\n",
    "    return a + b\n"
   ]
  },
  {
   "cell_type": "code",
   "execution_count": null,
   "metadata": {
    "ExecuteTime": {
     "end_time": "2022-01-08T13:41:03.621781Z",
     "start_time": "2022-01-08T13:41:03.599837Z"
    },
    "scrolled": true
   },
   "outputs": [],
   "source": [
    "lista_numeros = [1, 4, 6, 8]\n",
    "reduce(somar_ab, lista_numeros)\n"
   ]
  },
  {
   "cell_type": "code",
   "execution_count": null,
   "metadata": {
    "ExecuteTime": {
     "end_time": "2022-01-08T13:45:31.605477Z",
     "start_time": "2022-01-08T13:45:31.598496Z"
    }
   },
   "outputs": [],
   "source": [
    "def comp_ab(x, y):\n",
    "    print(f\"a={x}, b={y}\")\n",
    "    if x > y:\n",
    "        return x\n",
    "    else:\n",
    "        return y\n",
    "\n",
    "\n",
    "reduce(comp_ab, [2, 10, 25, 1, -10, 13, 40, 20])\n"
   ]
  },
  {
   "cell_type": "markdown",
   "metadata": {},
   "source": [
    "### Example 2: Strings"
   ]
  },
  {
   "cell_type": "code",
   "execution_count": null,
   "metadata": {
    "ExecuteTime": {
     "end_time": "2022-01-08T13:46:48.190189Z",
     "start_time": "2022-01-08T13:46:48.182210Z"
    }
   },
   "outputs": [],
   "source": [
    "lista_letras = [\"P\", \"e\", \"d\", \"r\", \"o\"]\n"
   ]
  },
  {
   "cell_type": "code",
   "execution_count": null,
   "metadata": {
    "ExecuteTime": {
     "end_time": "2022-01-08T13:46:49.230760Z",
     "start_time": "2022-01-08T13:46:49.222760Z"
    }
   },
   "outputs": [],
   "source": [
    "reduce(lambda x, y: x + y, lista_letras)\n"
   ]
  },
  {
   "cell_type": "markdown",
   "metadata": {},
   "source": [
    "Let's use reduce to select the longest string in a list:"
   ]
  },
  {
   "cell_type": "code",
   "execution_count": null,
   "metadata": {
    "ExecuteTime": {
     "end_time": "2022-01-08T13:47:22.941553Z",
     "start_time": "2022-01-08T13:47:22.933575Z"
    }
   },
   "outputs": [],
   "source": [
    "lista_nomes = [\"Amapá\", \"Roraima\", \"Pará\", \"Piauí\", \"Maranhão\"]\n",
    "reduce(lambda x, y: x if len(x) > len(y) else y, lista_nomes)\n"
   ]
  },
  {
   "cell_type": "markdown",
   "metadata": {},
   "source": [
    "### Example 3: Chaining Map, Filter & Reduce"
   ]
  },
  {
   "cell_type": "code",
   "execution_count": 12,
   "metadata": {},
   "outputs": [],
   "source": [
    "list_tuples = [(12, 119), (-12, 43), (28, 39), (12, 21), (-14, 43)]"
   ]
  },
  {
   "cell_type": "code",
   "execution_count": 13,
   "metadata": {},
   "outputs": [
    {
     "name": "stdout",
     "output_type": "stream",
     "text": [
      "252\n"
     ]
    }
   ],
   "source": [
    "map_prod = map(lambda x: x[0] *x[1], list_tuples)\n",
    "filt_neg = filter(lambda x: x > 0, map_prod)\n",
    "smallest = reduce(lambda x, y: x if x < y else y, filt_neg)\n",
    "\n",
    "print(smallest)"
   ]
  },
  {
   "cell_type": "code",
   "execution_count": null,
   "metadata": {},
   "outputs": [],
   "source": []
  }
 ],
 "metadata": {
  "hide_input": false,
  "kernelspec": {
   "display_name": "Python 3.9.11 ('base')",
   "language": "python",
   "name": "python3"
  },
  "language_info": {
   "codemirror_mode": {
    "name": "ipython",
    "version": 3
   },
   "file_extension": ".py",
   "mimetype": "text/x-python",
   "name": "python",
   "nbconvert_exporter": "python",
   "pygments_lexer": "ipython3",
   "version": "3.9.11"
  },
  "toc": {
   "base_numbering": 1,
   "nav_menu": {},
   "number_sections": true,
   "sideBar": true,
   "skip_h1_title": false,
   "title_cell": "Table of Contents",
   "title_sidebar": "Contents",
   "toc_cell": false,
   "toc_position": {},
   "toc_section_display": true,
   "toc_window_display": false
  },
  "varInspector": {
   "cols": {
    "lenName": 16,
    "lenType": 16,
    "lenVar": 40
   },
   "kernels_config": {
    "python": {
     "delete_cmd_postfix": "",
     "delete_cmd_prefix": "del ",
     "library": "var_list.py",
     "varRefreshCmd": "print(var_dic_list())"
    },
    "r": {
     "delete_cmd_postfix": ") ",
     "delete_cmd_prefix": "rm(",
     "library": "var_list.r",
     "varRefreshCmd": "cat(var_dic_list()) "
    }
   },
   "types_to_exclude": [
    "module",
    "function",
    "builtin_function_or_method",
    "instance",
    "_Feature"
   ],
   "window_display": false
  },
  "vscode": {
   "interpreter": {
    "hash": "014f4a4a5af8f0104b12c029e500f4146d6d785e8cf714d2a35b7a9514230cd3"
   }
  }
 },
 "nbformat": 4,
 "nbformat_minor": 4
}
