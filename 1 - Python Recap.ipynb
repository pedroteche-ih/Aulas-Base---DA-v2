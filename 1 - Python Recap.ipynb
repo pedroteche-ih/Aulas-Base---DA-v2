{
 "cells": [
  {
   "cell_type": "markdown",
   "id": "eb335249",
   "metadata": {
    "toc": true
   },
   "source": [
    "<h1>Table of Contents<span class=\"tocSkip\"></span></h1>\n",
    "<div class=\"toc\"><ul class=\"toc-item\"><li><span><a href=\"#Aula-II---Python-Recap\" data-toc-modified-id=\"Aula-II---Python-Recap-1\"><span class=\"toc-item-num\">1&nbsp;&nbsp;</span>Aula II - Python Recap</a></span><ul class=\"toc-item\"><li><span><a href=\"#Tipos-(Estruturas-de-Dados)\" data-toc-modified-id=\"Tipos-(Estruturas-de-Dados)-1.1\"><span class=\"toc-item-num\">1.1&nbsp;&nbsp;</span>Tipos (Estruturas de Dados)</a></span><ul class=\"toc-item\"><li><span><a href=\"#Strings-(str)\" data-toc-modified-id=\"Strings-(str)-1.1.1\"><span class=\"toc-item-num\">1.1.1&nbsp;&nbsp;</span>Strings (str)</a></span></li><li><span><a href=\"#Booleans-(bool)\" data-toc-modified-id=\"Booleans-(bool)-1.1.2\"><span class=\"toc-item-num\">1.1.2&nbsp;&nbsp;</span>Booleans (bool)</a></span></li><li><span><a href=\"#Integers\" data-toc-modified-id=\"Integers-1.1.3\"><span class=\"toc-item-num\">1.1.3&nbsp;&nbsp;</span>Integers</a></span></li><li><span><a href=\"#Floats\" data-toc-modified-id=\"Floats-1.1.4\"><span class=\"toc-item-num\">1.1.4&nbsp;&nbsp;</span>Floats</a></span></li><li><span><a href=\"#Lists\" data-toc-modified-id=\"Lists-1.1.5\"><span class=\"toc-item-num\">1.1.5&nbsp;&nbsp;</span>Lists</a></span></li></ul></li><li><span><a href=\"#Variáveis\" data-toc-modified-id=\"Variáveis-1.2\"><span class=\"toc-item-num\">1.2&nbsp;&nbsp;</span>Variáveis</a></span><ul class=\"toc-item\"><li><span><a href=\"#f-Strings\" data-toc-modified-id=\"f-Strings-1.2.1\"><span class=\"toc-item-num\">1.2.1&nbsp;&nbsp;</span>f-Strings</a></span></li></ul></li><li><span><a href=\"#Operadores\" data-toc-modified-id=\"Operadores-1.3\"><span class=\"toc-item-num\">1.3&nbsp;&nbsp;</span>Operadores</a></span></li><li><span><a href=\"#Estruturas-de-Controle\" data-toc-modified-id=\"Estruturas-de-Controle-1.4\"><span class=\"toc-item-num\">1.4&nbsp;&nbsp;</span>Estruturas de Controle</a></span><ul class=\"toc-item\"><li><span><a href=\"#Condicionais-(if,-elif,-else)\" data-toc-modified-id=\"Condicionais-(if,-elif,-else)-1.4.1\"><span class=\"toc-item-num\">1.4.1&nbsp;&nbsp;</span>Condicionais (if, elif, else)</a></span></li><li><span><a href=\"#Loop-(for)\" data-toc-modified-id=\"Loop-(for)-1.4.2\"><span class=\"toc-item-num\">1.4.2&nbsp;&nbsp;</span>Loop (for)</a></span></li><li><span><a href=\"#Loop-condicional-(while)\" data-toc-modified-id=\"Loop-condicional-(while)-1.4.3\"><span class=\"toc-item-num\">1.4.3&nbsp;&nbsp;</span>Loop condicional (while)</a></span></li></ul></li></ul></li><li><span><a href=\"#Desafio\" data-toc-modified-id=\"Desafio-2\"><span class=\"toc-item-num\">2&nbsp;&nbsp;</span>Desafio</a></span></li><li><span><a href=\"#VOLTAMOS-21H10\" data-toc-modified-id=\"VOLTAMOS-21H10-3\"><span class=\"toc-item-num\">3&nbsp;&nbsp;</span>VOLTAMOS 21H10</a></span></li></ul></div>"
   ]
  },
  {
   "attachments": {},
   "cell_type": "markdown",
   "id": "3f5128b9",
   "metadata": {},
   "source": [
    "![Atalhos%20Jupyter.jpg](https://i.pinimg.com/originals/19/8f/d6/198fd6fc321dff3a4ea799d4fba61b97.jpg)"
   ]
  },
  {
   "attachments": {},
   "cell_type": "markdown",
   "id": "03a1ac24",
   "metadata": {},
   "source": [
    "# Aula II - Python Recap\n",
    "Vamos começar revendo alguns dos conceitos utilizados durante o pre-work.\n",
    "\n",
    "## Tipos (Estruturas de Dados)\n",
    "Ao longo do curso lidaremos com diferentes tipos de informações: palavras, números, conjuntos, listas, etc... Estas estruturas são chamadas de **tipos**. Hoje reveremos os tipos básicos: **strings**, **booleans**, **integers**, **floats** e **lists**.\n",
    "\n",
    "### Strings (str)\n",
    "Strings, chamados de **str** no Python, são informações guardadas como palavras (sequencias de caracteres)."
   ]
  },
  {
   "cell_type": "code",
   "execution_count": null,
   "id": "0ac0ade0",
   "metadata": {},
   "outputs": [],
   "source": [
    "print('ABC')"
   ]
  },
  {
   "cell_type": "code",
   "execution_count": null,
   "id": "14308b7c",
   "metadata": {},
   "outputs": [],
   "source": [
    "type('ABC')"
   ]
  },
  {
   "cell_type": "code",
   "execution_count": null,
   "id": "c189c224",
   "metadata": {},
   "outputs": [],
   "source": [
    "print('1')"
   ]
  },
  {
   "cell_type": "code",
   "execution_count": null,
   "id": "436295de",
   "metadata": {},
   "outputs": [],
   "source": [
    "type('1')"
   ]
  },
  {
   "cell_type": "markdown",
   "id": "feff9c98",
   "metadata": {},
   "source": [
    "### Booleans (bool)\n",
    "Valores booleanos, chamados de **bool**, são valores que podem ter apenas 2 valores: `True` e `False`"
   ]
  },
  {
   "cell_type": "code",
   "execution_count": null,
   "id": "00d9e635",
   "metadata": {},
   "outputs": [],
   "source": [
    "print(True)"
   ]
  },
  {
   "cell_type": "code",
   "execution_count": null,
   "id": "fac9f60c",
   "metadata": {},
   "outputs": [],
   "source": [
    "type(True)"
   ]
  },
  {
   "cell_type": "code",
   "execution_count": null,
   "id": "8909fa65",
   "metadata": {},
   "outputs": [],
   "source": [
    "print(False)"
   ]
  },
  {
   "cell_type": "code",
   "execution_count": null,
   "id": "0794f3f3",
   "metadata": {},
   "outputs": [],
   "source": [
    "type(False)"
   ]
  },
  {
   "cell_type": "markdown",
   "id": "8e5d11fb",
   "metadata": {},
   "source": [
    "### Integers\n",
    "Integers, chamados de **int**, são números inteiros, e são representados por, supresa, números..."
   ]
  },
  {
   "cell_type": "code",
   "execution_count": null,
   "id": "ddcfb805",
   "metadata": {},
   "outputs": [],
   "source": [
    "print(1)"
   ]
  },
  {
   "cell_type": "code",
   "execution_count": null,
   "id": "b237fb1c",
   "metadata": {},
   "outputs": [],
   "source": [
    "type(1)"
   ]
  },
  {
   "cell_type": "code",
   "execution_count": null,
   "id": "1f90b69e",
   "metadata": {},
   "outputs": [],
   "source": [
    "type('1')"
   ]
  },
  {
   "cell_type": "markdown",
   "id": "fec7e22e",
   "metadata": {},
   "source": [
    "### Floats\n",
    "Floats, chamados de **float**, são números racionais (com casas decimais) de precisão limitada (https://docs.python.org/3/tutorial/floatingpoint.html)."
   ]
  },
  {
   "cell_type": "code",
   "execution_count": null,
   "id": "f102b70e",
   "metadata": {},
   "outputs": [],
   "source": [
    "print(3.2)"
   ]
  },
  {
   "cell_type": "code",
   "execution_count": null,
   "id": "ba148403",
   "metadata": {},
   "outputs": [],
   "source": [
    "type(3.2)"
   ]
  },
  {
   "cell_type": "code",
   "execution_count": null,
   "id": "7e83fbbe",
   "metadata": {},
   "outputs": [],
   "source": [
    "type(1.)"
   ]
  },
  {
   "cell_type": "markdown",
   "id": "c4c0e53f",
   "metadata": {},
   "source": [
    "### Lists\n",
    "\n",
    "Lists, chamados de **list**, são um tipo complexo capax de armazenar diversas informações (como uma lista) de forma ordenada."
   ]
  },
  {
   "cell_type": "code",
   "execution_count": null,
   "id": "3ae0b06e",
   "metadata": {},
   "outputs": [],
   "source": [
    "print([1, 2, 3])"
   ]
  },
  {
   "cell_type": "code",
   "execution_count": null,
   "id": "b15d5b80",
   "metadata": {},
   "outputs": [],
   "source": [
    "type([1, 2, 3])"
   ]
  },
  {
   "cell_type": "markdown",
   "id": "e655b558",
   "metadata": {},
   "source": [
    "Podemos acessar uma posição particular da lista utilizando a notação de `[indice]`, onde o `indice` é um `int`."
   ]
  },
  {
   "cell_type": "code",
   "execution_count": null,
   "id": "4beb0e83",
   "metadata": {},
   "outputs": [],
   "source": [
    "[1, 2, 3][1]"
   ]
  },
  {
   "cell_type": "code",
   "execution_count": null,
   "id": "48b65f46",
   "metadata": {},
   "outputs": [],
   "source": [
    "type([1, 2, 3][1])"
   ]
  },
  {
   "cell_type": "markdown",
   "id": "f64b4d7a",
   "metadata": {},
   "source": [
    "Podemos montar listas a partir de qualquer tipo de objeto, até mesmo outras listas:"
   ]
  },
  {
   "cell_type": "code",
   "execution_count": null,
   "id": "d3b35692",
   "metadata": {},
   "outputs": [],
   "source": [
    "[1, 'ABC', [2, '35']]"
   ]
  },
  {
   "cell_type": "code",
   "execution_count": null,
   "id": "51cf18d7",
   "metadata": {},
   "outputs": [],
   "source": [
    "type([1, 'ABC', [2, '35']])"
   ]
  },
  {
   "cell_type": "code",
   "execution_count": null,
   "id": "27c5f4f6",
   "metadata": {},
   "outputs": [],
   "source": [
    "type([1, 'ABC', [2, '35']][2])"
   ]
  },
  {
   "cell_type": "code",
   "execution_count": null,
   "id": "8235a721",
   "metadata": {},
   "outputs": [],
   "source": [
    "[1, 'ABC', [2, '35']][2][1]"
   ]
  },
  {
   "cell_type": "code",
   "execution_count": null,
   "id": "e3dc8c5a",
   "metadata": {},
   "outputs": [],
   "source": [
    "type([1, 'ABC', [2, '35']][2])"
   ]
  },
  {
   "cell_type": "markdown",
   "id": "a355a994",
   "metadata": {},
   "source": [
    "## Variáveis\n",
    "\n",
    "Até agora utilizamos o python apenas para mostrar diferentes tipos de objetos que podemos utilizar. Para manipular estes objetos precisamos guarda-los através da utilização de variáveis."
   ]
  },
  {
   "cell_type": "code",
   "execution_count": null,
   "id": "b160a5f7",
   "metadata": {},
   "outputs": [],
   "source": [
    "x = 1"
   ]
  },
  {
   "cell_type": "code",
   "execution_count": null,
   "id": "2833f6ec",
   "metadata": {},
   "outputs": [],
   "source": [
    "print(x)"
   ]
  },
  {
   "cell_type": "code",
   "execution_count": null,
   "id": "783117cd",
   "metadata": {},
   "outputs": [],
   "source": [
    "type(x)"
   ]
  },
  {
   "cell_type": "code",
   "execution_count": null,
   "id": "dbb23998",
   "metadata": {},
   "outputs": [],
   "source": [
    "x = x+1\n",
    "print(x)"
   ]
  },
  {
   "cell_type": "code",
   "execution_count": null,
   "id": "5d771298",
   "metadata": {},
   "outputs": [],
   "source": [
    "x = \"Pedro\""
   ]
  },
  {
   "cell_type": "code",
   "execution_count": null,
   "id": "311498ff",
   "metadata": {},
   "outputs": [],
   "source": [
    "print(x)"
   ]
  },
  {
   "cell_type": "markdown",
   "id": "d0a81940",
   "metadata": {},
   "source": [
    "### f-Strings\n",
    "\n",
    "Além da forma tradicional de construir um string, utilizando aspas simples ou duplas, podemos utilizar os f-strings para combinar variáveis dentro de um string."
   ]
  },
  {
   "cell_type": "code",
   "execution_count": null,
   "id": "f28a3cc7",
   "metadata": {},
   "outputs": [],
   "source": [
    "x = 22\n",
    "print(f'O valor de x é {x}')"
   ]
  },
  {
   "cell_type": "code",
   "execution_count": null,
   "id": "f6d70591",
   "metadata": {},
   "outputs": [],
   "source": [
    "meu_nome = 'Pedro'\n",
    "print(f'Meu nome é {meu_nome}')"
   ]
  },
  {
   "cell_type": "code",
   "execution_count": null,
   "id": "893a7fc4",
   "metadata": {},
   "outputs": [],
   "source": [
    "meu_nome = [1,2,3]\n",
    "print(f'Meu nome é {meu_nome}')"
   ]
  },
  {
   "cell_type": "markdown",
   "id": "36b723e6",
   "metadata": {},
   "source": [
    "## Operadores\n",
    "Operadores são operações definidas entre 2 objetos. Quando estes objetos são números (`int` e `float`), os operadores são as operações matemáticas. No entanto, operadores podem ser utilizados entre outros tipos de objetos.\n",
    "\n",
    "Primeiro veremos a utilização das operações matemáticas tradicionais:"
   ]
  },
  {
   "cell_type": "code",
   "execution_count": null,
   "id": "f9c4643b",
   "metadata": {},
   "outputs": [],
   "source": [
    "soma = 2 + 2.\n",
    "sub = 2 - 2\n",
    "mult = 2 * 2\n",
    "div = 2 / 3\n",
    "exp = 2 ** 3\n",
    "mod = 5%3\n",
    "print(soma)\n",
    "print(sub)\n",
    "print(mult)\n",
    "print(div)\n",
    "print(exp)\n",
    "print(mod)"
   ]
  },
  {
   "cell_type": "markdown",
   "id": "f66678c9",
   "metadata": {},
   "source": [
    "Podemos utilizar os operadores de adição (entre dois `str`) e multiplicação em strings (entre um `str` e um `int`):"
   ]
  },
  {
   "cell_type": "code",
   "execution_count": null,
   "id": "c6c7bc28",
   "metadata": {},
   "outputs": [],
   "source": [
    "soma = 'Pedro ' + 'Teche'\n",
    "mult = 'Pedro ' * 5\n",
    "print(soma)\n",
    "print(mult)"
   ]
  },
  {
   "cell_type": "code",
   "execution_count": null,
   "id": "aadbc640",
   "metadata": {},
   "outputs": [],
   "source": [
    "type(mult)"
   ]
  },
  {
   "cell_type": "code",
   "execution_count": null,
   "id": "51c3982e",
   "metadata": {},
   "outputs": [],
   "source": [
    "mult[1]"
   ]
  },
  {
   "cell_type": "markdown",
   "id": "290cdb7c",
   "metadata": {},
   "source": [
    "e também em listas (adição entre duas `lists` e multiplicação entre uma `list` e um `int`)"
   ]
  },
  {
   "cell_type": "code",
   "execution_count": null,
   "id": "f339e71e",
   "metadata": {},
   "outputs": [],
   "source": [
    "soma = [1, 2] + [3, 4] + [5, 6]\n",
    "mult = [1, 2] * 5\n",
    "print(soma)\n",
    "print(mult)"
   ]
  },
  {
   "cell_type": "markdown",
   "id": "7a61bdfb",
   "metadata": {},
   "source": [
    "Podemos utilizar todos os operadores matemáticos em `bools`: o valor `True` é convertido no `int` **1** e o valor `False` e convertido no `int` **0**."
   ]
  },
  {
   "cell_type": "code",
   "execution_count": null,
   "id": "7c5b2c96",
   "metadata": {},
   "outputs": [],
   "source": [
    "soma = True + True\n",
    "sub = True + True - False\n",
    "mult = True * True * True * True * False\n",
    "div = 2 / True\n",
    "print(soma)\n",
    "print(sub)\n",
    "print(mult)\n",
    "print(div)"
   ]
  },
  {
   "cell_type": "markdown",
   "id": "364d1743",
   "metadata": {},
   "source": [
    "## Estruturas de Controle\n",
    "\n",
    "Estruturas de controle nos permitem alterar *o fluxo do nosso código*: executar certos comandos (linhas de código) apenas quando certas condições são verdadeiras, ou então repetir algumas linhas de código de forma controlada. Para isto precisamos utilizar as 3 estruturas básicas de controle: **if** (condicionais), **for** (loops) e **while** (loops condicionais).\n",
    "\n",
    "### Condicionais (if, elif, else)\n",
    "As estruturas condicionais nos permitem controlar a execução das linhas a partir de condições: relações de equivalência, `==`, ou de comparação, `<`. Ao longo do curso veremos outras formas mais complexas de construir condições."
   ]
  },
  {
   "cell_type": "code",
   "execution_count": null,
   "id": "20211866",
   "metadata": {},
   "outputs": [],
   "source": [
    "1 == 2"
   ]
  },
  {
   "cell_type": "code",
   "execution_count": null,
   "id": "d74ee7fe",
   "metadata": {},
   "outputs": [],
   "source": [
    "1 < 10"
   ]
  },
  {
   "cell_type": "code",
   "execution_count": null,
   "id": "1229fb10",
   "metadata": {},
   "outputs": [],
   "source": [
    "1 <= 10"
   ]
  },
  {
   "cell_type": "code",
   "execution_count": null,
   "id": "57c780c6",
   "metadata": {},
   "outputs": [],
   "source": [
    "10 > 10"
   ]
  },
  {
   "cell_type": "code",
   "execution_count": null,
   "id": "0a2c449e",
   "metadata": {},
   "outputs": [],
   "source": [
    "10 >= 10"
   ]
  },
  {
   "cell_type": "code",
   "execution_count": null,
   "id": "1a274ae1",
   "metadata": {},
   "outputs": [],
   "source": [
    "if 1 == 2:\n",
    "    print('Errado')\n",
    "    print('Ola')\n",
    "    print('sim,0')\n",
    "    x = 10"
   ]
  },
  {
   "cell_type": "code",
   "execution_count": null,
   "id": "2a5766c1",
   "metadata": {},
   "outputs": [],
   "source": [
    "print(x)"
   ]
  },
  {
   "cell_type": "code",
   "execution_count": null,
   "id": "cc920e9f",
   "metadata": {},
   "outputs": [],
   "source": [
    "if 1 == 2:\n",
    "    print('Errado')\n",
    "else:\n",
    "    print('Certo')"
   ]
  },
  {
   "cell_type": "code",
   "execution_count": null,
   "id": "a9f7a45c",
   "metadata": {},
   "outputs": [],
   "source": [
    "if 1 == 1:\n",
    "    print('Errado')\n",
    "else:\n",
    "    print('Certo')"
   ]
  },
  {
   "cell_type": "code",
   "execution_count": null,
   "id": "2d020f4f",
   "metadata": {},
   "outputs": [],
   "source": [
    "x = 5\n",
    "if x == 1:\n",
    "    print('X é 1')\n",
    "else:\n",
    "    print('X não é 1')"
   ]
  },
  {
   "cell_type": "code",
   "execution_count": null,
   "id": "1f75f735",
   "metadata": {},
   "outputs": [],
   "source": [
    "x = 'ABC'\n",
    "if type(x) == int:\n",
    "    print(x + 1)\n",
    "else:\n",
    "    print(x)"
   ]
  },
  {
   "cell_type": "code",
   "execution_count": null,
   "id": "e78f0716",
   "metadata": {},
   "outputs": [],
   "source": [
    "x + 1"
   ]
  },
  {
   "cell_type": "markdown",
   "id": "162f8c7e",
   "metadata": {},
   "source": [
    "A primeira condição é a que segue imediatamente após o `if`. Já o `else` nos permite executar certas linhas quando essa condição não é verdadeira.\n",
    "\n",
    "Podemos utilizar o `elif` (lido *else if*) para encadear diversas condições em série:"
   ]
  },
  {
   "cell_type": "code",
   "execution_count": null,
   "id": "293995f2",
   "metadata": {},
   "outputs": [],
   "source": [
    "x = input('Digite um nome')"
   ]
  },
  {
   "cell_type": "code",
   "execution_count": null,
   "id": "bf60a469",
   "metadata": {},
   "outputs": [],
   "source": [
    "x"
   ]
  },
  {
   "cell_type": "code",
   "execution_count": null,
   "id": "d8b1d5ef",
   "metadata": {},
   "outputs": [],
   "source": [
    "if x == 'Pedro':\n",
    "    print('Eu')\n",
    "elif x == 'Adriano':\n",
    "    print('Querido TA')\n",
    "else:\n",
    "    print('Não sei...')"
   ]
  },
  {
   "cell_type": "markdown",
   "id": "37ba055e",
   "metadata": {},
   "source": [
    "Além de condições simples, podemos construir condições mais complexas através dos operadores lógicos `and` e `or`:"
   ]
  },
  {
   "cell_type": "code",
   "execution_count": null,
   "id": "58fee5a4",
   "metadata": {},
   "outputs": [],
   "source": [
    "0 < 10 and 0 > -5"
   ]
  },
  {
   "cell_type": "code",
   "execution_count": null,
   "id": "68c1f7cd",
   "metadata": {},
   "outputs": [],
   "source": [
    "1 < 7 and 6 < 5"
   ]
  },
  {
   "cell_type": "code",
   "execution_count": null,
   "id": "f1475b42",
   "metadata": {},
   "outputs": [],
   "source": [
    "1 < 7 or 6 < 7"
   ]
  },
  {
   "cell_type": "code",
   "execution_count": null,
   "id": "01c6d677",
   "metadata": {},
   "outputs": [],
   "source": [
    "x = 21\n",
    "if x >= 0 and x < 10:\n",
    "    print('X entre 0 e 9')\n",
    "elif x >= 10 and x < 20:\n",
    "    print('X entre 10 e 19')\n",
    "elif x < 0:\n",
    "    print('X menor que 0')\n",
    "else:\n",
    "    print('X é maior que 19')\n",
    "x=1 "
   ]
  },
  {
   "cell_type": "markdown",
   "id": "871ef7e9",
   "metadata": {},
   "source": [
    "### Loop (for)\n",
    "\n",
    "Para executar um conjunto de linhas de forma repetida, podemos utilizar um **loop**. O loop é uma estrutura de controle que nos permite percorrer um **iterável** (por exemplo, uma lista) e executar um conjunto de linhas para cada elemento deste iterável."
   ]
  },
  {
   "cell_type": "code",
   "execution_count": null,
   "id": "4667c1af",
   "metadata": {},
   "outputs": [],
   "source": [
    "esta_lista = [3, 2, 4]"
   ]
  },
  {
   "cell_type": "code",
   "execution_count": null,
   "id": "25bece14",
   "metadata": {},
   "outputs": [],
   "source": [
    "for elemento in esta_lista:\n",
    "    elemento_quadrado = elemento ** 2\n",
    "    print(elemento_quadrado)"
   ]
  },
  {
   "cell_type": "code",
   "execution_count": null,
   "id": "be4c6cdb",
   "metadata": {},
   "outputs": [],
   "source": [
    "elemento = esta_lista[0]\n",
    "elemento_quadrado = elemento ** 2\n",
    "print(elemento_quadrado)\n",
    "elemento = esta_lista[1]\n",
    "elemento_quadrado = elemento ** 2\n",
    "print(elemento_quadrado)\n",
    "elemento = esta_lista[2]\n",
    "elemento_quadrado = elemento ** 2\n",
    "print(elemento_quadrado)"
   ]
  },
  {
   "cell_type": "markdown",
   "id": "62ebc36b",
   "metadata": {},
   "source": [
    "Podemos utilizar condicionais dentro de loops:"
   ]
  },
  {
   "cell_type": "code",
   "execution_count": null,
   "id": "313b1b77",
   "metadata": {},
   "outputs": [],
   "source": [
    "outra_lista = [2, 3, 5, '4', 'Pedro']"
   ]
  },
  {
   "cell_type": "code",
   "execution_count": null,
   "id": "78a54b90",
   "metadata": {},
   "outputs": [],
   "source": [
    "for elemento in outra_lista:\n",
    "    if type(elemento) == int or type(elemento) == float:\n",
    "        print(f'Elemento ao quadrado = {elemento ** 2}')\n",
    "    else:\n",
    "        print(f'Elemento original = {elemento}')"
   ]
  },
  {
   "cell_type": "markdown",
   "id": "ee735a7f",
   "metadata": {},
   "source": [
    "Por fim podemos utilizar loops dentro de loops (nesting):"
   ]
  },
  {
   "cell_type": "code",
   "execution_count": null,
   "id": "ef4c8ce0",
   "metadata": {},
   "outputs": [],
   "source": [
    "terceira_lista = [[1, 2, 3], [2, 3, 4], [4, 5, 6]]"
   ]
  },
  {
   "cell_type": "code",
   "execution_count": null,
   "id": "2b822f4a",
   "metadata": {},
   "outputs": [],
   "source": [
    "for elemento in terceira_lista:\n",
    "    print(type(elemento))"
   ]
  },
  {
   "cell_type": "code",
   "execution_count": null,
   "id": "4f17351a",
   "metadata": {},
   "outputs": [],
   "source": [
    "for elemento in terceira_lista:\n",
    "    print('Trocando de lista')\n",
    "    for outro_elemento in elemento:\n",
    "        print(type(outro_elemento))\n",
    "        print('Eita')"
   ]
  },
  {
   "cell_type": "code",
   "execution_count": null,
   "id": "c474e5f1",
   "metadata": {},
   "outputs": [],
   "source": [
    "for lista in terceira_lista:\n",
    "    print(lista)\n",
    "    for elemento in lista:\n",
    "        print(f'Elemento ao quadrado = {elemento ** 2}')"
   ]
  },
  {
   "cell_type": "code",
   "execution_count": null,
   "id": "6e5e9c0d",
   "metadata": {},
   "outputs": [],
   "source": [
    "for lista in terceira_lista:\n",
    "    print('ola')"
   ]
  },
  {
   "cell_type": "markdown",
   "id": "a1bba43a",
   "metadata": {},
   "source": [
    "### Loop condicional (while)\n",
    "\n",
    "Para executar um conjunto de linhas de forma repetida, podemos utilizar um **loop**. O loop é uma estrutura de controle que nos permite percorrer um **iterável** (por exemplo, uma lista) e executar um conjunto de linhas para cada elemento deste iterável."
   ]
  },
  {
   "cell_type": "code",
   "execution_count": null,
   "id": "783306ec",
   "metadata": {},
   "outputs": [],
   "source": [
    "x = 0\n",
    "for lista in terceira_lista:\n",
    "    x = x+1\n",
    "    print(x)"
   ]
  },
  {
   "cell_type": "code",
   "execution_count": null,
   "id": "3a2ae54a",
   "metadata": {},
   "outputs": [],
   "source": [
    "x = 0\n",
    "while x < 10:\n",
    "    x = x + 1\n",
    "    print(x)"
   ]
  },
  {
   "cell_type": "code",
   "execution_count": null,
   "id": "9c559fac",
   "metadata": {},
   "outputs": [],
   "source": [
    "absurdo = None\n",
    "while absurdo != 'Pedro':\n",
    "    absurdo = input('Digite meu nome: ')\n",
    "    if absurdo == 'Pedro':\n",
    "        print('Parabéns!')\n",
    "    else:\n",
    "        print('Tente de novo...')"
   ]
  },
  {
   "cell_type": "code",
   "execution_count": null,
   "id": "12d4fb78",
   "metadata": {},
   "outputs": [],
   "source": [
    "absurdo = None\n",
    "type(absurdo)"
   ]
  },
  {
   "cell_type": "markdown",
   "id": "4c8b661c",
   "metadata": {},
   "source": [
    "Além dos dois exemplos acima, uma construção muito comum em loops condicionais são os *loops infinitos* (`while True:`). Esta forma nos permite construir condições de quebra complexas dentro do loop através de condicionais normas e do comando `break`."
   ]
  },
  {
   "cell_type": "code",
   "execution_count": null,
   "id": "744bc4c5",
   "metadata": {},
   "outputs": [],
   "source": [
    "while True:\n",
    "    nome = input('Digite um nome: ')\n",
    "    if nome == 'Adriano' or nome == 'Pedro':\n",
    "        print('Parabéns!')\n",
    "        break\n",
    "    else:\n",
    "        print('Tente de novo...')"
   ]
  },
  {
   "cell_type": "markdown",
   "id": "90b88315",
   "metadata": {},
   "source": [
    "# Desafio\n",
    "\n",
    "Conforme vimos anteriormente, listas podem conter listas. E as listas dentro de uma lista podem conter mais listas ainda... Esse tipo de estrutura é muito comum. O número de listas dentro de listas é chamado de **profundidade**. Por exemplo, a lista abaixo tem profundidade 2 (seu terceiro elemento é uma lista simples):"
   ]
  },
  {
   "cell_type": "code",
   "execution_count": null,
   "id": "30330f9d",
   "metadata": {},
   "outputs": [],
   "source": [
    "p2 = [1, 2, [1, 2, 3]]\n",
    "print(p2)"
   ]
  },
  {
   "cell_type": "markdown",
   "id": "9239a4a7",
   "metadata": {},
   "source": [
    "Enquanto a próxima tem profundidade 3 (seu terceiro elemento é uma lista que também contém uma lista):"
   ]
  },
  {
   "cell_type": "code",
   "execution_count": null,
   "id": "78e0f290",
   "metadata": {},
   "outputs": [],
   "source": [
    "p3 = [1, 2, [1, 2, [1, 2]]]\n",
    "print(p3)"
   ]
  },
  {
   "cell_type": "code",
   "execution_count": null,
   "id": "a55e0628",
   "metadata": {},
   "outputs": [],
   "source": [
    "for i in range(5, 1, -1):\n",
    "    print(i)"
   ]
  },
  {
   "cell_type": "markdown",
   "id": "378ec4ca",
   "metadata": {},
   "source": [
    "Uma tarefa comum é *desempacotar* uma lista: sair de `[1, [1, 2]]` para `[1, 1, 2]`.\n",
    "\n",
    "Utilizando o que aprendemos hoje, construa um algoritmo para desempacotar uma lista de profundidade arbitrária!"
   ]
  },
  {
   "cell_type": "code",
   "execution_count": null,
   "id": "bb473a98",
   "metadata": {},
   "outputs": [],
   "source": [
    "lista = [1,[1,2, [3, 4, 5]], [2,3, [4, 5, 6, [1]]], [1]]\n",
    "lista_chata = []\n",
    "for item in lista:\n",
    "    if type(item) != list:\n",
    "        lista_chata.append(item)\n",
    "    new_item = item\n",
    "    while type(new_item) == list:\n",
    "        current_item = new_item\n",
    "        for newer_item in new_item:\n",
    "            if type(newer_item) == list:\n",
    "                new_item = newer_item\n",
    "            else:\n",
    "                lista_chata.append(newer_item)\n",
    "        if current_item == new_item:\n",
    "            break\n",
    "            \n",
    "print(lista_chata)"
   ]
  },
  {
   "cell_type": "code",
   "execution_count": null,
   "id": "a1bd8afe",
   "metadata": {},
   "outputs": [],
   "source": []
  }
 ],
 "metadata": {
  "hide_input": false,
  "kernelspec": {
   "display_name": "Python 3 (ipykernel)",
   "language": "python",
   "name": "python3"
  },
  "language_info": {
   "codemirror_mode": {
    "name": "ipython",
    "version": 3
   },
   "file_extension": ".py",
   "mimetype": "text/x-python",
   "name": "python",
   "nbconvert_exporter": "python",
   "pygments_lexer": "ipython3",
   "version": "3.8.9"
  },
  "toc": {
   "base_numbering": 1,
   "nav_menu": {},
   "number_sections": true,
   "sideBar": true,
   "skip_h1_title": false,
   "title_cell": "Table of Contents",
   "title_sidebar": "Contents",
   "toc_cell": true,
   "toc_position": {},
   "toc_section_display": true,
   "toc_window_display": true
  }
 },
 "nbformat": 4,
 "nbformat_minor": 5
}
