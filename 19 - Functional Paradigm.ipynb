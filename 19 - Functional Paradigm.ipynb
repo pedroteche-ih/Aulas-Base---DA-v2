{
 "cells": [
  {
   "cell_type": "code",
   "execution_count": null,
   "metadata": {
    "ExecuteTime": {
     "end_time": "2022-01-08T13:10:04.323413Z",
     "start_time": "2022-01-08T13:10:03.820962Z"
    }
   },
   "outputs": [],
   "source": [
    "import re\n",
    "import numpy as np\n",
    "import pandas as pd\n"
   ]
  },
  {
   "cell_type": "markdown",
   "metadata": {},
   "source": [
    "# O Paradigma Funcional\n",
    "\n",
    "Vamos recapitular quais paradigmas de programação utilizamos até aqui:\n",
    "\n",
    "**Paradigma Imperativo**\n",
    "- O programa é composto por um estado e instruções que modificam este estado:\n",
    "\n",
    "```python\n",
    "x = 0\n",
    "for i in range(10):\n",
    "    x = (x + i)*2\n",
    "print x\n",
    "```\n",
    "- Forma mais simples de programação, é o paradigma das linguagens mais antigas (C, Fortran e COBOL por exemplo).\n",
    "\n",
    "**Orientação à Objetos (OOP)**\n",
    "- O estado e as instruções que operam sobre esse estado são parte de um **objeto**:\n",
    "\n",
    "```python\n",
    "class Casa:\n",
    "    def __init__(self):\n",
    "        self.porta = 'Aberta'\n",
    "    \n",
    "    def fechar_porta(self):\n",
    "        self.porta = 'Fechada'\n",
    "\n",
    "    def abrir_porta(self):\n",
    "        self.porta = 'Aberta'\n",
    "```\n",
    "- OOP é um paradigma muito comum hoje em dia, presente em linguagens como C++, Java e Python.\n",
    "\n",
    "**Functional Programming**\n",
    "- Não existe estado, apenas funções: o programa é uma sequência de aplicação de funções ao input:\n",
    "```python\n",
    "def somar_2(x):\n",
    "    return x + 2\n",
    "\n",
    "def mult_4(x):\n",
    "    return x * 4\n",
    "\n",
    "saida = somar_2(mult_4(somar_2(entrada)))\n",
    "```\n",
    "- No paradigma funcional funções são variáveis.\n",
    "- Paradigma que surgiu com a linguagem LISP, nos anos 70, e hoje em dia sobrevive nas áreas de dados através de linguagens como R, Julia, Python (em parte)."
   ]
  },
  {
   "cell_type": "markdown",
   "metadata": {},
   "source": [
    "## Funções são variáveis\n",
    "\n",
    "Mesmo quando consturímos uma função utilizando `def`, o resultado é uma variável com uma função dentro!"
   ]
  },
  {
   "cell_type": "code",
   "execution_count": null,
   "metadata": {
    "ExecuteTime": {
     "end_time": "2022-01-08T13:12:09.210867Z",
     "start_time": "2022-01-08T13:12:09.194910Z"
    }
   },
   "outputs": [],
   "source": [
    "soma_1 = lambda x: x + 1\n"
   ]
  },
  {
   "cell_type": "code",
   "execution_count": null,
   "metadata": {},
   "outputs": [],
   "source": [
    "soma_1\n"
   ]
  },
  {
   "cell_type": "code",
   "execution_count": null,
   "metadata": {},
   "outputs": [],
   "source": [
    "def soma_1_c(x):\n",
    "    return x + 1\n"
   ]
  },
  {
   "cell_type": "code",
   "execution_count": null,
   "metadata": {},
   "outputs": [],
   "source": [
    "soma_1_c\n"
   ]
  },
  {
   "cell_type": "code",
   "execution_count": null,
   "metadata": {
    "ExecuteTime": {
     "end_time": "2022-01-08T13:12:17.104938Z",
     "start_time": "2022-01-08T13:12:17.087959Z"
    }
   },
   "outputs": [],
   "source": [
    "soma_1(soma_1_c(10))\n"
   ]
  },
  {
   "cell_type": "markdown",
   "metadata": {},
   "source": [
    "Podemos utilizar esse comportamento para criar funções a partir de outras funções:"
   ]
  },
  {
   "cell_type": "code",
   "execution_count": null,
   "metadata": {
    "ExecuteTime": {
     "end_time": "2022-01-08T13:13:12.044380Z",
     "start_time": "2022-01-08T13:13:12.031417Z"
    }
   },
   "outputs": [],
   "source": [
    "somar_n = lambda x, n: x + n\n"
   ]
  },
  {
   "cell_type": "code",
   "execution_count": null,
   "metadata": {
    "ExecuteTime": {
     "end_time": "2022-01-08T13:13:12.452025Z",
     "start_time": "2022-01-08T13:13:12.442069Z"
    }
   },
   "outputs": [],
   "source": [
    "soma_1 = lambda x: somar_n(x, 1)\n"
   ]
  },
  {
   "cell_type": "code",
   "execution_count": null,
   "metadata": {
    "ExecuteTime": {
     "end_time": "2022-01-08T13:13:12.980249Z",
     "start_time": "2022-01-08T13:13:12.967272Z"
    }
   },
   "outputs": [],
   "source": [
    "soma_1(10)\n"
   ]
  },
  {
   "cell_type": "markdown",
   "metadata": {},
   "source": [
    "## O Conceito de `map`\n",
    "\n",
    "Já vimos que podemos mapear uma função à uma `Series` do Pandas através do método `.map()`. Agora veremos como fazer a mesma coisa para qualquer iterável."
   ]
  },
  {
   "cell_type": "code",
   "execution_count": null,
   "metadata": {
    "ExecuteTime": {
     "end_time": "2022-01-08T13:14:59.671615Z",
     "start_time": "2022-01-08T13:14:59.655657Z"
    }
   },
   "outputs": [],
   "source": [
    "lista_exemplo = [10, 12, 34, 23, 2, 6, 7]\n"
   ]
  },
  {
   "cell_type": "code",
   "execution_count": null,
   "metadata": {
    "ExecuteTime": {
     "end_time": "2022-01-08T13:15:12.435569Z",
     "start_time": "2022-01-08T13:15:12.425597Z"
    }
   },
   "outputs": [],
   "source": [
    "def div_2(x):\n",
    "    return x / 2\n"
   ]
  },
  {
   "cell_type": "markdown",
   "metadata": {},
   "source": [
    "**Como podemos aplicar a função `div_2` acima à `lista_exemplo`?**"
   ]
  },
  {
   "cell_type": "code",
   "execution_count": null,
   "metadata": {
    "ExecuteTime": {
     "end_time": "2022-01-08T13:15:36.881231Z",
     "start_time": "2022-01-08T13:15:36.632896Z"
    },
    "scrolled": true
   },
   "outputs": [],
   "source": [
    "div_2(lista_exemplo)\n"
   ]
  },
  {
   "cell_type": "markdown",
   "metadata": {},
   "source": [
    "Não conseguimos aplicar a função diretamente: afinal, `div_2` espera receber 1 argumento inteiro, e `lista_exemplos` é uma lista!\n",
    "\n",
    "Podemos utilizar programação imperativa e construir um loop:"
   ]
  },
  {
   "cell_type": "code",
   "execution_count": null,
   "metadata": {
    "ExecuteTime": {
     "end_time": "2022-01-08T13:17:14.355876Z",
     "start_time": "2022-01-08T13:17:14.340891Z"
    }
   },
   "outputs": [],
   "source": [
    "new_list = []\n",
    "\n",
    "for item in lista_exemplo:\n",
    "    new_list.append(div_2(item))\n",
    "\n",
    "new_list\n"
   ]
  },
  {
   "cell_type": "markdown",
   "metadata": {},
   "source": [
    "Outra forma, já da programação funcional, são os lists comprehensions:"
   ]
  },
  {
   "cell_type": "code",
   "execution_count": null,
   "metadata": {
    "ExecuteTime": {
     "end_time": "2022-01-08T13:18:05.250407Z",
     "start_time": "2022-01-08T13:18:05.238441Z"
    }
   },
   "outputs": [],
   "source": [
    "[div_2(item) for item in lista_exemplo]\n"
   ]
  },
  {
   "cell_type": "markdown",
   "metadata": {},
   "source": [
    "Uma terceira forma é através da **função** `map()`:"
   ]
  },
  {
   "cell_type": "code",
   "execution_count": null,
   "metadata": {
    "ExecuteTime": {
     "end_time": "2022-01-08T13:19:41.455605Z",
     "start_time": "2022-01-08T13:19:41.443610Z"
    }
   },
   "outputs": [],
   "source": [
    "for i in map(div_2, lista_exemplo):\n",
    "    print(i)\n"
   ]
  },
  {
   "cell_type": "markdown",
   "metadata": {},
   "source": [
    "O resultado de `map()` é preguiçoso (*lazy*): isso significa que ele não é calculado até ser chamado diretamente. No exemplo acima utilizamos um loop para chamar cada elemento do resultado. Podemos transformar o resultado em uma lista, que forçará o Python a avaliar todas as execuções da função `div_2()`:"
   ]
  },
  {
   "cell_type": "code",
   "execution_count": null,
   "metadata": {
    "ExecuteTime": {
     "end_time": "2022-01-08T13:19:52.547042Z",
     "start_time": "2022-01-08T13:19:52.528077Z"
    }
   },
   "outputs": [],
   "source": [
    "list(map(div_2, lista_exemplo))\n"
   ]
  },
  {
   "cell_type": "markdown",
   "metadata": {},
   "source": [
    "Um comportamento curioso dos iteradores preguiçosos é que eles se esvaziam conforme chamamos os seus elementos:"
   ]
  },
  {
   "cell_type": "code",
   "execution_count": null,
   "metadata": {
    "ExecuteTime": {
     "end_time": "2022-01-08T13:20:53.619882Z",
     "start_time": "2022-01-08T13:20:53.605921Z"
    }
   },
   "outputs": [],
   "source": [
    "resultado_map = map(div_2, lista_exemplo)\n",
    "for i in resultado_map:\n",
    "    print(i)\n"
   ]
  },
  {
   "cell_type": "code",
   "execution_count": null,
   "metadata": {
    "ExecuteTime": {
     "end_time": "2022-01-08T13:21:00.001339Z",
     "start_time": "2022-01-08T13:20:59.991339Z"
    }
   },
   "outputs": [],
   "source": [
    "list(resultado_map)\n"
   ]
  },
  {
   "cell_type": "code",
   "execution_count": null,
   "metadata": {
    "ExecuteTime": {
     "end_time": "2022-01-08T13:22:21.365489Z",
     "start_time": "2022-01-08T13:22:21.351525Z"
    }
   },
   "outputs": [],
   "source": [
    "resultado_map = map(div_2, lista_exemplo)\n"
   ]
  },
  {
   "cell_type": "code",
   "execution_count": null,
   "metadata": {
    "ExecuteTime": {
     "end_time": "2022-01-08T13:22:28.149604Z",
     "start_time": "2022-01-08T13:22:28.142627Z"
    }
   },
   "outputs": [],
   "source": [
    "list(resultado_map)\n"
   ]
  },
  {
   "cell_type": "markdown",
   "metadata": {},
   "source": [
    "### Lazy evaluation\n",
    "\n",
    "A avaliação lazy é um conceito fundamental em Big Data: ela economiza memória e tempo de processamento realizando avaliações somente quando estas são necessárias."
   ]
  },
  {
   "cell_type": "code",
   "execution_count": null,
   "metadata": {
    "ExecuteTime": {
     "end_time": "2022-01-08T13:26:26.452434Z",
     "start_time": "2022-01-08T13:26:26.442472Z"
    }
   },
   "outputs": [],
   "source": [
    "lista_telefones = [\n",
    "    19999571559,\n",
    "    \"(21) 2412-0107\",\n",
    "    \"(34) 99762-1166\",\n",
    "    \"91-4002-8282\",\n",
    "    \"(19) 3542-1820\",\n",
    "    \"(19) 3561-9525\",\n",
    "    \"(34) 3333-5802\",\n",
    "]\n",
    "pattern = r\"[0-9]{2}\"\n"
   ]
  },
  {
   "cell_type": "code",
   "execution_count": null,
   "metadata": {
    "ExecuteTime": {
     "end_time": "2022-01-08T13:30:02.104002Z",
     "start_time": "2022-01-08T13:30:02.081054Z"
    }
   },
   "outputs": [],
   "source": [
    "lista_dds = list(map(lambda x: re.findall(pattern, str(x))[0], lista_telefones))\n",
    "print(lista_dds)\n"
   ]
  },
  {
   "cell_type": "code",
   "execution_count": null,
   "metadata": {
    "ExecuteTime": {
     "end_time": "2022-01-08T13:27:32.637277Z",
     "start_time": "2022-01-08T13:27:32.621321Z"
    }
   },
   "outputs": [],
   "source": [
    "for ddd in map(lambda x: \"\".join(re.findall(pattern, str(x)))[:2], lista_telefones):\n",
    "    print(ddd)\n"
   ]
  },
  {
   "cell_type": "markdown",
   "metadata": {},
   "source": [
    "## Filtrando iteráveis com `filter()`\n",
    "\n",
    "A segunda parte importante do paradigma funcional é a função `filter()`: ela nos permite filtrar os elementos de um iterável a partir de uma função que retorna valores booleanos. Assim como `map()`, `filter()` avalia (de forma preguiçosa) um iterável e retorna apenas os elementos onde a função aplicada retorna `True`.\n",
    "\n",
    "Vamos continuar o nosso exemplo com uma lista de telefones e uma função para extrair o DDD:"
   ]
  },
  {
   "cell_type": "code",
   "execution_count": null,
   "metadata": {
    "ExecuteTime": {
     "end_time": "2022-01-08T13:33:05.030244Z",
     "start_time": "2022-01-08T13:33:05.020271Z"
    }
   },
   "outputs": [],
   "source": [
    "lista_telefones = [\n",
    "    19999571559,\n",
    "    \"(21) 2412-0107\",\n",
    "    \"(34) 99762-1166\",\n",
    "    \"91-4002-8282\",\n",
    "    \"(19) 3542-1820\",\n",
    "    \"(19) 3561-9525\",\n",
    "    \"(34) 3333-5802\",\n",
    "]\n",
    "\n",
    "\n",
    "def extrair_ddd(telefone):\n",
    "    \"\"\"\n",
    "    Recebe um telefone e retorna seu DDD\n",
    "\n",
    "    telefone (str or int): Telefone onde os dois primeiros digitios numéricos são o DDD\n",
    "    \"\"\"\n",
    "    pattern = r\"[0-9]{2}\"\n",
    "    return \"\".join(re.findall(pattern, str(telefone)))[:2]\n"
   ]
  },
  {
   "cell_type": "code",
   "execution_count": null,
   "metadata": {
    "ExecuteTime": {
     "end_time": "2022-01-08T13:33:05.355788Z",
     "start_time": "2022-01-08T13:33:05.340802Z"
    }
   },
   "outputs": [],
   "source": [
    "lista_ddd_19 = list(\n",
    "    filter(lambda x: True if extrair_ddd(x) == \"19\" else False, lista_telefones)\n",
    ")\n",
    "print(lista_ddd_19)\n"
   ]
  },
  {
   "cell_type": "code",
   "execution_count": null,
   "metadata": {
    "ExecuteTime": {
     "end_time": "2022-01-08T13:33:50.986883Z",
     "start_time": "2022-01-08T13:33:50.970899Z"
    }
   },
   "outputs": [],
   "source": [
    "filtro_19 = filter(lambda x: True if extrair_ddd(x) == \"19\" else False, lista_telefones)\n",
    "for telefone in filtro_19:\n",
    "    print(telefone)\n"
   ]
  },
  {
   "cell_type": "code",
   "execution_count": null,
   "metadata": {
    "ExecuteTime": {
     "end_time": "2022-01-08T13:38:28.860905Z",
     "start_time": "2022-01-08T13:38:28.847940Z"
    }
   },
   "outputs": [],
   "source": [
    "map_19 = filter(lambda x: extrair_ddd(x) == \"19\", lista_telefones)\n",
    "for i in map_19:\n",
    "    print(i)\n"
   ]
  },
  {
   "cell_type": "markdown",
   "metadata": {},
   "source": [
    "Assim como o `map()`, podemos replicar o comportamento do `filter()` com uma list comprehension. A diferença é que tanto `map()` quanto `filter()` são *lazy*!"
   ]
  },
  {
   "cell_type": "code",
   "execution_count": null,
   "metadata": {
    "ExecuteTime": {
     "end_time": "2022-01-08T13:34:40.293201Z",
     "start_time": "2022-01-08T13:34:40.275236Z"
    }
   },
   "outputs": [],
   "source": [
    "[telefone for telefone in lista_telefones if extrair_ddd(telefone) == \"19\"]\n"
   ]
  },
  {
   "cell_type": "markdown",
   "metadata": {},
   "source": [
    "## Agregando iteráveis com `reduce()`\n",
    "\n",
    "A função `reduce()` cria a idéia de um `accumulator`. Imagine uma função `sum(x, y)` que calcula a soma de x e y. Podemos utilizar a função `reduce()` (da biblioteca `functools`) para tratar x como o `accumulator` e percorrer o iterador *acumulando* a aplicação da função.\n",
    "\n",
    "Vamos considerar a lista `[1,4,6,8]` e função soma:\n",
    "\n",
    "```python\n",
    "def sum_two_elements(a,b):\n",
    "    return a+b\n",
    "```\n",
    "\n",
    "podemos utilizar a função `reduce()` para somar os elementos de toda a lista:\n",
    "\n",
    "```python\n",
    "reduce( sum_two_elements, [1,4,6,8] )\n",
    "```\n",
    "\n",
    "Vamos ver o que cada etapa do `reduce()` foi:\n",
    "\n",
    "```python\n",
    "a = 0 # accumulator\n",
    "b = 1 # value\n",
    "a + b = 1 # so the accumulator receives this cummulative sum\n",
    "\n",
    "a = 1 # accumulator\n",
    "b = 4 # value\n",
    "a + b = 5\n",
    "...\n",
    "a = 5 # accumulator\n",
    "b = 6 # value \n",
    "a + b = 11\n",
    "...\n",
    "a = 11 # accumulator\n",
    "b = 8 # value\n",
    "a + b = 19\n",
    "\n",
    "return 19\n",
    "```"
   ]
  },
  {
   "cell_type": "code",
   "execution_count": null,
   "metadata": {
    "ExecuteTime": {
     "end_time": "2022-01-08T13:40:26.699812Z",
     "start_time": "2022-01-08T13:40:26.690809Z"
    }
   },
   "outputs": [],
   "source": [
    "from functools import reduce\n"
   ]
  },
  {
   "cell_type": "markdown",
   "metadata": {},
   "source": [
    "### Exemplo 1: Números"
   ]
  },
  {
   "cell_type": "code",
   "execution_count": null,
   "metadata": {
    "ExecuteTime": {
     "end_time": "2022-01-08T13:40:45.001881Z",
     "start_time": "2022-01-08T13:40:44.996892Z"
    }
   },
   "outputs": [],
   "source": [
    "def somar_ab(a, b):\n",
    "    print(f\"a={a}, b={b}\")\n",
    "    return a + b\n"
   ]
  },
  {
   "cell_type": "code",
   "execution_count": null,
   "metadata": {
    "ExecuteTime": {
     "end_time": "2022-01-08T13:41:03.621781Z",
     "start_time": "2022-01-08T13:41:03.599837Z"
    },
    "scrolled": true
   },
   "outputs": [],
   "source": [
    "lista_numeros = [1, 4, 6, 8]\n",
    "reduce(somar_ab, lista_numeros)\n"
   ]
  },
  {
   "cell_type": "code",
   "execution_count": null,
   "metadata": {
    "ExecuteTime": {
     "end_time": "2022-01-08T13:45:31.605477Z",
     "start_time": "2022-01-08T13:45:31.598496Z"
    }
   },
   "outputs": [],
   "source": [
    "def comp_ab(x, y):\n",
    "    print(f\"a={x}, b={y}\")\n",
    "    if x > y:\n",
    "        return x\n",
    "    else:\n",
    "        return y\n",
    "\n",
    "\n",
    "reduce(comp_ab, [2, 10, 25, 1, -10, 13, 40, 20])\n"
   ]
  },
  {
   "cell_type": "markdown",
   "metadata": {},
   "source": [
    "### Exemplo 2: Strings"
   ]
  },
  {
   "cell_type": "code",
   "execution_count": null,
   "metadata": {
    "ExecuteTime": {
     "end_time": "2022-01-08T13:46:48.190189Z",
     "start_time": "2022-01-08T13:46:48.182210Z"
    }
   },
   "outputs": [],
   "source": [
    "lista_letras = [\"P\", \"e\", \"d\", \"r\", \"o\"]\n"
   ]
  },
  {
   "cell_type": "code",
   "execution_count": null,
   "metadata": {
    "ExecuteTime": {
     "end_time": "2022-01-08T13:46:49.230760Z",
     "start_time": "2022-01-08T13:46:49.222760Z"
    }
   },
   "outputs": [],
   "source": [
    "reduce(lambda x, y: x + y, lista_letras)\n"
   ]
  },
  {
   "cell_type": "markdown",
   "metadata": {},
   "source": [
    "Um exemplo prático é a utilização do reduce para selecionar o maior string de uma lista:"
   ]
  },
  {
   "cell_type": "code",
   "execution_count": null,
   "metadata": {
    "ExecuteTime": {
     "end_time": "2022-01-08T13:47:22.941553Z",
     "start_time": "2022-01-08T13:47:22.933575Z"
    }
   },
   "outputs": [],
   "source": [
    "lista_nomes = [\"Amapá\", \"Roraima\", \"Pará\", \"Piauí\", \"Maranhão\"]\n",
    "reduce(lambda x, y: x if len(x) > len(y) else y, lista_nomes)\n"
   ]
  },
  {
   "cell_type": "markdown",
   "metadata": {},
   "source": [
    "### Vendo as aplicações: `accumulate()`\n",
    "\n",
    "Nos exemplos acima utilizamos a função `print()` para ver o resultado de cada etapa do `reduce()`. Podemos utilizar a função `accumulate()` para ver o resultado de cada etapa como uma lista:"
   ]
  },
  {
   "cell_type": "code",
   "execution_count": null,
   "metadata": {
    "ExecuteTime": {
     "end_time": "2022-01-08T13:49:13.634428Z",
     "start_time": "2022-01-08T13:49:13.619460Z"
    }
   },
   "outputs": [],
   "source": [
    "from itertools import accumulate\n"
   ]
  },
  {
   "cell_type": "code",
   "execution_count": null,
   "metadata": {
    "ExecuteTime": {
     "end_time": "2022-01-08T13:49:44.541318Z",
     "start_time": "2022-01-08T13:49:44.531346Z"
    }
   },
   "outputs": [],
   "source": [
    "lista_numeros = [1, 2, 3, 4, 5]\n",
    "list(accumulate(lista_numeros, lambda x, y: x + y))\n"
   ]
  },
  {
   "cell_type": "code",
   "execution_count": null,
   "metadata": {
    "ExecuteTime": {
     "end_time": "2022-01-08T13:50:01.715586Z",
     "start_time": "2022-01-08T13:50:01.701596Z"
    }
   },
   "outputs": [],
   "source": [
    "lista_nomes = [\"Amapá\", \"Roraima\", \"Pará\", \"Piauí\", \"Maranhão\"]\n",
    "list(accumulate(lista_nomes, lambda x, y: x if len(x) > len(y) else y))\n"
   ]
  },
  {
   "cell_type": "markdown",
   "metadata": {},
   "source": [
    "# Paradigma Funcional no Pandas\n",
    "\n",
    "Até agora vimos como podemos utilizar as funções `map()`, `filter()` e `reduce()` para aplicar funções à, filtrar e reduzir iteráveis. Embora essas funções sejam extremamente úteis no contexto de dados (principalmente quando lidamos com dados extraídos de APIs ou *webscrapping*), em geral vamos entrar em contato com esses conceitos através do método `.apply()` de DataFrames e Series.\n",
    "\n",
    "Nos exemplos abaixo, utilizaremos esse método, primeiro sobre `Series`, onde ele se comporta exatamente como o método `.map()`."
   ]
  },
  {
   "cell_type": "code",
   "execution_count": null,
   "metadata": {
    "ExecuteTime": {
     "end_time": "2022-01-08T13:53:10.689267Z",
     "start_time": "2022-01-08T13:53:09.762279Z"
    }
   },
   "outputs": [],
   "source": [
    "file_address = \"http://www.statsci.org/data/general/sleep.txt\"\n",
    "tb_sleep = pd.read_csv(file_address, sep=\"\\t\")\n",
    "tb_sleep.head()\n"
   ]
  },
  {
   "cell_type": "markdown",
   "metadata": {},
   "source": [
    "## `.apply()` em Colunas (`Series`)\n",
    "\n",
    "O método `.apply()`, quando executado a partir de uma `Series` (uma coluna individual) funciona exatamente como o método `.map()`: ele retorna uma nova `Series` (coluna) com o resultado da aplicação de nossa função elemento a elemento na coluna a partir da qual foi invocado:"
   ]
  },
  {
   "cell_type": "code",
   "execution_count": null,
   "metadata": {
    "ExecuteTime": {
     "end_time": "2022-01-08T13:54:14.278389Z",
     "start_time": "2022-01-08T13:54:14.255449Z"
    }
   },
   "outputs": [],
   "source": [
    "tb_sleep[\"brain_wt_kg\"] = tb_sleep[\"BrainWt\"] / 1000\n",
    "tb_sleep[\"ratio_brain\"] = tb_sleep[\"brain_wt_kg\"] / tb_sleep[\"BodyWt\"]\n",
    "tb_sleep[[\"brain_wt_kg\", \"ratio_brain\"]].describe()\n"
   ]
  },
  {
   "cell_type": "markdown",
   "metadata": {},
   "source": [
    "Vamos definir uma função para classificar a proporção entre o peso do cérebro e o peso total de cada animal:"
   ]
  },
  {
   "cell_type": "code",
   "execution_count": null,
   "metadata": {
    "ExecuteTime": {
     "end_time": "2022-01-08T13:55:33.667187Z",
     "start_time": "2022-01-08T13:55:33.663197Z"
    }
   },
   "outputs": [],
   "source": [
    "def maior_1p(ratio):\n",
    "    if ratio > 0.01:\n",
    "        return \"Pesado\"\n",
    "    else:\n",
    "        return \"Leve\"\n"
   ]
  },
  {
   "cell_type": "markdown",
   "metadata": {},
   "source": [
    "Como podemos aplicar essa função à coluna `ratio_brain`?"
   ]
  },
  {
   "cell_type": "code",
   "execution_count": null,
   "metadata": {
    "ExecuteTime": {
     "end_time": "2022-01-08T13:55:34.247994Z",
     "start_time": "2022-01-08T13:55:34.228048Z"
    }
   },
   "outputs": [],
   "source": [
    "maior_1p(tb_sleep[\"ratio_brain\"])\n"
   ]
  },
  {
   "cell_type": "markdown",
   "metadata": {},
   "source": [
    "A aplicação direta não funciona, afinal a função espera um número e `tb_sleep[\"ratio_brain\"]` é uma `Series`!\n",
    "\n",
    "Vamos utilizar o `.apply()` de `Series` (equivalente ao `.map()`):"
   ]
  },
  {
   "cell_type": "code",
   "execution_count": null,
   "metadata": {
    "ExecuteTime": {
     "end_time": "2022-01-08T13:57:03.342003Z",
     "start_time": "2022-01-08T13:57:03.332003Z"
    }
   },
   "outputs": [],
   "source": [
    "tb_sleep[\"heavy_brain\"] = tb_sleep[\"ratio_brain\"].apply(maior_1p)\n"
   ]
  },
  {
   "cell_type": "code",
   "execution_count": null,
   "metadata": {
    "ExecuteTime": {
     "end_time": "2022-01-08T13:57:04.059181Z",
     "start_time": "2022-01-08T13:57:04.037238Z"
    }
   },
   "outputs": [],
   "source": [
    "tb_sleep[\"heavy_brain\"].describe()\n"
   ]
  },
  {
   "cell_type": "markdown",
   "metadata": {},
   "source": [
    "## `.apply()` em Tabelas (`DataFrame`)\n",
    "\n",
    "Podemos invocar o método `.apply()` a partir de DataFrames também! Enquanto o método `.apply()` de coluna passa para a função o **valor de cada observação**, o método `.apply()` de tabelas pode passar linhas ou colunas (dependendo do `axis` que escolhermos).\n",
    "\n",
    "Vamos começar analisando o comportamento desse método utilizando uma função comum do Python: `max`."
   ]
  },
  {
   "cell_type": "markdown",
   "metadata": {},
   "source": [
    "### Exemplo 1: Máximo entre colunas"
   ]
  },
  {
   "cell_type": "code",
   "execution_count": null,
   "metadata": {
    "ExecuteTime": {
     "end_time": "2022-01-08T14:00:30.267149Z",
     "start_time": "2022-01-08T14:00:30.247206Z"
    }
   },
   "outputs": [],
   "source": [
    "tb_sleep[[\"Predation\", \"Exposure\", \"Danger\"]].apply(max)\n"
   ]
  },
  {
   "cell_type": "markdown",
   "metadata": {},
   "source": [
    "O comportamento padrão do `.apply()` de `DataFrames` é aplicar a função sobre as colunas: no caso acima ele retornou o máximo de cada coluna `[\"Predation\", \"Exposure\", \"Danger\"]`.\n",
    "\n",
    "E se quisermos calcular, para cada observação, qual o máximo entre essas três colunas?"
   ]
  },
  {
   "cell_type": "code",
   "execution_count": null,
   "metadata": {},
   "outputs": [],
   "source": [
    "tb_sleep[[\"Predation\", \"Exposure\", \"Danger\"]].apply(max, axis=1)\n"
   ]
  },
  {
   "cell_type": "code",
   "execution_count": null,
   "metadata": {},
   "outputs": [],
   "source": [
    "tb_sleep[\"max_risco\"] = tb_sleep[[\"Predation\", \"Exposure\", \"Danger\"]].apply(max, axis=1)\n",
    "tb_sleep[[\"Predation\", \"Exposure\", \"Danger\", \"max_risco\"]].head()\n"
   ]
  },
  {
   "cell_type": "markdown",
   "metadata": {},
   "source": [
    "### Exemplo 2: `.apply()` e funções Lambda\n",
    "\n",
    "No exemplo acima a função `max` recebeu o iterável `[3, 5, 3]` na primeira linha e calculou o máximo entre eles. No entanto muitas vezes queremos aplicar mais do que uma função simples. \n",
    "\n",
    "Por exemplo, podemos calcular a diferença entre o risco máximo e o risco mínimo. Para tanto, utilizaremos uma função lambda:"
   ]
  },
  {
   "cell_type": "code",
   "execution_count": null,
   "metadata": {},
   "outputs": [],
   "source": [
    "tb_sleep[\"var_risco\"] = tb_sleep[[\"Predation\", \"Exposure\", \"Danger\"]].apply(\n",
    "    lambda x: max(x) - min(x), axis=1\n",
    ")\n",
    "tb_sleep[[\"Predation\", \"Exposure\", \"Danger\", \"max_risco\", \"var_risco\"]].head()\n"
   ]
  },
  {
   "cell_type": "markdown",
   "metadata": {},
   "source": [
    "Para visualizarmos o que está acontecendo, **precisamos entender o que o método `.apply()` esta passando como `x` para nossa função lambda**!"
   ]
  },
  {
   "cell_type": "markdown",
   "metadata": {},
   "source": [
    "### Exemplo 3: `.apply()` com argumentos\n",
    "\n",
    "Nos exemplos acima aplicamos uma função diretamente sobre uma linha (`max` e `min`) - já que estas funções transformam iteráveis em números.\n",
    "\n",
    "Outra aplicação comum é passar colunas específicas como argumentos particulares de uma função."
   ]
  },
  {
   "cell_type": "code",
   "execution_count": null,
   "metadata": {},
   "outputs": [],
   "source": [
    "def diff_prop(x, y):\n",
    "    '''\n",
    "    Calcula (x-y)/(x+y).\n",
    "    Arguments:\n",
    "        x Float\n",
    "        y Float\n",
    "    Returns:\n",
    "        Float\n",
    "    '''\n",
    "    return (x-y)/(x+y)"
   ]
  },
  {
   "cell_type": "code",
   "execution_count": null,
   "metadata": {},
   "outputs": [],
   "source": [
    "tb_sleep.apply(\n",
    "    lambda x: diff_prop(x['NonDreaming'], x['Dreaming']), axis=1\n",
    ")\n"
   ]
  },
  {
   "cell_type": "markdown",
   "metadata": {},
   "source": [
    "No exemplo acima utilizamos o fato que `x` nada mais que uma linha de nosso DataFrame. Podemos utilizar o **desempacotamento de argumentos** para realizar a mesma operação:"
   ]
  },
  {
   "cell_type": "code",
   "execution_count": null,
   "metadata": {
    "ExecuteTime": {
     "end_time": "2022-01-08T12:44:25.476229Z",
     "start_time": "2022-01-08T12:44:25.326087Z"
    }
   },
   "outputs": [],
   "source": [
    "tb_sleep[[\"NonDreaming\", \"Dreaming\"]].apply(lambda x: diff_prop(*x), axis=1)\n"
   ]
  },
  {
   "cell_type": "code",
   "execution_count": null,
   "metadata": {},
   "outputs": [],
   "source": [
    "tb_sleep.head()"
   ]
  },
  {
   "cell_type": "markdown",
   "metadata": {},
   "source": [
    "No caso acima, `x` é um iterável com os valores `NonDreaming` e `Dreaming` - `[6.3, 2.0]` na segunda linha de nosso DataFrame.\n",
    "\n",
    "Utilizamos `*x` como argumento da função diff_prop, desempacotando esse iterável, passando seu primeiro elemento como o primeiro argumento da função e seu segundo elemento como segundo argumento da função.\n",
    "\n",
    "Note que nesse caso, a ordem do filtro de colunas no inicio da linha (`tb_sleep[[\"NonDreaming\", \"Dreaming\"]].apply()`) é determinante no resultado!"
   ]
  },
  {
   "cell_type": "code",
   "execution_count": null,
   "metadata": {},
   "outputs": [],
   "source": [
    "tb_sleep['non_prop'] = tb_sleep[[\"NonDreaming\", \"Dreaming\"]].apply(lambda x: diff_prop(*x), axis=1)\n",
    "tb_sleep['dre_prop'] = tb_sleep[[\"Dreaming\", \"NonDreaming\"]].apply(lambda x: diff_prop(*x), axis=1)\n",
    "tb_sleep[[\"NonDreaming\", \"Dreaming\", \"non_prop\", \"dre_prop\"]].head()\n"
   ]
  },
  {
   "cell_type": "markdown",
   "metadata": {},
   "source": [
    "## Exemplo 4: `.apply()` com strings"
   ]
  },
  {
   "cell_type": "code",
   "execution_count": null,
   "metadata": {
    "ExecuteTime": {
     "end_time": "2022-01-08T14:16:50.961251Z",
     "start_time": "2022-01-08T14:16:50.940307Z"
    }
   },
   "outputs": [],
   "source": [
    "lista_telefones = [\n",
    "    999571559,\n",
    "    \"2412-0107\",\n",
    "    \"99762-1166\",\n",
    "    \"4002-8282\",\n",
    "    \"3542-1820\",\n",
    "    \"9-3561-9525\",\n",
    "    \"3333-5802\"\n",
    "]\n",
    "lista_ddd = [\n",
    "    19,\n",
    "    \"(11)\",\n",
    "    \"(33)\",\n",
    "    \"16\",\n",
    "    \"29\",\n",
    "    12,\n",
    "    \"(34)\",\n",
    "]\n",
    "tb_telefone = pd.DataFrame({\"ddd\" : lista_ddd, \"telefone\" : lista_telefones})\n",
    "tb_telefone\n"
   ]
  },
  {
   "cell_type": "code",
   "execution_count": null,
   "metadata": {
    "ExecuteTime": {
     "end_time": "2022-01-08T14:17:27.589634Z",
     "start_time": "2022-01-08T14:17:27.574664Z"
    }
   },
   "outputs": [],
   "source": [
    "def limpar_telefone(ddd, telefone):\n",
    "    \"\"\"\n",
    "    Extrai o DDD de um telefone\n",
    "    telefone (str or numeric): telefone onde os dois primeiros digitos numéricos são o DDD\n",
    "    \"\"\"\n",
    "    pattern = r\"[0-9]+\"\n",
    "    ddd_limpo = \"\".join(re.findall(pattern, str(ddd)))\n",
    "    tel_limpo = \"\".join(re.findall(pattern, str(telefone)))\n",
    "    return f\"({ddd_limpo}){tel_limpo}\"\n"
   ]
  },
  {
   "cell_type": "code",
   "execution_count": null,
   "metadata": {
    "ExecuteTime": {
     "end_time": "2022-01-08T14:17:46.513278Z",
     "start_time": "2022-01-08T14:17:46.500286Z"
    }
   },
   "outputs": [],
   "source": [
    "limpar_telefone(\"(19)\", 35613870)\n"
   ]
  },
  {
   "cell_type": "code",
   "execution_count": null,
   "metadata": {
    "ExecuteTime": {
     "end_time": "2022-01-08T14:19:16.891010Z",
     "start_time": "2022-01-08T14:19:16.874077Z"
    }
   },
   "outputs": [],
   "source": [
    "tb_telefone[\"telefone_completo\"] = tb_telefone[[\"ddd\", \"telefone\"]].apply(lambda x: limpar_telefone(*x), axis = 1)\n",
    "tb_telefone"
   ]
  },
  {
   "cell_type": "markdown",
   "metadata": {},
   "source": [
    "## Exemplo 5: `.apply()` com argumentos fixos\n",
    "\n",
    "Nos exemplos acimas, todos os argumentos das funções aplicadas originavam em colunas do DataFrame. Algumas vezes queremos *fixar* um dos parâmetros de uma função ao aplica-la sobre nosso DataFrame"
   ]
  },
  {
   "cell_type": "code",
   "execution_count": null,
   "metadata": {
    "ExecuteTime": {
     "end_time": "2022-01-08T14:21:24.071709Z",
     "start_time": "2022-01-08T14:21:24.060768Z"
    }
   },
   "outputs": [],
   "source": [
    "def maior_custom(valor, patamar):\n",
    "    if valor > patamar:\n",
    "        return \"Pesado\"\n",
    "    else:\n",
    "        return \"Leve\"\n"
   ]
  },
  {
   "cell_type": "code",
   "execution_count": null,
   "metadata": {
    "ExecuteTime": {
     "end_time": "2022-01-08T14:22:36.015263Z",
     "start_time": "2022-01-08T14:22:35.983349Z"
    }
   },
   "outputs": [],
   "source": [
    "tb_sleep[\"ratio_brain\"].apply(maior_custom)\n"
   ]
  },
  {
   "cell_type": "code",
   "execution_count": null,
   "metadata": {
    "ExecuteTime": {
     "end_time": "2022-01-08T14:22:25.898432Z",
     "start_time": "2022-01-08T14:22:25.877489Z"
    }
   },
   "outputs": [],
   "source": [
    "tb_sleep[\"ratio_brain\"].apply(lambda x: maior_custom(x, 0.005))\n"
   ]
  }
 ],
 "metadata": {
  "hide_input": false,
  "kernelspec": {
   "display_name": "Python 3.9.11 ('base')",
   "language": "python",
   "name": "python3"
  },
  "language_info": {
   "codemirror_mode": {
    "name": "ipython",
    "version": 3
   },
   "file_extension": ".py",
   "mimetype": "text/x-python",
   "name": "python",
   "nbconvert_exporter": "python",
   "pygments_lexer": "ipython3",
   "version": "3.9.11"
  },
  "toc": {
   "base_numbering": 1,
   "nav_menu": {},
   "number_sections": true,
   "sideBar": true,
   "skip_h1_title": false,
   "title_cell": "Table of Contents",
   "title_sidebar": "Contents",
   "toc_cell": false,
   "toc_position": {},
   "toc_section_display": true,
   "toc_window_display": false
  },
  "varInspector": {
   "cols": {
    "lenName": 16,
    "lenType": 16,
    "lenVar": 40
   },
   "kernels_config": {
    "python": {
     "delete_cmd_postfix": "",
     "delete_cmd_prefix": "del ",
     "library": "var_list.py",
     "varRefreshCmd": "print(var_dic_list())"
    },
    "r": {
     "delete_cmd_postfix": ") ",
     "delete_cmd_prefix": "rm(",
     "library": "var_list.r",
     "varRefreshCmd": "cat(var_dic_list()) "
    }
   },
   "types_to_exclude": [
    "module",
    "function",
    "builtin_function_or_method",
    "instance",
    "_Feature"
   ],
   "window_display": false
  },
  "vscode": {
   "interpreter": {
    "hash": "014f4a4a5af8f0104b12c029e500f4146d6d785e8cf714d2a35b7a9514230cd3"
   }
  }
 },
 "nbformat": 4,
 "nbformat_minor": 4
}
