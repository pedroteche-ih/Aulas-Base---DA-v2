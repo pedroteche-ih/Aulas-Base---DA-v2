{
 "cells": [
  {
   "cell_type": "code",
   "execution_count": 6,
   "metadata": {},
   "outputs": [],
   "source": [
    "from random import choice\n",
    "ordem_real = ['Alexandre', 'Yasmin', 'Andry', 'Diego', 'Camila', 'Matheus', 'Lucas', 'Heber', 'Paulo']\n",
    "\n",
    "def choice(lista_alunos):\n",
    "    global ordem_real\n",
    "    aluno = ordem_real.pop(0)\n",
    "    return aluno"
   ]
  },
  {
   "cell_type": "code",
   "execution_count": 7,
   "metadata": {},
   "outputs": [
    {
     "name": "stdout",
     "output_type": "stream",
     "text": [
      "Alexandre\n",
      "['Matheus', 'Andry', 'Lucas', 'Paulo', 'Diego', 'Heber', 'Camila', 'Yasmin']\n"
     ]
    }
   ],
   "source": [
    "lista_alunos = [ 'Matheus', 'Andry', 'Lucas', 'Paulo', 'Diego', 'Heber', 'Alexandre', 'Camila', 'Yasmin']\n",
    "aluno = choice(lista_alunos)\n",
    "lista_alunos.remove(aluno)\n",
    "print(aluno)\n",
    "print(lista_alunos)"
   ]
  },
  {
   "cell_type": "code",
   "execution_count": 14,
   "metadata": {},
   "outputs": [
    {
     "name": "stdout",
     "output_type": "stream",
     "text": [
      "Heber\n",
      "['Paulo']\n"
     ]
    }
   ],
   "source": [
    "aluno = choice(lista_alunos)\n",
    "lista_alunos.remove(aluno)\n",
    "print(aluno)\n",
    "print(lista_alunos)"
   ]
  },
  {
   "cell_type": "code",
   "execution_count": null,
   "metadata": {},
   "outputs": [],
   "source": [
    "import pandas as pd\n",
    "lista_arquivos = ['a1.csv']\n",
    "\n",
    "for arquivo in lista_arquivos:\n",
    "    colunas_de_data = ['data1', 'data2']\n",
    "    tb_arquivo = pd.read_csv(arquivo, parse_dates = colunas_de_data)\n",
    "\n",
    "    tb_arquivo['ano'] =  tb_arquivo['data1'].dt.year\n",
    "    tb_arquivo['mes'] =  tb_arquivo['data1'].dt.month\n",
    "\n",
    "    cubo = ['raca', 'uf', 'municipio', 'sexo', 'vacina', 'ano', 'mes']\n",
    "    tb_agg = tb_arquivo.groupby(cubo)['id'].count().reset_index()\n",
    "\n",
    "    arquivo_agg = 'agg_' + arquivo\n",
    "    tb_agg.to_csv(arquivo_agg)\n"
   ]
  },
  {
   "cell_type": "code",
   "execution_count": null,
   "metadata": {},
   "outputs": [],
   "source": [
    "'agg_primeiro_arquivo.csv'"
   ]
  }
 ],
 "metadata": {
  "kernelspec": {
   "display_name": "Python 3.8.9 64-bit",
   "language": "python",
   "name": "python3"
  },
  "language_info": {
   "codemirror_mode": {
    "name": "ipython",
    "version": 3
   },
   "file_extension": ".py",
   "mimetype": "text/x-python",
   "name": "python",
   "nbconvert_exporter": "python",
   "pygments_lexer": "ipython3",
   "version": "3.8.9"
  },
  "orig_nbformat": 4,
  "vscode": {
   "interpreter": {
    "hash": "31f2aee4e71d21fbe5cf8b01ff0e069b9275f58929596ceb00d14d90e3e16cd6"
   }
  }
 },
 "nbformat": 4,
 "nbformat_minor": 2
}
