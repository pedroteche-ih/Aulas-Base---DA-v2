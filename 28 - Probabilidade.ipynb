{
 "cells": [
  {
   "cell_type": "markdown",
   "id": "0326173d",
   "metadata": {
    "toc": true
   },
   "source": [
    "<h1>Table of Contents<span class=\"tocSkip\"></span></h1>\n",
    "<div class=\"toc\"><ul class=\"toc-item\"><li><span><a href=\"#Probabilidade\" data-toc-modified-id=\"Probabilidade-1\"><span class=\"toc-item-num\">1&nbsp;&nbsp;</span>Probabilidade</a></span><ul class=\"toc-item\"><li><span><a href=\"#Espaço-Amostral\" data-toc-modified-id=\"Espaço-Amostral-1.1\"><span class=\"toc-item-num\">1.1&nbsp;&nbsp;</span>Espaço Amostral</a></span></li><li><span><a href=\"#Amostragem\" data-toc-modified-id=\"Amostragem-1.2\"><span class=\"toc-item-num\">1.2&nbsp;&nbsp;</span>Amostragem</a></span></li><li><span><a href=\"#Amostra\" data-toc-modified-id=\"Amostra-1.3\"><span class=\"toc-item-num\">1.3&nbsp;&nbsp;</span>Amostra</a></span></li><li><span><a href=\"#Distribuições-de-Probabilidade\" data-toc-modified-id=\"Distribuições-de-Probabilidade-1.4\"><span class=\"toc-item-num\">1.4&nbsp;&nbsp;</span>Distribuições de Probabilidade</a></span><ul class=\"toc-item\"><li><span><a href=\"#Distribuição-de-Bernoulli\" data-toc-modified-id=\"Distribuição-de-Bernoulli-1.4.1\"><span class=\"toc-item-num\">1.4.1&nbsp;&nbsp;</span>Distribuição de Bernoulli</a></span></li><li><span><a href=\"#Distribuição-Binomial\" data-toc-modified-id=\"Distribuição-Binomial-1.4.2\"><span class=\"toc-item-num\">1.4.2&nbsp;&nbsp;</span>Distribuição Binomial</a></span></li><li><span><a href=\"#Distribuição-Geométrica\" data-toc-modified-id=\"Distribuição-Geométrica-1.4.3\"><span class=\"toc-item-num\">1.4.3&nbsp;&nbsp;</span>Distribuição Geométrica</a></span></li><li><span><a href=\"#Distribuição-de-Poisson\" data-toc-modified-id=\"Distribuição-de-Poisson-1.4.4\"><span class=\"toc-item-num\">1.4.4&nbsp;&nbsp;</span>Distribuição de Poisson</a></span></li><li><span><a href=\"#Distribuição-Exponencial\" data-toc-modified-id=\"Distribuição-Exponencial-1.4.5\"><span class=\"toc-item-num\">1.4.5&nbsp;&nbsp;</span>Distribuição Exponencial</a></span></li><li><span><a href=\"#Teorema-do-Limite-Central\" data-toc-modified-id=\"Teorema-do-Limite-Central-1.4.6\"><span class=\"toc-item-num\">1.4.6&nbsp;&nbsp;</span>Teorema do Limite Central</a></span></li></ul></li></ul></li><li><span><a href=\"#Intervalo-de-Confiaça-e-RMSE\" data-toc-modified-id=\"Intervalo-de-Confiaça-e-RMSE-2\"><span class=\"toc-item-num\">2&nbsp;&nbsp;</span>Intervalo de Confiaça e RMSE</a></span><ul class=\"toc-item\"><li><span><a href=\"#RMSE-e-Complexidade\" data-toc-modified-id=\"RMSE-e-Complexidade-2.1\"><span class=\"toc-item-num\">2.1&nbsp;&nbsp;</span>RMSE e Complexidade</a></span></li></ul></li></ul></div>"
   ]
  },
  {
   "cell_type": "code",
   "execution_count": 1,
   "id": "9bbd534b",
   "metadata": {
    "ExecuteTime": {
     "end_time": "2022-03-11T00:33:42.171820Z",
     "start_time": "2022-03-11T00:33:42.160867Z"
    }
   },
   "outputs": [],
   "source": [
    "import numpy as np\n",
    "import scipy as sp\n",
    "import pandas as pd\n",
    "import seaborn as sns\n",
    "import matplotlib.pyplot as plt\n",
    "from collections import Counter"
   ]
  },
  {
   "cell_type": "markdown",
   "id": "18589366",
   "metadata": {},
   "source": [
    "# Probabilidade\n",
    "\n",
    "Como vimos na aula de estatíticas descritivas, probabilidade é o estudo de fenômenos aleatórios a partir da construção de modelos probabilísticos (no sentido contrário da estatística, que estima modelos probabílisticos a partir de observações/dados).\n",
    "\n",
    "Mas o que são **modelos probabilísticos**? Para entender este conceito, vamos olhar primeiro para alguns conceitos fundamentais em probabilidade: **variáveis aleatórias**, **espaço amostral** e **função de probabilidade**.\n",
    "\n",
    "## V.A. e Espaço Amostral\n",
    "\n",
    "*Uma variável aleatória é uma variável quantitativa, cujo resultado (valor) depende de fatores aleatórios*. Por exemplo, o **resultado** do lance de uma moeda é uma variável aleatória. O espaço amostral é o conjunto de valores que nossa variável aleatória pode assumir: no exemplo da moeda, o espaço amostral é o conjunto `{cara, coroa}`.\n",
    "\n",
    "Vamos representar o espaço amostral acima através de uma lista:"
   ]
  },
  {
   "cell_type": "code",
   "execution_count": 2,
   "id": "ead06f29",
   "metadata": {
    "ExecuteTime": {
     "end_time": "2022-03-10T22:41:12.131999Z",
     "start_time": "2022-03-10T22:41:12.123998Z"
    }
   },
   "outputs": [],
   "source": [
    "moeda = ['cara', 'coroa']"
   ]
  },
  {
   "cell_type": "markdown",
   "id": "5436d93e",
   "metadata": {},
   "source": [
    "## Função de Probabilidade\n",
    "\n",
    "A segunda parte de um modelo probabilístico é a **função de probabilidade**: esta função **atribui** à cada elemento do nosso **espaço amostral** uma probabilidade tal que a somatória da probabilidade de todos os eventos de nosso espaço amostra é sempre 1.\n",
    "\n",
    "No nosso exemplo da moeda, caso esta seja justa, a função de probabilidade atribuirá 0,5 ao elemento `cara` e 0,5 ao elemento `coroa`. Vamos utilizar a função `choice()` do submódulo `random` da biblioteca `numpy` para representar nossa função de probabilidade. Esta função nos permite mapear um vetor de probabilidades, através do argumento `p = [...]`, à um espaço amostral:"
   ]
  },
  {
   "cell_type": "code",
   "execution_count": 3,
   "id": "a796daca",
   "metadata": {},
   "outputs": [
    {
     "data": {
      "text/plain": [
       "'coroa'"
      ]
     },
     "execution_count": 3,
     "metadata": {},
     "output_type": "execute_result"
    }
   ],
   "source": [
    "np.random.choice(moeda, p = [0.5, 0.5])"
   ]
  },
  {
   "cell_type": "markdown",
   "id": "a994712d",
   "metadata": {},
   "source": [
    "## Amostragem\n",
    "\n",
    "Toda vez que executamos a função acima estamos **amostrando** nossa variável aleatória, ou seja, estamos *criando* uma observação a partir do nosso modelo probabilístico. Vamos definir duas funções de probabilidade (dois modelos distintos descrevendo duas variáveis aleatórias diferentes): uma para uma moeda justa e outra para uma moeda injusta:"
   ]
  },
  {
   "cell_type": "code",
   "execution_count": 4,
   "id": "26d12bc5",
   "metadata": {
    "ExecuteTime": {
     "end_time": "2022-03-10T22:42:21.333929Z",
     "start_time": "2022-03-10T22:42:21.320961Z"
    }
   },
   "outputs": [],
   "source": [
    "def jogar_moeda_justa():\n",
    "    return np.random.choice(moeda)"
   ]
  },
  {
   "cell_type": "code",
   "execution_count": 5,
   "id": "83347a1c",
   "metadata": {
    "ExecuteTime": {
     "end_time": "2022-03-10T22:42:29.971373Z",
     "start_time": "2022-03-10T22:42:29.951426Z"
    }
   },
   "outputs": [
    {
     "data": {
      "text/plain": [
       "'coroa'"
      ]
     },
     "execution_count": 5,
     "metadata": {},
     "output_type": "execute_result"
    }
   ],
   "source": [
    "jogar_moeda_justa()"
   ]
  },
  {
   "cell_type": "code",
   "execution_count": 6,
   "id": "9942ec6c",
   "metadata": {
    "ExecuteTime": {
     "end_time": "2022-03-10T22:43:50.393011Z",
     "start_time": "2022-03-10T22:43:50.390018Z"
    }
   },
   "outputs": [],
   "source": [
    "def jogar_moeda_injusta():\n",
    "    return np.random.choice(moeda, p = [0.1, 0.9])"
   ]
  },
  {
   "cell_type": "code",
   "execution_count": 7,
   "id": "d0cbdb86",
   "metadata": {
    "ExecuteTime": {
     "end_time": "2022-03-10T22:43:59.783148Z",
     "start_time": "2022-03-10T22:43:59.772179Z"
    }
   },
   "outputs": [
    {
     "data": {
      "text/plain": [
       "'coroa'"
      ]
     },
     "execution_count": 7,
     "metadata": {},
     "output_type": "execute_result"
    }
   ],
   "source": [
    "jogar_moeda_injusta()"
   ]
  },
  {
   "cell_type": "markdown",
   "id": "6e080910",
   "metadata": {},
   "source": [
    "## Amostra\n",
    "\n",
    "Uma **amostra** é um conjunto de observações da nossa variável aleatória. Por exemplo, se lançarmos 100 moedas justas, teremos uma amostra de tamanho 100 da nossa variável. Vamos utilizar um `list comprehesion` para simular este processo:"
   ]
  },
  {
   "cell_type": "code",
   "execution_count": 8,
   "id": "8b79083b",
   "metadata": {
    "ExecuteTime": {
     "end_time": "2022-03-10T22:45:49.006880Z",
     "start_time": "2022-03-10T22:45:48.985937Z"
    }
   },
   "outputs": [],
   "source": [
    "amostra_100 = [jogar_moeda_injusta() for i in range(100)]"
   ]
  },
  {
   "cell_type": "code",
   "execution_count": 9,
   "id": "86d8f9f5",
   "metadata": {
    "ExecuteTime": {
     "end_time": "2022-03-10T22:45:53.432948Z",
     "start_time": "2022-03-10T22:45:53.419986Z"
    }
   },
   "outputs": [
    {
     "data": {
      "text/plain": [
       "['coroa', 'coroa', 'coroa', 'coroa', 'cara']"
      ]
     },
     "execution_count": 9,
     "metadata": {},
     "output_type": "execute_result"
    }
   ],
   "source": [
    "amostra_100[0:5]"
   ]
  },
  {
   "cell_type": "code",
   "execution_count": 10,
   "id": "6564d8e4",
   "metadata": {
    "ExecuteTime": {
     "end_time": "2022-03-10T22:45:57.227886Z",
     "start_time": "2022-03-10T22:45:57.209912Z"
    }
   },
   "outputs": [],
   "source": [
    "from collections import Counter"
   ]
  },
  {
   "cell_type": "code",
   "execution_count": 11,
   "id": "1bf0062b",
   "metadata": {
    "ExecuteTime": {
     "end_time": "2022-03-10T22:46:01.448612Z",
     "start_time": "2022-03-10T22:46:01.442636Z"
    }
   },
   "outputs": [
    {
     "data": {
      "text/plain": [
       "Counter({'coroa': 90, 'cara': 10})"
      ]
     },
     "execution_count": 11,
     "metadata": {},
     "output_type": "execute_result"
    }
   ],
   "source": [
    "Counter(amostra_100)"
   ]
  },
  {
   "cell_type": "markdown",
   "id": "952c34ad",
   "metadata": {},
   "source": [
    "## Extendendo Variáveis Aleatórias\n",
    "\n",
    "O exemplo acima trata um tipo de fenômeno aleatório extremamente simples: um lance de moeda. No entanto, podemos construir variáveis aleatórias mais complexas a partir da realização do processo de amostragem. Por exemplo, podemos definir uma variável aleatória para mensurar a probabilidade de ter **N caras** em **M lances de uma moeda justa**.\n",
    "\n",
    "Esta nova função tem um espaço amostral composto por vetores de cara e coroa com **comprimento M** e nos permite medir a probabilidade de observarmos **2 caras em 3 lances de uma moeda justa**. O espaço amostral dessa variável aleatória:\n",
    "\n",
    "```\n",
    "['cara', 'cara', 'cara']\n",
    "\n",
    "['cara', 'cara', 'coroa']\n",
    "['cara', 'coroa', 'cara']\n",
    "['coroa', 'cara', 'cara']\n",
    "\n",
    "['cara', 'coroa', 'coroa']\n",
    "['coroa', 'cara', 'coroa']\n",
    "['coroa', 'coroa', 'cara']\n",
    "\n",
    "['coroa', 'coroa', 'coroa']\n",
    "```\n",
    "\n",
    "Ou seja, nosso espaço amostral contém todos os resultados possíveis de 3 lances de uma moeda justa - e a probabilidade de observar 2 caras em 3 lances de uma moeda justa é 3/8. No exemplo acima fica claro que a construção manual do espaço amostral, mesmo quando ele é simples, é inviável! Temos duas formas de contornar este problema:\n",
    "\n",
    "1. Diversos problemas, como o descrito acima, tem equações que nos permitem calcular, a partir da formulação do problema, a probabilidade de um certo tipo de evento;\n",
    "1. Utilizando amostragem e a **lei dos grandes números**!\n",
    "\n",
    "\n",
    "A **lei dos grandes números** é um teorema fundamental da probabilidade que garante que conforme aumentamos o tamanho de uma amostra a **% de eventos observada converge para a probabilidade daquele evento**!\n",
    "\n",
    "Vamos alavancar o poder computacional e utilizar a função `jogar_moeda_justa()` para ver a **lei dos grandes números** em operação. Primeiro, vamos definir uma nova função de amostragem para nosso novo espaço amostral:"
   ]
  },
  {
   "cell_type": "code",
   "execution_count": 16,
   "id": "d5fede8d",
   "metadata": {},
   "outputs": [],
   "source": [
    "def jogar_3_moedas():\n",
    "    evento = [jogar_moeda_justa() for i in range(3)]\n",
    "    return evento"
   ]
  },
  {
   "cell_type": "code",
   "execution_count": 17,
   "id": "286fbede",
   "metadata": {},
   "outputs": [
    {
     "data": {
      "text/plain": [
       "['cara', 'coroa', 'cara']"
      ]
     },
     "execution_count": 17,
     "metadata": {},
     "output_type": "execute_result"
    }
   ],
   "source": [
    "jogar_3_moedas()"
   ]
  },
  {
   "cell_type": "markdown",
   "id": "a9efdad9",
   "metadata": {},
   "source": [
    "Agora, vamos criar uma função para construir amostras de tamanho fixo:"
   ]
  },
  {
   "cell_type": "code",
   "execution_count": 18,
   "id": "72881175",
   "metadata": {},
   "outputs": [],
   "source": [
    "def amostrar_3_moedas(n_amostras):\n",
    "    amostra = [jogar_3_moedas() for i in range(n_amostras)]\n",
    "    return amostra"
   ]
  },
  {
   "cell_type": "code",
   "execution_count": 19,
   "id": "d74e926a",
   "metadata": {},
   "outputs": [
    {
     "data": {
      "text/plain": [
       "[['coroa', 'coroa', 'coroa'],\n",
       " ['cara', 'cara', 'cara'],\n",
       " ['cara', 'coroa', 'coroa'],\n",
       " ['cara', 'cara', 'cara'],\n",
       " ['coroa', 'coroa', 'coroa'],\n",
       " ['cara', 'cara', 'coroa'],\n",
       " ['coroa', 'cara', 'cara'],\n",
       " ['cara', 'coroa', 'cara'],\n",
       " ['coroa', 'coroa', 'cara'],\n",
       " ['cara', 'cara', 'coroa']]"
      ]
     },
     "execution_count": 19,
     "metadata": {},
     "output_type": "execute_result"
    }
   ],
   "source": [
    "amostrar_3_moedas(10)"
   ]
  },
  {
   "cell_type": "markdown",
   "id": "754073de",
   "metadata": {},
   "source": [
    "Agora vamos construir uma função para calcular a **% de observações com duas caras** para uma dada amostra:"
   ]
  },
  {
   "cell_type": "code",
   "execution_count": 22,
   "id": "dfe642f5",
   "metadata": {},
   "outputs": [],
   "source": [
    "def per_2_caras(amostra):\n",
    "    contagem_caras = [evento.count('coroa') for evento in amostra]\n",
    "    return contagem_caras.count(2)/len(amostra)"
   ]
  },
  {
   "cell_type": "code",
   "execution_count": 26,
   "id": "be8368c8",
   "metadata": {},
   "outputs": [
    {
     "data": {
      "text/plain": [
       "0.5"
      ]
     },
     "execution_count": 26,
     "metadata": {},
     "output_type": "execute_result"
    }
   ],
   "source": [
    "per_2_caras(amostrar_3_moedas(10))"
   ]
  },
  {
   "cell_type": "markdown",
   "id": "49529fe9",
   "metadata": {},
   "source": [
    "Agora vamos criar um loop para calcular **% de observações com duas caras** para amostras de tamanho de 1 à 1000:"
   ]
  },
  {
   "cell_type": "code",
   "execution_count": 31,
   "id": "351fd767",
   "metadata": {},
   "outputs": [],
   "source": [
    "per_observada = []\n",
    "for i in range(1, 2001):\n",
    "    per_observada.append(per_2_caras(amostrar_3_moedas(i)))"
   ]
  },
  {
   "cell_type": "markdown",
   "id": "df5c7b60",
   "metadata": {},
   "source": [
    "Agora vamos comparar a **% de observações com 2 caras** com a **probabilidade que calculamos** a partir do espaço amostral:"
   ]
  },
  {
   "cell_type": "code",
   "execution_count": 34,
   "id": "7ed5c79a",
   "metadata": {},
   "outputs": [
    {
     "data": {
      "text/plain": [
       "Text(0, 0.5, '% de Observações com duas Cara')"
      ]
     },
     "execution_count": 34,
     "metadata": {},
     "output_type": "execute_result"
    },
    {
     "data": {
      "image/png": "[encoded data removed]",
      "text/plain": [
       "<Figure size 432x288 with 1 Axes>"
      ]
     },
     "metadata": {
      "needs_background": "light"
     },
     "output_type": "display_data"
    }
   ],
   "source": [
    "fig, ax = plt.subplots()\n",
    "ax.plot(per_observada)\n",
    "ax.axhline(3/8, color = 'black')\n",
    "ax.set_xlabel('Tamanho da Amostra')\n",
    "ax.set_ylabel('% de Observações com duas Cara')"
   ]
  },
  {
   "cell_type": "markdown",
   "id": "077c87eb",
   "metadata": {},
   "source": [
    "## Distribuições de Probabilidade"
   ]
  },
  {
   "cell_type": "markdown",
   "id": "da22084f",
   "metadata": {},
   "source": [
    "### Distribuição de Bernoulli"
   ]
  },
  {
   "cell_type": "markdown",
   "id": "f72d2acd",
   "metadata": {},
   "source": [
    "Espaço amostral: Booleano"
   ]
  },
  {
   "cell_type": "markdown",
   "id": "8164e9e9",
   "metadata": {},
   "source": [
    "<img src=\"bernoulli.jpg\" alt=\"Drawing\" style=\"width: 200px;\"/>"
   ]
  },
  {
   "cell_type": "code",
   "execution_count": 66,
   "id": "02b7979c",
   "metadata": {
    "ExecuteTime": {
     "end_time": "2022-03-10T22:48:08.159798Z",
     "start_time": "2022-03-10T22:48:07.988275Z"
    }
   },
   "outputs": [],
   "source": [
    "amostra_justa = [jogar_moeda_justa() for i in range(10000)]\n",
    "amostra_injusta = [jogar_moeda_injusta() for i in range(100)]"
   ]
  },
  {
   "cell_type": "code",
   "execution_count": 67,
   "id": "867c177d",
   "metadata": {
    "ExecuteTime": {
     "end_time": "2022-03-10T22:48:08.331336Z",
     "start_time": "2022-03-10T22:48:08.322381Z"
    }
   },
   "outputs": [
    {
     "data": {
      "text/plain": [
       "Counter({'coroa': 4958, 'cara': 5042})"
      ]
     },
     "execution_count": 67,
     "metadata": {},
     "output_type": "execute_result"
    }
   ],
   "source": [
    "Counter(amostra_justa)"
   ]
  },
  {
   "cell_type": "code",
   "execution_count": 68,
   "id": "26ea2fc9",
   "metadata": {
    "ExecuteTime": {
     "end_time": "2022-03-10T22:48:08.690570Z",
     "start_time": "2022-03-10T22:48:08.674581Z"
    }
   },
   "outputs": [
    {
     "data": {
      "text/html": [
       "<div>\n",
       "<style scoped>\n",
       "    .dataframe tbody tr th:only-of-type {\n",
       "        vertical-align: middle;\n",
       "    }\n",
       "\n",
       "    .dataframe tbody tr th {\n",
       "        vertical-align: top;\n",
       "    }\n",
       "\n",
       "    .dataframe thead th {\n",
       "        text-align: right;\n",
       "    }\n",
       "</style>\n",
       "<table border=\"1\" class=\"dataframe\">\n",
       "  <thead>\n",
       "    <tr style=\"text-align: right;\">\n",
       "      <th></th>\n",
       "      <th>coroa</th>\n",
       "      <th>cara</th>\n",
       "    </tr>\n",
       "  </thead>\n",
       "  <tbody>\n",
       "    <tr>\n",
       "      <th>0</th>\n",
       "      <td>0.4958</td>\n",
       "      <td>0.5042</td>\n",
       "    </tr>\n",
       "  </tbody>\n",
       "</table>\n",
       "</div>"
      ],
      "text/plain": [
       "    coroa    cara\n",
       "0  0.4958  0.5042"
      ]
     },
     "execution_count": 68,
     "metadata": {},
     "output_type": "execute_result"
    }
   ],
   "source": [
    "pd.DataFrame([Counter(amostra_justa)])/10000"
   ]
  },
  {
   "cell_type": "code",
   "execution_count": 70,
   "id": "64ae0fc0",
   "metadata": {
    "ExecuteTime": {
     "end_time": "2022-03-10T22:48:33.454281Z",
     "start_time": "2022-03-10T22:48:33.326936Z"
    }
   },
   "outputs": [
    {
     "data": {
      "text/plain": [
       "<AxesSubplot:>"
      ]
     },
     "execution_count": 70,
     "metadata": {},
     "output_type": "execute_result"
    },
    {
     "data": {
      "image/png": "[encoded data removed]",
      "text/plain": [
       "<Figure size 432x288 with 1 Axes>"
      ]
     },
     "metadata": {
      "needs_background": "light"
     },
     "output_type": "display_data"
    }
   ],
   "source": [
    "sns.barplot(data = pd.DataFrame([Counter(amostra_justa)])/10000)"
   ]
  },
  {
   "cell_type": "code",
   "execution_count": 71,
   "id": "1d41ad63",
   "metadata": {
    "ExecuteTime": {
     "end_time": "2022-03-10T22:49:05.165781Z",
     "start_time": "2022-03-10T22:49:05.160796Z"
    }
   },
   "outputs": [
    {
     "data": {
      "text/plain": [
       "Counter({'coroa': 94, 'cara': 6})"
      ]
     },
     "execution_count": 71,
     "metadata": {},
     "output_type": "execute_result"
    }
   ],
   "source": [
    "Counter(amostra_injusta)"
   ]
  },
  {
   "cell_type": "code",
   "execution_count": 72,
   "id": "ca2a797c",
   "metadata": {
    "ExecuteTime": {
     "end_time": "2022-03-10T22:49:12.754501Z",
     "start_time": "2022-03-10T22:49:12.629807Z"
    }
   },
   "outputs": [
    {
     "data": {
      "text/plain": [
       "<AxesSubplot:>"
      ]
     },
     "execution_count": 72,
     "metadata": {},
     "output_type": "execute_result"
    },
    {
     "data": {
      "image/png": "[encoded data removed]",
      "text/plain": [
       "<Figure size 432x288 with 1 Axes>"
      ]
     },
     "metadata": {
      "needs_background": "light"
     },
     "output_type": "display_data"
    }
   ],
   "source": [
    "sns.barplot(data = pd.DataFrame([Counter(amostra_injusta)])/100)"
   ]
  },
  {
   "cell_type": "markdown",
   "id": "7c925586",
   "metadata": {},
   "source": [
    "### Distribuição Binomial"
   ]
  },
  {
   "cell_type": "markdown",
   "id": "0807afbc",
   "metadata": {},
   "source": [
    "Espaço amostral: Inteiros >= 0"
   ]
  },
  {
   "cell_type": "code",
   "execution_count": 73,
   "id": "1c2c2946",
   "metadata": {
    "ExecuteTime": {
     "end_time": "2022-03-10T22:51:20.315674Z",
     "start_time": "2022-03-10T22:51:20.309739Z"
    }
   },
   "outputs": [],
   "source": [
    "def numero_coroa_justa(amostras):\n",
    "    amostra = [jogar_moeda_justa() for i in range(amostras)]\n",
    "    return Counter(amostra)['coroa']"
   ]
  },
  {
   "cell_type": "code",
   "execution_count": 80,
   "id": "d4bd23ab",
   "metadata": {
    "ExecuteTime": {
     "end_time": "2022-03-10T22:52:06.791031Z",
     "start_time": "2022-03-10T22:52:06.780048Z"
    }
   },
   "outputs": [
    {
     "data": {
      "text/plain": [
       "4"
      ]
     },
     "execution_count": 80,
     "metadata": {},
     "output_type": "execute_result"
    }
   ],
   "source": [
    "numero_coroa_justa(10)"
   ]
  },
  {
   "cell_type": "code",
   "execution_count": 98,
   "id": "00b62760",
   "metadata": {
    "ExecuteTime": {
     "end_time": "2022-03-10T23:01:51.140250Z",
     "start_time": "2022-03-10T23:01:49.607772Z"
    }
   },
   "outputs": [],
   "source": [
    "amostra_binomial = [numero_coroa_justa(10) for i in range(10000)]"
   ]
  },
  {
   "cell_type": "code",
   "execution_count": 99,
   "id": "8bc40fa8",
   "metadata": {
    "ExecuteTime": {
     "end_time": "2022-03-10T23:01:52.518068Z",
     "start_time": "2022-03-10T23:01:52.514078Z"
    }
   },
   "outputs": [
    {
     "data": {
      "text/plain": [
       "[8, 5, 5, 6, 4, 5]"
      ]
     },
     "execution_count": 99,
     "metadata": {},
     "output_type": "execute_result"
    }
   ],
   "source": [
    "amostra_binomial[0:6]"
   ]
  },
  {
   "cell_type": "code",
   "execution_count": 100,
   "id": "85ce3235",
   "metadata": {
    "ExecuteTime": {
     "end_time": "2022-03-10T23:01:53.107676Z",
     "start_time": "2022-03-10T23:01:53.101692Z"
    }
   },
   "outputs": [
    {
     "data": {
      "text/plain": [
       "Counter({8: 429,\n",
       "         5: 2412,\n",
       "         6: 2131,\n",
       "         4: 2048,\n",
       "         3: 1148,\n",
       "         7: 1179,\n",
       "         2: 435,\n",
       "         1: 107,\n",
       "         9: 91,\n",
       "         10: 11,\n",
       "         0: 9})"
      ]
     },
     "execution_count": 100,
     "metadata": {},
     "output_type": "execute_result"
    }
   ],
   "source": [
    "contagem_amostra = Counter(amostra_binomial)\n",
    "contagem_amostra"
   ]
  },
  {
   "cell_type": "code",
   "execution_count": 101,
   "id": "26902a34",
   "metadata": {
    "ExecuteTime": {
     "end_time": "2022-03-10T23:01:53.652762Z",
     "start_time": "2022-03-10T23:01:53.642758Z"
    }
   },
   "outputs": [],
   "source": [
    "contagem_amostra = Counter(amostra_binomial)\n",
    "tb_binom = pd.DataFrame({\n",
    "    'num_coroas': contagem_amostra.keys(),\n",
    "    'num_eventos': contagem_amostra.values()\n",
    "})\n",
    "tb_binom['prob_medida'] = tb_binom['num_eventos']/sum(tb_binom['num_eventos'])\n",
    "tb_binom = tb_binom.sort_values('num_coroas')"
   ]
  },
  {
   "cell_type": "code",
   "execution_count": 102,
   "id": "6d192026",
   "metadata": {
    "ExecuteTime": {
     "end_time": "2022-03-10T23:01:54.846484Z",
     "start_time": "2022-03-10T23:01:54.838496Z"
    }
   },
   "outputs": [
    {
     "data": {
      "text/html": [
       "<div>\n",
       "<style scoped>\n",
       "    .dataframe tbody tr th:only-of-type {\n",
       "        vertical-align: middle;\n",
       "    }\n",
       "\n",
       "    .dataframe tbody tr th {\n",
       "        vertical-align: top;\n",
       "    }\n",
       "\n",
       "    .dataframe thead th {\n",
       "        text-align: right;\n",
       "    }\n",
       "</style>\n",
       "<table border=\"1\" class=\"dataframe\">\n",
       "  <thead>\n",
       "    <tr style=\"text-align: right;\">\n",
       "      <th></th>\n",
       "      <th>num_coroas</th>\n",
       "      <th>num_eventos</th>\n",
       "      <th>prob_medida</th>\n",
       "    </tr>\n",
       "  </thead>\n",
       "  <tbody>\n",
       "    <tr>\n",
       "      <th>10</th>\n",
       "      <td>0</td>\n",
       "      <td>9</td>\n",
       "      <td>0.0009</td>\n",
       "    </tr>\n",
       "    <tr>\n",
       "      <th>7</th>\n",
       "      <td>1</td>\n",
       "      <td>107</td>\n",
       "      <td>0.0107</td>\n",
       "    </tr>\n",
       "    <tr>\n",
       "      <th>6</th>\n",
       "      <td>2</td>\n",
       "      <td>435</td>\n",
       "      <td>0.0435</td>\n",
       "    </tr>\n",
       "    <tr>\n",
       "      <th>4</th>\n",
       "      <td>3</td>\n",
       "      <td>1148</td>\n",
       "      <td>0.1148</td>\n",
       "    </tr>\n",
       "    <tr>\n",
       "      <th>3</th>\n",
       "      <td>4</td>\n",
       "      <td>2048</td>\n",
       "      <td>0.2048</td>\n",
       "    </tr>\n",
       "    <tr>\n",
       "      <th>1</th>\n",
       "      <td>5</td>\n",
       "      <td>2412</td>\n",
       "      <td>0.2412</td>\n",
       "    </tr>\n",
       "    <tr>\n",
       "      <th>2</th>\n",
       "      <td>6</td>\n",
       "      <td>2131</td>\n",
       "      <td>0.2131</td>\n",
       "    </tr>\n",
       "    <tr>\n",
       "      <th>5</th>\n",
       "      <td>7</td>\n",
       "      <td>1179</td>\n",
       "      <td>0.1179</td>\n",
       "    </tr>\n",
       "    <tr>\n",
       "      <th>0</th>\n",
       "      <td>8</td>\n",
       "      <td>429</td>\n",
       "      <td>0.0429</td>\n",
       "    </tr>\n",
       "    <tr>\n",
       "      <th>8</th>\n",
       "      <td>9</td>\n",
       "      <td>91</td>\n",
       "      <td>0.0091</td>\n",
       "    </tr>\n",
       "    <tr>\n",
       "      <th>9</th>\n",
       "      <td>10</td>\n",
       "      <td>11</td>\n",
       "      <td>0.0011</td>\n",
       "    </tr>\n",
       "  </tbody>\n",
       "</table>\n",
       "</div>"
      ],
      "text/plain": [
       "    num_coroas  num_eventos  prob_medida\n",
       "10           0            9       0.0009\n",
       "7            1          107       0.0107\n",
       "6            2          435       0.0435\n",
       "4            3         1148       0.1148\n",
       "3            4         2048       0.2048\n",
       "1            5         2412       0.2412\n",
       "2            6         2131       0.2131\n",
       "5            7         1179       0.1179\n",
       "0            8          429       0.0429\n",
       "8            9           91       0.0091\n",
       "9           10           11       0.0011"
      ]
     },
     "execution_count": 102,
     "metadata": {},
     "output_type": "execute_result"
    }
   ],
   "source": [
    "tb_binom"
   ]
  },
  {
   "cell_type": "code",
   "execution_count": 103,
   "id": "0de16c0f",
   "metadata": {
    "ExecuteTime": {
     "end_time": "2022-03-10T23:01:55.556127Z",
     "start_time": "2022-03-10T23:01:55.346103Z"
    }
   },
   "outputs": [
    {
     "data": {
      "text/plain": [
       "<AxesSubplot:xlabel='num_coroas', ylabel='prob_medida'>"
      ]
     },
     "execution_count": 103,
     "metadata": {},
     "output_type": "execute_result"
    },
    {
     "data": {
      "image/png": "[encoded data removed]",
      "text/plain": [
       "<Figure size 432x288 with 1 Axes>"
      ]
     },
     "metadata": {
      "needs_background": "light"
     },
     "output_type": "display_data"
    }
   ],
   "source": [
    "sns.barplot(data = tb_binom, x = 'num_coroas', y = 'prob_medida', color='blue')"
   ]
  },
  {
   "cell_type": "code",
   "execution_count": 104,
   "id": "f5d18317",
   "metadata": {
    "ExecuteTime": {
     "end_time": "2022-03-10T23:01:56.346281Z",
     "start_time": "2022-03-10T23:01:56.329330Z"
    }
   },
   "outputs": [],
   "source": [
    "dist_binomial = sp.stats.binom(10, 0.5)"
   ]
  },
  {
   "cell_type": "code",
   "execution_count": 105,
   "id": "97385df7",
   "metadata": {
    "ExecuteTime": {
     "end_time": "2022-03-10T23:01:57.171494Z",
     "start_time": "2022-03-10T23:01:56.977151Z"
    }
   },
   "outputs": [
    {
     "data": {
      "text/plain": [
       "<AxesSubplot:>"
      ]
     },
     "execution_count": 105,
     "metadata": {},
     "output_type": "execute_result"
    },
    {
     "data": {
      "image/png": "[encoded data removed]",
      "text/plain": [
       "<Figure size 432x288 with 1 Axes>"
      ]
     },
     "metadata": {
      "needs_background": "light"
     },
     "output_type": "display_data"
    }
   ],
   "source": [
    "x = np.arange(0,11)\n",
    "y = dist_binomial.pmf(x)\n",
    "sns.barplot(x= x, y=y, color='blue')"
   ]
  },
  {
   "cell_type": "markdown",
   "id": "570e9734",
   "metadata": {},
   "source": [
    "Podemos usar a pmf (probability mass function, ou função massa de probabilidade) para calcular a probabilidade de uma dada contagem de eventos positivos:"
   ]
  },
  {
   "cell_type": "code",
   "execution_count": 106,
   "id": "5650d4f9",
   "metadata": {
    "ExecuteTime": {
     "end_time": "2022-03-10T23:01:59.080247Z",
     "start_time": "2022-03-10T23:01:59.070274Z"
    }
   },
   "outputs": [
    {
     "data": {
      "text/plain": [
       "0.24609375000000025"
      ]
     },
     "execution_count": 106,
     "metadata": {},
     "output_type": "execute_result"
    }
   ],
   "source": [
    "dist_binomial.pmf(5)"
   ]
  },
  {
   "cell_type": "code",
   "execution_count": 107,
   "id": "ec3e493a",
   "metadata": {
    "ExecuteTime": {
     "end_time": "2022-03-10T23:01:59.377707Z",
     "start_time": "2022-03-10T23:01:59.365741Z"
    }
   },
   "outputs": [
    {
     "data": {
      "text/plain": [
       "0.0546875"
      ]
     },
     "execution_count": 107,
     "metadata": {},
     "output_type": "execute_result"
    }
   ],
   "source": [
    "sum([dist_binomial.pmf(i) for i in [0, 1, 2]])"
   ]
  },
  {
   "cell_type": "markdown",
   "id": "df752522",
   "metadata": {},
   "source": [
    "e podemos usar a função distribuição acumulada, ou C.D.F. (cumulative distribution function) para calcular a probabilidade de até N eventos:"
   ]
  },
  {
   "cell_type": "code",
   "execution_count": 108,
   "id": "839ed474",
   "metadata": {
    "ExecuteTime": {
     "end_time": "2022-03-10T23:02:00.163109Z",
     "start_time": "2022-03-10T23:02:00.146170Z"
    }
   },
   "outputs": [
    {
     "data": {
      "text/plain": [
       "0.054687500000000014"
      ]
     },
     "execution_count": 108,
     "metadata": {},
     "output_type": "execute_result"
    }
   ],
   "source": [
    "dist_binomial.cdf(2)"
   ]
  },
  {
   "cell_type": "code",
   "execution_count": 109,
   "id": "c9298540",
   "metadata": {
    "ExecuteTime": {
     "end_time": "2022-03-10T23:02:00.665765Z",
     "start_time": "2022-03-10T23:02:00.465300Z"
    }
   },
   "outputs": [
    {
     "data": {
      "text/plain": [
       "<AxesSubplot:>"
      ]
     },
     "execution_count": 109,
     "metadata": {},
     "output_type": "execute_result"
    },
    {
     "data": {
      "image/png": "[encoded data removed]",
      "text/plain": [
       "<Figure size 432x288 with 1 Axes>"
      ]
     },
     "metadata": {
      "needs_background": "light"
     },
     "output_type": "display_data"
    }
   ],
   "source": [
    "x = np.arange(0,11)\n",
    "y = 1-dist_binomial.cdf(x)\n",
    "sns.barplot(x= x, y=y, color='blue')"
   ]
  },
  {
   "cell_type": "code",
   "execution_count": 110,
   "id": "31787126",
   "metadata": {
    "ExecuteTime": {
     "end_time": "2022-03-10T23:02:00.681721Z",
     "start_time": "2022-03-10T23:02:00.668756Z"
    }
   },
   "outputs": [
    {
     "data": {
      "text/html": [
       "<div>\n",
       "<style scoped>\n",
       "    .dataframe tbody tr th:only-of-type {\n",
       "        vertical-align: middle;\n",
       "    }\n",
       "\n",
       "    .dataframe tbody tr th {\n",
       "        vertical-align: top;\n",
       "    }\n",
       "\n",
       "    .dataframe thead th {\n",
       "        text-align: right;\n",
       "    }\n",
       "</style>\n",
       "<table border=\"1\" class=\"dataframe\">\n",
       "  <thead>\n",
       "    <tr style=\"text-align: right;\">\n",
       "      <th></th>\n",
       "      <th>num_coroas</th>\n",
       "      <th>num_eventos</th>\n",
       "      <th>prob_medida</th>\n",
       "    </tr>\n",
       "  </thead>\n",
       "  <tbody>\n",
       "    <tr>\n",
       "      <th>10</th>\n",
       "      <td>0</td>\n",
       "      <td>9</td>\n",
       "      <td>0.0009</td>\n",
       "    </tr>\n",
       "    <tr>\n",
       "      <th>7</th>\n",
       "      <td>1</td>\n",
       "      <td>107</td>\n",
       "      <td>0.0107</td>\n",
       "    </tr>\n",
       "    <tr>\n",
       "      <th>6</th>\n",
       "      <td>2</td>\n",
       "      <td>435</td>\n",
       "      <td>0.0435</td>\n",
       "    </tr>\n",
       "    <tr>\n",
       "      <th>4</th>\n",
       "      <td>3</td>\n",
       "      <td>1148</td>\n",
       "      <td>0.1148</td>\n",
       "    </tr>\n",
       "    <tr>\n",
       "      <th>3</th>\n",
       "      <td>4</td>\n",
       "      <td>2048</td>\n",
       "      <td>0.2048</td>\n",
       "    </tr>\n",
       "  </tbody>\n",
       "</table>\n",
       "</div>"
      ],
      "text/plain": [
       "    num_coroas  num_eventos  prob_medida\n",
       "10           0            9       0.0009\n",
       "7            1          107       0.0107\n",
       "6            2          435       0.0435\n",
       "4            3         1148       0.1148\n",
       "3            4         2048       0.2048"
      ]
     },
     "execution_count": 110,
     "metadata": {},
     "output_type": "execute_result"
    }
   ],
   "source": [
    "tb_binom.head()"
   ]
  },
  {
   "cell_type": "code",
   "execution_count": 111,
   "id": "5382dffd",
   "metadata": {
    "ExecuteTime": {
     "end_time": "2022-03-10T23:02:01.268214Z",
     "start_time": "2022-03-10T23:02:01.249236Z"
    }
   },
   "outputs": [],
   "source": [
    "tb_binom['prob_real'] = tb_binom['num_coroas'].apply(dist_binomial.pmf)"
   ]
  },
  {
   "cell_type": "code",
   "execution_count": 112,
   "id": "b31351ba",
   "metadata": {
    "ExecuteTime": {
     "end_time": "2022-03-10T23:02:01.951393Z",
     "start_time": "2022-03-10T23:02:01.936405Z"
    }
   },
   "outputs": [
    {
     "data": {
      "text/html": [
       "<div>\n",
       "<style scoped>\n",
       "    .dataframe tbody tr th:only-of-type {\n",
       "        vertical-align: middle;\n",
       "    }\n",
       "\n",
       "    .dataframe tbody tr th {\n",
       "        vertical-align: top;\n",
       "    }\n",
       "\n",
       "    .dataframe thead th {\n",
       "        text-align: right;\n",
       "    }\n",
       "</style>\n",
       "<table border=\"1\" class=\"dataframe\">\n",
       "  <thead>\n",
       "    <tr style=\"text-align: right;\">\n",
       "      <th></th>\n",
       "      <th>num_coroas</th>\n",
       "      <th>num_eventos</th>\n",
       "      <th>prob_medida</th>\n",
       "      <th>prob_real</th>\n",
       "    </tr>\n",
       "  </thead>\n",
       "  <tbody>\n",
       "    <tr>\n",
       "      <th>10</th>\n",
       "      <td>0</td>\n",
       "      <td>9</td>\n",
       "      <td>0.0009</td>\n",
       "      <td>0.000977</td>\n",
       "    </tr>\n",
       "    <tr>\n",
       "      <th>7</th>\n",
       "      <td>1</td>\n",
       "      <td>107</td>\n",
       "      <td>0.0107</td>\n",
       "      <td>0.009766</td>\n",
       "    </tr>\n",
       "    <tr>\n",
       "      <th>6</th>\n",
       "      <td>2</td>\n",
       "      <td>435</td>\n",
       "      <td>0.0435</td>\n",
       "      <td>0.043945</td>\n",
       "    </tr>\n",
       "    <tr>\n",
       "      <th>4</th>\n",
       "      <td>3</td>\n",
       "      <td>1148</td>\n",
       "      <td>0.1148</td>\n",
       "      <td>0.117188</td>\n",
       "    </tr>\n",
       "    <tr>\n",
       "      <th>3</th>\n",
       "      <td>4</td>\n",
       "      <td>2048</td>\n",
       "      <td>0.2048</td>\n",
       "      <td>0.205078</td>\n",
       "    </tr>\n",
       "    <tr>\n",
       "      <th>1</th>\n",
       "      <td>5</td>\n",
       "      <td>2412</td>\n",
       "      <td>0.2412</td>\n",
       "      <td>0.246094</td>\n",
       "    </tr>\n",
       "    <tr>\n",
       "      <th>2</th>\n",
       "      <td>6</td>\n",
       "      <td>2131</td>\n",
       "      <td>0.2131</td>\n",
       "      <td>0.205078</td>\n",
       "    </tr>\n",
       "    <tr>\n",
       "      <th>5</th>\n",
       "      <td>7</td>\n",
       "      <td>1179</td>\n",
       "      <td>0.1179</td>\n",
       "      <td>0.117188</td>\n",
       "    </tr>\n",
       "    <tr>\n",
       "      <th>0</th>\n",
       "      <td>8</td>\n",
       "      <td>429</td>\n",
       "      <td>0.0429</td>\n",
       "      <td>0.043945</td>\n",
       "    </tr>\n",
       "    <tr>\n",
       "      <th>8</th>\n",
       "      <td>9</td>\n",
       "      <td>91</td>\n",
       "      <td>0.0091</td>\n",
       "      <td>0.009766</td>\n",
       "    </tr>\n",
       "    <tr>\n",
       "      <th>9</th>\n",
       "      <td>10</td>\n",
       "      <td>11</td>\n",
       "      <td>0.0011</td>\n",
       "      <td>0.000977</td>\n",
       "    </tr>\n",
       "  </tbody>\n",
       "</table>\n",
       "</div>"
      ],
      "text/plain": [
       "    num_coroas  num_eventos  prob_medida  prob_real\n",
       "10           0            9       0.0009   0.000977\n",
       "7            1          107       0.0107   0.009766\n",
       "6            2          435       0.0435   0.043945\n",
       "4            3         1148       0.1148   0.117188\n",
       "3            4         2048       0.2048   0.205078\n",
       "1            5         2412       0.2412   0.246094\n",
       "2            6         2131       0.2131   0.205078\n",
       "5            7         1179       0.1179   0.117188\n",
       "0            8          429       0.0429   0.043945\n",
       "8            9           91       0.0091   0.009766\n",
       "9           10           11       0.0011   0.000977"
      ]
     },
     "execution_count": 112,
     "metadata": {},
     "output_type": "execute_result"
    }
   ],
   "source": [
    "tb_binom"
   ]
  },
  {
   "cell_type": "code",
   "execution_count": 113,
   "id": "76bdbd46",
   "metadata": {
    "ExecuteTime": {
     "end_time": "2022-03-10T23:02:03.326487Z",
     "start_time": "2022-03-10T23:02:03.040197Z"
    }
   },
   "outputs": [
    {
     "data": {
      "text/plain": [
       "<AxesSubplot:xlabel='num_coroas', ylabel='prob_real'>"
      ]
     },
     "execution_count": 113,
     "metadata": {},
     "output_type": "execute_result"
    },
    {
     "data": {
      "image/png": "[encoded data removed]",
      "text/plain": [
       "<Figure size 432x288 with 1 Axes>"
      ]
     },
     "metadata": {
      "needs_background": "light"
     },
     "output_type": "display_data"
    }
   ],
   "source": [
    "sns.barplot(data = tb_binom, x = 'num_coroas', y = 'prob_medida', color='blue')\n",
    "sns.pointplot(data = tb_binom, x = 'num_coroas', y = 'prob_real', color = 'red')"
   ]
  },
  {
   "cell_type": "markdown",
   "id": "8f539cd6",
   "metadata": {},
   "source": [
    "### Distribuição Geométrica"
   ]
  },
  {
   "cell_type": "markdown",
   "id": "a35dfecb",
   "metadata": {},
   "source": [
    "Espaço amostral: Inteiros positivos (> 0)"
   ]
  },
  {
   "cell_type": "code",
   "execution_count": 114,
   "id": "ef389f67",
   "metadata": {
    "ExecuteTime": {
     "end_time": "2022-03-10T23:05:32.864357Z",
     "start_time": "2022-03-10T23:05:32.858371Z"
    }
   },
   "outputs": [],
   "source": [
    "def primeira_coroa_justa():\n",
    "    i = 0\n",
    "    while True:\n",
    "        if jogar_moeda_justa() == 'coroa':\n",
    "            i += 1\n",
    "            return i\n",
    "        else:\n",
    "            i += 1"
   ]
  },
  {
   "cell_type": "code",
   "execution_count": 121,
   "id": "a76eef08",
   "metadata": {
    "ExecuteTime": {
     "end_time": "2022-03-10T23:05:42.395042Z",
     "start_time": "2022-03-10T23:05:42.377089Z"
    }
   },
   "outputs": [
    {
     "data": {
      "text/plain": [
       "1"
      ]
     },
     "execution_count": 121,
     "metadata": {},
     "output_type": "execute_result"
    }
   ],
   "source": [
    "primeira_coroa_justa()"
   ]
  },
  {
   "cell_type": "code",
   "execution_count": 139,
   "id": "a456ae97",
   "metadata": {
    "ExecuteTime": {
     "end_time": "2022-03-10T23:09:41.695847Z",
     "start_time": "2022-03-10T23:09:41.682882Z"
    }
   },
   "outputs": [],
   "source": [
    "amostra_geo = [primeira_coroa_justa() for i in range(100)]"
   ]
  },
  {
   "cell_type": "code",
   "execution_count": 140,
   "id": "60e1c9fc",
   "metadata": {
    "ExecuteTime": {
     "end_time": "2022-03-10T23:09:42.081913Z",
     "start_time": "2022-03-10T23:09:42.070875Z"
    }
   },
   "outputs": [
    {
     "data": {
      "text/plain": [
       "[1, 2, 2, 1, 2, 2, 1, 1, 2]"
      ]
     },
     "execution_count": 140,
     "metadata": {},
     "output_type": "execute_result"
    }
   ],
   "source": [
    "amostra_geo[1:10]"
   ]
  },
  {
   "cell_type": "code",
   "execution_count": 141,
   "id": "5c2cbca2",
   "metadata": {
    "ExecuteTime": {
     "end_time": "2022-03-10T23:09:42.456163Z",
     "start_time": "2022-03-10T23:09:42.445188Z"
    }
   },
   "outputs": [],
   "source": [
    "contagem_amostra = Counter(amostra_geo)\n",
    "tb_geo = pd.DataFrame({\n",
    "    'num_primeira_coroa': contagem_amostra.keys(),\n",
    "    'num_eventos': contagem_amostra.values()\n",
    "})\n",
    "tb_geo = tb_geo.sort_values('num_primeira_coroa')"
   ]
  },
  {
   "cell_type": "code",
   "execution_count": 142,
   "id": "a2e28fdc",
   "metadata": {
    "ExecuteTime": {
     "end_time": "2022-03-10T23:09:42.831320Z",
     "start_time": "2022-03-10T23:09:42.817356Z"
    }
   },
   "outputs": [
    {
     "data": {
      "text/html": [
       "<div>\n",
       "<style scoped>\n",
       "    .dataframe tbody tr th:only-of-type {\n",
       "        vertical-align: middle;\n",
       "    }\n",
       "\n",
       "    .dataframe tbody tr th {\n",
       "        vertical-align: top;\n",
       "    }\n",
       "\n",
       "    .dataframe thead th {\n",
       "        text-align: right;\n",
       "    }\n",
       "</style>\n",
       "<table border=\"1\" class=\"dataframe\">\n",
       "  <thead>\n",
       "    <tr style=\"text-align: right;\">\n",
       "      <th></th>\n",
       "      <th>num_primeira_coroa</th>\n",
       "      <th>num_eventos</th>\n",
       "    </tr>\n",
       "  </thead>\n",
       "  <tbody>\n",
       "    <tr>\n",
       "      <th>0</th>\n",
       "      <td>1</td>\n",
       "      <td>48</td>\n",
       "    </tr>\n",
       "    <tr>\n",
       "      <th>1</th>\n",
       "      <td>2</td>\n",
       "      <td>27</td>\n",
       "    </tr>\n",
       "    <tr>\n",
       "      <th>2</th>\n",
       "      <td>3</td>\n",
       "      <td>17</td>\n",
       "    </tr>\n",
       "    <tr>\n",
       "      <th>3</th>\n",
       "      <td>4</td>\n",
       "      <td>3</td>\n",
       "    </tr>\n",
       "    <tr>\n",
       "      <th>5</th>\n",
       "      <td>5</td>\n",
       "      <td>2</td>\n",
       "    </tr>\n",
       "    <tr>\n",
       "      <th>4</th>\n",
       "      <td>6</td>\n",
       "      <td>3</td>\n",
       "    </tr>\n",
       "  </tbody>\n",
       "</table>\n",
       "</div>"
      ],
      "text/plain": [
       "   num_primeira_coroa  num_eventos\n",
       "0                   1           48\n",
       "1                   2           27\n",
       "2                   3           17\n",
       "3                   4            3\n",
       "5                   5            2\n",
       "4                   6            3"
      ]
     },
     "execution_count": 142,
     "metadata": {},
     "output_type": "execute_result"
    }
   ],
   "source": [
    "tb_geo"
   ]
  },
  {
   "cell_type": "code",
   "execution_count": 143,
   "id": "474a3086",
   "metadata": {
    "ExecuteTime": {
     "end_time": "2022-03-10T23:09:43.330975Z",
     "start_time": "2022-03-10T23:09:43.167902Z"
    }
   },
   "outputs": [
    {
     "data": {
      "text/plain": [
       "<AxesSubplot:xlabel='num_primeira_coroa', ylabel='num_eventos'>"
      ]
     },
     "execution_count": 143,
     "metadata": {},
     "output_type": "execute_result"
    },
    {
     "data": {
      "image/png": "[encoded data removed]",
      "text/plain": [
       "<Figure size 432x288 with 1 Axes>"
      ]
     },
     "metadata": {
      "needs_background": "light"
     },
     "output_type": "display_data"
    }
   ],
   "source": [
    "sns.barplot(data = tb_geo, x = 'num_primeira_coroa', y = 'num_eventos', color = 'blue')"
   ]
  },
  {
   "cell_type": "code",
   "execution_count": 144,
   "id": "44bf39e4",
   "metadata": {
    "ExecuteTime": {
     "end_time": "2022-03-10T23:09:43.595828Z",
     "start_time": "2022-03-10T23:09:43.585855Z"
    }
   },
   "outputs": [],
   "source": [
    "dist_geom = sp.stats.geom(0.5)"
   ]
  },
  {
   "cell_type": "code",
   "execution_count": 145,
   "id": "386f83e0",
   "metadata": {
    "ExecuteTime": {
     "end_time": "2022-03-10T23:09:45.109731Z",
     "start_time": "2022-03-10T23:09:45.095771Z"
    }
   },
   "outputs": [],
   "source": [
    "tb_geo['prob_medida'] = tb_geo['num_eventos']/sum(tb_geo['num_eventos'])\n",
    "tb_geo['prob_real'] = tb_geo['num_primeira_coroa'].apply(dist_geom.pmf)"
   ]
  },
  {
   "cell_type": "code",
   "execution_count": 146,
   "id": "542567de",
   "metadata": {
    "ExecuteTime": {
     "end_time": "2022-03-10T23:09:45.685256Z",
     "start_time": "2022-03-10T23:09:45.515709Z"
    }
   },
   "outputs": [
    {
     "data": {
      "text/plain": [
       "<AxesSubplot:xlabel='num_primeira_coroa', ylabel='prob_real'>"
      ]
     },
     "execution_count": 146,
     "metadata": {},
     "output_type": "execute_result"
    },
    {
     "data": {
      "image/png": "[encoded data removed]",
      "text/plain": [
       "<Figure size 432x288 with 1 Axes>"
      ]
     },
     "metadata": {
      "needs_background": "light"
     },
     "output_type": "display_data"
    }
   ],
   "source": [
    "sns.barplot(data = tb_geo, x = 'num_primeira_coroa', y = 'prob_medida', color = 'blue')\n",
    "sns.pointplot(data = tb_geo, x = 'num_primeira_coroa', y = 'prob_real', color = 'red')"
   ]
  },
  {
   "cell_type": "markdown",
   "id": "8d0ed8f3",
   "metadata": {},
   "source": [
    "### Distribuição de Poisson"
   ]
  },
  {
   "cell_type": "markdown",
   "id": "cfd1c0f5",
   "metadata": {},
   "source": [
    "<img src=\"poisson.jpg\" alt=\"Drawing\" style=\"width: 200px;\"/>"
   ]
  },
  {
   "cell_type": "code",
   "execution_count": 147,
   "id": "9b8b1086",
   "metadata": {
    "ExecuteTime": {
     "end_time": "2022-03-10T23:18:04.093281Z",
     "start_time": "2022-03-10T23:18:04.077332Z"
    }
   },
   "outputs": [],
   "source": [
    "evento_raro = ['raro', 'comum']"
   ]
  },
  {
   "cell_type": "code",
   "execution_count": 148,
   "id": "7ccb3d93",
   "metadata": {
    "ExecuteTime": {
     "end_time": "2022-03-10T23:18:04.482261Z",
     "start_time": "2022-03-10T23:18:04.472286Z"
    }
   },
   "outputs": [],
   "source": [
    "def simular_er():\n",
    "    p = 1/1e05\n",
    "    return np.random.choice(evento_raro, p = [p, 1-p])"
   ]
  },
  {
   "cell_type": "code",
   "execution_count": 149,
   "id": "2a97ce49",
   "metadata": {
    "ExecuteTime": {
     "end_time": "2022-03-10T23:18:05.666834Z",
     "start_time": "2022-03-10T23:18:05.651846Z"
    }
   },
   "outputs": [],
   "source": [
    "def numero_eventos_raros(amostras):\n",
    "    amostra = [simular_er() for i in range(int(amostras))]\n",
    "    return Counter(amostra)['raro']"
   ]
  },
  {
   "cell_type": "code",
   "execution_count": 150,
   "id": "e6039a06",
   "metadata": {
    "ExecuteTime": {
     "end_time": "2022-03-10T23:18:11.536053Z",
     "start_time": "2022-03-10T23:18:07.251222Z"
    }
   },
   "outputs": [
    {
     "data": {
      "text/plain": [
       "1"
      ]
     },
     "execution_count": 150,
     "metadata": {},
     "output_type": "execute_result"
    }
   ],
   "source": [
    "numero_eventos_raros(2e05)"
   ]
  },
  {
   "cell_type": "code",
   "execution_count": 151,
   "id": "fd9a5d93",
   "metadata": {
    "ExecuteTime": {
     "end_time": "2022-03-10T23:25:21.892476Z",
     "start_time": "2022-03-10T23:18:11.538048Z"
    }
   },
   "outputs": [],
   "source": [
    "amostra_poi = [numero_eventos_raros(2e05) for i in range(100)]"
   ]
  },
  {
   "cell_type": "code",
   "execution_count": 153,
   "id": "e1a738cb",
   "metadata": {
    "ExecuteTime": {
     "end_time": "2022-03-10T23:33:09.676975Z",
     "start_time": "2022-03-10T23:33:09.667032Z"
    }
   },
   "outputs": [
    {
     "data": {
      "text/plain": [
       "[3, 2, 2, 5, 2, 1]"
      ]
     },
     "execution_count": 153,
     "metadata": {},
     "output_type": "execute_result"
    }
   ],
   "source": [
    "amostra_poi[0:6]"
   ]
  },
  {
   "cell_type": "code",
   "execution_count": 154,
   "id": "79dfd93c",
   "metadata": {
    "ExecuteTime": {
     "end_time": "2022-03-10T23:33:37.895932Z",
     "start_time": "2022-03-10T23:33:37.879974Z"
    }
   },
   "outputs": [],
   "source": [
    "contagem_amostra = Counter(amostra_poi)\n",
    "tb_poisson = pd.DataFrame({\n",
    "    'num_raros': contagem_amostra.keys(),\n",
    "    'num_eventos': contagem_amostra.values()\n",
    "})\n",
    "tb_poisson = tb_poisson.sort_values('num_raros')"
   ]
  },
  {
   "cell_type": "code",
   "execution_count": 155,
   "id": "5dd722dc",
   "metadata": {
    "ExecuteTime": {
     "end_time": "2022-03-10T23:33:39.348439Z",
     "start_time": "2022-03-10T23:33:39.163931Z"
    }
   },
   "outputs": [
    {
     "data": {
      "text/plain": [
       "<AxesSubplot:xlabel='num_raros', ylabel='num_eventos'>"
      ]
     },
     "execution_count": 155,
     "metadata": {},
     "output_type": "execute_result"
    },
    {
     "data": {
      "image/png": "[encoded data removed]",
      "text/plain": [
       "<Figure size 432x288 with 1 Axes>"
      ]
     },
     "metadata": {
      "needs_background": "light"
     },
     "output_type": "display_data"
    }
   ],
   "source": [
    "sns.barplot(data = tb_poisson, x = 'num_raros', y = 'num_eventos', color='blue')"
   ]
  },
  {
   "cell_type": "code",
   "execution_count": 157,
   "id": "61f0c4b3",
   "metadata": {
    "ExecuteTime": {
     "end_time": "2022-03-10T23:35:09.658068Z",
     "start_time": "2022-03-10T23:35:09.641095Z"
    }
   },
   "outputs": [],
   "source": [
    "p = 1/1e05\n",
    "n = 2e05\n",
    "lamb = p * n\n",
    "dist_poisson = sp.stats.poisson(p*n)"
   ]
  },
  {
   "cell_type": "code",
   "execution_count": 158,
   "id": "f672377b",
   "metadata": {
    "ExecuteTime": {
     "end_time": "2022-03-10T23:35:23.658982Z",
     "start_time": "2022-03-10T23:35:23.643042Z"
    }
   },
   "outputs": [],
   "source": [
    "tb_poisson['prob_medida'] = tb_poisson['num_eventos']/sum(tb_poisson['num_eventos'])\n",
    "tb_poisson['prob_real'] = tb_poisson['num_raros'].apply(dist_poisson.pmf)"
   ]
  },
  {
   "cell_type": "code",
   "execution_count": 159,
   "id": "6767de20",
   "metadata": {
    "ExecuteTime": {
     "end_time": "2022-03-10T23:35:24.454888Z",
     "start_time": "2022-03-10T23:35:24.257415Z"
    }
   },
   "outputs": [
    {
     "data": {
      "text/plain": [
       "<AxesSubplot:xlabel='num_raros', ylabel='prob_real'>"
      ]
     },
     "execution_count": 159,
     "metadata": {},
     "output_type": "execute_result"
    },
    {
     "data": {
      "image/png": "[encoded data removed]",
      "text/plain": [
       "<Figure size 432x288 with 1 Axes>"
      ]
     },
     "metadata": {
      "needs_background": "light"
     },
     "output_type": "display_data"
    }
   ],
   "source": [
    "sns.barplot(data = tb_poisson, x = 'num_raros', y = 'prob_medida', color='blue')\n",
    "sns.pointplot(data = tb_poisson, x = 'num_raros', y = 'prob_real', color='red')"
   ]
  },
  {
   "cell_type": "markdown",
   "id": "b338f3d8",
   "metadata": {},
   "source": [
    "### Distribuição Exponencial"
   ]
  },
  {
   "cell_type": "code",
   "execution_count": 160,
   "id": "7ccfb456",
   "metadata": {
    "ExecuteTime": {
     "end_time": "2022-03-10T23:38:46.515055Z",
     "start_time": "2022-03-10T23:38:46.508074Z"
    }
   },
   "outputs": [],
   "source": [
    "dist_exp = sp.stats.expon(scale = 1/lamb)"
   ]
  },
  {
   "cell_type": "code",
   "execution_count": 165,
   "id": "2c125fc5",
   "metadata": {
    "ExecuteTime": {
     "end_time": "2022-03-10T23:44:56.792986Z",
     "start_time": "2022-03-10T23:44:56.554625Z"
    }
   },
   "outputs": [
    {
     "data": {
      "text/plain": [
       "<AxesSubplot:>"
      ]
     },
     "execution_count": 165,
     "metadata": {},
     "output_type": "execute_result"
    },
    {
     "data": {
      "image/png": "[encoded data removed]",
      "text/plain": [
       "<Figure size 432x288 with 1 Axes>"
      ]
     },
     "metadata": {
      "needs_background": "light"
     },
     "output_type": "display_data"
    }
   ],
   "source": [
    "x = np.linspace(0.01, 4, 1000)\n",
    "y = dist_exp.pdf(x)\n",
    "sns.lineplot(x = x, y = y, color='red')"
   ]
  },
  {
   "cell_type": "code",
   "execution_count": 164,
   "id": "d4f6508b",
   "metadata": {
    "ExecuteTime": {
     "end_time": "2022-03-10T23:42:00.777184Z",
     "start_time": "2022-03-10T23:42:00.568751Z"
    }
   },
   "outputs": [
    {
     "data": {
      "text/plain": [
       "<AxesSubplot:>"
      ]
     },
     "execution_count": 164,
     "metadata": {},
     "output_type": "execute_result"
    },
    {
     "data": {
      "image/png": "[encoded data removed]",
      "text/plain": [
       "<Figure size 432x288 with 1 Axes>"
      ]
     },
     "metadata": {
      "needs_background": "light"
     },
     "output_type": "display_data"
    }
   ],
   "source": [
    "x = np.linspace(0.01, 3, 1000)\n",
    "y = dist_exp.cdf(x)\n",
    "sns.lineplot(x = x, y = y, color='red')"
   ]
  },
  {
   "cell_type": "code",
   "execution_count": 166,
   "id": "3581969d",
   "metadata": {
    "ExecuteTime": {
     "end_time": "2022-03-10T23:49:06.313047Z",
     "start_time": "2022-03-10T23:49:06.305069Z"
    }
   },
   "outputs": [],
   "source": [
    "amostra_exp = dist_exp.rvs(size=100)\n",
    "tb_expon = pd.DataFrame({'t' : amostra_exp})"
   ]
  },
  {
   "cell_type": "code",
   "execution_count": 167,
   "id": "cd461a30",
   "metadata": {
    "ExecuteTime": {
     "end_time": "2022-03-10T23:49:16.354154Z",
     "start_time": "2022-03-10T23:49:16.333211Z"
    }
   },
   "outputs": [
    {
     "data": {
      "text/html": [
       "<div>\n",
       "<style scoped>\n",
       "    .dataframe tbody tr th:only-of-type {\n",
       "        vertical-align: middle;\n",
       "    }\n",
       "\n",
       "    .dataframe tbody tr th {\n",
       "        vertical-align: top;\n",
       "    }\n",
       "\n",
       "    .dataframe thead th {\n",
       "        text-align: right;\n",
       "    }\n",
       "</style>\n",
       "<table border=\"1\" class=\"dataframe\">\n",
       "  <thead>\n",
       "    <tr style=\"text-align: right;\">\n",
       "      <th></th>\n",
       "      <th>t</th>\n",
       "    </tr>\n",
       "  </thead>\n",
       "  <tbody>\n",
       "    <tr>\n",
       "      <th>0</th>\n",
       "      <td>2.418527</td>\n",
       "    </tr>\n",
       "    <tr>\n",
       "      <th>1</th>\n",
       "      <td>2.082397</td>\n",
       "    </tr>\n",
       "    <tr>\n",
       "      <th>2</th>\n",
       "      <td>0.149240</td>\n",
       "    </tr>\n",
       "    <tr>\n",
       "      <th>3</th>\n",
       "      <td>1.786140</td>\n",
       "    </tr>\n",
       "    <tr>\n",
       "      <th>4</th>\n",
       "      <td>0.232033</td>\n",
       "    </tr>\n",
       "    <tr>\n",
       "      <th>...</th>\n",
       "      <td>...</td>\n",
       "    </tr>\n",
       "    <tr>\n",
       "      <th>95</th>\n",
       "      <td>0.013178</td>\n",
       "    </tr>\n",
       "    <tr>\n",
       "      <th>96</th>\n",
       "      <td>0.183268</td>\n",
       "    </tr>\n",
       "    <tr>\n",
       "      <th>97</th>\n",
       "      <td>0.184334</td>\n",
       "    </tr>\n",
       "    <tr>\n",
       "      <th>98</th>\n",
       "      <td>0.228733</td>\n",
       "    </tr>\n",
       "    <tr>\n",
       "      <th>99</th>\n",
       "      <td>0.412655</td>\n",
       "    </tr>\n",
       "  </tbody>\n",
       "</table>\n",
       "<p>100 rows × 1 columns</p>\n",
       "</div>"
      ],
      "text/plain": [
       "           t\n",
       "0   2.418527\n",
       "1   2.082397\n",
       "2   0.149240\n",
       "3   1.786140\n",
       "4   0.232033\n",
       "..       ...\n",
       "95  0.013178\n",
       "96  0.183268\n",
       "97  0.184334\n",
       "98  0.228733\n",
       "99  0.412655\n",
       "\n",
       "[100 rows x 1 columns]"
      ]
     },
     "execution_count": 167,
     "metadata": {},
     "output_type": "execute_result"
    }
   ],
   "source": [
    "tb_expon"
   ]
  },
  {
   "cell_type": "code",
   "execution_count": 168,
   "id": "e40c2a9d",
   "metadata": {
    "ExecuteTime": {
     "end_time": "2022-03-10T23:50:04.721423Z",
     "start_time": "2022-03-10T23:50:04.701448Z"
    }
   },
   "outputs": [],
   "source": [
    "tb_expon['t_acumulado'] = tb_expon['t'].cumsum()"
   ]
  },
  {
   "cell_type": "code",
   "execution_count": 169,
   "id": "a5c7b496",
   "metadata": {
    "ExecuteTime": {
     "end_time": "2022-03-10T23:50:05.684471Z",
     "start_time": "2022-03-10T23:50:05.665523Z"
    }
   },
   "outputs": [
    {
     "data": {
      "text/html": [
       "<div>\n",
       "<style scoped>\n",
       "    .dataframe tbody tr th:only-of-type {\n",
       "        vertical-align: middle;\n",
       "    }\n",
       "\n",
       "    .dataframe tbody tr th {\n",
       "        vertical-align: top;\n",
       "    }\n",
       "\n",
       "    .dataframe thead th {\n",
       "        text-align: right;\n",
       "    }\n",
       "</style>\n",
       "<table border=\"1\" class=\"dataframe\">\n",
       "  <thead>\n",
       "    <tr style=\"text-align: right;\">\n",
       "      <th></th>\n",
       "      <th>t</th>\n",
       "      <th>t_acumulado</th>\n",
       "    </tr>\n",
       "  </thead>\n",
       "  <tbody>\n",
       "    <tr>\n",
       "      <th>0</th>\n",
       "      <td>2.418527</td>\n",
       "      <td>2.418527</td>\n",
       "    </tr>\n",
       "    <tr>\n",
       "      <th>1</th>\n",
       "      <td>2.082397</td>\n",
       "      <td>4.500924</td>\n",
       "    </tr>\n",
       "    <tr>\n",
       "      <th>2</th>\n",
       "      <td>0.149240</td>\n",
       "      <td>4.650164</td>\n",
       "    </tr>\n",
       "    <tr>\n",
       "      <th>3</th>\n",
       "      <td>1.786140</td>\n",
       "      <td>6.436304</td>\n",
       "    </tr>\n",
       "    <tr>\n",
       "      <th>4</th>\n",
       "      <td>0.232033</td>\n",
       "      <td>6.668337</td>\n",
       "    </tr>\n",
       "    <tr>\n",
       "      <th>...</th>\n",
       "      <td>...</td>\n",
       "      <td>...</td>\n",
       "    </tr>\n",
       "    <tr>\n",
       "      <th>95</th>\n",
       "      <td>0.013178</td>\n",
       "      <td>53.567233</td>\n",
       "    </tr>\n",
       "    <tr>\n",
       "      <th>96</th>\n",
       "      <td>0.183268</td>\n",
       "      <td>53.750500</td>\n",
       "    </tr>\n",
       "    <tr>\n",
       "      <th>97</th>\n",
       "      <td>0.184334</td>\n",
       "      <td>53.934835</td>\n",
       "    </tr>\n",
       "    <tr>\n",
       "      <th>98</th>\n",
       "      <td>0.228733</td>\n",
       "      <td>54.163568</td>\n",
       "    </tr>\n",
       "    <tr>\n",
       "      <th>99</th>\n",
       "      <td>0.412655</td>\n",
       "      <td>54.576223</td>\n",
       "    </tr>\n",
       "  </tbody>\n",
       "</table>\n",
       "<p>100 rows × 2 columns</p>\n",
       "</div>"
      ],
      "text/plain": [
       "           t  t_acumulado\n",
       "0   2.418527     2.418527\n",
       "1   2.082397     4.500924\n",
       "2   0.149240     4.650164\n",
       "3   1.786140     6.436304\n",
       "4   0.232033     6.668337\n",
       "..       ...          ...\n",
       "95  0.013178    53.567233\n",
       "96  0.183268    53.750500\n",
       "97  0.184334    53.934835\n",
       "98  0.228733    54.163568\n",
       "99  0.412655    54.576223\n",
       "\n",
       "[100 rows x 2 columns]"
      ]
     },
     "execution_count": 169,
     "metadata": {},
     "output_type": "execute_result"
    }
   ],
   "source": [
    "tb_expon"
   ]
  },
  {
   "cell_type": "code",
   "execution_count": 170,
   "id": "34b67601",
   "metadata": {
    "ExecuteTime": {
     "end_time": "2022-03-10T23:50:26.149559Z",
     "start_time": "2022-03-10T23:50:26.141580Z"
    }
   },
   "outputs": [],
   "source": [
    "tb_expon['minuto'] = np.floor(tb_expon['t_acumulado'])"
   ]
  },
  {
   "cell_type": "code",
   "execution_count": 171,
   "id": "d57cf458",
   "metadata": {
    "ExecuteTime": {
     "end_time": "2022-03-10T23:50:27.110309Z",
     "start_time": "2022-03-10T23:50:27.086371Z"
    }
   },
   "outputs": [
    {
     "data": {
      "text/html": [
       "<div>\n",
       "<style scoped>\n",
       "    .dataframe tbody tr th:only-of-type {\n",
       "        vertical-align: middle;\n",
       "    }\n",
       "\n",
       "    .dataframe tbody tr th {\n",
       "        vertical-align: top;\n",
       "    }\n",
       "\n",
       "    .dataframe thead th {\n",
       "        text-align: right;\n",
       "    }\n",
       "</style>\n",
       "<table border=\"1\" class=\"dataframe\">\n",
       "  <thead>\n",
       "    <tr style=\"text-align: right;\">\n",
       "      <th></th>\n",
       "      <th>t</th>\n",
       "      <th>t_acumulado</th>\n",
       "      <th>minuto</th>\n",
       "    </tr>\n",
       "  </thead>\n",
       "  <tbody>\n",
       "    <tr>\n",
       "      <th>0</th>\n",
       "      <td>2.418527</td>\n",
       "      <td>2.418527</td>\n",
       "      <td>2.0</td>\n",
       "    </tr>\n",
       "    <tr>\n",
       "      <th>1</th>\n",
       "      <td>2.082397</td>\n",
       "      <td>4.500924</td>\n",
       "      <td>4.0</td>\n",
       "    </tr>\n",
       "    <tr>\n",
       "      <th>2</th>\n",
       "      <td>0.149240</td>\n",
       "      <td>4.650164</td>\n",
       "      <td>4.0</td>\n",
       "    </tr>\n",
       "    <tr>\n",
       "      <th>3</th>\n",
       "      <td>1.786140</td>\n",
       "      <td>6.436304</td>\n",
       "      <td>6.0</td>\n",
       "    </tr>\n",
       "    <tr>\n",
       "      <th>4</th>\n",
       "      <td>0.232033</td>\n",
       "      <td>6.668337</td>\n",
       "      <td>6.0</td>\n",
       "    </tr>\n",
       "    <tr>\n",
       "      <th>...</th>\n",
       "      <td>...</td>\n",
       "      <td>...</td>\n",
       "      <td>...</td>\n",
       "    </tr>\n",
       "    <tr>\n",
       "      <th>95</th>\n",
       "      <td>0.013178</td>\n",
       "      <td>53.567233</td>\n",
       "      <td>53.0</td>\n",
       "    </tr>\n",
       "    <tr>\n",
       "      <th>96</th>\n",
       "      <td>0.183268</td>\n",
       "      <td>53.750500</td>\n",
       "      <td>53.0</td>\n",
       "    </tr>\n",
       "    <tr>\n",
       "      <th>97</th>\n",
       "      <td>0.184334</td>\n",
       "      <td>53.934835</td>\n",
       "      <td>53.0</td>\n",
       "    </tr>\n",
       "    <tr>\n",
       "      <th>98</th>\n",
       "      <td>0.228733</td>\n",
       "      <td>54.163568</td>\n",
       "      <td>54.0</td>\n",
       "    </tr>\n",
       "    <tr>\n",
       "      <th>99</th>\n",
       "      <td>0.412655</td>\n",
       "      <td>54.576223</td>\n",
       "      <td>54.0</td>\n",
       "    </tr>\n",
       "  </tbody>\n",
       "</table>\n",
       "<p>100 rows × 3 columns</p>\n",
       "</div>"
      ],
      "text/plain": [
       "           t  t_acumulado  minuto\n",
       "0   2.418527     2.418527     2.0\n",
       "1   2.082397     4.500924     4.0\n",
       "2   0.149240     4.650164     4.0\n",
       "3   1.786140     6.436304     6.0\n",
       "4   0.232033     6.668337     6.0\n",
       "..       ...          ...     ...\n",
       "95  0.013178    53.567233    53.0\n",
       "96  0.183268    53.750500    53.0\n",
       "97  0.184334    53.934835    53.0\n",
       "98  0.228733    54.163568    54.0\n",
       "99  0.412655    54.576223    54.0\n",
       "\n",
       "[100 rows x 3 columns]"
      ]
     },
     "execution_count": 171,
     "metadata": {},
     "output_type": "execute_result"
    }
   ],
   "source": [
    "tb_expon"
   ]
  },
  {
   "cell_type": "code",
   "execution_count": 172,
   "id": "8da8c3bf",
   "metadata": {
    "ExecuteTime": {
     "end_time": "2022-03-10T23:50:44.050404Z",
     "start_time": "2022-03-10T23:50:44.039433Z"
    }
   },
   "outputs": [],
   "source": [
    "tb_num_eventos = pd.DataFrame({'minuto' : range(0, int(max(tb_expon['minuto']) + 1))})"
   ]
  },
  {
   "cell_type": "code",
   "execution_count": 173,
   "id": "5404613a",
   "metadata": {
    "ExecuteTime": {
     "end_time": "2022-03-10T23:50:44.683468Z",
     "start_time": "2022-03-10T23:50:44.675488Z"
    }
   },
   "outputs": [],
   "source": [
    "n_eventos_minuto = tb_expon.groupby('minuto')['t'].count().reset_index()  "
   ]
  },
  {
   "cell_type": "code",
   "execution_count": 174,
   "id": "2040f4c3",
   "metadata": {
    "ExecuteTime": {
     "end_time": "2022-03-10T23:50:45.286083Z",
     "start_time": "2022-03-10T23:50:45.277106Z"
    }
   },
   "outputs": [
    {
     "data": {
      "text/html": [
       "<div>\n",
       "<style scoped>\n",
       "    .dataframe tbody tr th:only-of-type {\n",
       "        vertical-align: middle;\n",
       "    }\n",
       "\n",
       "    .dataframe tbody tr th {\n",
       "        vertical-align: top;\n",
       "    }\n",
       "\n",
       "    .dataframe thead th {\n",
       "        text-align: right;\n",
       "    }\n",
       "</style>\n",
       "<table border=\"1\" class=\"dataframe\">\n",
       "  <thead>\n",
       "    <tr style=\"text-align: right;\">\n",
       "      <th></th>\n",
       "      <th>minuto</th>\n",
       "      <th>t</th>\n",
       "    </tr>\n",
       "  </thead>\n",
       "  <tbody>\n",
       "    <tr>\n",
       "      <th>0</th>\n",
       "      <td>2.0</td>\n",
       "      <td>1</td>\n",
       "    </tr>\n",
       "    <tr>\n",
       "      <th>1</th>\n",
       "      <td>4.0</td>\n",
       "      <td>2</td>\n",
       "    </tr>\n",
       "    <tr>\n",
       "      <th>2</th>\n",
       "      <td>6.0</td>\n",
       "      <td>3</td>\n",
       "    </tr>\n",
       "    <tr>\n",
       "      <th>3</th>\n",
       "      <td>7.0</td>\n",
       "      <td>1</td>\n",
       "    </tr>\n",
       "    <tr>\n",
       "      <th>4</th>\n",
       "      <td>8.0</td>\n",
       "      <td>2</td>\n",
       "    </tr>\n",
       "  </tbody>\n",
       "</table>\n",
       "</div>"
      ],
      "text/plain": [
       "   minuto  t\n",
       "0     2.0  1\n",
       "1     4.0  2\n",
       "2     6.0  3\n",
       "3     7.0  1\n",
       "4     8.0  2"
      ]
     },
     "execution_count": 174,
     "metadata": {},
     "output_type": "execute_result"
    }
   ],
   "source": [
    "n_eventos_minuto.head()"
   ]
  },
  {
   "cell_type": "code",
   "execution_count": 175,
   "id": "29259989",
   "metadata": {
    "ExecuteTime": {
     "end_time": "2022-03-10T23:51:29.221152Z",
     "start_time": "2022-03-10T23:51:29.201204Z"
    }
   },
   "outputs": [],
   "source": [
    "tb_nev_min = pd.merge(tb_num_eventos, n_eventos_minuto, how = 'left', on = 'minuto')\n",
    "tb_nev_min = tb_nev_min.fillna(0)\n",
    "tb_nev_min = tb_nev_min.rename({'t' : 'num_chegadas'}, axis = 1)"
   ]
  },
  {
   "cell_type": "code",
   "execution_count": 177,
   "id": "de5f9280",
   "metadata": {
    "ExecuteTime": {
     "end_time": "2022-03-10T23:51:41.954452Z",
     "start_time": "2022-03-10T23:51:41.931513Z"
    }
   },
   "outputs": [
    {
     "data": {
      "text/html": [
       "<div>\n",
       "<style scoped>\n",
       "    .dataframe tbody tr th:only-of-type {\n",
       "        vertical-align: middle;\n",
       "    }\n",
       "\n",
       "    .dataframe tbody tr th {\n",
       "        vertical-align: top;\n",
       "    }\n",
       "\n",
       "    .dataframe thead th {\n",
       "        text-align: right;\n",
       "    }\n",
       "</style>\n",
       "<table border=\"1\" class=\"dataframe\">\n",
       "  <thead>\n",
       "    <tr style=\"text-align: right;\">\n",
       "      <th></th>\n",
       "      <th>minuto</th>\n",
       "      <th>num_chegadas</th>\n",
       "    </tr>\n",
       "  </thead>\n",
       "  <tbody>\n",
       "    <tr>\n",
       "      <th>0</th>\n",
       "      <td>0</td>\n",
       "      <td>0.0</td>\n",
       "    </tr>\n",
       "    <tr>\n",
       "      <th>1</th>\n",
       "      <td>1</td>\n",
       "      <td>0.0</td>\n",
       "    </tr>\n",
       "    <tr>\n",
       "      <th>2</th>\n",
       "      <td>2</td>\n",
       "      <td>1.0</td>\n",
       "    </tr>\n",
       "    <tr>\n",
       "      <th>3</th>\n",
       "      <td>3</td>\n",
       "      <td>0.0</td>\n",
       "    </tr>\n",
       "    <tr>\n",
       "      <th>4</th>\n",
       "      <td>4</td>\n",
       "      <td>2.0</td>\n",
       "    </tr>\n",
       "    <tr>\n",
       "      <th>5</th>\n",
       "      <td>5</td>\n",
       "      <td>0.0</td>\n",
       "    </tr>\n",
       "    <tr>\n",
       "      <th>6</th>\n",
       "      <td>6</td>\n",
       "      <td>3.0</td>\n",
       "    </tr>\n",
       "    <tr>\n",
       "      <th>7</th>\n",
       "      <td>7</td>\n",
       "      <td>1.0</td>\n",
       "    </tr>\n",
       "    <tr>\n",
       "      <th>8</th>\n",
       "      <td>8</td>\n",
       "      <td>2.0</td>\n",
       "    </tr>\n",
       "    <tr>\n",
       "      <th>9</th>\n",
       "      <td>9</td>\n",
       "      <td>3.0</td>\n",
       "    </tr>\n",
       "    <tr>\n",
       "      <th>10</th>\n",
       "      <td>10</td>\n",
       "      <td>0.0</td>\n",
       "    </tr>\n",
       "    <tr>\n",
       "      <th>11</th>\n",
       "      <td>11</td>\n",
       "      <td>3.0</td>\n",
       "    </tr>\n",
       "    <tr>\n",
       "      <th>12</th>\n",
       "      <td>12</td>\n",
       "      <td>1.0</td>\n",
       "    </tr>\n",
       "    <tr>\n",
       "      <th>13</th>\n",
       "      <td>13</td>\n",
       "      <td>1.0</td>\n",
       "    </tr>\n",
       "    <tr>\n",
       "      <th>14</th>\n",
       "      <td>14</td>\n",
       "      <td>2.0</td>\n",
       "    </tr>\n",
       "    <tr>\n",
       "      <th>15</th>\n",
       "      <td>15</td>\n",
       "      <td>1.0</td>\n",
       "    </tr>\n",
       "    <tr>\n",
       "      <th>16</th>\n",
       "      <td>16</td>\n",
       "      <td>1.0</td>\n",
       "    </tr>\n",
       "    <tr>\n",
       "      <th>17</th>\n",
       "      <td>17</td>\n",
       "      <td>1.0</td>\n",
       "    </tr>\n",
       "    <tr>\n",
       "      <th>18</th>\n",
       "      <td>18</td>\n",
       "      <td>4.0</td>\n",
       "    </tr>\n",
       "    <tr>\n",
       "      <th>19</th>\n",
       "      <td>19</td>\n",
       "      <td>2.0</td>\n",
       "    </tr>\n",
       "    <tr>\n",
       "      <th>20</th>\n",
       "      <td>20</td>\n",
       "      <td>0.0</td>\n",
       "    </tr>\n",
       "    <tr>\n",
       "      <th>21</th>\n",
       "      <td>21</td>\n",
       "      <td>3.0</td>\n",
       "    </tr>\n",
       "    <tr>\n",
       "      <th>22</th>\n",
       "      <td>22</td>\n",
       "      <td>2.0</td>\n",
       "    </tr>\n",
       "    <tr>\n",
       "      <th>23</th>\n",
       "      <td>23</td>\n",
       "      <td>0.0</td>\n",
       "    </tr>\n",
       "    <tr>\n",
       "      <th>24</th>\n",
       "      <td>24</td>\n",
       "      <td>1.0</td>\n",
       "    </tr>\n",
       "    <tr>\n",
       "      <th>25</th>\n",
       "      <td>25</td>\n",
       "      <td>2.0</td>\n",
       "    </tr>\n",
       "    <tr>\n",
       "      <th>26</th>\n",
       "      <td>26</td>\n",
       "      <td>0.0</td>\n",
       "    </tr>\n",
       "    <tr>\n",
       "      <th>27</th>\n",
       "      <td>27</td>\n",
       "      <td>4.0</td>\n",
       "    </tr>\n",
       "    <tr>\n",
       "      <th>28</th>\n",
       "      <td>28</td>\n",
       "      <td>0.0</td>\n",
       "    </tr>\n",
       "    <tr>\n",
       "      <th>29</th>\n",
       "      <td>29</td>\n",
       "      <td>2.0</td>\n",
       "    </tr>\n",
       "    <tr>\n",
       "      <th>30</th>\n",
       "      <td>30</td>\n",
       "      <td>2.0</td>\n",
       "    </tr>\n",
       "    <tr>\n",
       "      <th>31</th>\n",
       "      <td>31</td>\n",
       "      <td>2.0</td>\n",
       "    </tr>\n",
       "    <tr>\n",
       "      <th>32</th>\n",
       "      <td>32</td>\n",
       "      <td>3.0</td>\n",
       "    </tr>\n",
       "    <tr>\n",
       "      <th>33</th>\n",
       "      <td>33</td>\n",
       "      <td>2.0</td>\n",
       "    </tr>\n",
       "    <tr>\n",
       "      <th>34</th>\n",
       "      <td>34</td>\n",
       "      <td>2.0</td>\n",
       "    </tr>\n",
       "    <tr>\n",
       "      <th>35</th>\n",
       "      <td>35</td>\n",
       "      <td>0.0</td>\n",
       "    </tr>\n",
       "    <tr>\n",
       "      <th>36</th>\n",
       "      <td>36</td>\n",
       "      <td>2.0</td>\n",
       "    </tr>\n",
       "    <tr>\n",
       "      <th>37</th>\n",
       "      <td>37</td>\n",
       "      <td>1.0</td>\n",
       "    </tr>\n",
       "    <tr>\n",
       "      <th>38</th>\n",
       "      <td>38</td>\n",
       "      <td>3.0</td>\n",
       "    </tr>\n",
       "    <tr>\n",
       "      <th>39</th>\n",
       "      <td>39</td>\n",
       "      <td>2.0</td>\n",
       "    </tr>\n",
       "    <tr>\n",
       "      <th>40</th>\n",
       "      <td>40</td>\n",
       "      <td>3.0</td>\n",
       "    </tr>\n",
       "    <tr>\n",
       "      <th>41</th>\n",
       "      <td>41</td>\n",
       "      <td>1.0</td>\n",
       "    </tr>\n",
       "    <tr>\n",
       "      <th>42</th>\n",
       "      <td>42</td>\n",
       "      <td>3.0</td>\n",
       "    </tr>\n",
       "    <tr>\n",
       "      <th>43</th>\n",
       "      <td>43</td>\n",
       "      <td>1.0</td>\n",
       "    </tr>\n",
       "    <tr>\n",
       "      <th>44</th>\n",
       "      <td>44</td>\n",
       "      <td>4.0</td>\n",
       "    </tr>\n",
       "    <tr>\n",
       "      <th>45</th>\n",
       "      <td>45</td>\n",
       "      <td>2.0</td>\n",
       "    </tr>\n",
       "    <tr>\n",
       "      <th>46</th>\n",
       "      <td>46</td>\n",
       "      <td>4.0</td>\n",
       "    </tr>\n",
       "    <tr>\n",
       "      <th>47</th>\n",
       "      <td>47</td>\n",
       "      <td>2.0</td>\n",
       "    </tr>\n",
       "    <tr>\n",
       "      <th>48</th>\n",
       "      <td>48</td>\n",
       "      <td>4.0</td>\n",
       "    </tr>\n",
       "    <tr>\n",
       "      <th>49</th>\n",
       "      <td>49</td>\n",
       "      <td>1.0</td>\n",
       "    </tr>\n",
       "    <tr>\n",
       "      <th>50</th>\n",
       "      <td>50</td>\n",
       "      <td>2.0</td>\n",
       "    </tr>\n",
       "    <tr>\n",
       "      <th>51</th>\n",
       "      <td>51</td>\n",
       "      <td>3.0</td>\n",
       "    </tr>\n",
       "    <tr>\n",
       "      <th>52</th>\n",
       "      <td>52</td>\n",
       "      <td>2.0</td>\n",
       "    </tr>\n",
       "    <tr>\n",
       "      <th>53</th>\n",
       "      <td>53</td>\n",
       "      <td>5.0</td>\n",
       "    </tr>\n",
       "    <tr>\n",
       "      <th>54</th>\n",
       "      <td>54</td>\n",
       "      <td>2.0</td>\n",
       "    </tr>\n",
       "  </tbody>\n",
       "</table>\n",
       "</div>"
      ],
      "text/plain": [
       "    minuto  num_chegadas\n",
       "0        0           0.0\n",
       "1        1           0.0\n",
       "2        2           1.0\n",
       "3        3           0.0\n",
       "4        4           2.0\n",
       "5        5           0.0\n",
       "6        6           3.0\n",
       "7        7           1.0\n",
       "8        8           2.0\n",
       "9        9           3.0\n",
       "10      10           0.0\n",
       "11      11           3.0\n",
       "12      12           1.0\n",
       "13      13           1.0\n",
       "14      14           2.0\n",
       "15      15           1.0\n",
       "16      16           1.0\n",
       "17      17           1.0\n",
       "18      18           4.0\n",
       "19      19           2.0\n",
       "20      20           0.0\n",
       "21      21           3.0\n",
       "22      22           2.0\n",
       "23      23           0.0\n",
       "24      24           1.0\n",
       "25      25           2.0\n",
       "26      26           0.0\n",
       "27      27           4.0\n",
       "28      28           0.0\n",
       "29      29           2.0\n",
       "30      30           2.0\n",
       "31      31           2.0\n",
       "32      32           3.0\n",
       "33      33           2.0\n",
       "34      34           2.0\n",
       "35      35           0.0\n",
       "36      36           2.0\n",
       "37      37           1.0\n",
       "38      38           3.0\n",
       "39      39           2.0\n",
       "40      40           3.0\n",
       "41      41           1.0\n",
       "42      42           3.0\n",
       "43      43           1.0\n",
       "44      44           4.0\n",
       "45      45           2.0\n",
       "46      46           4.0\n",
       "47      47           2.0\n",
       "48      48           4.0\n",
       "49      49           1.0\n",
       "50      50           2.0\n",
       "51      51           3.0\n",
       "52      52           2.0\n",
       "53      53           5.0\n",
       "54      54           2.0"
      ]
     },
     "execution_count": 177,
     "metadata": {},
     "output_type": "execute_result"
    }
   ],
   "source": [
    "tb_nev_min"
   ]
  },
  {
   "cell_type": "code",
   "execution_count": 178,
   "id": "b485c500",
   "metadata": {
    "ExecuteTime": {
     "end_time": "2022-03-10T23:52:07.701158Z",
     "start_time": "2022-03-10T23:52:07.673201Z"
    }
   },
   "outputs": [
    {
     "data": {
      "text/html": [
       "<div>\n",
       "<style scoped>\n",
       "    .dataframe tbody tr th:only-of-type {\n",
       "        vertical-align: middle;\n",
       "    }\n",
       "\n",
       "    .dataframe tbody tr th {\n",
       "        vertical-align: top;\n",
       "    }\n",
       "\n",
       "    .dataframe thead th {\n",
       "        text-align: right;\n",
       "    }\n",
       "</style>\n",
       "<table border=\"1\" class=\"dataframe\">\n",
       "  <thead>\n",
       "    <tr style=\"text-align: right;\">\n",
       "      <th></th>\n",
       "      <th>num_chegadas</th>\n",
       "      <th>num_eventos</th>\n",
       "      <th>prob_real</th>\n",
       "      <th>prob_medida</th>\n",
       "    </tr>\n",
       "  </thead>\n",
       "  <tbody>\n",
       "    <tr>\n",
       "      <th>0</th>\n",
       "      <td>0.0</td>\n",
       "      <td>151</td>\n",
       "      <td>0.135335</td>\n",
       "      <td>0.101684</td>\n",
       "    </tr>\n",
       "    <tr>\n",
       "      <th>1</th>\n",
       "      <td>1.0</td>\n",
       "      <td>276</td>\n",
       "      <td>0.270671</td>\n",
       "      <td>0.185859</td>\n",
       "    </tr>\n",
       "    <tr>\n",
       "      <th>2</th>\n",
       "      <td>2.0</td>\n",
       "      <td>572</td>\n",
       "      <td>0.270671</td>\n",
       "      <td>0.385185</td>\n",
       "    </tr>\n",
       "    <tr>\n",
       "      <th>3</th>\n",
       "      <td>3.0</td>\n",
       "      <td>250</td>\n",
       "      <td>0.180447</td>\n",
       "      <td>0.168350</td>\n",
       "    </tr>\n",
       "    <tr>\n",
       "      <th>4</th>\n",
       "      <td>4.0</td>\n",
       "      <td>183</td>\n",
       "      <td>0.090224</td>\n",
       "      <td>0.123232</td>\n",
       "    </tr>\n",
       "    <tr>\n",
       "      <th>5</th>\n",
       "      <td>5.0</td>\n",
       "      <td>53</td>\n",
       "      <td>0.036089</td>\n",
       "      <td>0.035690</td>\n",
       "    </tr>\n",
       "  </tbody>\n",
       "</table>\n",
       "</div>"
      ],
      "text/plain": [
       "   num_chegadas  num_eventos  prob_real  prob_medida\n",
       "0           0.0          151   0.135335     0.101684\n",
       "1           1.0          276   0.270671     0.185859\n",
       "2           2.0          572   0.270671     0.385185\n",
       "3           3.0          250   0.180447     0.168350\n",
       "4           4.0          183   0.090224     0.123232\n",
       "5           5.0           53   0.036089     0.035690"
      ]
     },
     "execution_count": 178,
     "metadata": {},
     "output_type": "execute_result"
    }
   ],
   "source": [
    "tb_poiss_pro = tb_nev_min.groupby('num_chegadas').sum().reset_index()\n",
    "tb_poiss_pro = tb_poiss_pro.rename({'minuto' : 'num_eventos'}, axis = 1)\n",
    "tb_poiss_pro['prob_real'] = tb_poiss_pro['num_chegadas'].apply(dist_poisson.pmf)\n",
    "tb_poiss_pro['prob_medida'] = tb_poiss_pro['num_eventos']/sum(tb_poiss_pro['num_eventos'])\n",
    "tb_poiss_pro"
   ]
  },
  {
   "cell_type": "code",
   "execution_count": 179,
   "id": "1ac1a0ad",
   "metadata": {
    "ExecuteTime": {
     "end_time": "2022-03-10T23:52:08.725846Z",
     "start_time": "2022-03-10T23:52:08.532365Z"
    }
   },
   "outputs": [
    {
     "data": {
      "text/plain": [
       "<AxesSubplot:xlabel='num_chegadas', ylabel='prob_real'>"
      ]
     },
     "execution_count": 179,
     "metadata": {},
     "output_type": "execute_result"
    },
    {
     "data": {
      "image/png": "[encoded data removed]",
      "text/plain": [
       "<Figure size 432x288 with 1 Axes>"
      ]
     },
     "metadata": {
      "needs_background": "light"
     },
     "output_type": "display_data"
    }
   ],
   "source": [
    "sns.barplot(data = tb_poiss_pro, x = 'num_chegadas', y = 'prob_medida', color = 'blue')\n",
    "sns.pointplot(data = tb_poiss_pro, x = 'num_chegadas', y = 'prob_real', color='red')"
   ]
  },
  {
   "cell_type": "markdown",
   "id": "9c5b6769",
   "metadata": {},
   "source": [
    "### Teorema do Limite Central"
   ]
  },
  {
   "cell_type": "code",
   "execution_count": 180,
   "id": "a9d8bdde",
   "metadata": {
    "ExecuteTime": {
     "end_time": "2022-03-11T00:02:34.341885Z",
     "start_time": "2022-03-11T00:02:34.326919Z"
    }
   },
   "outputs": [
    {
     "data": {
      "text/plain": [
       "[8, 5, 5, 6, 4]"
      ]
     },
     "execution_count": 180,
     "metadata": {},
     "output_type": "execute_result"
    }
   ],
   "source": [
    "amostra_binomial_array = np.array(amostra_binomial[0:99])\n",
    "amostra_binomial[0:5]"
   ]
  },
  {
   "cell_type": "code",
   "execution_count": 181,
   "id": "af7c8f2a",
   "metadata": {
    "ExecuteTime": {
     "end_time": "2022-03-11T00:02:37.222067Z",
     "start_time": "2022-03-11T00:02:37.211123Z"
    }
   },
   "outputs": [
    {
     "data": {
      "text/plain": [
       "[1, 1, 2, 2, 1]"
      ]
     },
     "execution_count": 181,
     "metadata": {},
     "output_type": "execute_result"
    }
   ],
   "source": [
    "amostra_geo_array = np.array(amostra_geo[0:99])\n",
    "amostra_geo[0:5]"
   ]
  },
  {
   "cell_type": "code",
   "execution_count": 182,
   "id": "c6a83c62",
   "metadata": {
    "ExecuteTime": {
     "end_time": "2022-03-11T00:02:37.766822Z",
     "start_time": "2022-03-11T00:02:37.752840Z"
    }
   },
   "outputs": [
    {
     "data": {
      "text/plain": [
       "[3, 2, 2, 5, 2]"
      ]
     },
     "execution_count": 182,
     "metadata": {},
     "output_type": "execute_result"
    }
   ],
   "source": [
    "amostra_poi_array = np.array(amostra_poi[0:99])\n",
    "amostra_poi[0:5]"
   ]
  },
  {
   "cell_type": "code",
   "execution_count": 183,
   "id": "2de1ad1e",
   "metadata": {
    "ExecuteTime": {
     "end_time": "2022-03-11T00:02:38.326694Z",
     "start_time": "2022-03-11T00:02:38.315722Z"
    }
   },
   "outputs": [
    {
     "data": {
      "text/plain": [
       "array([2.41852665, 2.08239741, 0.1492403 , 1.78613964, 0.23203325])"
      ]
     },
     "execution_count": 183,
     "metadata": {},
     "output_type": "execute_result"
    }
   ],
   "source": [
    "amostra_exp_array = np.array(amostra_exp[0:99])\n",
    "amostra_exp[0:5]"
   ]
  },
  {
   "cell_type": "code",
   "execution_count": 184,
   "id": "72a509d2",
   "metadata": {
    "ExecuteTime": {
     "end_time": "2022-03-11T00:03:32.299658Z",
     "start_time": "2022-03-11T00:03:32.287628Z"
    }
   },
   "outputs": [],
   "source": [
    "def norm_array(arr):\n",
    "    mu_arr = np.mean(arr)\n",
    "    sd_arr = np.std(arr)\n",
    "    \n",
    "    return (arr - mu_arr)/sd_arr"
   ]
  },
  {
   "cell_type": "code",
   "execution_count": 185,
   "id": "e43ea14c",
   "metadata": {
    "ExecuteTime": {
     "end_time": "2022-03-11T00:03:56.646345Z",
     "start_time": "2022-03-11T00:03:56.639364Z"
    }
   },
   "outputs": [],
   "source": [
    "amostra_binomial_norm = norm_array(amostra_binomial_array)\n",
    "amostra_geo_array = norm_array(amostra_geo_array)\n",
    "amostra_poi_array = norm_array(amostra_poi_array)\n",
    "amostra_exp_array = norm_array(amostra_exp_array)"
   ]
  },
  {
   "cell_type": "code",
   "execution_count": 186,
   "id": "fa545b4d",
   "metadata": {
    "ExecuteTime": {
     "end_time": "2022-03-11T00:04:19.302728Z",
     "start_time": "2022-03-11T00:04:19.295745Z"
    }
   },
   "outputs": [],
   "source": [
    "amostra_norm = amostra_binomial_norm + amostra_geo_array + amostra_poi_array + amostra_exp_array"
   ]
  },
  {
   "cell_type": "code",
   "execution_count": 187,
   "id": "655f849a",
   "metadata": {
    "ExecuteTime": {
     "end_time": "2022-03-11T00:04:19.752792Z",
     "start_time": "2022-03-11T00:04:19.739826Z"
    }
   },
   "outputs": [
    {
     "data": {
      "text/plain": [
       "array([ 5.19502231e+00,  1.87721248e+00, -6.41813488e-01,  5.10497178e+00,\n",
       "       -1.99635050e+00, -1.52526646e+00,  1.36428689e+00, -2.59117300e+00,\n",
       "       -2.54680163e+00,  4.19138528e+00,  4.48305821e-01,  9.04849876e-01,\n",
       "        1.42863476e+00, -1.71769966e-01,  3.91066626e+00, -1.49879183e+00,\n",
       "       -6.50153065e-01,  4.05360971e-01, -1.11454432e+00, -1.02296684e+00,\n",
       "        5.27731544e-01, -8.60276708e-01, -2.01338455e+00, -4.94447904e-01,\n",
       "       -1.09075530e+00,  1.63583855e+00,  5.92133305e-01, -2.63131804e+00,\n",
       "        5.65639838e-01, -1.25219212e+00, -1.08838363e+00,  1.18662267e+00,\n",
       "       -2.40963284e+00,  4.91051152e+00, -1.39651838e+00,  1.95534596e+00,\n",
       "        8.05750005e-01,  5.32820969e-01, -2.92107650e+00, -1.59161862e+00,\n",
       "        1.62898635e+00,  3.73622019e-01, -5.88989241e-01,  6.14491039e-01,\n",
       "        1.79402433e+00,  6.07558706e-02, -3.17683022e-01, -1.90110266e-01,\n",
       "       -6.88118910e-01, -2.11170926e+00,  3.57700876e-02, -1.48361054e+00,\n",
       "       -5.96286332e-01,  1.06668542e-01,  2.63704167e+00, -6.14235568e-01,\n",
       "       -3.30205150e+00, -3.77776859e-01, -4.14554763e-01, -6.23271057e-01,\n",
       "       -1.48672593e+00, -9.41625706e-04,  1.67524221e-03, -6.48814871e-01,\n",
       "        5.77601434e-01,  2.59788218e+00,  5.32749943e-01,  3.40169152e-01,\n",
       "        1.45462562e+00,  1.50393143e+00,  7.10385336e-02,  1.35902599e+00,\n",
       "       -1.79610665e+00, -7.68962876e-01, -2.43004143e+00, -9.26882172e-01,\n",
       "       -7.07510848e-01, -8.96381044e-01,  3.60615934e+00,  9.14157636e-01,\n",
       "       -3.65188985e-01, -7.05201050e-01, -1.34984781e+00, -1.37158954e+00,\n",
       "       -2.58217123e+00, -6.57275960e-02,  3.34533109e+00,  7.21553251e-01,\n",
       "        5.16277163e-02, -1.16036644e+00,  2.21852663e+00, -7.51029823e-01,\n",
       "       -1.63686310e+00, -1.98855547e+00,  8.34385304e-01, -2.28803542e+00,\n",
       "       -2.91460305e+00, -1.58838890e+00,  6.32267769e+00])"
      ]
     },
     "execution_count": 187,
     "metadata": {},
     "output_type": "execute_result"
    }
   ],
   "source": [
    "amostra_norm"
   ]
  },
  {
   "cell_type": "code",
   "execution_count": 188,
   "id": "90124d02",
   "metadata": {
    "ExecuteTime": {
     "end_time": "2022-03-11T00:05:58.107577Z",
     "start_time": "2022-03-11T00:05:57.846277Z"
    }
   },
   "outputs": [
    {
     "data": {
      "image/png": "[encoded data removed]",
      "text/plain": [
       "<Figure size 432x288 with 1 Axes>"
      ]
     },
     "metadata": {
      "needs_background": "light"
     },
     "output_type": "display_data"
    }
   ],
   "source": [
    "dist_norm = sp.stats.norm(loc = np.mean(amostra_norm), scale = np.std(amostra_norm))\n",
    "random_sample = dist_norm.rvs(1000)\n",
    "sns.kdeplot(amostra_norm);\n",
    "sns.kdeplot(random_sample);"
   ]
  },
  {
   "cell_type": "markdown",
   "id": "855e03f2",
   "metadata": {},
   "source": [
    "# Intervalo de Confiaça e RMSE"
   ]
  },
  {
   "cell_type": "code",
   "execution_count": 20,
   "id": "3ad3cace",
   "metadata": {
    "ExecuteTime": {
     "end_time": "2022-03-11T00:39:36.409850Z",
     "start_time": "2022-03-11T00:39:36.402868Z"
    }
   },
   "outputs": [],
   "source": [
    "candidatos = ['A', 'B']\n",
    "def intencao_voto():\n",
    "    return np.random.choice(candidatos, p = [0.01, 0.99])"
   ]
  },
  {
   "cell_type": "code",
   "execution_count": 21,
   "id": "af5a328c",
   "metadata": {
    "ExecuteTime": {
     "end_time": "2022-03-11T00:39:36.938581Z",
     "start_time": "2022-03-11T00:39:36.928606Z"
    }
   },
   "outputs": [
    {
     "data": {
      "text/plain": [
       "'B'"
      ]
     },
     "execution_count": 21,
     "metadata": {},
     "output_type": "execute_result"
    }
   ],
   "source": [
    "intencao_voto()"
   ]
  },
  {
   "cell_type": "code",
   "execution_count": 22,
   "id": "a18f365a",
   "metadata": {
    "ExecuteTime": {
     "end_time": "2022-03-11T00:39:37.437147Z",
     "start_time": "2022-03-11T00:39:37.431162Z"
    }
   },
   "outputs": [],
   "source": [
    "def pesquisa_opiniao(tamanho_amostra):\n",
    "    pesquisa = [intencao_voto() for i in range(tamanho_amostra)]\n",
    "    c_pesq = Counter(pesquisa)\n",
    "    return c_pesq['A']/tamanho_amostra"
   ]
  },
  {
   "cell_type": "code",
   "execution_count": 23,
   "id": "71694181",
   "metadata": {
    "ExecuteTime": {
     "end_time": "2022-03-11T00:39:38.023111Z",
     "start_time": "2022-03-11T00:39:37.982221Z"
    }
   },
   "outputs": [
    {
     "data": {
      "text/plain": [
       "0.008"
      ]
     },
     "execution_count": 23,
     "metadata": {},
     "output_type": "execute_result"
    }
   ],
   "source": [
    "pesquisa_opiniao(1000)"
   ]
  },
  {
   "cell_type": "code",
   "execution_count": 24,
   "id": "2214a10f",
   "metadata": {
    "ExecuteTime": {
     "end_time": "2022-03-11T00:39:55.415480Z",
     "start_time": "2022-03-11T00:39:53.279139Z"
    }
   },
   "outputs": [],
   "source": [
    "lista_pesquisas = [pesquisa_opiniao(100) for i in range(1000)]"
   ]
  },
  {
   "cell_type": "code",
   "execution_count": 25,
   "id": "efe6d8d9",
   "metadata": {
    "ExecuteTime": {
     "end_time": "2022-03-11T00:39:55.536663Z",
     "start_time": "2022-03-11T00:39:55.417474Z"
    }
   },
   "outputs": [
    {
     "name": "stderr",
     "output_type": "stream",
     "text": [
      "C:\\ProgramData\\Anaconda3\\lib\\site-packages\\seaborn\\_decorators.py:36: FutureWarning: Pass the following variable as a keyword arg: x. From version 0.12, the only valid positional argument will be `data`, and passing other arguments without an explicit keyword will result in an error or misinterpretation.\n",
      "  warnings.warn(\n"
     ]
    },
    {
     "data": {
      "image/png": "[encoded data removed]",
      "text/plain": [
       "<Figure size 432x288 with 1 Axes>"
      ]
     },
     "metadata": {
      "needs_background": "light"
     },
     "output_type": "display_data"
    }
   ],
   "source": [
    "sns.boxplot(lista_pesquisas);"
   ]
  }
 ],
 "metadata": {
  "hide_input": false,
  "kernelspec": {
   "display_name": "Python 3.9.11 ('base')",
   "language": "python",
   "name": "python3"
  },
  "language_info": {
   "codemirror_mode": {
    "name": "ipython",
    "version": 3
   },
   "file_extension": ".py",
   "mimetype": "text/x-python",
   "name": "python",
   "nbconvert_exporter": "python",
   "pygments_lexer": "ipython3",
   "version": "3.9.11"
  },
  "toc": {
   "base_numbering": 1,
   "nav_menu": {},
   "number_sections": true,
   "sideBar": true,
   "skip_h1_title": false,
   "title_cell": "Table of Contents",
   "title_sidebar": "Contents",
   "toc_cell": true,
   "toc_position": {
    "height": "calc(100% - 180px)",
    "left": "10px",
    "top": "150px",
    "width": "256px"
   },
   "toc_section_display": true,
   "toc_window_display": true
  },
  "vscode": {
   "interpreter": {
    "hash": "014f4a4a5af8f0104b12c029e500f4146d6d785e8cf714d2a35b7a9514230cd3"
   }
  }
 },
 "nbformat": 4,
 "nbformat_minor": 5
}
