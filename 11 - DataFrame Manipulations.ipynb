{
 "cells": [
  {
   "cell_type": "markdown",
   "metadata": {},
   "source": [
    "# Operações em DataFrames\n",
    "\n",
    "Hoje veremos algumos operações fundamentais em DataFrames:\n",
    "\n",
    "1. **Renomeando colunas/linhas**;\n",
    "1. **Reordenando linhas**;\n",
    "1. **Removendo colunas/linhas**;\n",
    "1. **Filtrando dados**;\n",
    "1. **Criação de colunas condicionais**.\n",
    "\n",
    "Vamos começar importando as bibliotecas Numpy e Pandas (seguindo a conveção de importação `np` e `pd`) e utilizar a função `pd.read_csv()`para carregar um arquivo texto com dados sobre carros.\n",
    "\n",
    "Não se preocupe com a utilização da função `pd.read_csv()` no momento - na próxima aula aprenderemos a carregar diferentes arquivos de dados, incluindo arquivos `.csv`!"
   ]
  },
  {
   "cell_type": "code",
   "execution_count": null,
   "metadata": {
    "ExecuteTime": {
     "end_time": "2021-12-02T22:36:14.563876Z",
     "start_time": "2021-12-02T22:36:13.934801Z"
    }
   },
   "outputs": [],
   "source": [
    "import pandas as pd\n",
    "import numpy as np\n",
    "tb_veic = pd.read_csv('data/dados_veiculos.csv')"
   ]
  },
  {
   "cell_type": "markdown",
   "metadata": {},
   "source": [
    "Podemos usar o método `.info()` para ver quais informações a tabela contém:"
   ]
  },
  {
   "cell_type": "code",
   "execution_count": null,
   "metadata": {
    "ExecuteTime": {
     "end_time": "2021-12-02T22:36:48.031421Z",
     "start_time": "2021-12-02T22:36:47.990533Z"
    }
   },
   "outputs": [],
   "source": [
    "tb_veic.info()"
   ]
  },
  {
   "cell_type": "markdown",
   "metadata": {},
   "source": [
    "Como podemos ver abaixo, a tabela contém 15 colunas, sendo 9 numéricas e 6 de objetos. Além disso todas as linhas parecem ter todas as variáveis preenchidas. Podemos utilizar o método `.head()` para ver as primeiras linhas dessa tabela:"
   ]
  },
  {
   "cell_type": "code",
   "execution_count": null,
   "metadata": {},
   "outputs": [],
   "source": [
    "tb_veic.head()"
   ]
  },
  {
   "cell_type": "markdown",
   "metadata": {},
   "source": [
    "Qual método podemos utilizar para ter uma descrição rápida sobre as colunas numéricas dessa tabela?"
   ]
  },
  {
   "cell_type": "code",
   "execution_count": null,
   "metadata": {},
   "outputs": [],
   "source": [
    "# SEU CÓDIGO AQUI!"
   ]
  },
  {
   "cell_type": "markdown",
   "metadata": {},
   "source": [
    "## Manipulando Colunas\n",
    "\n",
    "DataFrames são tabelas - portanto podemos realizar operações sobre as **colunas** ou sobre as **linhas**. Vamos começar vendo algumas operações básicas que podemos realizar sobre as colunas de um DataFrame.\n",
    "\n",
    "### O atributo `.columns`\n",
    "\n",
    "Como vimos na aula passada, todo DataFrame contém atributos que nos permite acessar seus índices. O atributo para acessarmos o índice de colunas é o `.columns`. Vamos utilizar esse atributo para resolver um problema básico: o método `.describe()` só retorna resultados para colunas não numéricas quando o DataFrame não tem nenhuma colunas numérica.\n",
    "\n",
    "No entanto, muitas vezes queremos ver o resumo fornecido pelo método para as colunas de `object` (que, por via de regra, são `strings`). Como podemos fazer isso?"
   ]
  },
  {
   "cell_type": "code",
   "execution_count": null,
   "metadata": {},
   "outputs": [],
   "source": [
    "# Vamos resolver juntos!"
   ]
  },
  {
   "cell_type": "markdown",
   "metadata": {},
   "source": [
    "### Renomeando colunas\n",
    "Temos duas formas possíveis de renomear as colunas:\n",
    "\n",
    "- Como já vimos `.columns` é um **attribute** dos DataFrame que contém um iterável com os nomes das colunas:\n",
    "    - Podemos substituir esse atributo por outro iterável de mesmo comprimento;\n",
    "    - Como substituímos o atributo inteiro, precisamos especificar o nome de todas as colunas (mesmo que elas não mudem de nome).\n",
    "    \n",
    "- `.rename()` é um **método** de um DataFrame, através do qual podemos renomear colunas de forma seletiva:\n",
    "    - Este método utiliza um dicionário com o formato `{'nome_antigo':'nome_novo'}` para renomear as colunas; \n",
    "    - O método `.rename()` serve tanto para renomear colunas quanto linhas. Portanto precisamos utilizar o argumento `axis = 1` para renomear as colunas;\n",
    "\n",
    "#### Através do atributo `.columns`\n",
    "Primeiro vamos aprender a renomear colunas através do atributo `.columns`. Além disso vamos ver situações práticas onde devemos utilizar essa forma."
   ]
  },
  {
   "cell_type": "code",
   "execution_count": null,
   "metadata": {
    "ExecuteTime": {
     "end_time": "2021-12-02T22:52:44.157251Z",
     "start_time": "2021-12-02T22:52:44.149275Z"
    }
   },
   "outputs": [],
   "source": [
    "print(tb_veic.columns)"
   ]
  },
  {
   "cell_type": "markdown",
   "metadata": {},
   "source": [
    "Utilizando um list comprehesion podemos criar uma nova lista de nomes de colunas:"
   ]
  },
  {
   "cell_type": "code",
   "execution_count": null,
   "metadata": {},
   "outputs": [],
   "source": [
    "old_names = tb_veic.columns\n",
    "print(old_names)\n",
    "new_names = [f'C_{i}' for i in range(len(old_names))]\n",
    "print(new_names)"
   ]
  },
  {
   "cell_type": "markdown",
   "metadata": {},
   "source": [
    "Agora, podemos substituir o atributo `.columns` e utilizar o método `.info()` para verificar que nossas colunas foram renomeadas:"
   ]
  },
  {
   "cell_type": "code",
   "execution_count": null,
   "metadata": {},
   "outputs": [],
   "source": [
    "tb_veic.columns = new_names\n",
    "tb_veic.info()"
   ]
  },
  {
   "cell_type": "markdown",
   "metadata": {},
   "source": [
    "Podemos utilizar os nomes antigos guardados na variável `old_names` para voltar a tabela ao normal:"
   ]
  },
  {
   "cell_type": "code",
   "execution_count": null,
   "metadata": {},
   "outputs": [],
   "source": [
    "tb_veic.columns = old_names\n",
    "tb_veic.info()"
   ]
  },
  {
   "cell_type": "markdown",
   "metadata": {},
   "source": [
    "O exemplo acima mostra como podemos utilizar o atributo `.columns` para renomear colunas. No entanto, ele não é muito prático. Vamos ver um caso real onde utilizamos essa técnica para limpar o nome das colunas de uma tabela:"
   ]
  },
  {
   "cell_type": "code",
   "execution_count": null,
   "metadata": {},
   "outputs": [],
   "source": [
    "import re\n",
    "\n",
    "pattern = r'[^a-zA-Z0-9]'\n",
    "print(re.findall(pattern, tb_veic.columns[0]))"
   ]
  },
  {
   "cell_type": "markdown",
   "metadata": {},
   "source": [
    "O padrão acima busca todos os carácteres que **NÃO** são alfa-numéricos. Podemos utilizar a função `re.sub()` para *limpar* os nomes das colunas, substituindo espaços e barras por `_`:"
   ]
  },
  {
   "cell_type": "code",
   "execution_count": null,
   "metadata": {
    "ExecuteTime": {
     "end_time": "2021-12-02T22:58:27.659821Z",
     "start_time": "2021-12-02T22:58:27.644862Z"
    }
   },
   "outputs": [],
   "source": [
    "print([re.sub(pattern, '_', column.lower()) for column in tb_veic.columns])"
   ]
  },
  {
   "cell_type": "code",
   "execution_count": null,
   "metadata": {
    "ExecuteTime": {
     "end_time": "2021-12-02T22:55:33.414659Z",
     "start_time": "2021-12-02T22:55:33.370776Z"
    }
   },
   "outputs": [],
   "source": [
    "tb_veic.columns = [re.sub(pattern, '_', column.lower()) for column in tb_veic.columns]\n",
    "tb_veic.info()"
   ]
  },
  {
   "cell_type": "code",
   "execution_count": null,
   "metadata": {
    "ExecuteTime": {
     "end_time": "2021-12-02T22:59:11.326220Z",
     "start_time": "2021-12-02T22:59:11.321227Z"
    }
   },
   "outputs": [],
   "source": [
    "tb_veic.columns = old_names\n",
    "tb_veic.info()"
   ]
  },
  {
   "cell_type": "markdown",
   "metadata": {},
   "source": [
    "### Utilizando o método `.rename()`\n",
    "\n",
    "Um problema do método acima é que se quisermos renomear apenas uma coluna teremos que criar uma lista com todos os nomes originais exceto o da coluna a ser renomeada. Neste caso é melhor utilizarmos o método `.rename()`: ele nos permite renomear uma (ou mais) colunas a partir de um dicionário `{'nome_antigo' : 'nome_novo'}`:"
   ]
  },
  {
   "cell_type": "code",
   "execution_count": null,
   "metadata": {
    "ExecuteTime": {
     "end_time": "2021-12-02T23:01:36.754917Z",
     "start_time": "2021-12-02T23:01:36.738960Z"
    }
   },
   "outputs": [],
   "source": [
    "dict_nomes = dict()\n",
    "dict_nomes['Year'] = 'model_year'\n",
    "print(dict_nomes)"
   ]
  },
  {
   "cell_type": "code",
   "execution_count": null,
   "metadata": {},
   "outputs": [],
   "source": [
    "tb_veic = tb_veic.rename(dict_nomes, axis = 1)\n",
    "tb_veic.info()"
   ]
  },
  {
   "cell_type": "code",
   "execution_count": null,
   "metadata": {
    "ExecuteTime": {
     "end_time": "2021-12-02T23:04:43.325619Z",
     "start_time": "2021-12-02T23:04:43.320631Z"
    }
   },
   "outputs": [],
   "source": [
    "tb_veic.columns = old_names\n",
    "tb_veic.info()"
   ]
  },
  {
   "cell_type": "markdown",
   "metadata": {},
   "source": [
    "O método `.rename()` não altera o objeto original!"
   ]
  },
  {
   "cell_type": "code",
   "execution_count": null,
   "metadata": {
    "ExecuteTime": {
     "end_time": "2021-12-02T23:05:25.076134Z",
     "start_time": "2021-12-02T23:05:25.052197Z"
    }
   },
   "outputs": [],
   "source": [
    "tb_veic.rename({'Year' : 'model_year'}, axis = 1)\n",
    "tb_veic.info()"
   ]
  },
  {
   "cell_type": "markdown",
   "metadata": {},
   "source": [
    "Se quisermos que o método substitua diretamente o nome das colunas (sem precisarmos sobrescrever a variável que contém o DataFrame) precisamos utilizar o argumento `inplace = True`:"
   ]
  },
  {
   "cell_type": "code",
   "execution_count": null,
   "metadata": {
    "ExecuteTime": {
     "end_time": "2021-12-02T23:07:39.179312Z",
     "start_time": "2021-12-02T23:07:39.170349Z"
    }
   },
   "outputs": [],
   "source": [
    "tb_veic.rename({'Year' : 'model_year'}, axis = 1, inplace = True)\n",
    "tb_veic.info()"
   ]
  },
  {
   "cell_type": "markdown",
   "metadata": {},
   "source": [
    "Podemos realizar a mesma tarefa do exemplo prático acima através do método `.rename()`. Para tanto, vamos utilizar um `dict comprehension`!"
   ]
  },
  {
   "cell_type": "code",
   "execution_count": null,
   "metadata": {
    "ExecuteTime": {
     "end_time": "2021-12-02T23:13:26.890117Z",
     "start_time": "2021-12-02T23:13:26.871170Z"
    }
   },
   "outputs": [],
   "source": [
    "pattern = r'[^a-zA-Z0-9]'\n",
    "dict_rename = {column : re.sub(pattern, '_', column).lower() for column in tb_veic.columns}\n",
    "print(dict_rename)"
   ]
  },
  {
   "cell_type": "code",
   "execution_count": null,
   "metadata": {
    "ExecuteTime": {
     "end_time": "2021-12-02T23:14:17.674995Z",
     "start_time": "2021-12-02T23:14:17.656018Z"
    }
   },
   "outputs": [],
   "source": [
    "tb_veic = tb_veic.rename(dict_rename, axis = 1) #tb_veic.rename(dict_rename, axis = 1, inplace = True)\n",
    "print(tb_veic.columns)"
   ]
  },
  {
   "cell_type": "markdown",
   "metadata": {},
   "source": [
    "Utilizando o método `.replace()` temos duas formas de renomear as colunas de nossos dados\n",
    "1. sobrescrevendo a variável que contém nosso `DataFrame`: \n",
    "\n",
    "    `data = data.rename(columns={'Make':'Manufacturer', 'Year':'ANO'})`\n",
    "\n",
    "2. Usando o argumento `inplace =  True`:\n",
    "\n",
    "    `data.rename(columns={'Make':'Manufacturer', 'Year':'ANO'}, inplace=True)`\n",
    "    \n",
    "O parâmetro 'inplace' será deprecado e seu uso é considerado má prática."
   ]
  },
  {
   "cell_type": "markdown",
   "metadata": {},
   "source": [
    "### Reordenando colunas em um DataFrame\n",
    "\n",
    "Reordenar colunas em um DataFrame é simples: basta lembrarmos que podemos passar uma lista de nomes de colunas como índice para montar um novo DataFrame com as colunas na ordem dos elementos da lista:"
   ]
  },
  {
   "cell_type": "code",
   "execution_count": null,
   "metadata": {
    "ExecuteTime": {
     "end_time": "2021-12-02T23:19:24.249222Z",
     "start_time": "2021-12-02T23:19:24.238224Z"
    }
   },
   "outputs": [],
   "source": [
    "print(tb_veic.columns)"
   ]
  },
  {
   "cell_type": "code",
   "execution_count": null,
   "metadata": {
    "ExecuteTime": {
     "end_time": "2021-12-02T23:20:19.169099Z",
     "start_time": "2021-12-02T23:20:19.146160Z"
    }
   },
   "outputs": [],
   "source": [
    "tb_veic[['model', 'make']]"
   ]
  },
  {
   "cell_type": "markdown",
   "metadata": {},
   "source": [
    "Vamos utilizar o método `.sort()` das listas para criar uma lista de colunas em ordem alfabética:"
   ]
  },
  {
   "cell_type": "code",
   "execution_count": null,
   "metadata": {
    "ExecuteTime": {
     "end_time": "2021-12-02T23:21:38.183787Z",
     "start_time": "2021-12-02T23:21:38.176806Z"
    }
   },
   "outputs": [],
   "source": [
    "lista_colunas = list(tb_veic.columns)\n",
    "lista_colunas.sort()\n",
    "print(lista_colunas)"
   ]
  },
  {
   "cell_type": "code",
   "execution_count": null,
   "metadata": {
    "ExecuteTime": {
     "end_time": "2021-12-02T23:23:01.841218Z",
     "start_time": "2021-12-02T23:23:01.802323Z"
    }
   },
   "outputs": [],
   "source": [
    "tb_veic = tb_veic[lista_colunas]\n",
    "tb_veic.head()"
   ]
  },
  {
   "cell_type": "markdown",
   "metadata": {},
   "source": [
    "### Removendo/Mantendo colunas\n",
    "\n",
    "Se quisermos remover uma (ou mais) coluna de um DataFrame podemos faze-lo de duas formas:\n",
    "\n",
    "- Utilizando a indexação para selecionar todas as colunas que queremos em nosso novo DataFrame;\n",
    "- Utilizando o método `.drop()` para remover algumas colunas específicas.\n",
    "\n",
    "Quando queremos remover muitas colunas, pode valer a penas especificar quais colunas queremos manter (primeira forma). Caso contrário, podemos utilizar o método `.drop()`:"
   ]
  },
  {
   "cell_type": "code",
   "execution_count": null,
   "metadata": {},
   "outputs": [],
   "source": [
    "colunas_manter = ['city_mpg', 'combined_mpg']\n",
    "tb_veic_sub = tb_veic[colunas_manter]\n",
    "tb_veic_sub.info()"
   ]
  },
  {
   "cell_type": "code",
   "execution_count": null,
   "metadata": {},
   "outputs": [],
   "source": [
    "colunas_num = [coluna for coluna in tb_veic.columns if tb_veic[coluna].dtype == int or tb_veic[coluna].dtype == float]\n",
    "print(colunas_num)"
   ]
  },
  {
   "cell_type": "code",
   "execution_count": null,
   "metadata": {},
   "outputs": [],
   "source": [
    "tb_veic_num = tb_veic[colunas_num]\n",
    "tb_veic_num.info()"
   ]
  },
  {
   "cell_type": "markdown",
   "metadata": {},
   "source": [
    "Vamos voltar ao exercicio do começo da aula:"
   ]
  },
  {
   "cell_type": "code",
   "execution_count": null,
   "metadata": {},
   "outputs": [],
   "source": [
    "colunas_str = [coluna for coluna in tb_veic.columns if tb_veic[coluna].dtype == object]\n",
    "tb_veic[colunas_str].describe()"
   ]
  },
  {
   "cell_type": "markdown",
   "metadata": {},
   "source": [
    "As técnicas acima nos permite selecionar colunas de forma simples a partir de condições específicas. No entanto, muitas vezes queremos remover apenas uma ou duas colunas de uma tabela (por exemplo, colunas que não tenham informações corretas). Para isso, podemos utilizar o método `.drop()`:"
   ]
  },
  {
   "cell_type": "code",
   "execution_count": null,
   "metadata": {
    "ExecuteTime": {
     "end_time": "2021-12-02T23:29:35.696421Z",
     "start_time": "2021-12-02T23:29:35.653561Z"
    }
   },
   "outputs": [],
   "source": [
    "tb_veic_sm = tb_veic.drop('make', axis = 1)\n",
    "tb_veic_sm.info()"
   ]
  },
  {
   "cell_type": "markdown",
   "metadata": {},
   "source": [
    "Esse método nos permite remover mais de uma coluna (utilizando um iterável) e aceita o argumento `inplace`:"
   ]
  },
  {
   "cell_type": "code",
   "execution_count": null,
   "metadata": {
    "ExecuteTime": {
     "end_time": "2021-12-02T23:34:22.929617Z",
     "start_time": "2021-12-02T23:34:22.904684Z"
    },
    "scrolled": true
   },
   "outputs": [],
   "source": [
    "tb_veic_sm.drop(['transmission', 'model_year'], axis = 1, inplace = True)\n",
    "tb_veic_sm.info()"
   ]
  },
  {
   "cell_type": "markdown",
   "metadata": {},
   "source": [
    "## Manipulando Linhas"
   ]
  },
  {
   "cell_type": "code",
   "execution_count": null,
   "metadata": {
    "ExecuteTime": {
     "end_time": "2021-12-02T23:50:12.061567Z",
     "start_time": "2021-12-02T23:50:12.027643Z"
    }
   },
   "outputs": [],
   "source": [
    "tb_veic = tb_veic.sort_values('model_year')\n",
    "tb_veic"
   ]
  },
  {
   "cell_type": "code",
   "execution_count": null,
   "metadata": {
    "ExecuteTime": {
     "end_time": "2021-12-02T23:51:45.689468Z",
     "start_time": "2021-12-02T23:51:45.645586Z"
    }
   },
   "outputs": [],
   "source": [
    "tb_veic = tb_veic.sort_values('model_year', ascending = False)\n",
    "tb_veic"
   ]
  },
  {
   "cell_type": "code",
   "execution_count": null,
   "metadata": {
    "ExecuteTime": {
     "end_time": "2021-12-02T23:52:32.339100Z",
     "start_time": "2021-12-02T23:52:32.290204Z"
    }
   },
   "outputs": [],
   "source": [
    "tb_veic = tb_veic.sort_values(['model_year', 'engine_displacement'], ascending = [False, True])\n",
    "tb_veic"
   ]
  },
  {
   "cell_type": "code",
   "execution_count": null,
   "metadata": {
    "ExecuteTime": {
     "end_time": "2021-12-02T23:53:24.174635Z",
     "start_time": "2021-12-02T23:53:24.126763Z"
    }
   },
   "outputs": [],
   "source": [
    "tb_veic = tb_veic.sort_values(['model_year', 'engine_displacement', 'make'], ascending = False)\n",
    "tb_veic"
   ]
  },
  {
   "cell_type": "markdown",
   "metadata": {},
   "source": [
    "### Aplicando Filtros\n",
    "\n",
    "Como vimos nas últimas aulas, o conceito de filtro é fundamental na programação para análise de dados. Vamos aplicar o que aprendemos sobre um conjunto de dados real.\n",
    "\n",
    "Na biblioteca Pandas temos duas maneira de realizar filtros:\n",
    "\n",
    "- Conceito de máscara;\n",
    "- O método `.query()`.\n",
    "\n",
    "Começaremos pelas máscaras."
   ]
  },
  {
   "cell_type": "code",
   "execution_count": null,
   "metadata": {
    "ExecuteTime": {
     "end_time": "2021-12-03T00:22:25.433232Z",
     "start_time": "2021-12-03T00:22:25.410293Z"
    },
    "scrolled": true
   },
   "outputs": [],
   "source": [
    "cyl_6 = tb_veic['cylinders'] == 6\n",
    "print(cyl_6)\n",
    "sum(cyl_6)"
   ]
  },
  {
   "cell_type": "code",
   "execution_count": null,
   "metadata": {
    "ExecuteTime": {
     "end_time": "2021-12-03T00:23:10.796975Z",
     "start_time": "2021-12-03T00:23:10.760074Z"
    }
   },
   "outputs": [],
   "source": [
    "tb_veic_cyl6 = tb_veic[tb_veic['cylinders'] == 6]\n",
    "tb_veic_cyl6"
   ]
  },
  {
   "cell_type": "code",
   "execution_count": null,
   "metadata": {
    "ExecuteTime": {
     "end_time": "2021-12-03T00:24:18.203600Z",
     "start_time": "2021-12-03T00:24:18.150229Z"
    }
   },
   "outputs": [],
   "source": [
    "tb_veic_cyl6.describe()"
   ]
  },
  {
   "cell_type": "markdown",
   "metadata": {},
   "source": [
    "#### Combinando condições\n",
    "\n",
    "Podemos utilizar os operadores `&` (análogo ao `and`) e `|` (análogo ao `or`) para combinar condições de forma complexa.\n",
    "\n",
    "Vamos começar com um problema simples: criar um DataFrame com carros da `Ford` que tenham 6 cilindros."
   ]
  },
  {
   "cell_type": "code",
   "execution_count": null,
   "metadata": {
    "ExecuteTime": {
     "end_time": "2021-12-03T00:25:13.657224Z",
     "start_time": "2021-12-03T00:25:13.639247Z"
    }
   },
   "outputs": [],
   "source": [
    "print(tb_veic.columns)"
   ]
  },
  {
   "cell_type": "code",
   "execution_count": null,
   "metadata": {
    "ExecuteTime": {
     "end_time": "2021-12-03T00:25:52.937816Z",
     "start_time": "2021-12-03T00:25:52.916870Z"
    }
   },
   "outputs": [],
   "source": [
    "tb_veic['make'].value_counts()"
   ]
  },
  {
   "cell_type": "code",
   "execution_count": null,
   "metadata": {
    "ExecuteTime": {
     "end_time": "2021-12-03T00:28:29.718684Z",
     "start_time": "2021-12-03T00:28:29.702726Z"
    }
   },
   "outputs": [],
   "source": [
    "print(tb_veic['make'] == 'Ford')"
   ]
  },
  {
   "cell_type": "code",
   "execution_count": null,
   "metadata": {},
   "outputs": [],
   "source": [
    "sum(tb_veic['make'] == 'Ford')"
   ]
  },
  {
   "cell_type": "code",
   "execution_count": null,
   "metadata": {},
   "outputs": [],
   "source": [
    "sum((tb_veic['make'] == 'Ford') & (tb_veic['cylinders'] == 6))"
   ]
  },
  {
   "cell_type": "code",
   "execution_count": null,
   "metadata": {},
   "outputs": [],
   "source": [
    "mask_ford_6 = (tb_veic['make'] == 'Ford') & (tb_veic['cylinders'] == 6)\n",
    "tb_ford6 = tb_veic[mask_ford_6]\n",
    "tb_ford6.describe()"
   ]
  },
  {
   "cell_type": "markdown",
   "metadata": {},
   "source": [
    "E se quisessemos construir um DataFrame com todos os carros da Ford de 6 cilindros e todos os carros da Chevrolet de 8 cilindros?"
   ]
  },
  {
   "cell_type": "code",
   "execution_count": null,
   "metadata": {
    "ExecuteTime": {
     "end_time": "2021-12-03T00:31:14.593082Z",
     "start_time": "2021-12-03T00:31:14.543216Z"
    }
   },
   "outputs": [],
   "source": [
    "# SEU CÓDIGO AQUI"
   ]
  },
  {
   "cell_type": "markdown",
   "metadata": {},
   "source": [
    "### Criando colunas condicionais\n",
    "\n",
    "Além de ser extremamente útil para criar sub-conjuntos de dados, as máscaras também são utilizadas para criar **colunas condicionais**: colunas cujo valor é determinado a partir de condicionais sobre os valores de outras colunas.\n",
    "\n",
    "#### Utilizando `.loc`\n",
    "Vamos começar com um exemplo simples: ao invés de filtrar nossos dados, vamos criar uma coluna binária indicando se um carro é da marca Ford. A primeira forma de fazermos isto é através do atributo `.loc`."
   ]
  },
  {
   "cell_type": "code",
   "execution_count": null,
   "metadata": {},
   "outputs": [],
   "source": [
    "mask_ford = tb_veic['make'] == 'Ford'\n",
    "print(mask_ford)"
   ]
  },
  {
   "cell_type": "markdown",
   "metadata": {},
   "source": [
    "Vamos relembrar como a indexação utilizando `.loc` funciona:\n",
    "\n",
    "``` python\n",
    "data.loc[row_name, column_name]\n",
    "```\n",
    "\n",
    "Podemos passar nossa máscara como índice das linhas, no `row_name`, e podemos criar nossa coluna passando um `column_name` que ainda não existe em nosso DataFrame!"
   ]
  },
  {
   "cell_type": "code",
   "execution_count": null,
   "metadata": {
    "ExecuteTime": {
     "end_time": "2021-12-03T00:35:38.326259Z",
     "start_time": "2021-12-03T00:35:38.317283Z"
    }
   },
   "outputs": [],
   "source": [
    "tb_veic.loc[mask_ford, 'e_ford'] = 1\n",
    "tb_veic.loc[~mask_ford, 'e_ford'] = 0"
   ]
  },
  {
   "cell_type": "code",
   "execution_count": null,
   "metadata": {},
   "outputs": [],
   "source": [
    "tb_veic['e_ford'].describe()"
   ]
  },
  {
   "cell_type": "code",
   "execution_count": null,
   "metadata": {},
   "outputs": [],
   "source": [
    "tb_veic[~mask_ford].head()"
   ]
  },
  {
   "cell_type": "markdown",
   "metadata": {},
   "source": [
    "Vamos utilizar essa mesma construção para criar uma classificação de eficiência dos carros, através da coluna `city_mpg`:\n",
    "\n",
    "- Carros que fazem **menos que 15 Milhas por Galão** serão categoria **C**;\n",
    "- Carros que fazem **entre 15 e 20 Milhas por Galão** serão categoria **B**;\n",
    "- Carros que fazem **mais que 20 Milhas por Galão** serão categoria **A**.\n",
    "\n",
    "Vamos guardar o resultado dessa classificação na coluna `eff_city`."
   ]
  },
  {
   "cell_type": "code",
   "execution_count": null,
   "metadata": {},
   "outputs": [],
   "source": [
    "mask_C = tb_veic['city_mpg']  < 15\n",
    "mask_B = (tb_veic['city_mpg']  >= 15) & (tb_veic['city_mpg']  < 20)\n",
    "mask_A = tb_veic['city_mpg']  >= 20"
   ]
  },
  {
   "cell_type": "code",
   "execution_count": null,
   "metadata": {
    "ExecuteTime": {
     "end_time": "2021-12-03T00:45:30.701471Z",
     "start_time": "2021-12-03T00:45:30.673516Z"
    }
   },
   "outputs": [],
   "source": [
    "tb_veic.loc[mask_C, 'eff_city'] = 'C'\n",
    "tb_veic.loc[mask_B, 'eff_city'] = 'B'\n",
    "tb_veic.loc[mask_A, 'eff_city'] = 'A'"
   ]
  },
  {
   "cell_type": "code",
   "execution_count": null,
   "metadata": {
    "ExecuteTime": {
     "end_time": "2021-12-03T00:45:48.336648Z",
     "start_time": "2021-12-03T00:45:48.312712Z"
    }
   },
   "outputs": [],
   "source": [
    "tb_veic['eff_city'].value_counts()"
   ]
  },
  {
   "cell_type": "markdown",
   "metadata": {},
   "source": [
    "Poderíamos ter criado esta coluna de forma mais abreviada, sem inicializar variáveis para cada máscara:"
   ]
  },
  {
   "cell_type": "code",
   "execution_count": null,
   "metadata": {},
   "outputs": [],
   "source": [
    "tb_veic.loc[tb_veic['city_mpg']  < 15, 'eff_city'] = 'C'\n",
    "tb_veic.loc[(tb_veic['city_mpg']  >= 15) & (tb_veic['city_mpg']  < 20), 'eff_city'] = 'B'\n",
    "tb_veic.loc[tb_veic['city_mpg']  >= 20, 'eff_city'] = 'A'"
   ]
  },
  {
   "cell_type": "code",
   "execution_count": null,
   "metadata": {},
   "outputs": [],
   "source": [
    "tb_veic.columns"
   ]
  },
  {
   "cell_type": "markdown",
   "metadata": {},
   "source": [
    "As condições acima são **completas**, ou seja, todas as linhas de nossa tabela se enquadrarão em uma das três categorias. O que acontece quando inicializamos uma **coluna condicional** com uma máscara incompleta?\n",
    "\n",
    "Vamos entender esse comportamento criando a coluna `eff_high`, construída a partir da coluna `highway_mpg` utilizando as condições:\n",
    "\n",
    "- Carros que fazem **menos que 20 Milhas por Galão** serão categoria **C**;\n",
    "- Carros que fazem **entre 20 e 30 Milhas por Galão** serão categoria **B**.\n",
    "\n",
    "(O que está faltando para a condição ser completa?)"
   ]
  },
  {
   "cell_type": "code",
   "execution_count": null,
   "metadata": {},
   "outputs": [],
   "source": [
    "mask_C = tb_veic['highway_mpg']  < 20\n",
    "mask_B = (tb_veic['highway_mpg']  >= 20) & (tb_veic['highway_mpg']  < 30)"
   ]
  },
  {
   "cell_type": "code",
   "execution_count": null,
   "metadata": {},
   "outputs": [],
   "source": [
    "tb_veic.loc[mask_C, 'eff_high'] = 'C'\n",
    "tb_veic.loc[mask_B, 'eff_high'] = 'B'\n",
    "tb_veic.info()"
   ]
  },
  {
   "cell_type": "code",
   "execution_count": null,
   "metadata": {},
   "outputs": [],
   "source": [
    "tb_veic.loc[~mask_C & ~mask_B]"
   ]
  },
  {
   "cell_type": "markdown",
   "metadata": {},
   "source": [
    "#### Utilizando `np.where()`\n",
    "\n",
    "Além de utilizar a indexação através do `.loc`, podemos utilizar a função `np.where()` do NumPy para criar colunas condicionais. A sintaxe desta função é:\n",
    "\n",
    "`np.where(Máscara, Valor quando Máscara é Verdadeira, Valor quando False)`\n",
    "\n",
    "O `np.where()` tem uma sintáxe muito parecida com o `if/else` (para quem já usou Excel, é o próprio IF de planilhas!). Vamos começar criando uma coluna binária simples: `cyl_6`. O valor dessa coluna será `1` quando o carro tiver 6 cilindros e `0` em todos os outros casos."
   ]
  },
  {
   "cell_type": "code",
   "execution_count": null,
   "metadata": {
    "ExecuteTime": {
     "end_time": "2021-12-03T00:53:55.344869Z",
     "start_time": "2021-12-03T00:53:55.322901Z"
    }
   },
   "outputs": [],
   "source": [
    "tb_veic['cyl_6'] = np.where(tb_veic['cylinders'] == 6, 1, 0)\n",
    "tb_veic['cyl_6'].describe()"
   ]
  },
  {
   "cell_type": "markdown",
   "metadata": {},
   "source": [
    "Agora, vamos construir condições mais complexas.\n",
    "\n",
    "Primeiro, vamos utilizar duas condicionais em uma máscara para criar a coluna `cyl_6_ford`: uma marcação binária dos carros da Ford com 6 cilindros."
   ]
  },
  {
   "cell_type": "code",
   "execution_count": null,
   "metadata": {
    "ExecuteTime": {
     "end_time": "2021-12-03T00:54:58.186850Z",
     "start_time": "2021-12-03T00:54:58.153939Z"
    }
   },
   "outputs": [],
   "source": [
    "tb_veic['cyl_6_ford'] = np.where((tb_veic['make'] == 'Ford') & (tb_veic['cylinders'] == 6),\n",
    "                                 1,\n",
    "                                 0)\n",
    "print(tb_veic['cyl_6_ford'].describe())"
   ]
  },
  {
   "cell_type": "markdown",
   "metadata": {},
   "source": [
    "Agora vamos encadear condicionais para recriar a regra de eficiência na estrada, `eff_high`, a partir da coluna `highway_mpg`:\n",
    "\n",
    "- Carros que fazem **menos que 20 Milhas por Galão** serão categoria **C**;\n",
    "- Carros que fazem **entre 20 e 30 Milhas por Galão** serão categoria **B**;\n",
    "- Carros que fazem **mais que 30 Milhas por Galão** serão categoria **B**;"
   ]
  },
  {
   "cell_type": "code",
   "execution_count": null,
   "metadata": {},
   "outputs": [],
   "source": [
    "tb_veic['eff_high'] = np.where(tb_veic['highway_mpg'] < 20, 'C', np.where(tb_veic['highway_mpg'] < 30, 'B', 'A'))\n",
    "tb_veic['eff_high'].value_counts()"
   ]
  }
 ],
 "metadata": {
  "hide_input": false,
  "kernelspec": {
   "display_name": "Python 3.9.11 ('base')",
   "language": "python",
   "name": "python3"
  },
  "language_info": {
   "codemirror_mode": {
    "name": "ipython",
    "version": 3
   },
   "file_extension": ".py",
   "mimetype": "text/x-python",
   "name": "python",
   "nbconvert_exporter": "python",
   "pygments_lexer": "ipython3",
   "version": "3.9.11"
  },
  "toc": {
   "base_numbering": 1,
   "nav_menu": {},
   "number_sections": true,
   "sideBar": true,
   "skip_h1_title": false,
   "title_cell": "Table of Contents",
   "title_sidebar": "Contents",
   "toc_cell": false,
   "toc_position": {},
   "toc_section_display": true,
   "toc_window_display": false
  },
  "toc-autonumbering": true,
  "varInspector": {
   "cols": {
    "lenName": 16,
    "lenType": 16,
    "lenVar": 40
   },
   "kernels_config": {
    "python": {
     "delete_cmd_postfix": "",
     "delete_cmd_prefix": "del ",
     "library": "var_list.py",
     "varRefreshCmd": "print(var_dic_list())"
    },
    "r": {
     "delete_cmd_postfix": ") ",
     "delete_cmd_prefix": "rm(",
     "library": "var_list.r",
     "varRefreshCmd": "cat(var_dic_list()) "
    }
   },
   "types_to_exclude": [
    "module",
    "function",
    "builtin_function_or_method",
    "instance",
    "_Feature"
   ],
   "window_display": false
  },
  "vscode": {
   "interpreter": {
    "hash": "014f4a4a5af8f0104b12c029e500f4146d6d785e8cf714d2a35b7a9514230cd3"
   }
  }
 },
 "nbformat": 4,
 "nbformat_minor": 4
}
