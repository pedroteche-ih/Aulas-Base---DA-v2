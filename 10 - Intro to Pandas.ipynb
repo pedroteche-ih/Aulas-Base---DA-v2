{
 "cells": [
  {
   "cell_type": "markdown",
   "metadata": {},
   "source": [
    "# Introdução à Pandas"
   ]
  },
  {
   "cell_type": "code",
   "execution_count": 1,
   "metadata": {
    "ExecuteTime": {
     "end_time": "2020-07-30T22:55:47.291355Z",
     "start_time": "2020-07-30T22:55:47.288357Z"
    }
   },
   "outputs": [],
   "source": [
    "import numpy as np\n",
    "import pandas as pd"
   ]
  },
  {
   "cell_type": "markdown",
   "metadata": {},
   "source": [
    "## O que é Pandas?\n",
    "\n",
    "A biblioteca Pandas apresenta uma série de evoluções na utilização de `arrays` para a representação de tabelas de dados.\n",
    "\n",
    "* [Documentação](https://pandas.pydata.org/docs/reference/index.html#api)\n",
    "* [GitHub](https://github.com/pandas-dev/pandas/blob/master/pandas/core/base.py)\n",
    "\n",
    "Vamos trabalhar com **três** objetos principais, os quais **precisamos** entender:\n",
    "1. Pandas Series\n",
    "2. Pandas DataFrame\n",
    "3. Index"
   ]
  },
  {
   "cell_type": "markdown",
   "metadata": {},
   "source": [
    "## Pandas Series\n",
    "\n",
    "**O tijolo inicial da biblioteca Pandas**. A `Series` é uma classe semelhante aos **vetores** (um `array` **1-D**) - ela é um `array` indexado (misturando elementos de um `array` e um `dict`)."
   ]
  },
  {
   "cell_type": "code",
   "execution_count": 2,
   "metadata": {
    "ExecuteTime": {
     "end_time": "2021-11-30T22:57:14.238102Z",
     "start_time": "2021-11-30T22:57:14.213166Z"
    }
   },
   "outputs": [
    {
     "data": {
      "text/plain": [
       "type"
      ]
     },
     "execution_count": 2,
     "metadata": {},
     "output_type": "execute_result"
    }
   ],
   "source": [
    "type(pd.Series)"
   ]
  },
  {
   "cell_type": "code",
   "execution_count": 3,
   "metadata": {
    "ExecuteTime": {
     "end_time": "2021-11-30T22:57:23.970606Z",
     "start_time": "2021-11-30T22:57:23.951658Z"
    }
   },
   "outputs": [
    {
     "data": {
      "text/plain": [
       "pandas.core.series.Series"
      ]
     },
     "execution_count": 3,
     "metadata": {},
     "output_type": "execute_result"
    }
   ],
   "source": [
    "pd.Series"
   ]
  },
  {
   "cell_type": "markdown",
   "metadata": {},
   "source": [
    "### Criando uma `Series`\n",
    "\n",
    "Podemos inicializar uma `Series` da mesma forma que inicializamos um `array`: através de um iterável."
   ]
  },
  {
   "cell_type": "code",
   "execution_count": 6,
   "metadata": {
    "ExecuteTime": {
     "end_time": "2021-11-30T22:58:21.142491Z",
     "start_time": "2021-11-30T22:58:21.130496Z"
    }
   },
   "outputs": [
    {
     "name": "stdout",
     "output_type": "stream",
     "text": [
      "0    99\n",
      "1    22\n",
      "2     3\n",
      "3     4\n",
      "dtype: int64\n"
     ]
    }
   ],
   "source": [
    "# From a list\n",
    "values = [99, 22, 3, 4]\n",
    "series1 = pd.Series(data = values)\n",
    "print(series1)"
   ]
  },
  {
   "cell_type": "markdown",
   "metadata": {},
   "source": [
    "A série criada tem 3 elementos fundamentais:\n",
    "\n",
    "* O `Index` - [0, 1, 2, 3] que aparece à esquerda acima;\n",
    "* Os **valores** da série [1, 2, 3, 4], inicializados a partir de nossa lista;\n",
    "* O `dtype` - assim como os `arrays` as `Series` só podem conter objetos de um tipo por vez.\n",
    "\n",
    "Toda vez que criamos uma série, a Pandas criará automaticamente um índice numérico (como um `array` ou uma `list`). No entanto, assim com em um dicionário, podemos criar um índice diretamente."
   ]
  },
  {
   "cell_type": "code",
   "execution_count": 7,
   "metadata": {
    "ExecuteTime": {
     "end_time": "2021-11-30T23:43:52.325558Z",
     "start_time": "2021-11-30T23:43:52.305613Z"
    }
   },
   "outputs": [
    {
     "name": "stdout",
     "output_type": "stream",
     "text": [
      "I      99\n",
      "II     22\n",
      "III     3\n",
      "IV      4\n",
      "dtype: int64\n"
     ]
    }
   ],
   "source": [
    "nome_linhas = ['I', 'II', 'III', 'IV']\n",
    "\n",
    "series2 = pd.Series(data = values, \n",
    "                    index = nome_linhas)\n",
    "\n",
    "print(series2)"
   ]
  },
  {
   "cell_type": "markdown",
   "metadata": {},
   "source": [
    "Enquanto os **valores** da série contém apenas um tipo de objeto, o índice pode conter mútiplos tipos: no exemplo abaixo vamos criar uma série que mistura os índices de `str` e `list`:"
   ]
  },
  {
   "cell_type": "code",
   "execution_count": 8,
   "metadata": {
    "ExecuteTime": {
     "end_time": "2021-11-30T23:03:30.117843Z",
     "start_time": "2021-11-30T23:03:30.109866Z"
    }
   },
   "outputs": [
    {
     "name": "stdout",
     "output_type": "stream",
     "text": [
      "[I, II]    99\n",
      "II         22\n",
      "III         3\n",
      "IV          4\n",
      "dtype: int64\n"
     ]
    }
   ],
   "source": [
    "nome_linhas = [['I', 'II'], 'II', 'III', 'IV']\n",
    "series3 = pd.Series(data = values, \n",
    "                    index = nome_linhas)\n",
    "print(series3)"
   ]
  },
  {
   "cell_type": "markdown",
   "metadata": {},
   "source": [
    "O único requisito para os **índices** é que eles tenham o mesmo comprimento que os **valores**."
   ]
  },
  {
   "cell_type": "code",
   "execution_count": 10,
   "metadata": {},
   "outputs": [
    {
     "name": "stdout",
     "output_type": "stream",
     "text": [
      "[99, 22, 3, 4]\n",
      "4\n"
     ]
    }
   ],
   "source": [
    "print(values)\n",
    "print(len(values))"
   ]
  },
  {
   "cell_type": "code",
   "execution_count": 9,
   "metadata": {},
   "outputs": [
    {
     "ename": "ValueError",
     "evalue": "Length of values (4) does not match length of index (5)",
     "output_type": "error",
     "traceback": [
      "\u001b[0;31m---------------------------------------------------------------------------\u001b[0m",
      "\u001b[0;31mValueError\u001b[0m                                Traceback (most recent call last)",
      "Input \u001b[0;32mIn [9]\u001b[0m, in \u001b[0;36m<cell line: 2>\u001b[0;34m()\u001b[0m\n\u001b[1;32m      1\u001b[0m nome_linhas \u001b[38;5;241m=\u001b[39m [\u001b[38;5;124m'\u001b[39m\u001b[38;5;124mI\u001b[39m\u001b[38;5;124m'\u001b[39m, \u001b[38;5;124m'\u001b[39m\u001b[38;5;124mII\u001b[39m\u001b[38;5;124m'\u001b[39m, \u001b[38;5;124m'\u001b[39m\u001b[38;5;124mIII\u001b[39m\u001b[38;5;124m'\u001b[39m, \u001b[38;5;124m'\u001b[39m\u001b[38;5;124mIV\u001b[39m\u001b[38;5;124m'\u001b[39m, \u001b[38;5;124m'\u001b[39m\u001b[38;5;124mV\u001b[39m\u001b[38;5;124m'\u001b[39m]\n\u001b[0;32m----> 2\u001b[0m series4 \u001b[38;5;241m=\u001b[39m \u001b[43mpd\u001b[49m\u001b[38;5;241;43m.\u001b[39;49m\u001b[43mSeries\u001b[49m\u001b[43m(\u001b[49m\u001b[43mdata\u001b[49m\u001b[43m \u001b[49m\u001b[38;5;241;43m=\u001b[39;49m\u001b[43m \u001b[49m\u001b[43mvalues\u001b[49m\u001b[43m,\u001b[49m\u001b[43m \u001b[49m\n\u001b[1;32m      3\u001b[0m \u001b[43m                    \u001b[49m\u001b[43mindex\u001b[49m\u001b[43m \u001b[49m\u001b[38;5;241;43m=\u001b[39;49m\u001b[43m \u001b[49m\u001b[43mnome_linhas\u001b[49m\u001b[43m)\u001b[49m\n\u001b[1;32m      4\u001b[0m \u001b[38;5;28mprint\u001b[39m(series4)\n",
      "File \u001b[0;32m~/opt/anaconda3/lib/python3.9/site-packages/pandas/core/series.py:442\u001b[0m, in \u001b[0;36mSeries.__init__\u001b[0;34m(self, data, index, dtype, name, copy, fastpath)\u001b[0m\n\u001b[1;32m    440\u001b[0m     index \u001b[38;5;241m=\u001b[39m default_index(\u001b[38;5;28mlen\u001b[39m(data))\n\u001b[1;32m    441\u001b[0m \u001b[38;5;28;01melif\u001b[39;00m is_list_like(data):\n\u001b[0;32m--> 442\u001b[0m     \u001b[43mcom\u001b[49m\u001b[38;5;241;43m.\u001b[39;49m\u001b[43mrequire_length_match\u001b[49m\u001b[43m(\u001b[49m\u001b[43mdata\u001b[49m\u001b[43m,\u001b[49m\u001b[43m \u001b[49m\u001b[43mindex\u001b[49m\u001b[43m)\u001b[49m\n\u001b[1;32m    444\u001b[0m \u001b[38;5;66;03m# create/copy the manager\u001b[39;00m\n\u001b[1;32m    445\u001b[0m \u001b[38;5;28;01mif\u001b[39;00m \u001b[38;5;28misinstance\u001b[39m(data, (SingleBlockManager, SingleArrayManager)):\n",
      "File \u001b[0;32m~/opt/anaconda3/lib/python3.9/site-packages/pandas/core/common.py:557\u001b[0m, in \u001b[0;36mrequire_length_match\u001b[0;34m(data, index)\u001b[0m\n\u001b[1;32m    553\u001b[0m \u001b[38;5;124;03m\"\"\"\u001b[39;00m\n\u001b[1;32m    554\u001b[0m \u001b[38;5;124;03mCheck the length of data matches the length of the index.\u001b[39;00m\n\u001b[1;32m    555\u001b[0m \u001b[38;5;124;03m\"\"\"\u001b[39;00m\n\u001b[1;32m    556\u001b[0m \u001b[38;5;28;01mif\u001b[39;00m \u001b[38;5;28mlen\u001b[39m(data) \u001b[38;5;241m!=\u001b[39m \u001b[38;5;28mlen\u001b[39m(index):\n\u001b[0;32m--> 557\u001b[0m     \u001b[38;5;28;01mraise\u001b[39;00m \u001b[38;5;167;01mValueError\u001b[39;00m(\n\u001b[1;32m    558\u001b[0m         \u001b[38;5;124m\"\u001b[39m\u001b[38;5;124mLength of values \u001b[39m\u001b[38;5;124m\"\u001b[39m\n\u001b[1;32m    559\u001b[0m         \u001b[38;5;124mf\u001b[39m\u001b[38;5;124m\"\u001b[39m\u001b[38;5;124m(\u001b[39m\u001b[38;5;132;01m{\u001b[39;00m\u001b[38;5;28mlen\u001b[39m(data)\u001b[38;5;132;01m}\u001b[39;00m\u001b[38;5;124m) \u001b[39m\u001b[38;5;124m\"\u001b[39m\n\u001b[1;32m    560\u001b[0m         \u001b[38;5;124m\"\u001b[39m\u001b[38;5;124mdoes not match length of index \u001b[39m\u001b[38;5;124m\"\u001b[39m\n\u001b[1;32m    561\u001b[0m         \u001b[38;5;124mf\u001b[39m\u001b[38;5;124m\"\u001b[39m\u001b[38;5;124m(\u001b[39m\u001b[38;5;132;01m{\u001b[39;00m\u001b[38;5;28mlen\u001b[39m(index)\u001b[38;5;132;01m}\u001b[39;00m\u001b[38;5;124m)\u001b[39m\u001b[38;5;124m\"\u001b[39m\n\u001b[1;32m    562\u001b[0m     )\n",
      "\u001b[0;31mValueError\u001b[0m: Length of values (4) does not match length of index (5)"
     ]
    }
   ],
   "source": [
    "nome_linhas = ['I', 'II', 'III', 'IV', 'V']\n",
    "series4 = pd.Series(data = values, \n",
    "                    index = nome_linhas)\n",
    "print(series4)"
   ]
  },
  {
   "cell_type": "markdown",
   "metadata": {},
   "source": [
    "Devemos tomar cuidado ao inicializar séries desta forma: as séries não precisam ter índices únicos, o que pode levar a comportamentos estranhos:"
   ]
  },
  {
   "cell_type": "code",
   "execution_count": 12,
   "metadata": {},
   "outputs": [
    {
     "name": "stdout",
     "output_type": "stream",
     "text": [
      "I     1\n",
      "II    1\n",
      "II    1\n",
      "II    1\n",
      "dtype: int64\n"
     ]
    }
   ],
   "source": [
    "values = [1,1,1,1]\n",
    "nome_linhas = ['I', 'II', 'II', 'II']\n",
    "series5 = pd.Series(data = values, \n",
    "                    index = nome_linhas)\n",
    "print(series5)"
   ]
  },
  {
   "cell_type": "code",
   "execution_count": 13,
   "metadata": {},
   "outputs": [
    {
     "data": {
      "text/plain": [
       "array([1, 1, 1, 1])"
      ]
     },
     "execution_count": 13,
     "metadata": {},
     "output_type": "execute_result"
    }
   ],
   "source": [
    "np.array([1,1,1,1])"
   ]
  },
  {
   "cell_type": "code",
   "execution_count": 14,
   "metadata": {},
   "outputs": [],
   "source": [
    "aa = {'I' : 1, 'II' : 2, 'III' : 3}"
   ]
  },
  {
   "cell_type": "markdown",
   "metadata": {},
   "source": [
    "Assim como `arrays`, `Series` podem conter apenas um tipo de objeto. Se criarmos uma `Series` a partir de um iterável com valores mistos (por exemplo, `ints` e `lists`), a Pandas irá converter todos os objetos para um tipo genérico, chamado `object`."
   ]
  },
  {
   "cell_type": "code",
   "execution_count": 19,
   "metadata": {
    "ExecuteTime": {
     "end_time": "2021-11-30T23:01:28.646770Z",
     "start_time": "2021-11-30T23:01:28.628791Z"
    }
   },
   "outputs": [
    {
     "data": {
      "text/plain": [
       "0    1\n",
       "1    2\n",
       "2    3\n",
       "3    4\n",
       "dtype: object"
      ]
     },
     "execution_count": 19,
     "metadata": {},
     "output_type": "execute_result"
    }
   ],
   "source": [
    "pd.Series([1,2,3,'4'])"
   ]
  },
  {
   "cell_type": "markdown",
   "metadata": {},
   "source": [
    "Além de criar `Series` a partir de uma lista de valores e outra de índices, podemos especificar os dois elementos juntos através de um `dict`. Neste caso, as **chaves** do `dict` serão usadas como o índice, enquanto os **valores** serão utilizados como os valores da `Series`."
   ]
  },
  {
   "cell_type": "code",
   "execution_count": 20,
   "metadata": {
    "ExecuteTime": {
     "end_time": "2021-11-30T23:05:36.991136Z",
     "start_time": "2021-11-30T23:05:36.978169Z"
    }
   },
   "outputs": [
    {
     "name": "stdout",
     "output_type": "stream",
     "text": [
      "Titanic               7.8\n",
      "Dune                  8.2\n",
      "Dune (David Lynch)    6.4\n",
      "House of Gucci        7.0\n",
      "Joker                 8.4\n",
      "Alien                 8.4\n",
      "dtype: float64\n"
     ]
    }
   ],
   "source": [
    "# From a dict\n",
    "\n",
    "dict_notas = dict({'Titanic' : 7.8,\n",
    "                  'Dune' : 8.2,\n",
    "                  'Dune (David Lynch)' : 6.4,\n",
    "                  'House of Gucci' : 7.0,\n",
    "                  'Joker' : 8.4,\n",
    "                  'Alien' : 8.4})\n",
    "notas_imdb = pd.Series(dict_notas)\n",
    "print(notas_imdb)"
   ]
  },
  {
   "cell_type": "code",
   "execution_count": 23,
   "metadata": {},
   "outputs": [
    {
     "data": {
      "text/plain": [
       "Titanic           7.8\n",
       "Dune              8.2\n",
       "Dune (DL)         6.4\n",
       "House of Gucci    7.0\n",
       "Joker             8.4\n",
       "Alien             8.4\n",
       "dtype: float64"
      ]
     },
     "execution_count": 23,
     "metadata": {},
     "output_type": "execute_result"
    }
   ],
   "source": [
    "pd.Series(data = [7.8, 8.2, 6.4, 7.0, 8.4, 8.4],\n",
    "          index = ['Titanic', 'Dune', 'Dune (DL)', 'House of Gucci', 'Joker', 'Alien'])"
   ]
  },
  {
   "cell_type": "markdown",
   "metadata": {},
   "source": [
    "Podemos utilizar a estrutura descrita acima para criar diferentes tipos de séries: **numéricas**, como a `notas_imdb`, de **strings** ou mesmo de listas.\n",
    "\n",
    "Vamos ver como fazer isso expandindo nossos `dicts` sobre filmes:"
   ]
  },
  {
   "cell_type": "code",
   "execution_count": 24,
   "metadata": {
    "ExecuteTime": {
     "end_time": "2021-11-30T23:10:38.828731Z",
     "start_time": "2021-11-30T23:10:38.806790Z"
    }
   },
   "outputs": [
    {
     "name": "stdout",
     "output_type": "stream",
     "text": [
      "Titanic                 [Kate Winslet, Leonardo DiCaprio]\n",
      "Dune                         [Timothée Chalamet, Zendaya]\n",
      "Dune (David Lynch)                                [Sting]\n",
      "House of Gucci        [Lady Gaga, Adam Driver, Al Pacino]\n",
      "Joker                                   [Joaquin Phoenix]\n",
      "Alien                        [Sigourney Weaver, Ian Holm]\n",
      "Aliens                    [Sigourney Weaver, Paul Reiser]\n",
      "Name: elenco, dtype: object\n"
     ]
    }
   ],
   "source": [
    "dict_cast = dict({'Titanic' : ['Kate Winslet', 'Leonardo DiCaprio'],\n",
    "                  'Dune' : ['Timothée Chalamet', 'Zendaya'],\n",
    "                  'Dune (David Lynch)' : ['Sting'],\n",
    "                  'House of Gucci' : ['Lady Gaga', 'Adam Driver', 'Al Pacino'],\n",
    "                  'Joker' : ['Joaquin Phoenix'],\n",
    "                  'Alien' : ['Sigourney Weaver', 'Ian Holm'],\n",
    "                  'Aliens' : ['Sigourney Weaver', 'Paul Reiser']})\n",
    "\n",
    "elenco = pd.Series(dict_cast, name = 'elenco')\n",
    "print(elenco)"
   ]
  },
  {
   "cell_type": "code",
   "execution_count": 25,
   "metadata": {
    "ExecuteTime": {
     "end_time": "2021-11-30T23:12:43.082327Z",
     "start_time": "2021-11-30T23:12:43.062353Z"
    }
   },
   "outputs": [
    {
     "name": "stdout",
     "output_type": "stream",
     "text": [
      "Titanic                  James Cameron\n",
      "Dune                  Denis Villeneuve\n",
      "Dune (David Lynch)         David Lynch\n",
      "House of Gucci            Ridley Scott\n",
      "Joker                    Todd Phillips\n",
      "Alien                     Ridley Scott\n",
      "Aliens                   James Cameron\n",
      "Name: diretor, dtype: object\n"
     ]
    }
   ],
   "source": [
    "dict_diretor = dict({'Titanic' : 'James Cameron',\n",
    "                     'Dune' : 'Denis Villeneuve',\n",
    "                     'Dune (David Lynch)' : 'David Lynch',\n",
    "                     'House of Gucci' : 'Ridley Scott',\n",
    "                     'Joker' : 'Todd Phillips',\n",
    "                     'Alien' : 'Ridley Scott',\n",
    "                     'Aliens' : 'James Cameron'})\n",
    "diretor = pd.Series(dict_diretor, name = 'diretor')\n",
    "print(diretor)"
   ]
  },
  {
   "cell_type": "code",
   "execution_count": null,
   "metadata": {},
   "outputs": [],
   "source": []
  },
  {
   "cell_type": "markdown",
   "metadata": {},
   "source": [
    "### Some methods and attributes\n",
    "* Check Type\n",
    "* Check Size\n",
    "* `.describe()`\n",
    "* `.values`\n",
    "* `.index`"
   ]
  },
  {
   "cell_type": "code",
   "execution_count": 30,
   "metadata": {},
   "outputs": [
    {
     "data": {
      "text/plain": [
       "Titanic               7.8\n",
       "Dune                  8.2\n",
       "Dune (David Lynch)    6.4\n",
       "House of Gucci        7.0\n",
       "Joker                 8.4\n",
       "Alien                 8.4\n",
       "dtype: float64"
      ]
     },
     "execution_count": 30,
     "metadata": {},
     "output_type": "execute_result"
    }
   ],
   "source": [
    "notas_imdb"
   ]
  },
  {
   "cell_type": "code",
   "execution_count": 29,
   "metadata": {
    "ExecuteTime": {
     "end_time": "2021-11-30T23:13:18.105296Z",
     "start_time": "2021-11-30T23:13:18.099310Z"
    }
   },
   "outputs": [
    {
     "name": "stdout",
     "output_type": "stream",
     "text": [
      "<class 'pandas.core.series.Series'>\n"
     ]
    }
   ],
   "source": [
    "print(type(notas_imdb))"
   ]
  },
  {
   "cell_type": "code",
   "execution_count": 33,
   "metadata": {},
   "outputs": [
    {
     "name": "stdout",
     "output_type": "stream",
     "text": [
      "float64\n"
     ]
    }
   ],
   "source": [
    "print(notas_imdb.dtype)"
   ]
  },
  {
   "cell_type": "code",
   "execution_count": 34,
   "metadata": {},
   "outputs": [
    {
     "name": "stdout",
     "output_type": "stream",
     "text": [
      "object\n"
     ]
    }
   ],
   "source": [
    "print(elenco.dtype)"
   ]
  },
  {
   "cell_type": "markdown",
   "metadata": {},
   "source": [
    "Então, o `type` da `notas_imdb` é `pandas.Series` e o tipo dos dados dentro desta `pandas.Series` é `float64`. Quando o `dtype` de uma `Series` for `object` *em geral* o que temos é uma séries de strings.\n",
    "\n",
    "Assim como listas e arrays, séries são iteráveis: isso significa que podemos utilizar a função `len` para descobrir o comprimento de uma série."
   ]
  },
  {
   "cell_type": "code",
   "execution_count": 35,
   "metadata": {
    "ExecuteTime": {
     "end_time": "2021-11-30T23:15:00.454827Z",
     "start_time": "2021-11-30T23:15:00.446848Z"
    }
   },
   "outputs": [
    {
     "name": "stdout",
     "output_type": "stream",
     "text": [
      "6\n"
     ]
    }
   ],
   "source": [
    "print(len(notas_imdb))"
   ]
  },
  {
   "cell_type": "markdown",
   "metadata": {},
   "source": [
    "O método `.describe()` nos permite fazer uma investigação preliminar sobre o conteúdo de uma série utilizando indicadores da estatística descritiva."
   ]
  },
  {
   "cell_type": "code",
   "execution_count": 36,
   "metadata": {},
   "outputs": [
    {
     "name": "stdout",
     "output_type": "stream",
     "text": [
      "count    6.000000\n",
      "mean     7.700000\n",
      "std      0.827043\n",
      "min      6.400000\n",
      "25%      7.200000\n",
      "50%      8.000000\n",
      "75%      8.350000\n",
      "max      8.400000\n",
      "dtype: float64\n"
     ]
    }
   ],
   "source": [
    "print(notas_imdb.describe())"
   ]
  },
  {
   "cell_type": "code",
   "execution_count": 39,
   "metadata": {},
   "outputs": [
    {
     "data": {
      "text/plain": [
       "8.0"
      ]
     },
     "execution_count": 39,
     "metadata": {},
     "output_type": "execute_result"
    }
   ],
   "source": [
    "np.median(notas_imdb)"
   ]
  },
  {
   "cell_type": "markdown",
   "metadata": {},
   "source": [
    "O comportamento deste método depende do `dtype` da `Series`: para um `dtype` numérico teremos indicadores de localização (média, mediana, quartis, etc) e dispersão (desvio padrão), já para outros tipos teremos uma descrição mais simples:"
   ]
  },
  {
   "cell_type": "code",
   "execution_count": 45,
   "metadata": {},
   "outputs": [
    {
     "data": {
      "text/plain": [
       "count                                     7\n",
       "unique                                    7\n",
       "top       [Kate Winslet, Leonardo DiCaprio]\n",
       "freq                                      1\n",
       "Name: elenco, dtype: object"
      ]
     },
     "execution_count": 45,
     "metadata": {},
     "output_type": "execute_result"
    }
   ],
   "source": [
    "elenco.describe()"
   ]
  },
  {
   "cell_type": "code",
   "execution_count": 46,
   "metadata": {},
   "outputs": [
    {
     "data": {
      "text/plain": [
       "Titanic                 [Kate Winslet, Leonardo DiCaprio]\n",
       "Dune                         [Timothée Chalamet, Zendaya]\n",
       "Dune (David Lynch)                                [Sting]\n",
       "House of Gucci        [Lady Gaga, Adam Driver, Al Pacino]\n",
       "Joker                                   [Joaquin Phoenix]\n",
       "Alien                        [Sigourney Weaver, Ian Holm]\n",
       "Aliens                    [Sigourney Weaver, Paul Reiser]\n",
       "Name: elenco, dtype: object"
      ]
     },
     "execution_count": 46,
     "metadata": {},
     "output_type": "execute_result"
    }
   ],
   "source": [
    "elenco"
   ]
  },
  {
   "cell_type": "code",
   "execution_count": 38,
   "metadata": {},
   "outputs": [
    {
     "data": {
      "text/plain": [
       "Titanic                  James Cameron\n",
       "Dune                  Denis Villeneuve\n",
       "Dune (David Lynch)         David Lynch\n",
       "House of Gucci            Ridley Scott\n",
       "Joker                    Todd Phillips\n",
       "Alien                     Ridley Scott\n",
       "Aliens                   James Cameron\n",
       "Name: diretor, dtype: object"
      ]
     },
     "execution_count": 38,
     "metadata": {},
     "output_type": "execute_result"
    }
   ],
   "source": [
    "diretor"
   ]
  },
  {
   "cell_type": "markdown",
   "metadata": {},
   "source": [
    "Podemos utilizar o **atributo** `.values` para acessar os elementos de uma `Series` como um `np.array`:"
   ]
  },
  {
   "cell_type": "code",
   "execution_count": 47,
   "metadata": {
    "ExecuteTime": {
     "end_time": "2021-11-30T23:20:06.415820Z",
     "start_time": "2021-11-30T23:20:06.410837Z"
    }
   },
   "outputs": [
    {
     "name": "stdout",
     "output_type": "stream",
     "text": [
      "[7.8 8.2 6.4 7.  8.4 8.4]\n"
     ]
    }
   ],
   "source": [
    "print(notas_imdb.values)"
   ]
  },
  {
   "cell_type": "code",
   "execution_count": 48,
   "metadata": {
    "ExecuteTime": {
     "end_time": "2021-11-30T23:20:55.138274Z",
     "start_time": "2021-11-30T23:20:55.126309Z"
    }
   },
   "outputs": [
    {
     "data": {
      "text/plain": [
       "numpy.ndarray"
      ]
     },
     "execution_count": 48,
     "metadata": {},
     "output_type": "execute_result"
    }
   ],
   "source": [
    "type(notas_imdb.values)"
   ]
  },
  {
   "cell_type": "markdown",
   "metadata": {},
   "source": [
    "Por fim, podemos acessar os índices de uma `Series` através do atributo `.index`."
   ]
  },
  {
   "cell_type": "code",
   "execution_count": 49,
   "metadata": {
    "ExecuteTime": {
     "end_time": "2021-11-30T23:21:29.165995Z",
     "start_time": "2021-11-30T23:21:29.151026Z"
    }
   },
   "outputs": [
    {
     "name": "stdout",
     "output_type": "stream",
     "text": [
      "Index(['Titanic', 'Dune', 'Dune (David Lynch)', 'House of Gucci', 'Joker',\n",
      "       'Alien'],\n",
      "      dtype='object')\n"
     ]
    }
   ],
   "source": [
    "print(notas_imdb.index)"
   ]
  },
  {
   "cell_type": "markdown",
   "metadata": {},
   "source": [
    "### Indexação\n",
    "Assim como `lists` e `np.arrays`, `Series` podem ser indexadas. Vamos ver as principais maneiras de fazê-lo: primeiro relembrando a indexação de `np.arrays`, depois vendo como podemos utilizar o próprio índice da série.\n",
    "\n",
    "#### Emprestando de `np.array`!\n",
    "Podemos indexar uma `Series` como um `np.array`:\n",
    "\n",
    "Primeiro por `ints`..."
   ]
  },
  {
   "cell_type": "code",
   "execution_count": 51,
   "metadata": {},
   "outputs": [
    {
     "data": {
      "text/plain": [
       "Titanic               7.8\n",
       "Dune                  8.2\n",
       "Dune (David Lynch)    6.4\n",
       "House of Gucci        7.0\n",
       "Joker                 8.4\n",
       "Alien                 8.4\n",
       "dtype: float64"
      ]
     },
     "execution_count": 51,
     "metadata": {},
     "output_type": "execute_result"
    }
   ],
   "source": [
    "notas_imdb"
   ]
  },
  {
   "cell_type": "code",
   "execution_count": 59,
   "metadata": {},
   "outputs": [],
   "source": [
    "a = [1,2,3]"
   ]
  },
  {
   "cell_type": "code",
   "execution_count": 60,
   "metadata": {},
   "outputs": [
    {
     "data": {
      "text/plain": [
       "1"
      ]
     },
     "execution_count": 60,
     "metadata": {},
     "output_type": "execute_result"
    }
   ],
   "source": [
    "a[0]"
   ]
  },
  {
   "cell_type": "code",
   "execution_count": 61,
   "metadata": {},
   "outputs": [
    {
     "data": {
      "text/plain": [
       "[2, 3]"
      ]
     },
     "execution_count": 61,
     "metadata": {},
     "output_type": "execute_result"
    }
   ],
   "source": [
    "a[1:]"
   ]
  },
  {
   "cell_type": "code",
   "execution_count": 63,
   "metadata": {
    "ExecuteTime": {
     "end_time": "2021-11-30T23:24:05.601895Z",
     "start_time": "2021-11-30T23:24:05.582945Z"
    }
   },
   "outputs": [
    {
     "data": {
      "text/plain": [
       "7.8"
      ]
     },
     "execution_count": 63,
     "metadata": {},
     "output_type": "execute_result"
    }
   ],
   "source": [
    "notas_imdb[0]"
   ]
  },
  {
   "cell_type": "markdown",
   "metadata": {},
   "source": [
    "... depois por `slices` ..."
   ]
  },
  {
   "cell_type": "code",
   "execution_count": 52,
   "metadata": {
    "ExecuteTime": {
     "end_time": "2021-11-30T23:24:36.696750Z",
     "start_time": "2021-11-30T23:24:36.679795Z"
    }
   },
   "outputs": [
    {
     "data": {
      "text/plain": [
       "Titanic               7.8\n",
       "Dune                  8.2\n",
       "Dune (David Lynch)    6.4\n",
       "dtype: float64"
      ]
     },
     "execution_count": 52,
     "metadata": {},
     "output_type": "execute_result"
    }
   ],
   "source": [
    "notas_imdb[0:3]"
   ]
  },
  {
   "cell_type": "code",
   "execution_count": 53,
   "metadata": {
    "ExecuteTime": {
     "end_time": "2021-11-30T23:24:45.891977Z",
     "start_time": "2021-11-30T23:24:45.883998Z"
    }
   },
   "outputs": [
    {
     "data": {
      "text/plain": [
       "Dune                  8.2\n",
       "Dune (David Lynch)    6.4\n",
       "House of Gucci        7.0\n",
       "Joker                 8.4\n",
       "Alien                 8.4\n",
       "dtype: float64"
      ]
     },
     "execution_count": 53,
     "metadata": {},
     "output_type": "execute_result"
    }
   ],
   "source": [
    "notas_imdb[1:]"
   ]
  },
  {
   "cell_type": "markdown",
   "metadata": {},
   "source": [
    "... e, o mais útil de todos, por máscaras (através dos iteráveis de booleanos)!\n",
    "\n",
    "Para isso precisamos lembrar como um `np.array` (e, por extensão, uma `Series`) se comportam frente aos operadores booleanos `<`, `>`, `==`, etc..."
   ]
  },
  {
   "cell_type": "code",
   "execution_count": 64,
   "metadata": {},
   "outputs": [
    {
     "data": {
      "text/plain": [
       "Titanic               False\n",
       "Dune                  False\n",
       "Dune (David Lynch)    False\n",
       "House of Gucci        False\n",
       "Joker                  True\n",
       "Alien                  True\n",
       "dtype: bool"
      ]
     },
     "execution_count": 64,
     "metadata": {},
     "output_type": "execute_result"
    }
   ],
   "source": [
    "notas_imdb == 8.4"
   ]
  },
  {
   "cell_type": "markdown",
   "metadata": {},
   "source": [
    "O resultado é uma nova série, com o resultado da comparação booleana aplicada elemento à elemento. \n",
    "\n",
    "Agora podemos utilizar essa nova série para indexar a série original!"
   ]
  },
  {
   "cell_type": "code",
   "execution_count": 65,
   "metadata": {},
   "outputs": [
    {
     "name": "stdout",
     "output_type": "stream",
     "text": [
      "Titanic               False\n",
      "Dune                   True\n",
      "Dune (David Lynch)    False\n",
      "House of Gucci        False\n",
      "Joker                  True\n",
      "Alien                  True\n",
      "dtype: bool\n"
     ]
    }
   ],
   "source": [
    "mascara = notas_imdb > 8\n",
    "print(mascara)"
   ]
  },
  {
   "cell_type": "code",
   "execution_count": 68,
   "metadata": {},
   "outputs": [
    {
     "data": {
      "text/plain": [
       "Dune     8.2\n",
       "Joker    8.4\n",
       "dtype: float64"
      ]
     },
     "execution_count": 68,
     "metadata": {},
     "output_type": "execute_result"
    }
   ],
   "source": [
    "mascara_idiota = [False, True, False,False, True, False]\n",
    "notas_imdb[mascara_idiota]"
   ]
  },
  {
   "cell_type": "markdown",
   "metadata": {},
   "source": [
    "Também podemos fazer a comparação dentro do próprio índice:"
   ]
  },
  {
   "cell_type": "code",
   "execution_count": 66,
   "metadata": {},
   "outputs": [
    {
     "data": {
      "text/plain": [
       "Titanic               False\n",
       "Dune                   True\n",
       "Dune (David Lynch)    False\n",
       "House of Gucci        False\n",
       "Joker                  True\n",
       "Alien                  True\n",
       "dtype: bool"
      ]
     },
     "execution_count": 66,
     "metadata": {},
     "output_type": "execute_result"
    }
   ],
   "source": [
    "notas_imdb > 8"
   ]
  },
  {
   "cell_type": "code",
   "execution_count": 69,
   "metadata": {},
   "outputs": [
    {
     "data": {
      "text/plain": [
       "Dune     8.2\n",
       "Joker    8.4\n",
       "Alien    8.4\n",
       "dtype: float64"
      ]
     },
     "execution_count": 69,
     "metadata": {},
     "output_type": "execute_result"
    }
   ],
   "source": [
    "notas_imdb[notas_imdb > 8]"
   ]
  },
  {
   "cell_type": "markdown",
   "metadata": {},
   "source": [
    "#### Lembrando `dicts`!\n",
    "Podemos utilizar o índice que definimos na criação de uma série para acessar os valores associados à uma certa chave. Esse comportamento é semelhante à forma como indexamos dicionários."
   ]
  },
  {
   "cell_type": "code",
   "execution_count": 70,
   "metadata": {
    "ExecuteTime": {
     "end_time": "2021-11-30T23:25:12.312473Z",
     "start_time": "2021-11-30T23:25:12.302498Z"
    }
   },
   "outputs": [
    {
     "data": {
      "text/plain": [
       "8.2"
      ]
     },
     "execution_count": 70,
     "metadata": {},
     "output_type": "execute_result"
    }
   ],
   "source": [
    "notas_imdb['Dune']"
   ]
  },
  {
   "cell_type": "markdown",
   "metadata": {},
   "source": [
    "# 2. The Pandas DataFrame\n",
    "Um `DataFrame` da Pandas será o principal tipo que utilizaremos no restante do Bootcamp para representar tabelas de dados. Ao longo das próximas semanas iremos nos familiarizar com os métodos e atributos deste objeto, que nos permitem carregar dados, limpa-los e iniciar o processo de análise.\n",
    "\n",
    "Podemos pensar em um DataFrame de diferentes formas:\n",
    "* Uma coleção de `Series`;\n",
    "* Uma `np.array` onde as linhas e as colunas tem *nomes*;\n",
    "* Uma tabela, semelhante à uma planilha."
   ]
  },
  {
   "cell_type": "code",
   "execution_count": 71,
   "metadata": {
    "ExecuteTime": {
     "end_time": "2021-11-30T23:27:22.175187Z",
     "start_time": "2021-11-30T23:27:22.163194Z"
    }
   },
   "outputs": [
    {
     "data": {
      "text/plain": [
       "pandas.core.frame.DataFrame"
      ]
     },
     "execution_count": 71,
     "metadata": {},
     "output_type": "execute_result"
    }
   ],
   "source": [
    "pd.DataFrame"
   ]
  },
  {
   "cell_type": "code",
   "execution_count": 72,
   "metadata": {
    "ExecuteTime": {
     "end_time": "2021-11-30T23:27:35.334446Z",
     "start_time": "2021-11-30T23:27:35.323449Z"
    }
   },
   "outputs": [
    {
     "data": {
      "text/plain": [
       "type"
      ]
     },
     "execution_count": 72,
     "metadata": {},
     "output_type": "execute_result"
    }
   ],
   "source": [
    "type(pd.DataFrame)"
   ]
  },
  {
   "cell_type": "markdown",
   "metadata": {},
   "source": [
    "## Criando um DataFrame\n",
    "\n",
    "Vamos começar construindo nossos DataFrames dentro do Python, a partir de `Series`, `arrays` ou `lists` e `dicts`. Ao longo das próximas semanas aprenderemos a ler arquivos (.csv, .txt, .xlsx), acessar DBs (SQL) e mesmo extrair dados de APIs.\n",
    "\n",
    "Por enquanto, vamos construir uma tabela com os dados de filmes das nossas séries: notas do IMDB, elenco e diretor."
   ]
  },
  {
   "cell_type": "code",
   "execution_count": 80,
   "metadata": {
    "ExecuteTime": {
     "end_time": "2021-11-30T23:30:32.679065Z",
     "start_time": "2021-11-30T23:30:32.668094Z"
    }
   },
   "outputs": [
    {
     "data": {
      "text/plain": [
       "Titanic               7.8\n",
       "Dune                  8.2\n",
       "Dune (David Lynch)    6.4\n",
       "House of Gucci        7.0\n",
       "Joker                 8.4\n",
       "Alien                 8.4\n",
       "dtype: float64"
      ]
     },
     "execution_count": 80,
     "metadata": {},
     "output_type": "execute_result"
    }
   ],
   "source": [
    "notas_imdb"
   ]
  },
  {
   "cell_type": "code",
   "execution_count": 81,
   "metadata": {
    "ExecuteTime": {
     "end_time": "2021-11-30T23:30:38.793158Z",
     "start_time": "2021-11-30T23:30:38.782189Z"
    }
   },
   "outputs": [
    {
     "data": {
      "text/plain": [
       "Titanic                 [Kate Winslet, Leonardo DiCaprio]\n",
       "Dune                         [Timothée Chalamet, Zendaya]\n",
       "Dune (David Lynch)                                [Sting]\n",
       "House of Gucci        [Lady Gaga, Adam Driver, Al Pacino]\n",
       "Joker                                   [Joaquin Phoenix]\n",
       "Alien                        [Sigourney Weaver, Ian Holm]\n",
       "Aliens                    [Sigourney Weaver, Paul Reiser]\n",
       "Name: elenco, dtype: object"
      ]
     },
     "execution_count": 81,
     "metadata": {},
     "output_type": "execute_result"
    }
   ],
   "source": [
    "elenco"
   ]
  },
  {
   "cell_type": "code",
   "execution_count": 82,
   "metadata": {
    "ExecuteTime": {
     "end_time": "2021-11-30T23:30:50.387328Z",
     "start_time": "2021-11-30T23:30:50.375333Z"
    }
   },
   "outputs": [
    {
     "data": {
      "text/plain": [
       "Titanic                  James Cameron\n",
       "Dune                  Denis Villeneuve\n",
       "Dune (David Lynch)         David Lynch\n",
       "House of Gucci            Ridley Scott\n",
       "Joker                    Todd Phillips\n",
       "Alien                     Ridley Scott\n",
       "Aliens                   James Cameron\n",
       "Name: diretor, dtype: object"
      ]
     },
     "execution_count": 82,
     "metadata": {},
     "output_type": "execute_result"
    }
   ],
   "source": [
    "diretor"
   ]
  },
  {
   "cell_type": "markdown",
   "metadata": {},
   "source": [
    "---\n",
    "### `dict` de `Series`\n",
    "\n",
    "A forma mais simples de converter um conjunto de séries em um DataFrame (onde cada `Series` será uma coluna) é através de um dicionário. Vamos construir um `dict` onde as chaves serão os nomes das colunas da tabela e os valores serão as `Series` que criamos."
   ]
  },
  {
   "cell_type": "code",
   "execution_count": 85,
   "metadata": {
    "ExecuteTime": {
     "end_time": "2021-11-30T23:34:16.711370Z",
     "start_time": "2021-11-30T23:34:16.698406Z"
    }
   },
   "outputs": [
    {
     "name": "stdout",
     "output_type": "stream",
     "text": [
      "dict_keys(['notas', 'elenco', 'diretor'])\n",
      "Titanic               7.8\n",
      "Dune                  8.2\n",
      "Dune (David Lynch)    6.4\n",
      "House of Gucci        7.0\n",
      "Joker                 8.4\n",
      "Alien                 8.4\n",
      "dtype: float64\n"
     ]
    }
   ],
   "source": [
    "dict_series = {'notas' : notas_imdb,\n",
    "               'elenco' : elenco,\n",
    "               'diretor' : diretor}\n",
    "print(dict_series.keys())\n",
    "print(dict_series['notas'])"
   ]
  },
  {
   "cell_type": "markdown",
   "metadata": {},
   "source": [
    "Agora vamos utilizar o objeto `DataFrame` para inicializar nosso DataFrame."
   ]
  },
  {
   "cell_type": "code",
   "execution_count": 86,
   "metadata": {
    "ExecuteTime": {
     "end_time": "2021-11-30T23:28:42.038563Z",
     "start_time": "2021-11-30T23:28:42.017622Z"
    }
   },
   "outputs": [
    {
     "data": {
      "text/html": [
       "<div>\n",
       "<style scoped>\n",
       "    .dataframe tbody tr th:only-of-type {\n",
       "        vertical-align: middle;\n",
       "    }\n",
       "\n",
       "    .dataframe tbody tr th {\n",
       "        vertical-align: top;\n",
       "    }\n",
       "\n",
       "    .dataframe thead th {\n",
       "        text-align: right;\n",
       "    }\n",
       "</style>\n",
       "<table border=\"1\" class=\"dataframe\">\n",
       "  <thead>\n",
       "    <tr style=\"text-align: right;\">\n",
       "      <th></th>\n",
       "      <th>notas</th>\n",
       "      <th>elenco</th>\n",
       "      <th>diretor</th>\n",
       "    </tr>\n",
       "  </thead>\n",
       "  <tbody>\n",
       "    <tr>\n",
       "      <th>Alien</th>\n",
       "      <td>8.4</td>\n",
       "      <td>[Sigourney Weaver, Ian Holm]</td>\n",
       "      <td>Ridley Scott</td>\n",
       "    </tr>\n",
       "    <tr>\n",
       "      <th>Aliens</th>\n",
       "      <td>NaN</td>\n",
       "      <td>[Sigourney Weaver, Paul Reiser]</td>\n",
       "      <td>James Cameron</td>\n",
       "    </tr>\n",
       "    <tr>\n",
       "      <th>Dune</th>\n",
       "      <td>8.2</td>\n",
       "      <td>[Timothée Chalamet, Zendaya]</td>\n",
       "      <td>Denis Villeneuve</td>\n",
       "    </tr>\n",
       "    <tr>\n",
       "      <th>Dune (David Lynch)</th>\n",
       "      <td>6.4</td>\n",
       "      <td>[Sting]</td>\n",
       "      <td>David Lynch</td>\n",
       "    </tr>\n",
       "    <tr>\n",
       "      <th>House of Gucci</th>\n",
       "      <td>7.0</td>\n",
       "      <td>[Lady Gaga, Adam Driver, Al Pacino]</td>\n",
       "      <td>Ridley Scott</td>\n",
       "    </tr>\n",
       "    <tr>\n",
       "      <th>Joker</th>\n",
       "      <td>8.4</td>\n",
       "      <td>[Joaquin Phoenix]</td>\n",
       "      <td>Todd Phillips</td>\n",
       "    </tr>\n",
       "    <tr>\n",
       "      <th>Titanic</th>\n",
       "      <td>7.8</td>\n",
       "      <td>[Kate Winslet, Leonardo DiCaprio]</td>\n",
       "      <td>James Cameron</td>\n",
       "    </tr>\n",
       "  </tbody>\n",
       "</table>\n",
       "</div>"
      ],
      "text/plain": [
       "                    notas                               elenco  \\\n",
       "Alien                 8.4         [Sigourney Weaver, Ian Holm]   \n",
       "Aliens                NaN      [Sigourney Weaver, Paul Reiser]   \n",
       "Dune                  8.2         [Timothée Chalamet, Zendaya]   \n",
       "Dune (David Lynch)    6.4                              [Sting]   \n",
       "House of Gucci        7.0  [Lady Gaga, Adam Driver, Al Pacino]   \n",
       "Joker                 8.4                    [Joaquin Phoenix]   \n",
       "Titanic               7.8    [Kate Winslet, Leonardo DiCaprio]   \n",
       "\n",
       "                             diretor  \n",
       "Alien                   Ridley Scott  \n",
       "Aliens                 James Cameron  \n",
       "Dune                Denis Villeneuve  \n",
       "Dune (David Lynch)       David Lynch  \n",
       "House of Gucci          Ridley Scott  \n",
       "Joker                  Todd Phillips  \n",
       "Titanic                James Cameron  "
      ]
     },
     "execution_count": 86,
     "metadata": {},
     "output_type": "execute_result"
    }
   ],
   "source": [
    "pd.DataFrame(dict_series)"
   ]
  },
  {
   "cell_type": "markdown",
   "metadata": {},
   "source": [
    "Como podemos ver, o nosso `DataFrame` contém toda informação de nossas `Series`. A ordem dos elementos nas `Series` originais não importa neste caso: ao criar um DataFrame estamos *alinhando* as diferentes `Series` através de seu índice que neste caso é o nome do filme. \n",
    "\n",
    "**DEVEMOS TOMAR CUIDADO COM ESTE COMPORTAMENTO: PODEMOS TER ÍNDICES REPETIDOS, OU MESMO NÃO ÍNDICES RELEVANTES**, e, neste caso, o cruzamento entre séries **DEPENDERÁ DA ORDEM DOS ELEMENTOS**.\n",
    "\n",
    "Como não temos uma nota para o filme **Aliens** (Alien II), o `DataFrame` *criou* uma entrada NaN indicando que esta informação não estava disponível.\n",
    "\n",
    "---\n",
    "\n",
    "### `dict` de `dicts`\n",
    "Podemos *pular* a etapa onde transformamos os `dicts` em `Series` e construir nosso `DataFrame` a partir de um `dict` de `dicts`!"
   ]
  },
  {
   "cell_type": "code",
   "execution_count": 87,
   "metadata": {
    "ExecuteTime": {
     "end_time": "2021-11-30T23:37:48.039038Z",
     "start_time": "2021-11-30T23:37:48.030051Z"
    }
   },
   "outputs": [
    {
     "name": "stdout",
     "output_type": "stream",
     "text": [
      "{'Titanic': 7.8, 'Dune': 8.2, 'Dune (David Lynch)': 6.4, 'House of Gucci': 7.0, 'Joker': 8.4, 'Alien': 8.4}\n"
     ]
    }
   ],
   "source": [
    "print(dict_notas)"
   ]
  },
  {
   "cell_type": "code",
   "execution_count": 88,
   "metadata": {
    "ExecuteTime": {
     "end_time": "2021-11-30T23:38:55.555896Z",
     "start_time": "2021-11-30T23:38:55.550908Z"
    }
   },
   "outputs": [
    {
     "name": "stdout",
     "output_type": "stream",
     "text": [
      "{'notas': {'Titanic': 7.8, 'Dune': 8.2, 'Dune (David Lynch)': 6.4, 'House of Gucci': 7.0, 'Joker': 8.4, 'Alien': 8.4}, 'elenco': {'Titanic': ['Kate Winslet', 'Leonardo DiCaprio'], 'Dune': ['Timothée Chalamet', 'Zendaya'], 'Dune (David Lynch)': ['Sting'], 'House of Gucci': ['Lady Gaga', 'Adam Driver', 'Al Pacino'], 'Joker': ['Joaquin Phoenix'], 'Alien': ['Sigourney Weaver', 'Ian Holm'], 'Aliens': ['Sigourney Weaver', 'Paul Reiser']}, 'diretor': {'Titanic': 'James Cameron', 'Dune': 'Denis Villeneuve', 'Dune (David Lynch)': 'David Lynch', 'House of Gucci': 'Ridley Scott', 'Joker': 'Todd Phillips', 'Alien': 'Ridley Scott', 'Aliens': 'James Cameron'}}\n"
     ]
    }
   ],
   "source": [
    "dict_dicts = {'notas' : dict_notas,\n",
    "              'elenco' : dict_cast,\n",
    "              'diretor' : dict_diretor}\n",
    "print(dict_dicts)"
   ]
  },
  {
   "cell_type": "code",
   "execution_count": 89,
   "metadata": {
    "ExecuteTime": {
     "end_time": "2021-11-30T23:39:31.708288Z",
     "start_time": "2021-11-30T23:39:31.686316Z"
    }
   },
   "outputs": [
    {
     "data": {
      "text/html": [
       "<div>\n",
       "<style scoped>\n",
       "    .dataframe tbody tr th:only-of-type {\n",
       "        vertical-align: middle;\n",
       "    }\n",
       "\n",
       "    .dataframe tbody tr th {\n",
       "        vertical-align: top;\n",
       "    }\n",
       "\n",
       "    .dataframe thead th {\n",
       "        text-align: right;\n",
       "    }\n",
       "</style>\n",
       "<table border=\"1\" class=\"dataframe\">\n",
       "  <thead>\n",
       "    <tr style=\"text-align: right;\">\n",
       "      <th></th>\n",
       "      <th>notas</th>\n",
       "      <th>elenco</th>\n",
       "      <th>diretor</th>\n",
       "    </tr>\n",
       "  </thead>\n",
       "  <tbody>\n",
       "    <tr>\n",
       "      <th>Titanic</th>\n",
       "      <td>7.8</td>\n",
       "      <td>[Kate Winslet, Leonardo DiCaprio]</td>\n",
       "      <td>James Cameron</td>\n",
       "    </tr>\n",
       "    <tr>\n",
       "      <th>Dune</th>\n",
       "      <td>8.2</td>\n",
       "      <td>[Timothée Chalamet, Zendaya]</td>\n",
       "      <td>Denis Villeneuve</td>\n",
       "    </tr>\n",
       "    <tr>\n",
       "      <th>Dune (David Lynch)</th>\n",
       "      <td>6.4</td>\n",
       "      <td>[Sting]</td>\n",
       "      <td>David Lynch</td>\n",
       "    </tr>\n",
       "    <tr>\n",
       "      <th>House of Gucci</th>\n",
       "      <td>7.0</td>\n",
       "      <td>[Lady Gaga, Adam Driver, Al Pacino]</td>\n",
       "      <td>Ridley Scott</td>\n",
       "    </tr>\n",
       "    <tr>\n",
       "      <th>Joker</th>\n",
       "      <td>8.4</td>\n",
       "      <td>[Joaquin Phoenix]</td>\n",
       "      <td>Todd Phillips</td>\n",
       "    </tr>\n",
       "    <tr>\n",
       "      <th>Alien</th>\n",
       "      <td>8.4</td>\n",
       "      <td>[Sigourney Weaver, Ian Holm]</td>\n",
       "      <td>Ridley Scott</td>\n",
       "    </tr>\n",
       "    <tr>\n",
       "      <th>Aliens</th>\n",
       "      <td>NaN</td>\n",
       "      <td>[Sigourney Weaver, Paul Reiser]</td>\n",
       "      <td>James Cameron</td>\n",
       "    </tr>\n",
       "  </tbody>\n",
       "</table>\n",
       "</div>"
      ],
      "text/plain": [
       "                    notas                               elenco  \\\n",
       "Titanic               7.8    [Kate Winslet, Leonardo DiCaprio]   \n",
       "Dune                  8.2         [Timothée Chalamet, Zendaya]   \n",
       "Dune (David Lynch)    6.4                              [Sting]   \n",
       "House of Gucci        7.0  [Lady Gaga, Adam Driver, Al Pacino]   \n",
       "Joker                 8.4                    [Joaquin Phoenix]   \n",
       "Alien                 8.4         [Sigourney Weaver, Ian Holm]   \n",
       "Aliens                NaN      [Sigourney Weaver, Paul Reiser]   \n",
       "\n",
       "                             diretor  \n",
       "Titanic                James Cameron  \n",
       "Dune                Denis Villeneuve  \n",
       "Dune (David Lynch)       David Lynch  \n",
       "House of Gucci          Ridley Scott  \n",
       "Joker                  Todd Phillips  \n",
       "Alien                   Ridley Scott  \n",
       "Aliens                 James Cameron  "
      ]
     },
     "execution_count": 89,
     "metadata": {},
     "output_type": "execute_result"
    }
   ],
   "source": [
    "pd.DataFrame(dict_dicts)"
   ]
  },
  {
   "cell_type": "markdown",
   "metadata": {},
   "source": [
    "Novamente, podemos ver que o `DataFrame` criado utilizou os as chaves do dicionário para cruzar as informações de maneira correta: o filme **Aliens** foi criado com uma nota `NaN`, indicando que o Python interpretou corretamente que este filme não está presente no `dict_notas`.\n",
    "\n",
    "---\n",
    "\n",
    "### `dict` de `lists`\n",
    "\n",
    "A terceira forma que veremos hoje para criar um `DataFrame` é a partir de um `dict` de `lists`. Temos que tomar cuidado sempre que utilizarmos essa forma (e sempre que nossas séries não estejam indexadas por nomes, ids, etc...): **a ordem dos elementos em cada lista determinará o emparelhamento entre as colunas do `DataFrame`!**"
   ]
  },
  {
   "cell_type": "code",
   "execution_count": 90,
   "metadata": {
    "ExecuteTime": {
     "end_time": "2021-11-30T23:41:31.677571Z",
     "start_time": "2021-11-30T23:41:31.660619Z"
    }
   },
   "outputs": [
    {
     "data": {
      "text/plain": [
       "['James Cameron',\n",
       " 'Denis Villeneuve',\n",
       " 'David Lynch',\n",
       " 'Ridley Scott',\n",
       " 'Todd Phillips',\n",
       " 'Ridley Scott',\n",
       " 'James Cameron']"
      ]
     },
     "execution_count": 90,
     "metadata": {},
     "output_type": "execute_result"
    }
   ],
   "source": [
    "list(dict_diretor.values())"
   ]
  },
  {
   "cell_type": "code",
   "execution_count": 91,
   "metadata": {
    "ExecuteTime": {
     "end_time": "2021-11-30T23:42:01.227828Z",
     "start_time": "2021-11-30T23:42:01.209889Z"
    }
   },
   "outputs": [],
   "source": [
    "lista_notas = list(dict_notas.values())\n",
    "lista_elenco = list(dict_cast.values())\n",
    "lista_diretor = list(dict_diretor.values())"
   ]
  },
  {
   "cell_type": "code",
   "execution_count": 94,
   "metadata": {},
   "outputs": [
    {
     "data": {
      "text/plain": [
       "['James Cameron',\n",
       " 'Denis Villeneuve',\n",
       " 'David Lynch',\n",
       " 'Ridley Scott',\n",
       " 'Todd Phillips',\n",
       " 'Ridley Scott',\n",
       " 'James Cameron']"
      ]
     },
     "execution_count": 94,
     "metadata": {},
     "output_type": "execute_result"
    }
   ],
   "source": [
    "lista_diretor"
   ]
  },
  {
   "cell_type": "markdown",
   "metadata": {},
   "source": [
    "Como vimos ao longo da criação dos outros `DataFrames`, a lista de notas tem menos valores que as outras listas (ela não tem o filme **Aliens**). O que acontecerá se tentarmos criar o `DataFrame` mesmo assim? Primeiro vamos guardar nossas listas em um dicionário:"
   ]
  },
  {
   "cell_type": "code",
   "execution_count": 95,
   "metadata": {},
   "outputs": [
    {
     "ename": "ValueError",
     "evalue": "All arrays must be of the same length",
     "output_type": "error",
     "traceback": [
      "\u001b[0;31m---------------------------------------------------------------------------\u001b[0m",
      "\u001b[0;31mValueError\u001b[0m                                Traceback (most recent call last)",
      "Input \u001b[0;32mIn [95]\u001b[0m, in \u001b[0;36m<cell line: 4>\u001b[0;34m()\u001b[0m\n\u001b[1;32m      1\u001b[0m dict_listas \u001b[38;5;241m=\u001b[39m {\u001b[38;5;124m'\u001b[39m\u001b[38;5;124mnotas\u001b[39m\u001b[38;5;124m'\u001b[39m : lista_notas,\n\u001b[1;32m      2\u001b[0m                \u001b[38;5;124m'\u001b[39m\u001b[38;5;124melenco\u001b[39m\u001b[38;5;124m'\u001b[39m : lista_elenco,\n\u001b[1;32m      3\u001b[0m                \u001b[38;5;124m'\u001b[39m\u001b[38;5;124mdiretor\u001b[39m\u001b[38;5;124m'\u001b[39m : lista_diretor}\n\u001b[0;32m----> 4\u001b[0m \u001b[43mpd\u001b[49m\u001b[38;5;241;43m.\u001b[39;49m\u001b[43mDataFrame\u001b[49m\u001b[43m(\u001b[49m\u001b[43mdict_listas\u001b[49m\u001b[43m)\u001b[49m\n",
      "File \u001b[0;32m~/opt/anaconda3/lib/python3.9/site-packages/pandas/core/frame.py:636\u001b[0m, in \u001b[0;36mDataFrame.__init__\u001b[0;34m(self, data, index, columns, dtype, copy)\u001b[0m\n\u001b[1;32m    630\u001b[0m     mgr \u001b[38;5;241m=\u001b[39m \u001b[38;5;28mself\u001b[39m\u001b[38;5;241m.\u001b[39m_init_mgr(\n\u001b[1;32m    631\u001b[0m         data, axes\u001b[38;5;241m=\u001b[39m{\u001b[38;5;124m\"\u001b[39m\u001b[38;5;124mindex\u001b[39m\u001b[38;5;124m\"\u001b[39m: index, \u001b[38;5;124m\"\u001b[39m\u001b[38;5;124mcolumns\u001b[39m\u001b[38;5;124m\"\u001b[39m: columns}, dtype\u001b[38;5;241m=\u001b[39mdtype, copy\u001b[38;5;241m=\u001b[39mcopy\n\u001b[1;32m    632\u001b[0m     )\n\u001b[1;32m    634\u001b[0m \u001b[38;5;28;01melif\u001b[39;00m \u001b[38;5;28misinstance\u001b[39m(data, \u001b[38;5;28mdict\u001b[39m):\n\u001b[1;32m    635\u001b[0m     \u001b[38;5;66;03m# GH#38939 de facto copy defaults to False only in non-dict cases\u001b[39;00m\n\u001b[0;32m--> 636\u001b[0m     mgr \u001b[38;5;241m=\u001b[39m \u001b[43mdict_to_mgr\u001b[49m\u001b[43m(\u001b[49m\u001b[43mdata\u001b[49m\u001b[43m,\u001b[49m\u001b[43m \u001b[49m\u001b[43mindex\u001b[49m\u001b[43m,\u001b[49m\u001b[43m \u001b[49m\u001b[43mcolumns\u001b[49m\u001b[43m,\u001b[49m\u001b[43m \u001b[49m\u001b[43mdtype\u001b[49m\u001b[38;5;241;43m=\u001b[39;49m\u001b[43mdtype\u001b[49m\u001b[43m,\u001b[49m\u001b[43m \u001b[49m\u001b[43mcopy\u001b[49m\u001b[38;5;241;43m=\u001b[39;49m\u001b[43mcopy\u001b[49m\u001b[43m,\u001b[49m\u001b[43m \u001b[49m\u001b[43mtyp\u001b[49m\u001b[38;5;241;43m=\u001b[39;49m\u001b[43mmanager\u001b[49m\u001b[43m)\u001b[49m\n\u001b[1;32m    637\u001b[0m \u001b[38;5;28;01melif\u001b[39;00m \u001b[38;5;28misinstance\u001b[39m(data, ma\u001b[38;5;241m.\u001b[39mMaskedArray):\n\u001b[1;32m    638\u001b[0m     \u001b[38;5;28;01mimport\u001b[39;00m \u001b[38;5;21;01mnumpy\u001b[39;00m\u001b[38;5;21;01m.\u001b[39;00m\u001b[38;5;21;01mma\u001b[39;00m\u001b[38;5;21;01m.\u001b[39;00m\u001b[38;5;21;01mmrecords\u001b[39;00m \u001b[38;5;28;01mas\u001b[39;00m \u001b[38;5;21;01mmrecords\u001b[39;00m\n",
      "File \u001b[0;32m~/opt/anaconda3/lib/python3.9/site-packages/pandas/core/internals/construction.py:502\u001b[0m, in \u001b[0;36mdict_to_mgr\u001b[0;34m(data, index, columns, dtype, typ, copy)\u001b[0m\n\u001b[1;32m    494\u001b[0m     arrays \u001b[38;5;241m=\u001b[39m [\n\u001b[1;32m    495\u001b[0m         x\n\u001b[1;32m    496\u001b[0m         \u001b[38;5;28;01mif\u001b[39;00m \u001b[38;5;129;01mnot\u001b[39;00m \u001b[38;5;28mhasattr\u001b[39m(x, \u001b[38;5;124m\"\u001b[39m\u001b[38;5;124mdtype\u001b[39m\u001b[38;5;124m\"\u001b[39m) \u001b[38;5;129;01mor\u001b[39;00m \u001b[38;5;129;01mnot\u001b[39;00m \u001b[38;5;28misinstance\u001b[39m(x\u001b[38;5;241m.\u001b[39mdtype, ExtensionDtype)\n\u001b[1;32m    497\u001b[0m         \u001b[38;5;28;01melse\u001b[39;00m x\u001b[38;5;241m.\u001b[39mcopy()\n\u001b[1;32m    498\u001b[0m         \u001b[38;5;28;01mfor\u001b[39;00m x \u001b[38;5;129;01min\u001b[39;00m arrays\n\u001b[1;32m    499\u001b[0m     ]\n\u001b[1;32m    500\u001b[0m     \u001b[38;5;66;03m# TODO: can we get rid of the dt64tz special case above?\u001b[39;00m\n\u001b[0;32m--> 502\u001b[0m \u001b[38;5;28;01mreturn\u001b[39;00m \u001b[43marrays_to_mgr\u001b[49m\u001b[43m(\u001b[49m\u001b[43marrays\u001b[49m\u001b[43m,\u001b[49m\u001b[43m \u001b[49m\u001b[43mcolumns\u001b[49m\u001b[43m,\u001b[49m\u001b[43m \u001b[49m\u001b[43mindex\u001b[49m\u001b[43m,\u001b[49m\u001b[43m \u001b[49m\u001b[43mdtype\u001b[49m\u001b[38;5;241;43m=\u001b[39;49m\u001b[43mdtype\u001b[49m\u001b[43m,\u001b[49m\u001b[43m \u001b[49m\u001b[43mtyp\u001b[49m\u001b[38;5;241;43m=\u001b[39;49m\u001b[43mtyp\u001b[49m\u001b[43m,\u001b[49m\u001b[43m \u001b[49m\u001b[43mconsolidate\u001b[49m\u001b[38;5;241;43m=\u001b[39;49m\u001b[43mcopy\u001b[49m\u001b[43m)\u001b[49m\n",
      "File \u001b[0;32m~/opt/anaconda3/lib/python3.9/site-packages/pandas/core/internals/construction.py:120\u001b[0m, in \u001b[0;36marrays_to_mgr\u001b[0;34m(arrays, columns, index, dtype, verify_integrity, typ, consolidate)\u001b[0m\n\u001b[1;32m    117\u001b[0m \u001b[38;5;28;01mif\u001b[39;00m verify_integrity:\n\u001b[1;32m    118\u001b[0m     \u001b[38;5;66;03m# figure out the index, if necessary\u001b[39;00m\n\u001b[1;32m    119\u001b[0m     \u001b[38;5;28;01mif\u001b[39;00m index \u001b[38;5;129;01mis\u001b[39;00m \u001b[38;5;28;01mNone\u001b[39;00m:\n\u001b[0;32m--> 120\u001b[0m         index \u001b[38;5;241m=\u001b[39m \u001b[43m_extract_index\u001b[49m\u001b[43m(\u001b[49m\u001b[43marrays\u001b[49m\u001b[43m)\u001b[49m\n\u001b[1;32m    121\u001b[0m     \u001b[38;5;28;01melse\u001b[39;00m:\n\u001b[1;32m    122\u001b[0m         index \u001b[38;5;241m=\u001b[39m ensure_index(index)\n",
      "File \u001b[0;32m~/opt/anaconda3/lib/python3.9/site-packages/pandas/core/internals/construction.py:674\u001b[0m, in \u001b[0;36m_extract_index\u001b[0;34m(data)\u001b[0m\n\u001b[1;32m    672\u001b[0m lengths \u001b[38;5;241m=\u001b[39m \u001b[38;5;28mlist\u001b[39m(\u001b[38;5;28mset\u001b[39m(raw_lengths))\n\u001b[1;32m    673\u001b[0m \u001b[38;5;28;01mif\u001b[39;00m \u001b[38;5;28mlen\u001b[39m(lengths) \u001b[38;5;241m>\u001b[39m \u001b[38;5;241m1\u001b[39m:\n\u001b[0;32m--> 674\u001b[0m     \u001b[38;5;28;01mraise\u001b[39;00m \u001b[38;5;167;01mValueError\u001b[39;00m(\u001b[38;5;124m\"\u001b[39m\u001b[38;5;124mAll arrays must be of the same length\u001b[39m\u001b[38;5;124m\"\u001b[39m)\n\u001b[1;32m    676\u001b[0m \u001b[38;5;28;01mif\u001b[39;00m have_dicts:\n\u001b[1;32m    677\u001b[0m     \u001b[38;5;28;01mraise\u001b[39;00m \u001b[38;5;167;01mValueError\u001b[39;00m(\n\u001b[1;32m    678\u001b[0m         \u001b[38;5;124m\"\u001b[39m\u001b[38;5;124mMixing dicts with non-Series may lead to ambiguous ordering.\u001b[39m\u001b[38;5;124m\"\u001b[39m\n\u001b[1;32m    679\u001b[0m     )\n",
      "\u001b[0;31mValueError\u001b[0m: All arrays must be of the same length"
     ]
    }
   ],
   "source": [
    "dict_listas = {'notas' : lista_notas,\n",
    "               'elenco' : lista_elenco,\n",
    "               'diretor' : lista_diretor}\n",
    "pd.DataFrame(dict_listas)"
   ]
  },
  {
   "cell_type": "code",
   "execution_count": 98,
   "metadata": {},
   "outputs": [
    {
     "data": {
      "text/plain": [
       "[7.8, 8.2, 6.4, 7.0, 8.4, 8.4]"
      ]
     },
     "execution_count": 98,
     "metadata": {},
     "output_type": "execute_result"
    }
   ],
   "source": [
    "lista_notas"
   ]
  },
  {
   "cell_type": "code",
   "execution_count": 99,
   "metadata": {},
   "outputs": [
    {
     "data": {
      "text/plain": [
       "[['Kate Winslet', 'Leonardo DiCaprio'],\n",
       " ['Timothée Chalamet', 'Zendaya'],\n",
       " ['Sting'],\n",
       " ['Lady Gaga', 'Adam Driver', 'Al Pacino'],\n",
       " ['Joaquin Phoenix'],\n",
       " ['Sigourney Weaver', 'Ian Holm'],\n",
       " ['Sigourney Weaver', 'Paul Reiser']]"
      ]
     },
     "execution_count": 99,
     "metadata": {},
     "output_type": "execute_result"
    }
   ],
   "source": [
    "lista_elenco"
   ]
  },
  {
   "cell_type": "markdown",
   "metadata": {},
   "source": [
    "O `ValueError` nos explica que para criar um `DataFrame` a partir de listas estas precisam ter o mesmo número de elementos. Vamos usar um slice para igualar o tamanho das listas e criar nosso DataFrame e compara-lo ao criado utilizando o `dict` de séries:"
   ]
  },
  {
   "cell_type": "code",
   "execution_count": 96,
   "metadata": {
    "ExecuteTime": {
     "end_time": "2021-11-30T23:47:25.800427Z",
     "start_time": "2021-11-30T23:47:25.774508Z"
    }
   },
   "outputs": [
    {
     "data": {
      "text/html": [
       "<div>\n",
       "<style scoped>\n",
       "    .dataframe tbody tr th:only-of-type {\n",
       "        vertical-align: middle;\n",
       "    }\n",
       "\n",
       "    .dataframe tbody tr th {\n",
       "        vertical-align: top;\n",
       "    }\n",
       "\n",
       "    .dataframe thead th {\n",
       "        text-align: right;\n",
       "    }\n",
       "</style>\n",
       "<table border=\"1\" class=\"dataframe\">\n",
       "  <thead>\n",
       "    <tr style=\"text-align: right;\">\n",
       "      <th></th>\n",
       "      <th>notas</th>\n",
       "      <th>elenco</th>\n",
       "      <th>diretor</th>\n",
       "    </tr>\n",
       "  </thead>\n",
       "  <tbody>\n",
       "    <tr>\n",
       "      <th>0</th>\n",
       "      <td>7.8</td>\n",
       "      <td>[Timothée Chalamet, Zendaya]</td>\n",
       "      <td>Denis Villeneuve</td>\n",
       "    </tr>\n",
       "    <tr>\n",
       "      <th>1</th>\n",
       "      <td>8.2</td>\n",
       "      <td>[Sting]</td>\n",
       "      <td>David Lynch</td>\n",
       "    </tr>\n",
       "    <tr>\n",
       "      <th>2</th>\n",
       "      <td>6.4</td>\n",
       "      <td>[Lady Gaga, Adam Driver, Al Pacino]</td>\n",
       "      <td>Ridley Scott</td>\n",
       "    </tr>\n",
       "    <tr>\n",
       "      <th>3</th>\n",
       "      <td>7.0</td>\n",
       "      <td>[Joaquin Phoenix]</td>\n",
       "      <td>Todd Phillips</td>\n",
       "    </tr>\n",
       "    <tr>\n",
       "      <th>4</th>\n",
       "      <td>8.4</td>\n",
       "      <td>[Sigourney Weaver, Ian Holm]</td>\n",
       "      <td>Ridley Scott</td>\n",
       "    </tr>\n",
       "    <tr>\n",
       "      <th>5</th>\n",
       "      <td>8.4</td>\n",
       "      <td>[Sigourney Weaver, Paul Reiser]</td>\n",
       "      <td>James Cameron</td>\n",
       "    </tr>\n",
       "  </tbody>\n",
       "</table>\n",
       "</div>"
      ],
      "text/plain": [
       "   notas                               elenco           diretor\n",
       "0    7.8         [Timothée Chalamet, Zendaya]  Denis Villeneuve\n",
       "1    8.2                              [Sting]       David Lynch\n",
       "2    6.4  [Lady Gaga, Adam Driver, Al Pacino]      Ridley Scott\n",
       "3    7.0                    [Joaquin Phoenix]     Todd Phillips\n",
       "4    8.4         [Sigourney Weaver, Ian Holm]      Ridley Scott\n",
       "5    8.4      [Sigourney Weaver, Paul Reiser]     James Cameron"
      ]
     },
     "execution_count": 96,
     "metadata": {},
     "output_type": "execute_result"
    }
   ],
   "source": [
    "dict_listas = {'notas' : lista_notas,\n",
    "               'elenco' : lista_elenco[1:],\n",
    "               'diretor' : lista_diretor[1:]}\n",
    "pd.DataFrame(dict_listas)"
   ]
  },
  {
   "cell_type": "code",
   "execution_count": 97,
   "metadata": {},
   "outputs": [
    {
     "data": {
      "text/html": [
       "<div>\n",
       "<style scoped>\n",
       "    .dataframe tbody tr th:only-of-type {\n",
       "        vertical-align: middle;\n",
       "    }\n",
       "\n",
       "    .dataframe tbody tr th {\n",
       "        vertical-align: top;\n",
       "    }\n",
       "\n",
       "    .dataframe thead th {\n",
       "        text-align: right;\n",
       "    }\n",
       "</style>\n",
       "<table border=\"1\" class=\"dataframe\">\n",
       "  <thead>\n",
       "    <tr style=\"text-align: right;\">\n",
       "      <th></th>\n",
       "      <th>notas</th>\n",
       "      <th>elenco</th>\n",
       "      <th>diretor</th>\n",
       "    </tr>\n",
       "  </thead>\n",
       "  <tbody>\n",
       "    <tr>\n",
       "      <th>Alien</th>\n",
       "      <td>8.4</td>\n",
       "      <td>[Sigourney Weaver, Ian Holm]</td>\n",
       "      <td>Ridley Scott</td>\n",
       "    </tr>\n",
       "    <tr>\n",
       "      <th>Aliens</th>\n",
       "      <td>NaN</td>\n",
       "      <td>[Sigourney Weaver, Paul Reiser]</td>\n",
       "      <td>James Cameron</td>\n",
       "    </tr>\n",
       "    <tr>\n",
       "      <th>Dune</th>\n",
       "      <td>8.2</td>\n",
       "      <td>[Timothée Chalamet, Zendaya]</td>\n",
       "      <td>Denis Villeneuve</td>\n",
       "    </tr>\n",
       "    <tr>\n",
       "      <th>Dune (David Lynch)</th>\n",
       "      <td>6.4</td>\n",
       "      <td>[Sting]</td>\n",
       "      <td>David Lynch</td>\n",
       "    </tr>\n",
       "    <tr>\n",
       "      <th>House of Gucci</th>\n",
       "      <td>7.0</td>\n",
       "      <td>[Lady Gaga, Adam Driver, Al Pacino]</td>\n",
       "      <td>Ridley Scott</td>\n",
       "    </tr>\n",
       "    <tr>\n",
       "      <th>Joker</th>\n",
       "      <td>8.4</td>\n",
       "      <td>[Joaquin Phoenix]</td>\n",
       "      <td>Todd Phillips</td>\n",
       "    </tr>\n",
       "    <tr>\n",
       "      <th>Titanic</th>\n",
       "      <td>7.8</td>\n",
       "      <td>[Kate Winslet, Leonardo DiCaprio]</td>\n",
       "      <td>James Cameron</td>\n",
       "    </tr>\n",
       "  </tbody>\n",
       "</table>\n",
       "</div>"
      ],
      "text/plain": [
       "                    notas                               elenco  \\\n",
       "Alien                 8.4         [Sigourney Weaver, Ian Holm]   \n",
       "Aliens                NaN      [Sigourney Weaver, Paul Reiser]   \n",
       "Dune                  8.2         [Timothée Chalamet, Zendaya]   \n",
       "Dune (David Lynch)    6.4                              [Sting]   \n",
       "House of Gucci        7.0  [Lady Gaga, Adam Driver, Al Pacino]   \n",
       "Joker                 8.4                    [Joaquin Phoenix]   \n",
       "Titanic               7.8    [Kate Winslet, Leonardo DiCaprio]   \n",
       "\n",
       "                             diretor  \n",
       "Alien                   Ridley Scott  \n",
       "Aliens                 James Cameron  \n",
       "Dune                Denis Villeneuve  \n",
       "Dune (David Lynch)       David Lynch  \n",
       "House of Gucci          Ridley Scott  \n",
       "Joker                  Todd Phillips  \n",
       "Titanic                James Cameron  "
      ]
     },
     "execution_count": 97,
     "metadata": {},
     "output_type": "execute_result"
    }
   ],
   "source": [
    "pd.DataFrame(dict_series)"
   ]
  },
  {
   "cell_type": "markdown",
   "metadata": {},
   "source": [
    "Como a construção do `DataFrame` não tem mais o índice das `Series` ou `dicts` não conseguimos mais cruzar as informações corretamente: ao utilizar a ordem das informações como índice (indexação inteira), não temos a estrutura original - as notas estão todas deslocadas!"
   ]
  },
  {
   "cell_type": "markdown",
   "metadata": {},
   "source": [
    "## Métodos e atributos\n",
    "Nesta seção veremos alguns métodos e atributos utéis dos `DataFrames`:\n",
    "\n",
    "* `.describe()`\n",
    "* `.info()`\n",
    "* `.shape`\n",
    "* `.columns`\n",
    "\n",
    "Primeiro, vamos guardar o nosso `DataFrame` correto (criado a partir do `dict` de `Series` ou de `dicts`)."
   ]
  },
  {
   "cell_type": "code",
   "execution_count": 101,
   "metadata": {
    "ExecuteTime": {
     "end_time": "2021-11-30T23:50:54.698979Z",
     "start_time": "2021-11-30T23:50:54.680003Z"
    }
   },
   "outputs": [
    {
     "data": {
      "text/html": [
       "<div>\n",
       "<style scoped>\n",
       "    .dataframe tbody tr th:only-of-type {\n",
       "        vertical-align: middle;\n",
       "    }\n",
       "\n",
       "    .dataframe tbody tr th {\n",
       "        vertical-align: top;\n",
       "    }\n",
       "\n",
       "    .dataframe thead th {\n",
       "        text-align: right;\n",
       "    }\n",
       "</style>\n",
       "<table border=\"1\" class=\"dataframe\">\n",
       "  <thead>\n",
       "    <tr style=\"text-align: right;\">\n",
       "      <th></th>\n",
       "      <th>notas</th>\n",
       "      <th>elenco</th>\n",
       "      <th>diretor</th>\n",
       "    </tr>\n",
       "  </thead>\n",
       "  <tbody>\n",
       "    <tr>\n",
       "      <th>Alien</th>\n",
       "      <td>8.4</td>\n",
       "      <td>[Sigourney Weaver, Ian Holm]</td>\n",
       "      <td>Ridley Scott</td>\n",
       "    </tr>\n",
       "    <tr>\n",
       "      <th>Aliens</th>\n",
       "      <td>NaN</td>\n",
       "      <td>[Sigourney Weaver, Paul Reiser]</td>\n",
       "      <td>James Cameron</td>\n",
       "    </tr>\n",
       "    <tr>\n",
       "      <th>Dune</th>\n",
       "      <td>8.2</td>\n",
       "      <td>[Timothée Chalamet, Zendaya]</td>\n",
       "      <td>Denis Villeneuve</td>\n",
       "    </tr>\n",
       "    <tr>\n",
       "      <th>Dune (David Lynch)</th>\n",
       "      <td>6.4</td>\n",
       "      <td>[Sting]</td>\n",
       "      <td>David Lynch</td>\n",
       "    </tr>\n",
       "    <tr>\n",
       "      <th>House of Gucci</th>\n",
       "      <td>7.0</td>\n",
       "      <td>[Lady Gaga, Adam Driver, Al Pacino]</td>\n",
       "      <td>Ridley Scott</td>\n",
       "    </tr>\n",
       "    <tr>\n",
       "      <th>Joker</th>\n",
       "      <td>8.4</td>\n",
       "      <td>[Joaquin Phoenix]</td>\n",
       "      <td>Todd Phillips</td>\n",
       "    </tr>\n",
       "    <tr>\n",
       "      <th>Titanic</th>\n",
       "      <td>7.8</td>\n",
       "      <td>[Kate Winslet, Leonardo DiCaprio]</td>\n",
       "      <td>James Cameron</td>\n",
       "    </tr>\n",
       "  </tbody>\n",
       "</table>\n",
       "</div>"
      ],
      "text/plain": [
       "                    notas                               elenco  \\\n",
       "Alien                 8.4         [Sigourney Weaver, Ian Holm]   \n",
       "Aliens                NaN      [Sigourney Weaver, Paul Reiser]   \n",
       "Dune                  8.2         [Timothée Chalamet, Zendaya]   \n",
       "Dune (David Lynch)    6.4                              [Sting]   \n",
       "House of Gucci        7.0  [Lady Gaga, Adam Driver, Al Pacino]   \n",
       "Joker                 8.4                    [Joaquin Phoenix]   \n",
       "Titanic               7.8    [Kate Winslet, Leonardo DiCaprio]   \n",
       "\n",
       "                             diretor  \n",
       "Alien                   Ridley Scott  \n",
       "Aliens                 James Cameron  \n",
       "Dune                Denis Villeneuve  \n",
       "Dune (David Lynch)       David Lynch  \n",
       "House of Gucci          Ridley Scott  \n",
       "Joker                  Todd Phillips  \n",
       "Titanic                James Cameron  "
      ]
     },
     "execution_count": 101,
     "metadata": {},
     "output_type": "execute_result"
    }
   ],
   "source": [
    "tb_filmes = pd.DataFrame(dict_series)\n",
    "tb_filmes"
   ]
  },
  {
   "cell_type": "code",
   "execution_count": 102,
   "metadata": {},
   "outputs": [
    {
     "data": {
      "text/plain": [
       "pandas.core.frame.DataFrame"
      ]
     },
     "execution_count": 102,
     "metadata": {},
     "output_type": "execute_result"
    }
   ],
   "source": [
    "type(tb_filmes)"
   ]
  },
  {
   "cell_type": "markdown",
   "metadata": {},
   "source": [
    "O método `.describe()` é semelhante ao método `.describe()` das `Series`: agora, no entanto, ele retorna as estatisticas descritivas de todas as colunas numéricas de nosso `DataFrame`"
   ]
  },
  {
   "cell_type": "code",
   "execution_count": 106,
   "metadata": {},
   "outputs": [
    {
     "data": {
      "text/html": [
       "<div>\n",
       "<style scoped>\n",
       "    .dataframe tbody tr th:only-of-type {\n",
       "        vertical-align: middle;\n",
       "    }\n",
       "\n",
       "    .dataframe tbody tr th {\n",
       "        vertical-align: top;\n",
       "    }\n",
       "\n",
       "    .dataframe thead th {\n",
       "        text-align: right;\n",
       "    }\n",
       "</style>\n",
       "<table border=\"1\" class=\"dataframe\">\n",
       "  <thead>\n",
       "    <tr style=\"text-align: right;\">\n",
       "      <th></th>\n",
       "      <th>notas</th>\n",
       "      <th>elenco</th>\n",
       "      <th>diretor</th>\n",
       "      <th>aleato</th>\n",
       "    </tr>\n",
       "  </thead>\n",
       "  <tbody>\n",
       "    <tr>\n",
       "      <th>Alien</th>\n",
       "      <td>8.4</td>\n",
       "      <td>[Sigourney Weaver, Ian Holm]</td>\n",
       "      <td>Ridley Scott</td>\n",
       "      <td>84.0</td>\n",
       "    </tr>\n",
       "    <tr>\n",
       "      <th>Aliens</th>\n",
       "      <td>NaN</td>\n",
       "      <td>[Sigourney Weaver, Paul Reiser]</td>\n",
       "      <td>James Cameron</td>\n",
       "      <td>NaN</td>\n",
       "    </tr>\n",
       "    <tr>\n",
       "      <th>Dune</th>\n",
       "      <td>8.2</td>\n",
       "      <td>[Timothée Chalamet, Zendaya]</td>\n",
       "      <td>Denis Villeneuve</td>\n",
       "      <td>82.0</td>\n",
       "    </tr>\n",
       "    <tr>\n",
       "      <th>Dune (David Lynch)</th>\n",
       "      <td>6.4</td>\n",
       "      <td>[Sting]</td>\n",
       "      <td>David Lynch</td>\n",
       "      <td>64.0</td>\n",
       "    </tr>\n",
       "    <tr>\n",
       "      <th>House of Gucci</th>\n",
       "      <td>7.0</td>\n",
       "      <td>[Lady Gaga, Adam Driver, Al Pacino]</td>\n",
       "      <td>Ridley Scott</td>\n",
       "      <td>70.0</td>\n",
       "    </tr>\n",
       "    <tr>\n",
       "      <th>Joker</th>\n",
       "      <td>8.4</td>\n",
       "      <td>[Joaquin Phoenix]</td>\n",
       "      <td>Todd Phillips</td>\n",
       "      <td>84.0</td>\n",
       "    </tr>\n",
       "    <tr>\n",
       "      <th>Titanic</th>\n",
       "      <td>7.8</td>\n",
       "      <td>[Kate Winslet, Leonardo DiCaprio]</td>\n",
       "      <td>James Cameron</td>\n",
       "      <td>78.0</td>\n",
       "    </tr>\n",
       "  </tbody>\n",
       "</table>\n",
       "</div>"
      ],
      "text/plain": [
       "                    notas                               elenco  \\\n",
       "Alien                 8.4         [Sigourney Weaver, Ian Holm]   \n",
       "Aliens                NaN      [Sigourney Weaver, Paul Reiser]   \n",
       "Dune                  8.2         [Timothée Chalamet, Zendaya]   \n",
       "Dune (David Lynch)    6.4                              [Sting]   \n",
       "House of Gucci        7.0  [Lady Gaga, Adam Driver, Al Pacino]   \n",
       "Joker                 8.4                    [Joaquin Phoenix]   \n",
       "Titanic               7.8    [Kate Winslet, Leonardo DiCaprio]   \n",
       "\n",
       "                             diretor  aleato  \n",
       "Alien                   Ridley Scott    84.0  \n",
       "Aliens                 James Cameron     NaN  \n",
       "Dune                Denis Villeneuve    82.0  \n",
       "Dune (David Lynch)       David Lynch    64.0  \n",
       "House of Gucci          Ridley Scott    70.0  \n",
       "Joker                  Todd Phillips    84.0  \n",
       "Titanic                James Cameron    78.0  "
      ]
     },
     "execution_count": 106,
     "metadata": {},
     "output_type": "execute_result"
    }
   ],
   "source": [
    "tb_filmes"
   ]
  },
  {
   "cell_type": "code",
   "execution_count": 105,
   "metadata": {
    "ExecuteTime": {
     "end_time": "2021-11-30T23:50:57.727285Z",
     "start_time": "2021-11-30T23:50:57.706215Z"
    }
   },
   "outputs": [
    {
     "data": {
      "text/html": [
       "<div>\n",
       "<style scoped>\n",
       "    .dataframe tbody tr th:only-of-type {\n",
       "        vertical-align: middle;\n",
       "    }\n",
       "\n",
       "    .dataframe tbody tr th {\n",
       "        vertical-align: top;\n",
       "    }\n",
       "\n",
       "    .dataframe thead th {\n",
       "        text-align: right;\n",
       "    }\n",
       "</style>\n",
       "<table border=\"1\" class=\"dataframe\">\n",
       "  <thead>\n",
       "    <tr style=\"text-align: right;\">\n",
       "      <th></th>\n",
       "      <th>notas</th>\n",
       "      <th>aleato</th>\n",
       "    </tr>\n",
       "  </thead>\n",
       "  <tbody>\n",
       "    <tr>\n",
       "      <th>count</th>\n",
       "      <td>6.000000</td>\n",
       "      <td>6.000000</td>\n",
       "    </tr>\n",
       "    <tr>\n",
       "      <th>mean</th>\n",
       "      <td>7.700000</td>\n",
       "      <td>77.000000</td>\n",
       "    </tr>\n",
       "    <tr>\n",
       "      <th>std</th>\n",
       "      <td>0.827043</td>\n",
       "      <td>8.270429</td>\n",
       "    </tr>\n",
       "    <tr>\n",
       "      <th>min</th>\n",
       "      <td>6.400000</td>\n",
       "      <td>64.000000</td>\n",
       "    </tr>\n",
       "    <tr>\n",
       "      <th>25%</th>\n",
       "      <td>7.200000</td>\n",
       "      <td>72.000000</td>\n",
       "    </tr>\n",
       "    <tr>\n",
       "      <th>50%</th>\n",
       "      <td>8.000000</td>\n",
       "      <td>80.000000</td>\n",
       "    </tr>\n",
       "    <tr>\n",
       "      <th>75%</th>\n",
       "      <td>8.350000</td>\n",
       "      <td>83.500000</td>\n",
       "    </tr>\n",
       "    <tr>\n",
       "      <th>max</th>\n",
       "      <td>8.400000</td>\n",
       "      <td>84.000000</td>\n",
       "    </tr>\n",
       "  </tbody>\n",
       "</table>\n",
       "</div>"
      ],
      "text/plain": [
       "          notas     aleato\n",
       "count  6.000000   6.000000\n",
       "mean   7.700000  77.000000\n",
       "std    0.827043   8.270429\n",
       "min    6.400000  64.000000\n",
       "25%    7.200000  72.000000\n",
       "50%    8.000000  80.000000\n",
       "75%    8.350000  83.500000\n",
       "max    8.400000  84.000000"
      ]
     },
     "execution_count": 105,
     "metadata": {},
     "output_type": "execute_result"
    }
   ],
   "source": [
    "tb_filmes.describe()"
   ]
  },
  {
   "cell_type": "markdown",
   "metadata": {},
   "source": [
    "O método `.info()` nos retorna uma série de informações úteis sobre o nosso `DataFrame`:\n",
    "\n",
    "* Nome das Colunas;\n",
    "* Número de Linhas;\n",
    "* Qtd. de valores nulos;\n",
    "* Tipos das colunas."
   ]
  },
  {
   "cell_type": "code",
   "execution_count": 107,
   "metadata": {
    "ExecuteTime": {
     "end_time": "2021-11-30T23:51:29.405609Z",
     "start_time": "2021-11-30T23:51:29.383667Z"
    }
   },
   "outputs": [
    {
     "name": "stdout",
     "output_type": "stream",
     "text": [
      "<class 'pandas.core.frame.DataFrame'>\n",
      "Index: 7 entries, Alien to Titanic\n",
      "Data columns (total 4 columns):\n",
      " #   Column   Non-Null Count  Dtype  \n",
      "---  ------   --------------  -----  \n",
      " 0   notas    6 non-null      float64\n",
      " 1   elenco   7 non-null      object \n",
      " 2   diretor  7 non-null      object \n",
      " 3   aleato   6 non-null      float64\n",
      "dtypes: float64(2), object(2)\n",
      "memory usage: 280.0+ bytes\n"
     ]
    }
   ],
   "source": [
    "tb_filmes.info()"
   ]
  },
  {
   "cell_type": "markdown",
   "metadata": {},
   "source": [
    "O atributo `.columns` nos permite ver os nomes das colunas de um `DataFrame` através de um iterável:"
   ]
  },
  {
   "cell_type": "code",
   "execution_count": 108,
   "metadata": {},
   "outputs": [
    {
     "data": {
      "text/plain": [
       "Index(['notas', 'elenco', 'diretor', 'aleato'], dtype='object')"
      ]
     },
     "execution_count": 108,
     "metadata": {},
     "output_type": "execute_result"
    }
   ],
   "source": [
    "tb_filmes.columns"
   ]
  },
  {
   "cell_type": "markdown",
   "metadata": {},
   "source": [
    "Por fim o atributo `.index` nos permite acessar os índices das linhas de um `DataFrame`:"
   ]
  },
  {
   "cell_type": "code",
   "execution_count": 109,
   "metadata": {},
   "outputs": [
    {
     "data": {
      "text/plain": [
       "Index(['Alien', 'Aliens', 'Dune', 'Dune (David Lynch)', 'House of Gucci',\n",
       "       'Joker', 'Titanic'],\n",
       "      dtype='object')"
      ]
     },
     "execution_count": 109,
     "metadata": {},
     "output_type": "execute_result"
    }
   ],
   "source": [
    "tb_filmes.index"
   ]
  },
  {
   "cell_type": "code",
   "execution_count": 125,
   "metadata": {},
   "outputs": [],
   "source": [
    "a = print"
   ]
  },
  {
   "cell_type": "code",
   "execution_count": 126,
   "metadata": {},
   "outputs": [
    {
     "name": "stdout",
     "output_type": "stream",
     "text": [
      "\n"
     ]
    }
   ],
   "source": [
    "a()"
   ]
  },
  {
   "cell_type": "code",
   "execution_count": 116,
   "metadata": {},
   "outputs": [],
   "source": [
    "lucas = dict()\n",
    "lucas['nome'] = 'Lucas'\n",
    "lucas['prof'] = 'Eng.'"
   ]
  },
  {
   "cell_type": "code",
   "execution_count": 118,
   "metadata": {},
   "outputs": [],
   "source": [
    "alunos['Lucas'] = lucas"
   ]
  },
  {
   "cell_type": "markdown",
   "metadata": {},
   "source": [
    "## Indexando `DataFrames`\n",
    "\n",
    "`DataFrames` são muito parecidas com `np.arrays` de 2D: temos dois índices, um para as linhas outro para as colunas. Vamos começar vendo como acessar um (ou mais) colunas de um `DataFrame` primeiro.\n",
    "\n",
    "### Selecionado Colunas\n",
    "Para acessar uma coluna de um `DataFrame` podemos utilizar a indexação simples `['nome_da_coluna']` para extrair uma coluna só ou utilizar um iterável com os nomes das colunas para extrair mais que uma coluna. Vamos ver isso na prática:"
   ]
  },
  {
   "cell_type": "code",
   "execution_count": 129,
   "metadata": {},
   "outputs": [
    {
     "data": {
      "text/plain": [
       "pandas.core.series.Series"
      ]
     },
     "execution_count": 129,
     "metadata": {},
     "output_type": "execute_result"
    }
   ],
   "source": [
    "type(tb_filmes['notas'])"
   ]
  },
  {
   "cell_type": "markdown",
   "metadata": {},
   "source": [
    "Podemos criar uma `list` (um iterável) com nomes de colunas e utiliza-la para indexar o `DataFrame`. O resultado será outro `DataFrame` com todas as colunas nomeadas na lista:"
   ]
  },
  {
   "cell_type": "code",
   "execution_count": 130,
   "metadata": {},
   "outputs": [
    {
     "data": {
      "text/plain": [
       "pandas.core.frame.DataFrame"
      ]
     },
     "execution_count": 130,
     "metadata": {},
     "output_type": "execute_result"
    }
   ],
   "source": [
    "lista_colunas = ['notas', 'diretor']\n",
    "tb_filmes[lista_colunas]"
   ]
  },
  {
   "cell_type": "markdown",
   "metadata": {},
   "source": [
    "Muitas vezes vemos esse filtro feito de forma implicita:"
   ]
  },
  {
   "cell_type": "code",
   "execution_count": 131,
   "metadata": {},
   "outputs": [
    {
     "data": {
      "text/html": [
       "<div>\n",
       "<style scoped>\n",
       "    .dataframe tbody tr th:only-of-type {\n",
       "        vertical-align: middle;\n",
       "    }\n",
       "\n",
       "    .dataframe tbody tr th {\n",
       "        vertical-align: top;\n",
       "    }\n",
       "\n",
       "    .dataframe thead th {\n",
       "        text-align: right;\n",
       "    }\n",
       "</style>\n",
       "<table border=\"1\" class=\"dataframe\">\n",
       "  <thead>\n",
       "    <tr style=\"text-align: right;\">\n",
       "      <th></th>\n",
       "      <th>notas</th>\n",
       "      <th>diretor</th>\n",
       "    </tr>\n",
       "  </thead>\n",
       "  <tbody>\n",
       "    <tr>\n",
       "      <th>Alien</th>\n",
       "      <td>8.4</td>\n",
       "      <td>Ridley Scott</td>\n",
       "    </tr>\n",
       "    <tr>\n",
       "      <th>Aliens</th>\n",
       "      <td>NaN</td>\n",
       "      <td>James Cameron</td>\n",
       "    </tr>\n",
       "    <tr>\n",
       "      <th>Dune</th>\n",
       "      <td>8.2</td>\n",
       "      <td>Denis Villeneuve</td>\n",
       "    </tr>\n",
       "    <tr>\n",
       "      <th>Dune (David Lynch)</th>\n",
       "      <td>6.4</td>\n",
       "      <td>David Lynch</td>\n",
       "    </tr>\n",
       "    <tr>\n",
       "      <th>House of Gucci</th>\n",
       "      <td>7.0</td>\n",
       "      <td>Ridley Scott</td>\n",
       "    </tr>\n",
       "    <tr>\n",
       "      <th>Joker</th>\n",
       "      <td>8.4</td>\n",
       "      <td>Todd Phillips</td>\n",
       "    </tr>\n",
       "    <tr>\n",
       "      <th>Titanic</th>\n",
       "      <td>7.8</td>\n",
       "      <td>James Cameron</td>\n",
       "    </tr>\n",
       "  </tbody>\n",
       "</table>\n",
       "</div>"
      ],
      "text/plain": [
       "                    notas           diretor\n",
       "Alien                 8.4      Ridley Scott\n",
       "Aliens                NaN     James Cameron\n",
       "Dune                  8.2  Denis Villeneuve\n",
       "Dune (David Lynch)    6.4       David Lynch\n",
       "House of Gucci        7.0      Ridley Scott\n",
       "Joker                 8.4     Todd Phillips\n",
       "Titanic               7.8     James Cameron"
      ]
     },
     "execution_count": 131,
     "metadata": {},
     "output_type": "execute_result"
    }
   ],
   "source": [
    "tb_filmes[['notas', 'diretor']]"
   ]
  },
  {
   "cell_type": "markdown",
   "metadata": {},
   "source": [
    "Os colchetes duplos surgem pois estamos:\n",
    "\n",
    "1. Indexado (par externo de colchetes)\n",
    "1. Criando uma lista (par interno de colchetes)\n",
    "\n",
    "Temos que nos atentar aos tipos retornados por cada um dos filtros:"
   ]
  },
  {
   "cell_type": "code",
   "execution_count": 132,
   "metadata": {},
   "outputs": [
    {
     "data": {
      "text/plain": [
       "pandas.core.series.Series"
      ]
     },
     "execution_count": 132,
     "metadata": {},
     "output_type": "execute_result"
    }
   ],
   "source": [
    "type(tb_filmes['notas'])"
   ]
  },
  {
   "cell_type": "code",
   "execution_count": 133,
   "metadata": {},
   "outputs": [
    {
     "data": {
      "text/plain": [
       "pandas.core.frame.DataFrame"
      ]
     },
     "execution_count": 133,
     "metadata": {},
     "output_type": "execute_result"
    }
   ],
   "source": [
    "type(tb_filmes[['notas', 'diretor']])"
   ]
  },
  {
   "cell_type": "markdown",
   "metadata": {},
   "source": [
    "Se queremos criar um `DataFrame` com apenas uma coluna podemos fazê-lo:"
   ]
  },
  {
   "cell_type": "code",
   "execution_count": 136,
   "metadata": {},
   "outputs": [
    {
     "data": {
      "text/html": [
       "<div>\n",
       "<style scoped>\n",
       "    .dataframe tbody tr th:only-of-type {\n",
       "        vertical-align: middle;\n",
       "    }\n",
       "\n",
       "    .dataframe tbody tr th {\n",
       "        vertical-align: top;\n",
       "    }\n",
       "\n",
       "    .dataframe thead th {\n",
       "        text-align: right;\n",
       "    }\n",
       "</style>\n",
       "<table border=\"1\" class=\"dataframe\">\n",
       "  <thead>\n",
       "    <tr style=\"text-align: right;\">\n",
       "      <th></th>\n",
       "      <th>notas</th>\n",
       "    </tr>\n",
       "  </thead>\n",
       "  <tbody>\n",
       "    <tr>\n",
       "      <th>Alien</th>\n",
       "      <td>8.4</td>\n",
       "    </tr>\n",
       "    <tr>\n",
       "      <th>Aliens</th>\n",
       "      <td>NaN</td>\n",
       "    </tr>\n",
       "    <tr>\n",
       "      <th>Dune</th>\n",
       "      <td>8.2</td>\n",
       "    </tr>\n",
       "    <tr>\n",
       "      <th>Dune (David Lynch)</th>\n",
       "      <td>6.4</td>\n",
       "    </tr>\n",
       "    <tr>\n",
       "      <th>House of Gucci</th>\n",
       "      <td>7.0</td>\n",
       "    </tr>\n",
       "    <tr>\n",
       "      <th>Joker</th>\n",
       "      <td>8.4</td>\n",
       "    </tr>\n",
       "    <tr>\n",
       "      <th>Titanic</th>\n",
       "      <td>7.8</td>\n",
       "    </tr>\n",
       "  </tbody>\n",
       "</table>\n",
       "</div>"
      ],
      "text/plain": [
       "                    notas\n",
       "Alien                 8.4\n",
       "Aliens                NaN\n",
       "Dune                  8.2\n",
       "Dune (David Lynch)    6.4\n",
       "House of Gucci        7.0\n",
       "Joker                 8.4\n",
       "Titanic               7.8"
      ]
     },
     "execution_count": 136,
     "metadata": {},
     "output_type": "execute_result"
    }
   ],
   "source": [
    "tb_filmes[['notas']]"
   ]
  },
  {
   "cell_type": "code",
   "execution_count": null,
   "metadata": {},
   "outputs": [],
   "source": [
    "type(tb_filmes[['notas']])"
   ]
  },
  {
   "cell_type": "markdown",
   "metadata": {},
   "source": [
    "Isso será necessário mais a frente no curso quando utilizarmos as bibliotecas de Machine Learning.\n",
    "\n",
    "----------------------------------------------------------------\n",
    "\n",
    "### Selecionando Linhas (e Colunas!)\n",
    "\n",
    "Se quisermos fazer um filtro sobre as linhas devemos utilizar os atributos `.loc` e `.iloc` (ou o método `.sample()`). Esses atributos nos permitem indexar os `DataFrame` como indexamos `np.arrays` 2D - através da especificação da linha e coluna que desejamos. Vamos começar com o atributo `.iloc`.\n",
    "\n",
    "#### Utilizando `.iloc`\n",
    "\n",
    "O atributo `.iloc` nos permite indexar um `DataFrame` utilizando a mesma notação das `np.arrays`:\n",
    "\n",
    "\n",
    "``` python\n",
    "tb_filmes.iloc[row_number, column_number]\n",
    "```"
   ]
  },
  {
   "cell_type": "code",
   "execution_count": 138,
   "metadata": {},
   "outputs": [
    {
     "data": {
      "text/html": [
       "<div>\n",
       "<style scoped>\n",
       "    .dataframe tbody tr th:only-of-type {\n",
       "        vertical-align: middle;\n",
       "    }\n",
       "\n",
       "    .dataframe tbody tr th {\n",
       "        vertical-align: top;\n",
       "    }\n",
       "\n",
       "    .dataframe thead th {\n",
       "        text-align: right;\n",
       "    }\n",
       "</style>\n",
       "<table border=\"1\" class=\"dataframe\">\n",
       "  <thead>\n",
       "    <tr style=\"text-align: right;\">\n",
       "      <th></th>\n",
       "      <th>notas</th>\n",
       "      <th>elenco</th>\n",
       "      <th>diretor</th>\n",
       "      <th>aleato</th>\n",
       "    </tr>\n",
       "  </thead>\n",
       "  <tbody>\n",
       "    <tr>\n",
       "      <th>Alien</th>\n",
       "      <td>8.4</td>\n",
       "      <td>[Sigourney Weaver, Ian Holm]</td>\n",
       "      <td>Ridley Scott</td>\n",
       "      <td>84.0</td>\n",
       "    </tr>\n",
       "    <tr>\n",
       "      <th>Aliens</th>\n",
       "      <td>NaN</td>\n",
       "      <td>[Sigourney Weaver, Paul Reiser]</td>\n",
       "      <td>James Cameron</td>\n",
       "      <td>NaN</td>\n",
       "    </tr>\n",
       "    <tr>\n",
       "      <th>Dune</th>\n",
       "      <td>8.2</td>\n",
       "      <td>[Timothée Chalamet, Zendaya]</td>\n",
       "      <td>Denis Villeneuve</td>\n",
       "      <td>82.0</td>\n",
       "    </tr>\n",
       "    <tr>\n",
       "      <th>Dune (David Lynch)</th>\n",
       "      <td>6.4</td>\n",
       "      <td>[Sting]</td>\n",
       "      <td>David Lynch</td>\n",
       "      <td>64.0</td>\n",
       "    </tr>\n",
       "    <tr>\n",
       "      <th>House of Gucci</th>\n",
       "      <td>7.0</td>\n",
       "      <td>[Lady Gaga, Adam Driver, Al Pacino]</td>\n",
       "      <td>Ridley Scott</td>\n",
       "      <td>70.0</td>\n",
       "    </tr>\n",
       "    <tr>\n",
       "      <th>Joker</th>\n",
       "      <td>8.4</td>\n",
       "      <td>[Joaquin Phoenix]</td>\n",
       "      <td>Todd Phillips</td>\n",
       "      <td>84.0</td>\n",
       "    </tr>\n",
       "    <tr>\n",
       "      <th>Titanic</th>\n",
       "      <td>7.8</td>\n",
       "      <td>[Kate Winslet, Leonardo DiCaprio]</td>\n",
       "      <td>James Cameron</td>\n",
       "      <td>78.0</td>\n",
       "    </tr>\n",
       "  </tbody>\n",
       "</table>\n",
       "</div>"
      ],
      "text/plain": [
       "                    notas                               elenco  \\\n",
       "Alien                 8.4         [Sigourney Weaver, Ian Holm]   \n",
       "Aliens                NaN      [Sigourney Weaver, Paul Reiser]   \n",
       "Dune                  8.2         [Timothée Chalamet, Zendaya]   \n",
       "Dune (David Lynch)    6.4                              [Sting]   \n",
       "House of Gucci        7.0  [Lady Gaga, Adam Driver, Al Pacino]   \n",
       "Joker                 8.4                    [Joaquin Phoenix]   \n",
       "Titanic               7.8    [Kate Winslet, Leonardo DiCaprio]   \n",
       "\n",
       "                             diretor  aleato  \n",
       "Alien                   Ridley Scott    84.0  \n",
       "Aliens                 James Cameron     NaN  \n",
       "Dune                Denis Villeneuve    82.0  \n",
       "Dune (David Lynch)       David Lynch    64.0  \n",
       "House of Gucci          Ridley Scott    70.0  \n",
       "Joker                  Todd Phillips    84.0  \n",
       "Titanic                James Cameron    78.0  "
      ]
     },
     "execution_count": 138,
     "metadata": {},
     "output_type": "execute_result"
    }
   ],
   "source": [
    "tb_filmes"
   ]
  },
  {
   "cell_type": "code",
   "execution_count": 140,
   "metadata": {},
   "outputs": [
    {
     "data": {
      "text/plain": [
       "['Sigourney Weaver', 'Paul Reiser']"
      ]
     },
     "execution_count": 140,
     "metadata": {},
     "output_type": "execute_result"
    }
   ],
   "source": [
    "tb_filmes.iloc[1,1]"
   ]
  },
  {
   "cell_type": "markdown",
   "metadata": {},
   "source": [
    "Além de inteiros, também podemos utilizar slices.\n",
    "\n",
    "Primeiro, vamos todas as colunas para a primeira linha:"
   ]
  },
  {
   "cell_type": "code",
   "execution_count": 141,
   "metadata": {},
   "outputs": [
    {
     "data": {
      "text/plain": [
       "notas                               8.4\n",
       "elenco     [Sigourney Weaver, Ian Holm]\n",
       "diretor                    Ridley Scott\n",
       "aleato                             84.0\n",
       "Name: Alien, dtype: object"
      ]
     },
     "execution_count": 141,
     "metadata": {},
     "output_type": "execute_result"
    }
   ],
   "source": [
    "tb_filmes.iloc[0,:]"
   ]
  },
  {
   "cell_type": "markdown",
   "metadata": {},
   "source": [
    "Agora vamos buscar todas as linhas da primeira coluna:"
   ]
  },
  {
   "cell_type": "code",
   "execution_count": 142,
   "metadata": {},
   "outputs": [
    {
     "data": {
      "text/plain": [
       "Alien                 8.4\n",
       "Aliens                NaN\n",
       "Dune                  8.2\n",
       "Dune (David Lynch)    6.4\n",
       "House of Gucci        7.0\n",
       "Joker                 8.4\n",
       "Titanic               7.8\n",
       "Name: notas, dtype: float64"
      ]
     },
     "execution_count": 142,
     "metadata": {},
     "output_type": "execute_result"
    }
   ],
   "source": [
    "tb_filmes.iloc[:,0]"
   ]
  },
  {
   "cell_type": "markdown",
   "metadata": {},
   "source": [
    "#### Utilizando `.loc`\n",
    "\n",
    "O atributo `.loc` nos permite indexar um `DataFrame` utilizando a mesma notação das `np.arrays`, mas ao invés de `ints` e `slices` podemos utilizar usar os próprios índices do `DataFrame`: **nomes das linhas e nomes das colunas**.\n",
    "\n",
    "\n",
    "``` python\n",
    "tb_filmes.loc[row_name, column_name]\n",
    "```"
   ]
  },
  {
   "cell_type": "code",
   "execution_count": 146,
   "metadata": {},
   "outputs": [
    {
     "data": {
      "text/html": [
       "<div>\n",
       "<style scoped>\n",
       "    .dataframe tbody tr th:only-of-type {\n",
       "        vertical-align: middle;\n",
       "    }\n",
       "\n",
       "    .dataframe tbody tr th {\n",
       "        vertical-align: top;\n",
       "    }\n",
       "\n",
       "    .dataframe thead th {\n",
       "        text-align: right;\n",
       "    }\n",
       "</style>\n",
       "<table border=\"1\" class=\"dataframe\">\n",
       "  <thead>\n",
       "    <tr style=\"text-align: right;\">\n",
       "      <th></th>\n",
       "      <th>notas</th>\n",
       "      <th>elenco</th>\n",
       "      <th>diretor</th>\n",
       "      <th>aleato</th>\n",
       "    </tr>\n",
       "  </thead>\n",
       "  <tbody>\n",
       "    <tr>\n",
       "      <th>Alien</th>\n",
       "      <td>8.4</td>\n",
       "      <td>[Sigourney Weaver, Ian Holm]</td>\n",
       "      <td>Ridley Scott</td>\n",
       "      <td>84.0</td>\n",
       "    </tr>\n",
       "    <tr>\n",
       "      <th>Aliens</th>\n",
       "      <td>NaN</td>\n",
       "      <td>[Sigourney Weaver, Paul Reiser]</td>\n",
       "      <td>James Cameron</td>\n",
       "      <td>NaN</td>\n",
       "    </tr>\n",
       "    <tr>\n",
       "      <th>Dune</th>\n",
       "      <td>8.2</td>\n",
       "      <td>[Timothée Chalamet, Zendaya]</td>\n",
       "      <td>Denis Villeneuve</td>\n",
       "      <td>82.0</td>\n",
       "    </tr>\n",
       "    <tr>\n",
       "      <th>Dune (David Lynch)</th>\n",
       "      <td>6.4</td>\n",
       "      <td>[Sting]</td>\n",
       "      <td>David Lynch</td>\n",
       "      <td>64.0</td>\n",
       "    </tr>\n",
       "    <tr>\n",
       "      <th>House of Gucci</th>\n",
       "      <td>7.0</td>\n",
       "      <td>[Lady Gaga, Adam Driver, Al Pacino]</td>\n",
       "      <td>Ridley Scott</td>\n",
       "      <td>70.0</td>\n",
       "    </tr>\n",
       "    <tr>\n",
       "      <th>Joker</th>\n",
       "      <td>8.4</td>\n",
       "      <td>[Joaquin Phoenix]</td>\n",
       "      <td>Todd Phillips</td>\n",
       "      <td>84.0</td>\n",
       "    </tr>\n",
       "    <tr>\n",
       "      <th>Titanic</th>\n",
       "      <td>7.8</td>\n",
       "      <td>[Kate Winslet, Leonardo DiCaprio]</td>\n",
       "      <td>James Cameron</td>\n",
       "      <td>78.0</td>\n",
       "    </tr>\n",
       "  </tbody>\n",
       "</table>\n",
       "</div>"
      ],
      "text/plain": [
       "                    notas                               elenco  \\\n",
       "Alien                 8.4         [Sigourney Weaver, Ian Holm]   \n",
       "Aliens                NaN      [Sigourney Weaver, Paul Reiser]   \n",
       "Dune                  8.2         [Timothée Chalamet, Zendaya]   \n",
       "Dune (David Lynch)    6.4                              [Sting]   \n",
       "House of Gucci        7.0  [Lady Gaga, Adam Driver, Al Pacino]   \n",
       "Joker                 8.4                    [Joaquin Phoenix]   \n",
       "Titanic               7.8    [Kate Winslet, Leonardo DiCaprio]   \n",
       "\n",
       "                             diretor  aleato  \n",
       "Alien                   Ridley Scott    84.0  \n",
       "Aliens                 James Cameron     NaN  \n",
       "Dune                Denis Villeneuve    82.0  \n",
       "Dune (David Lynch)       David Lynch    64.0  \n",
       "House of Gucci          Ridley Scott    70.0  \n",
       "Joker                  Todd Phillips    84.0  \n",
       "Titanic                James Cameron    78.0  "
      ]
     },
     "execution_count": 146,
     "metadata": {},
     "output_type": "execute_result"
    }
   ],
   "source": [
    "tb_filmes"
   ]
  },
  {
   "cell_type": "code",
   "execution_count": 147,
   "metadata": {
    "ExecuteTime": {
     "end_time": "2021-11-30T23:53:53.755115Z",
     "start_time": "2021-11-30T23:53:53.742149Z"
    }
   },
   "outputs": [
    {
     "data": {
      "text/plain": [
       "84.0"
      ]
     },
     "execution_count": 147,
     "metadata": {},
     "output_type": "execute_result"
    }
   ],
   "source": [
    "tb_filmes.loc['Alien', 'aleato']"
   ]
  },
  {
   "cell_type": "markdown",
   "metadata": {},
   "source": [
    "Além de utilizar os nomes diretamente, também podemos utilizar slices (de nomes):"
   ]
  },
  {
   "cell_type": "code",
   "execution_count": 149,
   "metadata": {
    "ExecuteTime": {
     "end_time": "2021-11-30T23:54:24.277448Z",
     "start_time": "2021-11-30T23:54:24.263508Z"
    }
   },
   "outputs": [
    {
     "data": {
      "text/plain": [
       "notas                               8.4\n",
       "elenco     [Sigourney Weaver, Ian Holm]\n",
       "diretor                    Ridley Scott\n",
       "Name: Alien, dtype: object"
      ]
     },
     "execution_count": 149,
     "metadata": {},
     "output_type": "execute_result"
    }
   ],
   "source": [
    "tb_filmes.loc['Alien', 'notas':'diretor']"
   ]
  },
  {
   "cell_type": "markdown",
   "metadata": {},
   "source": [
    "Outra forma útil de indexação através do `.loc` é utilizando listas:"
   ]
  },
  {
   "cell_type": "code",
   "execution_count": 150,
   "metadata": {
    "ExecuteTime": {
     "end_time": "2021-11-30T23:56:34.651767Z",
     "start_time": "2021-11-30T23:56:34.636807Z"
    }
   },
   "outputs": [
    {
     "data": {
      "text/html": [
       "<div>\n",
       "<style scoped>\n",
       "    .dataframe tbody tr th:only-of-type {\n",
       "        vertical-align: middle;\n",
       "    }\n",
       "\n",
       "    .dataframe tbody tr th {\n",
       "        vertical-align: top;\n",
       "    }\n",
       "\n",
       "    .dataframe thead th {\n",
       "        text-align: right;\n",
       "    }\n",
       "</style>\n",
       "<table border=\"1\" class=\"dataframe\">\n",
       "  <thead>\n",
       "    <tr style=\"text-align: right;\">\n",
       "      <th></th>\n",
       "      <th>notas</th>\n",
       "      <th>elenco</th>\n",
       "      <th>diretor</th>\n",
       "      <th>aleato</th>\n",
       "    </tr>\n",
       "  </thead>\n",
       "  <tbody>\n",
       "    <tr>\n",
       "      <th>Alien</th>\n",
       "      <td>8.4</td>\n",
       "      <td>[Sigourney Weaver, Ian Holm]</td>\n",
       "      <td>Ridley Scott</td>\n",
       "      <td>84.0</td>\n",
       "    </tr>\n",
       "    <tr>\n",
       "      <th>Aliens</th>\n",
       "      <td>NaN</td>\n",
       "      <td>[Sigourney Weaver, Paul Reiser]</td>\n",
       "      <td>James Cameron</td>\n",
       "      <td>NaN</td>\n",
       "    </tr>\n",
       "  </tbody>\n",
       "</table>\n",
       "</div>"
      ],
      "text/plain": [
       "        notas                           elenco        diretor  aleato\n",
       "Alien     8.4     [Sigourney Weaver, Ian Holm]   Ridley Scott    84.0\n",
       "Aliens    NaN  [Sigourney Weaver, Paul Reiser]  James Cameron     NaN"
      ]
     },
     "execution_count": 150,
     "metadata": {},
     "output_type": "execute_result"
    }
   ],
   "source": [
    "tb_filmes.loc[['Alien', 'Aliens'], :]"
   ]
  },
  {
   "cell_type": "code",
   "execution_count": 151,
   "metadata": {
    "ExecuteTime": {
     "end_time": "2021-11-30T23:56:56.885777Z",
     "start_time": "2021-11-30T23:56:56.866800Z"
    }
   },
   "outputs": [
    {
     "data": {
      "text/html": [
       "<div>\n",
       "<style scoped>\n",
       "    .dataframe tbody tr th:only-of-type {\n",
       "        vertical-align: middle;\n",
       "    }\n",
       "\n",
       "    .dataframe tbody tr th {\n",
       "        vertical-align: top;\n",
       "    }\n",
       "\n",
       "    .dataframe thead th {\n",
       "        text-align: right;\n",
       "    }\n",
       "</style>\n",
       "<table border=\"1\" class=\"dataframe\">\n",
       "  <thead>\n",
       "    <tr style=\"text-align: right;\">\n",
       "      <th></th>\n",
       "      <th>notas</th>\n",
       "      <th>elenco</th>\n",
       "    </tr>\n",
       "  </thead>\n",
       "  <tbody>\n",
       "    <tr>\n",
       "      <th>Alien</th>\n",
       "      <td>8.4</td>\n",
       "      <td>[Sigourney Weaver, Ian Holm]</td>\n",
       "    </tr>\n",
       "    <tr>\n",
       "      <th>Aliens</th>\n",
       "      <td>NaN</td>\n",
       "      <td>[Sigourney Weaver, Paul Reiser]</td>\n",
       "    </tr>\n",
       "    <tr>\n",
       "      <th>Dune</th>\n",
       "      <td>8.2</td>\n",
       "      <td>[Timothée Chalamet, Zendaya]</td>\n",
       "    </tr>\n",
       "    <tr>\n",
       "      <th>Dune (David Lynch)</th>\n",
       "      <td>6.4</td>\n",
       "      <td>[Sting]</td>\n",
       "    </tr>\n",
       "    <tr>\n",
       "      <th>House of Gucci</th>\n",
       "      <td>7.0</td>\n",
       "      <td>[Lady Gaga, Adam Driver, Al Pacino]</td>\n",
       "    </tr>\n",
       "    <tr>\n",
       "      <th>Joker</th>\n",
       "      <td>8.4</td>\n",
       "      <td>[Joaquin Phoenix]</td>\n",
       "    </tr>\n",
       "    <tr>\n",
       "      <th>Titanic</th>\n",
       "      <td>7.8</td>\n",
       "      <td>[Kate Winslet, Leonardo DiCaprio]</td>\n",
       "    </tr>\n",
       "  </tbody>\n",
       "</table>\n",
       "</div>"
      ],
      "text/plain": [
       "                    notas                               elenco\n",
       "Alien                 8.4         [Sigourney Weaver, Ian Holm]\n",
       "Aliens                NaN      [Sigourney Weaver, Paul Reiser]\n",
       "Dune                  8.2         [Timothée Chalamet, Zendaya]\n",
       "Dune (David Lynch)    6.4                              [Sting]\n",
       "House of Gucci        7.0  [Lady Gaga, Adam Driver, Al Pacino]\n",
       "Joker                 8.4                    [Joaquin Phoenix]\n",
       "Titanic               7.8    [Kate Winslet, Leonardo DiCaprio]"
      ]
     },
     "execution_count": 151,
     "metadata": {},
     "output_type": "execute_result"
    }
   ],
   "source": [
    "tb_filmes.loc[:, ['notas', 'elenco']]"
   ]
  },
  {
   "cell_type": "code",
   "execution_count": 152,
   "metadata": {
    "ExecuteTime": {
     "end_time": "2021-11-30T23:58:04.636485Z",
     "start_time": "2021-11-30T23:58:04.624530Z"
    }
   },
   "outputs": [
    {
     "data": {
      "text/html": [
       "<div>\n",
       "<style scoped>\n",
       "    .dataframe tbody tr th:only-of-type {\n",
       "        vertical-align: middle;\n",
       "    }\n",
       "\n",
       "    .dataframe tbody tr th {\n",
       "        vertical-align: top;\n",
       "    }\n",
       "\n",
       "    .dataframe thead th {\n",
       "        text-align: right;\n",
       "    }\n",
       "</style>\n",
       "<table border=\"1\" class=\"dataframe\">\n",
       "  <thead>\n",
       "    <tr style=\"text-align: right;\">\n",
       "      <th></th>\n",
       "      <th>notas</th>\n",
       "      <th>elenco</th>\n",
       "    </tr>\n",
       "  </thead>\n",
       "  <tbody>\n",
       "    <tr>\n",
       "      <th>Alien</th>\n",
       "      <td>8.4</td>\n",
       "      <td>[Sigourney Weaver, Ian Holm]</td>\n",
       "    </tr>\n",
       "    <tr>\n",
       "      <th>Aliens</th>\n",
       "      <td>NaN</td>\n",
       "      <td>[Sigourney Weaver, Paul Reiser]</td>\n",
       "    </tr>\n",
       "    <tr>\n",
       "      <th>Dune</th>\n",
       "      <td>8.2</td>\n",
       "      <td>[Timothée Chalamet, Zendaya]</td>\n",
       "    </tr>\n",
       "  </tbody>\n",
       "</table>\n",
       "</div>"
      ],
      "text/plain": [
       "        notas                           elenco\n",
       "Alien     8.4     [Sigourney Weaver, Ian Holm]\n",
       "Aliens    NaN  [Sigourney Weaver, Paul Reiser]\n",
       "Dune      8.2     [Timothée Chalamet, Zendaya]"
      ]
     },
     "execution_count": 152,
     "metadata": {},
     "output_type": "execute_result"
    }
   ],
   "source": [
    "tb_filmes.loc['Alien':'Dune', 'notas':'elenco']"
   ]
  },
  {
   "cell_type": "code",
   "execution_count": 163,
   "metadata": {},
   "outputs": [
    {
     "data": {
      "text/html": [
       "<div>\n",
       "<style scoped>\n",
       "    .dataframe tbody tr th:only-of-type {\n",
       "        vertical-align: middle;\n",
       "    }\n",
       "\n",
       "    .dataframe tbody tr th {\n",
       "        vertical-align: top;\n",
       "    }\n",
       "\n",
       "    .dataframe thead th {\n",
       "        text-align: right;\n",
       "    }\n",
       "</style>\n",
       "<table border=\"1\" class=\"dataframe\">\n",
       "  <thead>\n",
       "    <tr style=\"text-align: right;\">\n",
       "      <th></th>\n",
       "      <th>notas</th>\n",
       "      <th>elenco</th>\n",
       "      <th>diretor</th>\n",
       "      <th>aleato</th>\n",
       "    </tr>\n",
       "  </thead>\n",
       "  <tbody>\n",
       "    <tr>\n",
       "      <th>Titanic</th>\n",
       "      <td>7.8</td>\n",
       "      <td>[Kate Winslet, Leonardo DiCaprio]</td>\n",
       "      <td>James Cameron</td>\n",
       "      <td>78.0</td>\n",
       "    </tr>\n",
       "    <tr>\n",
       "      <th>Alien</th>\n",
       "      <td>8.4</td>\n",
       "      <td>[Sigourney Weaver, Ian Holm]</td>\n",
       "      <td>Ridley Scott</td>\n",
       "      <td>84.0</td>\n",
       "    </tr>\n",
       "    <tr>\n",
       "      <th>Dune (David Lynch)</th>\n",
       "      <td>6.4</td>\n",
       "      <td>[Sting]</td>\n",
       "      <td>David Lynch</td>\n",
       "      <td>64.0</td>\n",
       "    </tr>\n",
       "  </tbody>\n",
       "</table>\n",
       "</div>"
      ],
      "text/plain": [
       "                    notas                             elenco        diretor  \\\n",
       "Titanic               7.8  [Kate Winslet, Leonardo DiCaprio]  James Cameron   \n",
       "Alien                 8.4       [Sigourney Weaver, Ian Holm]   Ridley Scott   \n",
       "Dune (David Lynch)    6.4                            [Sting]    David Lynch   \n",
       "\n",
       "                    aleato  \n",
       "Titanic               78.0  \n",
       "Alien                 84.0  \n",
       "Dune (David Lynch)    64.0  "
      ]
     },
     "execution_count": 163,
     "metadata": {},
     "output_type": "execute_result"
    }
   ],
   "source": [
    "tb_filmes.iloc[[-1,0, 3], :]"
   ]
  },
  {
   "cell_type": "code",
   "execution_count": null,
   "metadata": {},
   "outputs": [],
   "source": []
  },
  {
   "cell_type": "markdown",
   "metadata": {},
   "source": [
    "### Utilizando `.sample()`\n",
    "O método `.sample()` é utilizado para gerar uma amostra aleatória das linhas de um `DataFrame`"
   ]
  },
  {
   "cell_type": "code",
   "execution_count": 169,
   "metadata": {
    "ExecuteTime": {
     "end_time": "2021-12-01T00:07:39.581924Z",
     "start_time": "2021-12-01T00:07:39.559995Z"
    }
   },
   "outputs": [
    {
     "data": {
      "text/html": [
       "<div>\n",
       "<style scoped>\n",
       "    .dataframe tbody tr th:only-of-type {\n",
       "        vertical-align: middle;\n",
       "    }\n",
       "\n",
       "    .dataframe tbody tr th {\n",
       "        vertical-align: top;\n",
       "    }\n",
       "\n",
       "    .dataframe thead th {\n",
       "        text-align: right;\n",
       "    }\n",
       "</style>\n",
       "<table border=\"1\" class=\"dataframe\">\n",
       "  <thead>\n",
       "    <tr style=\"text-align: right;\">\n",
       "      <th></th>\n",
       "      <th>notas</th>\n",
       "      <th>elenco</th>\n",
       "      <th>diretor</th>\n",
       "      <th>aleato</th>\n",
       "    </tr>\n",
       "  </thead>\n",
       "  <tbody>\n",
       "    <tr>\n",
       "      <th>Dune</th>\n",
       "      <td>8.2</td>\n",
       "      <td>[Timothée Chalamet, Zendaya]</td>\n",
       "      <td>Denis Villeneuve</td>\n",
       "      <td>82.0</td>\n",
       "    </tr>\n",
       "    <tr>\n",
       "      <th>Dune (David Lynch)</th>\n",
       "      <td>6.4</td>\n",
       "      <td>[Sting]</td>\n",
       "      <td>David Lynch</td>\n",
       "      <td>64.0</td>\n",
       "    </tr>\n",
       "  </tbody>\n",
       "</table>\n",
       "</div>"
      ],
      "text/plain": [
       "                    notas                        elenco           diretor  \\\n",
       "Dune                  8.2  [Timothée Chalamet, Zendaya]  Denis Villeneuve   \n",
       "Dune (David Lynch)    6.4                       [Sting]       David Lynch   \n",
       "\n",
       "                    aleato  \n",
       "Dune                  82.0  \n",
       "Dune (David Lynch)    64.0  "
      ]
     },
     "execution_count": 169,
     "metadata": {},
     "output_type": "execute_result"
    }
   ],
   "source": [
    "tb_filmes.sample(n=2)"
   ]
  },
  {
   "cell_type": "markdown",
   "metadata": {},
   "source": [
    "## Máscaras e Filtros\n",
    "\n",
    "Filtros são o Be-A-Bá de dados, englobando operações como: selecionar todas as vendas em MG, ou então todos os ataques de tubarão que aconteceram no hemisfério Sul, ou mesmo todos os clientes que fizeram mais de um pedido no mês de Janeiro.\n",
    "\n",
    "A idéia fundamental por trás dos Filtros na biblioteca Pandas é o **conceito de Máscara**: um vetor de valores booleanos com um número de elementos igual ao número de linhas do nosso `DataFrame`. Já vimos hoje como construir máscaras através dos operadores booleanos: agora utilizaremos estas para filtrar nossos `DataFrames`!\n",
    "\n",
    "### Máscaras Simples (uma condição)"
   ]
  },
  {
   "cell_type": "code",
   "execution_count": 173,
   "metadata": {},
   "outputs": [
    {
     "data": {
      "text/plain": [
       "Alien                  True\n",
       "Aliens                False\n",
       "Dune                   True\n",
       "Dune (David Lynch)    False\n",
       "House of Gucci        False\n",
       "Joker                  True\n",
       "Titanic               False\n",
       "Name: notas, dtype: bool"
      ]
     },
     "execution_count": 173,
     "metadata": {},
     "output_type": "execute_result"
    }
   ],
   "source": [
    "tb_filmes['notas'] > 8"
   ]
  },
  {
   "cell_type": "code",
   "execution_count": 170,
   "metadata": {
    "ExecuteTime": {
     "end_time": "2021-12-01T00:15:48.843961Z",
     "start_time": "2021-12-01T00:15:48.828000Z"
    }
   },
   "outputs": [],
   "source": [
    "filmes_bons = tb_filmes['notas'] > 8"
   ]
  },
  {
   "cell_type": "code",
   "execution_count": 174,
   "metadata": {
    "ExecuteTime": {
     "end_time": "2021-12-01T00:15:51.189397Z",
     "start_time": "2021-12-01T00:15:51.178426Z"
    }
   },
   "outputs": [
    {
     "data": {
      "text/plain": [
       "Alien                  True\n",
       "Aliens                False\n",
       "Dune                   True\n",
       "Dune (David Lynch)    False\n",
       "House of Gucci        False\n",
       "Joker                  True\n",
       "Titanic               False\n",
       "Name: notas, dtype: bool"
      ]
     },
     "execution_count": 174,
     "metadata": {},
     "output_type": "execute_result"
    }
   ],
   "source": [
    "filmes_bons"
   ]
  },
  {
   "cell_type": "markdown",
   "metadata": {},
   "source": [
    "A variável `filmes_bons` é nossa máscara: vamos utiliza-la para filtrar nosso `DataFrame`"
   ]
  },
  {
   "cell_type": "code",
   "execution_count": 175,
   "metadata": {
    "ExecuteTime": {
     "end_time": "2021-12-01T00:16:09.175482Z",
     "start_time": "2021-12-01T00:16:09.151543Z"
    }
   },
   "outputs": [
    {
     "data": {
      "text/html": [
       "<div>\n",
       "<style scoped>\n",
       "    .dataframe tbody tr th:only-of-type {\n",
       "        vertical-align: middle;\n",
       "    }\n",
       "\n",
       "    .dataframe tbody tr th {\n",
       "        vertical-align: top;\n",
       "    }\n",
       "\n",
       "    .dataframe thead th {\n",
       "        text-align: right;\n",
       "    }\n",
       "</style>\n",
       "<table border=\"1\" class=\"dataframe\">\n",
       "  <thead>\n",
       "    <tr style=\"text-align: right;\">\n",
       "      <th></th>\n",
       "      <th>notas</th>\n",
       "      <th>elenco</th>\n",
       "      <th>diretor</th>\n",
       "      <th>aleato</th>\n",
       "    </tr>\n",
       "  </thead>\n",
       "  <tbody>\n",
       "    <tr>\n",
       "      <th>Alien</th>\n",
       "      <td>8.4</td>\n",
       "      <td>[Sigourney Weaver, Ian Holm]</td>\n",
       "      <td>Ridley Scott</td>\n",
       "      <td>84.0</td>\n",
       "    </tr>\n",
       "    <tr>\n",
       "      <th>Dune</th>\n",
       "      <td>8.2</td>\n",
       "      <td>[Timothée Chalamet, Zendaya]</td>\n",
       "      <td>Denis Villeneuve</td>\n",
       "      <td>82.0</td>\n",
       "    </tr>\n",
       "    <tr>\n",
       "      <th>Joker</th>\n",
       "      <td>8.4</td>\n",
       "      <td>[Joaquin Phoenix]</td>\n",
       "      <td>Todd Phillips</td>\n",
       "      <td>84.0</td>\n",
       "    </tr>\n",
       "  </tbody>\n",
       "</table>\n",
       "</div>"
      ],
      "text/plain": [
       "       notas                        elenco           diretor  aleato\n",
       "Alien    8.4  [Sigourney Weaver, Ian Holm]      Ridley Scott    84.0\n",
       "Dune     8.2  [Timothée Chalamet, Zendaya]  Denis Villeneuve    82.0\n",
       "Joker    8.4             [Joaquin Phoenix]     Todd Phillips    84.0"
      ]
     },
     "execution_count": 175,
     "metadata": {},
     "output_type": "execute_result"
    }
   ],
   "source": [
    "tb_filmes[filmes_bons]"
   ]
  },
  {
   "cell_type": "markdown",
   "metadata": {},
   "source": [
    "Simples! Podemos utilizar a mesma máscara de forma implicita:"
   ]
  },
  {
   "cell_type": "code",
   "execution_count": 176,
   "metadata": {
    "ExecuteTime": {
     "end_time": "2021-12-01T00:16:40.909134Z",
     "start_time": "2021-12-01T00:16:40.892200Z"
    }
   },
   "outputs": [
    {
     "data": {
      "text/html": [
       "<div>\n",
       "<style scoped>\n",
       "    .dataframe tbody tr th:only-of-type {\n",
       "        vertical-align: middle;\n",
       "    }\n",
       "\n",
       "    .dataframe tbody tr th {\n",
       "        vertical-align: top;\n",
       "    }\n",
       "\n",
       "    .dataframe thead th {\n",
       "        text-align: right;\n",
       "    }\n",
       "</style>\n",
       "<table border=\"1\" class=\"dataframe\">\n",
       "  <thead>\n",
       "    <tr style=\"text-align: right;\">\n",
       "      <th></th>\n",
       "      <th>notas</th>\n",
       "      <th>elenco</th>\n",
       "      <th>diretor</th>\n",
       "      <th>aleato</th>\n",
       "    </tr>\n",
       "  </thead>\n",
       "  <tbody>\n",
       "    <tr>\n",
       "      <th>Alien</th>\n",
       "      <td>8.4</td>\n",
       "      <td>[Sigourney Weaver, Ian Holm]</td>\n",
       "      <td>Ridley Scott</td>\n",
       "      <td>84.0</td>\n",
       "    </tr>\n",
       "    <tr>\n",
       "      <th>Dune</th>\n",
       "      <td>8.2</td>\n",
       "      <td>[Timothée Chalamet, Zendaya]</td>\n",
       "      <td>Denis Villeneuve</td>\n",
       "      <td>82.0</td>\n",
       "    </tr>\n",
       "    <tr>\n",
       "      <th>Joker</th>\n",
       "      <td>8.4</td>\n",
       "      <td>[Joaquin Phoenix]</td>\n",
       "      <td>Todd Phillips</td>\n",
       "      <td>84.0</td>\n",
       "    </tr>\n",
       "  </tbody>\n",
       "</table>\n",
       "</div>"
      ],
      "text/plain": [
       "       notas                        elenco           diretor  aleato\n",
       "Alien    8.4  [Sigourney Weaver, Ian Holm]      Ridley Scott    84.0\n",
       "Dune     8.2  [Timothée Chalamet, Zendaya]  Denis Villeneuve    82.0\n",
       "Joker    8.4             [Joaquin Phoenix]     Todd Phillips    84.0"
      ]
     },
     "execution_count": 176,
     "metadata": {},
     "output_type": "execute_result"
    }
   ],
   "source": [
    "tb_filmes[tb_filmes['notas'] > 8]"
   ]
  },
  {
   "cell_type": "markdown",
   "metadata": {},
   "source": [
    "### Máscaras Complexas\n",
    "\n",
    "A máscara `filmes_bons` contém apenas uma condição - muitas vezes precisamos concatenar condições para obter o resultado necessário. Vamos entender como podemos construir essas máscaras utilizando os operadores `&` (BITWISE AND) e `|` (BITWISE OR)"
   ]
  },
  {
   "cell_type": "code",
   "execution_count": 177,
   "metadata": {},
   "outputs": [
    {
     "name": "stdout",
     "output_type": "stream",
     "text": [
      "Alien                  True\n",
      "Aliens                False\n",
      "Dune                   True\n",
      "Dune (David Lynch)    False\n",
      "House of Gucci        False\n",
      "Joker                  True\n",
      "Titanic               False\n",
      "Name: notas, dtype: bool\n"
     ]
    }
   ],
   "source": [
    "filmes_bons = tb_filmes['notas'] > 8\n",
    "print(filmes_bons)"
   ]
  },
  {
   "cell_type": "code",
   "execution_count": 178,
   "metadata": {},
   "outputs": [
    {
     "name": "stdout",
     "output_type": "stream",
     "text": [
      "Alien                  True\n",
      "Aliens                False\n",
      "Dune                  False\n",
      "Dune (David Lynch)    False\n",
      "House of Gucci         True\n",
      "Joker                 False\n",
      "Titanic               False\n",
      "Name: diretor, dtype: bool\n"
     ]
    }
   ],
   "source": [
    "filmes_rs = tb_filmes['diretor'] == 'Ridley Scott'\n",
    "print(filmes_rs)"
   ]
  },
  {
   "cell_type": "code",
   "execution_count": 180,
   "metadata": {},
   "outputs": [
    {
     "data": {
      "text/html": [
       "<div>\n",
       "<style scoped>\n",
       "    .dataframe tbody tr th:only-of-type {\n",
       "        vertical-align: middle;\n",
       "    }\n",
       "\n",
       "    .dataframe tbody tr th {\n",
       "        vertical-align: top;\n",
       "    }\n",
       "\n",
       "    .dataframe thead th {\n",
       "        text-align: right;\n",
       "    }\n",
       "</style>\n",
       "<table border=\"1\" class=\"dataframe\">\n",
       "  <thead>\n",
       "    <tr style=\"text-align: right;\">\n",
       "      <th></th>\n",
       "      <th>notas</th>\n",
       "      <th>elenco</th>\n",
       "      <th>diretor</th>\n",
       "      <th>aleato</th>\n",
       "    </tr>\n",
       "  </thead>\n",
       "  <tbody>\n",
       "    <tr>\n",
       "      <th>Alien</th>\n",
       "      <td>8.4</td>\n",
       "      <td>[Sigourney Weaver, Ian Holm]</td>\n",
       "      <td>Ridley Scott</td>\n",
       "      <td>84.0</td>\n",
       "    </tr>\n",
       "    <tr>\n",
       "      <th>Dune</th>\n",
       "      <td>8.2</td>\n",
       "      <td>[Timothée Chalamet, Zendaya]</td>\n",
       "      <td>Denis Villeneuve</td>\n",
       "      <td>82.0</td>\n",
       "    </tr>\n",
       "    <tr>\n",
       "      <th>Joker</th>\n",
       "      <td>8.4</td>\n",
       "      <td>[Joaquin Phoenix]</td>\n",
       "      <td>Todd Phillips</td>\n",
       "      <td>84.0</td>\n",
       "    </tr>\n",
       "  </tbody>\n",
       "</table>\n",
       "</div>"
      ],
      "text/plain": [
       "       notas                        elenco           diretor  aleato\n",
       "Alien    8.4  [Sigourney Weaver, Ian Holm]      Ridley Scott    84.0\n",
       "Dune     8.2  [Timothée Chalamet, Zendaya]  Denis Villeneuve    82.0\n",
       "Joker    8.4             [Joaquin Phoenix]     Todd Phillips    84.0"
      ]
     },
     "execution_count": 180,
     "metadata": {},
     "output_type": "execute_result"
    }
   ],
   "source": [
    "tb_filmes[filmes_bons]"
   ]
  },
  {
   "cell_type": "markdown",
   "metadata": {},
   "source": [
    "# Voltamos 21h25"
   ]
  },
  {
   "cell_type": "markdown",
   "metadata": {},
   "source": [
    "Se quisermos filtrar os filmes que são simultaneamente bons e do Ridley Scott precisamos utilizar o operador `&` (**E**):"
   ]
  },
  {
   "cell_type": "code",
   "execution_count": 182,
   "metadata": {},
   "outputs": [
    {
     "name": "stdout",
     "output_type": "stream",
     "text": [
      "Alien                  True\n",
      "Aliens                False\n",
      "Dune                  False\n",
      "Dune (David Lynch)    False\n",
      "House of Gucci        False\n",
      "Joker                 False\n",
      "Titanic               False\n",
      "dtype: bool\n"
     ]
    }
   ],
   "source": [
    "filmes_rs_bons = filmes_rs & filmes_bons\n",
    "print(filmes_rs_bons)"
   ]
  },
  {
   "cell_type": "code",
   "execution_count": 183,
   "metadata": {},
   "outputs": [
    {
     "data": {
      "text/html": [
       "<div>\n",
       "<style scoped>\n",
       "    .dataframe tbody tr th:only-of-type {\n",
       "        vertical-align: middle;\n",
       "    }\n",
       "\n",
       "    .dataframe tbody tr th {\n",
       "        vertical-align: top;\n",
       "    }\n",
       "\n",
       "    .dataframe thead th {\n",
       "        text-align: right;\n",
       "    }\n",
       "</style>\n",
       "<table border=\"1\" class=\"dataframe\">\n",
       "  <thead>\n",
       "    <tr style=\"text-align: right;\">\n",
       "      <th></th>\n",
       "      <th>notas</th>\n",
       "      <th>elenco</th>\n",
       "      <th>diretor</th>\n",
       "      <th>aleato</th>\n",
       "    </tr>\n",
       "  </thead>\n",
       "  <tbody>\n",
       "    <tr>\n",
       "      <th>Alien</th>\n",
       "      <td>8.4</td>\n",
       "      <td>[Sigourney Weaver, Ian Holm]</td>\n",
       "      <td>Ridley Scott</td>\n",
       "      <td>84.0</td>\n",
       "    </tr>\n",
       "  </tbody>\n",
       "</table>\n",
       "</div>"
      ],
      "text/plain": [
       "       notas                        elenco       diretor  aleato\n",
       "Alien    8.4  [Sigourney Weaver, Ian Holm]  Ridley Scott    84.0"
      ]
     },
     "execution_count": 183,
     "metadata": {},
     "output_type": "execute_result"
    }
   ],
   "source": [
    "tb_filmes[filmes_rs_bons]"
   ]
  },
  {
   "cell_type": "markdown",
   "metadata": {},
   "source": [
    "Se quisermos encontrar todos os filmes que são bons + todos os filmes do Ridley Scott podemos utilizar o operador `|` (OU)"
   ]
  },
  {
   "cell_type": "code",
   "execution_count": 184,
   "metadata": {},
   "outputs": [
    {
     "data": {
      "text/html": [
       "<div>\n",
       "<style scoped>\n",
       "    .dataframe tbody tr th:only-of-type {\n",
       "        vertical-align: middle;\n",
       "    }\n",
       "\n",
       "    .dataframe tbody tr th {\n",
       "        vertical-align: top;\n",
       "    }\n",
       "\n",
       "    .dataframe thead th {\n",
       "        text-align: right;\n",
       "    }\n",
       "</style>\n",
       "<table border=\"1\" class=\"dataframe\">\n",
       "  <thead>\n",
       "    <tr style=\"text-align: right;\">\n",
       "      <th></th>\n",
       "      <th>notas</th>\n",
       "      <th>elenco</th>\n",
       "      <th>diretor</th>\n",
       "      <th>aleato</th>\n",
       "    </tr>\n",
       "  </thead>\n",
       "  <tbody>\n",
       "    <tr>\n",
       "      <th>Alien</th>\n",
       "      <td>8.4</td>\n",
       "      <td>[Sigourney Weaver, Ian Holm]</td>\n",
       "      <td>Ridley Scott</td>\n",
       "      <td>84.0</td>\n",
       "    </tr>\n",
       "    <tr>\n",
       "      <th>Dune</th>\n",
       "      <td>8.2</td>\n",
       "      <td>[Timothée Chalamet, Zendaya]</td>\n",
       "      <td>Denis Villeneuve</td>\n",
       "      <td>82.0</td>\n",
       "    </tr>\n",
       "    <tr>\n",
       "      <th>House of Gucci</th>\n",
       "      <td>7.0</td>\n",
       "      <td>[Lady Gaga, Adam Driver, Al Pacino]</td>\n",
       "      <td>Ridley Scott</td>\n",
       "      <td>70.0</td>\n",
       "    </tr>\n",
       "    <tr>\n",
       "      <th>Joker</th>\n",
       "      <td>8.4</td>\n",
       "      <td>[Joaquin Phoenix]</td>\n",
       "      <td>Todd Phillips</td>\n",
       "      <td>84.0</td>\n",
       "    </tr>\n",
       "  </tbody>\n",
       "</table>\n",
       "</div>"
      ],
      "text/plain": [
       "                notas                               elenco           diretor  \\\n",
       "Alien             8.4         [Sigourney Weaver, Ian Holm]      Ridley Scott   \n",
       "Dune              8.2         [Timothée Chalamet, Zendaya]  Denis Villeneuve   \n",
       "House of Gucci    7.0  [Lady Gaga, Adam Driver, Al Pacino]      Ridley Scott   \n",
       "Joker             8.4                    [Joaquin Phoenix]     Todd Phillips   \n",
       "\n",
       "                aleato  \n",
       "Alien             84.0  \n",
       "Dune              82.0  \n",
       "House of Gucci    70.0  \n",
       "Joker             84.0  "
      ]
     },
     "execution_count": 184,
     "metadata": {},
     "output_type": "execute_result"
    }
   ],
   "source": [
    "filmes_rs_ou_bons = filmes_rs | filmes_bons\n",
    "tb_filmes[filmes_rs_ou_bons]"
   ]
  },
  {
   "cell_type": "markdown",
   "metadata": {},
   "source": [
    "Podemos fazer todas as etapas acima de forma implicita (tomando cuidado com os `()` ao redor de cada condição)!"
   ]
  },
  {
   "cell_type": "code",
   "execution_count": 187,
   "metadata": {},
   "outputs": [
    {
     "data": {
      "text/html": [
       "<div>\n",
       "<style scoped>\n",
       "    .dataframe tbody tr th:only-of-type {\n",
       "        vertical-align: middle;\n",
       "    }\n",
       "\n",
       "    .dataframe tbody tr th {\n",
       "        vertical-align: top;\n",
       "    }\n",
       "\n",
       "    .dataframe thead th {\n",
       "        text-align: right;\n",
       "    }\n",
       "</style>\n",
       "<table border=\"1\" class=\"dataframe\">\n",
       "  <thead>\n",
       "    <tr style=\"text-align: right;\">\n",
       "      <th></th>\n",
       "      <th>notas</th>\n",
       "      <th>elenco</th>\n",
       "      <th>diretor</th>\n",
       "      <th>aleato</th>\n",
       "    </tr>\n",
       "  </thead>\n",
       "  <tbody>\n",
       "  </tbody>\n",
       "</table>\n",
       "</div>"
      ],
      "text/plain": [
       "Empty DataFrame\n",
       "Columns: [notas, elenco, diretor, aleato]\n",
       "Index: []"
      ]
     },
     "execution_count": 187,
     "metadata": {},
     "output_type": "execute_result"
    }
   ],
   "source": [
    "tb_filmes[(tb_filmes['notas'] > 9.5) & (tb_filmes['diretor'] == 'Ridley Scott')]"
   ]
  },
  {
   "cell_type": "code",
   "execution_count": 186,
   "metadata": {},
   "outputs": [
    {
     "data": {
      "text/html": [
       "<div>\n",
       "<style scoped>\n",
       "    .dataframe tbody tr th:only-of-type {\n",
       "        vertical-align: middle;\n",
       "    }\n",
       "\n",
       "    .dataframe tbody tr th {\n",
       "        vertical-align: top;\n",
       "    }\n",
       "\n",
       "    .dataframe thead th {\n",
       "        text-align: right;\n",
       "    }\n",
       "</style>\n",
       "<table border=\"1\" class=\"dataframe\">\n",
       "  <thead>\n",
       "    <tr style=\"text-align: right;\">\n",
       "      <th></th>\n",
       "      <th>notas</th>\n",
       "      <th>elenco</th>\n",
       "      <th>diretor</th>\n",
       "      <th>aleato</th>\n",
       "    </tr>\n",
       "  </thead>\n",
       "  <tbody>\n",
       "    <tr>\n",
       "      <th>Alien</th>\n",
       "      <td>8.4</td>\n",
       "      <td>[Sigourney Weaver, Ian Holm]</td>\n",
       "      <td>Ridley Scott</td>\n",
       "      <td>84.0</td>\n",
       "    </tr>\n",
       "    <tr>\n",
       "      <th>Dune</th>\n",
       "      <td>8.2</td>\n",
       "      <td>[Timothée Chalamet, Zendaya]</td>\n",
       "      <td>Denis Villeneuve</td>\n",
       "      <td>82.0</td>\n",
       "    </tr>\n",
       "    <tr>\n",
       "      <th>House of Gucci</th>\n",
       "      <td>7.0</td>\n",
       "      <td>[Lady Gaga, Adam Driver, Al Pacino]</td>\n",
       "      <td>Ridley Scott</td>\n",
       "      <td>70.0</td>\n",
       "    </tr>\n",
       "    <tr>\n",
       "      <th>Joker</th>\n",
       "      <td>8.4</td>\n",
       "      <td>[Joaquin Phoenix]</td>\n",
       "      <td>Todd Phillips</td>\n",
       "      <td>84.0</td>\n",
       "    </tr>\n",
       "  </tbody>\n",
       "</table>\n",
       "</div>"
      ],
      "text/plain": [
       "                notas                               elenco           diretor  \\\n",
       "Alien             8.4         [Sigourney Weaver, Ian Holm]      Ridley Scott   \n",
       "Dune              8.2         [Timothée Chalamet, Zendaya]  Denis Villeneuve   \n",
       "House of Gucci    7.0  [Lady Gaga, Adam Driver, Al Pacino]      Ridley Scott   \n",
       "Joker             8.4                    [Joaquin Phoenix]     Todd Phillips   \n",
       "\n",
       "                aleato  \n",
       "Alien             84.0  \n",
       "Dune              82.0  \n",
       "House of Gucci    70.0  \n",
       "Joker             84.0  "
      ]
     },
     "execution_count": 186,
     "metadata": {},
     "output_type": "execute_result"
    }
   ],
   "source": [
    "tb_filmes[(tb_filmes['notas'] > 8) | (tb_filmes['diretor'] == 'Ridley Scott')]"
   ]
  },
  {
   "cell_type": "markdown",
   "metadata": {},
   "source": [
    "### Combinando Máscaras, Filtros e `.loc`s\n",
    "\n",
    "Podemos utilizar as nossas máscaras dentro de indexações feitas utilizando o `.loc` (ou `.iloc`):"
   ]
  },
  {
   "cell_type": "code",
   "execution_count": 188,
   "metadata": {
    "ExecuteTime": {
     "end_time": "2021-12-01T00:17:52.580433Z",
     "start_time": "2021-12-01T00:17:52.564455Z"
    }
   },
   "outputs": [
    {
     "data": {
      "text/plain": [
       "Alien    [Sigourney Weaver, Ian Holm]\n",
       "Name: elenco, dtype: object"
      ]
     },
     "execution_count": 188,
     "metadata": {},
     "output_type": "execute_result"
    }
   ],
   "source": [
    "tb_filmes.loc[filmes_rs_bons, 'elenco']"
   ]
  },
  {
   "cell_type": "code",
   "execution_count": 189,
   "metadata": {},
   "outputs": [
    {
     "data": {
      "text/html": [
       "<div>\n",
       "<style scoped>\n",
       "    .dataframe tbody tr th:only-of-type {\n",
       "        vertical-align: middle;\n",
       "    }\n",
       "\n",
       "    .dataframe tbody tr th {\n",
       "        vertical-align: top;\n",
       "    }\n",
       "\n",
       "    .dataframe thead th {\n",
       "        text-align: right;\n",
       "    }\n",
       "</style>\n",
       "<table border=\"1\" class=\"dataframe\">\n",
       "  <thead>\n",
       "    <tr style=\"text-align: right;\">\n",
       "      <th></th>\n",
       "      <th>elenco</th>\n",
       "      <th>diretor</th>\n",
       "    </tr>\n",
       "  </thead>\n",
       "  <tbody>\n",
       "    <tr>\n",
       "      <th>Alien</th>\n",
       "      <td>[Sigourney Weaver, Ian Holm]</td>\n",
       "      <td>Ridley Scott</td>\n",
       "    </tr>\n",
       "    <tr>\n",
       "      <th>Dune</th>\n",
       "      <td>[Timothée Chalamet, Zendaya]</td>\n",
       "      <td>Denis Villeneuve</td>\n",
       "    </tr>\n",
       "    <tr>\n",
       "      <th>House of Gucci</th>\n",
       "      <td>[Lady Gaga, Adam Driver, Al Pacino]</td>\n",
       "      <td>Ridley Scott</td>\n",
       "    </tr>\n",
       "    <tr>\n",
       "      <th>Joker</th>\n",
       "      <td>[Joaquin Phoenix]</td>\n",
       "      <td>Todd Phillips</td>\n",
       "    </tr>\n",
       "  </tbody>\n",
       "</table>\n",
       "</div>"
      ],
      "text/plain": [
       "                                             elenco           diretor\n",
       "Alien                  [Sigourney Weaver, Ian Holm]      Ridley Scott\n",
       "Dune                   [Timothée Chalamet, Zendaya]  Denis Villeneuve\n",
       "House of Gucci  [Lady Gaga, Adam Driver, Al Pacino]      Ridley Scott\n",
       "Joker                             [Joaquin Phoenix]     Todd Phillips"
      ]
     },
     "execution_count": 189,
     "metadata": {},
     "output_type": "execute_result"
    }
   ],
   "source": [
    "tb_filmes.loc[filmes_rs_ou_bons, ['elenco', 'diretor']]"
   ]
  },
  {
   "cell_type": "markdown",
   "metadata": {},
   "source": [
    "A última forma nos permite filtrar linhas ao mesmo tempo que selecionamos colunas específicas. Por fim, podemos utilizar o próprio índice de um `DataFrame` como origem de uma máscara:"
   ]
  },
  {
   "cell_type": "code",
   "execution_count": 190,
   "metadata": {
    "ExecuteTime": {
     "end_time": "2021-12-01T00:21:15.142501Z",
     "start_time": "2021-12-01T00:21:15.126547Z"
    }
   },
   "outputs": [
    {
     "data": {
      "text/plain": [
       "Index(['Alien', 'Aliens', 'Dune', 'Dune (David Lynch)', 'House of Gucci',\n",
       "       'Joker', 'Titanic'],\n",
       "      dtype='object')"
      ]
     },
     "execution_count": 190,
     "metadata": {},
     "output_type": "execute_result"
    }
   ],
   "source": [
    "tb_filmes.index"
   ]
  },
  {
   "cell_type": "code",
   "execution_count": 195,
   "metadata": {
    "ExecuteTime": {
     "end_time": "2021-12-01T00:21:35.241868Z",
     "start_time": "2021-12-01T00:21:35.235883Z"
    }
   },
   "outputs": [
    {
     "data": {
      "text/plain": [
       "notas                                  NaN\n",
       "elenco     [Sigourney Weaver, Paul Reiser]\n",
       "diretor                      James Cameron\n",
       "aleato                                 NaN\n",
       "Name: Aliens, dtype: object"
      ]
     },
     "execution_count": 195,
     "metadata": {},
     "output_type": "execute_result"
    }
   ],
   "source": [
    "tb_filmes.loc[tb_filmes.index == 'Aliens']"
   ]
  },
  {
   "cell_type": "code",
   "execution_count": null,
   "metadata": {},
   "outputs": [],
   "source": []
  }
 ],
 "metadata": {
  "hide_input": false,
  "kernelspec": {
   "display_name": "Python 3 (ipykernel)",
   "language": "python",
   "name": "python3"
  },
  "language_info": {
   "codemirror_mode": {
    "name": "ipython",
    "version": 3
   },
   "file_extension": ".py",
   "mimetype": "text/x-python",
   "name": "python",
   "nbconvert_exporter": "python",
   "pygments_lexer": "ipython3",
   "version": "3.9.11"
  },
  "toc": {
   "base_numbering": 1,
   "nav_menu": {
    "height": "298px",
    "width": "274px"
   },
   "number_sections": true,
   "sideBar": false,
   "skip_h1_title": false,
   "title_cell": "Table of Contents",
   "title_sidebar": "Contents",
   "toc_cell": false,
   "toc_position": {
    "height": "46.65625px",
    "left": "1093px",
    "top": "552px",
    "width": "158.6979217529297px"
   },
   "toc_section_display": false,
   "toc_window_display": true
  }
 },
 "nbformat": 4,
 "nbformat_minor": 4
}
