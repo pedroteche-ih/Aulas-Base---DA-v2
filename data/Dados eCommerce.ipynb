{
 "cells": [
  {
   "cell_type": "markdown",
   "metadata": {},
   "source": [
    "fonte: https://data.world/uci/online-retail"
   ]
  },
  {
   "cell_type": "code",
   "execution_count": 2,
   "metadata": {},
   "outputs": [],
   "source": [
    "import pandas as pd\n",
    "import numpy as np"
   ]
  },
  {
   "cell_type": "code",
   "execution_count": 3,
   "metadata": {},
   "outputs": [],
   "source": [
    "tb_retail = pd.read_excel('Online Retail.xlsx')"
   ]
  },
  {
   "cell_type": "code",
   "execution_count": 4,
   "metadata": {},
   "outputs": [
    {
     "name": "stdout",
     "output_type": "stream",
     "text": [
      "<class 'pandas.core.frame.DataFrame'>\n",
      "RangeIndex: 541909 entries, 0 to 541908\n",
      "Data columns (total 8 columns):\n",
      " #   Column       Non-Null Count   Dtype         \n",
      "---  ------       --------------   -----         \n",
      " 0   InvoiceNo    541909 non-null  object        \n",
      " 1   StockCode    541909 non-null  object        \n",
      " 2   Description  540455 non-null  object        \n",
      " 3   Quantity     541909 non-null  int64         \n",
      " 4   InvoiceDate  541909 non-null  datetime64[ns]\n",
      " 5   UnitPrice    541909 non-null  float64       \n",
      " 6   CustomerID   406829 non-null  float64       \n",
      " 7   Country      541909 non-null  object        \n",
      "dtypes: datetime64[ns](1), float64(2), int64(1), object(4)\n",
      "memory usage: 33.1+ MB\n"
     ]
    }
   ],
   "source": [
    "tb_retail.info()"
   ]
  },
  {
   "cell_type": "code",
   "execution_count": 5,
   "metadata": {},
   "outputs": [
    {
     "data": {
      "text/plain": [
       "1933"
      ]
     },
     "execution_count": 5,
     "metadata": {},
     "output_type": "execute_result"
    }
   ],
   "source": [
    "(tb_retail[\"CustomerID\"].value_counts()  > 50).sum()"
   ]
  },
  {
   "cell_type": "code",
   "execution_count": 6,
   "metadata": {},
   "outputs": [],
   "source": [
    "tb_client = pd.DataFrame({'num_pedidos' : tb_retail[\"CustomerID\"].value_counts()})\n",
    "tb_client['cum_rep'] = np.cumsum(tb_client['num_pedidos'])/sum(tb_client['num_pedidos'])\n",
    "client_list = tb_client[tb_client['cum_rep'] < 0.95].index"
   ]
  },
  {
   "cell_type": "code",
   "execution_count": 7,
   "metadata": {},
   "outputs": [
    {
     "name": "stdout",
     "output_type": "stream",
     "text": [
      "<class 'pandas.core.frame.DataFrame'>\n",
      "Int64Index: 386465 entries, 0 to 541908\n",
      "Data columns (total 8 columns):\n",
      " #   Column       Non-Null Count   Dtype         \n",
      "---  ------       --------------   -----         \n",
      " 0   InvoiceNo    386465 non-null  object        \n",
      " 1   StockCode    386465 non-null  object        \n",
      " 2   Description  386465 non-null  object        \n",
      " 3   Quantity     386465 non-null  int64         \n",
      " 4   InvoiceDate  386465 non-null  datetime64[ns]\n",
      " 5   UnitPrice    386465 non-null  float64       \n",
      " 6   CustomerID   386465 non-null  float64       \n",
      " 7   Country      386465 non-null  object        \n",
      "dtypes: datetime64[ns](1), float64(2), int64(1), object(4)\n",
      "memory usage: 26.5+ MB\n"
     ]
    }
   ],
   "source": [
    "mask_rel = tb_retail['CustomerID'].isin(client_list)\n",
    "tb_relevant_retail = tb_retail[mask_rel].copy()\n",
    "tb_relevant_retail.info()"
   ]
  },
  {
   "cell_type": "code",
   "execution_count": 13,
   "metadata": {},
   "outputs": [],
   "source": [
    "tb_prod = pd.DataFrame({'num_pedidos' : tb_relevant_retail[\"StockCode\"].value_counts()})\n",
    "tb_prod['cum_rep'] = np.cumsum(tb_prod['num_pedidos'])/sum(tb_prod['num_pedidos'])\n",
    "product_list = tb_prod[tb_prod['cum_rep'] < 0.70].index"
   ]
  },
  {
   "cell_type": "code",
   "execution_count": 14,
   "metadata": {},
   "outputs": [
    {
     "name": "stdout",
     "output_type": "stream",
     "text": [
      "<class 'pandas.core.frame.DataFrame'>\n",
      "Int64Index: 256927 entries, 0 to 541908\n",
      "Data columns (total 8 columns):\n",
      " #   Column       Non-Null Count   Dtype         \n",
      "---  ------       --------------   -----         \n",
      " 0   InvoiceNo    256927 non-null  object        \n",
      " 1   StockCode    256927 non-null  object        \n",
      " 2   Description  256927 non-null  object        \n",
      " 3   Quantity     256927 non-null  int64         \n",
      " 4   InvoiceDate  256927 non-null  datetime64[ns]\n",
      " 5   UnitPrice    256927 non-null  float64       \n",
      " 6   CustomerID   256927 non-null  float64       \n",
      " 7   Country      256927 non-null  object        \n",
      "dtypes: datetime64[ns](1), float64(2), int64(1), object(4)\n",
      "memory usage: 17.6+ MB\n"
     ]
    }
   ],
   "source": [
    "mask_rel = tb_relevant_retail['StockCode'].isin(product_list)\n",
    "tb_relevant_retail = tb_relevant_retail[mask_rel].copy()\n",
    "tb_relevant_retail.info()"
   ]
  },
  {
   "cell_type": "code",
   "execution_count": 15,
   "metadata": {},
   "outputs": [],
   "source": [
    "tb_relevant_retail_agg = tb_relevant_retail.groupby(['CustomerID', 'StockCode'])['Country'].count().reset_index()"
   ]
  },
  {
   "cell_type": "code",
   "execution_count": 16,
   "metadata": {},
   "outputs": [],
   "source": [
    "tb_client_product = pd.crosstab(\n",
    "    index = tb_relevant_retail_agg['CustomerID'], \n",
    "    columns = tb_relevant_retail_agg['StockCode']).reset_index()"
   ]
  },
  {
   "cell_type": "code",
   "execution_count": 17,
   "metadata": {},
   "outputs": [
    {
     "data": {
      "text/plain": [
       "(2783, 755)"
      ]
     },
     "execution_count": 17,
     "metadata": {},
     "output_type": "execute_result"
    }
   ],
   "source": [
    "tb_client_product.shape"
   ]
  },
  {
   "cell_type": "code",
   "execution_count": 18,
   "metadata": {},
   "outputs": [],
   "source": [
    "tb_client_product.to_csv('data/tb_client_product.csv', index = False)\n",
    "tb_relevant_retail.to_csv('data/tb_retail.csv', index = False)"
   ]
  },
  {
   "cell_type": "code",
   "execution_count": 2,
   "metadata": {},
   "outputs": [],
   "source": [
    "import pandas as pd"
   ]
  },
  {
   "cell_type": "code",
   "execution_count": 5,
   "metadata": {},
   "outputs": [],
   "source": [
    "tb_house = pd.read_csv('data/household_power_consumption.txt', \n",
    "                       sep = ';', decimal = '.', na_values='?')\n",
    "tb_house['date_time_str'] = tb_house['Date'] + \" \" + tb_house['Time']\n",
    "tb_house.columns = [x.lower() for x in tb_house.columns]\n",
    "tb_house = tb_house.dropna()\n",
    "tb_house_samp = tb_house.sample(10000)\n",
    "tb_house_samp['date_time'] = pd.to_datetime(tb_house_samp['date_time_str'])"
   ]
  },
  {
   "cell_type": "code",
   "execution_count": 7,
   "metadata": {},
   "outputs": [
    {
     "data": {
      "text/plain": [
       "Index(['date', 'time', 'global_active_power', 'global_reactive_power',\n",
       "       'voltage', 'global_intensity', 'sub_metering_1', 'sub_metering_2',\n",
       "       'sub_metering_3', 'date_time_str', 'date_time'],\n",
       "      dtype='object')"
      ]
     },
     "execution_count": 7,
     "metadata": {},
     "output_type": "execute_result"
    }
   ],
   "source": [
    "tb_house_samp.columns"
   ]
  },
  {
   "cell_type": "code",
   "execution_count": 8,
   "metadata": {},
   "outputs": [],
   "source": [
    "imp_vars = ['global_active_power', 'global_reactive_power', 'voltage', 'global_intensity', 'sub_metering_1', 'sub_metering_2', 'sub_metering_3', 'date_time']\n",
    "tb_house_samp[imp_vars].to_csv('data/tb_household_electricity.csv', index = False)"
   ]
  },
  {
   "cell_type": "code",
   "execution_count": null,
   "metadata": {},
   "outputs": [],
   "source": []
  }
 ],
 "metadata": {
  "kernelspec": {
   "display_name": "Python 3.9.11 ('base')",
   "language": "python",
   "name": "python3"
  },
  "language_info": {
   "codemirror_mode": {
    "name": "ipython",
    "version": 3
   },
   "file_extension": ".py",
   "mimetype": "text/x-python",
   "name": "python",
   "nbconvert_exporter": "python",
   "pygments_lexer": "ipython3",
   "version": "3.9.11"
  },
  "orig_nbformat": 4,
  "vscode": {
   "interpreter": {
    "hash": "014f4a4a5af8f0104b12c029e500f4146d6d785e8cf714d2a35b7a9514230cd3"
   }
  }
 },
 "nbformat": 4,
 "nbformat_minor": 2
}
