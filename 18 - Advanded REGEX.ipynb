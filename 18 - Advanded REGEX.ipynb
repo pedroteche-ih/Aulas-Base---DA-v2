{
 "cells": [
  {
   "cell_type": "code",
   "execution_count": null,
   "metadata": {
    "ExecuteTime": {
     "end_time": "2022-01-06T22:37:18.576079Z",
     "start_time": "2022-01-06T22:37:18.029541Z"
    }
   },
   "outputs": [],
   "source": [
    "import pandas as pd\n",
    "import numpy as np\n",
    "import re"
   ]
  },
  {
   "cell_type": "markdown",
   "metadata": {},
   "source": [
    "# Advanced REGEX\n",
    "\n",
    "Como vimos na aula de `strings` muitas vezes a forma mais simples de manipularmos um `string` é utilizando padrões REGEX.\n",
    "\n",
    "A utilização de REGEX é calcada na construção de **padrões**: ao invés de definir buscas simples (como quando procuramos uma sequência específica de caractéres), o REGEX nos permite construir padrões flexíveis, capaz de *encontrar*  sub-strings distintos. Já vimos como construir alguns padrões simples: hoje faremos uma revisão rápida dos conceitos básicos de REGEX e introduziremos novos conceitos, como grupos e os qualificadores para fim e começo.\n",
    "\n",
    "## Revisão de Expressões Regulares\n",
    "\n",
    "https://regexr.com/\n",
    "\n",
    "O aspecto fundamental para a utilização de REGEX é a construção do padrão de busca. Vamos revisar alguns "
   ]
  },
  {
   "cell_type": "code",
   "execution_count": null,
   "metadata": {
    "ExecuteTime": {
     "end_time": "2022-01-06T22:37:38.240066Z",
     "start_time": "2022-01-06T22:37:38.234061Z"
    }
   },
   "outputs": [],
   "source": [
    "texto = '''\n",
    "        Quando certa manhã Gregor Samsa acordou de sonhos intranquilos,\n",
    "        encontrou-se em sua cama metamorfoseado num inseto monstruoso.\n",
    "        '''"
   ]
  },
  {
   "cell_type": "markdown",
   "metadata": {},
   "source": [
    "### Padrões e Conjuntos\n",
    "\n",
    "A forma mais simples de utilizarmos um padrão é através de uma busca por *sub-string*. Padrões que não contém conjuntos ou carácteres especiais são chamados de **padrões literais**.\n",
    "\n",
    "#### Busca Literal"
   ]
  },
  {
   "cell_type": "code",
   "execution_count": null,
   "metadata": {
    "ExecuteTime": {
     "end_time": "2022-01-06T22:38:15.246386Z",
     "start_time": "2022-01-06T22:38:15.230780Z"
    }
   },
   "outputs": [],
   "source": [
    "print(re.findall('Samsa', texto))"
   ]
  },
  {
   "cell_type": "code",
   "execution_count": null,
   "metadata": {
    "ExecuteTime": {
     "end_time": "2022-01-06T22:38:44.027208Z",
     "start_time": "2022-01-06T22:38:44.016239Z"
    }
   },
   "outputs": [],
   "source": [
    "print(re.findall('so', texto))"
   ]
  },
  {
   "cell_type": "code",
   "execution_count": null,
   "metadata": {
    "ExecuteTime": {
     "end_time": "2022-01-06T22:39:45.012666Z",
     "start_time": "2022-01-06T22:39:45.004714Z"
    }
   },
   "outputs": [],
   "source": [
    "print(re.findall('SO', texto))"
   ]
  },
  {
   "cell_type": "code",
   "execution_count": null,
   "metadata": {
    "ExecuteTime": {
     "end_time": "2022-01-06T22:40:01.137608Z",
     "start_time": "2022-01-06T22:40:01.132619Z"
    }
   },
   "outputs": [],
   "source": [
    "print(re.findall('samsa', texto))"
   ]
  },
  {
   "cell_type": "code",
   "execution_count": null,
   "metadata": {},
   "outputs": [],
   "source": [
    "print(re.findall('metamorfose', texto))"
   ]
  },
  {
   "cell_type": "markdown",
   "metadata": {},
   "source": [
    "#### Conjuntos\n",
    "\n",
    "Podemos utilizar conjuntos para expandir nossa capacidade de busca. Vamos começar construindo um conjunto através do operador OR (`|`).\n",
    "\n",
    "##### Exemplo 1: `m|e|t|a|m|o|r|f|o|s|e`"
   ]
  },
  {
   "cell_type": "code",
   "execution_count": null,
   "metadata": {
    "ExecuteTime": {
     "end_time": "2022-01-06T22:42:21.184795Z",
     "start_time": "2022-01-06T22:42:21.166816Z"
    }
   },
   "outputs": [],
   "source": [
    "print(re.findall('m|e|t|a|m|o|r|f|o|s|e', texto))"
   ]
  },
  {
   "cell_type": "code",
   "execution_count": null,
   "metadata": {
    "ExecuteTime": {
     "end_time": "2022-01-06T22:44:02.335300Z",
     "start_time": "2022-01-06T22:44:02.328323Z"
    }
   },
   "outputs": [],
   "source": [
    "print(re.findall('[metamorfose]', texto))"
   ]
  },
  {
   "cell_type": "code",
   "execution_count": null,
   "metadata": {
    "ExecuteTime": {
     "end_time": "2022-01-06T22:44:08.296050Z",
     "start_time": "2022-01-06T22:44:08.273110Z"
    }
   },
   "outputs": [],
   "source": [
    "re.findall('[metamorfose]', texto) == re.findall('m|e|t|a|m|o|r|f|o|s|e', texto)"
   ]
  },
  {
   "cell_type": "markdown",
   "metadata": {},
   "source": [
    "##### Exemplo 2: Cidade de São Paulo"
   ]
  },
  {
   "cell_type": "code",
   "execution_count": null,
   "metadata": {
    "ExecuteTime": {
     "end_time": "2022-01-06T22:50:51.606966Z",
     "start_time": "2022-01-06T22:50:51.596993Z"
    }
   },
   "outputs": [],
   "source": [
    "text = 'São Paulo Sao Paulo Sáo Paulo Sun Paulo seu paulo san paolo sao paulo são paolo sAo Paolo sao_paulo'\n",
    "\n",
    "pattern = r'[Ss][ãaáàâAÃÁÀâeu][oun][ _][Pp]a[uo]lo'\n",
    "re.findall(pattern, text)"
   ]
  },
  {
   "cell_type": "code",
   "execution_count": null,
   "metadata": {},
   "outputs": [],
   "source": [
    "re.sub(pattern, 'São Paulo', text)"
   ]
  },
  {
   "cell_type": "code",
   "execution_count": null,
   "metadata": {
    "ExecuteTime": {
     "end_time": "2022-01-06T22:55:48.686842Z",
     "start_time": "2022-01-06T22:55:48.672880Z"
    }
   },
   "outputs": [],
   "source": [
    "nomes_sp = ['São Paulo', 'Sao Paulo', 'Sáo Paulo', \n",
    "            'Sun Paulo', 'seu paulo', 'san paolo', \n",
    "            'sao paulo', 'são paolo', 'sAo Paolo', \n",
    "            'sao_paulo', 'Rio de Janeiro']\n",
    "print(re.sub(pattern, 'São Paulo', nomes_sp[0]))"
   ]
  },
  {
   "cell_type": "code",
   "execution_count": null,
   "metadata": {
    "ExecuteTime": {
     "end_time": "2022-01-06T22:54:22.353312Z",
     "start_time": "2022-01-06T22:54:22.336358Z"
    }
   },
   "outputs": [],
   "source": [
    "print(re.sub(pattern, 'São Paulo', nomes_sp[1]))"
   ]
  },
  {
   "cell_type": "code",
   "execution_count": null,
   "metadata": {
    "ExecuteTime": {
     "end_time": "2022-01-06T22:54:28.206731Z",
     "start_time": "2022-01-06T22:54:27.945430Z"
    }
   },
   "outputs": [],
   "source": [
    "print(re.sub(pattern, 'São Paulo', nomes_sp))"
   ]
  },
  {
   "cell_type": "code",
   "execution_count": null,
   "metadata": {
    "ExecuteTime": {
     "end_time": "2022-01-06T22:55:58.695377Z",
     "start_time": "2022-01-06T22:55:58.691384Z"
    }
   },
   "outputs": [],
   "source": [
    "nome_sp_limpo = [re.sub(pattern, 'São Paulo', nome) for nome in nomes_sp]\n",
    "print(nome_sp_limpo)"
   ]
  },
  {
   "cell_type": "code",
   "execution_count": null,
   "metadata": {},
   "outputs": [],
   "source": [
    "tb_nomes = pd.DataFrame({'nome' : nomes_sp})\n",
    "tb_nomes.head()"
   ]
  },
  {
   "cell_type": "code",
   "execution_count": null,
   "metadata": {},
   "outputs": [],
   "source": [
    "tb_nomes['nome'].map(lambda x: re.sub(pattern, 'São Paulo', x))"
   ]
  },
  {
   "cell_type": "markdown",
   "metadata": {},
   "source": [
    "Qualquer coisa entre `[]`, em padrão REGEX, é um conjunto! Pensando nos strings de forma posicional, cada conjunto ocupa **apenas uma posição do string**! Por exemplo, o padrão `r'[Ss][AaÃãÂâÁáÀà]` tem comprimento dois: procurando `[Ss]` na primeira posição e `[AaÃãÂâÁáÀà]` na segunda!\n",
    "\n",
    "##### Atalhos para Conjunto\n",
    "\n",
    "Podemos utilizar a notação `r'[A-D]'` para construir padrões contendo todos os carácteres entre duas letras."
   ]
  },
  {
   "cell_type": "code",
   "execution_count": null,
   "metadata": {
    "ExecuteTime": {
     "end_time": "2022-01-06T22:58:15.305138Z",
     "start_time": "2022-01-06T22:58:15.293157Z"
    }
   },
   "outputs": [],
   "source": [
    "lista_tarefas = '''\n",
    "    A) cortar grama\n",
    "    B) arrumar porta\n",
    "    C) instalar calha\n",
    "    D) ligar para Pedro as 9\n",
    "    '''"
   ]
  },
  {
   "cell_type": "code",
   "execution_count": null,
   "metadata": {
    "ExecuteTime": {
     "end_time": "2022-01-06T22:58:36.773845Z",
     "start_time": "2022-01-06T22:58:36.764869Z"
    }
   },
   "outputs": [],
   "source": [
    "re.findall(r'A|B|C|D', lista_tarefas)"
   ]
  },
  {
   "cell_type": "code",
   "execution_count": null,
   "metadata": {
    "ExecuteTime": {
     "end_time": "2022-01-06T22:58:49.044366Z",
     "start_time": "2022-01-06T22:58:49.026414Z"
    }
   },
   "outputs": [],
   "source": [
    "re.findall(r'[ABCD]', lista_tarefas)"
   ]
  },
  {
   "cell_type": "code",
   "execution_count": null,
   "metadata": {
    "ExecuteTime": {
     "end_time": "2022-01-06T23:00:30.839557Z",
     "start_time": "2022-01-06T23:00:30.830583Z"
    }
   },
   "outputs": [],
   "source": [
    "re.findall(r'[A-D]', lista_tarefas)"
   ]
  },
  {
   "cell_type": "code",
   "execution_count": null,
   "metadata": {
    "ExecuteTime": {
     "end_time": "2022-01-06T23:00:39.353957Z",
     "start_time": "2022-01-06T23:00:39.342986Z"
    }
   },
   "outputs": [],
   "source": [
    "re.findall(r'[A-Z]', lista_tarefas)"
   ]
  },
  {
   "cell_type": "code",
   "execution_count": null,
   "metadata": {
    "ExecuteTime": {
     "end_time": "2022-01-06T23:02:02.810178Z",
     "start_time": "2022-01-06T23:02:02.793224Z"
    }
   },
   "outputs": [],
   "source": [
    "lista_tarefas = '''\n",
    "    1) cortar grama\n",
    "    2) arrumar porta\n",
    "        2a trocar fechadura\n",
    "    3) instalar calha\n",
    "    4) ligar para Pedro as 9 9983\n",
    "    '''\n",
    "re.findall('1|2|3|4', lista_tarefas)"
   ]
  },
  {
   "cell_type": "code",
   "execution_count": null,
   "metadata": {
    "ExecuteTime": {
     "end_time": "2022-01-06T23:01:25.400315Z",
     "start_time": "2022-01-06T23:01:25.388347Z"
    }
   },
   "outputs": [],
   "source": [
    "re.findall(r'[1234]', lista_tarefas)"
   ]
  },
  {
   "cell_type": "code",
   "execution_count": null,
   "metadata": {
    "ExecuteTime": {
     "end_time": "2022-01-06T23:01:37.341823Z",
     "start_time": "2022-01-06T23:01:37.331852Z"
    }
   },
   "outputs": [],
   "source": [
    "re.findall(r'[1-4]', lista_tarefas)"
   ]
  },
  {
   "cell_type": "code",
   "execution_count": null,
   "metadata": {
    "ExecuteTime": {
     "end_time": "2022-01-06T23:02:37.957714Z",
     "start_time": "2022-01-06T23:02:37.942750Z"
    }
   },
   "outputs": [],
   "source": [
    "re.findall(r'[0-9]', lista_tarefas)"
   ]
  },
  {
   "cell_type": "code",
   "execution_count": null,
   "metadata": {
    "ExecuteTime": {
     "end_time": "2022-01-06T23:03:09.683914Z",
     "start_time": "2022-01-06T23:03:09.663968Z"
    }
   },
   "outputs": [],
   "source": [
    "re.findall(r'[0-9A-Z]', lista_tarefas)"
   ]
  },
  {
   "cell_type": "code",
   "execution_count": null,
   "metadata": {
    "ExecuteTime": {
     "end_time": "2022-01-06T23:05:11.867704Z",
     "start_time": "2022-01-06T23:05:11.860724Z"
    }
   },
   "outputs": [],
   "source": [
    "re.findall(r'[0-9][a-z]', lista_tarefas)"
   ]
  },
  {
   "cell_type": "markdown",
   "metadata": {},
   "source": [
    "Os atalhos de conjunto mais úteis são:\n",
    "\n",
    "* [a-z]: Qualquer letra minúscula;\n",
    "* [A-Z]: Qualquer letra maiúscula;\n",
    "* [0-9]: Qualquer digito.\n",
    "\n",
    "#### Classes de Carácteres\n",
    "\n",
    "As classes de carácteres são *atalhos* para conjuntos comuns:\n",
    "\n",
    "* `\\d`: carácteres numéricos;\n",
    "* `\\w`: carácteres alfa-numéricos;\n",
    "* `\\s`: espaços;\n",
    "* `\\D`: carácteres não-numéricos."
   ]
  },
  {
   "cell_type": "code",
   "execution_count": null,
   "metadata": {
    "ExecuteTime": {
     "end_time": "2022-01-06T23:22:54.615426Z",
     "start_time": "2022-01-06T23:22:54.607453Z"
    }
   },
   "outputs": [],
   "source": [
    "text = 'aoijo (  $ p io x -o = 3232 13 ™¡¡™£¡Ωå 3.1 áéóãà'\n",
    "pattern = r'\\d'\n",
    "print(re.findall(pattern, text))"
   ]
  },
  {
   "cell_type": "code",
   "execution_count": null,
   "metadata": {
    "ExecuteTime": {
     "end_time": "2022-01-06T23:25:37.973127Z",
     "start_time": "2022-01-06T23:25:37.965148Z"
    }
   },
   "outputs": [],
   "source": [
    "text = 'aoijo (  $ p io x -o = 3232 13 ™¡¡™£¡Ωå 3.1 áéóãà'\n",
    "pattern = r'[\\D]'\n",
    "print(re.findall(pattern, text))"
   ]
  },
  {
   "cell_type": "markdown",
   "metadata": {},
   "source": [
    "## Quantificadores \n",
    "\n",
    "Assim como os conjuntos tornam os caracteres de uma posição flexíveis (`r'[Aa]'` encontra tanto `A` quanto `a` na primeira posição), os quantificadores tornam o número de posições que um conjunto (ou caractere) ocupam.\n",
    "\n",
    "* *: Encontra o caractere (ou conjunto) aterior 0 ou mais vezes consecutivas;\n",
    "* +: Encontra o caractere (ou conjunto) anterior 1 ou mais vezes consecutivas;\n",
    "* ?: Encontra o caractere (ou conjunto) anterior 0 ou 1 vez.\n",
    "\n",
    "Por exemplo, o padrão `r'a+'` encontra `'a'`, `'aa'`, `'aaa'`, etc..."
   ]
  },
  {
   "cell_type": "code",
   "execution_count": null,
   "metadata": {},
   "outputs": [],
   "source": [
    "text = 'a aa aaa aaaa aaaaa aaaaaa'\n",
    "pattern = r'a+'\n",
    "print(re.findall(pattern, text))"
   ]
  },
  {
   "cell_type": "markdown",
   "metadata": {},
   "source": [
    "Já o padrão `r'a*'` encontra `''`, `'a'`, `'aaa'`, etc..."
   ]
  },
  {
   "cell_type": "code",
   "execution_count": null,
   "metadata": {},
   "outputs": [],
   "source": [
    "text = 'a aa aaa aaaa aaaaa aaaaaa'\n",
    "pattern = r'a*'\n",
    "print(re.findall(pattern, text))"
   ]
  },
  {
   "cell_type": "markdown",
   "metadata": {},
   "source": [
    "Por fim, o padrão `r'ab?a*'` encontra todos os *sub-strings* que começam com `a`, possivelmente são seguidos de 1 `b` e podem ter múltiplos `a`s no final:\n",
    "\n",
    "1. `a`;\n",
    "1. `ab`;\n",
    "1. `aba`;\n",
    "1. `aa`;\n",
    "1. `abaa`;\n",
    "1. `...`"
   ]
  },
  {
   "cell_type": "code",
   "execution_count": null,
   "metadata": {},
   "outputs": [],
   "source": [
    "text = 'a aba baaa aaaba aaaaa aaaaaa'\n",
    "pattern = r'ab?a*'\n",
    "print(re.findall(pattern, text))"
   ]
  },
  {
   "cell_type": "markdown",
   "metadata": {},
   "source": [
    "Porque o padrão acima separou `aaaba` em `aaa` e `a`?\n",
    "\n",
    "### Exemplo - Encontrando números"
   ]
  },
  {
   "cell_type": "code",
   "execution_count": null,
   "metadata": {},
   "outputs": [],
   "source": [
    "text = '3.1 3,3 45,3 1000 0'\n",
    "pattern = r''\n",
    "print(re.findall(pattern, text))"
   ]
  },
  {
   "cell_type": "markdown",
   "metadata": {},
   "source": [
    "## Quantificadores Especiais\n",
    "O quantificador `{n}` funciona como um `+` controlado: podemos especificar quantas vezes queremos encontrar o caractere (ou conjunto) precendente:\n",
    "\n",
    "* {n} : Exatamente n-vezes;\n",
    "* {n,} : Pelo menos n-vezes;\n",
    "* {n,m} : Entre n e m vezes;"
   ]
  },
  {
   "cell_type": "code",
   "execution_count": null,
   "metadata": {},
   "outputs": [],
   "source": [
    "text = 'a aba baaa aaaba aaaaa aaaaaa'\n",
    "pattern = r'a{1}'\n",
    "print(re.findall(pattern, text))"
   ]
  },
  {
   "cell_type": "code",
   "execution_count": null,
   "metadata": {},
   "outputs": [],
   "source": [
    "text = 'a aba baaa aaaba aaaaa aaaaaa'\n",
    "pattern = r'a{2}'\n",
    "print(re.findall(pattern, text))"
   ]
  },
  {
   "cell_type": "code",
   "execution_count": null,
   "metadata": {},
   "outputs": [],
   "source": [
    "text = 'a aba baaa aaaba aaaaa aaaaaa'\n",
    "pattern = r'a{4}'\n",
    "print(re.findall(pattern, text))"
   ]
  },
  {
   "cell_type": "code",
   "execution_count": null,
   "metadata": {},
   "outputs": [],
   "source": [
    "text = 'a aba baaa aaaba aaaaa aaaaaa'\n",
    "pattern = r'a{2,}'\n",
    "print(re.findall(pattern, text))"
   ]
  },
  {
   "cell_type": "code",
   "execution_count": null,
   "metadata": {},
   "outputs": [],
   "source": [
    "text = 'a aba baaa aaaba aaaaa aaaaaa'\n",
    "pattern = r'a{2,3}'\n",
    "print(re.findall(pattern, text))"
   ]
  },
  {
   "cell_type": "markdown",
   "metadata": {},
   "source": [
    "#### Exemplo - Encontrando CPFs\n",
    "\n",
    "\n",
    "Vamos construir um padrão para encontrar número com formato de CPF em um string."
   ]
  },
  {
   "cell_type": "code",
   "execution_count": null,
   "metadata": {
    "ExecuteTime": {
     "end_time": "2022-01-06T23:40:08.200159Z",
     "start_time": "2022-01-06T23:40:08.187196Z"
    }
   },
   "outputs": [],
   "source": [
    "text = '339.211.273-23 33921127323 339.211.27323 119730 R$13542 43.544.23023'\n",
    "pattern = '[0-9]{1,3}\\.?[0-9]{3}\\.?[0-9]{3}-?[0-9]{1,2}'\n",
    "print(re.findall(pattern, text))"
   ]
  },
  {
   "cell_type": "markdown",
   "metadata": {},
   "source": [
    "## Meta-caracteres\n",
    "\n",
    "Meta-caracteres são caracteres *especiais*: o REGEX não os interpreta de forma literal. Se quisermos utilizar um meta-caractere literalmente (como o `.` no exemplo do CPF) devemos escapá-lo com `\\`.\n",
    "\n",
    "* `.` : Qualquer caractere exceto newline (`\\n`);\n",
    "* `[^]` : **Dentro de um conjunto** representa a negação (inverte o conjunto);\n",
    "* `^`: **Fora de um conjunto** representa o começo da linha;\n",
    "* `$` : Fim da linha;\n",
    "* `|` : Operador OU;"
   ]
  },
  {
   "cell_type": "markdown",
   "metadata": {},
   "source": [
    "### Limpando newlines com `.`\n",
    "\n",
    "O meta-caractere `.` pode ser utilizado para limparmos os `\\n` de um string:"
   ]
  },
  {
   "cell_type": "code",
   "execution_count": null,
   "metadata": {
    "ExecuteTime": {
     "end_time": "2022-01-06T23:13:27.266818Z",
     "start_time": "2022-01-06T23:13:27.253856Z"
    }
   },
   "outputs": [],
   "source": [
    "text = '''My boss asked me to turn in my TPS reports. \n",
    "I told him they were done, but they are not.'''\n",
    "pattern = r'.'\n",
    "print(re.findall(pattern, text))"
   ]
  },
  {
   "cell_type": "code",
   "execution_count": null,
   "metadata": {
    "ExecuteTime": {
     "end_time": "2022-01-06T23:13:27.844453Z",
     "start_time": "2022-01-06T23:13:27.838471Z"
    }
   },
   "outputs": [],
   "source": [
    "print(text)"
   ]
  },
  {
   "cell_type": "code",
   "execution_count": null,
   "metadata": {
    "ExecuteTime": {
     "end_time": "2022-01-06T23:13:28.186571Z",
     "start_time": "2022-01-06T23:13:28.179589Z"
    }
   },
   "outputs": [],
   "source": [
    "print(''.join(re.findall(pattern, text)))"
   ]
  },
  {
   "cell_type": "markdown",
   "metadata": {},
   "source": [
    "### Negando Conjuntos\n",
    "\n",
    "Dentro de um conjunto, o caractere `[^]` representa a negação do conjunto (encontramos tudo **QUE NÃO ESTÁ NO CONJUNTO**). Muitas vezes é mais fácil especificar **O QUE NÃO QUEREMOS** do que o que queremos!"
   ]
  },
  {
   "cell_type": "code",
   "execution_count": null,
   "metadata": {
    "ExecuteTime": {
     "end_time": "2022-01-06T23:15:57.888648Z",
     "start_time": "2022-01-06T23:15:57.870693Z"
    }
   },
   "outputs": [],
   "source": [
    "text = \"\"\"My boss asked me to turn in my TPS reports. \n",
    "I told him they were done, but they are not.\"\"\"\n",
    "pattern = r'[^a-mA-M]'\n",
    "print(re.findall(pattern, text))"
   ]
  },
  {
   "cell_type": "code",
   "execution_count": null,
   "metadata": {
    "ExecuteTime": {
     "end_time": "2022-01-06T23:15:58.232725Z",
     "start_time": "2022-01-06T23:15:58.217766Z"
    }
   },
   "outputs": [],
   "source": [
    "print(''.join(re.findall(pattern, text)))"
   ]
  },
  {
   "cell_type": "markdown",
   "metadata": {},
   "source": [
    "### Encontrando padrões no começo ou fim do string\n",
    "\n",
    "Os caracteres `^` e `$` nos permitem encontrar o começo ou fim, respectivamente, de um string."
   ]
  },
  {
   "cell_type": "code",
   "execution_count": null,
   "metadata": {
    "ExecuteTime": {
     "end_time": "2022-01-06T23:20:51.152173Z",
     "start_time": "2022-01-06T23:20:51.134219Z"
    }
   },
   "outputs": [],
   "source": [
    "text = '''My boss asked me to turn in my TPS reports.\n",
    "The boss told him they were done, but they are not.'''"
   ]
  },
  {
   "cell_type": "code",
   "execution_count": null,
   "metadata": {
    "ExecuteTime": {
     "end_time": "2022-01-06T23:17:14.498697Z",
     "start_time": "2022-01-06T23:17:14.485733Z"
    }
   },
   "outputs": [],
   "source": [
    "pattern = r'^My boss'\n",
    "re.findall(pattern, text)"
   ]
  },
  {
   "cell_type": "code",
   "execution_count": null,
   "metadata": {
    "ExecuteTime": {
     "end_time": "2022-01-06T23:18:50.181978Z",
     "start_time": "2022-01-06T23:18:50.173998Z"
    }
   },
   "outputs": [],
   "source": [
    "pattern = r'^The boss'\n",
    "re.findall(pattern, text)"
   ]
  },
  {
   "cell_type": "markdown",
   "metadata": {},
   "source": [
    "O padrão do REGEX no Python é considerar o começo e fim do **string** como um todo. Podemos alterar esse padrão para que eles encontrem o começo e fim de cada nova linha (criada com `\\n`)."
   ]
  },
  {
   "cell_type": "code",
   "execution_count": null,
   "metadata": {
    "ExecuteTime": {
     "end_time": "2022-01-06T23:19:14.929700Z",
     "start_time": "2022-01-06T23:19:14.909726Z"
    }
   },
   "outputs": [],
   "source": [
    "pattern = r'^The boss'\n",
    "re.findall(pattern, text, re.MULTILINE)"
   ]
  },
  {
   "cell_type": "code",
   "execution_count": null,
   "metadata": {
    "ExecuteTime": {
     "end_time": "2022-01-06T23:20:58.414888Z",
     "start_time": "2022-01-06T23:20:58.408933Z"
    }
   },
   "outputs": [],
   "source": [
    "pattern = r'are not.$'\n",
    "re.findall(pattern, text)"
   ]
  },
  {
   "cell_type": "code",
   "execution_count": null,
   "metadata": {
    "ExecuteTime": {
     "end_time": "2022-01-06T23:21:41.418041Z",
     "start_time": "2022-01-06T23:21:41.409063Z"
    }
   },
   "outputs": [],
   "source": [
    "pattern = 'reports.$'\n",
    "re.findall(pattern, text, re.MULTILINE)"
   ]
  },
  {
   "cell_type": "markdown",
   "metadata": {},
   "source": [
    "### Aplicando `$` com `*`"
   ]
  },
  {
   "cell_type": "code",
   "execution_count": null,
   "metadata": {
    "ExecuteTime": {
     "end_time": "2022-01-06T23:49:48.061115Z",
     "start_time": "2022-01-06T23:49:48.053131Z"
    }
   },
   "outputs": [],
   "source": [
    "text = '''My boss asked me to turn. in my TPS reports.\n",
    "My boss told him they were done, but they are not.'''"
   ]
  },
  {
   "cell_type": "code",
   "execution_count": null,
   "metadata": {
    "ExecuteTime": {
     "end_time": "2022-01-06T23:46:47.919268Z",
     "start_time": "2022-01-06T23:46:47.904308Z"
    }
   },
   "outputs": [],
   "source": [
    "re.findall(r'are not.$', text)"
   ]
  },
  {
   "cell_type": "code",
   "execution_count": null,
   "metadata": {
    "ExecuteTime": {
     "end_time": "2022-01-06T23:47:33.069791Z",
     "start_time": "2022-01-06T23:47:33.064804Z"
    }
   },
   "outputs": [],
   "source": [
    "re.findall(r'.are not.$', text)"
   ]
  },
  {
   "cell_type": "code",
   "execution_count": null,
   "metadata": {
    "ExecuteTime": {
     "end_time": "2022-01-06T23:47:50.027819Z",
     "start_time": "2022-01-06T23:47:50.009840Z"
    }
   },
   "outputs": [],
   "source": [
    "re.findall(r'.*are not.$', text)"
   ]
  },
  {
   "cell_type": "code",
   "execution_count": null,
   "metadata": {
    "ExecuteTime": {
     "end_time": "2022-01-06T23:49:58.074320Z",
     "start_time": "2022-01-06T23:49:58.055371Z"
    }
   },
   "outputs": [],
   "source": [
    "re.findall(r'.*\\.$', text, re.MULTILINE)"
   ]
  },
  {
   "cell_type": "markdown",
   "metadata": {},
   "source": [
    "## Ganância (Greediness)\n",
    "https://docs.python.org/3/howto/regex.html#greedy-versus-non-greedy"
   ]
  },
  {
   "cell_type": "code",
   "execution_count": null,
   "metadata": {
    "ExecuteTime": {
     "end_time": "2022-01-06T23:51:18.011015Z",
     "start_time": "2022-01-06T23:51:18.000044Z"
    }
   },
   "outputs": [],
   "source": [
    "text = 'You are yelling! So I will yell too! Let me yell!'"
   ]
  },
  {
   "cell_type": "code",
   "execution_count": null,
   "metadata": {
    "ExecuteTime": {
     "end_time": "2022-01-06T23:51:18.448802Z",
     "start_time": "2022-01-06T23:51:18.439819Z"
    }
   },
   "outputs": [],
   "source": [
    "pattern = r'.*!'\n",
    "print(re.findall(pattern, text))"
   ]
  },
  {
   "cell_type": "markdown",
   "metadata": {},
   "source": [
    "When repeating a regular expression, as in a*, **the resulting action is to consume as much of the pattern as possible.**"
   ]
  },
  {
   "cell_type": "code",
   "execution_count": null,
   "metadata": {
    "ExecuteTime": {
     "end_time": "2022-01-06T23:51:48.419804Z",
     "start_time": "2022-01-06T23:51:48.409827Z"
    }
   },
   "outputs": [],
   "source": [
    "pattern = r'[ a-zA-Z]*!'\n",
    "print(re.findall(pattern, text))"
   ]
  },
  {
   "cell_type": "markdown",
   "metadata": {},
   "source": [
    "## Utilizando `grupos`\n",
    "\n",
    "Até agora, utilizamos padrões para extrair substrings completos. Muitas vezes, no entanto, queremos utilizar um REGEX para extrair múltiplas informações de um mesmo string a partir de uma estrutura determinada. Para isto, usaremos grupos!\n",
    "\n",
    "https://docs.python.org/3/howto/regex.html#grouping"
   ]
  },
  {
   "cell_type": "code",
   "execution_count": null,
   "metadata": {
    "ExecuteTime": {
     "end_time": "2022-01-07T00:06:46.165483Z",
     "start_time": "2022-01-07T00:06:46.153516Z"
    }
   },
   "outputs": [],
   "source": [
    "text = '''\n",
    "From: author@example.com\n",
    "User-Agent: Thunderbird 1.5.0.9 (X11/20061227)\n",
    "MIME-Version: 1.0\n",
    "To: editor@example.com\n",
    "'''"
   ]
  },
  {
   "cell_type": "code",
   "execution_count": null,
   "metadata": {
    "ExecuteTime": {
     "end_time": "2022-01-07T00:06:46.696516Z",
     "start_time": "2022-01-07T00:06:46.676571Z"
    }
   },
   "outputs": [],
   "source": [
    "pattern = r'(.*):(.*)'\n",
    "re.findall(pattern, text)"
   ]
  },
  {
   "cell_type": "markdown",
   "metadata": {},
   "source": [
    "O resultado de um REGEX feito a partir de um padrão com grupos é uma lista de tuplas. Cada elemento da lista corresponde à um match do padrão completo e cada elemento da tupla corresponde à um grupo do padrão (mesmo que este grupo esteja vazio):"
   ]
  },
  {
   "cell_type": "code",
   "execution_count": null,
   "metadata": {},
   "outputs": [],
   "source": [
    "text = '''\n",
    "From:\n",
    "User-Agent: Thunderbird 1.5.0.9 (X11/20061227)\n",
    "MIME-Version: 1.0\n",
    "To: editor@example.com\n",
    "'''\n",
    "pattern = r'(.*):(.*)'\n",
    "re.findall(pattern, text)"
   ]
  },
  {
   "cell_type": "markdown",
   "metadata": {},
   "source": [
    "### Exemplo - Separação de Códgio Internacional, DDDs e Telefones\n",
    "\n",
    "Uma tarefa comum que encontramos no tratamento de `strings` é a separação de um string semi-estruturado (por exemplo, um telefone) em seus componentes."
   ]
  },
  {
   "cell_type": "code",
   "execution_count": null,
   "metadata": {},
   "outputs": [],
   "source": [
    "lista_telefone = ['+55(19)35613675', '+55(11)29934999', '+1(678)818977222', '+1(544)932226172']"
   ]
  },
  {
   "cell_type": "code",
   "execution_count": null,
   "metadata": {},
   "outputs": [],
   "source": [
    "pattern = r'\\+([0-9]*)\\(([0-9]*)\\)([0-9]*)'\n",
    "[re.findall(pattern, telefone) for telefone in lista_telefone]"
   ]
  }
 ],
 "metadata": {
  "hide_input": false,
  "kernelspec": {
   "display_name": "Python 3.9.11 ('base')",
   "language": "python",
   "name": "python3"
  },
  "language_info": {
   "codemirror_mode": {
    "name": "ipython",
    "version": 3
   },
   "file_extension": ".py",
   "mimetype": "text/x-python",
   "name": "python",
   "nbconvert_exporter": "python",
   "pygments_lexer": "ipython3",
   "version": "3.9.11"
  },
  "toc": {
   "base_numbering": 1,
   "nav_menu": {},
   "number_sections": true,
   "sideBar": true,
   "skip_h1_title": false,
   "title_cell": "Table of Contents",
   "title_sidebar": "Contents",
   "toc_cell": false,
   "toc_position": {
    "height": "calc(100% - 180px)",
    "left": "10px",
    "top": "150px",
    "width": "258.182px"
   },
   "toc_section_display": true,
   "toc_window_display": false
  },
  "toc-autonumbering": false,
  "varInspector": {
   "cols": {
    "lenName": 16,
    "lenType": 16,
    "lenVar": 40
   },
   "kernels_config": {
    "python": {
     "delete_cmd_postfix": "",
     "delete_cmd_prefix": "del ",
     "library": "var_list.py",
     "varRefreshCmd": "print(var_dic_list())"
    },
    "r": {
     "delete_cmd_postfix": ") ",
     "delete_cmd_prefix": "rm(",
     "library": "var_list.r",
     "varRefreshCmd": "cat(var_dic_list()) "
    }
   },
   "types_to_exclude": [
    "module",
    "function",
    "builtin_function_or_method",
    "instance",
    "_Feature"
   ],
   "window_display": false
  },
  "vscode": {
   "interpreter": {
    "hash": "014f4a4a5af8f0104b12c029e500f4146d6d785e8cf714d2a35b7a9514230cd3"
   }
  }
 },
 "nbformat": 4,
 "nbformat_minor": 4
}
